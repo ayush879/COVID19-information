{
 "cells": [
  {
   "cell_type": "markdown",
   "metadata": {},
   "source": [
    "![covid-header](https://raw.githubusercontent.com/josehenriqueroveda/covid-dashboard/master/img/header.jpg)"
   ]
  },
  {
   "cell_type": "markdown",
   "metadata": {},
   "source": [
    "<h1><center>What is COVID-19?</center></h1>\n",
    "\n",
    "<p><center>Coronavirus disease 2019 (COVID-19) is defined as illness caused by a novel coronavirus now called severe acute respiratory syndrome coronavirus 2 (SARS-CoV-2; formerly called 2019-nCoV).\n",
    "The virus is transmitted through direct contact with respiratory droplets of an infected person (generated through coughing and sneezing), and touching surfaces contaminated with the virus. The virus may survive on surfaces for several hours, but simple disinfectants can kill it.</center></p>"
   ]
  },
  {
   "cell_type": "markdown",
   "metadata": {},
   "source": [
    "<h1><center> What are the symptoms of novel coronavirus?</center></h1>\n",
    "\n",
    "<p><center>People with COVID-19 have had a wide range of symptoms reported – ranging from mild symptoms to severe illness. Symptoms may appear 2-14 days after exposure to the virus. People with these symptoms may have COVID-19:</center></p>\n",
    "\n",
    "<center>\n",
    " <table style=\"width:100%\">\n",
    "  <tr>\n",
    "    <td style=\"text-align:center\"> <img align=\"center\" src=\"https://raw.githubusercontent.com/josehenriqueroveda/covid-dashboard/master/img/fever.png\"\n",
    "     alt=\"Fever\" width=\"80\"\n",
    "     style=\"float: center;\" /></td>\n",
    "    <td style=\"text-align:center\"> <img align=\"center\" src=\"https://raw.githubusercontent.com/josehenriqueroveda/covid-dashboard/master/img/cough.png\"\n",
    "     alt=\"Fever\" width=\"80\"\n",
    "     style=\"float: center;\" /></td>\n",
    "    <td style=\"text-align:center\"><img align=\"center\" src=\"https://raw.githubusercontent.com/josehenriqueroveda/covid-dashboard/master/img/lungs.png\"\n",
    "     alt=\"Shortness of breath\" width=\"80\"\n",
    "     style=\"float: center;\" /></td>\n",
    "  </tr>\n",
    "  <tr>\n",
    "    <td style=\"text-align:center\"><b><p style=\"color:cornflowerblue; font-size:20px; text-align:center\">Fever</p></b></td>\n",
    "    <td style=\"text-align:center\"><b><p style=\"color:cornflowerblue; font-size:20px; text-align:center\">Cough</p></b></td>\n",
    "    <td style=\"text-align:center\"><b><p style=\"color:cornflowerblue; font-size:20px; text-align:center\">Shortness of breath</p></b></td>\n",
    "  </tr>\n",
    "</table>\n",
    "</center>"
   ]
  },
  {
   "cell_type": "code",
   "execution_count": 1,
   "metadata": {
    "_cell_guid": "79c7e3d0-c299-4dcb-8224-4455121ee9b0",
    "_uuid": "d629ff2d2480ee46fbb7e2d37f6b5fab8052498a"
   },
   "outputs": [],
   "source": [
    "# Imports\n",
    "from __future__ import print_function\n",
    "\n",
    "import pandas as pd\n",
    "import numpy as np\n",
    "import plotly.express as px\n",
    "import plotly.graph_objects as go\n",
    "from IPython.core.display import display, HTML\n",
    "\n",
    "from ipywidgets import interact, interactive, fixed, interact_manual\n",
    "import ipywidgets as widgets"
   ]
  },
  {
   "cell_type": "code",
   "execution_count": 2,
   "metadata": {},
   "outputs": [],
   "source": [
    "# Data used from John Hopkins COVID-19\n",
    "df_deaths = pd.read_csv('https://raw.githubusercontent.com/CSSEGISandData/COVID-19/master/csse_covid_19_data/csse_covid_19_time_series/time_series_covid19_deaths_global.csv')\n",
    "df_cases = pd.read_csv('https://raw.githubusercontent.com/CSSEGISandData/COVID-19/master/csse_covid_19_data/csse_covid_19_time_series/time_series_covid19_confirmed_global.csv')\n",
    "df_recovered = pd.read_csv('https://raw.githubusercontent.com/CSSEGISandData/COVID-19/master/csse_covid_19_data/csse_covid_19_time_series/time_series_covid19_recovered_global.csv')\n",
    "df_general = pd.read_csv('https://raw.githubusercontent.com/imdevskp/covid_19_jhu_data_web_scrap_and_cleaning/master/country_wise_latest.csv')"
   ]
  },
  {
   "cell_type": "code",
   "execution_count": 3,
   "metadata": {},
   "outputs": [],
   "source": [
    "# Data cleaning\n",
    "df_general.columns = map(str.lower, df_general.columns)\n",
    "df_deaths.columns = map(str.lower, df_deaths.columns)\n",
    "df_cases.columns = map(str.lower, df_cases.columns)\n",
    "df_recovered.columns = map(str.lower, df_recovered.columns)"
   ]
  },
  {
   "cell_type": "code",
   "execution_count": 4,
   "metadata": {},
   "outputs": [],
   "source": [
    "df_cases = df_cases.rename(columns= {'province/state': 'state', 'country/region': 'country'})\n",
    "df_deaths = df_deaths.rename(columns= {'province/state': 'state', 'country/region': 'country'})\n",
    "df_recovered = df_recovered.rename(columns= {'province/state': 'state', 'country/region': 'country'})\n",
    "df_general = df_general.rename(columns= {'country/region': 'country'})"
   ]
  },
  {
   "cell_type": "code",
   "execution_count": 5,
   "metadata": {},
   "outputs": [
    {
     "data": {
      "text/html": [
       "<div>\n",
       "<style scoped>\n",
       "    .dataframe tbody tr th:only-of-type {\n",
       "        vertical-align: middle;\n",
       "    }\n",
       "\n",
       "    .dataframe tbody tr th {\n",
       "        vertical-align: top;\n",
       "    }\n",
       "\n",
       "    .dataframe thead th {\n",
       "        text-align: right;\n",
       "    }\n",
       "</style>\n",
       "<table border=\"1\" class=\"dataframe\">\n",
       "  <thead>\n",
       "    <tr style=\"text-align: right;\">\n",
       "      <th></th>\n",
       "      <th>country</th>\n",
       "      <th>confirmed</th>\n",
       "      <th>deaths</th>\n",
       "      <th>recovered</th>\n",
       "      <th>active</th>\n",
       "      <th>new cases</th>\n",
       "      <th>new deaths</th>\n",
       "      <th>new recovered</th>\n",
       "      <th>deaths / 100 cases</th>\n",
       "      <th>recovered / 100 cases</th>\n",
       "      <th>deaths / 100 recovered</th>\n",
       "      <th>confirmed last week</th>\n",
       "      <th>1 week change</th>\n",
       "      <th>1 week % increase</th>\n",
       "      <th>who region</th>\n",
       "    </tr>\n",
       "  </thead>\n",
       "  <tbody>\n",
       "    <tr>\n",
       "      <th>0</th>\n",
       "      <td>Afghanistan</td>\n",
       "      <td>35727</td>\n",
       "      <td>1190</td>\n",
       "      <td>23924</td>\n",
       "      <td>10613</td>\n",
       "      <td>112</td>\n",
       "      <td>4</td>\n",
       "      <td>183</td>\n",
       "      <td>3.33</td>\n",
       "      <td>66.96</td>\n",
       "      <td>4.97</td>\n",
       "      <td>34994</td>\n",
       "      <td>733</td>\n",
       "      <td>2.09</td>\n",
       "      <td>Eastern Mediterranean</td>\n",
       "    </tr>\n",
       "    <tr>\n",
       "      <th>1</th>\n",
       "      <td>Albania</td>\n",
       "      <td>4358</td>\n",
       "      <td>120</td>\n",
       "      <td>2463</td>\n",
       "      <td>1775</td>\n",
       "      <td>68</td>\n",
       "      <td>3</td>\n",
       "      <td>66</td>\n",
       "      <td>2.75</td>\n",
       "      <td>56.52</td>\n",
       "      <td>4.87</td>\n",
       "      <td>3752</td>\n",
       "      <td>606</td>\n",
       "      <td>16.15</td>\n",
       "      <td>Europe</td>\n",
       "    </tr>\n",
       "    <tr>\n",
       "      <th>2</th>\n",
       "      <td>Algeria</td>\n",
       "      <td>24872</td>\n",
       "      <td>1111</td>\n",
       "      <td>16983</td>\n",
       "      <td>6778</td>\n",
       "      <td>594</td>\n",
       "      <td>11</td>\n",
       "      <td>337</td>\n",
       "      <td>4.47</td>\n",
       "      <td>68.28</td>\n",
       "      <td>6.54</td>\n",
       "      <td>20770</td>\n",
       "      <td>4102</td>\n",
       "      <td>19.75</td>\n",
       "      <td>Africa</td>\n",
       "    </tr>\n",
       "    <tr>\n",
       "      <th>3</th>\n",
       "      <td>Andorra</td>\n",
       "      <td>889</td>\n",
       "      <td>52</td>\n",
       "      <td>803</td>\n",
       "      <td>34</td>\n",
       "      <td>5</td>\n",
       "      <td>0</td>\n",
       "      <td>0</td>\n",
       "      <td>5.85</td>\n",
       "      <td>90.33</td>\n",
       "      <td>6.48</td>\n",
       "      <td>862</td>\n",
       "      <td>27</td>\n",
       "      <td>3.13</td>\n",
       "      <td>Europe</td>\n",
       "    </tr>\n",
       "    <tr>\n",
       "      <th>4</th>\n",
       "      <td>Angola</td>\n",
       "      <td>812</td>\n",
       "      <td>33</td>\n",
       "      <td>221</td>\n",
       "      <td>558</td>\n",
       "      <td>33</td>\n",
       "      <td>3</td>\n",
       "      <td>0</td>\n",
       "      <td>4.06</td>\n",
       "      <td>27.22</td>\n",
       "      <td>14.93</td>\n",
       "      <td>576</td>\n",
       "      <td>236</td>\n",
       "      <td>40.97</td>\n",
       "      <td>Africa</td>\n",
       "    </tr>\n",
       "  </tbody>\n",
       "</table>\n",
       "</div>"
      ],
      "text/plain": [
       "       country  confirmed  deaths  recovered  active  new cases  new deaths  \\\n",
       "0  Afghanistan      35727    1190      23924   10613        112           4   \n",
       "1      Albania       4358     120       2463    1775         68           3   \n",
       "2      Algeria      24872    1111      16983    6778        594          11   \n",
       "3      Andorra        889      52        803      34          5           0   \n",
       "4       Angola        812      33        221     558         33           3   \n",
       "\n",
       "   new recovered  deaths / 100 cases  recovered / 100 cases  \\\n",
       "0            183                3.33                  66.96   \n",
       "1             66                2.75                  56.52   \n",
       "2            337                4.47                  68.28   \n",
       "3              0                5.85                  90.33   \n",
       "4              0                4.06                  27.22   \n",
       "\n",
       "   deaths / 100 recovered  confirmed last week  1 week change  \\\n",
       "0                    4.97                34994            733   \n",
       "1                    4.87                 3752            606   \n",
       "2                    6.54                20770           4102   \n",
       "3                    6.48                  862             27   \n",
       "4                   14.93                  576            236   \n",
       "\n",
       "   1 week % increase             who region  \n",
       "0               2.09  Eastern Mediterranean  \n",
       "1              16.15                 Europe  \n",
       "2              19.75                 Africa  \n",
       "3               3.13                 Europe  \n",
       "4              40.97                 Africa  "
      ]
     },
     "execution_count": 5,
     "metadata": {},
     "output_type": "execute_result"
    }
   ],
   "source": [
    "df_general.head()"
   ]
  },
  {
   "cell_type": "code",
   "execution_count": 6,
   "metadata": {},
   "outputs": [
    {
     "data": {
      "text/html": [
       "<div>\n",
       "<style scoped>\n",
       "    .dataframe tbody tr th:only-of-type {\n",
       "        vertical-align: middle;\n",
       "    }\n",
       "\n",
       "    .dataframe tbody tr th {\n",
       "        vertical-align: top;\n",
       "    }\n",
       "\n",
       "    .dataframe thead th {\n",
       "        text-align: right;\n",
       "    }\n",
       "</style>\n",
       "<table border=\"1\" class=\"dataframe\">\n",
       "  <thead>\n",
       "    <tr style=\"text-align: right;\">\n",
       "      <th></th>\n",
       "      <th>state</th>\n",
       "      <th>country</th>\n",
       "      <th>lat</th>\n",
       "      <th>long</th>\n",
       "      <th>1/22/20</th>\n",
       "      <th>1/23/20</th>\n",
       "      <th>1/24/20</th>\n",
       "      <th>1/25/20</th>\n",
       "      <th>1/26/20</th>\n",
       "      <th>1/27/20</th>\n",
       "      <th>...</th>\n",
       "      <th>7/14/20</th>\n",
       "      <th>7/15/20</th>\n",
       "      <th>7/16/20</th>\n",
       "      <th>7/17/20</th>\n",
       "      <th>7/18/20</th>\n",
       "      <th>7/19/20</th>\n",
       "      <th>7/20/20</th>\n",
       "      <th>7/21/20</th>\n",
       "      <th>7/22/20</th>\n",
       "      <th>7/23/20</th>\n",
       "    </tr>\n",
       "  </thead>\n",
       "  <tbody>\n",
       "    <tr>\n",
       "      <th>0</th>\n",
       "      <td>NaN</td>\n",
       "      <td>Afghanistan</td>\n",
       "      <td>33.93911</td>\n",
       "      <td>67.709953</td>\n",
       "      <td>0</td>\n",
       "      <td>0</td>\n",
       "      <td>0</td>\n",
       "      <td>0</td>\n",
       "      <td>0</td>\n",
       "      <td>0</td>\n",
       "      <td>...</td>\n",
       "      <td>1048</td>\n",
       "      <td>1094</td>\n",
       "      <td>1113</td>\n",
       "      <td>1147</td>\n",
       "      <td>1164</td>\n",
       "      <td>1181</td>\n",
       "      <td>1185</td>\n",
       "      <td>1186</td>\n",
       "      <td>1190</td>\n",
       "      <td>1211</td>\n",
       "    </tr>\n",
       "    <tr>\n",
       "      <th>1</th>\n",
       "      <td>NaN</td>\n",
       "      <td>Albania</td>\n",
       "      <td>41.15330</td>\n",
       "      <td>20.168300</td>\n",
       "      <td>0</td>\n",
       "      <td>0</td>\n",
       "      <td>0</td>\n",
       "      <td>0</td>\n",
       "      <td>0</td>\n",
       "      <td>0</td>\n",
       "      <td>...</td>\n",
       "      <td>97</td>\n",
       "      <td>101</td>\n",
       "      <td>104</td>\n",
       "      <td>107</td>\n",
       "      <td>111</td>\n",
       "      <td>112</td>\n",
       "      <td>113</td>\n",
       "      <td>117</td>\n",
       "      <td>120</td>\n",
       "      <td>123</td>\n",
       "    </tr>\n",
       "    <tr>\n",
       "      <th>2</th>\n",
       "      <td>NaN</td>\n",
       "      <td>Algeria</td>\n",
       "      <td>28.03390</td>\n",
       "      <td>1.659600</td>\n",
       "      <td>0</td>\n",
       "      <td>0</td>\n",
       "      <td>0</td>\n",
       "      <td>0</td>\n",
       "      <td>0</td>\n",
       "      <td>0</td>\n",
       "      <td>...</td>\n",
       "      <td>1028</td>\n",
       "      <td>1040</td>\n",
       "      <td>1052</td>\n",
       "      <td>1057</td>\n",
       "      <td>1068</td>\n",
       "      <td>1078</td>\n",
       "      <td>1087</td>\n",
       "      <td>1100</td>\n",
       "      <td>1111</td>\n",
       "      <td>1124</td>\n",
       "    </tr>\n",
       "    <tr>\n",
       "      <th>3</th>\n",
       "      <td>NaN</td>\n",
       "      <td>Andorra</td>\n",
       "      <td>42.50630</td>\n",
       "      <td>1.521800</td>\n",
       "      <td>0</td>\n",
       "      <td>0</td>\n",
       "      <td>0</td>\n",
       "      <td>0</td>\n",
       "      <td>0</td>\n",
       "      <td>0</td>\n",
       "      <td>...</td>\n",
       "      <td>52</td>\n",
       "      <td>52</td>\n",
       "      <td>52</td>\n",
       "      <td>52</td>\n",
       "      <td>52</td>\n",
       "      <td>52</td>\n",
       "      <td>52</td>\n",
       "      <td>52</td>\n",
       "      <td>52</td>\n",
       "      <td>52</td>\n",
       "    </tr>\n",
       "    <tr>\n",
       "      <th>4</th>\n",
       "      <td>NaN</td>\n",
       "      <td>Angola</td>\n",
       "      <td>-11.20270</td>\n",
       "      <td>17.873900</td>\n",
       "      <td>0</td>\n",
       "      <td>0</td>\n",
       "      <td>0</td>\n",
       "      <td>0</td>\n",
       "      <td>0</td>\n",
       "      <td>0</td>\n",
       "      <td>...</td>\n",
       "      <td>26</td>\n",
       "      <td>27</td>\n",
       "      <td>28</td>\n",
       "      <td>29</td>\n",
       "      <td>29</td>\n",
       "      <td>29</td>\n",
       "      <td>29</td>\n",
       "      <td>30</td>\n",
       "      <td>33</td>\n",
       "      <td>33</td>\n",
       "    </tr>\n",
       "  </tbody>\n",
       "</table>\n",
       "<p>5 rows × 188 columns</p>\n",
       "</div>"
      ],
      "text/plain": [
       "  state      country       lat       long  1/22/20  1/23/20  1/24/20  1/25/20  \\\n",
       "0   NaN  Afghanistan  33.93911  67.709953        0        0        0        0   \n",
       "1   NaN      Albania  41.15330  20.168300        0        0        0        0   \n",
       "2   NaN      Algeria  28.03390   1.659600        0        0        0        0   \n",
       "3   NaN      Andorra  42.50630   1.521800        0        0        0        0   \n",
       "4   NaN       Angola -11.20270  17.873900        0        0        0        0   \n",
       "\n",
       "   1/26/20  1/27/20  ...  7/14/20  7/15/20  7/16/20  7/17/20  7/18/20  \\\n",
       "0        0        0  ...     1048     1094     1113     1147     1164   \n",
       "1        0        0  ...       97      101      104      107      111   \n",
       "2        0        0  ...     1028     1040     1052     1057     1068   \n",
       "3        0        0  ...       52       52       52       52       52   \n",
       "4        0        0  ...       26       27       28       29       29   \n",
       "\n",
       "   7/19/20  7/20/20  7/21/20  7/22/20  7/23/20  \n",
       "0     1181     1185     1186     1190     1211  \n",
       "1      112      113      117      120      123  \n",
       "2     1078     1087     1100     1111     1124  \n",
       "3       52       52       52       52       52  \n",
       "4       29       29       30       33       33  \n",
       "\n",
       "[5 rows x 188 columns]"
      ]
     },
     "execution_count": 6,
     "metadata": {},
     "output_type": "execute_result"
    }
   ],
   "source": [
    "df_deaths.head()"
   ]
  },
  {
   "cell_type": "code",
   "execution_count": 7,
   "metadata": {},
   "outputs": [
    {
     "data": {
      "text/html": [
       "<div>\n",
       "<style scoped>\n",
       "    .dataframe tbody tr th:only-of-type {\n",
       "        vertical-align: middle;\n",
       "    }\n",
       "\n",
       "    .dataframe tbody tr th {\n",
       "        vertical-align: top;\n",
       "    }\n",
       "\n",
       "    .dataframe thead th {\n",
       "        text-align: right;\n",
       "    }\n",
       "</style>\n",
       "<table border=\"1\" class=\"dataframe\">\n",
       "  <thead>\n",
       "    <tr style=\"text-align: right;\">\n",
       "      <th></th>\n",
       "      <th>state</th>\n",
       "      <th>country</th>\n",
       "      <th>lat</th>\n",
       "      <th>long</th>\n",
       "      <th>1/22/20</th>\n",
       "      <th>1/23/20</th>\n",
       "      <th>1/24/20</th>\n",
       "      <th>1/25/20</th>\n",
       "      <th>1/26/20</th>\n",
       "      <th>1/27/20</th>\n",
       "      <th>...</th>\n",
       "      <th>7/14/20</th>\n",
       "      <th>7/15/20</th>\n",
       "      <th>7/16/20</th>\n",
       "      <th>7/17/20</th>\n",
       "      <th>7/18/20</th>\n",
       "      <th>7/19/20</th>\n",
       "      <th>7/20/20</th>\n",
       "      <th>7/21/20</th>\n",
       "      <th>7/22/20</th>\n",
       "      <th>7/23/20</th>\n",
       "    </tr>\n",
       "  </thead>\n",
       "  <tbody>\n",
       "    <tr>\n",
       "      <th>0</th>\n",
       "      <td>NaN</td>\n",
       "      <td>Afghanistan</td>\n",
       "      <td>33.93911</td>\n",
       "      <td>67.709953</td>\n",
       "      <td>0</td>\n",
       "      <td>0</td>\n",
       "      <td>0</td>\n",
       "      <td>0</td>\n",
       "      <td>0</td>\n",
       "      <td>0</td>\n",
       "      <td>...</td>\n",
       "      <td>34740</td>\n",
       "      <td>34994</td>\n",
       "      <td>35070</td>\n",
       "      <td>35229</td>\n",
       "      <td>35301</td>\n",
       "      <td>35475</td>\n",
       "      <td>35526</td>\n",
       "      <td>35615</td>\n",
       "      <td>35727</td>\n",
       "      <td>35928</td>\n",
       "    </tr>\n",
       "    <tr>\n",
       "      <th>1</th>\n",
       "      <td>NaN</td>\n",
       "      <td>Albania</td>\n",
       "      <td>41.15330</td>\n",
       "      <td>20.168300</td>\n",
       "      <td>0</td>\n",
       "      <td>0</td>\n",
       "      <td>0</td>\n",
       "      <td>0</td>\n",
       "      <td>0</td>\n",
       "      <td>0</td>\n",
       "      <td>...</td>\n",
       "      <td>3667</td>\n",
       "      <td>3752</td>\n",
       "      <td>3851</td>\n",
       "      <td>3906</td>\n",
       "      <td>4008</td>\n",
       "      <td>4090</td>\n",
       "      <td>4171</td>\n",
       "      <td>4290</td>\n",
       "      <td>4358</td>\n",
       "      <td>4466</td>\n",
       "    </tr>\n",
       "    <tr>\n",
       "      <th>2</th>\n",
       "      <td>NaN</td>\n",
       "      <td>Algeria</td>\n",
       "      <td>28.03390</td>\n",
       "      <td>1.659600</td>\n",
       "      <td>0</td>\n",
       "      <td>0</td>\n",
       "      <td>0</td>\n",
       "      <td>0</td>\n",
       "      <td>0</td>\n",
       "      <td>0</td>\n",
       "      <td>...</td>\n",
       "      <td>20216</td>\n",
       "      <td>20770</td>\n",
       "      <td>21355</td>\n",
       "      <td>21948</td>\n",
       "      <td>22549</td>\n",
       "      <td>23084</td>\n",
       "      <td>23691</td>\n",
       "      <td>24278</td>\n",
       "      <td>24872</td>\n",
       "      <td>25484</td>\n",
       "    </tr>\n",
       "    <tr>\n",
       "      <th>3</th>\n",
       "      <td>NaN</td>\n",
       "      <td>Andorra</td>\n",
       "      <td>42.50630</td>\n",
       "      <td>1.521800</td>\n",
       "      <td>0</td>\n",
       "      <td>0</td>\n",
       "      <td>0</td>\n",
       "      <td>0</td>\n",
       "      <td>0</td>\n",
       "      <td>0</td>\n",
       "      <td>...</td>\n",
       "      <td>861</td>\n",
       "      <td>862</td>\n",
       "      <td>877</td>\n",
       "      <td>880</td>\n",
       "      <td>880</td>\n",
       "      <td>880</td>\n",
       "      <td>884</td>\n",
       "      <td>884</td>\n",
       "      <td>889</td>\n",
       "      <td>889</td>\n",
       "    </tr>\n",
       "    <tr>\n",
       "      <th>4</th>\n",
       "      <td>NaN</td>\n",
       "      <td>Angola</td>\n",
       "      <td>-11.20270</td>\n",
       "      <td>17.873900</td>\n",
       "      <td>0</td>\n",
       "      <td>0</td>\n",
       "      <td>0</td>\n",
       "      <td>0</td>\n",
       "      <td>0</td>\n",
       "      <td>0</td>\n",
       "      <td>...</td>\n",
       "      <td>541</td>\n",
       "      <td>576</td>\n",
       "      <td>607</td>\n",
       "      <td>638</td>\n",
       "      <td>687</td>\n",
       "      <td>705</td>\n",
       "      <td>749</td>\n",
       "      <td>779</td>\n",
       "      <td>812</td>\n",
       "      <td>851</td>\n",
       "    </tr>\n",
       "  </tbody>\n",
       "</table>\n",
       "<p>5 rows × 188 columns</p>\n",
       "</div>"
      ],
      "text/plain": [
       "  state      country       lat       long  1/22/20  1/23/20  1/24/20  1/25/20  \\\n",
       "0   NaN  Afghanistan  33.93911  67.709953        0        0        0        0   \n",
       "1   NaN      Albania  41.15330  20.168300        0        0        0        0   \n",
       "2   NaN      Algeria  28.03390   1.659600        0        0        0        0   \n",
       "3   NaN      Andorra  42.50630   1.521800        0        0        0        0   \n",
       "4   NaN       Angola -11.20270  17.873900        0        0        0        0   \n",
       "\n",
       "   1/26/20  1/27/20  ...  7/14/20  7/15/20  7/16/20  7/17/20  7/18/20  \\\n",
       "0        0        0  ...    34740    34994    35070    35229    35301   \n",
       "1        0        0  ...     3667     3752     3851     3906     4008   \n",
       "2        0        0  ...    20216    20770    21355    21948    22549   \n",
       "3        0        0  ...      861      862      877      880      880   \n",
       "4        0        0  ...      541      576      607      638      687   \n",
       "\n",
       "   7/19/20  7/20/20  7/21/20  7/22/20  7/23/20  \n",
       "0    35475    35526    35615    35727    35928  \n",
       "1     4090     4171     4290     4358     4466  \n",
       "2    23084    23691    24278    24872    25484  \n",
       "3      880      884      884      889      889  \n",
       "4      705      749      779      812      851  \n",
       "\n",
       "[5 rows x 188 columns]"
      ]
     },
     "execution_count": 7,
     "metadata": {},
     "output_type": "execute_result"
    }
   ],
   "source": [
    "df_cases.head()"
   ]
  },
  {
   "cell_type": "code",
   "execution_count": 8,
   "metadata": {},
   "outputs": [
    {
     "data": {
      "text/html": [
       "<div>\n",
       "<style scoped>\n",
       "    .dataframe tbody tr th:only-of-type {\n",
       "        vertical-align: middle;\n",
       "    }\n",
       "\n",
       "    .dataframe tbody tr th {\n",
       "        vertical-align: top;\n",
       "    }\n",
       "\n",
       "    .dataframe thead th {\n",
       "        text-align: right;\n",
       "    }\n",
       "</style>\n",
       "<table border=\"1\" class=\"dataframe\">\n",
       "  <thead>\n",
       "    <tr style=\"text-align: right;\">\n",
       "      <th></th>\n",
       "      <th>state</th>\n",
       "      <th>country</th>\n",
       "      <th>lat</th>\n",
       "      <th>long</th>\n",
       "      <th>1/22/20</th>\n",
       "      <th>1/23/20</th>\n",
       "      <th>1/24/20</th>\n",
       "      <th>1/25/20</th>\n",
       "      <th>1/26/20</th>\n",
       "      <th>1/27/20</th>\n",
       "      <th>...</th>\n",
       "      <th>7/14/20</th>\n",
       "      <th>7/15/20</th>\n",
       "      <th>7/16/20</th>\n",
       "      <th>7/17/20</th>\n",
       "      <th>7/18/20</th>\n",
       "      <th>7/19/20</th>\n",
       "      <th>7/20/20</th>\n",
       "      <th>7/21/20</th>\n",
       "      <th>7/22/20</th>\n",
       "      <th>7/23/20</th>\n",
       "    </tr>\n",
       "  </thead>\n",
       "  <tbody>\n",
       "    <tr>\n",
       "      <th>0</th>\n",
       "      <td>NaN</td>\n",
       "      <td>Afghanistan</td>\n",
       "      <td>33.93911</td>\n",
       "      <td>67.709953</td>\n",
       "      <td>0</td>\n",
       "      <td>0</td>\n",
       "      <td>0</td>\n",
       "      <td>0</td>\n",
       "      <td>0</td>\n",
       "      <td>0</td>\n",
       "      <td>...</td>\n",
       "      <td>21454</td>\n",
       "      <td>22456</td>\n",
       "      <td>22824</td>\n",
       "      <td>23151</td>\n",
       "      <td>23273</td>\n",
       "      <td>23634</td>\n",
       "      <td>23741</td>\n",
       "      <td>23741</td>\n",
       "      <td>23924</td>\n",
       "      <td>24550</td>\n",
       "    </tr>\n",
       "    <tr>\n",
       "      <th>1</th>\n",
       "      <td>NaN</td>\n",
       "      <td>Albania</td>\n",
       "      <td>41.15330</td>\n",
       "      <td>20.168300</td>\n",
       "      <td>0</td>\n",
       "      <td>0</td>\n",
       "      <td>0</td>\n",
       "      <td>0</td>\n",
       "      <td>0</td>\n",
       "      <td>0</td>\n",
       "      <td>...</td>\n",
       "      <td>2062</td>\n",
       "      <td>2091</td>\n",
       "      <td>2137</td>\n",
       "      <td>2214</td>\n",
       "      <td>2264</td>\n",
       "      <td>2311</td>\n",
       "      <td>2352</td>\n",
       "      <td>2397</td>\n",
       "      <td>2463</td>\n",
       "      <td>2523</td>\n",
       "    </tr>\n",
       "    <tr>\n",
       "      <th>2</th>\n",
       "      <td>NaN</td>\n",
       "      <td>Algeria</td>\n",
       "      <td>28.03390</td>\n",
       "      <td>1.659600</td>\n",
       "      <td>0</td>\n",
       "      <td>0</td>\n",
       "      <td>0</td>\n",
       "      <td>0</td>\n",
       "      <td>0</td>\n",
       "      <td>0</td>\n",
       "      <td>...</td>\n",
       "      <td>14295</td>\n",
       "      <td>14792</td>\n",
       "      <td>15107</td>\n",
       "      <td>15430</td>\n",
       "      <td>15744</td>\n",
       "      <td>16051</td>\n",
       "      <td>16400</td>\n",
       "      <td>16646</td>\n",
       "      <td>16983</td>\n",
       "      <td>17369</td>\n",
       "    </tr>\n",
       "    <tr>\n",
       "      <th>3</th>\n",
       "      <td>NaN</td>\n",
       "      <td>Andorra</td>\n",
       "      <td>42.50630</td>\n",
       "      <td>1.521800</td>\n",
       "      <td>0</td>\n",
       "      <td>0</td>\n",
       "      <td>0</td>\n",
       "      <td>0</td>\n",
       "      <td>0</td>\n",
       "      <td>0</td>\n",
       "      <td>...</td>\n",
       "      <td>803</td>\n",
       "      <td>803</td>\n",
       "      <td>803</td>\n",
       "      <td>803</td>\n",
       "      <td>803</td>\n",
       "      <td>803</td>\n",
       "      <td>803</td>\n",
       "      <td>803</td>\n",
       "      <td>803</td>\n",
       "      <td>803</td>\n",
       "    </tr>\n",
       "    <tr>\n",
       "      <th>4</th>\n",
       "      <td>NaN</td>\n",
       "      <td>Angola</td>\n",
       "      <td>-11.20270</td>\n",
       "      <td>17.873900</td>\n",
       "      <td>0</td>\n",
       "      <td>0</td>\n",
       "      <td>0</td>\n",
       "      <td>0</td>\n",
       "      <td>0</td>\n",
       "      <td>0</td>\n",
       "      <td>...</td>\n",
       "      <td>118</td>\n",
       "      <td>124</td>\n",
       "      <td>124</td>\n",
       "      <td>199</td>\n",
       "      <td>210</td>\n",
       "      <td>221</td>\n",
       "      <td>221</td>\n",
       "      <td>221</td>\n",
       "      <td>221</td>\n",
       "      <td>236</td>\n",
       "    </tr>\n",
       "  </tbody>\n",
       "</table>\n",
       "<p>5 rows × 188 columns</p>\n",
       "</div>"
      ],
      "text/plain": [
       "  state      country       lat       long  1/22/20  1/23/20  1/24/20  1/25/20  \\\n",
       "0   NaN  Afghanistan  33.93911  67.709953        0        0        0        0   \n",
       "1   NaN      Albania  41.15330  20.168300        0        0        0        0   \n",
       "2   NaN      Algeria  28.03390   1.659600        0        0        0        0   \n",
       "3   NaN      Andorra  42.50630   1.521800        0        0        0        0   \n",
       "4   NaN       Angola -11.20270  17.873900        0        0        0        0   \n",
       "\n",
       "   1/26/20  1/27/20  ...  7/14/20  7/15/20  7/16/20  7/17/20  7/18/20  \\\n",
       "0        0        0  ...    21454    22456    22824    23151    23273   \n",
       "1        0        0  ...     2062     2091     2137     2214     2264   \n",
       "2        0        0  ...    14295    14792    15107    15430    15744   \n",
       "3        0        0  ...      803      803      803      803      803   \n",
       "4        0        0  ...      118      124      124      199      210   \n",
       "\n",
       "   7/19/20  7/20/20  7/21/20  7/22/20  7/23/20  \n",
       "0    23634    23741    23741    23924    24550  \n",
       "1     2311     2352     2397     2463     2523  \n",
       "2    16051    16400    16646    16983    17369  \n",
       "3      803      803      803      803      803  \n",
       "4      221      221      221      221      236  \n",
       "\n",
       "[5 rows x 188 columns]"
      ]
     },
     "execution_count": 8,
     "metadata": {},
     "output_type": "execute_result"
    }
   ],
   "source": [
    "df_recovered.head()"
   ]
  },
  {
   "cell_type": "code",
   "execution_count": 9,
   "metadata": {},
   "outputs": [],
   "source": [
    "df_general_sorted = df_general.sort_values('confirmed', ascending=False)"
   ]
  },
  {
   "cell_type": "code",
   "execution_count": 10,
   "metadata": {},
   "outputs": [],
   "source": [
    "confirmed_total = int(df_general['confirmed'].sum())\n",
    "deaths_total = int(df_general['deaths'].sum())\n",
    "recovered_total = int(df_general['recovered'].sum())\n",
    "active_total = int(df_general['active'].sum())"
   ]
  },
  {
   "cell_type": "markdown",
   "metadata": {},
   "source": [
    "<h1><center>COVID-19 By the Numbers</center></h1>\n",
    "\n",
    "<p><center>Check below how are the number of confirmed cases, deaths and recovered people in the world.</center></p>"
   ]
  },
  {
   "cell_type": "code",
   "execution_count": 11,
   "metadata": {},
   "outputs": [
    {
     "data": {
      "text/html": [
       "<div style = 'text-align:center; background-color: #f5faff; padding: 30px '><div style='color: cornflowerblue; font-size:30px;'><br><strong> Confirmed: 15226791</br></strong></div><div style='color: red; font-size:30px;margin-left:20px;'><br><strong> Deaths: 623369</br></strong></div><div style='color: green; font-size:30px; margin-left:20px;'><br><strong> Recovered: 8538808</br></strong></div></div>"
      ],
      "text/plain": [
       "<IPython.core.display.HTML object>"
      ]
     },
     "metadata": {},
     "output_type": "display_data"
    }
   ],
   "source": [
    "display(HTML(\"<div style = 'text-align:center; background-color: #f5faff; padding: 30px '>\" +\n",
    "             \"<div style='color: cornflowerblue; font-size:30px;'><br><strong> Confirmed: \"  + str(confirmed_total) +\"</br></strong></div>\" +\n",
    "             \"<div style='color: red; font-size:30px;margin-left:20px;'><br><strong> Deaths: \" + str(deaths_total) + \"</br></strong></div>\"+\n",
    "             \"<div style='color: green; font-size:30px; margin-left:20px;'><br><strong> Recovered: \" + str(recovered_total) + \"</br></strong></div>\"+\n",
    "             \"</div>\")\n",
    "       )\n"
   ]
  },
  {
   "cell_type": "markdown",
   "metadata": {},
   "source": [
    "<h1><center>Time series of number of cases and deaths in the world or per country:</center></h1>\n",
    "\n",
    "<p><center>Type the country name or \"world\" for all countries.</center></p>"
   ]
  },
  {
   "cell_type": "code",
   "execution_count": 12,
   "metadata": {},
   "outputs": [],
   "source": [
    "def country_cases(country):\n",
    "    labels = ['confirmed', 'deaths']\n",
    "    colors = ['cornflowerblue', 'red']\n",
    "    mode_size = [6,8]\n",
    "    line_size = [4,5]\n",
    "\n",
    "    df_list = [df_cases, df_deaths]\n",
    "\n",
    "    fig = go.Figure()\n",
    "\n",
    "    for i, df in enumerate(df_list):\n",
    "        if country == 'World' or country == 'world':\n",
    "            x_data = np.array(list(df.iloc[:,5:].columns))\n",
    "            y_data = np.sum(np.asarray(df.iloc[:,5:]), axis=0)\n",
    "        else:\n",
    "            x_data = np.array(list(df.iloc[:,5:].columns))\n",
    "            y_data = np.sum(np.asarray(df[df['country']==country].iloc[:,5:]), axis=0)\n",
    "        fig.add_trace(go.Scatter(x=x_data, y=y_data, mode='lines+markers', name=labels[i],\n",
    "                                line = dict(color=colors[i], width=line_size[i]),\n",
    "                                connectgaps=True,\n",
    "                                text='Total ' + str(labels[i]) + ':' + str(y_data[-1])\n",
    "                                ))\n",
    "    fig.show()"
   ]
  },
  {
   "cell_type": "code",
   "execution_count": 13,
   "metadata": {},
   "outputs": [
    {
     "data": {
      "application/vnd.jupyter.widget-view+json": {
       "model_id": "22511c5dc21b4e19ad40593c67ebb03b",
       "version_major": 2,
       "version_minor": 0
      },
      "text/plain": [
       "interactive(children=(Text(value='World', description='country'), Output()), _dom_classes=('widget-interact',)…"
      ]
     },
     "metadata": {},
     "output_type": "display_data"
    }
   ],
   "source": [
    "interact(country_cases, country='World');"
   ]
  },
  {
   "cell_type": "markdown",
   "metadata": {},
   "source": [
    "<h1><center>Countries with the highest number of confirmed cases:</center></h1>"
   ]
  },
  {
   "cell_type": "code",
   "execution_count": 14,
   "metadata": {},
   "outputs": [],
   "source": [
    "def highlight_column(x):\n",
    "    red = 'background-color: red'\n",
    "    green = 'background-color: lime'\n",
    "    blue = 'background-color: cornflowerblue'\n",
    "    df_temp = pd.DataFrame('', index=x.index, columns=x.columns)\n",
    "    df_temp.iloc[:,1] = blue\n",
    "    df_temp.iloc[:,2] = red\n",
    "    df_temp.iloc[:,3] = green\n",
    "    return df_temp"
   ]
  },
  {
   "cell_type": "code",
   "execution_count": 15,
   "metadata": {},
   "outputs": [
    {
     "data": {
      "text/html": [
       "<style  type=\"text/css\" >\n",
       "    #T_c92a1c02_cd87_11ea_8c8f_8c1645d75d7arow0_col1 {\n",
       "            background-color:  cornflowerblue;\n",
       "        }    #T_c92a1c02_cd87_11ea_8c8f_8c1645d75d7arow0_col2 {\n",
       "            background-color:  red;\n",
       "        }    #T_c92a1c02_cd87_11ea_8c8f_8c1645d75d7arow0_col3 {\n",
       "            background-color:  lime;\n",
       "        }    #T_c92a1c02_cd87_11ea_8c8f_8c1645d75d7arow1_col1 {\n",
       "            background-color:  cornflowerblue;\n",
       "        }    #T_c92a1c02_cd87_11ea_8c8f_8c1645d75d7arow1_col2 {\n",
       "            background-color:  red;\n",
       "        }    #T_c92a1c02_cd87_11ea_8c8f_8c1645d75d7arow1_col3 {\n",
       "            background-color:  lime;\n",
       "        }    #T_c92a1c02_cd87_11ea_8c8f_8c1645d75d7arow2_col1 {\n",
       "            background-color:  cornflowerblue;\n",
       "        }    #T_c92a1c02_cd87_11ea_8c8f_8c1645d75d7arow2_col2 {\n",
       "            background-color:  red;\n",
       "        }    #T_c92a1c02_cd87_11ea_8c8f_8c1645d75d7arow2_col3 {\n",
       "            background-color:  lime;\n",
       "        }    #T_c92a1c02_cd87_11ea_8c8f_8c1645d75d7arow3_col1 {\n",
       "            background-color:  cornflowerblue;\n",
       "        }    #T_c92a1c02_cd87_11ea_8c8f_8c1645d75d7arow3_col2 {\n",
       "            background-color:  red;\n",
       "        }    #T_c92a1c02_cd87_11ea_8c8f_8c1645d75d7arow3_col3 {\n",
       "            background-color:  lime;\n",
       "        }    #T_c92a1c02_cd87_11ea_8c8f_8c1645d75d7arow4_col1 {\n",
       "            background-color:  cornflowerblue;\n",
       "        }    #T_c92a1c02_cd87_11ea_8c8f_8c1645d75d7arow4_col2 {\n",
       "            background-color:  red;\n",
       "        }    #T_c92a1c02_cd87_11ea_8c8f_8c1645d75d7arow4_col3 {\n",
       "            background-color:  lime;\n",
       "        }    #T_c92a1c02_cd87_11ea_8c8f_8c1645d75d7arow5_col1 {\n",
       "            background-color:  cornflowerblue;\n",
       "        }    #T_c92a1c02_cd87_11ea_8c8f_8c1645d75d7arow5_col2 {\n",
       "            background-color:  red;\n",
       "        }    #T_c92a1c02_cd87_11ea_8c8f_8c1645d75d7arow5_col3 {\n",
       "            background-color:  lime;\n",
       "        }    #T_c92a1c02_cd87_11ea_8c8f_8c1645d75d7arow6_col1 {\n",
       "            background-color:  cornflowerblue;\n",
       "        }    #T_c92a1c02_cd87_11ea_8c8f_8c1645d75d7arow6_col2 {\n",
       "            background-color:  red;\n",
       "        }    #T_c92a1c02_cd87_11ea_8c8f_8c1645d75d7arow6_col3 {\n",
       "            background-color:  lime;\n",
       "        }    #T_c92a1c02_cd87_11ea_8c8f_8c1645d75d7arow7_col1 {\n",
       "            background-color:  cornflowerblue;\n",
       "        }    #T_c92a1c02_cd87_11ea_8c8f_8c1645d75d7arow7_col2 {\n",
       "            background-color:  red;\n",
       "        }    #T_c92a1c02_cd87_11ea_8c8f_8c1645d75d7arow7_col3 {\n",
       "            background-color:  lime;\n",
       "        }    #T_c92a1c02_cd87_11ea_8c8f_8c1645d75d7arow8_col1 {\n",
       "            background-color:  cornflowerblue;\n",
       "        }    #T_c92a1c02_cd87_11ea_8c8f_8c1645d75d7arow8_col2 {\n",
       "            background-color:  red;\n",
       "        }    #T_c92a1c02_cd87_11ea_8c8f_8c1645d75d7arow8_col3 {\n",
       "            background-color:  lime;\n",
       "        }    #T_c92a1c02_cd87_11ea_8c8f_8c1645d75d7arow9_col1 {\n",
       "            background-color:  cornflowerblue;\n",
       "        }    #T_c92a1c02_cd87_11ea_8c8f_8c1645d75d7arow9_col2 {\n",
       "            background-color:  red;\n",
       "        }    #T_c92a1c02_cd87_11ea_8c8f_8c1645d75d7arow9_col3 {\n",
       "            background-color:  lime;\n",
       "        }</style><table id=\"T_c92a1c02_cd87_11ea_8c8f_8c1645d75d7a\" ><thead>    <tr>        <th class=\"blank level0\" ></th>        <th class=\"col_heading level0 col0\" >country</th>        <th class=\"col_heading level0 col1\" >confirmed</th>        <th class=\"col_heading level0 col2\" >deaths</th>        <th class=\"col_heading level0 col3\" >recovered</th>        <th class=\"col_heading level0 col4\" >active</th>        <th class=\"col_heading level0 col5\" >new cases</th>        <th class=\"col_heading level0 col6\" >new deaths</th>        <th class=\"col_heading level0 col7\" >new recovered</th>        <th class=\"col_heading level0 col8\" >deaths / 100 cases</th>        <th class=\"col_heading level0 col9\" >recovered / 100 cases</th>        <th class=\"col_heading level0 col10\" >deaths / 100 recovered</th>        <th class=\"col_heading level0 col11\" >confirmed last week</th>        <th class=\"col_heading level0 col12\" >1 week change</th>        <th class=\"col_heading level0 col13\" >1 week % increase</th>        <th class=\"col_heading level0 col14\" >who region</th>    </tr></thead><tbody>\n",
       "                <tr>\n",
       "                        <th id=\"T_c92a1c02_cd87_11ea_8c8f_8c1645d75d7alevel0_row0\" class=\"row_heading level0 row0\" >173</th>\n",
       "                        <td id=\"T_c92a1c02_cd87_11ea_8c8f_8c1645d75d7arow0_col0\" class=\"data row0 col0\" >US</td>\n",
       "                        <td id=\"T_c92a1c02_cd87_11ea_8c8f_8c1645d75d7arow0_col1\" class=\"data row0 col1\" >3970906</td>\n",
       "                        <td id=\"T_c92a1c02_cd87_11ea_8c8f_8c1645d75d7arow0_col2\" class=\"data row0 col2\" >143190</td>\n",
       "                        <td id=\"T_c92a1c02_cd87_11ea_8c8f_8c1645d75d7arow0_col3\" class=\"data row0 col3\" >1210849</td>\n",
       "                        <td id=\"T_c92a1c02_cd87_11ea_8c8f_8c1645d75d7arow0_col4\" class=\"data row0 col4\" >2616867</td>\n",
       "                        <td id=\"T_c92a1c02_cd87_11ea_8c8f_8c1645d75d7arow0_col5\" class=\"data row0 col5\" >71695</td>\n",
       "                        <td id=\"T_c92a1c02_cd87_11ea_8c8f_8c1645d75d7arow0_col6\" class=\"data row0 col6\" >1195</td>\n",
       "                        <td id=\"T_c92a1c02_cd87_11ea_8c8f_8c1645d75d7arow0_col7\" class=\"data row0 col7\" >28831</td>\n",
       "                        <td id=\"T_c92a1c02_cd87_11ea_8c8f_8c1645d75d7arow0_col8\" class=\"data row0 col8\" >3.61</td>\n",
       "                        <td id=\"T_c92a1c02_cd87_11ea_8c8f_8c1645d75d7arow0_col9\" class=\"data row0 col9\" >30.49</td>\n",
       "                        <td id=\"T_c92a1c02_cd87_11ea_8c8f_8c1645d75d7arow0_col10\" class=\"data row0 col10\" >11.83</td>\n",
       "                        <td id=\"T_c92a1c02_cd87_11ea_8c8f_8c1645d75d7arow0_col11\" class=\"data row0 col11\" >3498902</td>\n",
       "                        <td id=\"T_c92a1c02_cd87_11ea_8c8f_8c1645d75d7arow0_col12\" class=\"data row0 col12\" >472004</td>\n",
       "                        <td id=\"T_c92a1c02_cd87_11ea_8c8f_8c1645d75d7arow0_col13\" class=\"data row0 col13\" >13.49</td>\n",
       "                        <td id=\"T_c92a1c02_cd87_11ea_8c8f_8c1645d75d7arow0_col14\" class=\"data row0 col14\" >Americas</td>\n",
       "            </tr>\n",
       "            <tr>\n",
       "                        <th id=\"T_c92a1c02_cd87_11ea_8c8f_8c1645d75d7alevel0_row1\" class=\"row_heading level0 row1\" >23</th>\n",
       "                        <td id=\"T_c92a1c02_cd87_11ea_8c8f_8c1645d75d7arow1_col0\" class=\"data row1 col0\" >Brazil</td>\n",
       "                        <td id=\"T_c92a1c02_cd87_11ea_8c8f_8c1645d75d7arow1_col1\" class=\"data row1 col1\" >2227514</td>\n",
       "                        <td id=\"T_c92a1c02_cd87_11ea_8c8f_8c1645d75d7arow1_col2\" class=\"data row1 col2\" >82771</td>\n",
       "                        <td id=\"T_c92a1c02_cd87_11ea_8c8f_8c1645d75d7arow1_col3\" class=\"data row1 col3\" >1591975</td>\n",
       "                        <td id=\"T_c92a1c02_cd87_11ea_8c8f_8c1645d75d7arow1_col4\" class=\"data row1 col4\" >552768</td>\n",
       "                        <td id=\"T_c92a1c02_cd87_11ea_8c8f_8c1645d75d7arow1_col5\" class=\"data row1 col5\" >67860</td>\n",
       "                        <td id=\"T_c92a1c02_cd87_11ea_8c8f_8c1645d75d7arow1_col6\" class=\"data row1 col6\" >1284</td>\n",
       "                        <td id=\"T_c92a1c02_cd87_11ea_8c8f_8c1645d75d7arow1_col7\" class=\"data row1 col7\" >36636</td>\n",
       "                        <td id=\"T_c92a1c02_cd87_11ea_8c8f_8c1645d75d7arow1_col8\" class=\"data row1 col8\" >3.72</td>\n",
       "                        <td id=\"T_c92a1c02_cd87_11ea_8c8f_8c1645d75d7arow1_col9\" class=\"data row1 col9\" >71.47</td>\n",
       "                        <td id=\"T_c92a1c02_cd87_11ea_8c8f_8c1645d75d7arow1_col10\" class=\"data row1 col10\" >5.2</td>\n",
       "                        <td id=\"T_c92a1c02_cd87_11ea_8c8f_8c1645d75d7arow1_col11\" class=\"data row1 col11\" >1966748</td>\n",
       "                        <td id=\"T_c92a1c02_cd87_11ea_8c8f_8c1645d75d7arow1_col12\" class=\"data row1 col12\" >260766</td>\n",
       "                        <td id=\"T_c92a1c02_cd87_11ea_8c8f_8c1645d75d7arow1_col13\" class=\"data row1 col13\" >13.26</td>\n",
       "                        <td id=\"T_c92a1c02_cd87_11ea_8c8f_8c1645d75d7arow1_col14\" class=\"data row1 col14\" >Americas</td>\n",
       "            </tr>\n",
       "            <tr>\n",
       "                        <th id=\"T_c92a1c02_cd87_11ea_8c8f_8c1645d75d7alevel0_row2\" class=\"row_heading level0 row2\" >79</th>\n",
       "                        <td id=\"T_c92a1c02_cd87_11ea_8c8f_8c1645d75d7arow2_col0\" class=\"data row2 col0\" >India</td>\n",
       "                        <td id=\"T_c92a1c02_cd87_11ea_8c8f_8c1645d75d7arow2_col1\" class=\"data row2 col1\" >1238798</td>\n",
       "                        <td id=\"T_c92a1c02_cd87_11ea_8c8f_8c1645d75d7arow2_col2\" class=\"data row2 col2\" >29861</td>\n",
       "                        <td id=\"T_c92a1c02_cd87_11ea_8c8f_8c1645d75d7arow2_col3\" class=\"data row2 col3\" >782607</td>\n",
       "                        <td id=\"T_c92a1c02_cd87_11ea_8c8f_8c1645d75d7arow2_col4\" class=\"data row2 col4\" >426330</td>\n",
       "                        <td id=\"T_c92a1c02_cd87_11ea_8c8f_8c1645d75d7arow2_col5\" class=\"data row2 col5\" >45720</td>\n",
       "                        <td id=\"T_c92a1c02_cd87_11ea_8c8f_8c1645d75d7arow2_col6\" class=\"data row2 col6\" >1129</td>\n",
       "                        <td id=\"T_c92a1c02_cd87_11ea_8c8f_8c1645d75d7arow2_col7\" class=\"data row2 col7\" >29557</td>\n",
       "                        <td id=\"T_c92a1c02_cd87_11ea_8c8f_8c1645d75d7arow2_col8\" class=\"data row2 col8\" >2.41</td>\n",
       "                        <td id=\"T_c92a1c02_cd87_11ea_8c8f_8c1645d75d7arow2_col9\" class=\"data row2 col9\" >63.17</td>\n",
       "                        <td id=\"T_c92a1c02_cd87_11ea_8c8f_8c1645d75d7arow2_col10\" class=\"data row2 col10\" >3.82</td>\n",
       "                        <td id=\"T_c92a1c02_cd87_11ea_8c8f_8c1645d75d7arow2_col11\" class=\"data row2 col11\" >968857</td>\n",
       "                        <td id=\"T_c92a1c02_cd87_11ea_8c8f_8c1645d75d7arow2_col12\" class=\"data row2 col12\" >269941</td>\n",
       "                        <td id=\"T_c92a1c02_cd87_11ea_8c8f_8c1645d75d7arow2_col13\" class=\"data row2 col13\" >27.86</td>\n",
       "                        <td id=\"T_c92a1c02_cd87_11ea_8c8f_8c1645d75d7arow2_col14\" class=\"data row2 col14\" >South-East Asia</td>\n",
       "            </tr>\n",
       "            <tr>\n",
       "                        <th id=\"T_c92a1c02_cd87_11ea_8c8f_8c1645d75d7alevel0_row3\" class=\"row_heading level0 row3\" >138</th>\n",
       "                        <td id=\"T_c92a1c02_cd87_11ea_8c8f_8c1645d75d7arow3_col0\" class=\"data row3 col0\" >Russia</td>\n",
       "                        <td id=\"T_c92a1c02_cd87_11ea_8c8f_8c1645d75d7arow3_col1\" class=\"data row3 col1\" >787890</td>\n",
       "                        <td id=\"T_c92a1c02_cd87_11ea_8c8f_8c1645d75d7arow3_col2\" class=\"data row3 col2\" >12726</td>\n",
       "                        <td id=\"T_c92a1c02_cd87_11ea_8c8f_8c1645d75d7arow3_col3\" class=\"data row3 col3\" >571049</td>\n",
       "                        <td id=\"T_c92a1c02_cd87_11ea_8c8f_8c1645d75d7arow3_col4\" class=\"data row3 col4\" >204115</td>\n",
       "                        <td id=\"T_c92a1c02_cd87_11ea_8c8f_8c1645d75d7arow3_col5\" class=\"data row3 col5\" >5850</td>\n",
       "                        <td id=\"T_c92a1c02_cd87_11ea_8c8f_8c1645d75d7arow3_col6\" class=\"data row3 col6\" >165</td>\n",
       "                        <td id=\"T_c92a1c02_cd87_11ea_8c8f_8c1645d75d7arow3_col7\" class=\"data row3 col7\" >9652</td>\n",
       "                        <td id=\"T_c92a1c02_cd87_11ea_8c8f_8c1645d75d7arow3_col8\" class=\"data row3 col8\" >1.62</td>\n",
       "                        <td id=\"T_c92a1c02_cd87_11ea_8c8f_8c1645d75d7arow3_col9\" class=\"data row3 col9\" >72.48</td>\n",
       "                        <td id=\"T_c92a1c02_cd87_11ea_8c8f_8c1645d75d7arow3_col10\" class=\"data row3 col10\" >2.23</td>\n",
       "                        <td id=\"T_c92a1c02_cd87_11ea_8c8f_8c1645d75d7arow3_col11\" class=\"data row3 col11\" >745197</td>\n",
       "                        <td id=\"T_c92a1c02_cd87_11ea_8c8f_8c1645d75d7arow3_col12\" class=\"data row3 col12\" >42693</td>\n",
       "                        <td id=\"T_c92a1c02_cd87_11ea_8c8f_8c1645d75d7arow3_col13\" class=\"data row3 col13\" >5.73</td>\n",
       "                        <td id=\"T_c92a1c02_cd87_11ea_8c8f_8c1645d75d7arow3_col14\" class=\"data row3 col14\" >Europe</td>\n",
       "            </tr>\n",
       "            <tr>\n",
       "                        <th id=\"T_c92a1c02_cd87_11ea_8c8f_8c1645d75d7alevel0_row4\" class=\"row_heading level0 row4\" >154</th>\n",
       "                        <td id=\"T_c92a1c02_cd87_11ea_8c8f_8c1645d75d7arow4_col0\" class=\"data row4 col0\" >South Africa</td>\n",
       "                        <td id=\"T_c92a1c02_cd87_11ea_8c8f_8c1645d75d7arow4_col1\" class=\"data row4 col1\" >394948</td>\n",
       "                        <td id=\"T_c92a1c02_cd87_11ea_8c8f_8c1645d75d7arow4_col2\" class=\"data row4 col2\" >5940</td>\n",
       "                        <td id=\"T_c92a1c02_cd87_11ea_8c8f_8c1645d75d7arow4_col3\" class=\"data row4 col3\" >229175</td>\n",
       "                        <td id=\"T_c92a1c02_cd87_11ea_8c8f_8c1645d75d7arow4_col4\" class=\"data row4 col4\" >159833</td>\n",
       "                        <td id=\"T_c92a1c02_cd87_11ea_8c8f_8c1645d75d7arow4_col5\" class=\"data row4 col5\" >13150</td>\n",
       "                        <td id=\"T_c92a1c02_cd87_11ea_8c8f_8c1645d75d7arow4_col6\" class=\"data row4 col6\" >572</td>\n",
       "                        <td id=\"T_c92a1c02_cd87_11ea_8c8f_8c1645d75d7arow4_col7\" class=\"data row4 col7\" >21031</td>\n",
       "                        <td id=\"T_c92a1c02_cd87_11ea_8c8f_8c1645d75d7arow4_col8\" class=\"data row4 col8\" >1.5</td>\n",
       "                        <td id=\"T_c92a1c02_cd87_11ea_8c8f_8c1645d75d7arow4_col9\" class=\"data row4 col9\" >58.03</td>\n",
       "                        <td id=\"T_c92a1c02_cd87_11ea_8c8f_8c1645d75d7arow4_col10\" class=\"data row4 col10\" >2.59</td>\n",
       "                        <td id=\"T_c92a1c02_cd87_11ea_8c8f_8c1645d75d7arow4_col11\" class=\"data row4 col11\" >311049</td>\n",
       "                        <td id=\"T_c92a1c02_cd87_11ea_8c8f_8c1645d75d7arow4_col12\" class=\"data row4 col12\" >83899</td>\n",
       "                        <td id=\"T_c92a1c02_cd87_11ea_8c8f_8c1645d75d7arow4_col13\" class=\"data row4 col13\" >26.97</td>\n",
       "                        <td id=\"T_c92a1c02_cd87_11ea_8c8f_8c1645d75d7arow4_col14\" class=\"data row4 col14\" >Africa</td>\n",
       "            </tr>\n",
       "            <tr>\n",
       "                        <th id=\"T_c92a1c02_cd87_11ea_8c8f_8c1645d75d7alevel0_row5\" class=\"row_heading level0 row5\" >132</th>\n",
       "                        <td id=\"T_c92a1c02_cd87_11ea_8c8f_8c1645d75d7arow5_col0\" class=\"data row5 col0\" >Peru</td>\n",
       "                        <td id=\"T_c92a1c02_cd87_11ea_8c8f_8c1645d75d7arow5_col1\" class=\"data row5 col1\" >366550</td>\n",
       "                        <td id=\"T_c92a1c02_cd87_11ea_8c8f_8c1645d75d7arow5_col2\" class=\"data row5 col2\" >13767</td>\n",
       "                        <td id=\"T_c92a1c02_cd87_11ea_8c8f_8c1645d75d7arow5_col3\" class=\"data row5 col3\" >252246</td>\n",
       "                        <td id=\"T_c92a1c02_cd87_11ea_8c8f_8c1645d75d7arow5_col4\" class=\"data row5 col4\" >100537</td>\n",
       "                        <td id=\"T_c92a1c02_cd87_11ea_8c8f_8c1645d75d7arow5_col5\" class=\"data row5 col5\" >4463</td>\n",
       "                        <td id=\"T_c92a1c02_cd87_11ea_8c8f_8c1645d75d7arow5_col6\" class=\"data row5 col6\" >188</td>\n",
       "                        <td id=\"T_c92a1c02_cd87_11ea_8c8f_8c1645d75d7arow5_col7\" class=\"data row5 col7\" >3500</td>\n",
       "                        <td id=\"T_c92a1c02_cd87_11ea_8c8f_8c1645d75d7arow5_col8\" class=\"data row5 col8\" >3.76</td>\n",
       "                        <td id=\"T_c92a1c02_cd87_11ea_8c8f_8c1645d75d7arow5_col9\" class=\"data row5 col9\" >68.82</td>\n",
       "                        <td id=\"T_c92a1c02_cd87_11ea_8c8f_8c1645d75d7arow5_col10\" class=\"data row5 col10\" >5.46</td>\n",
       "                        <td id=\"T_c92a1c02_cd87_11ea_8c8f_8c1645d75d7arow5_col11\" class=\"data row5 col11\" >337751</td>\n",
       "                        <td id=\"T_c92a1c02_cd87_11ea_8c8f_8c1645d75d7arow5_col12\" class=\"data row5 col12\" >28799</td>\n",
       "                        <td id=\"T_c92a1c02_cd87_11ea_8c8f_8c1645d75d7arow5_col13\" class=\"data row5 col13\" >8.53</td>\n",
       "                        <td id=\"T_c92a1c02_cd87_11ea_8c8f_8c1645d75d7arow5_col14\" class=\"data row5 col14\" >Americas</td>\n",
       "            </tr>\n",
       "            <tr>\n",
       "                        <th id=\"T_c92a1c02_cd87_11ea_8c8f_8c1645d75d7alevel0_row6\" class=\"row_heading level0 row6\" >111</th>\n",
       "                        <td id=\"T_c92a1c02_cd87_11ea_8c8f_8c1645d75d7arow6_col0\" class=\"data row6 col0\" >Mexico</td>\n",
       "                        <td id=\"T_c92a1c02_cd87_11ea_8c8f_8c1645d75d7arow6_col1\" class=\"data row6 col1\" >362274</td>\n",
       "                        <td id=\"T_c92a1c02_cd87_11ea_8c8f_8c1645d75d7arow6_col2\" class=\"data row6 col2\" >41190</td>\n",
       "                        <td id=\"T_c92a1c02_cd87_11ea_8c8f_8c1645d75d7arow6_col3\" class=\"data row6 col3\" >270147</td>\n",
       "                        <td id=\"T_c92a1c02_cd87_11ea_8c8f_8c1645d75d7arow6_col4\" class=\"data row6 col4\" >50937</td>\n",
       "                        <td id=\"T_c92a1c02_cd87_11ea_8c8f_8c1645d75d7arow6_col5\" class=\"data row6 col5\" >6019</td>\n",
       "                        <td id=\"T_c92a1c02_cd87_11ea_8c8f_8c1645d75d7arow6_col6\" class=\"data row6 col6\" >790</td>\n",
       "                        <td id=\"T_c92a1c02_cd87_11ea_8c8f_8c1645d75d7arow6_col7\" class=\"data row6 col7\" >2740</td>\n",
       "                        <td id=\"T_c92a1c02_cd87_11ea_8c8f_8c1645d75d7arow6_col8\" class=\"data row6 col8\" >11.37</td>\n",
       "                        <td id=\"T_c92a1c02_cd87_11ea_8c8f_8c1645d75d7arow6_col9\" class=\"data row6 col9\" >74.57</td>\n",
       "                        <td id=\"T_c92a1c02_cd87_11ea_8c8f_8c1645d75d7arow6_col10\" class=\"data row6 col10\" >15.25</td>\n",
       "                        <td id=\"T_c92a1c02_cd87_11ea_8c8f_8c1645d75d7arow6_col11\" class=\"data row6 col11\" >317635</td>\n",
       "                        <td id=\"T_c92a1c02_cd87_11ea_8c8f_8c1645d75d7arow6_col12\" class=\"data row6 col12\" >44639</td>\n",
       "                        <td id=\"T_c92a1c02_cd87_11ea_8c8f_8c1645d75d7arow6_col13\" class=\"data row6 col13\" >14.05</td>\n",
       "                        <td id=\"T_c92a1c02_cd87_11ea_8c8f_8c1645d75d7arow6_col14\" class=\"data row6 col14\" >Americas</td>\n",
       "            </tr>\n",
       "            <tr>\n",
       "                        <th id=\"T_c92a1c02_cd87_11ea_8c8f_8c1645d75d7alevel0_row7\" class=\"row_heading level0 row7\" >35</th>\n",
       "                        <td id=\"T_c92a1c02_cd87_11ea_8c8f_8c1645d75d7arow7_col0\" class=\"data row7 col0\" >Chile</td>\n",
       "                        <td id=\"T_c92a1c02_cd87_11ea_8c8f_8c1645d75d7arow7_col1\" class=\"data row7 col1\" >334683</td>\n",
       "                        <td id=\"T_c92a1c02_cd87_11ea_8c8f_8c1645d75d7arow7_col2\" class=\"data row7 col2\" >8677</td>\n",
       "                        <td id=\"T_c92a1c02_cd87_11ea_8c8f_8c1645d75d7arow7_col3\" class=\"data row7 col3\" >306816</td>\n",
       "                        <td id=\"T_c92a1c02_cd87_11ea_8c8f_8c1645d75d7arow7_col4\" class=\"data row7 col4\" >19190</td>\n",
       "                        <td id=\"T_c92a1c02_cd87_11ea_8c8f_8c1645d75d7arow7_col5\" class=\"data row7 col5\" >0</td>\n",
       "                        <td id=\"T_c92a1c02_cd87_11ea_8c8f_8c1645d75d7arow7_col6\" class=\"data row7 col6\" >0</td>\n",
       "                        <td id=\"T_c92a1c02_cd87_11ea_8c8f_8c1645d75d7arow7_col7\" class=\"data row7 col7\" >0</td>\n",
       "                        <td id=\"T_c92a1c02_cd87_11ea_8c8f_8c1645d75d7arow7_col8\" class=\"data row7 col8\" >2.59</td>\n",
       "                        <td id=\"T_c92a1c02_cd87_11ea_8c8f_8c1645d75d7arow7_col9\" class=\"data row7 col9\" >91.67</td>\n",
       "                        <td id=\"T_c92a1c02_cd87_11ea_8c8f_8c1645d75d7arow7_col10\" class=\"data row7 col10\" >2.83</td>\n",
       "                        <td id=\"T_c92a1c02_cd87_11ea_8c8f_8c1645d75d7arow7_col11\" class=\"data row7 col11\" >321205</td>\n",
       "                        <td id=\"T_c92a1c02_cd87_11ea_8c8f_8c1645d75d7arow7_col12\" class=\"data row7 col12\" >13478</td>\n",
       "                        <td id=\"T_c92a1c02_cd87_11ea_8c8f_8c1645d75d7arow7_col13\" class=\"data row7 col13\" >4.2</td>\n",
       "                        <td id=\"T_c92a1c02_cd87_11ea_8c8f_8c1645d75d7arow7_col14\" class=\"data row7 col14\" >Americas</td>\n",
       "            </tr>\n",
       "            <tr>\n",
       "                        <th id=\"T_c92a1c02_cd87_11ea_8c8f_8c1645d75d7alevel0_row8\" class=\"row_heading level0 row8\" >177</th>\n",
       "                        <td id=\"T_c92a1c02_cd87_11ea_8c8f_8c1645d75d7arow8_col0\" class=\"data row8 col0\" >United Kingdom</td>\n",
       "                        <td id=\"T_c92a1c02_cd87_11ea_8c8f_8c1645d75d7arow8_col1\" class=\"data row8 col1\" >297952</td>\n",
       "                        <td id=\"T_c92a1c02_cd87_11ea_8c8f_8c1645d75d7arow8_col2\" class=\"data row8 col2\" >45586</td>\n",
       "                        <td id=\"T_c92a1c02_cd87_11ea_8c8f_8c1645d75d7arow8_col3\" class=\"data row8 col3\" >1394</td>\n",
       "                        <td id=\"T_c92a1c02_cd87_11ea_8c8f_8c1645d75d7arow8_col4\" class=\"data row8 col4\" >250972</td>\n",
       "                        <td id=\"T_c92a1c02_cd87_11ea_8c8f_8c1645d75d7arow8_col5\" class=\"data row8 col5\" >563</td>\n",
       "                        <td id=\"T_c92a1c02_cd87_11ea_8c8f_8c1645d75d7arow8_col6\" class=\"data row8 col6\" >79</td>\n",
       "                        <td id=\"T_c92a1c02_cd87_11ea_8c8f_8c1645d75d7arow8_col7\" class=\"data row8 col7\" >2</td>\n",
       "                        <td id=\"T_c92a1c02_cd87_11ea_8c8f_8c1645d75d7arow8_col8\" class=\"data row8 col8\" >15.3</td>\n",
       "                        <td id=\"T_c92a1c02_cd87_11ea_8c8f_8c1645d75d7arow8_col9\" class=\"data row8 col9\" >0.47</td>\n",
       "                        <td id=\"T_c92a1c02_cd87_11ea_8c8f_8c1645d75d7arow8_col10\" class=\"data row8 col10\" >3270.16</td>\n",
       "                        <td id=\"T_c92a1c02_cd87_11ea_8c8f_8c1645d75d7arow8_col11\" class=\"data row8 col11\" >293469</td>\n",
       "                        <td id=\"T_c92a1c02_cd87_11ea_8c8f_8c1645d75d7arow8_col12\" class=\"data row8 col12\" >4483</td>\n",
       "                        <td id=\"T_c92a1c02_cd87_11ea_8c8f_8c1645d75d7arow8_col13\" class=\"data row8 col13\" >1.53</td>\n",
       "                        <td id=\"T_c92a1c02_cd87_11ea_8c8f_8c1645d75d7arow8_col14\" class=\"data row8 col14\" >Europe</td>\n",
       "            </tr>\n",
       "            <tr>\n",
       "                        <th id=\"T_c92a1c02_cd87_11ea_8c8f_8c1645d75d7alevel0_row9\" class=\"row_heading level0 row9\" >81</th>\n",
       "                        <td id=\"T_c92a1c02_cd87_11ea_8c8f_8c1645d75d7arow9_col0\" class=\"data row9 col0\" >Iran</td>\n",
       "                        <td id=\"T_c92a1c02_cd87_11ea_8c8f_8c1645d75d7arow9_col1\" class=\"data row9 col1\" >281413</td>\n",
       "                        <td id=\"T_c92a1c02_cd87_11ea_8c8f_8c1645d75d7arow9_col2\" class=\"data row9 col2\" >14853</td>\n",
       "                        <td id=\"T_c92a1c02_cd87_11ea_8c8f_8c1645d75d7arow9_col3\" class=\"data row9 col3\" >244840</td>\n",
       "                        <td id=\"T_c92a1c02_cd87_11ea_8c8f_8c1645d75d7arow9_col4\" class=\"data row9 col4\" >21720</td>\n",
       "                        <td id=\"T_c92a1c02_cd87_11ea_8c8f_8c1645d75d7arow9_col5\" class=\"data row9 col5\" >2586</td>\n",
       "                        <td id=\"T_c92a1c02_cd87_11ea_8c8f_8c1645d75d7arow9_col6\" class=\"data row9 col6\" >219</td>\n",
       "                        <td id=\"T_c92a1c02_cd87_11ea_8c8f_8c1645d75d7arow9_col7\" class=\"data row9 col7\" >2489</td>\n",
       "                        <td id=\"T_c92a1c02_cd87_11ea_8c8f_8c1645d75d7arow9_col8\" class=\"data row9 col8\" >5.28</td>\n",
       "                        <td id=\"T_c92a1c02_cd87_11ea_8c8f_8c1645d75d7arow9_col9\" class=\"data row9 col9\" >87</td>\n",
       "                        <td id=\"T_c92a1c02_cd87_11ea_8c8f_8c1645d75d7arow9_col10\" class=\"data row9 col10\" >6.07</td>\n",
       "                        <td id=\"T_c92a1c02_cd87_11ea_8c8f_8c1645d75d7arow9_col11\" class=\"data row9 col11\" >264561</td>\n",
       "                        <td id=\"T_c92a1c02_cd87_11ea_8c8f_8c1645d75d7arow9_col12\" class=\"data row9 col12\" >16852</td>\n",
       "                        <td id=\"T_c92a1c02_cd87_11ea_8c8f_8c1645d75d7arow9_col13\" class=\"data row9 col13\" >6.37</td>\n",
       "                        <td id=\"T_c92a1c02_cd87_11ea_8c8f_8c1645d75d7arow9_col14\" class=\"data row9 col14\" >Eastern Mediterranean</td>\n",
       "            </tr>\n",
       "    </tbody></table>"
      ],
      "text/plain": [
       "<pandas.io.formats.style.Styler at 0x2a4baae9a90>"
      ]
     },
     "execution_count": 15,
     "metadata": {},
     "output_type": "execute_result"
    }
   ],
   "source": [
    "df_general_sorted.head(10).style.apply(highlight_column, axis=None)"
   ]
  },
  {
   "cell_type": "code",
   "execution_count": 16,
   "metadata": {},
   "outputs": [
    {
     "data": {
      "application/vnd.plotly.v1+json": {
       "config": {
        "plotlyServerURL": "https://plot.ly"
       },
       "data": [
        {
         "hoverlabel": {
          "namelength": 0
         },
         "hovertemplate": "<b>%{hovertext}</b><br><br>country=%{x}<br>confirmed=%{marker.size}",
         "hovertext": [
          "US"
         ],
         "legendgroup": "US",
         "marker": {
          "color": "#636efa",
          "size": [
           3970906
          ],
          "sizemode": "area",
          "sizeref": 1103.0294444444444,
          "symbol": "circle"
         },
         "mode": "markers",
         "name": "US",
         "showlegend": true,
         "type": "scatter",
         "x": [
          "US"
         ],
         "xaxis": "x",
         "y": [
          3970906
         ],
         "yaxis": "y"
        },
        {
         "hoverlabel": {
          "namelength": 0
         },
         "hovertemplate": "<b>%{hovertext}</b><br><br>country=%{x}<br>confirmed=%{marker.size}",
         "hovertext": [
          "Brazil"
         ],
         "legendgroup": "Brazil",
         "marker": {
          "color": "#EF553B",
          "size": [
           2227514
          ],
          "sizemode": "area",
          "sizeref": 1103.0294444444444,
          "symbol": "circle"
         },
         "mode": "markers",
         "name": "Brazil",
         "showlegend": true,
         "type": "scatter",
         "x": [
          "Brazil"
         ],
         "xaxis": "x",
         "y": [
          2227514
         ],
         "yaxis": "y"
        },
        {
         "hoverlabel": {
          "namelength": 0
         },
         "hovertemplate": "<b>%{hovertext}</b><br><br>country=%{x}<br>confirmed=%{marker.size}",
         "hovertext": [
          "India"
         ],
         "legendgroup": "India",
         "marker": {
          "color": "#00cc96",
          "size": [
           1238798
          ],
          "sizemode": "area",
          "sizeref": 1103.0294444444444,
          "symbol": "circle"
         },
         "mode": "markers",
         "name": "India",
         "showlegend": true,
         "type": "scatter",
         "x": [
          "India"
         ],
         "xaxis": "x",
         "y": [
          1238798
         ],
         "yaxis": "y"
        },
        {
         "hoverlabel": {
          "namelength": 0
         },
         "hovertemplate": "<b>%{hovertext}</b><br><br>country=%{x}<br>confirmed=%{marker.size}",
         "hovertext": [
          "Russia"
         ],
         "legendgroup": "Russia",
         "marker": {
          "color": "#ab63fa",
          "size": [
           787890
          ],
          "sizemode": "area",
          "sizeref": 1103.0294444444444,
          "symbol": "circle"
         },
         "mode": "markers",
         "name": "Russia",
         "showlegend": true,
         "type": "scatter",
         "x": [
          "Russia"
         ],
         "xaxis": "x",
         "y": [
          787890
         ],
         "yaxis": "y"
        },
        {
         "hoverlabel": {
          "namelength": 0
         },
         "hovertemplate": "<b>%{hovertext}</b><br><br>country=%{x}<br>confirmed=%{marker.size}",
         "hovertext": [
          "South Africa"
         ],
         "legendgroup": "South Africa",
         "marker": {
          "color": "#FFA15A",
          "size": [
           394948
          ],
          "sizemode": "area",
          "sizeref": 1103.0294444444444,
          "symbol": "circle"
         },
         "mode": "markers",
         "name": "South Africa",
         "showlegend": true,
         "type": "scatter",
         "x": [
          "South Africa"
         ],
         "xaxis": "x",
         "y": [
          394948
         ],
         "yaxis": "y"
        },
        {
         "hoverlabel": {
          "namelength": 0
         },
         "hovertemplate": "<b>%{hovertext}</b><br><br>country=%{x}<br>confirmed=%{marker.size}",
         "hovertext": [
          "Peru"
         ],
         "legendgroup": "Peru",
         "marker": {
          "color": "#19d3f3",
          "size": [
           366550
          ],
          "sizemode": "area",
          "sizeref": 1103.0294444444444,
          "symbol": "circle"
         },
         "mode": "markers",
         "name": "Peru",
         "showlegend": true,
         "type": "scatter",
         "x": [
          "Peru"
         ],
         "xaxis": "x",
         "y": [
          366550
         ],
         "yaxis": "y"
        },
        {
         "hoverlabel": {
          "namelength": 0
         },
         "hovertemplate": "<b>%{hovertext}</b><br><br>country=%{x}<br>confirmed=%{marker.size}",
         "hovertext": [
          "Mexico"
         ],
         "legendgroup": "Mexico",
         "marker": {
          "color": "#FF6692",
          "size": [
           362274
          ],
          "sizemode": "area",
          "sizeref": 1103.0294444444444,
          "symbol": "circle"
         },
         "mode": "markers",
         "name": "Mexico",
         "showlegend": true,
         "type": "scatter",
         "x": [
          "Mexico"
         ],
         "xaxis": "x",
         "y": [
          362274
         ],
         "yaxis": "y"
        },
        {
         "hoverlabel": {
          "namelength": 0
         },
         "hovertemplate": "<b>%{hovertext}</b><br><br>country=%{x}<br>confirmed=%{marker.size}",
         "hovertext": [
          "Chile"
         ],
         "legendgroup": "Chile",
         "marker": {
          "color": "#B6E880",
          "size": [
           334683
          ],
          "sizemode": "area",
          "sizeref": 1103.0294444444444,
          "symbol": "circle"
         },
         "mode": "markers",
         "name": "Chile",
         "showlegend": true,
         "type": "scatter",
         "x": [
          "Chile"
         ],
         "xaxis": "x",
         "y": [
          334683
         ],
         "yaxis": "y"
        },
        {
         "hoverlabel": {
          "namelength": 0
         },
         "hovertemplate": "<b>%{hovertext}</b><br><br>country=%{x}<br>confirmed=%{marker.size}",
         "hovertext": [
          "United Kingdom"
         ],
         "legendgroup": "United Kingdom",
         "marker": {
          "color": "#FF97FF",
          "size": [
           297952
          ],
          "sizemode": "area",
          "sizeref": 1103.0294444444444,
          "symbol": "circle"
         },
         "mode": "markers",
         "name": "United Kingdom",
         "showlegend": true,
         "type": "scatter",
         "x": [
          "United Kingdom"
         ],
         "xaxis": "x",
         "y": [
          297952
         ],
         "yaxis": "y"
        },
        {
         "hoverlabel": {
          "namelength": 0
         },
         "hovertemplate": "<b>%{hovertext}</b><br><br>country=%{x}<br>confirmed=%{marker.size}",
         "hovertext": [
          "Iran"
         ],
         "legendgroup": "Iran",
         "marker": {
          "color": "#FECB52",
          "size": [
           281413
          ],
          "sizemode": "area",
          "sizeref": 1103.0294444444444,
          "symbol": "circle"
         },
         "mode": "markers",
         "name": "Iran",
         "showlegend": true,
         "type": "scatter",
         "x": [
          "Iran"
         ],
         "xaxis": "x",
         "y": [
          281413
         ],
         "yaxis": "y"
        },
        {
         "hoverlabel": {
          "namelength": 0
         },
         "hovertemplate": "<b>%{hovertext}</b><br><br>country=%{x}<br>confirmed=%{marker.size}",
         "hovertext": [
          "Pakistan"
         ],
         "legendgroup": "Pakistan",
         "marker": {
          "color": "#636efa",
          "size": [
           269191
          ],
          "sizemode": "area",
          "sizeref": 1103.0294444444444,
          "symbol": "circle"
         },
         "mode": "markers",
         "name": "Pakistan",
         "showlegend": true,
         "type": "scatter",
         "x": [
          "Pakistan"
         ],
         "xaxis": "x",
         "y": [
          269191
         ],
         "yaxis": "y"
        },
        {
         "hoverlabel": {
          "namelength": 0
         },
         "hovertemplate": "<b>%{hovertext}</b><br><br>country=%{x}<br>confirmed=%{marker.size}",
         "hovertext": [
          "Spain"
         ],
         "legendgroup": "Spain",
         "marker": {
          "color": "#EF553B",
          "size": [
           267551
          ],
          "sizemode": "area",
          "sizeref": 1103.0294444444444,
          "symbol": "circle"
         },
         "mode": "markers",
         "name": "Spain",
         "showlegend": true,
         "type": "scatter",
         "x": [
          "Spain"
         ],
         "xaxis": "x",
         "y": [
          267551
         ],
         "yaxis": "y"
        },
        {
         "hoverlabel": {
          "namelength": 0
         },
         "hovertemplate": "<b>%{hovertext}</b><br><br>country=%{x}<br>confirmed=%{marker.size}",
         "hovertext": [
          "Saudi Arabia"
         ],
         "legendgroup": "Saudi Arabia",
         "marker": {
          "color": "#00cc96",
          "size": [
           258156
          ],
          "sizemode": "area",
          "sizeref": 1103.0294444444444,
          "symbol": "circle"
         },
         "mode": "markers",
         "name": "Saudi Arabia",
         "showlegend": true,
         "type": "scatter",
         "x": [
          "Saudi Arabia"
         ],
         "xaxis": "x",
         "y": [
          258156
         ],
         "yaxis": "y"
        },
        {
         "hoverlabel": {
          "namelength": 0
         },
         "hovertemplate": "<b>%{hovertext}</b><br><br>country=%{x}<br>confirmed=%{marker.size}",
         "hovertext": [
          "Italy"
         ],
         "legendgroup": "Italy",
         "marker": {
          "color": "#ab63fa",
          "size": [
           245032
          ],
          "sizemode": "area",
          "sizeref": 1103.0294444444444,
          "symbol": "circle"
         },
         "mode": "markers",
         "name": "Italy",
         "showlegend": true,
         "type": "scatter",
         "x": [
          "Italy"
         ],
         "xaxis": "x",
         "y": [
          245032
         ],
         "yaxis": "y"
        },
        {
         "hoverlabel": {
          "namelength": 0
         },
         "hovertemplate": "<b>%{hovertext}</b><br><br>country=%{x}<br>confirmed=%{marker.size}",
         "hovertext": [
          "Turkey"
         ],
         "legendgroup": "Turkey",
         "marker": {
          "color": "#FFA15A",
          "size": [
           222402
          ],
          "sizemode": "area",
          "sizeref": 1103.0294444444444,
          "symbol": "circle"
         },
         "mode": "markers",
         "name": "Turkey",
         "showlegend": true,
         "type": "scatter",
         "x": [
          "Turkey"
         ],
         "xaxis": "x",
         "y": [
          222402
         ],
         "yaxis": "y"
        }
       ],
       "layout": {
        "legend": {
         "itemsizing": "constant",
         "title": {
          "text": "country"
         },
         "tracegroupgap": 0
        },
        "margin": {
         "t": 60
        },
        "template": {
         "data": {
          "bar": [
           {
            "error_x": {
             "color": "#2a3f5f"
            },
            "error_y": {
             "color": "#2a3f5f"
            },
            "marker": {
             "line": {
              "color": "#E5ECF6",
              "width": 0.5
             }
            },
            "type": "bar"
           }
          ],
          "barpolar": [
           {
            "marker": {
             "line": {
              "color": "#E5ECF6",
              "width": 0.5
             }
            },
            "type": "barpolar"
           }
          ],
          "carpet": [
           {
            "aaxis": {
             "endlinecolor": "#2a3f5f",
             "gridcolor": "white",
             "linecolor": "white",
             "minorgridcolor": "white",
             "startlinecolor": "#2a3f5f"
            },
            "baxis": {
             "endlinecolor": "#2a3f5f",
             "gridcolor": "white",
             "linecolor": "white",
             "minorgridcolor": "white",
             "startlinecolor": "#2a3f5f"
            },
            "type": "carpet"
           }
          ],
          "choropleth": [
           {
            "colorbar": {
             "outlinewidth": 0,
             "ticks": ""
            },
            "type": "choropleth"
           }
          ],
          "contour": [
           {
            "colorbar": {
             "outlinewidth": 0,
             "ticks": ""
            },
            "colorscale": [
             [
              0,
              "#0d0887"
             ],
             [
              0.1111111111111111,
              "#46039f"
             ],
             [
              0.2222222222222222,
              "#7201a8"
             ],
             [
              0.3333333333333333,
              "#9c179e"
             ],
             [
              0.4444444444444444,
              "#bd3786"
             ],
             [
              0.5555555555555556,
              "#d8576b"
             ],
             [
              0.6666666666666666,
              "#ed7953"
             ],
             [
              0.7777777777777778,
              "#fb9f3a"
             ],
             [
              0.8888888888888888,
              "#fdca26"
             ],
             [
              1,
              "#f0f921"
             ]
            ],
            "type": "contour"
           }
          ],
          "contourcarpet": [
           {
            "colorbar": {
             "outlinewidth": 0,
             "ticks": ""
            },
            "type": "contourcarpet"
           }
          ],
          "heatmap": [
           {
            "colorbar": {
             "outlinewidth": 0,
             "ticks": ""
            },
            "colorscale": [
             [
              0,
              "#0d0887"
             ],
             [
              0.1111111111111111,
              "#46039f"
             ],
             [
              0.2222222222222222,
              "#7201a8"
             ],
             [
              0.3333333333333333,
              "#9c179e"
             ],
             [
              0.4444444444444444,
              "#bd3786"
             ],
             [
              0.5555555555555556,
              "#d8576b"
             ],
             [
              0.6666666666666666,
              "#ed7953"
             ],
             [
              0.7777777777777778,
              "#fb9f3a"
             ],
             [
              0.8888888888888888,
              "#fdca26"
             ],
             [
              1,
              "#f0f921"
             ]
            ],
            "type": "heatmap"
           }
          ],
          "heatmapgl": [
           {
            "colorbar": {
             "outlinewidth": 0,
             "ticks": ""
            },
            "colorscale": [
             [
              0,
              "#0d0887"
             ],
             [
              0.1111111111111111,
              "#46039f"
             ],
             [
              0.2222222222222222,
              "#7201a8"
             ],
             [
              0.3333333333333333,
              "#9c179e"
             ],
             [
              0.4444444444444444,
              "#bd3786"
             ],
             [
              0.5555555555555556,
              "#d8576b"
             ],
             [
              0.6666666666666666,
              "#ed7953"
             ],
             [
              0.7777777777777778,
              "#fb9f3a"
             ],
             [
              0.8888888888888888,
              "#fdca26"
             ],
             [
              1,
              "#f0f921"
             ]
            ],
            "type": "heatmapgl"
           }
          ],
          "histogram": [
           {
            "marker": {
             "colorbar": {
              "outlinewidth": 0,
              "ticks": ""
             }
            },
            "type": "histogram"
           }
          ],
          "histogram2d": [
           {
            "colorbar": {
             "outlinewidth": 0,
             "ticks": ""
            },
            "colorscale": [
             [
              0,
              "#0d0887"
             ],
             [
              0.1111111111111111,
              "#46039f"
             ],
             [
              0.2222222222222222,
              "#7201a8"
             ],
             [
              0.3333333333333333,
              "#9c179e"
             ],
             [
              0.4444444444444444,
              "#bd3786"
             ],
             [
              0.5555555555555556,
              "#d8576b"
             ],
             [
              0.6666666666666666,
              "#ed7953"
             ],
             [
              0.7777777777777778,
              "#fb9f3a"
             ],
             [
              0.8888888888888888,
              "#fdca26"
             ],
             [
              1,
              "#f0f921"
             ]
            ],
            "type": "histogram2d"
           }
          ],
          "histogram2dcontour": [
           {
            "colorbar": {
             "outlinewidth": 0,
             "ticks": ""
            },
            "colorscale": [
             [
              0,
              "#0d0887"
             ],
             [
              0.1111111111111111,
              "#46039f"
             ],
             [
              0.2222222222222222,
              "#7201a8"
             ],
             [
              0.3333333333333333,
              "#9c179e"
             ],
             [
              0.4444444444444444,
              "#bd3786"
             ],
             [
              0.5555555555555556,
              "#d8576b"
             ],
             [
              0.6666666666666666,
              "#ed7953"
             ],
             [
              0.7777777777777778,
              "#fb9f3a"
             ],
             [
              0.8888888888888888,
              "#fdca26"
             ],
             [
              1,
              "#f0f921"
             ]
            ],
            "type": "histogram2dcontour"
           }
          ],
          "mesh3d": [
           {
            "colorbar": {
             "outlinewidth": 0,
             "ticks": ""
            },
            "type": "mesh3d"
           }
          ],
          "parcoords": [
           {
            "line": {
             "colorbar": {
              "outlinewidth": 0,
              "ticks": ""
             }
            },
            "type": "parcoords"
           }
          ],
          "pie": [
           {
            "automargin": true,
            "type": "pie"
           }
          ],
          "scatter": [
           {
            "marker": {
             "colorbar": {
              "outlinewidth": 0,
              "ticks": ""
             }
            },
            "type": "scatter"
           }
          ],
          "scatter3d": [
           {
            "line": {
             "colorbar": {
              "outlinewidth": 0,
              "ticks": ""
             }
            },
            "marker": {
             "colorbar": {
              "outlinewidth": 0,
              "ticks": ""
             }
            },
            "type": "scatter3d"
           }
          ],
          "scattercarpet": [
           {
            "marker": {
             "colorbar": {
              "outlinewidth": 0,
              "ticks": ""
             }
            },
            "type": "scattercarpet"
           }
          ],
          "scattergeo": [
           {
            "marker": {
             "colorbar": {
              "outlinewidth": 0,
              "ticks": ""
             }
            },
            "type": "scattergeo"
           }
          ],
          "scattergl": [
           {
            "marker": {
             "colorbar": {
              "outlinewidth": 0,
              "ticks": ""
             }
            },
            "type": "scattergl"
           }
          ],
          "scattermapbox": [
           {
            "marker": {
             "colorbar": {
              "outlinewidth": 0,
              "ticks": ""
             }
            },
            "type": "scattermapbox"
           }
          ],
          "scatterpolar": [
           {
            "marker": {
             "colorbar": {
              "outlinewidth": 0,
              "ticks": ""
             }
            },
            "type": "scatterpolar"
           }
          ],
          "scatterpolargl": [
           {
            "marker": {
             "colorbar": {
              "outlinewidth": 0,
              "ticks": ""
             }
            },
            "type": "scatterpolargl"
           }
          ],
          "scatterternary": [
           {
            "marker": {
             "colorbar": {
              "outlinewidth": 0,
              "ticks": ""
             }
            },
            "type": "scatterternary"
           }
          ],
          "surface": [
           {
            "colorbar": {
             "outlinewidth": 0,
             "ticks": ""
            },
            "colorscale": [
             [
              0,
              "#0d0887"
             ],
             [
              0.1111111111111111,
              "#46039f"
             ],
             [
              0.2222222222222222,
              "#7201a8"
             ],
             [
              0.3333333333333333,
              "#9c179e"
             ],
             [
              0.4444444444444444,
              "#bd3786"
             ],
             [
              0.5555555555555556,
              "#d8576b"
             ],
             [
              0.6666666666666666,
              "#ed7953"
             ],
             [
              0.7777777777777778,
              "#fb9f3a"
             ],
             [
              0.8888888888888888,
              "#fdca26"
             ],
             [
              1,
              "#f0f921"
             ]
            ],
            "type": "surface"
           }
          ],
          "table": [
           {
            "cells": {
             "fill": {
              "color": "#EBF0F8"
             },
             "line": {
              "color": "white"
             }
            },
            "header": {
             "fill": {
              "color": "#C8D4E3"
             },
             "line": {
              "color": "white"
             }
            },
            "type": "table"
           }
          ]
         },
         "layout": {
          "annotationdefaults": {
           "arrowcolor": "#2a3f5f",
           "arrowhead": 0,
           "arrowwidth": 1
          },
          "coloraxis": {
           "colorbar": {
            "outlinewidth": 0,
            "ticks": ""
           }
          },
          "colorscale": {
           "diverging": [
            [
             0,
             "#8e0152"
            ],
            [
             0.1,
             "#c51b7d"
            ],
            [
             0.2,
             "#de77ae"
            ],
            [
             0.3,
             "#f1b6da"
            ],
            [
             0.4,
             "#fde0ef"
            ],
            [
             0.5,
             "#f7f7f7"
            ],
            [
             0.6,
             "#e6f5d0"
            ],
            [
             0.7,
             "#b8e186"
            ],
            [
             0.8,
             "#7fbc41"
            ],
            [
             0.9,
             "#4d9221"
            ],
            [
             1,
             "#276419"
            ]
           ],
           "sequential": [
            [
             0,
             "#0d0887"
            ],
            [
             0.1111111111111111,
             "#46039f"
            ],
            [
             0.2222222222222222,
             "#7201a8"
            ],
            [
             0.3333333333333333,
             "#9c179e"
            ],
            [
             0.4444444444444444,
             "#bd3786"
            ],
            [
             0.5555555555555556,
             "#d8576b"
            ],
            [
             0.6666666666666666,
             "#ed7953"
            ],
            [
             0.7777777777777778,
             "#fb9f3a"
            ],
            [
             0.8888888888888888,
             "#fdca26"
            ],
            [
             1,
             "#f0f921"
            ]
           ],
           "sequentialminus": [
            [
             0,
             "#0d0887"
            ],
            [
             0.1111111111111111,
             "#46039f"
            ],
            [
             0.2222222222222222,
             "#7201a8"
            ],
            [
             0.3333333333333333,
             "#9c179e"
            ],
            [
             0.4444444444444444,
             "#bd3786"
            ],
            [
             0.5555555555555556,
             "#d8576b"
            ],
            [
             0.6666666666666666,
             "#ed7953"
            ],
            [
             0.7777777777777778,
             "#fb9f3a"
            ],
            [
             0.8888888888888888,
             "#fdca26"
            ],
            [
             1,
             "#f0f921"
            ]
           ]
          },
          "colorway": [
           "#636efa",
           "#EF553B",
           "#00cc96",
           "#ab63fa",
           "#FFA15A",
           "#19d3f3",
           "#FF6692",
           "#B6E880",
           "#FF97FF",
           "#FECB52"
          ],
          "font": {
           "color": "#2a3f5f"
          },
          "geo": {
           "bgcolor": "white",
           "lakecolor": "white",
           "landcolor": "#E5ECF6",
           "showlakes": true,
           "showland": true,
           "subunitcolor": "white"
          },
          "hoverlabel": {
           "align": "left"
          },
          "hovermode": "closest",
          "mapbox": {
           "style": "light"
          },
          "paper_bgcolor": "white",
          "plot_bgcolor": "#E5ECF6",
          "polar": {
           "angularaxis": {
            "gridcolor": "white",
            "linecolor": "white",
            "ticks": ""
           },
           "bgcolor": "#E5ECF6",
           "radialaxis": {
            "gridcolor": "white",
            "linecolor": "white",
            "ticks": ""
           }
          },
          "scene": {
           "xaxis": {
            "backgroundcolor": "#E5ECF6",
            "gridcolor": "white",
            "gridwidth": 2,
            "linecolor": "white",
            "showbackground": true,
            "ticks": "",
            "zerolinecolor": "white"
           },
           "yaxis": {
            "backgroundcolor": "#E5ECF6",
            "gridcolor": "white",
            "gridwidth": 2,
            "linecolor": "white",
            "showbackground": true,
            "ticks": "",
            "zerolinecolor": "white"
           },
           "zaxis": {
            "backgroundcolor": "#E5ECF6",
            "gridcolor": "white",
            "gridwidth": 2,
            "linecolor": "white",
            "showbackground": true,
            "ticks": "",
            "zerolinecolor": "white"
           }
          },
          "shapedefaults": {
           "line": {
            "color": "#2a3f5f"
           }
          },
          "ternary": {
           "aaxis": {
            "gridcolor": "white",
            "linecolor": "white",
            "ticks": ""
           },
           "baxis": {
            "gridcolor": "white",
            "linecolor": "white",
            "ticks": ""
           },
           "bgcolor": "#E5ECF6",
           "caxis": {
            "gridcolor": "white",
            "linecolor": "white",
            "ticks": ""
           }
          },
          "title": {
           "x": 0.05
          },
          "xaxis": {
           "automargin": true,
           "gridcolor": "white",
           "linecolor": "white",
           "ticks": "",
           "title": {
            "standoff": 15
           },
           "zerolinecolor": "white",
           "zerolinewidth": 2
          },
          "yaxis": {
           "automargin": true,
           "gridcolor": "white",
           "linecolor": "white",
           "ticks": "",
           "title": {
            "standoff": 15
           },
           "zerolinecolor": "white",
           "zerolinewidth": 2
          }
         }
        },
        "xaxis": {
         "anchor": "y",
         "categoryarray": [
          "US",
          "Brazil",
          "India",
          "Russia",
          "South Africa",
          "Peru",
          "Mexico",
          "Chile",
          "United Kingdom",
          "Iran",
          "Pakistan",
          "Spain",
          "Saudi Arabia",
          "Italy",
          "Turkey"
         ],
         "categoryorder": "array",
         "domain": [
          0,
          1
         ],
         "title": {
          "text": "country"
         }
        },
        "yaxis": {
         "anchor": "x",
         "domain": [
          0,
          1
         ],
         "title": {
          "text": "confirmed"
         }
        }
       }
      },
      "text/html": [
       "<div>\n",
       "        \n",
       "        \n",
       "            <div id=\"886bdbb6-e1fa-45d1-8edb-68549ab7bfbd\" class=\"plotly-graph-div\" style=\"height:525px; width:100%;\"></div>\n",
       "            <script type=\"text/javascript\">\n",
       "                require([\"plotly\"], function(Plotly) {\n",
       "                    window.PLOTLYENV=window.PLOTLYENV || {};\n",
       "                    \n",
       "                if (document.getElementById(\"886bdbb6-e1fa-45d1-8edb-68549ab7bfbd\")) {\n",
       "                    Plotly.newPlot(\n",
       "                        '886bdbb6-e1fa-45d1-8edb-68549ab7bfbd',\n",
       "                        [{\"hoverlabel\": {\"namelength\": 0}, \"hovertemplate\": \"<b>%{hovertext}</b><br><br>country=%{x}<br>confirmed=%{marker.size}\", \"hovertext\": [\"US\"], \"legendgroup\": \"US\", \"marker\": {\"color\": \"#636efa\", \"size\": [3970906], \"sizemode\": \"area\", \"sizeref\": 1103.0294444444444, \"symbol\": \"circle\"}, \"mode\": \"markers\", \"name\": \"US\", \"showlegend\": true, \"type\": \"scatter\", \"x\": [\"US\"], \"xaxis\": \"x\", \"y\": [3970906], \"yaxis\": \"y\"}, {\"hoverlabel\": {\"namelength\": 0}, \"hovertemplate\": \"<b>%{hovertext}</b><br><br>country=%{x}<br>confirmed=%{marker.size}\", \"hovertext\": [\"Brazil\"], \"legendgroup\": \"Brazil\", \"marker\": {\"color\": \"#EF553B\", \"size\": [2227514], \"sizemode\": \"area\", \"sizeref\": 1103.0294444444444, \"symbol\": \"circle\"}, \"mode\": \"markers\", \"name\": \"Brazil\", \"showlegend\": true, \"type\": \"scatter\", \"x\": [\"Brazil\"], \"xaxis\": \"x\", \"y\": [2227514], \"yaxis\": \"y\"}, {\"hoverlabel\": {\"namelength\": 0}, \"hovertemplate\": \"<b>%{hovertext}</b><br><br>country=%{x}<br>confirmed=%{marker.size}\", \"hovertext\": [\"India\"], \"legendgroup\": \"India\", \"marker\": {\"color\": \"#00cc96\", \"size\": [1238798], \"sizemode\": \"area\", \"sizeref\": 1103.0294444444444, \"symbol\": \"circle\"}, \"mode\": \"markers\", \"name\": \"India\", \"showlegend\": true, \"type\": \"scatter\", \"x\": [\"India\"], \"xaxis\": \"x\", \"y\": [1238798], \"yaxis\": \"y\"}, {\"hoverlabel\": {\"namelength\": 0}, \"hovertemplate\": \"<b>%{hovertext}</b><br><br>country=%{x}<br>confirmed=%{marker.size}\", \"hovertext\": [\"Russia\"], \"legendgroup\": \"Russia\", \"marker\": {\"color\": \"#ab63fa\", \"size\": [787890], \"sizemode\": \"area\", \"sizeref\": 1103.0294444444444, \"symbol\": \"circle\"}, \"mode\": \"markers\", \"name\": \"Russia\", \"showlegend\": true, \"type\": \"scatter\", \"x\": [\"Russia\"], \"xaxis\": \"x\", \"y\": [787890], \"yaxis\": \"y\"}, {\"hoverlabel\": {\"namelength\": 0}, \"hovertemplate\": \"<b>%{hovertext}</b><br><br>country=%{x}<br>confirmed=%{marker.size}\", \"hovertext\": [\"South Africa\"], \"legendgroup\": \"South Africa\", \"marker\": {\"color\": \"#FFA15A\", \"size\": [394948], \"sizemode\": \"area\", \"sizeref\": 1103.0294444444444, \"symbol\": \"circle\"}, \"mode\": \"markers\", \"name\": \"South Africa\", \"showlegend\": true, \"type\": \"scatter\", \"x\": [\"South Africa\"], \"xaxis\": \"x\", \"y\": [394948], \"yaxis\": \"y\"}, {\"hoverlabel\": {\"namelength\": 0}, \"hovertemplate\": \"<b>%{hovertext}</b><br><br>country=%{x}<br>confirmed=%{marker.size}\", \"hovertext\": [\"Peru\"], \"legendgroup\": \"Peru\", \"marker\": {\"color\": \"#19d3f3\", \"size\": [366550], \"sizemode\": \"area\", \"sizeref\": 1103.0294444444444, \"symbol\": \"circle\"}, \"mode\": \"markers\", \"name\": \"Peru\", \"showlegend\": true, \"type\": \"scatter\", \"x\": [\"Peru\"], \"xaxis\": \"x\", \"y\": [366550], \"yaxis\": \"y\"}, {\"hoverlabel\": {\"namelength\": 0}, \"hovertemplate\": \"<b>%{hovertext}</b><br><br>country=%{x}<br>confirmed=%{marker.size}\", \"hovertext\": [\"Mexico\"], \"legendgroup\": \"Mexico\", \"marker\": {\"color\": \"#FF6692\", \"size\": [362274], \"sizemode\": \"area\", \"sizeref\": 1103.0294444444444, \"symbol\": \"circle\"}, \"mode\": \"markers\", \"name\": \"Mexico\", \"showlegend\": true, \"type\": \"scatter\", \"x\": [\"Mexico\"], \"xaxis\": \"x\", \"y\": [362274], \"yaxis\": \"y\"}, {\"hoverlabel\": {\"namelength\": 0}, \"hovertemplate\": \"<b>%{hovertext}</b><br><br>country=%{x}<br>confirmed=%{marker.size}\", \"hovertext\": [\"Chile\"], \"legendgroup\": \"Chile\", \"marker\": {\"color\": \"#B6E880\", \"size\": [334683], \"sizemode\": \"area\", \"sizeref\": 1103.0294444444444, \"symbol\": \"circle\"}, \"mode\": \"markers\", \"name\": \"Chile\", \"showlegend\": true, \"type\": \"scatter\", \"x\": [\"Chile\"], \"xaxis\": \"x\", \"y\": [334683], \"yaxis\": \"y\"}, {\"hoverlabel\": {\"namelength\": 0}, \"hovertemplate\": \"<b>%{hovertext}</b><br><br>country=%{x}<br>confirmed=%{marker.size}\", \"hovertext\": [\"United Kingdom\"], \"legendgroup\": \"United Kingdom\", \"marker\": {\"color\": \"#FF97FF\", \"size\": [297952], \"sizemode\": \"area\", \"sizeref\": 1103.0294444444444, \"symbol\": \"circle\"}, \"mode\": \"markers\", \"name\": \"United Kingdom\", \"showlegend\": true, \"type\": \"scatter\", \"x\": [\"United Kingdom\"], \"xaxis\": \"x\", \"y\": [297952], \"yaxis\": \"y\"}, {\"hoverlabel\": {\"namelength\": 0}, \"hovertemplate\": \"<b>%{hovertext}</b><br><br>country=%{x}<br>confirmed=%{marker.size}\", \"hovertext\": [\"Iran\"], \"legendgroup\": \"Iran\", \"marker\": {\"color\": \"#FECB52\", \"size\": [281413], \"sizemode\": \"area\", \"sizeref\": 1103.0294444444444, \"symbol\": \"circle\"}, \"mode\": \"markers\", \"name\": \"Iran\", \"showlegend\": true, \"type\": \"scatter\", \"x\": [\"Iran\"], \"xaxis\": \"x\", \"y\": [281413], \"yaxis\": \"y\"}, {\"hoverlabel\": {\"namelength\": 0}, \"hovertemplate\": \"<b>%{hovertext}</b><br><br>country=%{x}<br>confirmed=%{marker.size}\", \"hovertext\": [\"Pakistan\"], \"legendgroup\": \"Pakistan\", \"marker\": {\"color\": \"#636efa\", \"size\": [269191], \"sizemode\": \"area\", \"sizeref\": 1103.0294444444444, \"symbol\": \"circle\"}, \"mode\": \"markers\", \"name\": \"Pakistan\", \"showlegend\": true, \"type\": \"scatter\", \"x\": [\"Pakistan\"], \"xaxis\": \"x\", \"y\": [269191], \"yaxis\": \"y\"}, {\"hoverlabel\": {\"namelength\": 0}, \"hovertemplate\": \"<b>%{hovertext}</b><br><br>country=%{x}<br>confirmed=%{marker.size}\", \"hovertext\": [\"Spain\"], \"legendgroup\": \"Spain\", \"marker\": {\"color\": \"#EF553B\", \"size\": [267551], \"sizemode\": \"area\", \"sizeref\": 1103.0294444444444, \"symbol\": \"circle\"}, \"mode\": \"markers\", \"name\": \"Spain\", \"showlegend\": true, \"type\": \"scatter\", \"x\": [\"Spain\"], \"xaxis\": \"x\", \"y\": [267551], \"yaxis\": \"y\"}, {\"hoverlabel\": {\"namelength\": 0}, \"hovertemplate\": \"<b>%{hovertext}</b><br><br>country=%{x}<br>confirmed=%{marker.size}\", \"hovertext\": [\"Saudi Arabia\"], \"legendgroup\": \"Saudi Arabia\", \"marker\": {\"color\": \"#00cc96\", \"size\": [258156], \"sizemode\": \"area\", \"sizeref\": 1103.0294444444444, \"symbol\": \"circle\"}, \"mode\": \"markers\", \"name\": \"Saudi Arabia\", \"showlegend\": true, \"type\": \"scatter\", \"x\": [\"Saudi Arabia\"], \"xaxis\": \"x\", \"y\": [258156], \"yaxis\": \"y\"}, {\"hoverlabel\": {\"namelength\": 0}, \"hovertemplate\": \"<b>%{hovertext}</b><br><br>country=%{x}<br>confirmed=%{marker.size}\", \"hovertext\": [\"Italy\"], \"legendgroup\": \"Italy\", \"marker\": {\"color\": \"#ab63fa\", \"size\": [245032], \"sizemode\": \"area\", \"sizeref\": 1103.0294444444444, \"symbol\": \"circle\"}, \"mode\": \"markers\", \"name\": \"Italy\", \"showlegend\": true, \"type\": \"scatter\", \"x\": [\"Italy\"], \"xaxis\": \"x\", \"y\": [245032], \"yaxis\": \"y\"}, {\"hoverlabel\": {\"namelength\": 0}, \"hovertemplate\": \"<b>%{hovertext}</b><br><br>country=%{x}<br>confirmed=%{marker.size}\", \"hovertext\": [\"Turkey\"], \"legendgroup\": \"Turkey\", \"marker\": {\"color\": \"#FFA15A\", \"size\": [222402], \"sizemode\": \"area\", \"sizeref\": 1103.0294444444444, \"symbol\": \"circle\"}, \"mode\": \"markers\", \"name\": \"Turkey\", \"showlegend\": true, \"type\": \"scatter\", \"x\": [\"Turkey\"], \"xaxis\": \"x\", \"y\": [222402], \"yaxis\": \"y\"}],\n",
       "                        {\"legend\": {\"itemsizing\": \"constant\", \"title\": {\"text\": \"country\"}, \"tracegroupgap\": 0}, \"margin\": {\"t\": 60}, \"template\": {\"data\": {\"bar\": [{\"error_x\": {\"color\": \"#2a3f5f\"}, \"error_y\": {\"color\": \"#2a3f5f\"}, \"marker\": {\"line\": {\"color\": \"#E5ECF6\", \"width\": 0.5}}, \"type\": \"bar\"}], \"barpolar\": [{\"marker\": {\"line\": {\"color\": \"#E5ECF6\", \"width\": 0.5}}, \"type\": \"barpolar\"}], \"carpet\": [{\"aaxis\": {\"endlinecolor\": \"#2a3f5f\", \"gridcolor\": \"white\", \"linecolor\": \"white\", \"minorgridcolor\": \"white\", \"startlinecolor\": \"#2a3f5f\"}, \"baxis\": {\"endlinecolor\": \"#2a3f5f\", \"gridcolor\": \"white\", \"linecolor\": \"white\", \"minorgridcolor\": \"white\", \"startlinecolor\": \"#2a3f5f\"}, \"type\": \"carpet\"}], \"choropleth\": [{\"colorbar\": {\"outlinewidth\": 0, \"ticks\": \"\"}, \"type\": \"choropleth\"}], \"contour\": [{\"colorbar\": {\"outlinewidth\": 0, \"ticks\": \"\"}, \"colorscale\": [[0.0, \"#0d0887\"], [0.1111111111111111, \"#46039f\"], [0.2222222222222222, \"#7201a8\"], [0.3333333333333333, \"#9c179e\"], [0.4444444444444444, \"#bd3786\"], [0.5555555555555556, \"#d8576b\"], [0.6666666666666666, \"#ed7953\"], [0.7777777777777778, \"#fb9f3a\"], [0.8888888888888888, \"#fdca26\"], [1.0, \"#f0f921\"]], \"type\": \"contour\"}], \"contourcarpet\": [{\"colorbar\": {\"outlinewidth\": 0, \"ticks\": \"\"}, \"type\": \"contourcarpet\"}], \"heatmap\": [{\"colorbar\": {\"outlinewidth\": 0, \"ticks\": \"\"}, \"colorscale\": [[0.0, \"#0d0887\"], [0.1111111111111111, \"#46039f\"], [0.2222222222222222, \"#7201a8\"], [0.3333333333333333, \"#9c179e\"], [0.4444444444444444, \"#bd3786\"], [0.5555555555555556, \"#d8576b\"], [0.6666666666666666, \"#ed7953\"], [0.7777777777777778, \"#fb9f3a\"], [0.8888888888888888, \"#fdca26\"], [1.0, \"#f0f921\"]], \"type\": \"heatmap\"}], \"heatmapgl\": [{\"colorbar\": {\"outlinewidth\": 0, \"ticks\": \"\"}, \"colorscale\": [[0.0, \"#0d0887\"], [0.1111111111111111, \"#46039f\"], [0.2222222222222222, \"#7201a8\"], [0.3333333333333333, \"#9c179e\"], [0.4444444444444444, \"#bd3786\"], [0.5555555555555556, \"#d8576b\"], [0.6666666666666666, \"#ed7953\"], [0.7777777777777778, \"#fb9f3a\"], [0.8888888888888888, \"#fdca26\"], [1.0, \"#f0f921\"]], \"type\": \"heatmapgl\"}], \"histogram\": [{\"marker\": {\"colorbar\": {\"outlinewidth\": 0, \"ticks\": \"\"}}, \"type\": \"histogram\"}], \"histogram2d\": [{\"colorbar\": {\"outlinewidth\": 0, \"ticks\": \"\"}, \"colorscale\": [[0.0, \"#0d0887\"], [0.1111111111111111, \"#46039f\"], [0.2222222222222222, \"#7201a8\"], [0.3333333333333333, \"#9c179e\"], [0.4444444444444444, \"#bd3786\"], [0.5555555555555556, \"#d8576b\"], [0.6666666666666666, \"#ed7953\"], [0.7777777777777778, \"#fb9f3a\"], [0.8888888888888888, \"#fdca26\"], [1.0, \"#f0f921\"]], \"type\": \"histogram2d\"}], \"histogram2dcontour\": [{\"colorbar\": {\"outlinewidth\": 0, \"ticks\": \"\"}, \"colorscale\": [[0.0, \"#0d0887\"], [0.1111111111111111, \"#46039f\"], [0.2222222222222222, \"#7201a8\"], [0.3333333333333333, \"#9c179e\"], [0.4444444444444444, \"#bd3786\"], [0.5555555555555556, \"#d8576b\"], [0.6666666666666666, \"#ed7953\"], [0.7777777777777778, \"#fb9f3a\"], [0.8888888888888888, \"#fdca26\"], [1.0, \"#f0f921\"]], \"type\": \"histogram2dcontour\"}], \"mesh3d\": [{\"colorbar\": {\"outlinewidth\": 0, \"ticks\": \"\"}, \"type\": \"mesh3d\"}], \"parcoords\": [{\"line\": {\"colorbar\": {\"outlinewidth\": 0, \"ticks\": \"\"}}, \"type\": \"parcoords\"}], \"pie\": [{\"automargin\": true, \"type\": \"pie\"}], \"scatter\": [{\"marker\": {\"colorbar\": {\"outlinewidth\": 0, \"ticks\": \"\"}}, \"type\": \"scatter\"}], \"scatter3d\": [{\"line\": {\"colorbar\": {\"outlinewidth\": 0, \"ticks\": \"\"}}, \"marker\": {\"colorbar\": {\"outlinewidth\": 0, \"ticks\": \"\"}}, \"type\": \"scatter3d\"}], \"scattercarpet\": [{\"marker\": {\"colorbar\": {\"outlinewidth\": 0, \"ticks\": \"\"}}, \"type\": \"scattercarpet\"}], \"scattergeo\": [{\"marker\": {\"colorbar\": {\"outlinewidth\": 0, \"ticks\": \"\"}}, \"type\": \"scattergeo\"}], \"scattergl\": [{\"marker\": {\"colorbar\": {\"outlinewidth\": 0, \"ticks\": \"\"}}, \"type\": \"scattergl\"}], \"scattermapbox\": [{\"marker\": {\"colorbar\": {\"outlinewidth\": 0, \"ticks\": \"\"}}, \"type\": \"scattermapbox\"}], \"scatterpolar\": [{\"marker\": {\"colorbar\": {\"outlinewidth\": 0, \"ticks\": \"\"}}, \"type\": \"scatterpolar\"}], \"scatterpolargl\": [{\"marker\": {\"colorbar\": {\"outlinewidth\": 0, \"ticks\": \"\"}}, \"type\": \"scatterpolargl\"}], \"scatterternary\": [{\"marker\": {\"colorbar\": {\"outlinewidth\": 0, \"ticks\": \"\"}}, \"type\": \"scatterternary\"}], \"surface\": [{\"colorbar\": {\"outlinewidth\": 0, \"ticks\": \"\"}, \"colorscale\": [[0.0, \"#0d0887\"], [0.1111111111111111, \"#46039f\"], [0.2222222222222222, \"#7201a8\"], [0.3333333333333333, \"#9c179e\"], [0.4444444444444444, \"#bd3786\"], [0.5555555555555556, \"#d8576b\"], [0.6666666666666666, \"#ed7953\"], [0.7777777777777778, \"#fb9f3a\"], [0.8888888888888888, \"#fdca26\"], [1.0, \"#f0f921\"]], \"type\": \"surface\"}], \"table\": [{\"cells\": {\"fill\": {\"color\": \"#EBF0F8\"}, \"line\": {\"color\": \"white\"}}, \"header\": {\"fill\": {\"color\": \"#C8D4E3\"}, \"line\": {\"color\": \"white\"}}, \"type\": \"table\"}]}, \"layout\": {\"annotationdefaults\": {\"arrowcolor\": \"#2a3f5f\", \"arrowhead\": 0, \"arrowwidth\": 1}, \"coloraxis\": {\"colorbar\": {\"outlinewidth\": 0, \"ticks\": \"\"}}, \"colorscale\": {\"diverging\": [[0, \"#8e0152\"], [0.1, \"#c51b7d\"], [0.2, \"#de77ae\"], [0.3, \"#f1b6da\"], [0.4, \"#fde0ef\"], [0.5, \"#f7f7f7\"], [0.6, \"#e6f5d0\"], [0.7, \"#b8e186\"], [0.8, \"#7fbc41\"], [0.9, \"#4d9221\"], [1, \"#276419\"]], \"sequential\": [[0.0, \"#0d0887\"], [0.1111111111111111, \"#46039f\"], [0.2222222222222222, \"#7201a8\"], [0.3333333333333333, \"#9c179e\"], [0.4444444444444444, \"#bd3786\"], [0.5555555555555556, \"#d8576b\"], [0.6666666666666666, \"#ed7953\"], [0.7777777777777778, \"#fb9f3a\"], [0.8888888888888888, \"#fdca26\"], [1.0, \"#f0f921\"]], \"sequentialminus\": [[0.0, \"#0d0887\"], [0.1111111111111111, \"#46039f\"], [0.2222222222222222, \"#7201a8\"], [0.3333333333333333, \"#9c179e\"], [0.4444444444444444, \"#bd3786\"], [0.5555555555555556, \"#d8576b\"], [0.6666666666666666, \"#ed7953\"], [0.7777777777777778, \"#fb9f3a\"], [0.8888888888888888, \"#fdca26\"], [1.0, \"#f0f921\"]]}, \"colorway\": [\"#636efa\", \"#EF553B\", \"#00cc96\", \"#ab63fa\", \"#FFA15A\", \"#19d3f3\", \"#FF6692\", \"#B6E880\", \"#FF97FF\", \"#FECB52\"], \"font\": {\"color\": \"#2a3f5f\"}, \"geo\": {\"bgcolor\": \"white\", \"lakecolor\": \"white\", \"landcolor\": \"#E5ECF6\", \"showlakes\": true, \"showland\": true, \"subunitcolor\": \"white\"}, \"hoverlabel\": {\"align\": \"left\"}, \"hovermode\": \"closest\", \"mapbox\": {\"style\": \"light\"}, \"paper_bgcolor\": \"white\", \"plot_bgcolor\": \"#E5ECF6\", \"polar\": {\"angularaxis\": {\"gridcolor\": \"white\", \"linecolor\": \"white\", \"ticks\": \"\"}, \"bgcolor\": \"#E5ECF6\", \"radialaxis\": {\"gridcolor\": \"white\", \"linecolor\": \"white\", \"ticks\": \"\"}}, \"scene\": {\"xaxis\": {\"backgroundcolor\": \"#E5ECF6\", \"gridcolor\": \"white\", \"gridwidth\": 2, \"linecolor\": \"white\", \"showbackground\": true, \"ticks\": \"\", \"zerolinecolor\": \"white\"}, \"yaxis\": {\"backgroundcolor\": \"#E5ECF6\", \"gridcolor\": \"white\", \"gridwidth\": 2, \"linecolor\": \"white\", \"showbackground\": true, \"ticks\": \"\", \"zerolinecolor\": \"white\"}, \"zaxis\": {\"backgroundcolor\": \"#E5ECF6\", \"gridcolor\": \"white\", \"gridwidth\": 2, \"linecolor\": \"white\", \"showbackground\": true, \"ticks\": \"\", \"zerolinecolor\": \"white\"}}, \"shapedefaults\": {\"line\": {\"color\": \"#2a3f5f\"}}, \"ternary\": {\"aaxis\": {\"gridcolor\": \"white\", \"linecolor\": \"white\", \"ticks\": \"\"}, \"baxis\": {\"gridcolor\": \"white\", \"linecolor\": \"white\", \"ticks\": \"\"}, \"bgcolor\": \"#E5ECF6\", \"caxis\": {\"gridcolor\": \"white\", \"linecolor\": \"white\", \"ticks\": \"\"}}, \"title\": {\"x\": 0.05}, \"xaxis\": {\"automargin\": true, \"gridcolor\": \"white\", \"linecolor\": \"white\", \"ticks\": \"\", \"title\": {\"standoff\": 15}, \"zerolinecolor\": \"white\", \"zerolinewidth\": 2}, \"yaxis\": {\"automargin\": true, \"gridcolor\": \"white\", \"linecolor\": \"white\", \"ticks\": \"\", \"title\": {\"standoff\": 15}, \"zerolinecolor\": \"white\", \"zerolinewidth\": 2}}}, \"xaxis\": {\"anchor\": \"y\", \"categoryarray\": [\"US\", \"Brazil\", \"India\", \"Russia\", \"South Africa\", \"Peru\", \"Mexico\", \"Chile\", \"United Kingdom\", \"Iran\", \"Pakistan\", \"Spain\", \"Saudi Arabia\", \"Italy\", \"Turkey\"], \"categoryorder\": \"array\", \"domain\": [0.0, 1.0], \"title\": {\"text\": \"country\"}}, \"yaxis\": {\"anchor\": \"x\", \"domain\": [0.0, 1.0], \"title\": {\"text\": \"confirmed\"}}},\n",
       "                        {\"responsive\": true}\n",
       "                    ).then(function(){\n",
       "                            \n",
       "var gd = document.getElementById('886bdbb6-e1fa-45d1-8edb-68549ab7bfbd');\n",
       "var x = new MutationObserver(function (mutations, observer) {{\n",
       "        var display = window.getComputedStyle(gd).display;\n",
       "        if (!display || display === 'none') {{\n",
       "            console.log([gd, 'removed!']);\n",
       "            Plotly.purge(gd);\n",
       "            observer.disconnect();\n",
       "        }}\n",
       "}});\n",
       "\n",
       "// Listen for the removal of the full notebook cells\n",
       "var notebookContainer = gd.closest('#notebook-container');\n",
       "if (notebookContainer) {{\n",
       "    x.observe(notebookContainer, {childList: true});\n",
       "}}\n",
       "\n",
       "// Listen for the clearing of the current output cell\n",
       "var outputEl = gd.closest('.output');\n",
       "if (outputEl) {{\n",
       "    x.observe(outputEl, {childList: true});\n",
       "}}\n",
       "\n",
       "                        })\n",
       "                };\n",
       "                });\n",
       "            </script>\n",
       "        </div>"
      ]
     },
     "metadata": {},
     "output_type": "display_data"
    }
   ],
   "source": [
    "fig = px.scatter(df_general_sorted.head(15), x='country', y='confirmed', size='confirmed', color='country', hover_name='country', size_max=60)\n",
    "fig.update_layout()\n",
    "fig.show()"
   ]
  },
  {
   "cell_type": "markdown",
   "metadata": {},
   "source": [
    "<h1><center> World distribution of the COVID 19: </center></h1>\n",
    "\n",
    "<h2><center> Know how COVID-19 is spread </center></h2>\n",
    "\n",
    "- You can become infected by coming into close contact (about 6 feet or twoarm lengths) with a person who has COVID-19. COVID-19 is primarily spreadfrom person to person.\n",
    "\n",
    "- You can become infected from respiratory droplets when an infected person coughs, sneezes, or talks.\n",
    "\n",
    "- You may also be able to get it by touching a surface or object that has the virus on it, and then by touching your mouth, nose, or eyes."
   ]
  },
  {
   "cell_type": "code",
   "execution_count": 17,
   "metadata": {},
   "outputs": [
    {
     "ename": "ModuleNotFoundError",
     "evalue": "No module named 'folium'",
     "output_type": "error",
     "traceback": [
      "\u001b[1;31m---------------------------------------------------------------------------\u001b[0m",
      "\u001b[1;31mModuleNotFoundError\u001b[0m                       Traceback (most recent call last)",
      "\u001b[1;32m<ipython-input-17-173c1173bf1c>\u001b[0m in \u001b[0;36m<module>\u001b[1;34m\u001b[0m\n\u001b[1;32m----> 1\u001b[1;33m \u001b[1;32mimport\u001b[0m \u001b[0mfolium\u001b[0m\u001b[1;33m\u001b[0m\u001b[1;33m\u001b[0m\u001b[0m\n\u001b[0m",
      "\u001b[1;31mModuleNotFoundError\u001b[0m: No module named 'folium'"
     ]
    }
   ],
   "source": [
    "import folium"
   ]
  },
  {
   "cell_type": "code",
   "execution_count": null,
   "metadata": {},
   "outputs": [],
   "source": [
    "world_map = folium.Map(location=[11,0], tiles='cartodbpositron', zoom_start=2, max_zoom=6, min_zoom=2)\n",
    "\n",
    "for i in range(len(df_cases)):\n",
    "    folium.Circle(location=[df_cases.iloc[i]['lat'], df_cases.iloc[i]['long']],\n",
    "    fill=True,\n",
    "    radius=(int((np.log(df_cases.iloc[i,-1]+1.00001)))+0.2)*50000,\n",
    "    fill_color='crimson',\n",
    "    color='crimson',\n",
    "    tooltip = \"<div style='margin:0; background-color: firebrick; color: white;'>\" +\n",
    "                  \"<h4 style='text-align:center; font-weight: bold'>\" + df_cases.iloc[i]['country'] + \"</h4>\"\n",
    "                  \"<hr style='margin:10px; color: white;'>\" +\n",
    "                  \"<ul style='color: white;;list-style-type: circle; align-item: left; padding-left: 20px; padding-right:20px'>\" +\n",
    "                      \"<li>Total cases: \" + str(df_cases.iloc[i,-1]) + \"</li>\" +\n",
    "                      \"<li>Deaths: \" + str(df_deaths.iloc[i,-1]) + \"</li>\" +\n",
    "                      \"<li>Death rate : \" + str(np.round(df_deaths.iloc[i,-1]/(df_cases.iloc[i,-1]+1.00001)*100,2)) + \"% </li>\" +\n",
    "                      \"</ul></div>\",\n",
    "    ).add_to(world_map)\n",
    "    \n",
    "world_map"
   ]
  },
  {
   "cell_type": "markdown",
   "metadata": {},
   "source": [
    "* *Some countries may appear in the map separated by regions or provinces*\n",
    "\n"
   ]
  },
  {
   "cell_type": "code",
   "execution_count": null,
   "metadata": {},
   "outputs": [],
   "source": [
    "df_general_sorted = df_general.sort_values('1 week % increase', ascending=False)\n",
    "\n",
    "fig = px.bar(df_general_sorted, x=df_general_sorted['country'][:15], y=df_general_sorted['1 week % increase'][:15], title='Higher 1 week % increase', color=df_general_sorted['country'][:15],\n",
    "             labels={'x': 'Country', 'y': '% increase', 'color': 'country'})\n",
    "fig.show()"
   ]
  },
  {
   "cell_type": "markdown",
   "metadata": {},
   "source": [
    "<h2><center>Protect yourself and others from COVID-19</center></h2>\n",
    "\n",
    "- Stay home as much as possible and avoid close contact with others.\n",
    "- Wear a cloth face covering that covers your nose and mouth in public settings.\n",
    "- Clean and disinfect frequently touched surfaces\n",
    "- Wash your hands often with soap and water for at least 20 seconds, or use an alcohol-based hand sanitizer that contains at least 60% alcohol."
   ]
  },
  {
   "cell_type": "markdown",
   "metadata": {},
   "source": [
    "![](https://i.insider.com/5ef254c02618b9277d20f904?width=700&format=jpeg)"
   ]
  },
  {
   "cell_type": "markdown",
   "metadata": {},
   "source": [
    "<h2><center>Know your risk for severe illness</center></h2>\n",
    "\n",
    "<p><center>Everyone is at risk ofgetting COVID-19. Older adults and people of any age who have serious underlying medical conditions may be at higher risk for more severe illness.</center></p>\n",
    "\n",
    "- Stay home always you can, except to get medical care.\n",
    "- Avoid public transportation, ride-sharing, or taxis.\n",
    "- If you need medical attention, call ahead."
   ]
  },
  {
   "cell_type": "markdown",
   "metadata": {},
   "source": [
    "### For more information:\n",
    "\n",
    "> Go to: [World Health Organization - Coronavirus disease (COVID-19) pandemic](https://www.who.int/emergencies/diseases/novel-coronavirus-2019)\n",
    "\n",
    "> LinkedIn: [Jose Henrique Roveda](https://www.linkedin.com/in/jhroveda/)"
   ]
  }
 ],
 "metadata": {
  "kernelspec": {
   "display_name": "Python 3",
   "language": "python",
   "name": "python3"
  },
  "language_info": {
   "codemirror_mode": {
    "name": "ipython",
    "version": 3
   },
   "file_extension": ".py",
   "mimetype": "text/x-python",
   "name": "python",
   "nbconvert_exporter": "python",
   "pygments_lexer": "ipython3",
   "version": "3.7.1"
  }
 },
 "nbformat": 4,
 "nbformat_minor": 4
}
