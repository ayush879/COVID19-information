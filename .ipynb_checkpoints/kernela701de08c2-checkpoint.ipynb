{
 "cells": [
  {
   "cell_type": "code",
   "execution_count": 4,
   "metadata": {
    "_cell_guid": "b1076dfc-b9ad-4769-8c92-a6c4dae69d19",
    "_uuid": "8f2839f25d086af736a60e9eeb907d3b93b6e0e5"
   },
   "outputs": [
    {
     "ename": "SyntaxError",
     "evalue": "invalid syntax (<ipython-input-4-1ca80c0b61a7>, line 1)",
     "output_type": "error",
     "traceback": [
      "\u001b[1;36m  File \u001b[1;32m\"<ipython-input-4-1ca80c0b61a7>\"\u001b[1;36m, line \u001b[1;32m1\u001b[0m\n\u001b[1;33m    <h1><center>What is COVID-19?</center></h1>\u001b[0m\n\u001b[1;37m    ^\u001b[0m\n\u001b[1;31mSyntaxError\u001b[0m\u001b[1;31m:\u001b[0m invalid syntax\n"
     ]
    }
   ],
   "source": [
    "<h1><center>What is COVID-19?</center></h1>\n",
    "\n",
    "<p><center>Coronavirus disease 2019 (COVID-19) is defined as illness caused by a novel coronavirus now called severe acute respiratory syndrome coronavirus 2 (SARS-CoV-2; formerly called 2019-nCoV).\n",
    "The virus is transmitted through direct contact with respiratory droplets of an infected person (generated through coughing and sneezing), and touching surfaces contaminated with the virus. The virus may survive on surfaces for several hours, but simple disinfectants can kill it.</center></p>"
   ]
  },
  {
   "cell_type": "code",
   "execution_count": null,
   "metadata": {},
   "outputs": [],
   "source": [
    "<h1><center> What are the symptoms of novel coronavirus?</center></h1>\n",
    "\n",
    "<p><center>People with COVID-19 have had a wide range of symptoms reported – ranging from mild symptoms to severe illness. Symptoms may appear 2-14 days after exposure to the virus. People with these symptoms may have COVID-19:</center></p>\n",
    "\n",
    "<center>\n",
    " <table style=\"width:100%\">\n",
    "  <tr>\n",
    "    <td style=\"text-align:center\"> <img align=\"center\" src=\"https://raw.githubusercontent.com/josehenriqueroveda/covid-dashboard/master/img/fever.png\"\n",
    "     alt=\"Fever\" width=\"80\"\n",
    "     style=\"float: center;\" /></td>\n",
    "    <td style=\"text-align:center\"> <img align=\"center\" src=\"https://raw.githubusercontent.com/josehenriqueroveda/covid-dashboard/master/img/cough.png\"\n",
    "     alt=\"Fever\" width=\"80\"\n",
    "     style=\"float: center;\" /></td>\n",
    "    <td style=\"text-align:center\"><img align=\"center\" src=\"https://raw.githubusercontent.com/josehenriqueroveda/covid-dashboard/master/img/lungs.png\"\n",
    "     alt=\"Shortness of breath\" width=\"80\"\n",
    "     style=\"float: center;\" /></td>\n",
    "  </tr>\n",
    "  <tr>\n",
    "    <td style=\"text-align:center\"><b><p style=\"color:cornflowerblue; font-size:20px; text-align:center\">Fever</p></b></td>\n",
    "    <td style=\"text-align:center\"><b><p style=\"color:cornflowerblue; font-size:20px; text-align:center\">Cough</p></b></td>\n",
    "    <td style=\"text-align:center\"><b><p style=\"color:cornflowerblue; font-size:20px; text-align:center\">Shortness of breath</p></b></td>\n",
    "  </tr>\n",
    "</table>\n",
    "</center>"
   ]
  },
  {
   "cell_type": "code",
   "execution_count": null,
   "metadata": {
    "_cell_guid": "79c7e3d0-c299-4dcb-8224-4455121ee9b0",
    "_uuid": "d629ff2d2480ee46fbb7e2d37f6b5fab8052498a"
   },
   "outputs": [],
   "source": [
    "from __future__ import print_function\n",
    "import pandas as pd\n",
    "import numpy as np\n",
    "import plotly.express as px\n",
    "import plotly.graph_objects as go \n",
    "from IPython.core.display import display,HTML\n",
    "from ipywidgets import interact,interactive,fixed,interact_manual\n",
    "import ipywidgets as widgets"
   ]
  },
  {
   "cell_type": "code",
   "execution_count": null,
   "metadata": {},
   "outputs": [],
   "source": [
    "# Data used from John Hopkins COVID-19\n",
    "df_deaths = pd.read_csv('https://raw.githubusercontent.com/CSSEGISandData/COVID-19/master/csse_covid_19_data/csse_covid_19_time_series/time_series_covid19_deaths_global.csv')\n",
    "df_cases = pd.read_csv('https://raw.githubusercontent.com/CSSEGISandData/COVID-19/master/csse_covid_19_data/csse_covid_19_time_series/time_series_covid19_confirmed_global.csv')\n",
    "df_recovered = pd.read_csv('https://raw.githubusercontent.com/CSSEGISandData/COVID-19/master/csse_covid_19_data/csse_covid_19_time_series/time_series_covid19_recovered_global.csv')\n",
    "df_general = pd.read_csv('https://raw.githubusercontent.com/imdevskp/covid_19_jhu_data_web_scrap_and_cleaning/master/country_wise_latest.csv')"
   ]
  },
  {
   "cell_type": "code",
   "execution_count": null,
   "metadata": {},
   "outputs": [],
   "source": [
    "#Data cleaning\n",
    "df_general.columns=map(str.lower,df_general.columns)\n",
    "df_deaths.columns=map(str.lower,df_deaths.columns)\n",
    "df_cases.columns=map(str.lower,df_cases.columns)\n",
    "df_recovered.columns=map(str.lower,df_recovered.columns)"
   ]
  },
  {
   "cell_type": "code",
   "execution_count": null,
   "metadata": {},
   "outputs": [],
   "source": [
    "df_cases=df_cases.rename(columns={'province/state':'state','country/region':'country'})\n",
    "df_deaths=df_deaths.rename(columns={'province/state':'state','country/region':'country'})\n",
    "df_recovered=df_recovered.rename(columns={'province/state':'state','country/region':'country'})\n",
    "df_general=df_general.rename(columns={'country/region':'country'})"
   ]
  },
  {
   "cell_type": "code",
   "execution_count": null,
   "metadata": {},
   "outputs": [],
   "source": [
    "df_general.head()"
   ]
  },
  {
   "cell_type": "code",
   "execution_count": null,
   "metadata": {},
   "outputs": [],
   "source": [
    "df_deaths.head()"
   ]
  },
  {
   "cell_type": "code",
   "execution_count": null,
   "metadata": {},
   "outputs": [],
   "source": [
    "df_cases.head()"
   ]
  },
  {
   "cell_type": "code",
   "execution_count": null,
   "metadata": {},
   "outputs": [],
   "source": [
    "df_recovered.head()"
   ]
  },
  {
   "cell_type": "code",
   "execution_count": null,
   "metadata": {},
   "outputs": [],
   "source": [
    "df_general_sorted=df_general.sort_values('confirmed',ascending=False)"
   ]
  },
  {
   "cell_type": "code",
   "execution_count": null,
   "metadata": {},
   "outputs": [],
   "source": [
    "confirmed_total=int(df_general['confirmed'].sum())\n",
    "deaths_total=int(df_general['deaths'].sum())\n",
    "recovered_total=int(df_general['recovered'].sum())\n",
    "active_total=int(df_general['active'].sum())"
   ]
  },
  {
   "cell_type": "markdown",
   "metadata": {},
   "source": [
    "<h1><center>COVID-19 By the Numbers</center></h1>\n",
    "\n",
    "<p><center>Check below what are the number of confirmed cases, deaths and recovered people in the world.</center></p>"
   ]
  },
  {
   "cell_type": "code",
   "execution_count": null,
   "metadata": {},
   "outputs": [],
   "source": [
    "display(HTML(\"<div style='text-align:center;background-color:#f5faff;padding:30px'>\"+\n",
    "             \"<div style='color:cornflowerblue;font-size:30px;'><br><strong> Confirmed: \"+str(confirmed_total)+\"</br></strong></div>\"+\n",
    "             \"<div style='color:red;font-size:30px;margin-left:20px;'><br><strong> Deaths: \"+str(deaths_total)+\"</br></strong></div>\"+\n",
    "             \"<div style='color:green;font-size:30px;margin-left:20px;'><br><strong>Recovered: \"+str(recovered_total)+\"</br></strong></div>\"+\n",
    "             \"</div>\")\n",
    "       )\n"
   ]
  },
  {
   "cell_type": "markdown",
   "metadata": {},
   "source": [
    "<h1><center>Time series of number of cases and deaths in the world or per country:</center></h1>\n",
    "\n",
    "<p><center>Type the country name or \"world\" for all countries.</center></p>"
   ]
  },
  {
   "cell_type": "code",
   "execution_count": null,
   "metadata": {},
   "outputs": [],
   "source": []
  },
  {
   "cell_type": "code",
   "execution_count": null,
   "metadata": {},
   "outputs": [],
   "source": [
    "def country_cases(country):\n",
    "    labels=['confirmed','deaths']\n",
    "    colors=['cornflowerblue','red']\n",
    "    mode_size=[6,8]\n",
    "    line_size=[4,5]\n",
    "    \n",
    "    df_list=[df_cases,df_deaths]\n",
    "    \n",
    "    fig=go.Figure()\n",
    "    \n",
    "    for i,df in enumerate(df_list):\n",
    "        if country=='World' or country=='world':\n",
    "            x_data=np.array(list(df.iloc[:,5:].columns))\n",
    "            y_data=np.sum(np.asarray(df.iloc[:,5:]),axis=0)\n",
    "        else:\n",
    "            x_data=np.array(list(df.iloc[:,5:].columns))\n",
    "            y_data=np.sum(np.asarray(df[df['country']==country].iloc[:,5:]),axis=0)\n",
    "        fig.add_trace(go.Scatter(x=x_data,y=y_data,mode='lines+markers',name=labels[i],\n",
    "                                line=dict(color=colors[i],width=line_size[i]),\n",
    "                                 connectgaps=True,\n",
    "                                 text='Total '+str(labels[i])+':'+str(y_data[-1])\n",
    "                                ))\n",
    "    fig.show()"
   ]
  },
  {
   "cell_type": "code",
   "execution_count": null,
   "metadata": {},
   "outputs": [],
   "source": [
    "interact(country_cases,country='World');"
   ]
  },
  {
   "cell_type": "markdown",
   "metadata": {},
   "source": [
    "<h1><center>Countries with the highest number of confirmed cases:</center></h1>"
   ]
  },
  {
   "cell_type": "code",
   "execution_count": null,
   "metadata": {},
   "outputs": [],
   "source": [
    "def highlight_column(x):\n",
    "    red='background-color:red'\n",
    "    green='background-color:lime'\n",
    "    blue='background-color:cornflowerblue'\n",
    "    df_temp=pd.DataFrame('',index=x.index,columns=x.columns)\n",
    "    df_temp.iloc[:,1]=blue\n",
    "    df_temp.iloc[:,2]=red\n",
    "    df_temp.iloc[:,3]=green\n",
    "    return df_temp"
   ]
  },
  {
   "cell_type": "code",
   "execution_count": null,
   "metadata": {},
   "outputs": [],
   "source": [
    "df_general_sorted.head(10).style.apply(highlight_column,axis=None)"
   ]
  },
  {
   "cell_type": "code",
   "execution_count": null,
   "metadata": {},
   "outputs": [],
   "source": [
    "fig=px.scatter(df_general_sorted.head(15),x='country',y='confirmed',size='confirmed',color='country',hover_name='country',size_max=60)\n",
    "fig.update_layout()\n",
    "fig.show()"
   ]
  },
  {
   "cell_type": "code",
   "execution_count": null,
   "metadata": {},
   "outputs": [],
   "source": [
    "<h1><center> World distribution of the COVID 19: </center></h1>\n",
    "\n",
    "<h2><center> Know how COVID-19 is spread </center></h2>\n",
    "\n",
    "- You can become infected by coming into close contact (about 6 feet or twoarm lengths) with a person who has COVID-19. COVID-19 is primarily spreadfrom person to person.\n",
    "\n",
    "- You can become infected from respiratory droplets when an infected person coughs, sneezes, or talks.\n",
    "\n",
    "- You may also be able to get it by touching a surface or object that has the virus on it, and then by touching your mouth, nose, or eyes."
   ]
  },
  {
   "cell_type": "code",
   "execution_count": null,
   "metadata": {},
   "outputs": [],
   "source": [
    "import folium"
   ]
  },
  {
   "cell_type": "code",
   "execution_count": 2,
   "metadata": {},
   "outputs": [
    {
     "ename": "NameError",
     "evalue": "name 'folium' is not defined",
     "output_type": "error",
     "traceback": [
      "\u001b[1;31m---------------------------------------------------------------------------\u001b[0m",
      "\u001b[1;31mNameError\u001b[0m                                 Traceback (most recent call last)",
      "\u001b[1;32m<ipython-input-2-ed109c413ad6>\u001b[0m in \u001b[0;36m<module>\u001b[1;34m\u001b[0m\n\u001b[1;32m----> 1\u001b[1;33m \u001b[0mworld_map\u001b[0m\u001b[1;33m=\u001b[0m\u001b[0mfolium\u001b[0m\u001b[1;33m.\u001b[0m\u001b[0mMap\u001b[0m\u001b[1;33m(\u001b[0m\u001b[0mlocation\u001b[0m\u001b[1;33m=\u001b[0m\u001b[1;33m[\u001b[0m\u001b[1;36m11\u001b[0m\u001b[1;33m,\u001b[0m\u001b[1;36m0\u001b[0m\u001b[1;33m]\u001b[0m\u001b[1;33m,\u001b[0m\u001b[0mtiles\u001b[0m\u001b[1;33m=\u001b[0m\u001b[1;34m'cartodbpositron'\u001b[0m\u001b[1;33m,\u001b[0m\u001b[0mzoom_start\u001b[0m\u001b[1;33m=\u001b[0m\u001b[1;36m2\u001b[0m\u001b[1;33m,\u001b[0m\u001b[0mmax_zoom\u001b[0m\u001b[1;33m=\u001b[0m\u001b[1;36m6\u001b[0m\u001b[1;33m,\u001b[0m\u001b[0mmin_zoom\u001b[0m\u001b[1;33m=\u001b[0m\u001b[1;36m2\u001b[0m\u001b[1;33m)\u001b[0m\u001b[1;33m\u001b[0m\u001b[1;33m\u001b[0m\u001b[0m\n\u001b[0m\u001b[0;32m      2\u001b[0m \u001b[1;33m\u001b[0m\u001b[0m\n\u001b[0;32m      3\u001b[0m \u001b[1;32mfor\u001b[0m \u001b[0mi\u001b[0m \u001b[1;32min\u001b[0m \u001b[0mrange\u001b[0m\u001b[1;33m(\u001b[0m\u001b[0mlen\u001b[0m\u001b[1;33m(\u001b[0m\u001b[0mdf_cases\u001b[0m\u001b[1;33m)\u001b[0m\u001b[1;33m)\u001b[0m\u001b[1;33m:\u001b[0m\u001b[1;33m\u001b[0m\u001b[1;33m\u001b[0m\u001b[0m\n\u001b[0;32m      4\u001b[0m     folium.Circle(location=[df_cases.iloc[i]['lat'],df_cases.iloc[i]['long']],\n\u001b[0;32m      5\u001b[0m     \u001b[0mfill\u001b[0m\u001b[1;33m=\u001b[0m\u001b[1;32mTrue\u001b[0m\u001b[1;33m,\u001b[0m\u001b[1;33m\u001b[0m\u001b[1;33m\u001b[0m\u001b[0m\n",
      "\u001b[1;31mNameError\u001b[0m: name 'folium' is not defined"
     ]
    }
   ],
   "source": [
    "world_map=folium.Map(location=[11,0],tiles='cartodbpositron',zoom_start=2,max_zoom=6,min_zoom=2)\n",
    "\n",
    "for i in range(len(df_cases)):\n",
    "    folium.Circle(location=[df_cases.iloc[i]['lat'],df_cases.iloc[i]['long']],\n",
    "    fill=True,\n",
    "    radius=(int((np.log(df_cases.iloc[i,-1]+1.00001)))+0.2)*5000,\n",
    "    fill_color='crimson',\n",
    "    color='crimson',\n",
    "    tooltip=\"<div style='margin:0;background_color:firebrick;color:white;'>\"+\n",
    "                \"<h4 style='text-align:center;font-weight:bold'>\"+df_cases.iloc[i]['country']+\"</h4>\"\n",
    "                \"<hr style='margin:10px;color:white;'\"+\n",
    "                \"<ul style='color: white;;list-style-type:circle;align-item:left;padding-left:20px;padding-right:20px'>\"+\n",
    "                    \"<li>Total  cases: \"+str(df_cases.iloc[i,-1])+\"</li>\"+\n",
    "                    \"<li>Deaths: \"+str(df_deaths.iloc[i,-1])+\"</li>\"+\n",
    "                    \"<li>Death rate: \"+str(np.round(df_deaths.iloc[i,-1]/(df_cases.iloc[i,-1]+1.00001)*100,2))+\"%</li>\"+\n",
    "                    \"</ul></div>\",\n",
    "     ).add_to(world_map)\n",
    "world_map"
   ]
  },
  {
   "cell_type": "code",
   "execution_count": null,
   "metadata": {},
   "outputs": [],
   "source": [
    "df_general_sorted=df_general.sort_values('1 week % increase',ascending=False)\n",
    "fig=px.bar(df_general_sorted,x=df_general_sorted['country'][:15],y=df_general_sorted['1 week % increase'][:15],title='Higher  1 week % increase',color=df_general_sorted['country'][:15],\n",
    "          labels={'x':'Country','y':'% increase','color':'country'})\n",
    "fig.show()"
   ]
  }
 ],
 "metadata": {
  "kernelspec": {
   "display_name": "Python 3",
   "language": "python",
   "name": "python3"
  },
  "language_info": {
   "codemirror_mode": {
    "name": "ipython",
    "version": 3
   },
   "file_extension": ".py",
   "mimetype": "text/x-python",
   "name": "python",
   "nbconvert_exporter": "python",
   "pygments_lexer": "ipython3",
   "version": "3.7.1"
  }
 },
 "nbformat": 4,
 "nbformat_minor": 4
}
