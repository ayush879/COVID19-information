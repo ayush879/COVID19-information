{
 "cells": [
  {
   "cell_type": "markdown",
   "metadata": {},
   "source": [
    "![covid-header](https://raw.githubusercontent.com/josehenriqueroveda/covid-dashboard/master/img/header.jpg)"
   ]
  },
  {
   "cell_type": "markdown",
   "metadata": {},
   "source": [
    "<h1><center>What is COVID-19?</center></h1>\n",
    "\n",
    "<p><center>Coronavirus disease 2019 (COVID-19) is defined as illness caused by a novel coronavirus now called severe acute respiratory syndrome coronavirus 2 (SARS-CoV-2; formerly called 2019-nCoV).\n",
    "The virus is transmitted through direct contact with respiratory droplets of an infected person (generated through coughing and sneezing), and touching surfaces contaminated with the virus. The virus may survive on surfaces for several hours, but simple disinfectants can kill it.</center></p>"
   ]
  },
  {
   "cell_type": "markdown",
   "metadata": {},
   "source": [
    "<h1><center> What are the symptoms of novel coronavirus?</center></h1>\n",
    "\n",
    "<p><center>People with COVID-19 have had a wide range of symptoms reported – ranging from mild symptoms to severe illness. Symptoms may appear 2-14 days after exposure to the virus. People with these symptoms may have COVID-19:</center></p>\n",
    "\n",
    "<center>\n",
    " <table style=\"width:100%\">\n",
    "  <tr>\n",
    "    <td style=\"text-align:center\"> <img align=\"center\" src=\"https://raw.githubusercontent.com/josehenriqueroveda/covid-dashboard/master/img/fever.png\"\n",
    "     alt=\"Fever\" width=\"80\"\n",
    "     style=\"float: center;\" /></td>\n",
    "    <td style=\"text-align:center\"> <img align=\"center\" src=\"https://raw.githubusercontent.com/josehenriqueroveda/covid-dashboard/master/img/cough.png\"\n",
    "     alt=\"Fever\" width=\"80\"\n",
    "     style=\"float: center;\" /></td>\n",
    "    <td style=\"text-align:center\"><img align=\"center\" src=\"https://raw.githubusercontent.com/josehenriqueroveda/covid-dashboard/master/img/lungs.png\"\n",
    "     alt=\"Shortness of breath\" width=\"80\"\n",
    "     style=\"float: center;\" /></td>\n",
    "  </tr>\n",
    "  <tr>\n",
    "    <td style=\"text-align:center\"><b><p style=\"color:cornflowerblue; font-size:20px; text-align:center\">Fever</p></b></td>\n",
    "    <td style=\"text-align:center\"><b><p style=\"color:cornflowerblue; font-size:20px; text-align:center\">Cough</p></b></td>\n",
    "    <td style=\"text-align:center\"><b><p style=\"color:cornflowerblue; font-size:20px; text-align:center\">Shortness of breath</p></b></td>\n",
    "  </tr>\n",
    "</table>\n",
    "</center>"
   ]
  },
  {
   "cell_type": "code",
   "execution_count": 1,
   "metadata": {
    "_cell_guid": "79c7e3d0-c299-4dcb-8224-4455121ee9b0",
    "_uuid": "d629ff2d2480ee46fbb7e2d37f6b5fab8052498a"
   },
   "outputs": [],
   "source": [
    "# Imports\n",
    "from __future__ import print_function\n",
    "\n",
    "import pandas as pd\n",
    "import numpy as np\n",
    "import plotly.express as px\n",
    "import plotly.graph_objects as go\n",
    "from IPython.core.display import display, HTML\n",
    "\n",
    "from ipywidgets import interact, interactive, fixed, interact_manual\n",
    "import ipywidgets as widgets"
   ]
  },
  {
   "cell_type": "code",
   "execution_count": 2,
   "metadata": {},
   "outputs": [],
   "source": [
    "# Data used from John Hopkins COVID-19\n",
    "df_deaths = pd.read_csv('https://raw.githubusercontent.com/CSSEGISandData/COVID-19/master/csse_covid_19_data/csse_covid_19_time_series/time_series_covid19_deaths_global.csv')\n",
    "df_cases = pd.read_csv('https://raw.githubusercontent.com/CSSEGISandData/COVID-19/master/csse_covid_19_data/csse_covid_19_time_series/time_series_covid19_confirmed_global.csv')\n",
    "df_recovered = pd.read_csv('https://raw.githubusercontent.com/CSSEGISandData/COVID-19/master/csse_covid_19_data/csse_covid_19_time_series/time_series_covid19_recovered_global.csv')\n",
    "df_general = pd.read_csv('https://raw.githubusercontent.com/imdevskp/covid_19_jhu_data_web_scrap_and_cleaning/master/country_wise_latest.csv')"
   ]
  },
  {
   "cell_type": "code",
   "execution_count": 3,
   "metadata": {},
   "outputs": [],
   "source": [
    "# Data cleaning\n",
    "df_general.columns = map(str.lower, df_general.columns)\n",
    "df_deaths.columns = map(str.lower, df_deaths.columns)\n",
    "df_cases.columns = map(str.lower, df_cases.columns)\n",
    "df_recovered.columns = map(str.lower, df_recovered.columns)"
   ]
  },
  {
   "cell_type": "code",
   "execution_count": 4,
   "metadata": {},
   "outputs": [],
   "source": [
    "df_cases = df_cases.rename(columns= {'province/state': 'state', 'country/region': 'country'})\n",
    "df_deaths = df_deaths.rename(columns= {'province/state': 'state', 'country/region': 'country'})\n",
    "df_recovered = df_recovered.rename(columns= {'province/state': 'state', 'country/region': 'country'})\n",
    "df_general = df_general.rename(columns= {'country/region': 'country'})"
   ]
  },
  {
   "cell_type": "code",
   "execution_count": 5,
   "metadata": {},
   "outputs": [
    {
     "data": {
      "text/html": [
       "<div>\n",
       "<style scoped>\n",
       "    .dataframe tbody tr th:only-of-type {\n",
       "        vertical-align: middle;\n",
       "    }\n",
       "\n",
       "    .dataframe tbody tr th {\n",
       "        vertical-align: top;\n",
       "    }\n",
       "\n",
       "    .dataframe thead th {\n",
       "        text-align: right;\n",
       "    }\n",
       "</style>\n",
       "<table border=\"1\" class=\"dataframe\">\n",
       "  <thead>\n",
       "    <tr style=\"text-align: right;\">\n",
       "      <th></th>\n",
       "      <th>country</th>\n",
       "      <th>confirmed</th>\n",
       "      <th>deaths</th>\n",
       "      <th>recovered</th>\n",
       "      <th>active</th>\n",
       "      <th>new cases</th>\n",
       "      <th>new deaths</th>\n",
       "      <th>new recovered</th>\n",
       "      <th>deaths / 100 cases</th>\n",
       "      <th>recovered / 100 cases</th>\n",
       "      <th>deaths / 100 recovered</th>\n",
       "      <th>confirmed last week</th>\n",
       "      <th>1 week change</th>\n",
       "      <th>1 week % increase</th>\n",
       "      <th>who region</th>\n",
       "    </tr>\n",
       "  </thead>\n",
       "  <tbody>\n",
       "    <tr>\n",
       "      <th>0</th>\n",
       "      <td>Afghanistan</td>\n",
       "      <td>35727</td>\n",
       "      <td>1190</td>\n",
       "      <td>23924</td>\n",
       "      <td>10613</td>\n",
       "      <td>112</td>\n",
       "      <td>4</td>\n",
       "      <td>183</td>\n",
       "      <td>3.33</td>\n",
       "      <td>66.96</td>\n",
       "      <td>4.97</td>\n",
       "      <td>34994</td>\n",
       "      <td>733</td>\n",
       "      <td>2.09</td>\n",
       "      <td>Eastern Mediterranean</td>\n",
       "    </tr>\n",
       "    <tr>\n",
       "      <th>1</th>\n",
       "      <td>Albania</td>\n",
       "      <td>4358</td>\n",
       "      <td>120</td>\n",
       "      <td>2463</td>\n",
       "      <td>1775</td>\n",
       "      <td>68</td>\n",
       "      <td>3</td>\n",
       "      <td>66</td>\n",
       "      <td>2.75</td>\n",
       "      <td>56.52</td>\n",
       "      <td>4.87</td>\n",
       "      <td>3752</td>\n",
       "      <td>606</td>\n",
       "      <td>16.15</td>\n",
       "      <td>Europe</td>\n",
       "    </tr>\n",
       "    <tr>\n",
       "      <th>2</th>\n",
       "      <td>Algeria</td>\n",
       "      <td>24872</td>\n",
       "      <td>1111</td>\n",
       "      <td>16983</td>\n",
       "      <td>6778</td>\n",
       "      <td>594</td>\n",
       "      <td>11</td>\n",
       "      <td>337</td>\n",
       "      <td>4.47</td>\n",
       "      <td>68.28</td>\n",
       "      <td>6.54</td>\n",
       "      <td>20770</td>\n",
       "      <td>4102</td>\n",
       "      <td>19.75</td>\n",
       "      <td>Africa</td>\n",
       "    </tr>\n",
       "    <tr>\n",
       "      <th>3</th>\n",
       "      <td>Andorra</td>\n",
       "      <td>889</td>\n",
       "      <td>52</td>\n",
       "      <td>803</td>\n",
       "      <td>34</td>\n",
       "      <td>5</td>\n",
       "      <td>0</td>\n",
       "      <td>0</td>\n",
       "      <td>5.85</td>\n",
       "      <td>90.33</td>\n",
       "      <td>6.48</td>\n",
       "      <td>862</td>\n",
       "      <td>27</td>\n",
       "      <td>3.13</td>\n",
       "      <td>Europe</td>\n",
       "    </tr>\n",
       "    <tr>\n",
       "      <th>4</th>\n",
       "      <td>Angola</td>\n",
       "      <td>812</td>\n",
       "      <td>33</td>\n",
       "      <td>221</td>\n",
       "      <td>558</td>\n",
       "      <td>33</td>\n",
       "      <td>3</td>\n",
       "      <td>0</td>\n",
       "      <td>4.06</td>\n",
       "      <td>27.22</td>\n",
       "      <td>14.93</td>\n",
       "      <td>576</td>\n",
       "      <td>236</td>\n",
       "      <td>40.97</td>\n",
       "      <td>Africa</td>\n",
       "    </tr>\n",
       "  </tbody>\n",
       "</table>\n",
       "</div>"
      ],
      "text/plain": [
       "       country  confirmed  deaths  recovered  active  new cases  new deaths  \\\n",
       "0  Afghanistan      35727    1190      23924   10613        112           4   \n",
       "1      Albania       4358     120       2463    1775         68           3   \n",
       "2      Algeria      24872    1111      16983    6778        594          11   \n",
       "3      Andorra        889      52        803      34          5           0   \n",
       "4       Angola        812      33        221     558         33           3   \n",
       "\n",
       "   new recovered  deaths / 100 cases  recovered / 100 cases  \\\n",
       "0            183                3.33                  66.96   \n",
       "1             66                2.75                  56.52   \n",
       "2            337                4.47                  68.28   \n",
       "3              0                5.85                  90.33   \n",
       "4              0                4.06                  27.22   \n",
       "\n",
       "   deaths / 100 recovered  confirmed last week  1 week change  \\\n",
       "0                    4.97                34994            733   \n",
       "1                    4.87                 3752            606   \n",
       "2                    6.54                20770           4102   \n",
       "3                    6.48                  862             27   \n",
       "4                   14.93                  576            236   \n",
       "\n",
       "   1 week % increase             who region  \n",
       "0               2.09  Eastern Mediterranean  \n",
       "1              16.15                 Europe  \n",
       "2              19.75                 Africa  \n",
       "3               3.13                 Europe  \n",
       "4              40.97                 Africa  "
      ]
     },
     "execution_count": 5,
     "metadata": {},
     "output_type": "execute_result"
    }
   ],
   "source": [
    "df_general.head()"
   ]
  },
  {
   "cell_type": "code",
   "execution_count": 6,
   "metadata": {},
   "outputs": [
    {
     "data": {
      "text/html": [
       "<div>\n",
       "<style scoped>\n",
       "    .dataframe tbody tr th:only-of-type {\n",
       "        vertical-align: middle;\n",
       "    }\n",
       "\n",
       "    .dataframe tbody tr th {\n",
       "        vertical-align: top;\n",
       "    }\n",
       "\n",
       "    .dataframe thead th {\n",
       "        text-align: right;\n",
       "    }\n",
       "</style>\n",
       "<table border=\"1\" class=\"dataframe\">\n",
       "  <thead>\n",
       "    <tr style=\"text-align: right;\">\n",
       "      <th></th>\n",
       "      <th>state</th>\n",
       "      <th>country</th>\n",
       "      <th>lat</th>\n",
       "      <th>long</th>\n",
       "      <th>1/22/20</th>\n",
       "      <th>1/23/20</th>\n",
       "      <th>1/24/20</th>\n",
       "      <th>1/25/20</th>\n",
       "      <th>1/26/20</th>\n",
       "      <th>1/27/20</th>\n",
       "      <th>...</th>\n",
       "      <th>7/14/20</th>\n",
       "      <th>7/15/20</th>\n",
       "      <th>7/16/20</th>\n",
       "      <th>7/17/20</th>\n",
       "      <th>7/18/20</th>\n",
       "      <th>7/19/20</th>\n",
       "      <th>7/20/20</th>\n",
       "      <th>7/21/20</th>\n",
       "      <th>7/22/20</th>\n",
       "      <th>7/23/20</th>\n",
       "    </tr>\n",
       "  </thead>\n",
       "  <tbody>\n",
       "    <tr>\n",
       "      <th>0</th>\n",
       "      <td>NaN</td>\n",
       "      <td>Afghanistan</td>\n",
       "      <td>33.93911</td>\n",
       "      <td>67.709953</td>\n",
       "      <td>0</td>\n",
       "      <td>0</td>\n",
       "      <td>0</td>\n",
       "      <td>0</td>\n",
       "      <td>0</td>\n",
       "      <td>0</td>\n",
       "      <td>...</td>\n",
       "      <td>1048</td>\n",
       "      <td>1094</td>\n",
       "      <td>1113</td>\n",
       "      <td>1147</td>\n",
       "      <td>1164</td>\n",
       "      <td>1181</td>\n",
       "      <td>1185</td>\n",
       "      <td>1186</td>\n",
       "      <td>1190</td>\n",
       "      <td>1211</td>\n",
       "    </tr>\n",
       "    <tr>\n",
       "      <th>1</th>\n",
       "      <td>NaN</td>\n",
       "      <td>Albania</td>\n",
       "      <td>41.15330</td>\n",
       "      <td>20.168300</td>\n",
       "      <td>0</td>\n",
       "      <td>0</td>\n",
       "      <td>0</td>\n",
       "      <td>0</td>\n",
       "      <td>0</td>\n",
       "      <td>0</td>\n",
       "      <td>...</td>\n",
       "      <td>97</td>\n",
       "      <td>101</td>\n",
       "      <td>104</td>\n",
       "      <td>107</td>\n",
       "      <td>111</td>\n",
       "      <td>112</td>\n",
       "      <td>113</td>\n",
       "      <td>117</td>\n",
       "      <td>120</td>\n",
       "      <td>123</td>\n",
       "    </tr>\n",
       "    <tr>\n",
       "      <th>2</th>\n",
       "      <td>NaN</td>\n",
       "      <td>Algeria</td>\n",
       "      <td>28.03390</td>\n",
       "      <td>1.659600</td>\n",
       "      <td>0</td>\n",
       "      <td>0</td>\n",
       "      <td>0</td>\n",
       "      <td>0</td>\n",
       "      <td>0</td>\n",
       "      <td>0</td>\n",
       "      <td>...</td>\n",
       "      <td>1028</td>\n",
       "      <td>1040</td>\n",
       "      <td>1052</td>\n",
       "      <td>1057</td>\n",
       "      <td>1068</td>\n",
       "      <td>1078</td>\n",
       "      <td>1087</td>\n",
       "      <td>1100</td>\n",
       "      <td>1111</td>\n",
       "      <td>1124</td>\n",
       "    </tr>\n",
       "    <tr>\n",
       "      <th>3</th>\n",
       "      <td>NaN</td>\n",
       "      <td>Andorra</td>\n",
       "      <td>42.50630</td>\n",
       "      <td>1.521800</td>\n",
       "      <td>0</td>\n",
       "      <td>0</td>\n",
       "      <td>0</td>\n",
       "      <td>0</td>\n",
       "      <td>0</td>\n",
       "      <td>0</td>\n",
       "      <td>...</td>\n",
       "      <td>52</td>\n",
       "      <td>52</td>\n",
       "      <td>52</td>\n",
       "      <td>52</td>\n",
       "      <td>52</td>\n",
       "      <td>52</td>\n",
       "      <td>52</td>\n",
       "      <td>52</td>\n",
       "      <td>52</td>\n",
       "      <td>52</td>\n",
       "    </tr>\n",
       "    <tr>\n",
       "      <th>4</th>\n",
       "      <td>NaN</td>\n",
       "      <td>Angola</td>\n",
       "      <td>-11.20270</td>\n",
       "      <td>17.873900</td>\n",
       "      <td>0</td>\n",
       "      <td>0</td>\n",
       "      <td>0</td>\n",
       "      <td>0</td>\n",
       "      <td>0</td>\n",
       "      <td>0</td>\n",
       "      <td>...</td>\n",
       "      <td>26</td>\n",
       "      <td>27</td>\n",
       "      <td>28</td>\n",
       "      <td>29</td>\n",
       "      <td>29</td>\n",
       "      <td>29</td>\n",
       "      <td>29</td>\n",
       "      <td>30</td>\n",
       "      <td>33</td>\n",
       "      <td>33</td>\n",
       "    </tr>\n",
       "  </tbody>\n",
       "</table>\n",
       "<p>5 rows × 188 columns</p>\n",
       "</div>"
      ],
      "text/plain": [
       "  state      country       lat       long  1/22/20  1/23/20  1/24/20  1/25/20  \\\n",
       "0   NaN  Afghanistan  33.93911  67.709953        0        0        0        0   \n",
       "1   NaN      Albania  41.15330  20.168300        0        0        0        0   \n",
       "2   NaN      Algeria  28.03390   1.659600        0        0        0        0   \n",
       "3   NaN      Andorra  42.50630   1.521800        0        0        0        0   \n",
       "4   NaN       Angola -11.20270  17.873900        0        0        0        0   \n",
       "\n",
       "   1/26/20  1/27/20  ...  7/14/20  7/15/20  7/16/20  7/17/20  7/18/20  \\\n",
       "0        0        0  ...     1048     1094     1113     1147     1164   \n",
       "1        0        0  ...       97      101      104      107      111   \n",
       "2        0        0  ...     1028     1040     1052     1057     1068   \n",
       "3        0        0  ...       52       52       52       52       52   \n",
       "4        0        0  ...       26       27       28       29       29   \n",
       "\n",
       "   7/19/20  7/20/20  7/21/20  7/22/20  7/23/20  \n",
       "0     1181     1185     1186     1190     1211  \n",
       "1      112      113      117      120      123  \n",
       "2     1078     1087     1100     1111     1124  \n",
       "3       52       52       52       52       52  \n",
       "4       29       29       30       33       33  \n",
       "\n",
       "[5 rows x 188 columns]"
      ]
     },
     "execution_count": 6,
     "metadata": {},
     "output_type": "execute_result"
    }
   ],
   "source": [
    "df_deaths.head()"
   ]
  },
  {
   "cell_type": "code",
   "execution_count": 7,
   "metadata": {},
   "outputs": [
    {
     "data": {
      "text/html": [
       "<div>\n",
       "<style scoped>\n",
       "    .dataframe tbody tr th:only-of-type {\n",
       "        vertical-align: middle;\n",
       "    }\n",
       "\n",
       "    .dataframe tbody tr th {\n",
       "        vertical-align: top;\n",
       "    }\n",
       "\n",
       "    .dataframe thead th {\n",
       "        text-align: right;\n",
       "    }\n",
       "</style>\n",
       "<table border=\"1\" class=\"dataframe\">\n",
       "  <thead>\n",
       "    <tr style=\"text-align: right;\">\n",
       "      <th></th>\n",
       "      <th>state</th>\n",
       "      <th>country</th>\n",
       "      <th>lat</th>\n",
       "      <th>long</th>\n",
       "      <th>1/22/20</th>\n",
       "      <th>1/23/20</th>\n",
       "      <th>1/24/20</th>\n",
       "      <th>1/25/20</th>\n",
       "      <th>1/26/20</th>\n",
       "      <th>1/27/20</th>\n",
       "      <th>...</th>\n",
       "      <th>7/14/20</th>\n",
       "      <th>7/15/20</th>\n",
       "      <th>7/16/20</th>\n",
       "      <th>7/17/20</th>\n",
       "      <th>7/18/20</th>\n",
       "      <th>7/19/20</th>\n",
       "      <th>7/20/20</th>\n",
       "      <th>7/21/20</th>\n",
       "      <th>7/22/20</th>\n",
       "      <th>7/23/20</th>\n",
       "    </tr>\n",
       "  </thead>\n",
       "  <tbody>\n",
       "    <tr>\n",
       "      <th>0</th>\n",
       "      <td>NaN</td>\n",
       "      <td>Afghanistan</td>\n",
       "      <td>33.93911</td>\n",
       "      <td>67.709953</td>\n",
       "      <td>0</td>\n",
       "      <td>0</td>\n",
       "      <td>0</td>\n",
       "      <td>0</td>\n",
       "      <td>0</td>\n",
       "      <td>0</td>\n",
       "      <td>...</td>\n",
       "      <td>34740</td>\n",
       "      <td>34994</td>\n",
       "      <td>35070</td>\n",
       "      <td>35229</td>\n",
       "      <td>35301</td>\n",
       "      <td>35475</td>\n",
       "      <td>35526</td>\n",
       "      <td>35615</td>\n",
       "      <td>35727</td>\n",
       "      <td>35928</td>\n",
       "    </tr>\n",
       "    <tr>\n",
       "      <th>1</th>\n",
       "      <td>NaN</td>\n",
       "      <td>Albania</td>\n",
       "      <td>41.15330</td>\n",
       "      <td>20.168300</td>\n",
       "      <td>0</td>\n",
       "      <td>0</td>\n",
       "      <td>0</td>\n",
       "      <td>0</td>\n",
       "      <td>0</td>\n",
       "      <td>0</td>\n",
       "      <td>...</td>\n",
       "      <td>3667</td>\n",
       "      <td>3752</td>\n",
       "      <td>3851</td>\n",
       "      <td>3906</td>\n",
       "      <td>4008</td>\n",
       "      <td>4090</td>\n",
       "      <td>4171</td>\n",
       "      <td>4290</td>\n",
       "      <td>4358</td>\n",
       "      <td>4466</td>\n",
       "    </tr>\n",
       "    <tr>\n",
       "      <th>2</th>\n",
       "      <td>NaN</td>\n",
       "      <td>Algeria</td>\n",
       "      <td>28.03390</td>\n",
       "      <td>1.659600</td>\n",
       "      <td>0</td>\n",
       "      <td>0</td>\n",
       "      <td>0</td>\n",
       "      <td>0</td>\n",
       "      <td>0</td>\n",
       "      <td>0</td>\n",
       "      <td>...</td>\n",
       "      <td>20216</td>\n",
       "      <td>20770</td>\n",
       "      <td>21355</td>\n",
       "      <td>21948</td>\n",
       "      <td>22549</td>\n",
       "      <td>23084</td>\n",
       "      <td>23691</td>\n",
       "      <td>24278</td>\n",
       "      <td>24872</td>\n",
       "      <td>25484</td>\n",
       "    </tr>\n",
       "    <tr>\n",
       "      <th>3</th>\n",
       "      <td>NaN</td>\n",
       "      <td>Andorra</td>\n",
       "      <td>42.50630</td>\n",
       "      <td>1.521800</td>\n",
       "      <td>0</td>\n",
       "      <td>0</td>\n",
       "      <td>0</td>\n",
       "      <td>0</td>\n",
       "      <td>0</td>\n",
       "      <td>0</td>\n",
       "      <td>...</td>\n",
       "      <td>861</td>\n",
       "      <td>862</td>\n",
       "      <td>877</td>\n",
       "      <td>880</td>\n",
       "      <td>880</td>\n",
       "      <td>880</td>\n",
       "      <td>884</td>\n",
       "      <td>884</td>\n",
       "      <td>889</td>\n",
       "      <td>889</td>\n",
       "    </tr>\n",
       "    <tr>\n",
       "      <th>4</th>\n",
       "      <td>NaN</td>\n",
       "      <td>Angola</td>\n",
       "      <td>-11.20270</td>\n",
       "      <td>17.873900</td>\n",
       "      <td>0</td>\n",
       "      <td>0</td>\n",
       "      <td>0</td>\n",
       "      <td>0</td>\n",
       "      <td>0</td>\n",
       "      <td>0</td>\n",
       "      <td>...</td>\n",
       "      <td>541</td>\n",
       "      <td>576</td>\n",
       "      <td>607</td>\n",
       "      <td>638</td>\n",
       "      <td>687</td>\n",
       "      <td>705</td>\n",
       "      <td>749</td>\n",
       "      <td>779</td>\n",
       "      <td>812</td>\n",
       "      <td>851</td>\n",
       "    </tr>\n",
       "  </tbody>\n",
       "</table>\n",
       "<p>5 rows × 188 columns</p>\n",
       "</div>"
      ],
      "text/plain": [
       "  state      country       lat       long  1/22/20  1/23/20  1/24/20  1/25/20  \\\n",
       "0   NaN  Afghanistan  33.93911  67.709953        0        0        0        0   \n",
       "1   NaN      Albania  41.15330  20.168300        0        0        0        0   \n",
       "2   NaN      Algeria  28.03390   1.659600        0        0        0        0   \n",
       "3   NaN      Andorra  42.50630   1.521800        0        0        0        0   \n",
       "4   NaN       Angola -11.20270  17.873900        0        0        0        0   \n",
       "\n",
       "   1/26/20  1/27/20  ...  7/14/20  7/15/20  7/16/20  7/17/20  7/18/20  \\\n",
       "0        0        0  ...    34740    34994    35070    35229    35301   \n",
       "1        0        0  ...     3667     3752     3851     3906     4008   \n",
       "2        0        0  ...    20216    20770    21355    21948    22549   \n",
       "3        0        0  ...      861      862      877      880      880   \n",
       "4        0        0  ...      541      576      607      638      687   \n",
       "\n",
       "   7/19/20  7/20/20  7/21/20  7/22/20  7/23/20  \n",
       "0    35475    35526    35615    35727    35928  \n",
       "1     4090     4171     4290     4358     4466  \n",
       "2    23084    23691    24278    24872    25484  \n",
       "3      880      884      884      889      889  \n",
       "4      705      749      779      812      851  \n",
       "\n",
       "[5 rows x 188 columns]"
      ]
     },
     "execution_count": 7,
     "metadata": {},
     "output_type": "execute_result"
    }
   ],
   "source": [
    "df_cases.head()"
   ]
  },
  {
   "cell_type": "code",
   "execution_count": 8,
   "metadata": {},
   "outputs": [
    {
     "data": {
      "text/html": [
       "<div>\n",
       "<style scoped>\n",
       "    .dataframe tbody tr th:only-of-type {\n",
       "        vertical-align: middle;\n",
       "    }\n",
       "\n",
       "    .dataframe tbody tr th {\n",
       "        vertical-align: top;\n",
       "    }\n",
       "\n",
       "    .dataframe thead th {\n",
       "        text-align: right;\n",
       "    }\n",
       "</style>\n",
       "<table border=\"1\" class=\"dataframe\">\n",
       "  <thead>\n",
       "    <tr style=\"text-align: right;\">\n",
       "      <th></th>\n",
       "      <th>state</th>\n",
       "      <th>country</th>\n",
       "      <th>lat</th>\n",
       "      <th>long</th>\n",
       "      <th>1/22/20</th>\n",
       "      <th>1/23/20</th>\n",
       "      <th>1/24/20</th>\n",
       "      <th>1/25/20</th>\n",
       "      <th>1/26/20</th>\n",
       "      <th>1/27/20</th>\n",
       "      <th>...</th>\n",
       "      <th>7/14/20</th>\n",
       "      <th>7/15/20</th>\n",
       "      <th>7/16/20</th>\n",
       "      <th>7/17/20</th>\n",
       "      <th>7/18/20</th>\n",
       "      <th>7/19/20</th>\n",
       "      <th>7/20/20</th>\n",
       "      <th>7/21/20</th>\n",
       "      <th>7/22/20</th>\n",
       "      <th>7/23/20</th>\n",
       "    </tr>\n",
       "  </thead>\n",
       "  <tbody>\n",
       "    <tr>\n",
       "      <th>0</th>\n",
       "      <td>NaN</td>\n",
       "      <td>Afghanistan</td>\n",
       "      <td>33.93911</td>\n",
       "      <td>67.709953</td>\n",
       "      <td>0</td>\n",
       "      <td>0</td>\n",
       "      <td>0</td>\n",
       "      <td>0</td>\n",
       "      <td>0</td>\n",
       "      <td>0</td>\n",
       "      <td>...</td>\n",
       "      <td>21454</td>\n",
       "      <td>22456</td>\n",
       "      <td>22824</td>\n",
       "      <td>23151</td>\n",
       "      <td>23273</td>\n",
       "      <td>23634</td>\n",
       "      <td>23741</td>\n",
       "      <td>23741</td>\n",
       "      <td>23924</td>\n",
       "      <td>24550</td>\n",
       "    </tr>\n",
       "    <tr>\n",
       "      <th>1</th>\n",
       "      <td>NaN</td>\n",
       "      <td>Albania</td>\n",
       "      <td>41.15330</td>\n",
       "      <td>20.168300</td>\n",
       "      <td>0</td>\n",
       "      <td>0</td>\n",
       "      <td>0</td>\n",
       "      <td>0</td>\n",
       "      <td>0</td>\n",
       "      <td>0</td>\n",
       "      <td>...</td>\n",
       "      <td>2062</td>\n",
       "      <td>2091</td>\n",
       "      <td>2137</td>\n",
       "      <td>2214</td>\n",
       "      <td>2264</td>\n",
       "      <td>2311</td>\n",
       "      <td>2352</td>\n",
       "      <td>2397</td>\n",
       "      <td>2463</td>\n",
       "      <td>2523</td>\n",
       "    </tr>\n",
       "    <tr>\n",
       "      <th>2</th>\n",
       "      <td>NaN</td>\n",
       "      <td>Algeria</td>\n",
       "      <td>28.03390</td>\n",
       "      <td>1.659600</td>\n",
       "      <td>0</td>\n",
       "      <td>0</td>\n",
       "      <td>0</td>\n",
       "      <td>0</td>\n",
       "      <td>0</td>\n",
       "      <td>0</td>\n",
       "      <td>...</td>\n",
       "      <td>14295</td>\n",
       "      <td>14792</td>\n",
       "      <td>15107</td>\n",
       "      <td>15430</td>\n",
       "      <td>15744</td>\n",
       "      <td>16051</td>\n",
       "      <td>16400</td>\n",
       "      <td>16646</td>\n",
       "      <td>16983</td>\n",
       "      <td>17369</td>\n",
       "    </tr>\n",
       "    <tr>\n",
       "      <th>3</th>\n",
       "      <td>NaN</td>\n",
       "      <td>Andorra</td>\n",
       "      <td>42.50630</td>\n",
       "      <td>1.521800</td>\n",
       "      <td>0</td>\n",
       "      <td>0</td>\n",
       "      <td>0</td>\n",
       "      <td>0</td>\n",
       "      <td>0</td>\n",
       "      <td>0</td>\n",
       "      <td>...</td>\n",
       "      <td>803</td>\n",
       "      <td>803</td>\n",
       "      <td>803</td>\n",
       "      <td>803</td>\n",
       "      <td>803</td>\n",
       "      <td>803</td>\n",
       "      <td>803</td>\n",
       "      <td>803</td>\n",
       "      <td>803</td>\n",
       "      <td>803</td>\n",
       "    </tr>\n",
       "    <tr>\n",
       "      <th>4</th>\n",
       "      <td>NaN</td>\n",
       "      <td>Angola</td>\n",
       "      <td>-11.20270</td>\n",
       "      <td>17.873900</td>\n",
       "      <td>0</td>\n",
       "      <td>0</td>\n",
       "      <td>0</td>\n",
       "      <td>0</td>\n",
       "      <td>0</td>\n",
       "      <td>0</td>\n",
       "      <td>...</td>\n",
       "      <td>118</td>\n",
       "      <td>124</td>\n",
       "      <td>124</td>\n",
       "      <td>199</td>\n",
       "      <td>210</td>\n",
       "      <td>221</td>\n",
       "      <td>221</td>\n",
       "      <td>221</td>\n",
       "      <td>221</td>\n",
       "      <td>236</td>\n",
       "    </tr>\n",
       "  </tbody>\n",
       "</table>\n",
       "<p>5 rows × 188 columns</p>\n",
       "</div>"
      ],
      "text/plain": [
       "  state      country       lat       long  1/22/20  1/23/20  1/24/20  1/25/20  \\\n",
       "0   NaN  Afghanistan  33.93911  67.709953        0        0        0        0   \n",
       "1   NaN      Albania  41.15330  20.168300        0        0        0        0   \n",
       "2   NaN      Algeria  28.03390   1.659600        0        0        0        0   \n",
       "3   NaN      Andorra  42.50630   1.521800        0        0        0        0   \n",
       "4   NaN       Angola -11.20270  17.873900        0        0        0        0   \n",
       "\n",
       "   1/26/20  1/27/20  ...  7/14/20  7/15/20  7/16/20  7/17/20  7/18/20  \\\n",
       "0        0        0  ...    21454    22456    22824    23151    23273   \n",
       "1        0        0  ...     2062     2091     2137     2214     2264   \n",
       "2        0        0  ...    14295    14792    15107    15430    15744   \n",
       "3        0        0  ...      803      803      803      803      803   \n",
       "4        0        0  ...      118      124      124      199      210   \n",
       "\n",
       "   7/19/20  7/20/20  7/21/20  7/22/20  7/23/20  \n",
       "0    23634    23741    23741    23924    24550  \n",
       "1     2311     2352     2397     2463     2523  \n",
       "2    16051    16400    16646    16983    17369  \n",
       "3      803      803      803      803      803  \n",
       "4      221      221      221      221      236  \n",
       "\n",
       "[5 rows x 188 columns]"
      ]
     },
     "execution_count": 8,
     "metadata": {},
     "output_type": "execute_result"
    }
   ],
   "source": [
    "df_recovered.head()"
   ]
  },
  {
   "cell_type": "code",
   "execution_count": 21,
   "metadata": {},
   "outputs": [],
   "source": [
    "df_cases.to_csv('cases.csv')"
   ]
  },
  {
   "cell_type": "code",
   "execution_count": 22,
   "metadata": {},
   "outputs": [],
   "source": [
    "df_deaths.to_csv('deaths.csv')"
   ]
  },
  {
   "cell_type": "code",
   "execution_count": 23,
   "metadata": {},
   "outputs": [],
   "source": [
    "df_recovered.to_csv('recovered.csv')"
   ]
  },
  {
   "cell_type": "code",
   "execution_count": 24,
   "metadata": {},
   "outputs": [],
   "source": [
    "df_general.to_csv('general.csv')"
   ]
  },
  {
   "cell_type": "code",
   "execution_count": 9,
   "metadata": {},
   "outputs": [],
   "source": [
    "df_general_sorted = df_general.sort_values('confirmed', ascending=False)"
   ]
  },
  {
   "cell_type": "code",
   "execution_count": 10,
   "metadata": {},
   "outputs": [],
   "source": [
    "confirmed_total = int(df_general['confirmed'].sum())\n",
    "deaths_total = int(df_general['deaths'].sum())\n",
    "recovered_total = int(df_general['recovered'].sum())\n",
    "active_total = int(df_general['active'].sum())"
   ]
  },
  {
   "cell_type": "markdown",
   "metadata": {},
   "source": [
    "<h1><center>COVID-19 By the Numbers</center></h1>\n",
    "\n",
    "<p><center>Check below how are the number of confirmed cases, deaths and recovered people in the world.</center></p>"
   ]
  },
  {
   "cell_type": "code",
   "execution_count": 11,
   "metadata": {},
   "outputs": [
    {
     "data": {
      "text/html": [
       "<div style = 'text-align:center; background-color: #f5faff; padding: 30px '><div style='color: cornflowerblue; font-size:30px;'><br><strong> Confirmed: 15226791</br></strong></div><div style='color: red; font-size:30px;margin-left:20px;'><br><strong> Deaths: 623369</br></strong></div><div style='color: green; font-size:30px; margin-left:20px;'><br><strong> Recovered: 8538808</br></strong></div></div>"
      ],
      "text/plain": [
       "<IPython.core.display.HTML object>"
      ]
     },
     "metadata": {},
     "output_type": "display_data"
    }
   ],
   "source": [
    "display(HTML(\"<div style = 'text-align:center; background-color: #f5faff; padding: 30px '>\" +\n",
    "             \"<div style='color: cornflowerblue; font-size:30px;'><br><strong> Confirmed: \"  + str(confirmed_total) +\"</br></strong></div>\" +\n",
    "             \"<div style='color: red; font-size:30px;margin-left:20px;'><br><strong> Deaths: \" + str(deaths_total) + \"</br></strong></div>\"+\n",
    "             \"<div style='color: green; font-size:30px; margin-left:20px;'><br><strong> Recovered: \" + str(recovered_total) + \"</br></strong></div>\"+\n",
    "             \"</div>\")\n",
    "       )\n"
   ]
  },
  {
   "cell_type": "markdown",
   "metadata": {},
   "source": [
    "<h1><center>Time series of number of cases and deaths in the world or per country:</center></h1>\n",
    "\n",
    "<p><center>Type the country name or \"world\" for all countries.</center></p>"
   ]
  },
  {
   "cell_type": "code",
   "execution_count": 12,
   "metadata": {},
   "outputs": [],
   "source": [
    "def country_cases(country):\n",
    "    labels = ['confirmed', 'deaths']\n",
    "    colors = ['cornflowerblue', 'red']\n",
    "    mode_size = [6,8]\n",
    "    line_size = [4,5]\n",
    "\n",
    "    df_list = [df_cases, df_deaths]\n",
    "\n",
    "    fig = go.Figure()\n",
    "\n",
    "    for i, df in enumerate(df_list):\n",
    "        if country == 'World' or country == 'world':\n",
    "            x_data = np.array(list(df.iloc[:,5:].columns))\n",
    "            y_data = np.sum(np.asarray(df.iloc[:,5:]), axis=0)\n",
    "        else:\n",
    "            x_data = np.array(list(df.iloc[:,5:].columns))\n",
    "            y_data = np.sum(np.asarray(df[df['country']==country].iloc[:,5:]), axis=0)\n",
    "        fig.add_trace(go.Scatter(x=x_data, y=y_data, mode='lines+markers', name=labels[i],\n",
    "                                line = dict(color=colors[i], width=line_size[i]),\n",
    "                                connectgaps=True,\n",
    "                                text='Total ' + str(labels[i]) + ':' + str(y_data[-1])\n",
    "                                ))\n",
    "    fig.show()"
   ]
  },
  {
   "cell_type": "code",
   "execution_count": 13,
   "metadata": {},
   "outputs": [
    {
     "data": {
      "application/vnd.jupyter.widget-view+json": {
       "model_id": "22511c5dc21b4e19ad40593c67ebb03b",
       "version_major": 2,
       "version_minor": 0
      },
      "text/plain": [
       "interactive(children=(Text(value='World', description='country'), Output()), _dom_classes=('widget-interact',)…"
      ]
     },
     "metadata": {},
     "output_type": "display_data"
    }
   ],
   "source": [
    "interact(country_cases, country='World');"
   ]
  },
  {
   "cell_type": "markdown",
   "metadata": {},
   "source": [
    "<h1><center>Countries with the highest number of confirmed cases:</center></h1>"
   ]
  },
  {
   "cell_type": "code",
   "execution_count": 14,
   "metadata": {},
   "outputs": [],
   "source": [
    "def highlight_column(x):\n",
    "    red = 'background-color: red'\n",
    "    green = 'background-color: lime'\n",
    "    blue = 'background-color: cornflowerblue'\n",
    "    df_temp = pd.DataFrame('', index=x.index, columns=x.columns)\n",
    "    df_temp.iloc[:,1] = blue\n",
    "    df_temp.iloc[:,2] = red\n",
    "    df_temp.iloc[:,3] = green\n",
    "    return df_temp"
   ]
  },
  {
   "cell_type": "code",
   "execution_count": 15,
   "metadata": {},
   "outputs": [
    {
     "data": {
      "text/html": [
       "<style  type=\"text/css\" >\n",
       "    #T_c92a1c02_cd87_11ea_8c8f_8c1645d75d7arow0_col1 {\n",
       "            background-color:  cornflowerblue;\n",
       "        }    #T_c92a1c02_cd87_11ea_8c8f_8c1645d75d7arow0_col2 {\n",
       "            background-color:  red;\n",
       "        }    #T_c92a1c02_cd87_11ea_8c8f_8c1645d75d7arow0_col3 {\n",
       "            background-color:  lime;\n",
       "        }    #T_c92a1c02_cd87_11ea_8c8f_8c1645d75d7arow1_col1 {\n",
       "            background-color:  cornflowerblue;\n",
       "        }    #T_c92a1c02_cd87_11ea_8c8f_8c1645d75d7arow1_col2 {\n",
       "            background-color:  red;\n",
       "        }    #T_c92a1c02_cd87_11ea_8c8f_8c1645d75d7arow1_col3 {\n",
       "            background-color:  lime;\n",
       "        }    #T_c92a1c02_cd87_11ea_8c8f_8c1645d75d7arow2_col1 {\n",
       "            background-color:  cornflowerblue;\n",
       "        }    #T_c92a1c02_cd87_11ea_8c8f_8c1645d75d7arow2_col2 {\n",
       "            background-color:  red;\n",
       "        }    #T_c92a1c02_cd87_11ea_8c8f_8c1645d75d7arow2_col3 {\n",
       "            background-color:  lime;\n",
       "        }    #T_c92a1c02_cd87_11ea_8c8f_8c1645d75d7arow3_col1 {\n",
       "            background-color:  cornflowerblue;\n",
       "        }    #T_c92a1c02_cd87_11ea_8c8f_8c1645d75d7arow3_col2 {\n",
       "            background-color:  red;\n",
       "        }    #T_c92a1c02_cd87_11ea_8c8f_8c1645d75d7arow3_col3 {\n",
       "            background-color:  lime;\n",
       "        }    #T_c92a1c02_cd87_11ea_8c8f_8c1645d75d7arow4_col1 {\n",
       "            background-color:  cornflowerblue;\n",
       "        }    #T_c92a1c02_cd87_11ea_8c8f_8c1645d75d7arow4_col2 {\n",
       "            background-color:  red;\n",
       "        }    #T_c92a1c02_cd87_11ea_8c8f_8c1645d75d7arow4_col3 {\n",
       "            background-color:  lime;\n",
       "        }    #T_c92a1c02_cd87_11ea_8c8f_8c1645d75d7arow5_col1 {\n",
       "            background-color:  cornflowerblue;\n",
       "        }    #T_c92a1c02_cd87_11ea_8c8f_8c1645d75d7arow5_col2 {\n",
       "            background-color:  red;\n",
       "        }    #T_c92a1c02_cd87_11ea_8c8f_8c1645d75d7arow5_col3 {\n",
       "            background-color:  lime;\n",
       "        }    #T_c92a1c02_cd87_11ea_8c8f_8c1645d75d7arow6_col1 {\n",
       "            background-color:  cornflowerblue;\n",
       "        }    #T_c92a1c02_cd87_11ea_8c8f_8c1645d75d7arow6_col2 {\n",
       "            background-color:  red;\n",
       "        }    #T_c92a1c02_cd87_11ea_8c8f_8c1645d75d7arow6_col3 {\n",
       "            background-color:  lime;\n",
       "        }    #T_c92a1c02_cd87_11ea_8c8f_8c1645d75d7arow7_col1 {\n",
       "            background-color:  cornflowerblue;\n",
       "        }    #T_c92a1c02_cd87_11ea_8c8f_8c1645d75d7arow7_col2 {\n",
       "            background-color:  red;\n",
       "        }    #T_c92a1c02_cd87_11ea_8c8f_8c1645d75d7arow7_col3 {\n",
       "            background-color:  lime;\n",
       "        }    #T_c92a1c02_cd87_11ea_8c8f_8c1645d75d7arow8_col1 {\n",
       "            background-color:  cornflowerblue;\n",
       "        }    #T_c92a1c02_cd87_11ea_8c8f_8c1645d75d7arow8_col2 {\n",
       "            background-color:  red;\n",
       "        }    #T_c92a1c02_cd87_11ea_8c8f_8c1645d75d7arow8_col3 {\n",
       "            background-color:  lime;\n",
       "        }    #T_c92a1c02_cd87_11ea_8c8f_8c1645d75d7arow9_col1 {\n",
       "            background-color:  cornflowerblue;\n",
       "        }    #T_c92a1c02_cd87_11ea_8c8f_8c1645d75d7arow9_col2 {\n",
       "            background-color:  red;\n",
       "        }    #T_c92a1c02_cd87_11ea_8c8f_8c1645d75d7arow9_col3 {\n",
       "            background-color:  lime;\n",
       "        }</style><table id=\"T_c92a1c02_cd87_11ea_8c8f_8c1645d75d7a\" ><thead>    <tr>        <th class=\"blank level0\" ></th>        <th class=\"col_heading level0 col0\" >country</th>        <th class=\"col_heading level0 col1\" >confirmed</th>        <th class=\"col_heading level0 col2\" >deaths</th>        <th class=\"col_heading level0 col3\" >recovered</th>        <th class=\"col_heading level0 col4\" >active</th>        <th class=\"col_heading level0 col5\" >new cases</th>        <th class=\"col_heading level0 col6\" >new deaths</th>        <th class=\"col_heading level0 col7\" >new recovered</th>        <th class=\"col_heading level0 col8\" >deaths / 100 cases</th>        <th class=\"col_heading level0 col9\" >recovered / 100 cases</th>        <th class=\"col_heading level0 col10\" >deaths / 100 recovered</th>        <th class=\"col_heading level0 col11\" >confirmed last week</th>        <th class=\"col_heading level0 col12\" >1 week change</th>        <th class=\"col_heading level0 col13\" >1 week % increase</th>        <th class=\"col_heading level0 col14\" >who region</th>    </tr></thead><tbody>\n",
       "                <tr>\n",
       "                        <th id=\"T_c92a1c02_cd87_11ea_8c8f_8c1645d75d7alevel0_row0\" class=\"row_heading level0 row0\" >173</th>\n",
       "                        <td id=\"T_c92a1c02_cd87_11ea_8c8f_8c1645d75d7arow0_col0\" class=\"data row0 col0\" >US</td>\n",
       "                        <td id=\"T_c92a1c02_cd87_11ea_8c8f_8c1645d75d7arow0_col1\" class=\"data row0 col1\" >3970906</td>\n",
       "                        <td id=\"T_c92a1c02_cd87_11ea_8c8f_8c1645d75d7arow0_col2\" class=\"data row0 col2\" >143190</td>\n",
       "                        <td id=\"T_c92a1c02_cd87_11ea_8c8f_8c1645d75d7arow0_col3\" class=\"data row0 col3\" >1210849</td>\n",
       "                        <td id=\"T_c92a1c02_cd87_11ea_8c8f_8c1645d75d7arow0_col4\" class=\"data row0 col4\" >2616867</td>\n",
       "                        <td id=\"T_c92a1c02_cd87_11ea_8c8f_8c1645d75d7arow0_col5\" class=\"data row0 col5\" >71695</td>\n",
       "                        <td id=\"T_c92a1c02_cd87_11ea_8c8f_8c1645d75d7arow0_col6\" class=\"data row0 col6\" >1195</td>\n",
       "                        <td id=\"T_c92a1c02_cd87_11ea_8c8f_8c1645d75d7arow0_col7\" class=\"data row0 col7\" >28831</td>\n",
       "                        <td id=\"T_c92a1c02_cd87_11ea_8c8f_8c1645d75d7arow0_col8\" class=\"data row0 col8\" >3.61</td>\n",
       "                        <td id=\"T_c92a1c02_cd87_11ea_8c8f_8c1645d75d7arow0_col9\" class=\"data row0 col9\" >30.49</td>\n",
       "                        <td id=\"T_c92a1c02_cd87_11ea_8c8f_8c1645d75d7arow0_col10\" class=\"data row0 col10\" >11.83</td>\n",
       "                        <td id=\"T_c92a1c02_cd87_11ea_8c8f_8c1645d75d7arow0_col11\" class=\"data row0 col11\" >3498902</td>\n",
       "                        <td id=\"T_c92a1c02_cd87_11ea_8c8f_8c1645d75d7arow0_col12\" class=\"data row0 col12\" >472004</td>\n",
       "                        <td id=\"T_c92a1c02_cd87_11ea_8c8f_8c1645d75d7arow0_col13\" class=\"data row0 col13\" >13.49</td>\n",
       "                        <td id=\"T_c92a1c02_cd87_11ea_8c8f_8c1645d75d7arow0_col14\" class=\"data row0 col14\" >Americas</td>\n",
       "            </tr>\n",
       "            <tr>\n",
       "                        <th id=\"T_c92a1c02_cd87_11ea_8c8f_8c1645d75d7alevel0_row1\" class=\"row_heading level0 row1\" >23</th>\n",
       "                        <td id=\"T_c92a1c02_cd87_11ea_8c8f_8c1645d75d7arow1_col0\" class=\"data row1 col0\" >Brazil</td>\n",
       "                        <td id=\"T_c92a1c02_cd87_11ea_8c8f_8c1645d75d7arow1_col1\" class=\"data row1 col1\" >2227514</td>\n",
       "                        <td id=\"T_c92a1c02_cd87_11ea_8c8f_8c1645d75d7arow1_col2\" class=\"data row1 col2\" >82771</td>\n",
       "                        <td id=\"T_c92a1c02_cd87_11ea_8c8f_8c1645d75d7arow1_col3\" class=\"data row1 col3\" >1591975</td>\n",
       "                        <td id=\"T_c92a1c02_cd87_11ea_8c8f_8c1645d75d7arow1_col4\" class=\"data row1 col4\" >552768</td>\n",
       "                        <td id=\"T_c92a1c02_cd87_11ea_8c8f_8c1645d75d7arow1_col5\" class=\"data row1 col5\" >67860</td>\n",
       "                        <td id=\"T_c92a1c02_cd87_11ea_8c8f_8c1645d75d7arow1_col6\" class=\"data row1 col6\" >1284</td>\n",
       "                        <td id=\"T_c92a1c02_cd87_11ea_8c8f_8c1645d75d7arow1_col7\" class=\"data row1 col7\" >36636</td>\n",
       "                        <td id=\"T_c92a1c02_cd87_11ea_8c8f_8c1645d75d7arow1_col8\" class=\"data row1 col8\" >3.72</td>\n",
       "                        <td id=\"T_c92a1c02_cd87_11ea_8c8f_8c1645d75d7arow1_col9\" class=\"data row1 col9\" >71.47</td>\n",
       "                        <td id=\"T_c92a1c02_cd87_11ea_8c8f_8c1645d75d7arow1_col10\" class=\"data row1 col10\" >5.2</td>\n",
       "                        <td id=\"T_c92a1c02_cd87_11ea_8c8f_8c1645d75d7arow1_col11\" class=\"data row1 col11\" >1966748</td>\n",
       "                        <td id=\"T_c92a1c02_cd87_11ea_8c8f_8c1645d75d7arow1_col12\" class=\"data row1 col12\" >260766</td>\n",
       "                        <td id=\"T_c92a1c02_cd87_11ea_8c8f_8c1645d75d7arow1_col13\" class=\"data row1 col13\" >13.26</td>\n",
       "                        <td id=\"T_c92a1c02_cd87_11ea_8c8f_8c1645d75d7arow1_col14\" class=\"data row1 col14\" >Americas</td>\n",
       "            </tr>\n",
       "            <tr>\n",
       "                        <th id=\"T_c92a1c02_cd87_11ea_8c8f_8c1645d75d7alevel0_row2\" class=\"row_heading level0 row2\" >79</th>\n",
       "                        <td id=\"T_c92a1c02_cd87_11ea_8c8f_8c1645d75d7arow2_col0\" class=\"data row2 col0\" >India</td>\n",
       "                        <td id=\"T_c92a1c02_cd87_11ea_8c8f_8c1645d75d7arow2_col1\" class=\"data row2 col1\" >1238798</td>\n",
       "                        <td id=\"T_c92a1c02_cd87_11ea_8c8f_8c1645d75d7arow2_col2\" class=\"data row2 col2\" >29861</td>\n",
       "                        <td id=\"T_c92a1c02_cd87_11ea_8c8f_8c1645d75d7arow2_col3\" class=\"data row2 col3\" >782607</td>\n",
       "                        <td id=\"T_c92a1c02_cd87_11ea_8c8f_8c1645d75d7arow2_col4\" class=\"data row2 col4\" >426330</td>\n",
       "                        <td id=\"T_c92a1c02_cd87_11ea_8c8f_8c1645d75d7arow2_col5\" class=\"data row2 col5\" >45720</td>\n",
       "                        <td id=\"T_c92a1c02_cd87_11ea_8c8f_8c1645d75d7arow2_col6\" class=\"data row2 col6\" >1129</td>\n",
       "                        <td id=\"T_c92a1c02_cd87_11ea_8c8f_8c1645d75d7arow2_col7\" class=\"data row2 col7\" >29557</td>\n",
       "                        <td id=\"T_c92a1c02_cd87_11ea_8c8f_8c1645d75d7arow2_col8\" class=\"data row2 col8\" >2.41</td>\n",
       "                        <td id=\"T_c92a1c02_cd87_11ea_8c8f_8c1645d75d7arow2_col9\" class=\"data row2 col9\" >63.17</td>\n",
       "                        <td id=\"T_c92a1c02_cd87_11ea_8c8f_8c1645d75d7arow2_col10\" class=\"data row2 col10\" >3.82</td>\n",
       "                        <td id=\"T_c92a1c02_cd87_11ea_8c8f_8c1645d75d7arow2_col11\" class=\"data row2 col11\" >968857</td>\n",
       "                        <td id=\"T_c92a1c02_cd87_11ea_8c8f_8c1645d75d7arow2_col12\" class=\"data row2 col12\" >269941</td>\n",
       "                        <td id=\"T_c92a1c02_cd87_11ea_8c8f_8c1645d75d7arow2_col13\" class=\"data row2 col13\" >27.86</td>\n",
       "                        <td id=\"T_c92a1c02_cd87_11ea_8c8f_8c1645d75d7arow2_col14\" class=\"data row2 col14\" >South-East Asia</td>\n",
       "            </tr>\n",
       "            <tr>\n",
       "                        <th id=\"T_c92a1c02_cd87_11ea_8c8f_8c1645d75d7alevel0_row3\" class=\"row_heading level0 row3\" >138</th>\n",
       "                        <td id=\"T_c92a1c02_cd87_11ea_8c8f_8c1645d75d7arow3_col0\" class=\"data row3 col0\" >Russia</td>\n",
       "                        <td id=\"T_c92a1c02_cd87_11ea_8c8f_8c1645d75d7arow3_col1\" class=\"data row3 col1\" >787890</td>\n",
       "                        <td id=\"T_c92a1c02_cd87_11ea_8c8f_8c1645d75d7arow3_col2\" class=\"data row3 col2\" >12726</td>\n",
       "                        <td id=\"T_c92a1c02_cd87_11ea_8c8f_8c1645d75d7arow3_col3\" class=\"data row3 col3\" >571049</td>\n",
       "                        <td id=\"T_c92a1c02_cd87_11ea_8c8f_8c1645d75d7arow3_col4\" class=\"data row3 col4\" >204115</td>\n",
       "                        <td id=\"T_c92a1c02_cd87_11ea_8c8f_8c1645d75d7arow3_col5\" class=\"data row3 col5\" >5850</td>\n",
       "                        <td id=\"T_c92a1c02_cd87_11ea_8c8f_8c1645d75d7arow3_col6\" class=\"data row3 col6\" >165</td>\n",
       "                        <td id=\"T_c92a1c02_cd87_11ea_8c8f_8c1645d75d7arow3_col7\" class=\"data row3 col7\" >9652</td>\n",
       "                        <td id=\"T_c92a1c02_cd87_11ea_8c8f_8c1645d75d7arow3_col8\" class=\"data row3 col8\" >1.62</td>\n",
       "                        <td id=\"T_c92a1c02_cd87_11ea_8c8f_8c1645d75d7arow3_col9\" class=\"data row3 col9\" >72.48</td>\n",
       "                        <td id=\"T_c92a1c02_cd87_11ea_8c8f_8c1645d75d7arow3_col10\" class=\"data row3 col10\" >2.23</td>\n",
       "                        <td id=\"T_c92a1c02_cd87_11ea_8c8f_8c1645d75d7arow3_col11\" class=\"data row3 col11\" >745197</td>\n",
       "                        <td id=\"T_c92a1c02_cd87_11ea_8c8f_8c1645d75d7arow3_col12\" class=\"data row3 col12\" >42693</td>\n",
       "                        <td id=\"T_c92a1c02_cd87_11ea_8c8f_8c1645d75d7arow3_col13\" class=\"data row3 col13\" >5.73</td>\n",
       "                        <td id=\"T_c92a1c02_cd87_11ea_8c8f_8c1645d75d7arow3_col14\" class=\"data row3 col14\" >Europe</td>\n",
       "            </tr>\n",
       "            <tr>\n",
       "                        <th id=\"T_c92a1c02_cd87_11ea_8c8f_8c1645d75d7alevel0_row4\" class=\"row_heading level0 row4\" >154</th>\n",
       "                        <td id=\"T_c92a1c02_cd87_11ea_8c8f_8c1645d75d7arow4_col0\" class=\"data row4 col0\" >South Africa</td>\n",
       "                        <td id=\"T_c92a1c02_cd87_11ea_8c8f_8c1645d75d7arow4_col1\" class=\"data row4 col1\" >394948</td>\n",
       "                        <td id=\"T_c92a1c02_cd87_11ea_8c8f_8c1645d75d7arow4_col2\" class=\"data row4 col2\" >5940</td>\n",
       "                        <td id=\"T_c92a1c02_cd87_11ea_8c8f_8c1645d75d7arow4_col3\" class=\"data row4 col3\" >229175</td>\n",
       "                        <td id=\"T_c92a1c02_cd87_11ea_8c8f_8c1645d75d7arow4_col4\" class=\"data row4 col4\" >159833</td>\n",
       "                        <td id=\"T_c92a1c02_cd87_11ea_8c8f_8c1645d75d7arow4_col5\" class=\"data row4 col5\" >13150</td>\n",
       "                        <td id=\"T_c92a1c02_cd87_11ea_8c8f_8c1645d75d7arow4_col6\" class=\"data row4 col6\" >572</td>\n",
       "                        <td id=\"T_c92a1c02_cd87_11ea_8c8f_8c1645d75d7arow4_col7\" class=\"data row4 col7\" >21031</td>\n",
       "                        <td id=\"T_c92a1c02_cd87_11ea_8c8f_8c1645d75d7arow4_col8\" class=\"data row4 col8\" >1.5</td>\n",
       "                        <td id=\"T_c92a1c02_cd87_11ea_8c8f_8c1645d75d7arow4_col9\" class=\"data row4 col9\" >58.03</td>\n",
       "                        <td id=\"T_c92a1c02_cd87_11ea_8c8f_8c1645d75d7arow4_col10\" class=\"data row4 col10\" >2.59</td>\n",
       "                        <td id=\"T_c92a1c02_cd87_11ea_8c8f_8c1645d75d7arow4_col11\" class=\"data row4 col11\" >311049</td>\n",
       "                        <td id=\"T_c92a1c02_cd87_11ea_8c8f_8c1645d75d7arow4_col12\" class=\"data row4 col12\" >83899</td>\n",
       "                        <td id=\"T_c92a1c02_cd87_11ea_8c8f_8c1645d75d7arow4_col13\" class=\"data row4 col13\" >26.97</td>\n",
       "                        <td id=\"T_c92a1c02_cd87_11ea_8c8f_8c1645d75d7arow4_col14\" class=\"data row4 col14\" >Africa</td>\n",
       "            </tr>\n",
       "            <tr>\n",
       "                        <th id=\"T_c92a1c02_cd87_11ea_8c8f_8c1645d75d7alevel0_row5\" class=\"row_heading level0 row5\" >132</th>\n",
       "                        <td id=\"T_c92a1c02_cd87_11ea_8c8f_8c1645d75d7arow5_col0\" class=\"data row5 col0\" >Peru</td>\n",
       "                        <td id=\"T_c92a1c02_cd87_11ea_8c8f_8c1645d75d7arow5_col1\" class=\"data row5 col1\" >366550</td>\n",
       "                        <td id=\"T_c92a1c02_cd87_11ea_8c8f_8c1645d75d7arow5_col2\" class=\"data row5 col2\" >13767</td>\n",
       "                        <td id=\"T_c92a1c02_cd87_11ea_8c8f_8c1645d75d7arow5_col3\" class=\"data row5 col3\" >252246</td>\n",
       "                        <td id=\"T_c92a1c02_cd87_11ea_8c8f_8c1645d75d7arow5_col4\" class=\"data row5 col4\" >100537</td>\n",
       "                        <td id=\"T_c92a1c02_cd87_11ea_8c8f_8c1645d75d7arow5_col5\" class=\"data row5 col5\" >4463</td>\n",
       "                        <td id=\"T_c92a1c02_cd87_11ea_8c8f_8c1645d75d7arow5_col6\" class=\"data row5 col6\" >188</td>\n",
       "                        <td id=\"T_c92a1c02_cd87_11ea_8c8f_8c1645d75d7arow5_col7\" class=\"data row5 col7\" >3500</td>\n",
       "                        <td id=\"T_c92a1c02_cd87_11ea_8c8f_8c1645d75d7arow5_col8\" class=\"data row5 col8\" >3.76</td>\n",
       "                        <td id=\"T_c92a1c02_cd87_11ea_8c8f_8c1645d75d7arow5_col9\" class=\"data row5 col9\" >68.82</td>\n",
       "                        <td id=\"T_c92a1c02_cd87_11ea_8c8f_8c1645d75d7arow5_col10\" class=\"data row5 col10\" >5.46</td>\n",
       "                        <td id=\"T_c92a1c02_cd87_11ea_8c8f_8c1645d75d7arow5_col11\" class=\"data row5 col11\" >337751</td>\n",
       "                        <td id=\"T_c92a1c02_cd87_11ea_8c8f_8c1645d75d7arow5_col12\" class=\"data row5 col12\" >28799</td>\n",
       "                        <td id=\"T_c92a1c02_cd87_11ea_8c8f_8c1645d75d7arow5_col13\" class=\"data row5 col13\" >8.53</td>\n",
       "                        <td id=\"T_c92a1c02_cd87_11ea_8c8f_8c1645d75d7arow5_col14\" class=\"data row5 col14\" >Americas</td>\n",
       "            </tr>\n",
       "            <tr>\n",
       "                        <th id=\"T_c92a1c02_cd87_11ea_8c8f_8c1645d75d7alevel0_row6\" class=\"row_heading level0 row6\" >111</th>\n",
       "                        <td id=\"T_c92a1c02_cd87_11ea_8c8f_8c1645d75d7arow6_col0\" class=\"data row6 col0\" >Mexico</td>\n",
       "                        <td id=\"T_c92a1c02_cd87_11ea_8c8f_8c1645d75d7arow6_col1\" class=\"data row6 col1\" >362274</td>\n",
       "                        <td id=\"T_c92a1c02_cd87_11ea_8c8f_8c1645d75d7arow6_col2\" class=\"data row6 col2\" >41190</td>\n",
       "                        <td id=\"T_c92a1c02_cd87_11ea_8c8f_8c1645d75d7arow6_col3\" class=\"data row6 col3\" >270147</td>\n",
       "                        <td id=\"T_c92a1c02_cd87_11ea_8c8f_8c1645d75d7arow6_col4\" class=\"data row6 col4\" >50937</td>\n",
       "                        <td id=\"T_c92a1c02_cd87_11ea_8c8f_8c1645d75d7arow6_col5\" class=\"data row6 col5\" >6019</td>\n",
       "                        <td id=\"T_c92a1c02_cd87_11ea_8c8f_8c1645d75d7arow6_col6\" class=\"data row6 col6\" >790</td>\n",
       "                        <td id=\"T_c92a1c02_cd87_11ea_8c8f_8c1645d75d7arow6_col7\" class=\"data row6 col7\" >2740</td>\n",
       "                        <td id=\"T_c92a1c02_cd87_11ea_8c8f_8c1645d75d7arow6_col8\" class=\"data row6 col8\" >11.37</td>\n",
       "                        <td id=\"T_c92a1c02_cd87_11ea_8c8f_8c1645d75d7arow6_col9\" class=\"data row6 col9\" >74.57</td>\n",
       "                        <td id=\"T_c92a1c02_cd87_11ea_8c8f_8c1645d75d7arow6_col10\" class=\"data row6 col10\" >15.25</td>\n",
       "                        <td id=\"T_c92a1c02_cd87_11ea_8c8f_8c1645d75d7arow6_col11\" class=\"data row6 col11\" >317635</td>\n",
       "                        <td id=\"T_c92a1c02_cd87_11ea_8c8f_8c1645d75d7arow6_col12\" class=\"data row6 col12\" >44639</td>\n",
       "                        <td id=\"T_c92a1c02_cd87_11ea_8c8f_8c1645d75d7arow6_col13\" class=\"data row6 col13\" >14.05</td>\n",
       "                        <td id=\"T_c92a1c02_cd87_11ea_8c8f_8c1645d75d7arow6_col14\" class=\"data row6 col14\" >Americas</td>\n",
       "            </tr>\n",
       "            <tr>\n",
       "                        <th id=\"T_c92a1c02_cd87_11ea_8c8f_8c1645d75d7alevel0_row7\" class=\"row_heading level0 row7\" >35</th>\n",
       "                        <td id=\"T_c92a1c02_cd87_11ea_8c8f_8c1645d75d7arow7_col0\" class=\"data row7 col0\" >Chile</td>\n",
       "                        <td id=\"T_c92a1c02_cd87_11ea_8c8f_8c1645d75d7arow7_col1\" class=\"data row7 col1\" >334683</td>\n",
       "                        <td id=\"T_c92a1c02_cd87_11ea_8c8f_8c1645d75d7arow7_col2\" class=\"data row7 col2\" >8677</td>\n",
       "                        <td id=\"T_c92a1c02_cd87_11ea_8c8f_8c1645d75d7arow7_col3\" class=\"data row7 col3\" >306816</td>\n",
       "                        <td id=\"T_c92a1c02_cd87_11ea_8c8f_8c1645d75d7arow7_col4\" class=\"data row7 col4\" >19190</td>\n",
       "                        <td id=\"T_c92a1c02_cd87_11ea_8c8f_8c1645d75d7arow7_col5\" class=\"data row7 col5\" >0</td>\n",
       "                        <td id=\"T_c92a1c02_cd87_11ea_8c8f_8c1645d75d7arow7_col6\" class=\"data row7 col6\" >0</td>\n",
       "                        <td id=\"T_c92a1c02_cd87_11ea_8c8f_8c1645d75d7arow7_col7\" class=\"data row7 col7\" >0</td>\n",
       "                        <td id=\"T_c92a1c02_cd87_11ea_8c8f_8c1645d75d7arow7_col8\" class=\"data row7 col8\" >2.59</td>\n",
       "                        <td id=\"T_c92a1c02_cd87_11ea_8c8f_8c1645d75d7arow7_col9\" class=\"data row7 col9\" >91.67</td>\n",
       "                        <td id=\"T_c92a1c02_cd87_11ea_8c8f_8c1645d75d7arow7_col10\" class=\"data row7 col10\" >2.83</td>\n",
       "                        <td id=\"T_c92a1c02_cd87_11ea_8c8f_8c1645d75d7arow7_col11\" class=\"data row7 col11\" >321205</td>\n",
       "                        <td id=\"T_c92a1c02_cd87_11ea_8c8f_8c1645d75d7arow7_col12\" class=\"data row7 col12\" >13478</td>\n",
       "                        <td id=\"T_c92a1c02_cd87_11ea_8c8f_8c1645d75d7arow7_col13\" class=\"data row7 col13\" >4.2</td>\n",
       "                        <td id=\"T_c92a1c02_cd87_11ea_8c8f_8c1645d75d7arow7_col14\" class=\"data row7 col14\" >Americas</td>\n",
       "            </tr>\n",
       "            <tr>\n",
       "                        <th id=\"T_c92a1c02_cd87_11ea_8c8f_8c1645d75d7alevel0_row8\" class=\"row_heading level0 row8\" >177</th>\n",
       "                        <td id=\"T_c92a1c02_cd87_11ea_8c8f_8c1645d75d7arow8_col0\" class=\"data row8 col0\" >United Kingdom</td>\n",
       "                        <td id=\"T_c92a1c02_cd87_11ea_8c8f_8c1645d75d7arow8_col1\" class=\"data row8 col1\" >297952</td>\n",
       "                        <td id=\"T_c92a1c02_cd87_11ea_8c8f_8c1645d75d7arow8_col2\" class=\"data row8 col2\" >45586</td>\n",
       "                        <td id=\"T_c92a1c02_cd87_11ea_8c8f_8c1645d75d7arow8_col3\" class=\"data row8 col3\" >1394</td>\n",
       "                        <td id=\"T_c92a1c02_cd87_11ea_8c8f_8c1645d75d7arow8_col4\" class=\"data row8 col4\" >250972</td>\n",
       "                        <td id=\"T_c92a1c02_cd87_11ea_8c8f_8c1645d75d7arow8_col5\" class=\"data row8 col5\" >563</td>\n",
       "                        <td id=\"T_c92a1c02_cd87_11ea_8c8f_8c1645d75d7arow8_col6\" class=\"data row8 col6\" >79</td>\n",
       "                        <td id=\"T_c92a1c02_cd87_11ea_8c8f_8c1645d75d7arow8_col7\" class=\"data row8 col7\" >2</td>\n",
       "                        <td id=\"T_c92a1c02_cd87_11ea_8c8f_8c1645d75d7arow8_col8\" class=\"data row8 col8\" >15.3</td>\n",
       "                        <td id=\"T_c92a1c02_cd87_11ea_8c8f_8c1645d75d7arow8_col9\" class=\"data row8 col9\" >0.47</td>\n",
       "                        <td id=\"T_c92a1c02_cd87_11ea_8c8f_8c1645d75d7arow8_col10\" class=\"data row8 col10\" >3270.16</td>\n",
       "                        <td id=\"T_c92a1c02_cd87_11ea_8c8f_8c1645d75d7arow8_col11\" class=\"data row8 col11\" >293469</td>\n",
       "                        <td id=\"T_c92a1c02_cd87_11ea_8c8f_8c1645d75d7arow8_col12\" class=\"data row8 col12\" >4483</td>\n",
       "                        <td id=\"T_c92a1c02_cd87_11ea_8c8f_8c1645d75d7arow8_col13\" class=\"data row8 col13\" >1.53</td>\n",
       "                        <td id=\"T_c92a1c02_cd87_11ea_8c8f_8c1645d75d7arow8_col14\" class=\"data row8 col14\" >Europe</td>\n",
       "            </tr>\n",
       "            <tr>\n",
       "                        <th id=\"T_c92a1c02_cd87_11ea_8c8f_8c1645d75d7alevel0_row9\" class=\"row_heading level0 row9\" >81</th>\n",
       "                        <td id=\"T_c92a1c02_cd87_11ea_8c8f_8c1645d75d7arow9_col0\" class=\"data row9 col0\" >Iran</td>\n",
       "                        <td id=\"T_c92a1c02_cd87_11ea_8c8f_8c1645d75d7arow9_col1\" class=\"data row9 col1\" >281413</td>\n",
       "                        <td id=\"T_c92a1c02_cd87_11ea_8c8f_8c1645d75d7arow9_col2\" class=\"data row9 col2\" >14853</td>\n",
       "                        <td id=\"T_c92a1c02_cd87_11ea_8c8f_8c1645d75d7arow9_col3\" class=\"data row9 col3\" >244840</td>\n",
       "                        <td id=\"T_c92a1c02_cd87_11ea_8c8f_8c1645d75d7arow9_col4\" class=\"data row9 col4\" >21720</td>\n",
       "                        <td id=\"T_c92a1c02_cd87_11ea_8c8f_8c1645d75d7arow9_col5\" class=\"data row9 col5\" >2586</td>\n",
       "                        <td id=\"T_c92a1c02_cd87_11ea_8c8f_8c1645d75d7arow9_col6\" class=\"data row9 col6\" >219</td>\n",
       "                        <td id=\"T_c92a1c02_cd87_11ea_8c8f_8c1645d75d7arow9_col7\" class=\"data row9 col7\" >2489</td>\n",
       "                        <td id=\"T_c92a1c02_cd87_11ea_8c8f_8c1645d75d7arow9_col8\" class=\"data row9 col8\" >5.28</td>\n",
       "                        <td id=\"T_c92a1c02_cd87_11ea_8c8f_8c1645d75d7arow9_col9\" class=\"data row9 col9\" >87</td>\n",
       "                        <td id=\"T_c92a1c02_cd87_11ea_8c8f_8c1645d75d7arow9_col10\" class=\"data row9 col10\" >6.07</td>\n",
       "                        <td id=\"T_c92a1c02_cd87_11ea_8c8f_8c1645d75d7arow9_col11\" class=\"data row9 col11\" >264561</td>\n",
       "                        <td id=\"T_c92a1c02_cd87_11ea_8c8f_8c1645d75d7arow9_col12\" class=\"data row9 col12\" >16852</td>\n",
       "                        <td id=\"T_c92a1c02_cd87_11ea_8c8f_8c1645d75d7arow9_col13\" class=\"data row9 col13\" >6.37</td>\n",
       "                        <td id=\"T_c92a1c02_cd87_11ea_8c8f_8c1645d75d7arow9_col14\" class=\"data row9 col14\" >Eastern Mediterranean</td>\n",
       "            </tr>\n",
       "    </tbody></table>"
      ],
      "text/plain": [
       "<pandas.io.formats.style.Styler at 0x2a4baae9a90>"
      ]
     },
     "execution_count": 15,
     "metadata": {},
     "output_type": "execute_result"
    }
   ],
   "source": [
    "df_general_sorted.head(10).style.apply(highlight_column, axis=None)"
   ]
  },
  {
   "cell_type": "code",
   "execution_count": 16,
   "metadata": {},
   "outputs": [
    {
     "data": {
      "application/vnd.plotly.v1+json": {
       "config": {
        "plotlyServerURL": "https://plot.ly"
       },
       "data": [
        {
         "hoverlabel": {
          "namelength": 0
         },
         "hovertemplate": "<b>%{hovertext}</b><br><br>country=%{x}<br>confirmed=%{marker.size}",
         "hovertext": [
          "US"
         ],
         "legendgroup": "US",
         "marker": {
          "color": "#636efa",
          "size": [
           3970906
          ],
          "sizemode": "area",
          "sizeref": 1103.0294444444444,
          "symbol": "circle"
         },
         "mode": "markers",
         "name": "US",
         "showlegend": true,
         "type": "scatter",
         "x": [
          "US"
         ],
         "xaxis": "x",
         "y": [
          3970906
         ],
         "yaxis": "y"
        },
        {
         "hoverlabel": {
          "namelength": 0
         },
         "hovertemplate": "<b>%{hovertext}</b><br><br>country=%{x}<br>confirmed=%{marker.size}",
         "hovertext": [
          "Brazil"
         ],
         "legendgroup": "Brazil",
         "marker": {
          "color": "#EF553B",
          "size": [
           2227514
          ],
          "sizemode": "area",
          "sizeref": 1103.0294444444444,
          "symbol": "circle"
         },
         "mode": "markers",
         "name": "Brazil",
         "showlegend": true,
         "type": "scatter",
         "x": [
          "Brazil"
         ],
         "xaxis": "x",
         "y": [
          2227514
         ],
         "yaxis": "y"
        },
        {
         "hoverlabel": {
          "namelength": 0
         },
         "hovertemplate": "<b>%{hovertext}</b><br><br>country=%{x}<br>confirmed=%{marker.size}",
         "hovertext": [
          "India"
         ],
         "legendgroup": "India",
         "marker": {
          "color": "#00cc96",
          "size": [
           1238798
          ],
          "sizemode": "area",
          "sizeref": 1103.0294444444444,
          "symbol": "circle"
         },
         "mode": "markers",
         "name": "India",
         "showlegend": true,
         "type": "scatter",
         "x": [
          "India"
         ],
         "xaxis": "x",
         "y": [
          1238798
         ],
         "yaxis": "y"
        },
        {
         "hoverlabel": {
          "namelength": 0
         },
         "hovertemplate": "<b>%{hovertext}</b><br><br>country=%{x}<br>confirmed=%{marker.size}",
         "hovertext": [
          "Russia"
         ],
         "legendgroup": "Russia",
         "marker": {
          "color": "#ab63fa",
          "size": [
           787890
          ],
          "sizemode": "area",
          "sizeref": 1103.0294444444444,
          "symbol": "circle"
         },
         "mode": "markers",
         "name": "Russia",
         "showlegend": true,
         "type": "scatter",
         "x": [
          "Russia"
         ],
         "xaxis": "x",
         "y": [
          787890
         ],
         "yaxis": "y"
        },
        {
         "hoverlabel": {
          "namelength": 0
         },
         "hovertemplate": "<b>%{hovertext}</b><br><br>country=%{x}<br>confirmed=%{marker.size}",
         "hovertext": [
          "South Africa"
         ],
         "legendgroup": "South Africa",
         "marker": {
          "color": "#FFA15A",
          "size": [
           394948
          ],
          "sizemode": "area",
          "sizeref": 1103.0294444444444,
          "symbol": "circle"
         },
         "mode": "markers",
         "name": "South Africa",
         "showlegend": true,
         "type": "scatter",
         "x": [
          "South Africa"
         ],
         "xaxis": "x",
         "y": [
          394948
         ],
         "yaxis": "y"
        },
        {
         "hoverlabel": {
          "namelength": 0
         },
         "hovertemplate": "<b>%{hovertext}</b><br><br>country=%{x}<br>confirmed=%{marker.size}",
         "hovertext": [
          "Peru"
         ],
         "legendgroup": "Peru",
         "marker": {
          "color": "#19d3f3",
          "size": [
           366550
          ],
          "sizemode": "area",
          "sizeref": 1103.0294444444444,
          "symbol": "circle"
         },
         "mode": "markers",
         "name": "Peru",
         "showlegend": true,
         "type": "scatter",
         "x": [
          "Peru"
         ],
         "xaxis": "x",
         "y": [
          366550
         ],
         "yaxis": "y"
        },
        {
         "hoverlabel": {
          "namelength": 0
         },
         "hovertemplate": "<b>%{hovertext}</b><br><br>country=%{x}<br>confirmed=%{marker.size}",
         "hovertext": [
          "Mexico"
         ],
         "legendgroup": "Mexico",
         "marker": {
          "color": "#FF6692",
          "size": [
           362274
          ],
          "sizemode": "area",
          "sizeref": 1103.0294444444444,
          "symbol": "circle"
         },
         "mode": "markers",
         "name": "Mexico",
         "showlegend": true,
         "type": "scatter",
         "x": [
          "Mexico"
         ],
         "xaxis": "x",
         "y": [
          362274
         ],
         "yaxis": "y"
        },
        {
         "hoverlabel": {
          "namelength": 0
         },
         "hovertemplate": "<b>%{hovertext}</b><br><br>country=%{x}<br>confirmed=%{marker.size}",
         "hovertext": [
          "Chile"
         ],
         "legendgroup": "Chile",
         "marker": {
          "color": "#B6E880",
          "size": [
           334683
          ],
          "sizemode": "area",
          "sizeref": 1103.0294444444444,
          "symbol": "circle"
         },
         "mode": "markers",
         "name": "Chile",
         "showlegend": true,
         "type": "scatter",
         "x": [
          "Chile"
         ],
         "xaxis": "x",
         "y": [
          334683
         ],
         "yaxis": "y"
        },
        {
         "hoverlabel": {
          "namelength": 0
         },
         "hovertemplate": "<b>%{hovertext}</b><br><br>country=%{x}<br>confirmed=%{marker.size}",
         "hovertext": [
          "United Kingdom"
         ],
         "legendgroup": "United Kingdom",
         "marker": {
          "color": "#FF97FF",
          "size": [
           297952
          ],
          "sizemode": "area",
          "sizeref": 1103.0294444444444,
          "symbol": "circle"
         },
         "mode": "markers",
         "name": "United Kingdom",
         "showlegend": true,
         "type": "scatter",
         "x": [
          "United Kingdom"
         ],
         "xaxis": "x",
         "y": [
          297952
         ],
         "yaxis": "y"
        },
        {
         "hoverlabel": {
          "namelength": 0
         },
         "hovertemplate": "<b>%{hovertext}</b><br><br>country=%{x}<br>confirmed=%{marker.size}",
         "hovertext": [
          "Iran"
         ],
         "legendgroup": "Iran",
         "marker": {
          "color": "#FECB52",
          "size": [
           281413
          ],
          "sizemode": "area",
          "sizeref": 1103.0294444444444,
          "symbol": "circle"
         },
         "mode": "markers",
         "name": "Iran",
         "showlegend": true,
         "type": "scatter",
         "x": [
          "Iran"
         ],
         "xaxis": "x",
         "y": [
          281413
         ],
         "yaxis": "y"
        },
        {
         "hoverlabel": {
          "namelength": 0
         },
         "hovertemplate": "<b>%{hovertext}</b><br><br>country=%{x}<br>confirmed=%{marker.size}",
         "hovertext": [
          "Pakistan"
         ],
         "legendgroup": "Pakistan",
         "marker": {
          "color": "#636efa",
          "size": [
           269191
          ],
          "sizemode": "area",
          "sizeref": 1103.0294444444444,
          "symbol": "circle"
         },
         "mode": "markers",
         "name": "Pakistan",
         "showlegend": true,
         "type": "scatter",
         "x": [
          "Pakistan"
         ],
         "xaxis": "x",
         "y": [
          269191
         ],
         "yaxis": "y"
        },
        {
         "hoverlabel": {
          "namelength": 0
         },
         "hovertemplate": "<b>%{hovertext}</b><br><br>country=%{x}<br>confirmed=%{marker.size}",
         "hovertext": [
          "Spain"
         ],
         "legendgroup": "Spain",
         "marker": {
          "color": "#EF553B",
          "size": [
           267551
          ],
          "sizemode": "area",
          "sizeref": 1103.0294444444444,
          "symbol": "circle"
         },
         "mode": "markers",
         "name": "Spain",
         "showlegend": true,
         "type": "scatter",
         "x": [
          "Spain"
         ],
         "xaxis": "x",
         "y": [
          267551
         ],
         "yaxis": "y"
        },
        {
         "hoverlabel": {
          "namelength": 0
         },
         "hovertemplate": "<b>%{hovertext}</b><br><br>country=%{x}<br>confirmed=%{marker.size}",
         "hovertext": [
          "Saudi Arabia"
         ],
         "legendgroup": "Saudi Arabia",
         "marker": {
          "color": "#00cc96",
          "size": [
           258156
          ],
          "sizemode": "area",
          "sizeref": 1103.0294444444444,
          "symbol": "circle"
         },
         "mode": "markers",
         "name": "Saudi Arabia",
         "showlegend": true,
         "type": "scatter",
         "x": [
          "Saudi Arabia"
         ],
         "xaxis": "x",
         "y": [
          258156
         ],
         "yaxis": "y"
        },
        {
         "hoverlabel": {
          "namelength": 0
         },
         "hovertemplate": "<b>%{hovertext}</b><br><br>country=%{x}<br>confirmed=%{marker.size}",
         "hovertext": [
          "Italy"
         ],
         "legendgroup": "Italy",
         "marker": {
          "color": "#ab63fa",
          "size": [
           245032
          ],
          "sizemode": "area",
          "sizeref": 1103.0294444444444,
          "symbol": "circle"
         },
         "mode": "markers",
         "name": "Italy",
         "showlegend": true,
         "type": "scatter",
         "x": [
          "Italy"
         ],
         "xaxis": "x",
         "y": [
          245032
         ],
         "yaxis": "y"
        },
        {
         "hoverlabel": {
          "namelength": 0
         },
         "hovertemplate": "<b>%{hovertext}</b><br><br>country=%{x}<br>confirmed=%{marker.size}",
         "hovertext": [
          "Turkey"
         ],
         "legendgroup": "Turkey",
         "marker": {
          "color": "#FFA15A",
          "size": [
           222402
          ],
          "sizemode": "area",
          "sizeref": 1103.0294444444444,
          "symbol": "circle"
         },
         "mode": "markers",
         "name": "Turkey",
         "showlegend": true,
         "type": "scatter",
         "x": [
          "Turkey"
         ],
         "xaxis": "x",
         "y": [
          222402
         ],
         "yaxis": "y"
        }
       ],
       "layout": {
        "legend": {
         "itemsizing": "constant",
         "title": {
          "text": "country"
         },
         "tracegroupgap": 0
        },
        "margin": {
         "t": 60
        },
        "template": {
         "data": {
          "bar": [
           {
            "error_x": {
             "color": "#2a3f5f"
            },
            "error_y": {
             "color": "#2a3f5f"
            },
            "marker": {
             "line": {
              "color": "#E5ECF6",
              "width": 0.5
             }
            },
            "type": "bar"
           }
          ],
          "barpolar": [
           {
            "marker": {
             "line": {
              "color": "#E5ECF6",
              "width": 0.5
             }
            },
            "type": "barpolar"
           }
          ],
          "carpet": [
           {
            "aaxis": {
             "endlinecolor": "#2a3f5f",
             "gridcolor": "white",
             "linecolor": "white",
             "minorgridcolor": "white",
             "startlinecolor": "#2a3f5f"
            },
            "baxis": {
             "endlinecolor": "#2a3f5f",
             "gridcolor": "white",
             "linecolor": "white",
             "minorgridcolor": "white",
             "startlinecolor": "#2a3f5f"
            },
            "type": "carpet"
           }
          ],
          "choropleth": [
           {
            "colorbar": {
             "outlinewidth": 0,
             "ticks": ""
            },
            "type": "choropleth"
           }
          ],
          "contour": [
           {
            "colorbar": {
             "outlinewidth": 0,
             "ticks": ""
            },
            "colorscale": [
             [
              0,
              "#0d0887"
             ],
             [
              0.1111111111111111,
              "#46039f"
             ],
             [
              0.2222222222222222,
              "#7201a8"
             ],
             [
              0.3333333333333333,
              "#9c179e"
             ],
             [
              0.4444444444444444,
              "#bd3786"
             ],
             [
              0.5555555555555556,
              "#d8576b"
             ],
             [
              0.6666666666666666,
              "#ed7953"
             ],
             [
              0.7777777777777778,
              "#fb9f3a"
             ],
             [
              0.8888888888888888,
              "#fdca26"
             ],
             [
              1,
              "#f0f921"
             ]
            ],
            "type": "contour"
           }
          ],
          "contourcarpet": [
           {
            "colorbar": {
             "outlinewidth": 0,
             "ticks": ""
            },
            "type": "contourcarpet"
           }
          ],
          "heatmap": [
           {
            "colorbar": {
             "outlinewidth": 0,
             "ticks": ""
            },
            "colorscale": [
             [
              0,
              "#0d0887"
             ],
             [
              0.1111111111111111,
              "#46039f"
             ],
             [
              0.2222222222222222,
              "#7201a8"
             ],
             [
              0.3333333333333333,
              "#9c179e"
             ],
             [
              0.4444444444444444,
              "#bd3786"
             ],
             [
              0.5555555555555556,
              "#d8576b"
             ],
             [
              0.6666666666666666,
              "#ed7953"
             ],
             [
              0.7777777777777778,
              "#fb9f3a"
             ],
             [
              0.8888888888888888,
              "#fdca26"
             ],
             [
              1,
              "#f0f921"
             ]
            ],
            "type": "heatmap"
           }
          ],
          "heatmapgl": [
           {
            "colorbar": {
             "outlinewidth": 0,
             "ticks": ""
            },
            "colorscale": [
             [
              0,
              "#0d0887"
             ],
             [
              0.1111111111111111,
              "#46039f"
             ],
             [
              0.2222222222222222,
              "#7201a8"
             ],
             [
              0.3333333333333333,
              "#9c179e"
             ],
             [
              0.4444444444444444,
              "#bd3786"
             ],
             [
              0.5555555555555556,
              "#d8576b"
             ],
             [
              0.6666666666666666,
              "#ed7953"
             ],
             [
              0.7777777777777778,
              "#fb9f3a"
             ],
             [
              0.8888888888888888,
              "#fdca26"
             ],
             [
              1,
              "#f0f921"
             ]
            ],
            "type": "heatmapgl"
           }
          ],
          "histogram": [
           {
            "marker": {
             "colorbar": {
              "outlinewidth": 0,
              "ticks": ""
             }
            },
            "type": "histogram"
           }
          ],
          "histogram2d": [
           {
            "colorbar": {
             "outlinewidth": 0,
             "ticks": ""
            },
            "colorscale": [
             [
              0,
              "#0d0887"
             ],
             [
              0.1111111111111111,
              "#46039f"
             ],
             [
              0.2222222222222222,
              "#7201a8"
             ],
             [
              0.3333333333333333,
              "#9c179e"
             ],
             [
              0.4444444444444444,
              "#bd3786"
             ],
             [
              0.5555555555555556,
              "#d8576b"
             ],
             [
              0.6666666666666666,
              "#ed7953"
             ],
             [
              0.7777777777777778,
              "#fb9f3a"
             ],
             [
              0.8888888888888888,
              "#fdca26"
             ],
             [
              1,
              "#f0f921"
             ]
            ],
            "type": "histogram2d"
           }
          ],
          "histogram2dcontour": [
           {
            "colorbar": {
             "outlinewidth": 0,
             "ticks": ""
            },
            "colorscale": [
             [
              0,
              "#0d0887"
             ],
             [
              0.1111111111111111,
              "#46039f"
             ],
             [
              0.2222222222222222,
              "#7201a8"
             ],
             [
              0.3333333333333333,
              "#9c179e"
             ],
             [
              0.4444444444444444,
              "#bd3786"
             ],
             [
              0.5555555555555556,
              "#d8576b"
             ],
             [
              0.6666666666666666,
              "#ed7953"
             ],
             [
              0.7777777777777778,
              "#fb9f3a"
             ],
             [
              0.8888888888888888,
              "#fdca26"
             ],
             [
              1,
              "#f0f921"
             ]
            ],
            "type": "histogram2dcontour"
           }
          ],
          "mesh3d": [
           {
            "colorbar": {
             "outlinewidth": 0,
             "ticks": ""
            },
            "type": "mesh3d"
           }
          ],
          "parcoords": [
           {
            "line": {
             "colorbar": {
              "outlinewidth": 0,
              "ticks": ""
             }
            },
            "type": "parcoords"
           }
          ],
          "pie": [
           {
            "automargin": true,
            "type": "pie"
           }
          ],
          "scatter": [
           {
            "marker": {
             "colorbar": {
              "outlinewidth": 0,
              "ticks": ""
             }
            },
            "type": "scatter"
           }
          ],
          "scatter3d": [
           {
            "line": {
             "colorbar": {
              "outlinewidth": 0,
              "ticks": ""
             }
            },
            "marker": {
             "colorbar": {
              "outlinewidth": 0,
              "ticks": ""
             }
            },
            "type": "scatter3d"
           }
          ],
          "scattercarpet": [
           {
            "marker": {
             "colorbar": {
              "outlinewidth": 0,
              "ticks": ""
             }
            },
            "type": "scattercarpet"
           }
          ],
          "scattergeo": [
           {
            "marker": {
             "colorbar": {
              "outlinewidth": 0,
              "ticks": ""
             }
            },
            "type": "scattergeo"
           }
          ],
          "scattergl": [
           {
            "marker": {
             "colorbar": {
              "outlinewidth": 0,
              "ticks": ""
             }
            },
            "type": "scattergl"
           }
          ],
          "scattermapbox": [
           {
            "marker": {
             "colorbar": {
              "outlinewidth": 0,
              "ticks": ""
             }
            },
            "type": "scattermapbox"
           }
          ],
          "scatterpolar": [
           {
            "marker": {
             "colorbar": {
              "outlinewidth": 0,
              "ticks": ""
             }
            },
            "type": "scatterpolar"
           }
          ],
          "scatterpolargl": [
           {
            "marker": {
             "colorbar": {
              "outlinewidth": 0,
              "ticks": ""
             }
            },
            "type": "scatterpolargl"
           }
          ],
          "scatterternary": [
           {
            "marker": {
             "colorbar": {
              "outlinewidth": 0,
              "ticks": ""
             }
            },
            "type": "scatterternary"
           }
          ],
          "surface": [
           {
            "colorbar": {
             "outlinewidth": 0,
             "ticks": ""
            },
            "colorscale": [
             [
              0,
              "#0d0887"
             ],
             [
              0.1111111111111111,
              "#46039f"
             ],
             [
              0.2222222222222222,
              "#7201a8"
             ],
             [
              0.3333333333333333,
              "#9c179e"
             ],
             [
              0.4444444444444444,
              "#bd3786"
             ],
             [
              0.5555555555555556,
              "#d8576b"
             ],
             [
              0.6666666666666666,
              "#ed7953"
             ],
             [
              0.7777777777777778,
              "#fb9f3a"
             ],
             [
              0.8888888888888888,
              "#fdca26"
             ],
             [
              1,
              "#f0f921"
             ]
            ],
            "type": "surface"
           }
          ],
          "table": [
           {
            "cells": {
             "fill": {
              "color": "#EBF0F8"
             },
             "line": {
              "color": "white"
             }
            },
            "header": {
             "fill": {
              "color": "#C8D4E3"
             },
             "line": {
              "color": "white"
             }
            },
            "type": "table"
           }
          ]
         },
         "layout": {
          "annotationdefaults": {
           "arrowcolor": "#2a3f5f",
           "arrowhead": 0,
           "arrowwidth": 1
          },
          "coloraxis": {
           "colorbar": {
            "outlinewidth": 0,
            "ticks": ""
           }
          },
          "colorscale": {
           "diverging": [
            [
             0,
             "#8e0152"
            ],
            [
             0.1,
             "#c51b7d"
            ],
            [
             0.2,
             "#de77ae"
            ],
            [
             0.3,
             "#f1b6da"
            ],
            [
             0.4,
             "#fde0ef"
            ],
            [
             0.5,
             "#f7f7f7"
            ],
            [
             0.6,
             "#e6f5d0"
            ],
            [
             0.7,
             "#b8e186"
            ],
            [
             0.8,
             "#7fbc41"
            ],
            [
             0.9,
             "#4d9221"
            ],
            [
             1,
             "#276419"
            ]
           ],
           "sequential": [
            [
             0,
             "#0d0887"
            ],
            [
             0.1111111111111111,
             "#46039f"
            ],
            [
             0.2222222222222222,
             "#7201a8"
            ],
            [
             0.3333333333333333,
             "#9c179e"
            ],
            [
             0.4444444444444444,
             "#bd3786"
            ],
            [
             0.5555555555555556,
             "#d8576b"
            ],
            [
             0.6666666666666666,
             "#ed7953"
            ],
            [
             0.7777777777777778,
             "#fb9f3a"
            ],
            [
             0.8888888888888888,
             "#fdca26"
            ],
            [
             1,
             "#f0f921"
            ]
           ],
           "sequentialminus": [
            [
             0,
             "#0d0887"
            ],
            [
             0.1111111111111111,
             "#46039f"
            ],
            [
             0.2222222222222222,
             "#7201a8"
            ],
            [
             0.3333333333333333,
             "#9c179e"
            ],
            [
             0.4444444444444444,
             "#bd3786"
            ],
            [
             0.5555555555555556,
             "#d8576b"
            ],
            [
             0.6666666666666666,
             "#ed7953"
            ],
            [
             0.7777777777777778,
             "#fb9f3a"
            ],
            [
             0.8888888888888888,
             "#fdca26"
            ],
            [
             1,
             "#f0f921"
            ]
           ]
          },
          "colorway": [
           "#636efa",
           "#EF553B",
           "#00cc96",
           "#ab63fa",
           "#FFA15A",
           "#19d3f3",
           "#FF6692",
           "#B6E880",
           "#FF97FF",
           "#FECB52"
          ],
          "font": {
           "color": "#2a3f5f"
          },
          "geo": {
           "bgcolor": "white",
           "lakecolor": "white",
           "landcolor": "#E5ECF6",
           "showlakes": true,
           "showland": true,
           "subunitcolor": "white"
          },
          "hoverlabel": {
           "align": "left"
          },
          "hovermode": "closest",
          "mapbox": {
           "style": "light"
          },
          "paper_bgcolor": "white",
          "plot_bgcolor": "#E5ECF6",
          "polar": {
           "angularaxis": {
            "gridcolor": "white",
            "linecolor": "white",
            "ticks": ""
           },
           "bgcolor": "#E5ECF6",
           "radialaxis": {
            "gridcolor": "white",
            "linecolor": "white",
            "ticks": ""
           }
          },
          "scene": {
           "xaxis": {
            "backgroundcolor": "#E5ECF6",
            "gridcolor": "white",
            "gridwidth": 2,
            "linecolor": "white",
            "showbackground": true,
            "ticks": "",
            "zerolinecolor": "white"
           },
           "yaxis": {
            "backgroundcolor": "#E5ECF6",
            "gridcolor": "white",
            "gridwidth": 2,
            "linecolor": "white",
            "showbackground": true,
            "ticks": "",
            "zerolinecolor": "white"
           },
           "zaxis": {
            "backgroundcolor": "#E5ECF6",
            "gridcolor": "white",
            "gridwidth": 2,
            "linecolor": "white",
            "showbackground": true,
            "ticks": "",
            "zerolinecolor": "white"
           }
          },
          "shapedefaults": {
           "line": {
            "color": "#2a3f5f"
           }
          },
          "ternary": {
           "aaxis": {
            "gridcolor": "white",
            "linecolor": "white",
            "ticks": ""
           },
           "baxis": {
            "gridcolor": "white",
            "linecolor": "white",
            "ticks": ""
           },
           "bgcolor": "#E5ECF6",
           "caxis": {
            "gridcolor": "white",
            "linecolor": "white",
            "ticks": ""
           }
          },
          "title": {
           "x": 0.05
          },
          "xaxis": {
           "automargin": true,
           "gridcolor": "white",
           "linecolor": "white",
           "ticks": "",
           "title": {
            "standoff": 15
           },
           "zerolinecolor": "white",
           "zerolinewidth": 2
          },
          "yaxis": {
           "automargin": true,
           "gridcolor": "white",
           "linecolor": "white",
           "ticks": "",
           "title": {
            "standoff": 15
           },
           "zerolinecolor": "white",
           "zerolinewidth": 2
          }
         }
        },
        "xaxis": {
         "anchor": "y",
         "categoryarray": [
          "US",
          "Brazil",
          "India",
          "Russia",
          "South Africa",
          "Peru",
          "Mexico",
          "Chile",
          "United Kingdom",
          "Iran",
          "Pakistan",
          "Spain",
          "Saudi Arabia",
          "Italy",
          "Turkey"
         ],
         "categoryorder": "array",
         "domain": [
          0,
          1
         ],
         "title": {
          "text": "country"
         }
        },
        "yaxis": {
         "anchor": "x",
         "domain": [
          0,
          1
         ],
         "title": {
          "text": "confirmed"
         }
        }
       }
      },
      "text/html": [
       "<div>\n",
       "        \n",
       "        \n",
       "            <div id=\"886bdbb6-e1fa-45d1-8edb-68549ab7bfbd\" class=\"plotly-graph-div\" style=\"height:525px; width:100%;\"></div>\n",
       "            <script type=\"text/javascript\">\n",
       "                require([\"plotly\"], function(Plotly) {\n",
       "                    window.PLOTLYENV=window.PLOTLYENV || {};\n",
       "                    \n",
       "                if (document.getElementById(\"886bdbb6-e1fa-45d1-8edb-68549ab7bfbd\")) {\n",
       "                    Plotly.newPlot(\n",
       "                        '886bdbb6-e1fa-45d1-8edb-68549ab7bfbd',\n",
       "                        [{\"hoverlabel\": {\"namelength\": 0}, \"hovertemplate\": \"<b>%{hovertext}</b><br><br>country=%{x}<br>confirmed=%{marker.size}\", \"hovertext\": [\"US\"], \"legendgroup\": \"US\", \"marker\": {\"color\": \"#636efa\", \"size\": [3970906], \"sizemode\": \"area\", \"sizeref\": 1103.0294444444444, \"symbol\": \"circle\"}, \"mode\": \"markers\", \"name\": \"US\", \"showlegend\": true, \"type\": \"scatter\", \"x\": [\"US\"], \"xaxis\": \"x\", \"y\": [3970906], \"yaxis\": \"y\"}, {\"hoverlabel\": {\"namelength\": 0}, \"hovertemplate\": \"<b>%{hovertext}</b><br><br>country=%{x}<br>confirmed=%{marker.size}\", \"hovertext\": [\"Brazil\"], \"legendgroup\": \"Brazil\", \"marker\": {\"color\": \"#EF553B\", \"size\": [2227514], \"sizemode\": \"area\", \"sizeref\": 1103.0294444444444, \"symbol\": \"circle\"}, \"mode\": \"markers\", \"name\": \"Brazil\", \"showlegend\": true, \"type\": \"scatter\", \"x\": [\"Brazil\"], \"xaxis\": \"x\", \"y\": [2227514], \"yaxis\": \"y\"}, {\"hoverlabel\": {\"namelength\": 0}, \"hovertemplate\": \"<b>%{hovertext}</b><br><br>country=%{x}<br>confirmed=%{marker.size}\", \"hovertext\": [\"India\"], \"legendgroup\": \"India\", \"marker\": {\"color\": \"#00cc96\", \"size\": [1238798], \"sizemode\": \"area\", \"sizeref\": 1103.0294444444444, \"symbol\": \"circle\"}, \"mode\": \"markers\", \"name\": \"India\", \"showlegend\": true, \"type\": \"scatter\", \"x\": [\"India\"], \"xaxis\": \"x\", \"y\": [1238798], \"yaxis\": \"y\"}, {\"hoverlabel\": {\"namelength\": 0}, \"hovertemplate\": \"<b>%{hovertext}</b><br><br>country=%{x}<br>confirmed=%{marker.size}\", \"hovertext\": [\"Russia\"], \"legendgroup\": \"Russia\", \"marker\": {\"color\": \"#ab63fa\", \"size\": [787890], \"sizemode\": \"area\", \"sizeref\": 1103.0294444444444, \"symbol\": \"circle\"}, \"mode\": \"markers\", \"name\": \"Russia\", \"showlegend\": true, \"type\": \"scatter\", \"x\": [\"Russia\"], \"xaxis\": \"x\", \"y\": [787890], \"yaxis\": \"y\"}, {\"hoverlabel\": {\"namelength\": 0}, \"hovertemplate\": \"<b>%{hovertext}</b><br><br>country=%{x}<br>confirmed=%{marker.size}\", \"hovertext\": [\"South Africa\"], \"legendgroup\": \"South Africa\", \"marker\": {\"color\": \"#FFA15A\", \"size\": [394948], \"sizemode\": \"area\", \"sizeref\": 1103.0294444444444, \"symbol\": \"circle\"}, \"mode\": \"markers\", \"name\": \"South Africa\", \"showlegend\": true, \"type\": \"scatter\", \"x\": [\"South Africa\"], \"xaxis\": \"x\", \"y\": [394948], \"yaxis\": \"y\"}, {\"hoverlabel\": {\"namelength\": 0}, \"hovertemplate\": \"<b>%{hovertext}</b><br><br>country=%{x}<br>confirmed=%{marker.size}\", \"hovertext\": [\"Peru\"], \"legendgroup\": \"Peru\", \"marker\": {\"color\": \"#19d3f3\", \"size\": [366550], \"sizemode\": \"area\", \"sizeref\": 1103.0294444444444, \"symbol\": \"circle\"}, \"mode\": \"markers\", \"name\": \"Peru\", \"showlegend\": true, \"type\": \"scatter\", \"x\": [\"Peru\"], \"xaxis\": \"x\", \"y\": [366550], \"yaxis\": \"y\"}, {\"hoverlabel\": {\"namelength\": 0}, \"hovertemplate\": \"<b>%{hovertext}</b><br><br>country=%{x}<br>confirmed=%{marker.size}\", \"hovertext\": [\"Mexico\"], \"legendgroup\": \"Mexico\", \"marker\": {\"color\": \"#FF6692\", \"size\": [362274], \"sizemode\": \"area\", \"sizeref\": 1103.0294444444444, \"symbol\": \"circle\"}, \"mode\": \"markers\", \"name\": \"Mexico\", \"showlegend\": true, \"type\": \"scatter\", \"x\": [\"Mexico\"], \"xaxis\": \"x\", \"y\": [362274], \"yaxis\": \"y\"}, {\"hoverlabel\": {\"namelength\": 0}, \"hovertemplate\": \"<b>%{hovertext}</b><br><br>country=%{x}<br>confirmed=%{marker.size}\", \"hovertext\": [\"Chile\"], \"legendgroup\": \"Chile\", \"marker\": {\"color\": \"#B6E880\", \"size\": [334683], \"sizemode\": \"area\", \"sizeref\": 1103.0294444444444, \"symbol\": \"circle\"}, \"mode\": \"markers\", \"name\": \"Chile\", \"showlegend\": true, \"type\": \"scatter\", \"x\": [\"Chile\"], \"xaxis\": \"x\", \"y\": [334683], \"yaxis\": \"y\"}, {\"hoverlabel\": {\"namelength\": 0}, \"hovertemplate\": \"<b>%{hovertext}</b><br><br>country=%{x}<br>confirmed=%{marker.size}\", \"hovertext\": [\"United Kingdom\"], \"legendgroup\": \"United Kingdom\", \"marker\": {\"color\": \"#FF97FF\", \"size\": [297952], \"sizemode\": \"area\", \"sizeref\": 1103.0294444444444, \"symbol\": \"circle\"}, \"mode\": \"markers\", \"name\": \"United Kingdom\", \"showlegend\": true, \"type\": \"scatter\", \"x\": [\"United Kingdom\"], \"xaxis\": \"x\", \"y\": [297952], \"yaxis\": \"y\"}, {\"hoverlabel\": {\"namelength\": 0}, \"hovertemplate\": \"<b>%{hovertext}</b><br><br>country=%{x}<br>confirmed=%{marker.size}\", \"hovertext\": [\"Iran\"], \"legendgroup\": \"Iran\", \"marker\": {\"color\": \"#FECB52\", \"size\": [281413], \"sizemode\": \"area\", \"sizeref\": 1103.0294444444444, \"symbol\": \"circle\"}, \"mode\": \"markers\", \"name\": \"Iran\", \"showlegend\": true, \"type\": \"scatter\", \"x\": [\"Iran\"], \"xaxis\": \"x\", \"y\": [281413], \"yaxis\": \"y\"}, {\"hoverlabel\": {\"namelength\": 0}, \"hovertemplate\": \"<b>%{hovertext}</b><br><br>country=%{x}<br>confirmed=%{marker.size}\", \"hovertext\": [\"Pakistan\"], \"legendgroup\": \"Pakistan\", \"marker\": {\"color\": \"#636efa\", \"size\": [269191], \"sizemode\": \"area\", \"sizeref\": 1103.0294444444444, \"symbol\": \"circle\"}, \"mode\": \"markers\", \"name\": \"Pakistan\", \"showlegend\": true, \"type\": \"scatter\", \"x\": [\"Pakistan\"], \"xaxis\": \"x\", \"y\": [269191], \"yaxis\": \"y\"}, {\"hoverlabel\": {\"namelength\": 0}, \"hovertemplate\": \"<b>%{hovertext}</b><br><br>country=%{x}<br>confirmed=%{marker.size}\", \"hovertext\": [\"Spain\"], \"legendgroup\": \"Spain\", \"marker\": {\"color\": \"#EF553B\", \"size\": [267551], \"sizemode\": \"area\", \"sizeref\": 1103.0294444444444, \"symbol\": \"circle\"}, \"mode\": \"markers\", \"name\": \"Spain\", \"showlegend\": true, \"type\": \"scatter\", \"x\": [\"Spain\"], \"xaxis\": \"x\", \"y\": [267551], \"yaxis\": \"y\"}, {\"hoverlabel\": {\"namelength\": 0}, \"hovertemplate\": \"<b>%{hovertext}</b><br><br>country=%{x}<br>confirmed=%{marker.size}\", \"hovertext\": [\"Saudi Arabia\"], \"legendgroup\": \"Saudi Arabia\", \"marker\": {\"color\": \"#00cc96\", \"size\": [258156], \"sizemode\": \"area\", \"sizeref\": 1103.0294444444444, \"symbol\": \"circle\"}, \"mode\": \"markers\", \"name\": \"Saudi Arabia\", \"showlegend\": true, \"type\": \"scatter\", \"x\": [\"Saudi Arabia\"], \"xaxis\": \"x\", \"y\": [258156], \"yaxis\": \"y\"}, {\"hoverlabel\": {\"namelength\": 0}, \"hovertemplate\": \"<b>%{hovertext}</b><br><br>country=%{x}<br>confirmed=%{marker.size}\", \"hovertext\": [\"Italy\"], \"legendgroup\": \"Italy\", \"marker\": {\"color\": \"#ab63fa\", \"size\": [245032], \"sizemode\": \"area\", \"sizeref\": 1103.0294444444444, \"symbol\": \"circle\"}, \"mode\": \"markers\", \"name\": \"Italy\", \"showlegend\": true, \"type\": \"scatter\", \"x\": [\"Italy\"], \"xaxis\": \"x\", \"y\": [245032], \"yaxis\": \"y\"}, {\"hoverlabel\": {\"namelength\": 0}, \"hovertemplate\": \"<b>%{hovertext}</b><br><br>country=%{x}<br>confirmed=%{marker.size}\", \"hovertext\": [\"Turkey\"], \"legendgroup\": \"Turkey\", \"marker\": {\"color\": \"#FFA15A\", \"size\": [222402], \"sizemode\": \"area\", \"sizeref\": 1103.0294444444444, \"symbol\": \"circle\"}, \"mode\": \"markers\", \"name\": \"Turkey\", \"showlegend\": true, \"type\": \"scatter\", \"x\": [\"Turkey\"], \"xaxis\": \"x\", \"y\": [222402], \"yaxis\": \"y\"}],\n",
       "                        {\"legend\": {\"itemsizing\": \"constant\", \"title\": {\"text\": \"country\"}, \"tracegroupgap\": 0}, \"margin\": {\"t\": 60}, \"template\": {\"data\": {\"bar\": [{\"error_x\": {\"color\": \"#2a3f5f\"}, \"error_y\": {\"color\": \"#2a3f5f\"}, \"marker\": {\"line\": {\"color\": \"#E5ECF6\", \"width\": 0.5}}, \"type\": \"bar\"}], \"barpolar\": [{\"marker\": {\"line\": {\"color\": \"#E5ECF6\", \"width\": 0.5}}, \"type\": \"barpolar\"}], \"carpet\": [{\"aaxis\": {\"endlinecolor\": \"#2a3f5f\", \"gridcolor\": \"white\", \"linecolor\": \"white\", \"minorgridcolor\": \"white\", \"startlinecolor\": \"#2a3f5f\"}, \"baxis\": {\"endlinecolor\": \"#2a3f5f\", \"gridcolor\": \"white\", \"linecolor\": \"white\", \"minorgridcolor\": \"white\", \"startlinecolor\": \"#2a3f5f\"}, \"type\": \"carpet\"}], \"choropleth\": [{\"colorbar\": {\"outlinewidth\": 0, \"ticks\": \"\"}, \"type\": \"choropleth\"}], \"contour\": [{\"colorbar\": {\"outlinewidth\": 0, \"ticks\": \"\"}, \"colorscale\": [[0.0, \"#0d0887\"], [0.1111111111111111, \"#46039f\"], [0.2222222222222222, \"#7201a8\"], [0.3333333333333333, \"#9c179e\"], [0.4444444444444444, \"#bd3786\"], [0.5555555555555556, \"#d8576b\"], [0.6666666666666666, \"#ed7953\"], [0.7777777777777778, \"#fb9f3a\"], [0.8888888888888888, \"#fdca26\"], [1.0, \"#f0f921\"]], \"type\": \"contour\"}], \"contourcarpet\": [{\"colorbar\": {\"outlinewidth\": 0, \"ticks\": \"\"}, \"type\": \"contourcarpet\"}], \"heatmap\": [{\"colorbar\": {\"outlinewidth\": 0, \"ticks\": \"\"}, \"colorscale\": [[0.0, \"#0d0887\"], [0.1111111111111111, \"#46039f\"], [0.2222222222222222, \"#7201a8\"], [0.3333333333333333, \"#9c179e\"], [0.4444444444444444, \"#bd3786\"], [0.5555555555555556, \"#d8576b\"], [0.6666666666666666, \"#ed7953\"], [0.7777777777777778, \"#fb9f3a\"], [0.8888888888888888, \"#fdca26\"], [1.0, \"#f0f921\"]], \"type\": \"heatmap\"}], \"heatmapgl\": [{\"colorbar\": {\"outlinewidth\": 0, \"ticks\": \"\"}, \"colorscale\": [[0.0, \"#0d0887\"], [0.1111111111111111, \"#46039f\"], [0.2222222222222222, \"#7201a8\"], [0.3333333333333333, \"#9c179e\"], [0.4444444444444444, \"#bd3786\"], [0.5555555555555556, \"#d8576b\"], [0.6666666666666666, \"#ed7953\"], [0.7777777777777778, \"#fb9f3a\"], [0.8888888888888888, \"#fdca26\"], [1.0, \"#f0f921\"]], \"type\": \"heatmapgl\"}], \"histogram\": [{\"marker\": {\"colorbar\": {\"outlinewidth\": 0, \"ticks\": \"\"}}, \"type\": \"histogram\"}], \"histogram2d\": [{\"colorbar\": {\"outlinewidth\": 0, \"ticks\": \"\"}, \"colorscale\": [[0.0, \"#0d0887\"], [0.1111111111111111, \"#46039f\"], [0.2222222222222222, \"#7201a8\"], [0.3333333333333333, \"#9c179e\"], [0.4444444444444444, \"#bd3786\"], [0.5555555555555556, \"#d8576b\"], [0.6666666666666666, \"#ed7953\"], [0.7777777777777778, \"#fb9f3a\"], [0.8888888888888888, \"#fdca26\"], [1.0, \"#f0f921\"]], \"type\": \"histogram2d\"}], \"histogram2dcontour\": [{\"colorbar\": {\"outlinewidth\": 0, \"ticks\": \"\"}, \"colorscale\": [[0.0, \"#0d0887\"], [0.1111111111111111, \"#46039f\"], [0.2222222222222222, \"#7201a8\"], [0.3333333333333333, \"#9c179e\"], [0.4444444444444444, \"#bd3786\"], [0.5555555555555556, \"#d8576b\"], [0.6666666666666666, \"#ed7953\"], [0.7777777777777778, \"#fb9f3a\"], [0.8888888888888888, \"#fdca26\"], [1.0, \"#f0f921\"]], \"type\": \"histogram2dcontour\"}], \"mesh3d\": [{\"colorbar\": {\"outlinewidth\": 0, \"ticks\": \"\"}, \"type\": \"mesh3d\"}], \"parcoords\": [{\"line\": {\"colorbar\": {\"outlinewidth\": 0, \"ticks\": \"\"}}, \"type\": \"parcoords\"}], \"pie\": [{\"automargin\": true, \"type\": \"pie\"}], \"scatter\": [{\"marker\": {\"colorbar\": {\"outlinewidth\": 0, \"ticks\": \"\"}}, \"type\": \"scatter\"}], \"scatter3d\": [{\"line\": {\"colorbar\": {\"outlinewidth\": 0, \"ticks\": \"\"}}, \"marker\": {\"colorbar\": {\"outlinewidth\": 0, \"ticks\": \"\"}}, \"type\": \"scatter3d\"}], \"scattercarpet\": [{\"marker\": {\"colorbar\": {\"outlinewidth\": 0, \"ticks\": \"\"}}, \"type\": \"scattercarpet\"}], \"scattergeo\": [{\"marker\": {\"colorbar\": {\"outlinewidth\": 0, \"ticks\": \"\"}}, \"type\": \"scattergeo\"}], \"scattergl\": [{\"marker\": {\"colorbar\": {\"outlinewidth\": 0, \"ticks\": \"\"}}, \"type\": \"scattergl\"}], \"scattermapbox\": [{\"marker\": {\"colorbar\": {\"outlinewidth\": 0, \"ticks\": \"\"}}, \"type\": \"scattermapbox\"}], \"scatterpolar\": [{\"marker\": {\"colorbar\": {\"outlinewidth\": 0, \"ticks\": \"\"}}, \"type\": \"scatterpolar\"}], \"scatterpolargl\": [{\"marker\": {\"colorbar\": {\"outlinewidth\": 0, \"ticks\": \"\"}}, \"type\": \"scatterpolargl\"}], \"scatterternary\": [{\"marker\": {\"colorbar\": {\"outlinewidth\": 0, \"ticks\": \"\"}}, \"type\": \"scatterternary\"}], \"surface\": [{\"colorbar\": {\"outlinewidth\": 0, \"ticks\": \"\"}, \"colorscale\": [[0.0, \"#0d0887\"], [0.1111111111111111, \"#46039f\"], [0.2222222222222222, \"#7201a8\"], [0.3333333333333333, \"#9c179e\"], [0.4444444444444444, \"#bd3786\"], [0.5555555555555556, \"#d8576b\"], [0.6666666666666666, \"#ed7953\"], [0.7777777777777778, \"#fb9f3a\"], [0.8888888888888888, \"#fdca26\"], [1.0, \"#f0f921\"]], \"type\": \"surface\"}], \"table\": [{\"cells\": {\"fill\": {\"color\": \"#EBF0F8\"}, \"line\": {\"color\": \"white\"}}, \"header\": {\"fill\": {\"color\": \"#C8D4E3\"}, \"line\": {\"color\": \"white\"}}, \"type\": \"table\"}]}, \"layout\": {\"annotationdefaults\": {\"arrowcolor\": \"#2a3f5f\", \"arrowhead\": 0, \"arrowwidth\": 1}, \"coloraxis\": {\"colorbar\": {\"outlinewidth\": 0, \"ticks\": \"\"}}, \"colorscale\": {\"diverging\": [[0, \"#8e0152\"], [0.1, \"#c51b7d\"], [0.2, \"#de77ae\"], [0.3, \"#f1b6da\"], [0.4, \"#fde0ef\"], [0.5, \"#f7f7f7\"], [0.6, \"#e6f5d0\"], [0.7, \"#b8e186\"], [0.8, \"#7fbc41\"], [0.9, \"#4d9221\"], [1, \"#276419\"]], \"sequential\": [[0.0, \"#0d0887\"], [0.1111111111111111, \"#46039f\"], [0.2222222222222222, \"#7201a8\"], [0.3333333333333333, \"#9c179e\"], [0.4444444444444444, \"#bd3786\"], [0.5555555555555556, \"#d8576b\"], [0.6666666666666666, \"#ed7953\"], [0.7777777777777778, \"#fb9f3a\"], [0.8888888888888888, \"#fdca26\"], [1.0, \"#f0f921\"]], \"sequentialminus\": [[0.0, \"#0d0887\"], [0.1111111111111111, \"#46039f\"], [0.2222222222222222, \"#7201a8\"], [0.3333333333333333, \"#9c179e\"], [0.4444444444444444, \"#bd3786\"], [0.5555555555555556, \"#d8576b\"], [0.6666666666666666, \"#ed7953\"], [0.7777777777777778, \"#fb9f3a\"], [0.8888888888888888, \"#fdca26\"], [1.0, \"#f0f921\"]]}, \"colorway\": [\"#636efa\", \"#EF553B\", \"#00cc96\", \"#ab63fa\", \"#FFA15A\", \"#19d3f3\", \"#FF6692\", \"#B6E880\", \"#FF97FF\", \"#FECB52\"], \"font\": {\"color\": \"#2a3f5f\"}, \"geo\": {\"bgcolor\": \"white\", \"lakecolor\": \"white\", \"landcolor\": \"#E5ECF6\", \"showlakes\": true, \"showland\": true, \"subunitcolor\": \"white\"}, \"hoverlabel\": {\"align\": \"left\"}, \"hovermode\": \"closest\", \"mapbox\": {\"style\": \"light\"}, \"paper_bgcolor\": \"white\", \"plot_bgcolor\": \"#E5ECF6\", \"polar\": {\"angularaxis\": {\"gridcolor\": \"white\", \"linecolor\": \"white\", \"ticks\": \"\"}, \"bgcolor\": \"#E5ECF6\", \"radialaxis\": {\"gridcolor\": \"white\", \"linecolor\": \"white\", \"ticks\": \"\"}}, \"scene\": {\"xaxis\": {\"backgroundcolor\": \"#E5ECF6\", \"gridcolor\": \"white\", \"gridwidth\": 2, \"linecolor\": \"white\", \"showbackground\": true, \"ticks\": \"\", \"zerolinecolor\": \"white\"}, \"yaxis\": {\"backgroundcolor\": \"#E5ECF6\", \"gridcolor\": \"white\", \"gridwidth\": 2, \"linecolor\": \"white\", \"showbackground\": true, \"ticks\": \"\", \"zerolinecolor\": \"white\"}, \"zaxis\": {\"backgroundcolor\": \"#E5ECF6\", \"gridcolor\": \"white\", \"gridwidth\": 2, \"linecolor\": \"white\", \"showbackground\": true, \"ticks\": \"\", \"zerolinecolor\": \"white\"}}, \"shapedefaults\": {\"line\": {\"color\": \"#2a3f5f\"}}, \"ternary\": {\"aaxis\": {\"gridcolor\": \"white\", \"linecolor\": \"white\", \"ticks\": \"\"}, \"baxis\": {\"gridcolor\": \"white\", \"linecolor\": \"white\", \"ticks\": \"\"}, \"bgcolor\": \"#E5ECF6\", \"caxis\": {\"gridcolor\": \"white\", \"linecolor\": \"white\", \"ticks\": \"\"}}, \"title\": {\"x\": 0.05}, \"xaxis\": {\"automargin\": true, \"gridcolor\": \"white\", \"linecolor\": \"white\", \"ticks\": \"\", \"title\": {\"standoff\": 15}, \"zerolinecolor\": \"white\", \"zerolinewidth\": 2}, \"yaxis\": {\"automargin\": true, \"gridcolor\": \"white\", \"linecolor\": \"white\", \"ticks\": \"\", \"title\": {\"standoff\": 15}, \"zerolinecolor\": \"white\", \"zerolinewidth\": 2}}}, \"xaxis\": {\"anchor\": \"y\", \"categoryarray\": [\"US\", \"Brazil\", \"India\", \"Russia\", \"South Africa\", \"Peru\", \"Mexico\", \"Chile\", \"United Kingdom\", \"Iran\", \"Pakistan\", \"Spain\", \"Saudi Arabia\", \"Italy\", \"Turkey\"], \"categoryorder\": \"array\", \"domain\": [0.0, 1.0], \"title\": {\"text\": \"country\"}}, \"yaxis\": {\"anchor\": \"x\", \"domain\": [0.0, 1.0], \"title\": {\"text\": \"confirmed\"}}},\n",
       "                        {\"responsive\": true}\n",
       "                    ).then(function(){\n",
       "                            \n",
       "var gd = document.getElementById('886bdbb6-e1fa-45d1-8edb-68549ab7bfbd');\n",
       "var x = new MutationObserver(function (mutations, observer) {{\n",
       "        var display = window.getComputedStyle(gd).display;\n",
       "        if (!display || display === 'none') {{\n",
       "            console.log([gd, 'removed!']);\n",
       "            Plotly.purge(gd);\n",
       "            observer.disconnect();\n",
       "        }}\n",
       "}});\n",
       "\n",
       "// Listen for the removal of the full notebook cells\n",
       "var notebookContainer = gd.closest('#notebook-container');\n",
       "if (notebookContainer) {{\n",
       "    x.observe(notebookContainer, {childList: true});\n",
       "}}\n",
       "\n",
       "// Listen for the clearing of the current output cell\n",
       "var outputEl = gd.closest('.output');\n",
       "if (outputEl) {{\n",
       "    x.observe(outputEl, {childList: true});\n",
       "}}\n",
       "\n",
       "                        })\n",
       "                };\n",
       "                });\n",
       "            </script>\n",
       "        </div>"
      ]
     },
     "metadata": {},
     "output_type": "display_data"
    }
   ],
   "source": [
    "fig = px.scatter(df_general_sorted.head(15), x='country', y='confirmed', size='confirmed', color='country', hover_name='country', size_max=60)\n",
    "fig.update_layout()\n",
    "fig.show()"
   ]
  },
  {
   "cell_type": "markdown",
   "metadata": {},
   "source": [
    "<h1><center> World distribution of the COVID 19: </center></h1>\n",
    "\n",
    "<h2><center> Know how COVID-19 is spread </center></h2>\n",
    "\n",
    "- You can become infected by coming into close contact (about 6 feet or twoarm lengths) with a person who has COVID-19. COVID-19 is primarily spreadfrom person to person.\n",
    "\n",
    "- You can become infected from respiratory droplets when an infected person coughs, sneezes, or talks.\n",
    "\n",
    "- You may also be able to get it by touching a surface or object that has the virus on it, and then by touching your mouth, nose, or eyes."
   ]
  },
  {
   "cell_type": "code",
   "execution_count": 18,
   "metadata": {},
   "outputs": [],
   "source": [
    "import folium"
   ]
  },
  {
   "cell_type": "code",
   "execution_count": 19,
   "metadata": {},
   "outputs": [
    {
     "data": {
      "text/html": [
       "<div style=\"width:100%;\"><div style=\"position:relative;width:100%;height:0;padding-bottom:60%;\"><span style=\"color:#565656\">Make this Notebook Trusted to load map: File -> Trust Notebook</span><iframe src=\"about:blank\" style=\"position:absolute;width:100%;height:100%;left:0;top:0;border:none !important;\" data-html=PCFET0NUWVBFIGh0bWw+CjxoZWFkPiAgICAKICAgIDxtZXRhIGh0dHAtZXF1aXY9ImNvbnRlbnQtdHlwZSIgY29udGVudD0idGV4dC9odG1sOyBjaGFyc2V0PVVURi04IiAvPgogICAgCiAgICAgICAgPHNjcmlwdD4KICAgICAgICAgICAgTF9OT19UT1VDSCA9IGZhbHNlOwogICAgICAgICAgICBMX0RJU0FCTEVfM0QgPSBmYWxzZTsKICAgICAgICA8L3NjcmlwdD4KICAgIAogICAgPHNjcmlwdCBzcmM9Imh0dHBzOi8vY2RuLmpzZGVsaXZyLm5ldC9ucG0vbGVhZmxldEAxLjYuMC9kaXN0L2xlYWZsZXQuanMiPjwvc2NyaXB0PgogICAgPHNjcmlwdCBzcmM9Imh0dHBzOi8vY29kZS5qcXVlcnkuY29tL2pxdWVyeS0xLjEyLjQubWluLmpzIj48L3NjcmlwdD4KICAgIDxzY3JpcHQgc3JjPSJodHRwczovL21heGNkbi5ib290c3RyYXBjZG4uY29tL2Jvb3RzdHJhcC8zLjIuMC9qcy9ib290c3RyYXAubWluLmpzIj48L3NjcmlwdD4KICAgIDxzY3JpcHQgc3JjPSJodHRwczovL2NkbmpzLmNsb3VkZmxhcmUuY29tL2FqYXgvbGlicy9MZWFmbGV0LmF3ZXNvbWUtbWFya2Vycy8yLjAuMi9sZWFmbGV0LmF3ZXNvbWUtbWFya2Vycy5qcyI+PC9zY3JpcHQ+CiAgICA8bGluayByZWw9InN0eWxlc2hlZXQiIGhyZWY9Imh0dHBzOi8vY2RuLmpzZGVsaXZyLm5ldC9ucG0vbGVhZmxldEAxLjYuMC9kaXN0L2xlYWZsZXQuY3NzIi8+CiAgICA8bGluayByZWw9InN0eWxlc2hlZXQiIGhyZWY9Imh0dHBzOi8vbWF4Y2RuLmJvb3RzdHJhcGNkbi5jb20vYm9vdHN0cmFwLzMuMi4wL2Nzcy9ib290c3RyYXAubWluLmNzcyIvPgogICAgPGxpbmsgcmVsPSJzdHlsZXNoZWV0IiBocmVmPSJodHRwczovL21heGNkbi5ib290c3RyYXBjZG4uY29tL2Jvb3RzdHJhcC8zLjIuMC9jc3MvYm9vdHN0cmFwLXRoZW1lLm1pbi5jc3MiLz4KICAgIDxsaW5rIHJlbD0ic3R5bGVzaGVldCIgaHJlZj0iaHR0cHM6Ly9tYXhjZG4uYm9vdHN0cmFwY2RuLmNvbS9mb250LWF3ZXNvbWUvNC42LjMvY3NzL2ZvbnQtYXdlc29tZS5taW4uY3NzIi8+CiAgICA8bGluayByZWw9InN0eWxlc2hlZXQiIGhyZWY9Imh0dHBzOi8vY2RuanMuY2xvdWRmbGFyZS5jb20vYWpheC9saWJzL0xlYWZsZXQuYXdlc29tZS1tYXJrZXJzLzIuMC4yL2xlYWZsZXQuYXdlc29tZS1tYXJrZXJzLmNzcyIvPgogICAgPGxpbmsgcmVsPSJzdHlsZXNoZWV0IiBocmVmPSJodHRwczovL3Jhd2Nkbi5naXRoYWNrLmNvbS9weXRob24tdmlzdWFsaXphdGlvbi9mb2xpdW0vbWFzdGVyL2ZvbGl1bS90ZW1wbGF0ZXMvbGVhZmxldC5hd2Vzb21lLnJvdGF0ZS5jc3MiLz4KICAgIDxzdHlsZT5odG1sLCBib2R5IHt3aWR0aDogMTAwJTtoZWlnaHQ6IDEwMCU7bWFyZ2luOiAwO3BhZGRpbmc6IDA7fTwvc3R5bGU+CiAgICA8c3R5bGU+I21hcCB7cG9zaXRpb246YWJzb2x1dGU7dG9wOjA7Ym90dG9tOjA7cmlnaHQ6MDtsZWZ0OjA7fTwvc3R5bGU+CiAgICAKICAgICAgICAgICAgPG1ldGEgbmFtZT0idmlld3BvcnQiIGNvbnRlbnQ9IndpZHRoPWRldmljZS13aWR0aCwKICAgICAgICAgICAgICAgIGluaXRpYWwtc2NhbGU9MS4wLCBtYXhpbXVtLXNjYWxlPTEuMCwgdXNlci1zY2FsYWJsZT1ubyIgLz4KICAgICAgICAgICAgPHN0eWxlPgogICAgICAgICAgICAgICAgI21hcF81NzVmYWYxMjE2Y2Y0YTRhOGVlMmEzMjg5ODMwYTlmNiB7CiAgICAgICAgICAgICAgICAgICAgcG9zaXRpb246IHJlbGF0aXZlOwogICAgICAgICAgICAgICAgICAgIHdpZHRoOiAxMDAuMCU7CiAgICAgICAgICAgICAgICAgICAgaGVpZ2h0OiAxMDAuMCU7CiAgICAgICAgICAgICAgICAgICAgbGVmdDogMC4wJTsKICAgICAgICAgICAgICAgICAgICB0b3A6IDAuMCU7CiAgICAgICAgICAgICAgICB9CiAgICAgICAgICAgIDwvc3R5bGU+CiAgICAgICAgCjwvaGVhZD4KPGJvZHk+ICAgIAogICAgCiAgICAgICAgICAgIDxkaXYgY2xhc3M9ImZvbGl1bS1tYXAiIGlkPSJtYXBfNTc1ZmFmMTIxNmNmNGE0YThlZTJhMzI4OTgzMGE5ZjYiID48L2Rpdj4KICAgICAgICAKPC9ib2R5Pgo8c2NyaXB0PiAgICAKICAgIAogICAgICAgICAgICB2YXIgbWFwXzU3NWZhZjEyMTZjZjRhNGE4ZWUyYTMyODk4MzBhOWY2ID0gTC5tYXAoCiAgICAgICAgICAgICAgICAibWFwXzU3NWZhZjEyMTZjZjRhNGE4ZWUyYTMyODk4MzBhOWY2IiwKICAgICAgICAgICAgICAgIHsKICAgICAgICAgICAgICAgICAgICBjZW50ZXI6IFsxMS4wLCAwLjBdLAogICAgICAgICAgICAgICAgICAgIGNyczogTC5DUlMuRVBTRzM4NTcsCiAgICAgICAgICAgICAgICAgICAgem9vbTogMiwKICAgICAgICAgICAgICAgICAgICB6b29tQ29udHJvbDogdHJ1ZSwKICAgICAgICAgICAgICAgICAgICBwcmVmZXJDYW52YXM6IGZhbHNlLAogICAgICAgICAgICAgICAgfQogICAgICAgICAgICApOwoKICAgICAgICAgICAgCgogICAgICAgIAogICAgCiAgICAgICAgICAgIHZhciB0aWxlX2xheWVyXzM5OTk1ZTA1MzEyZTQ5NWQ4OTI2ODBiMWZmODUxNDA2ID0gTC50aWxlTGF5ZXIoCiAgICAgICAgICAgICAgICAiaHR0cHM6Ly9jYXJ0b2RiLWJhc2VtYXBzLXtzfS5nbG9iYWwuc3NsLmZhc3RseS5uZXQvbGlnaHRfYWxsL3t6fS97eH0ve3l9LnBuZyIsCiAgICAgICAgICAgICAgICB7ImF0dHJpYnV0aW9uIjogIlx1MDAyNmNvcHk7IFx1MDAzY2EgaHJlZj1cImh0dHA6Ly93d3cub3BlbnN0cmVldG1hcC5vcmcvY29weXJpZ2h0XCJcdTAwM2VPcGVuU3RyZWV0TWFwXHUwMDNjL2FcdTAwM2UgY29udHJpYnV0b3JzIFx1MDAyNmNvcHk7IFx1MDAzY2EgaHJlZj1cImh0dHA6Ly9jYXJ0b2RiLmNvbS9hdHRyaWJ1dGlvbnNcIlx1MDAzZUNhcnRvREJcdTAwM2MvYVx1MDAzZSwgQ2FydG9EQiBcdTAwM2NhIGhyZWYgPVwiaHR0cDovL2NhcnRvZGIuY29tL2F0dHJpYnV0aW9uc1wiXHUwMDNlYXR0cmlidXRpb25zXHUwMDNjL2FcdTAwM2UiLCAiZGV0ZWN0UmV0aW5hIjogZmFsc2UsICJtYXhOYXRpdmVab29tIjogNiwgIm1heFpvb20iOiA2LCAibWluWm9vbSI6IDIsICJub1dyYXAiOiBmYWxzZSwgIm9wYWNpdHkiOiAxLCAic3ViZG9tYWlucyI6ICJhYmMiLCAidG1zIjogZmFsc2V9CiAgICAgICAgICAgICkuYWRkVG8obWFwXzU3NWZhZjEyMTZjZjRhNGE4ZWUyYTMyODk4MzBhOWY2KTsKICAgICAgICAKICAgIAogICAgICAgICAgICB2YXIgY2lyY2xlX2M2Y2VkMTUyNjM0ODQzMDg5ZmYwODRjM2Q2ZGVkZWUzID0gTC5jaXJjbGUoCiAgICAgICAgICAgICAgICBbMzMuOTM5MTEsIDY3LjcwOTk1M10sCiAgICAgICAgICAgICAgICB7ImJ1YmJsaW5nTW91c2VFdmVudHMiOiB0cnVlLCAiY29sb3IiOiAiY3JpbXNvbiIsICJkYXNoQXJyYXkiOiBudWxsLCAiZGFzaE9mZnNldCI6IG51bGwsICJmaWxsIjogdHJ1ZSwgImZpbGxDb2xvciI6ICJjcmltc29uIiwgImZpbGxPcGFjaXR5IjogMC4yLCAiZmlsbFJ1bGUiOiAiZXZlbm9kZCIsICJsaW5lQ2FwIjogInJvdW5kIiwgImxpbmVKb2luIjogInJvdW5kIiwgIm9wYWNpdHkiOiAxLjAsICJyYWRpdXMiOiA1MDk5OTkuOTk5OTk5OTk5OTQsICJzdHJva2UiOiB0cnVlLCAid2VpZ2h0IjogM30KICAgICAgICAgICAgKS5hZGRUbyhtYXBfNTc1ZmFmMTIxNmNmNGE0YThlZTJhMzI4OTgzMGE5ZjYpOwogICAgICAgIAogICAgCiAgICAgICAgICAgIGNpcmNsZV9jNmNlZDE1MjYzNDg0MzA4OWZmMDg0YzNkNmRlZGVlMy5iaW5kVG9vbHRpcCgKICAgICAgICAgICAgICAgIGA8ZGl2PgogICAgICAgICAgICAgICAgICAgICA8ZGl2IHN0eWxlPSdtYXJnaW46MDsgYmFja2dyb3VuZC1jb2xvcjogZmlyZWJyaWNrOyBjb2xvcjogd2hpdGU7Jz48aDQgc3R5bGU9J3RleHQtYWxpZ246Y2VudGVyOyBmb250LXdlaWdodDogYm9sZCc+QWZnaGFuaXN0YW48L2g0PjxociBzdHlsZT0nbWFyZ2luOjEwcHg7IGNvbG9yOiB3aGl0ZTsnPjx1bCBzdHlsZT0nY29sb3I6IHdoaXRlOztsaXN0LXN0eWxlLXR5cGU6IGNpcmNsZTsgYWxpZ24taXRlbTogbGVmdDsgcGFkZGluZy1sZWZ0OiAyMHB4OyBwYWRkaW5nLXJpZ2h0OjIwcHgnPjxsaT5Ub3RhbCBjYXNlczogMzU5Mjg8L2xpPjxsaT5EZWF0aHM6IDEyMTE8L2xpPjxsaT5EZWF0aCByYXRlIDogMy4zNyUgPC9saT48L3VsPjwvZGl2PgogICAgICAgICAgICAgICAgIDwvZGl2PmAsCiAgICAgICAgICAgICAgICB7InN0aWNreSI6IHRydWV9CiAgICAgICAgICAgICk7CiAgICAgICAgCiAgICAKICAgICAgICAgICAgdmFyIGNpcmNsZV84ZmE5M2M2NTM4MzE0MTdlYjhmZWRkMTVjNzE0ZDNhYyA9IEwuY2lyY2xlKAogICAgICAgICAgICAgICAgWzQxLjE1MzMsIDIwLjE2ODNdLAogICAgICAgICAgICAgICAgeyJidWJibGluZ01vdXNlRXZlbnRzIjogdHJ1ZSwgImNvbG9yIjogImNyaW1zb24iLCAiZGFzaEFycmF5IjogbnVsbCwgImRhc2hPZmZzZXQiOiBudWxsLCAiZmlsbCI6IHRydWUsICJmaWxsQ29sb3IiOiAiY3JpbXNvbiIsICJmaWxsT3BhY2l0eSI6IDAuMiwgImZpbGxSdWxlIjogImV2ZW5vZGQiLCAibGluZUNhcCI6ICJyb3VuZCIsICJsaW5lSm9pbiI6ICJyb3VuZCIsICJvcGFjaXR5IjogMS4wLCAicmFkaXVzIjogNDA5OTk5Ljk5OTk5OTk5OTk0LCAic3Ryb2tlIjogdHJ1ZSwgIndlaWdodCI6IDN9CiAgICAgICAgICAgICkuYWRkVG8obWFwXzU3NWZhZjEyMTZjZjRhNGE4ZWUyYTMyODk4MzBhOWY2KTsKICAgICAgICAKICAgIAogICAgICAgICAgICBjaXJjbGVfOGZhOTNjNjUzODMxNDE3ZWI4ZmVkZDE1YzcxNGQzYWMuYmluZFRvb2x0aXAoCiAgICAgICAgICAgICAgICBgPGRpdj4KICAgICAgICAgICAgICAgICAgICAgPGRpdiBzdHlsZT0nbWFyZ2luOjA7IGJhY2tncm91bmQtY29sb3I6IGZpcmVicmljazsgY29sb3I6IHdoaXRlOyc+PGg0IHN0eWxlPSd0ZXh0LWFsaWduOmNlbnRlcjsgZm9udC13ZWlnaHQ6IGJvbGQnPkFsYmFuaWE8L2g0PjxociBzdHlsZT0nbWFyZ2luOjEwcHg7IGNvbG9yOiB3aGl0ZTsnPjx1bCBzdHlsZT0nY29sb3I6IHdoaXRlOztsaXN0LXN0eWxlLXR5cGU6IGNpcmNsZTsgYWxpZ24taXRlbTogbGVmdDsgcGFkZGluZy1sZWZ0OiAyMHB4OyBwYWRkaW5nLXJpZ2h0OjIwcHgnPjxsaT5Ub3RhbCBjYXNlczogNDQ2NjwvbGk+PGxpPkRlYXRoczogMTIzPC9saT48bGk+RGVhdGggcmF0ZSA6IDIuNzUlIDwvbGk+PC91bD48L2Rpdj4KICAgICAgICAgICAgICAgICA8L2Rpdj5gLAogICAgICAgICAgICAgICAgeyJzdGlja3kiOiB0cnVlfQogICAgICAgICAgICApOwogICAgICAgIAogICAgCiAgICAgICAgICAgIHZhciBjaXJjbGVfYzJjODE5MDgyYmJhNDM3ZGEwOWUxZjYyOTg4ZDZiNDUgPSBMLmNpcmNsZSgKICAgICAgICAgICAgICAgIFsyOC4wMzM5LCAxLjY1OTZdLAogICAgICAgICAgICAgICAgeyJidWJibGluZ01vdXNlRXZlbnRzIjogdHJ1ZSwgImNvbG9yIjogImNyaW1zb24iLCAiZGFzaEFycmF5IjogbnVsbCwgImRhc2hPZmZzZXQiOiBudWxsLCAiZmlsbCI6IHRydWUsICJmaWxsQ29sb3IiOiAiY3JpbXNvbiIsICJmaWxsT3BhY2l0eSI6IDAuMiwgImZpbGxSdWxlIjogImV2ZW5vZGQiLCAibGluZUNhcCI6ICJyb3VuZCIsICJsaW5lSm9pbiI6ICJyb3VuZCIsICJvcGFjaXR5IjogMS4wLCAicmFkaXVzIjogNTA5OTk5Ljk5OTk5OTk5OTk0LCAic3Ryb2tlIjogdHJ1ZSwgIndlaWdodCI6IDN9CiAgICAgICAgICAgICkuYWRkVG8obWFwXzU3NWZhZjEyMTZjZjRhNGE4ZWUyYTMyODk4MzBhOWY2KTsKICAgICAgICAKICAgIAogICAgICAgICAgICBjaXJjbGVfYzJjODE5MDgyYmJhNDM3ZGEwOWUxZjYyOTg4ZDZiNDUuYmluZFRvb2x0aXAoCiAgICAgICAgICAgICAgICBgPGRpdj4KICAgICAgICAgICAgICAgICAgICAgPGRpdiBzdHlsZT0nbWFyZ2luOjA7IGJhY2tncm91bmQtY29sb3I6IGZpcmVicmljazsgY29sb3I6IHdoaXRlOyc+PGg0IHN0eWxlPSd0ZXh0LWFsaWduOmNlbnRlcjsgZm9udC13ZWlnaHQ6IGJvbGQnPkFsZ2VyaWE8L2g0PjxociBzdHlsZT0nbWFyZ2luOjEwcHg7IGNvbG9yOiB3aGl0ZTsnPjx1bCBzdHlsZT0nY29sb3I6IHdoaXRlOztsaXN0LXN0eWxlLXR5cGU6IGNpcmNsZTsgYWxpZ24taXRlbTogbGVmdDsgcGFkZGluZy1sZWZ0OiAyMHB4OyBwYWRkaW5nLXJpZ2h0OjIwcHgnPjxsaT5Ub3RhbCBjYXNlczogMjU0ODQ8L2xpPjxsaT5EZWF0aHM6IDExMjQ8L2xpPjxsaT5EZWF0aCByYXRlIDogNC40MSUgPC9saT48L3VsPjwvZGl2PgogICAgICAgICAgICAgICAgIDwvZGl2PmAsCiAgICAgICAgICAgICAgICB7InN0aWNreSI6IHRydWV9CiAgICAgICAgICAgICk7CiAgICAgICAgCiAgICAKICAgICAgICAgICAgdmFyIGNpcmNsZV81NTZmOTYxYjI1ZjM0YzFjYjc2YzMyYWFhMWQ2ZmE0MCA9IEwuY2lyY2xlKAogICAgICAgICAgICAgICAgWzQyLjUwNjMsIDEuNTIxOF0sCiAgICAgICAgICAgICAgICB7ImJ1YmJsaW5nTW91c2VFdmVudHMiOiB0cnVlLCAiY29sb3IiOiAiY3JpbXNvbiIsICJkYXNoQXJyYXkiOiBudWxsLCAiZGFzaE9mZnNldCI6IG51bGwsICJmaWxsIjogdHJ1ZSwgImZpbGxDb2xvciI6ICJjcmltc29uIiwgImZpbGxPcGFjaXR5IjogMC4yLCAiZmlsbFJ1bGUiOiAiZXZlbm9kZCIsICJsaW5lQ2FwIjogInJvdW5kIiwgImxpbmVKb2luIjogInJvdW5kIiwgIm9wYWNpdHkiOiAxLjAsICJyYWRpdXMiOiAzMTAwMDAuMCwgInN0cm9rZSI6IHRydWUsICJ3ZWlnaHQiOiAzfQogICAgICAgICAgICApLmFkZFRvKG1hcF81NzVmYWYxMjE2Y2Y0YTRhOGVlMmEzMjg5ODMwYTlmNik7CiAgICAgICAgCiAgICAKICAgICAgICAgICAgY2lyY2xlXzU1NmY5NjFiMjVmMzRjMWNiNzZjMzJhYWExZDZmYTQwLmJpbmRUb29sdGlwKAogICAgICAgICAgICAgICAgYDxkaXY+CiAgICAgICAgICAgICAgICAgICAgIDxkaXYgc3R5bGU9J21hcmdpbjowOyBiYWNrZ3JvdW5kLWNvbG9yOiBmaXJlYnJpY2s7IGNvbG9yOiB3aGl0ZTsnPjxoNCBzdHlsZT0ndGV4dC1hbGlnbjpjZW50ZXI7IGZvbnQtd2VpZ2h0OiBib2xkJz5BbmRvcnJhPC9oND48aHIgc3R5bGU9J21hcmdpbjoxMHB4OyBjb2xvcjogd2hpdGU7Jz48dWwgc3R5bGU9J2NvbG9yOiB3aGl0ZTs7bGlzdC1zdHlsZS10eXBlOiBjaXJjbGU7IGFsaWduLWl0ZW06IGxlZnQ7IHBhZGRpbmctbGVmdDogMjBweDsgcGFkZGluZy1yaWdodDoyMHB4Jz48bGk+VG90YWwgY2FzZXM6IDg4OTwvbGk+PGxpPkRlYXRoczogNTI8L2xpPjxsaT5EZWF0aCByYXRlIDogNS44NCUgPC9saT48L3VsPjwvZGl2PgogICAgICAgICAgICAgICAgIDwvZGl2PmAsCiAgICAgICAgICAgICAgICB7InN0aWNreSI6IHRydWV9CiAgICAgICAgICAgICk7CiAgICAgICAgCiAgICAKICAgICAgICAgICAgdmFyIGNpcmNsZV83ZDU3NjI2NDlhNmY0ZTJhYmE3YjlkNDAxODcyYTE5YyA9IEwuY2lyY2xlKAogICAgICAgICAgICAgICAgWy0xMS4yMDI3LCAxNy44NzM5XSwKICAgICAgICAgICAgICAgIHsiYnViYmxpbmdNb3VzZUV2ZW50cyI6IHRydWUsICJjb2xvciI6ICJjcmltc29uIiwgImRhc2hBcnJheSI6IG51bGwsICJkYXNoT2Zmc2V0IjogbnVsbCwgImZpbGwiOiB0cnVlLCAiZmlsbENvbG9yIjogImNyaW1zb24iLCAiZmlsbE9wYWNpdHkiOiAwLjIsICJmaWxsUnVsZSI6ICJldmVub2RkIiwgImxpbmVDYXAiOiAicm91bmQiLCAibGluZUpvaW4iOiAicm91bmQiLCAib3BhY2l0eSI6IDEuMCwgInJhZGl1cyI6IDMxMDAwMC4wLCAic3Ryb2tlIjogdHJ1ZSwgIndlaWdodCI6IDN9CiAgICAgICAgICAgICkuYWRkVG8obWFwXzU3NWZhZjEyMTZjZjRhNGE4ZWUyYTMyODk4MzBhOWY2KTsKICAgICAgICAKICAgIAogICAgICAgICAgICBjaXJjbGVfN2Q1NzYyNjQ5YTZmNGUyYWJhN2I5ZDQwMTg3MmExOWMuYmluZFRvb2x0aXAoCiAgICAgICAgICAgICAgICBgPGRpdj4KICAgICAgICAgICAgICAgICAgICAgPGRpdiBzdHlsZT0nbWFyZ2luOjA7IGJhY2tncm91bmQtY29sb3I6IGZpcmVicmljazsgY29sb3I6IHdoaXRlOyc+PGg0IHN0eWxlPSd0ZXh0LWFsaWduOmNlbnRlcjsgZm9udC13ZWlnaHQ6IGJvbGQnPkFuZ29sYTwvaDQ+PGhyIHN0eWxlPSdtYXJnaW46MTBweDsgY29sb3I6IHdoaXRlOyc+PHVsIHN0eWxlPSdjb2xvcjogd2hpdGU7O2xpc3Qtc3R5bGUtdHlwZTogY2lyY2xlOyBhbGlnbi1pdGVtOiBsZWZ0OyBwYWRkaW5nLWxlZnQ6IDIwcHg7IHBhZGRpbmctcmlnaHQ6MjBweCc+PGxpPlRvdGFsIGNhc2VzOiA4NTE8L2xpPjxsaT5EZWF0aHM6IDMzPC9saT48bGk+RGVhdGggcmF0ZSA6IDMuODclIDwvbGk+PC91bD48L2Rpdj4KICAgICAgICAgICAgICAgICA8L2Rpdj5gLAogICAgICAgICAgICAgICAgeyJzdGlja3kiOiB0cnVlfQogICAgICAgICAgICApOwogICAgICAgIAogICAgCiAgICAgICAgICAgIHZhciBjaXJjbGVfMTA2YzFhOWZlOTg1NDhlMTgzYWJlOGQ0ZGMxY2VhZmIgPSBMLmNpcmNsZSgKICAgICAgICAgICAgICAgIFsxNy4wNjA4LCAtNjEuNzk2NF0sCiAgICAgICAgICAgICAgICB7ImJ1YmJsaW5nTW91c2VFdmVudHMiOiB0cnVlLCAiY29sb3IiOiAiY3JpbXNvbiIsICJkYXNoQXJyYXkiOiBudWxsLCAiZGFzaE9mZnNldCI6IG51bGwsICJmaWxsIjogdHJ1ZSwgImZpbGxDb2xvciI6ICJjcmltc29uIiwgImZpbGxPcGFjaXR5IjogMC4yLCAiZmlsbFJ1bGUiOiAiZXZlbm9kZCIsICJsaW5lQ2FwIjogInJvdW5kIiwgImxpbmVKb2luIjogInJvdW5kIiwgIm9wYWNpdHkiOiAxLjAsICJyYWRpdXMiOiAyMTAwMDAuMCwgInN0cm9rZSI6IHRydWUsICJ3ZWlnaHQiOiAzfQogICAgICAgICAgICApLmFkZFRvKG1hcF81NzVmYWYxMjE2Y2Y0YTRhOGVlMmEzMjg5ODMwYTlmNik7CiAgICAgICAgCiAgICAKICAgICAgICAgICAgY2lyY2xlXzEwNmMxYTlmZTk4NTQ4ZTE4M2FiZThkNGRjMWNlYWZiLmJpbmRUb29sdGlwKAogICAgICAgICAgICAgICAgYDxkaXY+CiAgICAgICAgICAgICAgICAgICAgIDxkaXYgc3R5bGU9J21hcmdpbjowOyBiYWNrZ3JvdW5kLWNvbG9yOiBmaXJlYnJpY2s7IGNvbG9yOiB3aGl0ZTsnPjxoNCBzdHlsZT0ndGV4dC1hbGlnbjpjZW50ZXI7IGZvbnQtd2VpZ2h0OiBib2xkJz5BbnRpZ3VhIGFuZCBCYXJidWRhPC9oND48aHIgc3R5bGU9J21hcmdpbjoxMHB4OyBjb2xvcjogd2hpdGU7Jz48dWwgc3R5bGU9J2NvbG9yOiB3aGl0ZTs7bGlzdC1zdHlsZS10eXBlOiBjaXJjbGU7IGFsaWduLWl0ZW06IGxlZnQ7IHBhZGRpbmctbGVmdDogMjBweDsgcGFkZGluZy1yaWdodDoyMHB4Jz48bGk+VG90YWwgY2FzZXM6IDc2PC9saT48bGk+RGVhdGhzOiAzPC9saT48bGk+RGVhdGggcmF0ZSA6IDMuOSUgPC9saT48L3VsPjwvZGl2PgogICAgICAgICAgICAgICAgIDwvZGl2PmAsCiAgICAgICAgICAgICAgICB7InN0aWNreSI6IHRydWV9CiAgICAgICAgICAgICk7CiAgICAgICAgCiAgICAKICAgICAgICAgICAgdmFyIGNpcmNsZV8xNWMwMTdkYTM3MmU0OTU2ODg4ZDE0OTVlM2ZlNTA1ZSA9IEwuY2lyY2xlKAogICAgICAgICAgICAgICAgWy0zOC40MTYxLCAtNjMuNjE2N10sCiAgICAgICAgICAgICAgICB7ImJ1YmJsaW5nTW91c2VFdmVudHMiOiB0cnVlLCAiY29sb3IiOiAiY3JpbXNvbiIsICJkYXNoQXJyYXkiOiBudWxsLCAiZGFzaE9mZnNldCI6IG51bGwsICJmaWxsIjogdHJ1ZSwgImZpbGxDb2xvciI6ICJjcmltc29uIiwgImZpbGxPcGFjaXR5IjogMC4yLCAiZmlsbFJ1bGUiOiAiZXZlbm9kZCIsICJsaW5lQ2FwIjogInJvdW5kIiwgImxpbmVKb2luIjogInJvdW5kIiwgIm9wYWNpdHkiOiAxLjAsICJyYWRpdXMiOiA1NjAwMDAuMCwgInN0cm9rZSI6IHRydWUsICJ3ZWlnaHQiOiAzfQogICAgICAgICAgICApLmFkZFRvKG1hcF81NzVmYWYxMjE2Y2Y0YTRhOGVlMmEzMjg5ODMwYTlmNik7CiAgICAgICAgCiAgICAKICAgICAgICAgICAgY2lyY2xlXzE1YzAxN2RhMzcyZTQ5NTY4ODhkMTQ5NWUzZmU1MDVlLmJpbmRUb29sdGlwKAogICAgICAgICAgICAgICAgYDxkaXY+CiAgICAgICAgICAgICAgICAgICAgIDxkaXYgc3R5bGU9J21hcmdpbjowOyBiYWNrZ3JvdW5kLWNvbG9yOiBmaXJlYnJpY2s7IGNvbG9yOiB3aGl0ZTsnPjxoNCBzdHlsZT0ndGV4dC1hbGlnbjpjZW50ZXI7IGZvbnQtd2VpZ2h0OiBib2xkJz5BcmdlbnRpbmE8L2g0PjxociBzdHlsZT0nbWFyZ2luOjEwcHg7IGNvbG9yOiB3aGl0ZTsnPjx1bCBzdHlsZT0nY29sb3I6IHdoaXRlOztsaXN0LXN0eWxlLXR5cGU6IGNpcmNsZTsgYWxpZ24taXRlbTogbGVmdDsgcGFkZGluZy1sZWZ0OiAyMHB4OyBwYWRkaW5nLXJpZ2h0OjIwcHgnPjxsaT5Ub3RhbCBjYXNlczogMTQ4MDI3PC9saT48bGk+RGVhdGhzOiAyNzAyPC9saT48bGk+RGVhdGggcmF0ZSA6IDEuODMlIDwvbGk+PC91bD48L2Rpdj4KICAgICAgICAgICAgICAgICA8L2Rpdj5gLAogICAgICAgICAgICAgICAgeyJzdGlja3kiOiB0cnVlfQogICAgICAgICAgICApOwogICAgICAgIAogICAgCiAgICAgICAgICAgIHZhciBjaXJjbGVfOTU4YzE0OWE0ZGM1NDMyODk3YmM4MmFhMTYxYjBlOTUgPSBMLmNpcmNsZSgKICAgICAgICAgICAgICAgIFs0MC4wNjkxLCA0NS4wMzgyXSwKICAgICAgICAgICAgICAgIHsiYnViYmxpbmdNb3VzZUV2ZW50cyI6IHRydWUsICJjb2xvciI6ICJjcmltc29uIiwgImRhc2hBcnJheSI6IG51bGwsICJkYXNoT2Zmc2V0IjogbnVsbCwgImZpbGwiOiB0cnVlLCAiZmlsbENvbG9yIjogImNyaW1zb24iLCAiZmlsbE9wYWNpdHkiOiAwLjIsICJmaWxsUnVsZSI6ICJldmVub2RkIiwgImxpbmVDYXAiOiAicm91bmQiLCAibGluZUpvaW4iOiAicm91bmQiLCAib3BhY2l0eSI6IDEuMCwgInJhZGl1cyI6IDUwOTk5OS45OTk5OTk5OTk5NCwgInN0cm9rZSI6IHRydWUsICJ3ZWlnaHQiOiAzfQogICAgICAgICAgICApLmFkZFRvKG1hcF81NzVmYWYxMjE2Y2Y0YTRhOGVlMmEzMjg5ODMwYTlmNik7CiAgICAgICAgCiAgICAKICAgICAgICAgICAgY2lyY2xlXzk1OGMxNDlhNGRjNTQzMjg5N2JjODJhYTE2MWIwZTk1LmJpbmRUb29sdGlwKAogICAgICAgICAgICAgICAgYDxkaXY+CiAgICAgICAgICAgICAgICAgICAgIDxkaXYgc3R5bGU9J21hcmdpbjowOyBiYWNrZ3JvdW5kLWNvbG9yOiBmaXJlYnJpY2s7IGNvbG9yOiB3aGl0ZTsnPjxoNCBzdHlsZT0ndGV4dC1hbGlnbjpjZW50ZXI7IGZvbnQtd2VpZ2h0OiBib2xkJz5Bcm1lbmlhPC9oND48aHIgc3R5bGU9J21hcmdpbjoxMHB4OyBjb2xvcjogd2hpdGU7Jz48dWwgc3R5bGU9J2NvbG9yOiB3aGl0ZTs7bGlzdC1zdHlsZS10eXBlOiBjaXJjbGU7IGFsaWduLWl0ZW06IGxlZnQ7IHBhZGRpbmctbGVmdDogMjBweDsgcGFkZGluZy1yaWdodDoyMHB4Jz48bGk+VG90YWwgY2FzZXM6IDM2MTYyPC9saT48bGk+RGVhdGhzOiA2ODg8L2xpPjxsaT5EZWF0aCByYXRlIDogMS45JSA8L2xpPjwvdWw+PC9kaXY+CiAgICAgICAgICAgICAgICAgPC9kaXY+YCwKICAgICAgICAgICAgICAgIHsic3RpY2t5IjogdHJ1ZX0KICAgICAgICAgICAgKTsKICAgICAgICAKICAgIAogICAgICAgICAgICB2YXIgY2lyY2xlXzJlYjU0OWIyOTEzZTQxODE5NjZlYjI2NTdmNGI1MmE1ID0gTC5jaXJjbGUoCiAgICAgICAgICAgICAgICBbLTM1LjQ3MzUsIDE0OS4wMTI0XSwKICAgICAgICAgICAgICAgIHsiYnViYmxpbmdNb3VzZUV2ZW50cyI6IHRydWUsICJjb2xvciI6ICJjcmltc29uIiwgImRhc2hBcnJheSI6IG51bGwsICJkYXNoT2Zmc2V0IjogbnVsbCwgImZpbGwiOiB0cnVlLCAiZmlsbENvbG9yIjogImNyaW1zb24iLCAiZmlsbE9wYWNpdHkiOiAwLjIsICJmaWxsUnVsZSI6ICJldmVub2RkIiwgImxpbmVDYXAiOiAicm91bmQiLCAibGluZUpvaW4iOiAicm91bmQiLCAib3BhY2l0eSI6IDEuMCwgInJhZGl1cyI6IDIxMDAwMC4wLCAic3Ryb2tlIjogdHJ1ZSwgIndlaWdodCI6IDN9CiAgICAgICAgICAgICkuYWRkVG8obWFwXzU3NWZhZjEyMTZjZjRhNGE4ZWUyYTMyODk4MzBhOWY2KTsKICAgICAgICAKICAgIAogICAgICAgICAgICBjaXJjbGVfMmViNTQ5YjI5MTNlNDE4MTk2NmViMjY1N2Y0YjUyYTUuYmluZFRvb2x0aXAoCiAgICAgICAgICAgICAgICBgPGRpdj4KICAgICAgICAgICAgICAgICAgICAgPGRpdiBzdHlsZT0nbWFyZ2luOjA7IGJhY2tncm91bmQtY29sb3I6IGZpcmVicmljazsgY29sb3I6IHdoaXRlOyc+PGg0IHN0eWxlPSd0ZXh0LWFsaWduOmNlbnRlcjsgZm9udC13ZWlnaHQ6IGJvbGQnPkF1c3RyYWxpYTwvaDQ+PGhyIHN0eWxlPSdtYXJnaW46MTBweDsgY29sb3I6IHdoaXRlOyc+PHVsIHN0eWxlPSdjb2xvcjogd2hpdGU7O2xpc3Qtc3R5bGUtdHlwZTogY2lyY2xlOyBhbGlnbi1pdGVtOiBsZWZ0OyBwYWRkaW5nLWxlZnQ6IDIwcHg7IHBhZGRpbmctcmlnaHQ6MjBweCc+PGxpPlRvdGFsIGNhc2VzOiAxMTM8L2xpPjxsaT5EZWF0aHM6IDM8L2xpPjxsaT5EZWF0aCByYXRlIDogMi42MyUgPC9saT48L3VsPjwvZGl2PgogICAgICAgICAgICAgICAgIDwvZGl2PmAsCiAgICAgICAgICAgICAgICB7InN0aWNreSI6IHRydWV9CiAgICAgICAgICAgICk7CiAgICAgICAgCiAgICAKICAgICAgICAgICAgdmFyIGNpcmNsZV9kOGI2ZTZmOGIxZDI0YzIyYWIzZDdiZmU2ZTUwMzkyMCA9IEwuY2lyY2xlKAogICAgICAgICAgICAgICAgWy0zMy44Njg4LCAxNTEuMjA5M10sCiAgICAgICAgICAgICAgICB7ImJ1YmJsaW5nTW91c2VFdmVudHMiOiB0cnVlLCAiY29sb3IiOiAiY3JpbXNvbiIsICJkYXNoQXJyYXkiOiBudWxsLCAiZGFzaE9mZnNldCI6IG51bGwsICJmaWxsIjogdHJ1ZSwgImZpbGxDb2xvciI6ICJjcmltc29uIiwgImZpbGxPcGFjaXR5IjogMC4yLCAiZmlsbFJ1bGUiOiAiZXZlbm9kZCIsICJsaW5lQ2FwIjogInJvdW5kIiwgImxpbmVKb2luIjogInJvdW5kIiwgIm9wYWNpdHkiOiAxLjAsICJyYWRpdXMiOiA0MDk5OTkuOTk5OTk5OTk5OTQsICJzdHJva2UiOiB0cnVlLCAid2VpZ2h0IjogM30KICAgICAgICAgICAgKS5hZGRUbyhtYXBfNTc1ZmFmMTIxNmNmNGE0YThlZTJhMzI4OTgzMGE5ZjYpOwogICAgICAgIAogICAgCiAgICAgICAgICAgIGNpcmNsZV9kOGI2ZTZmOGIxZDI0YzIyYWIzZDdiZmU2ZTUwMzkyMC5iaW5kVG9vbHRpcCgKICAgICAgICAgICAgICAgIGA8ZGl2PgogICAgICAgICAgICAgICAgICAgICA8ZGl2IHN0eWxlPSdtYXJnaW46MDsgYmFja2dyb3VuZC1jb2xvcjogZmlyZWJyaWNrOyBjb2xvcjogd2hpdGU7Jz48aDQgc3R5bGU9J3RleHQtYWxpZ246Y2VudGVyOyBmb250LXdlaWdodDogYm9sZCc+QXVzdHJhbGlhPC9oND48aHIgc3R5bGU9J21hcmdpbjoxMHB4OyBjb2xvcjogd2hpdGU7Jz48dWwgc3R5bGU9J2NvbG9yOiB3aGl0ZTs7bGlzdC1zdHlsZS10eXBlOiBjaXJjbGU7IGFsaWduLWl0ZW06IGxlZnQ7IHBhZGRpbmctbGVmdDogMjBweDsgcGFkZGluZy1yaWdodDoyMHB4Jz48bGk+VG90YWwgY2FzZXM6IDM2NDA8L2xpPjxsaT5EZWF0aHM6IDQ5PC9saT48bGk+RGVhdGggcmF0ZSA6IDEuMzUlIDwvbGk+PC91bD48L2Rpdj4KICAgICAgICAgICAgICAgICA8L2Rpdj5gLAogICAgICAgICAgICAgICAgeyJzdGlja3kiOiB0cnVlfQogICAgICAgICAgICApOwogICAgICAgIAogICAgCiAgICAgICAgICAgIHZhciBjaXJjbGVfMmNhYTNhODllMDY2NGI4ZTg3MTMzNjA0ZWZkNmI1NjAgPSBMLmNpcmNsZSgKICAgICAgICAgICAgICAgIFstMTIuNDYzNCwgMTMwLjg0NTZdLAogICAgICAgICAgICAgICAgeyJidWJibGluZ01vdXNlRXZlbnRzIjogdHJ1ZSwgImNvbG9yIjogImNyaW1zb24iLCAiZGFzaEFycmF5IjogbnVsbCwgImRhc2hPZmZzZXQiOiBudWxsLCAiZmlsbCI6IHRydWUsICJmaWxsQ29sb3IiOiAiY3JpbXNvbiIsICJmaWxsT3BhY2l0eSI6IDAuMiwgImZpbGxSdWxlIjogImV2ZW5vZGQiLCAibGluZUNhcCI6ICJyb3VuZCIsICJsaW5lSm9pbiI6ICJyb3VuZCIsICJvcGFjaXR5IjogMS4wLCAicmFkaXVzIjogMTYwMDAwLjAsICJzdHJva2UiOiB0cnVlLCAid2VpZ2h0IjogM30KICAgICAgICAgICAgKS5hZGRUbyhtYXBfNTc1ZmFmMTIxNmNmNGE0YThlZTJhMzI4OTgzMGE5ZjYpOwogICAgICAgIAogICAgCiAgICAgICAgICAgIGNpcmNsZV8yY2FhM2E4OWUwNjY0YjhlODcxMzM2MDRlZmQ2YjU2MC5iaW5kVG9vbHRpcCgKICAgICAgICAgICAgICAgIGA8ZGl2PgogICAgICAgICAgICAgICAgICAgICA8ZGl2IHN0eWxlPSdtYXJnaW46MDsgYmFja2dyb3VuZC1jb2xvcjogZmlyZWJyaWNrOyBjb2xvcjogd2hpdGU7Jz48aDQgc3R5bGU9J3RleHQtYWxpZ246Y2VudGVyOyBmb250LXdlaWdodDogYm9sZCc+QXVzdHJhbGlhPC9oND48aHIgc3R5bGU9J21hcmdpbjoxMHB4OyBjb2xvcjogd2hpdGU7Jz48dWwgc3R5bGU9J2NvbG9yOiB3aGl0ZTs7bGlzdC1zdHlsZS10eXBlOiBjaXJjbGU7IGFsaWduLWl0ZW06IGxlZnQ7IHBhZGRpbmctbGVmdDogMjBweDsgcGFkZGluZy1yaWdodDoyMHB4Jz48bGk+VG90YWwgY2FzZXM6IDMxPC9saT48bGk+RGVhdGhzOiAwPC9saT48bGk+RGVhdGggcmF0ZSA6IDAuMCUgPC9saT48L3VsPjwvZGl2PgogICAgICAgICAgICAgICAgIDwvZGl2PmAsCiAgICAgICAgICAgICAgICB7InN0aWNreSI6IHRydWV9CiAgICAgICAgICAgICk7CiAgICAgICAgCiAgICAKICAgICAgICAgICAgdmFyIGNpcmNsZV8yOWU4YTkwOTAyNWI0OWFlYjNiYzkxZDYyYzVhOThhZCA9IEwuY2lyY2xlKAogICAgICAgICAgICAgICAgWy0yNy40Njk4LCAxNTMuMDI1MV0sCiAgICAgICAgICAgICAgICB7ImJ1YmJsaW5nTW91c2VFdmVudHMiOiB0cnVlLCAiY29sb3IiOiAiY3JpbXNvbiIsICJkYXNoQXJyYXkiOiBudWxsLCAiZGFzaE9mZnNldCI6IG51bGwsICJmaWxsIjogdHJ1ZSwgImZpbGxDb2xvciI6ICJjcmltc29uIiwgImZpbGxPcGFjaXR5IjogMC4yLCAiZmlsbFJ1bGUiOiAiZXZlbm9kZCIsICJsaW5lQ2FwIjogInJvdW5kIiwgImxpbmVKb2luIjogInJvdW5kIiwgIm9wYWNpdHkiOiAxLjAsICJyYWRpdXMiOiAzMTAwMDAuMCwgInN0cm9rZSI6IHRydWUsICJ3ZWlnaHQiOiAzfQogICAgICAgICAgICApLmFkZFRvKG1hcF81NzVmYWYxMjE2Y2Y0YTRhOGVlMmEzMjg5ODMwYTlmNik7CiAgICAgICAgCiAgICAKICAgICAgICAgICAgY2lyY2xlXzI5ZThhOTA5MDI1YjQ5YWViM2JjOTFkNjJjNWE5OGFkLmJpbmRUb29sdGlwKAogICAgICAgICAgICAgICAgYDxkaXY+CiAgICAgICAgICAgICAgICAgICAgIDxkaXYgc3R5bGU9J21hcmdpbjowOyBiYWNrZ3JvdW5kLWNvbG9yOiBmaXJlYnJpY2s7IGNvbG9yOiB3aGl0ZTsnPjxoNCBzdHlsZT0ndGV4dC1hbGlnbjpjZW50ZXI7IGZvbnQtd2VpZ2h0OiBib2xkJz5BdXN0cmFsaWE8L2g0PjxociBzdHlsZT0nbWFyZ2luOjEwcHg7IGNvbG9yOiB3aGl0ZTsnPjx1bCBzdHlsZT0nY29sb3I6IHdoaXRlOztsaXN0LXN0eWxlLXR5cGU6IGNpcmNsZTsgYWxpZ24taXRlbTogbGVmdDsgcGFkZGluZy1sZWZ0OiAyMHB4OyBwYWRkaW5nLXJpZ2h0OjIwcHgnPjxsaT5Ub3RhbCBjYXNlczogMTA3NjwvbGk+PGxpPkRlYXRoczogNjwvbGk+PGxpPkRlYXRoIHJhdGUgOiAwLjU2JSA8L2xpPjwvdWw+PC9kaXY+CiAgICAgICAgICAgICAgICAgPC9kaXY+YCwKICAgICAgICAgICAgICAgIHsic3RpY2t5IjogdHJ1ZX0KICAgICAgICAgICAgKTsKICAgICAgICAKICAgIAogICAgICAgICAgICB2YXIgY2lyY2xlX2E4MjU2NDI2ZTgwNjQzNzE5NjY2NDczODM4YjA2MDM0ID0gTC5jaXJjbGUoCiAgICAgICAgICAgICAgICBbLTM0LjkyODUsIDEzOC42MDA3XSwKICAgICAgICAgICAgICAgIHsiYnViYmxpbmdNb3VzZUV2ZW50cyI6IHRydWUsICJjb2xvciI6ICJjcmltc29uIiwgImRhc2hBcnJheSI6IG51bGwsICJkYXNoT2Zmc2V0IjogbnVsbCwgImZpbGwiOiB0cnVlLCAiZmlsbENvbG9yIjogImNyaW1zb24iLCAiZmlsbE9wYWNpdHkiOiAwLjIsICJmaWxsUnVsZSI6ICJldmVub2RkIiwgImxpbmVDYXAiOiAicm91bmQiLCAibGluZUpvaW4iOiAicm91bmQiLCAib3BhY2l0eSI6IDEuMCwgInJhZGl1cyI6IDMxMDAwMC4wLCAic3Ryb2tlIjogdHJ1ZSwgIndlaWdodCI6IDN9CiAgICAgICAgICAgICkuYWRkVG8obWFwXzU3NWZhZjEyMTZjZjRhNGE4ZWUyYTMyODk4MzBhOWY2KTsKICAgICAgICAKICAgIAogICAgICAgICAgICBjaXJjbGVfYTgyNTY0MjZlODA2NDM3MTk2NjY0NzM4MzhiMDYwMzQuYmluZFRvb2x0aXAoCiAgICAgICAgICAgICAgICBgPGRpdj4KICAgICAgICAgICAgICAgICAgICAgPGRpdiBzdHlsZT0nbWFyZ2luOjA7IGJhY2tncm91bmQtY29sb3I6IGZpcmVicmljazsgY29sb3I6IHdoaXRlOyc+PGg0IHN0eWxlPSd0ZXh0LWFsaWduOmNlbnRlcjsgZm9udC13ZWlnaHQ6IGJvbGQnPkF1c3RyYWxpYTwvaDQ+PGhyIHN0eWxlPSdtYXJnaW46MTBweDsgY29sb3I6IHdoaXRlOyc+PHVsIHN0eWxlPSdjb2xvcjogd2hpdGU7O2xpc3Qtc3R5bGUtdHlwZTogY2lyY2xlOyBhbGlnbi1pdGVtOiBsZWZ0OyBwYWRkaW5nLWxlZnQ6IDIwcHg7IHBhZGRpbmctcmlnaHQ6MjBweCc+PGxpPlRvdGFsIGNhc2VzOiA0NDc8L2xpPjxsaT5EZWF0aHM6IDQ8L2xpPjxsaT5EZWF0aCByYXRlIDogMC44OSUgPC9saT48L3VsPjwvZGl2PgogICAgICAgICAgICAgICAgIDwvZGl2PmAsCiAgICAgICAgICAgICAgICB7InN0aWNreSI6IHRydWV9CiAgICAgICAgICAgICk7CiAgICAgICAgCiAgICAKICAgICAgICAgICAgdmFyIGNpcmNsZV9mNWVlMzU2ZGZjMjQ0YzU4OTI5ZjBjMmMyNTFmZWY4MCA9IEwuY2lyY2xlKAogICAgICAgICAgICAgICAgWy00Mi44ODIxLCAxNDcuMzI3Ml0sCiAgICAgICAgICAgICAgICB7ImJ1YmJsaW5nTW91c2VFdmVudHMiOiB0cnVlLCAiY29sb3IiOiAiY3JpbXNvbiIsICJkYXNoQXJyYXkiOiBudWxsLCAiZGFzaE9mZnNldCI6IG51bGwsICJmaWxsIjogdHJ1ZSwgImZpbGxDb2xvciI6ICJjcmltc29uIiwgImZpbGxPcGFjaXR5IjogMC4yLCAiZmlsbFJ1bGUiOiAiZXZlbm9kZCIsICJsaW5lQ2FwIjogInJvdW5kIiwgImxpbmVKb2luIjogInJvdW5kIiwgIm9wYWNpdHkiOiAxLjAsICJyYWRpdXMiOiAyNjAwMDAuMCwgInN0cm9rZSI6IHRydWUsICJ3ZWlnaHQiOiAzfQogICAgICAgICAgICApLmFkZFRvKG1hcF81NzVmYWYxMjE2Y2Y0YTRhOGVlMmEzMjg5ODMwYTlmNik7CiAgICAgICAgCiAgICAKICAgICAgICAgICAgY2lyY2xlX2Y1ZWUzNTZkZmMyNDRjNTg5MjlmMGMyYzI1MWZlZjgwLmJpbmRUb29sdGlwKAogICAgICAgICAgICAgICAgYDxkaXY+CiAgICAgICAgICAgICAgICAgICAgIDxkaXYgc3R5bGU9J21hcmdpbjowOyBiYWNrZ3JvdW5kLWNvbG9yOiBmaXJlYnJpY2s7IGNvbG9yOiB3aGl0ZTsnPjxoNCBzdHlsZT0ndGV4dC1hbGlnbjpjZW50ZXI7IGZvbnQtd2VpZ2h0OiBib2xkJz5BdXN0cmFsaWE8L2g0PjxociBzdHlsZT0nbWFyZ2luOjEwcHg7IGNvbG9yOiB3aGl0ZTsnPjx1bCBzdHlsZT0nY29sb3I6IHdoaXRlOztsaXN0LXN0eWxlLXR5cGU6IGNpcmNsZTsgYWxpZ24taXRlbTogbGVmdDsgcGFkZGluZy1sZWZ0OiAyMHB4OyBwYWRkaW5nLXJpZ2h0OjIwcHgnPjxsaT5Ub3RhbCBjYXNlczogMjI5PC9saT48bGk+RGVhdGhzOiAxMzwvbGk+PGxpPkRlYXRoIHJhdGUgOiA1LjY1JSA8L2xpPjwvdWw+PC9kaXY+CiAgICAgICAgICAgICAgICAgPC9kaXY+YCwKICAgICAgICAgICAgICAgIHsic3RpY2t5IjogdHJ1ZX0KICAgICAgICAgICAgKTsKICAgICAgICAKICAgIAogICAgICAgICAgICB2YXIgY2lyY2xlXzY3ZWJkOWU0ZDJlMDQ0MDY4ZWU3N2I3YjFhMGJlYjhhID0gTC5jaXJjbGUoCiAgICAgICAgICAgICAgICBbLTM3LjgxMzYsIDE0NC45NjMxXSwKICAgICAgICAgICAgICAgIHsiYnViYmxpbmdNb3VzZUV2ZW50cyI6IHRydWUsICJjb2xvciI6ICJjcmltc29uIiwgImRhc2hBcnJheSI6IG51bGwsICJkYXNoT2Zmc2V0IjogbnVsbCwgImZpbGwiOiB0cnVlLCAiZmlsbENvbG9yIjogImNyaW1zb24iLCAiZmlsbE9wYWNpdHkiOiAwLjIsICJmaWxsUnVsZSI6ICJldmVub2RkIiwgImxpbmVDYXAiOiAicm91bmQiLCAibGluZUpvaW4iOiAicm91bmQiLCAib3BhY2l0eSI6IDEuMCwgInJhZGl1cyI6IDQwOTk5OS45OTk5OTk5OTk5NCwgInN0cm9rZSI6IHRydWUsICJ3ZWlnaHQiOiAzfQogICAgICAgICAgICApLmFkZFRvKG1hcF81NzVmYWYxMjE2Y2Y0YTRhOGVlMmEzMjg5ODMwYTlmNik7CiAgICAgICAgCiAgICAKICAgICAgICAgICAgY2lyY2xlXzY3ZWJkOWU0ZDJlMDQ0MDY4ZWU3N2I3YjFhMGJlYjhhLmJpbmRUb29sdGlwKAogICAgICAgICAgICAgICAgYDxkaXY+CiAgICAgICAgICAgICAgICAgICAgIDxkaXYgc3R5bGU9J21hcmdpbjowOyBiYWNrZ3JvdW5kLWNvbG9yOiBmaXJlYnJpY2s7IGNvbG9yOiB3aGl0ZTsnPjxoNCBzdHlsZT0ndGV4dC1hbGlnbjpjZW50ZXI7IGZvbnQtd2VpZ2h0OiBib2xkJz5BdXN0cmFsaWE8L2g0PjxociBzdHlsZT0nbWFyZ2luOjEwcHg7IGNvbG9yOiB3aGl0ZTsnPjx1bCBzdHlsZT0nY29sb3I6IHdoaXRlOztsaXN0LXN0eWxlLXR5cGU6IGNpcmNsZTsgYWxpZ24taXRlbTogbGVmdDsgcGFkZGluZy1sZWZ0OiAyMHB4OyBwYWRkaW5nLXJpZ2h0OjIwcHgnPjxsaT5Ub3RhbCBjYXNlczogNzQwNTwvbGk+PGxpPkRlYXRoczogNTU8L2xpPjxsaT5EZWF0aCByYXRlIDogMC43NCUgPC9saT48L3VsPjwvZGl2PgogICAgICAgICAgICAgICAgIDwvZGl2PmAsCiAgICAgICAgICAgICAgICB7InN0aWNreSI6IHRydWV9CiAgICAgICAgICAgICk7CiAgICAgICAgCiAgICAKICAgICAgICAgICAgdmFyIGNpcmNsZV9kZGFlMDAwYWEzMTY0OWM1OTNlNTcwZjk5ZmEyNjRlZiA9IEwuY2lyY2xlKAogICAgICAgICAgICAgICAgWy0zMS45NTA1LCAxMTUuODYwNV0sCiAgICAgICAgICAgICAgICB7ImJ1YmJsaW5nTW91c2VFdmVudHMiOiB0cnVlLCAiY29sb3IiOiAiY3JpbXNvbiIsICJkYXNoQXJyYXkiOiBudWxsLCAiZGFzaE9mZnNldCI6IG51bGwsICJmaWxsIjogdHJ1ZSwgImZpbGxDb2xvciI6ICJjcmltc29uIiwgImZpbGxPcGFjaXR5IjogMC4yLCAiZmlsbFJ1bGUiOiAiZXZlbm9kZCIsICJsaW5lQ2FwIjogInJvdW5kIiwgImxpbmVKb2luIjogInJvdW5kIiwgIm9wYWNpdHkiOiAxLjAsICJyYWRpdXMiOiAzMTAwMDAuMCwgInN0cm9rZSI6IHRydWUsICJ3ZWlnaHQiOiAzfQogICAgICAgICAgICApLmFkZFRvKG1hcF81NzVmYWYxMjE2Y2Y0YTRhOGVlMmEzMjg5ODMwYTlmNik7CiAgICAgICAgCiAgICAKICAgICAgICAgICAgY2lyY2xlX2RkYWUwMDBhYTMxNjQ5YzU5M2U1NzBmOTlmYTI2NGVmLmJpbmRUb29sdGlwKAogICAgICAgICAgICAgICAgYDxkaXY+CiAgICAgICAgICAgICAgICAgICAgIDxkaXYgc3R5bGU9J21hcmdpbjowOyBiYWNrZ3JvdW5kLWNvbG9yOiBmaXJlYnJpY2s7IGNvbG9yOiB3aGl0ZTsnPjxoNCBzdHlsZT0ndGV4dC1hbGlnbjpjZW50ZXI7IGZvbnQtd2VpZ2h0OiBib2xkJz5BdXN0cmFsaWE8L2g0PjxociBzdHlsZT0nbWFyZ2luOjEwcHg7IGNvbG9yOiB3aGl0ZTsnPjx1bCBzdHlsZT0nY29sb3I6IHdoaXRlOztsaXN0LXN0eWxlLXR5cGU6IGNpcmNsZTsgYWxpZ24taXRlbTogbGVmdDsgcGFkZGluZy1sZWZ0OiAyMHB4OyBwYWRkaW5nLXJpZ2h0OjIwcHgnPjxsaT5Ub3RhbCBjYXNlczogNjU0PC9saT48bGk+RGVhdGhzOiA5PC9saT48bGk+RGVhdGggcmF0ZSA6IDEuMzclIDwvbGk+PC91bD48L2Rpdj4KICAgICAgICAgICAgICAgICA8L2Rpdj5gLAogICAgICAgICAgICAgICAgeyJzdGlja3kiOiB0cnVlfQogICAgICAgICAgICApOwogICAgICAgIAogICAgCiAgICAgICAgICAgIHZhciBjaXJjbGVfYjg3NmM2N2VkY2YxNDlhYmFhYmFkY2E1MDQyNGNjMWUgPSBMLmNpcmNsZSgKICAgICAgICAgICAgICAgIFs0Ny41MTYyLCAxNC41NTAxXSwKICAgICAgICAgICAgICAgIHsiYnViYmxpbmdNb3VzZUV2ZW50cyI6IHRydWUsICJjb2xvciI6ICJjcmltc29uIiwgImRhc2hBcnJheSI6IG51bGwsICJkYXNoT2Zmc2V0IjogbnVsbCwgImZpbGwiOiB0cnVlLCAiZmlsbENvbG9yIjogImNyaW1zb24iLCAiZmlsbE9wYWNpdHkiOiAwLjIsICJmaWxsUnVsZSI6ICJldmVub2RkIiwgImxpbmVDYXAiOiAicm91bmQiLCAibGluZUpvaW4iOiAicm91bmQiLCAib3BhY2l0eSI6IDEuMCwgInJhZGl1cyI6IDQ1OTk5OS45OTk5OTk5OTk5NCwgInN0cm9rZSI6IHRydWUsICJ3ZWlnaHQiOiAzfQogICAgICAgICAgICApLmFkZFRvKG1hcF81NzVmYWYxMjE2Y2Y0YTRhOGVlMmEzMjg5ODMwYTlmNik7CiAgICAgICAgCiAgICAKICAgICAgICAgICAgY2lyY2xlX2I4NzZjNjdlZGNmMTQ5YWJhYWJhZGNhNTA0MjRjYzFlLmJpbmRUb29sdGlwKAogICAgICAgICAgICAgICAgYDxkaXY+CiAgICAgICAgICAgICAgICAgICAgIDxkaXYgc3R5bGU9J21hcmdpbjowOyBiYWNrZ3JvdW5kLWNvbG9yOiBmaXJlYnJpY2s7IGNvbG9yOiB3aGl0ZTsnPjxoNCBzdHlsZT0ndGV4dC1hbGlnbjpjZW50ZXI7IGZvbnQtd2VpZ2h0OiBib2xkJz5BdXN0cmlhPC9oND48aHIgc3R5bGU9J21hcmdpbjoxMHB4OyBjb2xvcjogd2hpdGU7Jz48dWwgc3R5bGU9J2NvbG9yOiB3aGl0ZTs7bGlzdC1zdHlsZS10eXBlOiBjaXJjbGU7IGFsaWduLWl0ZW06IGxlZnQ7IHBhZGRpbmctbGVmdDogMjBweDsgcGFkZGluZy1yaWdodDoyMHB4Jz48bGk+VG90YWwgY2FzZXM6IDIwMDk5PC9saT48bGk+RGVhdGhzOiA3MTE8L2xpPjxsaT5EZWF0aCByYXRlIDogMy41NCUgPC9saT48L3VsPjwvZGl2PgogICAgICAgICAgICAgICAgIDwvZGl2PmAsCiAgICAgICAgICAgICAgICB7InN0aWNreSI6IHRydWV9CiAgICAgICAgICAgICk7CiAgICAgICAgCiAgICAKICAgICAgICAgICAgdmFyIGNpcmNsZV85ZDA5MzAwNDg3M2U0YzE1ODcxZmM1N2FlZTBiOTNhYyA9IEwuY2lyY2xlKAogICAgICAgICAgICAgICAgWzQwLjE0MzEsIDQ3LjU3NjldLAogICAgICAgICAgICAgICAgeyJidWJibGluZ01vdXNlRXZlbnRzIjogdHJ1ZSwgImNvbG9yIjogImNyaW1zb24iLCAiZGFzaEFycmF5IjogbnVsbCwgImRhc2hPZmZzZXQiOiBudWxsLCAiZmlsbCI6IHRydWUsICJmaWxsQ29sb3IiOiAiY3JpbXNvbiIsICJmaWxsT3BhY2l0eSI6IDAuMiwgImZpbGxSdWxlIjogImV2ZW5vZGQiLCAibGluZUNhcCI6ICJyb3VuZCIsICJsaW5lSm9pbiI6ICJyb3VuZCIsICJvcGFjaXR5IjogMS4wLCAicmFkaXVzIjogNTA5OTk5Ljk5OTk5OTk5OTk0LCAic3Ryb2tlIjogdHJ1ZSwgIndlaWdodCI6IDN9CiAgICAgICAgICAgICkuYWRkVG8obWFwXzU3NWZhZjEyMTZjZjRhNGE4ZWUyYTMyODk4MzBhOWY2KTsKICAgICAgICAKICAgIAogICAgICAgICAgICBjaXJjbGVfOWQwOTMwMDQ4NzNlNGMxNTg3MWZjNTdhZWUwYjkzYWMuYmluZFRvb2x0aXAoCiAgICAgICAgICAgICAgICBgPGRpdj4KICAgICAgICAgICAgICAgICAgICAgPGRpdiBzdHlsZT0nbWFyZ2luOjA7IGJhY2tncm91bmQtY29sb3I6IGZpcmVicmljazsgY29sb3I6IHdoaXRlOyc+PGg0IHN0eWxlPSd0ZXh0LWFsaWduOmNlbnRlcjsgZm9udC13ZWlnaHQ6IGJvbGQnPkF6ZXJiYWlqYW48L2g0PjxociBzdHlsZT0nbWFyZ2luOjEwcHg7IGNvbG9yOiB3aGl0ZTsnPjx1bCBzdHlsZT0nY29sb3I6IHdoaXRlOztsaXN0LXN0eWxlLXR5cGU6IGNpcmNsZTsgYWxpZ24taXRlbTogbGVmdDsgcGFkZGluZy1sZWZ0OiAyMHB4OyBwYWRkaW5nLXJpZ2h0OjIwcHgnPjxsaT5Ub3RhbCBjYXNlczogMjg5ODA8L2xpPjxsaT5EZWF0aHM6IDM5MTwvbGk+PGxpPkRlYXRoIHJhdGUgOiAxLjM1JSA8L2xpPjwvdWw+PC9kaXY+CiAgICAgICAgICAgICAgICAgPC9kaXY+YCwKICAgICAgICAgICAgICAgIHsic3RpY2t5IjogdHJ1ZX0KICAgICAgICAgICAgKTsKICAgICAgICAKICAgIAogICAgICAgICAgICB2YXIgY2lyY2xlXzNjMWQyYjJmMzdhMjQwOWRiMDA0OWE3ZjA4ZmQ1MjYzID0gTC5jaXJjbGUoCiAgICAgICAgICAgICAgICBbMjUuMDI1ODg1LCAtNzguMDM1ODg5XSwKICAgICAgICAgICAgICAgIHsiYnViYmxpbmdNb3VzZUV2ZW50cyI6IHRydWUsICJjb2xvciI6ICJjcmltc29uIiwgImRhc2hBcnJheSI6IG51bGwsICJkYXNoT2Zmc2V0IjogbnVsbCwgImZpbGwiOiB0cnVlLCAiZmlsbENvbG9yIjogImNyaW1zb24iLCAiZmlsbE9wYWNpdHkiOiAwLjIsICJmaWxsUnVsZSI6ICJldmVub2RkIiwgImxpbmVDYXAiOiAicm91bmQiLCAibGluZUpvaW4iOiAicm91bmQiLCAib3BhY2l0eSI6IDEuMCwgInJhZGl1cyI6IDI2MDAwMC4wLCAic3Ryb2tlIjogdHJ1ZSwgIndlaWdodCI6IDN9CiAgICAgICAgICAgICkuYWRkVG8obWFwXzU3NWZhZjEyMTZjZjRhNGE4ZWUyYTMyODk4MzBhOWY2KTsKICAgICAgICAKICAgIAogICAgICAgICAgICBjaXJjbGVfM2MxZDJiMmYzN2EyNDA5ZGIwMDQ5YTdmMDhmZDUyNjMuYmluZFRvb2x0aXAoCiAgICAgICAgICAgICAgICBgPGRpdj4KICAgICAgICAgICAgICAgICAgICAgPGRpdiBzdHlsZT0nbWFyZ2luOjA7IGJhY2tncm91bmQtY29sb3I6IGZpcmVicmljazsgY29sb3I6IHdoaXRlOyc+PGg0IHN0eWxlPSd0ZXh0LWFsaWduOmNlbnRlcjsgZm9udC13ZWlnaHQ6IGJvbGQnPkJhaGFtYXM8L2g0PjxociBzdHlsZT0nbWFyZ2luOjEwcHg7IGNvbG9yOiB3aGl0ZTsnPjx1bCBzdHlsZT0nY29sb3I6IHdoaXRlOztsaXN0LXN0eWxlLXR5cGU6IGNpcmNsZTsgYWxpZ24taXRlbTogbGVmdDsgcGFkZGluZy1sZWZ0OiAyMHB4OyBwYWRkaW5nLXJpZ2h0OjIwcHgnPjxsaT5Ub3RhbCBjYXNlczogMjc0PC9saT48bGk+RGVhdGhzOiAxMTwvbGk+PGxpPkRlYXRoIHJhdGUgOiA0LjAlIDwvbGk+PC91bD48L2Rpdj4KICAgICAgICAgICAgICAgICA8L2Rpdj5gLAogICAgICAgICAgICAgICAgeyJzdGlja3kiOiB0cnVlfQogICAgICAgICAgICApOwogICAgICAgIAogICAgCiAgICAgICAgICAgIHZhciBjaXJjbGVfYzE0ZjY5OGRhNDVhNDM4ZGFlOGQ5ZTRhNGI3NzkxMTIgPSBMLmNpcmNsZSgKICAgICAgICAgICAgICAgIFsyNi4wMjc1LCA1MC41NV0sCiAgICAgICAgICAgICAgICB7ImJ1YmJsaW5nTW91c2VFdmVudHMiOiB0cnVlLCAiY29sb3IiOiAiY3JpbXNvbiIsICJkYXNoQXJyYXkiOiBudWxsLCAiZGFzaE9mZnNldCI6IG51bGwsICJmaWxsIjogdHJ1ZSwgImZpbGxDb2xvciI6ICJjcmltc29uIiwgImZpbGxPcGFjaXR5IjogMC4yLCAiZmlsbFJ1bGUiOiAiZXZlbm9kZCIsICJsaW5lQ2FwIjogInJvdW5kIiwgImxpbmVKb2luIjogInJvdW5kIiwgIm9wYWNpdHkiOiAxLjAsICJyYWRpdXMiOiA1MDk5OTkuOTk5OTk5OTk5OTQsICJzdHJva2UiOiB0cnVlLCAid2VpZ2h0IjogM30KICAgICAgICAgICAgKS5hZGRUbyhtYXBfNTc1ZmFmMTIxNmNmNGE0YThlZTJhMzI4OTgzMGE5ZjYpOwogICAgICAgIAogICAgCiAgICAgICAgICAgIGNpcmNsZV9jMTRmNjk4ZGE0NWE0MzhkYWU4ZDllNGE0Yjc3OTExMi5iaW5kVG9vbHRpcCgKICAgICAgICAgICAgICAgIGA8ZGl2PgogICAgICAgICAgICAgICAgICAgICA8ZGl2IHN0eWxlPSdtYXJnaW46MDsgYmFja2dyb3VuZC1jb2xvcjogZmlyZWJyaWNrOyBjb2xvcjogd2hpdGU7Jz48aDQgc3R5bGU9J3RleHQtYWxpZ246Y2VudGVyOyBmb250LXdlaWdodDogYm9sZCc+QmFocmFpbjwvaDQ+PGhyIHN0eWxlPSdtYXJnaW46MTBweDsgY29sb3I6IHdoaXRlOyc+PHVsIHN0eWxlPSdjb2xvcjogd2hpdGU7O2xpc3Qtc3R5bGUtdHlwZTogY2lyY2xlOyBhbGlnbi1pdGVtOiBsZWZ0OyBwYWRkaW5nLWxlZnQ6IDIwcHg7IHBhZGRpbmctcmlnaHQ6MjBweCc+PGxpPlRvdGFsIGNhc2VzOiAzNzk5NjwvbGk+PGxpPkRlYXRoczogMTM0PC9saT48bGk+RGVhdGggcmF0ZSA6IDAuMzUlIDwvbGk+PC91bD48L2Rpdj4KICAgICAgICAgICAgICAgICA8L2Rpdj5gLAogICAgICAgICAgICAgICAgeyJzdGlja3kiOiB0cnVlfQogICAgICAgICAgICApOwogICAgICAgIAogICAgCiAgICAgICAgICAgIHZhciBjaXJjbGVfMzM2ZTYwZWM5OTcyNDZjOTkwMTViN2IxYjE1MmQ5ZTggPSBMLmNpcmNsZSgKICAgICAgICAgICAgICAgIFsyMy42ODUsIDkwLjM1NjNdLAogICAgICAgICAgICAgICAgeyJidWJibGluZ01vdXNlRXZlbnRzIjogdHJ1ZSwgImNvbG9yIjogImNyaW1zb24iLCAiZGFzaEFycmF5IjogbnVsbCwgImRhc2hPZmZzZXQiOiBudWxsLCAiZmlsbCI6IHRydWUsICJmaWxsQ29sb3IiOiAiY3JpbXNvbiIsICJmaWxsT3BhY2l0eSI6IDAuMiwgImZpbGxSdWxlIjogImV2ZW5vZGQiLCAibGluZUNhcCI6ICJyb3VuZCIsICJsaW5lSm9pbiI6ICJyb3VuZCIsICJvcGFjaXR5IjogMS4wLCAicmFkaXVzIjogNjEwMDAwLjAsICJzdHJva2UiOiB0cnVlLCAid2VpZ2h0IjogM30KICAgICAgICAgICAgKS5hZGRUbyhtYXBfNTc1ZmFmMTIxNmNmNGE0YThlZTJhMzI4OTgzMGE5ZjYpOwogICAgICAgIAogICAgCiAgICAgICAgICAgIGNpcmNsZV8zMzZlNjBlYzk5NzI0NmM5OTAxNWI3YjFiMTUyZDllOC5iaW5kVG9vbHRpcCgKICAgICAgICAgICAgICAgIGA8ZGl2PgogICAgICAgICAgICAgICAgICAgICA8ZGl2IHN0eWxlPSdtYXJnaW46MDsgYmFja2dyb3VuZC1jb2xvcjogZmlyZWJyaWNrOyBjb2xvcjogd2hpdGU7Jz48aDQgc3R5bGU9J3RleHQtYWxpZ246Y2VudGVyOyBmb250LXdlaWdodDogYm9sZCc+QmFuZ2xhZGVzaDwvaDQ+PGhyIHN0eWxlPSdtYXJnaW46MTBweDsgY29sb3I6IHdoaXRlOyc+PHVsIHN0eWxlPSdjb2xvcjogd2hpdGU7O2xpc3Qtc3R5bGUtdHlwZTogY2lyY2xlOyBhbGlnbi1pdGVtOiBsZWZ0OyBwYWRkaW5nLWxlZnQ6IDIwcHg7IHBhZGRpbmctcmlnaHQ6MjBweCc+PGxpPlRvdGFsIGNhc2VzOiAyMTYxMTA8L2xpPjxsaT5EZWF0aHM6IDI4MDE8L2xpPjxsaT5EZWF0aCByYXRlIDogMS4zJSA8L2xpPjwvdWw+PC9kaXY+CiAgICAgICAgICAgICAgICAgPC9kaXY+YCwKICAgICAgICAgICAgICAgIHsic3RpY2t5IjogdHJ1ZX0KICAgICAgICAgICAgKTsKICAgICAgICAKICAgIAogICAgICAgICAgICB2YXIgY2lyY2xlXzUwNWE2NTVmOGU1NDQ1ZmRiZjkzZjY5OGQyZmU3ZTIxID0gTC5jaXJjbGUoCiAgICAgICAgICAgICAgICBbMTMuMTkzOSwgLTU5LjU0MzJdLAogICAgICAgICAgICAgICAgeyJidWJibGluZ01vdXNlRXZlbnRzIjogdHJ1ZSwgImNvbG9yIjogImNyaW1zb24iLCAiZGFzaEFycmF5IjogbnVsbCwgImRhc2hPZmZzZXQiOiBudWxsLCAiZmlsbCI6IHRydWUsICJmaWxsQ29sb3IiOiAiY3JpbXNvbiIsICJmaWxsT3BhY2l0eSI6IDAuMiwgImZpbGxSdWxlIjogImV2ZW5vZGQiLCAibGluZUNhcCI6ICJyb3VuZCIsICJsaW5lSm9pbiI6ICJyb3VuZCIsICJvcGFjaXR5IjogMS4wLCAicmFkaXVzIjogMjEwMDAwLjAsICJzdHJva2UiOiB0cnVlLCAid2VpZ2h0IjogM30KICAgICAgICAgICAgKS5hZGRUbyhtYXBfNTc1ZmFmMTIxNmNmNGE0YThlZTJhMzI4OTgzMGE5ZjYpOwogICAgICAgIAogICAgCiAgICAgICAgICAgIGNpcmNsZV81MDVhNjU1ZjhlNTQ0NWZkYmY5M2Y2OThkMmZlN2UyMS5iaW5kVG9vbHRpcCgKICAgICAgICAgICAgICAgIGA8ZGl2PgogICAgICAgICAgICAgICAgICAgICA8ZGl2IHN0eWxlPSdtYXJnaW46MDsgYmFja2dyb3VuZC1jb2xvcjogZmlyZWJyaWNrOyBjb2xvcjogd2hpdGU7Jz48aDQgc3R5bGU9J3RleHQtYWxpZ246Y2VudGVyOyBmb250LXdlaWdodDogYm9sZCc+QmFyYmFkb3M8L2g0PjxociBzdHlsZT0nbWFyZ2luOjEwcHg7IGNvbG9yOiB3aGl0ZTsnPjx1bCBzdHlsZT0nY29sb3I6IHdoaXRlOztsaXN0LXN0eWxlLXR5cGU6IGNpcmNsZTsgYWxpZ24taXRlbTogbGVmdDsgcGFkZGluZy1sZWZ0OiAyMHB4OyBwYWRkaW5nLXJpZ2h0OjIwcHgnPjxsaT5Ub3RhbCBjYXNlczogMTA2PC9saT48bGk+RGVhdGhzOiA3PC9saT48bGk+RGVhdGggcmF0ZSA6IDYuNTQlIDwvbGk+PC91bD48L2Rpdj4KICAgICAgICAgICAgICAgICA8L2Rpdj5gLAogICAgICAgICAgICAgICAgeyJzdGlja3kiOiB0cnVlfQogICAgICAgICAgICApOwogICAgICAgIAogICAgCiAgICAgICAgICAgIHZhciBjaXJjbGVfZWYyNjA2OGU2MjBhNGY1Y2FjNTZjYTVlYzYwY2MzNWMgPSBMLmNpcmNsZSgKICAgICAgICAgICAgICAgIFs1My43MDk4LCAyNy45NTM0XSwKICAgICAgICAgICAgICAgIHsiYnViYmxpbmdNb3VzZUV2ZW50cyI6IHRydWUsICJjb2xvciI6ICJjcmltc29uIiwgImRhc2hBcnJheSI6IG51bGwsICJkYXNoT2Zmc2V0IjogbnVsbCwgImZpbGwiOiB0cnVlLCAiZmlsbENvbG9yIjogImNyaW1zb24iLCAiZmlsbE9wYWNpdHkiOiAwLjIsICJmaWxsUnVsZSI6ICJldmVub2RkIiwgImxpbmVDYXAiOiAicm91bmQiLCAibGluZUpvaW4iOiAicm91bmQiLCAib3BhY2l0eSI6IDEuMCwgInJhZGl1cyI6IDU2MDAwMC4wLCAic3Ryb2tlIjogdHJ1ZSwgIndlaWdodCI6IDN9CiAgICAgICAgICAgICkuYWRkVG8obWFwXzU3NWZhZjEyMTZjZjRhNGE4ZWUyYTMyODk4MzBhOWY2KTsKICAgICAgICAKICAgIAogICAgICAgICAgICBjaXJjbGVfZWYyNjA2OGU2MjBhNGY1Y2FjNTZjYTVlYzYwY2MzNWMuYmluZFRvb2x0aXAoCiAgICAgICAgICAgICAgICBgPGRpdj4KICAgICAgICAgICAgICAgICAgICAgPGRpdiBzdHlsZT0nbWFyZ2luOjA7IGJhY2tncm91bmQtY29sb3I6IGZpcmVicmljazsgY29sb3I6IHdoaXRlOyc+PGg0IHN0eWxlPSd0ZXh0LWFsaWduOmNlbnRlcjsgZm9udC13ZWlnaHQ6IGJvbGQnPkJlbGFydXM8L2g0PjxociBzdHlsZT0nbWFyZ2luOjEwcHg7IGNvbG9yOiB3aGl0ZTsnPjx1bCBzdHlsZT0nY29sb3I6IHdoaXRlOztsaXN0LXN0eWxlLXR5cGU6IGNpcmNsZTsgYWxpZ24taXRlbTogbGVmdDsgcGFkZGluZy1sZWZ0OiAyMHB4OyBwYWRkaW5nLXJpZ2h0OjIwcHgnPjxsaT5Ub3RhbCBjYXNlczogNjY2ODg8L2xpPjxsaT5EZWF0aHM6IDUxOTwvbGk+PGxpPkRlYXRoIHJhdGUgOiAwLjc4JSA8L2xpPjwvdWw+PC9kaXY+CiAgICAgICAgICAgICAgICAgPC9kaXY+YCwKICAgICAgICAgICAgICAgIHsic3RpY2t5IjogdHJ1ZX0KICAgICAgICAgICAgKTsKICAgICAgICAKICAgIAogICAgICAgICAgICB2YXIgY2lyY2xlXzAyMDExNWM5NjE0YTQ4YTM5OTk5NTQ0Y2U1OTc4ZmQ3ID0gTC5jaXJjbGUoCiAgICAgICAgICAgICAgICBbNTAuODMzMywgNC40Njk5MzZdLAogICAgICAgICAgICAgICAgeyJidWJibGluZ01vdXNlRXZlbnRzIjogdHJ1ZSwgImNvbG9yIjogImNyaW1zb24iLCAiZGFzaEFycmF5IjogbnVsbCwgImRhc2hPZmZzZXQiOiBudWxsLCAiZmlsbCI6IHRydWUsICJmaWxsQ29sb3IiOiAiY3JpbXNvbiIsICJmaWxsT3BhY2l0eSI6IDAuMiwgImZpbGxSdWxlIjogImV2ZW5vZGQiLCAibGluZUNhcCI6ICJyb3VuZCIsICJsaW5lSm9pbiI6ICJyb3VuZCIsICJvcGFjaXR5IjogMS4wLCAicmFkaXVzIjogNTYwMDAwLjAsICJzdHJva2UiOiB0cnVlLCAid2VpZ2h0IjogM30KICAgICAgICAgICAgKS5hZGRUbyhtYXBfNTc1ZmFmMTIxNmNmNGE0YThlZTJhMzI4OTgzMGE5ZjYpOwogICAgICAgIAogICAgCiAgICAgICAgICAgIGNpcmNsZV8wMjAxMTVjOTYxNGE0OGEzOTk5OTU0NGNlNTk3OGZkNy5iaW5kVG9vbHRpcCgKICAgICAgICAgICAgICAgIGA8ZGl2PgogICAgICAgICAgICAgICAgICAgICA8ZGl2IHN0eWxlPSdtYXJnaW46MDsgYmFja2dyb3VuZC1jb2xvcjogZmlyZWJyaWNrOyBjb2xvcjogd2hpdGU7Jz48aDQgc3R5bGU9J3RleHQtYWxpZ246Y2VudGVyOyBmb250LXdlaWdodDogYm9sZCc+QmVsZ2l1bTwvaDQ+PGhyIHN0eWxlPSdtYXJnaW46MTBweDsgY29sb3I6IHdoaXRlOyc+PHVsIHN0eWxlPSdjb2xvcjogd2hpdGU7O2xpc3Qtc3R5bGUtdHlwZTogY2lyY2xlOyBhbGlnbi1pdGVtOiBsZWZ0OyBwYWRkaW5nLWxlZnQ6IDIwcHg7IHBhZGRpbmctcmlnaHQ6MjBweCc+PGxpPlRvdGFsIGNhc2VzOiA2NDg0NzwvbGk+PGxpPkRlYXRoczogOTgxMjwvbGk+PGxpPkRlYXRoIHJhdGUgOiAxNS4xMyUgPC9saT48L3VsPjwvZGl2PgogICAgICAgICAgICAgICAgIDwvZGl2PmAsCiAgICAgICAgICAgICAgICB7InN0aWNreSI6IHRydWV9CiAgICAgICAgICAgICk7CiAgICAgICAgCiAgICAKICAgICAgICAgICAgdmFyIGNpcmNsZV81ZjA5NTE4OWRjNjk0MWNmYWJmZTRkZDM5N2Q3NmU5NSA9IEwuY2lyY2xlKAogICAgICAgICAgICAgICAgWzkuMzA3NywgMi4zMTU4XSwKICAgICAgICAgICAgICAgIHsiYnViYmxpbmdNb3VzZUV2ZW50cyI6IHRydWUsICJjb2xvciI6ICJjcmltc29uIiwgImRhc2hBcnJheSI6IG51bGwsICJkYXNoT2Zmc2V0IjogbnVsbCwgImZpbGwiOiB0cnVlLCAiZmlsbENvbG9yIjogImNyaW1zb24iLCAiZmlsbE9wYWNpdHkiOiAwLjIsICJmaWxsUnVsZSI6ICJldmVub2RkIiwgImxpbmVDYXAiOiAicm91bmQiLCAibGluZUpvaW4iOiAicm91bmQiLCAib3BhY2l0eSI6IDEuMCwgInJhZGl1cyI6IDM2MDAwMC4wLCAic3Ryb2tlIjogdHJ1ZSwgIndlaWdodCI6IDN9CiAgICAgICAgICAgICkuYWRkVG8obWFwXzU3NWZhZjEyMTZjZjRhNGE4ZWUyYTMyODk4MzBhOWY2KTsKICAgICAgICAKICAgIAogICAgICAgICAgICBjaXJjbGVfNWYwOTUxODlkYzY5NDFjZmFiZmU0ZGQzOTdkNzZlOTUuYmluZFRvb2x0aXAoCiAgICAgICAgICAgICAgICBgPGRpdj4KICAgICAgICAgICAgICAgICAgICAgPGRpdiBzdHlsZT0nbWFyZ2luOjA7IGJhY2tncm91bmQtY29sb3I6IGZpcmVicmljazsgY29sb3I6IHdoaXRlOyc+PGg0IHN0eWxlPSd0ZXh0LWFsaWduOmNlbnRlcjsgZm9udC13ZWlnaHQ6IGJvbGQnPkJlbmluPC9oND48aHIgc3R5bGU9J21hcmdpbjoxMHB4OyBjb2xvcjogd2hpdGU7Jz48dWwgc3R5bGU9J2NvbG9yOiB3aGl0ZTs7bGlzdC1zdHlsZS10eXBlOiBjaXJjbGU7IGFsaWduLWl0ZW06IGxlZnQ7IHBhZGRpbmctbGVmdDogMjBweDsgcGFkZGluZy1yaWdodDoyMHB4Jz48bGk+VG90YWwgY2FzZXM6IDE2OTQ8L2xpPjxsaT5EZWF0aHM6IDM0PC9saT48bGk+RGVhdGggcmF0ZSA6IDIuMDElIDwvbGk+PC91bD48L2Rpdj4KICAgICAgICAgICAgICAgICA8L2Rpdj5gLAogICAgICAgICAgICAgICAgeyJzdGlja3kiOiB0cnVlfQogICAgICAgICAgICApOwogICAgICAgIAogICAgCiAgICAgICAgICAgIHZhciBjaXJjbGVfMmM1OGYwZWJjM2JkNDEyMDgwOTk5MDU0NGMwZTA5Y2IgPSBMLmNpcmNsZSgKICAgICAgICAgICAgICAgIFsyNy41MTQyLCA5MC40MzM2XSwKICAgICAgICAgICAgICAgIHsiYnViYmxpbmdNb3VzZUV2ZW50cyI6IHRydWUsICJjb2xvciI6ICJjcmltc29uIiwgImRhc2hBcnJheSI6IG51bGwsICJkYXNoT2Zmc2V0IjogbnVsbCwgImZpbGwiOiB0cnVlLCAiZmlsbENvbG9yIjogImNyaW1zb24iLCAiZmlsbE9wYWNpdHkiOiAwLjIsICJmaWxsUnVsZSI6ICJldmVub2RkIiwgImxpbmVDYXAiOiAicm91bmQiLCAibGluZUpvaW4iOiAicm91bmQiLCAib3BhY2l0eSI6IDEuMCwgInJhZGl1cyI6IDIxMDAwMC4wLCAic3Ryb2tlIjogdHJ1ZSwgIndlaWdodCI6IDN9CiAgICAgICAgICAgICkuYWRkVG8obWFwXzU3NWZhZjEyMTZjZjRhNGE4ZWUyYTMyODk4MzBhOWY2KTsKICAgICAgICAKICAgIAogICAgICAgICAgICBjaXJjbGVfMmM1OGYwZWJjM2JkNDEyMDgwOTk5MDU0NGMwZTA5Y2IuYmluZFRvb2x0aXAoCiAgICAgICAgICAgICAgICBgPGRpdj4KICAgICAgICAgICAgICAgICAgICAgPGRpdiBzdHlsZT0nbWFyZ2luOjA7IGJhY2tncm91bmQtY29sb3I6IGZpcmVicmljazsgY29sb3I6IHdoaXRlOyc+PGg0IHN0eWxlPSd0ZXh0LWFsaWduOmNlbnRlcjsgZm9udC13ZWlnaHQ6IGJvbGQnPkJodXRhbjwvaDQ+PGhyIHN0eWxlPSdtYXJnaW46MTBweDsgY29sb3I6IHdoaXRlOyc+PHVsIHN0eWxlPSdjb2xvcjogd2hpdGU7O2xpc3Qtc3R5bGUtdHlwZTogY2lyY2xlOyBhbGlnbi1pdGVtOiBsZWZ0OyBwYWRkaW5nLWxlZnQ6IDIwcHg7IHBhZGRpbmctcmlnaHQ6MjBweCc+PGxpPlRvdGFsIGNhc2VzOiA5MjwvbGk+PGxpPkRlYXRoczogMDwvbGk+PGxpPkRlYXRoIHJhdGUgOiAwLjAlIDwvbGk+PC91bD48L2Rpdj4KICAgICAgICAgICAgICAgICA8L2Rpdj5gLAogICAgICAgICAgICAgICAgeyJzdGlja3kiOiB0cnVlfQogICAgICAgICAgICApOwogICAgICAgIAogICAgCiAgICAgICAgICAgIHZhciBjaXJjbGVfZWNlOTYyY2Q4YTMwNGRjMWE1MmQ0ODM2NzNiZmM3MWQgPSBMLmNpcmNsZSgKICAgICAgICAgICAgICAgIFstMTYuMjkwMiwgLTYzLjU4ODddLAogICAgICAgICAgICAgICAgeyJidWJibGluZ01vdXNlRXZlbnRzIjogdHJ1ZSwgImNvbG9yIjogImNyaW1zb24iLCAiZGFzaEFycmF5IjogbnVsbCwgImRhc2hPZmZzZXQiOiBudWxsLCAiZmlsbCI6IHRydWUsICJmaWxsQ29sb3IiOiAiY3JpbXNvbiIsICJmaWxsT3BhY2l0eSI6IDAuMiwgImZpbGxSdWxlIjogImV2ZW5vZGQiLCAibGluZUNhcCI6ICJyb3VuZCIsICJsaW5lSm9pbiI6ICJyb3VuZCIsICJvcGFjaXR5IjogMS4wLCAicmFkaXVzIjogNTYwMDAwLjAsICJzdHJva2UiOiB0cnVlLCAid2VpZ2h0IjogM30KICAgICAgICAgICAgKS5hZGRUbyhtYXBfNTc1ZmFmMTIxNmNmNGE0YThlZTJhMzI4OTgzMGE5ZjYpOwogICAgICAgIAogICAgCiAgICAgICAgICAgIGNpcmNsZV9lY2U5NjJjZDhhMzA0ZGMxYTUyZDQ4MzY3M2JmYzcxZC5iaW5kVG9vbHRpcCgKICAgICAgICAgICAgICAgIGA8ZGl2PgogICAgICAgICAgICAgICAgICAgICA8ZGl2IHN0eWxlPSdtYXJnaW46MDsgYmFja2dyb3VuZC1jb2xvcjogZmlyZWJyaWNrOyBjb2xvcjogd2hpdGU7Jz48aDQgc3R5bGU9J3RleHQtYWxpZ246Y2VudGVyOyBmb250LXdlaWdodDogYm9sZCc+Qm9saXZpYTwvaDQ+PGhyIHN0eWxlPSdtYXJnaW46MTBweDsgY29sb3I6IHdoaXRlOyc+PHVsIHN0eWxlPSdjb2xvcjogd2hpdGU7O2xpc3Qtc3R5bGUtdHlwZTogY2lyY2xlOyBhbGlnbi1pdGVtOiBsZWZ0OyBwYWRkaW5nLWxlZnQ6IDIwcHg7IHBhZGRpbmctcmlnaHQ6MjBweCc+PGxpPlRvdGFsIGNhc2VzOiA2NTI1MjwvbGk+PGxpPkRlYXRoczogMjQwNzwvbGk+PGxpPkRlYXRoIHJhdGUgOiAzLjY5JSA8L2xpPjwvdWw+PC9kaXY+CiAgICAgICAgICAgICAgICAgPC9kaXY+YCwKICAgICAgICAgICAgICAgIHsic3RpY2t5IjogdHJ1ZX0KICAgICAgICAgICAgKTsKICAgICAgICAKICAgIAogICAgICAgICAgICB2YXIgY2lyY2xlXzMwMTAwODhhM2VhMjQwOTZhZjNlMzIzMzRhYjczZjFiID0gTC5jaXJjbGUoCiAgICAgICAgICAgICAgICBbNDMuOTE1OSwgMTcuNjc5MV0sCiAgICAgICAgICAgICAgICB7ImJ1YmJsaW5nTW91c2VFdmVudHMiOiB0cnVlLCAiY29sb3IiOiAiY3JpbXNvbiIsICJkYXNoQXJyYXkiOiBudWxsLCAiZGFzaE9mZnNldCI6IG51bGwsICJmaWxsIjogdHJ1ZSwgImZpbGxDb2xvciI6ICJjcmltc29uIiwgImZpbGxPcGFjaXR5IjogMC4yLCAiZmlsbFJ1bGUiOiAiZXZlbm9kZCIsICJsaW5lQ2FwIjogInJvdW5kIiwgImxpbmVKb2luIjogInJvdW5kIiwgIm9wYWNpdHkiOiAxLjAsICJyYWRpdXMiOiA0NTk5OTkuOTk5OTk5OTk5OTQsICJzdHJva2UiOiB0cnVlLCAid2VpZ2h0IjogM30KICAgICAgICAgICAgKS5hZGRUbyhtYXBfNTc1ZmFmMTIxNmNmNGE0YThlZTJhMzI4OTgzMGE5ZjYpOwogICAgICAgIAogICAgCiAgICAgICAgICAgIGNpcmNsZV8zMDEwMDg4YTNlYTI0MDk2YWYzZTMyMzM0YWI3M2YxYi5iaW5kVG9vbHRpcCgKICAgICAgICAgICAgICAgIGA8ZGl2PgogICAgICAgICAgICAgICAgICAgICA8ZGl2IHN0eWxlPSdtYXJnaW46MDsgYmFja2dyb3VuZC1jb2xvcjogZmlyZWJyaWNrOyBjb2xvcjogd2hpdGU7Jz48aDQgc3R5bGU9J3RleHQtYWxpZ246Y2VudGVyOyBmb250LXdlaWdodDogYm9sZCc+Qm9zbmlhIGFuZCBIZXJ6ZWdvdmluYTwvaDQ+PGhyIHN0eWxlPSdtYXJnaW46MTBweDsgY29sb3I6IHdoaXRlOyc+PHVsIHN0eWxlPSdjb2xvcjogd2hpdGU7O2xpc3Qtc3R5bGUtdHlwZTogY2lyY2xlOyBhbGlnbi1pdGVtOiBsZWZ0OyBwYWRkaW5nLWxlZnQ6IDIwcHg7IHBhZGRpbmctcmlnaHQ6MjBweCc+PGxpPlRvdGFsIGNhc2VzOiA5NDYyPC9saT48bGk+RGVhdGhzOiAyNzQ8L2xpPjxsaT5EZWF0aCByYXRlIDogMi45JSA8L2xpPjwvdWw+PC9kaXY+CiAgICAgICAgICAgICAgICAgPC9kaXY+YCwKICAgICAgICAgICAgICAgIHsic3RpY2t5IjogdHJ1ZX0KICAgICAgICAgICAgKTsKICAgICAgICAKICAgIAogICAgICAgICAgICB2YXIgY2lyY2xlXzY1MzI2Mjc5ZTliZDRhMTQ5ODFlZTAyZDlhYTg3N2M4ID0gTC5jaXJjbGUoCiAgICAgICAgICAgICAgICBbLTE0LjIzNSwgLTUxLjkyNTNdLAogICAgICAgICAgICAgICAgeyJidWJibGluZ01vdXNlRXZlbnRzIjogdHJ1ZSwgImNvbG9yIjogImNyaW1zb24iLCAiZGFzaEFycmF5IjogbnVsbCwgImRhc2hPZmZzZXQiOiBudWxsLCAiZmlsbCI6IHRydWUsICJmaWxsQ29sb3IiOiAiY3JpbXNvbiIsICJmaWxsT3BhY2l0eSI6IDAuMiwgImZpbGxSdWxlIjogImV2ZW5vZGQiLCAibGluZUNhcCI6ICJyb3VuZCIsICJsaW5lSm9pbiI6ICJyb3VuZCIsICJvcGFjaXR5IjogMS4wLCAicmFkaXVzIjogNzEwMDAwLjAsICJzdHJva2UiOiB0cnVlLCAid2VpZ2h0IjogM30KICAgICAgICAgICAgKS5hZGRUbyhtYXBfNTc1ZmFmMTIxNmNmNGE0YThlZTJhMzI4OTgzMGE5ZjYpOwogICAgICAgIAogICAgCiAgICAgICAgICAgIGNpcmNsZV82NTMyNjI3OWU5YmQ0YTE0OTgxZWUwMmQ5YWE4NzdjOC5iaW5kVG9vbHRpcCgKICAgICAgICAgICAgICAgIGA8ZGl2PgogICAgICAgICAgICAgICAgICAgICA8ZGl2IHN0eWxlPSdtYXJnaW46MDsgYmFja2dyb3VuZC1jb2xvcjogZmlyZWJyaWNrOyBjb2xvcjogd2hpdGU7Jz48aDQgc3R5bGU9J3RleHQtYWxpZ246Y2VudGVyOyBmb250LXdlaWdodDogYm9sZCc+QnJhemlsPC9oND48aHIgc3R5bGU9J21hcmdpbjoxMHB4OyBjb2xvcjogd2hpdGU7Jz48dWwgc3R5bGU9J2NvbG9yOiB3aGl0ZTs7bGlzdC1zdHlsZS10eXBlOiBjaXJjbGU7IGFsaWduLWl0ZW06IGxlZnQ7IHBhZGRpbmctbGVmdDogMjBweDsgcGFkZGluZy1yaWdodDoyMHB4Jz48bGk+VG90YWwgY2FzZXM6IDIyODc0NzU8L2xpPjxsaT5EZWF0aHM6IDg0MDgyPC9saT48bGk+RGVhdGggcmF0ZSA6IDMuNjglIDwvbGk+PC91bD48L2Rpdj4KICAgICAgICAgICAgICAgICA8L2Rpdj5gLAogICAgICAgICAgICAgICAgeyJzdGlja3kiOiB0cnVlfQogICAgICAgICAgICApOwogICAgICAgIAogICAgCiAgICAgICAgICAgIHZhciBjaXJjbGVfMTI5NTU1YzBkMDQ2NDUwMGI4ZjRiZmZlOTYxYjNmODggPSBMLmNpcmNsZSgKICAgICAgICAgICAgICAgIFs0LjUzNTMsIDExNC43Mjc3XSwKICAgICAgICAgICAgICAgIHsiYnViYmxpbmdNb3VzZUV2ZW50cyI6IHRydWUsICJjb2xvciI6ICJjcmltc29uIiwgImRhc2hBcnJheSI6IG51bGwsICJkYXNoT2Zmc2V0IjogbnVsbCwgImZpbGwiOiB0cnVlLCAiZmlsbENvbG9yIjogImNyaW1zb24iLCAiZmlsbE9wYWNpdHkiOiAwLjIsICJmaWxsUnVsZSI6ICJldmVub2RkIiwgImxpbmVDYXAiOiAicm91bmQiLCAibGluZUpvaW4iOiAicm91bmQiLCAib3BhY2l0eSI6IDEuMCwgInJhZGl1cyI6IDIxMDAwMC4wLCAic3Ryb2tlIjogdHJ1ZSwgIndlaWdodCI6IDN9CiAgICAgICAgICAgICkuYWRkVG8obWFwXzU3NWZhZjEyMTZjZjRhNGE4ZWUyYTMyODk4MzBhOWY2KTsKICAgICAgICAKICAgIAogICAgICAgICAgICBjaXJjbGVfMTI5NTU1YzBkMDQ2NDUwMGI4ZjRiZmZlOTYxYjNmODguYmluZFRvb2x0aXAoCiAgICAgICAgICAgICAgICBgPGRpdj4KICAgICAgICAgICAgICAgICAgICAgPGRpdiBzdHlsZT0nbWFyZ2luOjA7IGJhY2tncm91bmQtY29sb3I6IGZpcmVicmljazsgY29sb3I6IHdoaXRlOyc+PGg0IHN0eWxlPSd0ZXh0LWFsaWduOmNlbnRlcjsgZm9udC13ZWlnaHQ6IGJvbGQnPkJydW5laTwvaDQ+PGhyIHN0eWxlPSdtYXJnaW46MTBweDsgY29sb3I6IHdoaXRlOyc+PHVsIHN0eWxlPSdjb2xvcjogd2hpdGU7O2xpc3Qtc3R5bGUtdHlwZTogY2lyY2xlOyBhbGlnbi1pdGVtOiBsZWZ0OyBwYWRkaW5nLWxlZnQ6IDIwcHg7IHBhZGRpbmctcmlnaHQ6MjBweCc+PGxpPlRvdGFsIGNhc2VzOiAxNDE8L2xpPjxsaT5EZWF0aHM6IDM8L2xpPjxsaT5EZWF0aCByYXRlIDogMi4xMSUgPC9saT48L3VsPjwvZGl2PgogICAgICAgICAgICAgICAgIDwvZGl2PmAsCiAgICAgICAgICAgICAgICB7InN0aWNreSI6IHRydWV9CiAgICAgICAgICAgICk7CiAgICAgICAgCiAgICAKICAgICAgICAgICAgdmFyIGNpcmNsZV81YTNkMzhlNDI2MTM0Y2IzODg4NTM4NmQzZjJiZjU4YSA9IEwuY2lyY2xlKAogICAgICAgICAgICAgICAgWzQyLjczMzksIDI1LjQ4NThdLAogICAgICAgICAgICAgICAgeyJidWJibGluZ01vdXNlRXZlbnRzIjogdHJ1ZSwgImNvbG9yIjogImNyaW1zb24iLCAiZGFzaEFycmF5IjogbnVsbCwgImRhc2hPZmZzZXQiOiBudWxsLCAiZmlsbCI6IHRydWUsICJmaWxsQ29sb3IiOiAiY3JpbXNvbiIsICJmaWxsT3BhY2l0eSI6IDAuMiwgImZpbGxSdWxlIjogImV2ZW5vZGQiLCAibGluZUNhcCI6ICJyb3VuZCIsICJsaW5lSm9pbiI6ICJyb3VuZCIsICJvcGFjaXR5IjogMS4wLCAicmFkaXVzIjogNDU5OTk5Ljk5OTk5OTk5OTk0LCAic3Ryb2tlIjogdHJ1ZSwgIndlaWdodCI6IDN9CiAgICAgICAgICAgICkuYWRkVG8obWFwXzU3NWZhZjEyMTZjZjRhNGE4ZWUyYTMyODk4MzBhOWY2KTsKICAgICAgICAKICAgIAogICAgICAgICAgICBjaXJjbGVfNWEzZDM4ZTQyNjEzNGNiMzg4ODUzODZkM2YyYmY1OGEuYmluZFRvb2x0aXAoCiAgICAgICAgICAgICAgICBgPGRpdj4KICAgICAgICAgICAgICAgICAgICAgPGRpdiBzdHlsZT0nbWFyZ2luOjA7IGJhY2tncm91bmQtY29sb3I6IGZpcmVicmljazsgY29sb3I6IHdoaXRlOyc+PGg0IHN0eWxlPSd0ZXh0LWFsaWduOmNlbnRlcjsgZm9udC13ZWlnaHQ6IGJvbGQnPkJ1bGdhcmlhPC9oND48aHIgc3R5bGU9J21hcmdpbjoxMHB4OyBjb2xvcjogd2hpdGU7Jz48dWwgc3R5bGU9J2NvbG9yOiB3aGl0ZTs7bGlzdC1zdHlsZS10eXBlOiBjaXJjbGU7IGFsaWduLWl0ZW06IGxlZnQ7IHBhZGRpbmctbGVmdDogMjBweDsgcGFkZGluZy1yaWdodDoyMHB4Jz48bGk+VG90YWwgY2FzZXM6IDk4NTM8L2xpPjxsaT5EZWF0aHM6IDMyOTwvbGk+PGxpPkRlYXRoIHJhdGUgOiAzLjM0JSA8L2xpPjwvdWw+PC9kaXY+CiAgICAgICAgICAgICAgICAgPC9kaXY+YCwKICAgICAgICAgICAgICAgIHsic3RpY2t5IjogdHJ1ZX0KICAgICAgICAgICAgKTsKICAgICAgICAKICAgIAogICAgICAgICAgICB2YXIgY2lyY2xlXzJmN2ZmYjE2Y2JlYTQ5ODVhMzY5ZjA1YjJmNWJhMTFlID0gTC5jaXJjbGUoCiAgICAgICAgICAgICAgICBbMTIuMjM4MywgLTEuNTYxNl0sCiAgICAgICAgICAgICAgICB7ImJ1YmJsaW5nTW91c2VFdmVudHMiOiB0cnVlLCAiY29sb3IiOiAiY3JpbXNvbiIsICJkYXNoQXJyYXkiOiBudWxsLCAiZGFzaE9mZnNldCI6IG51bGwsICJmaWxsIjogdHJ1ZSwgImZpbGxDb2xvciI6ICJjcmltc29uIiwgImZpbGxPcGFjaXR5IjogMC4yLCAiZmlsbFJ1bGUiOiAiZXZlbm9kZCIsICJsaW5lQ2FwIjogInJvdW5kIiwgImxpbmVKb2luIjogInJvdW5kIiwgIm9wYWNpdHkiOiAxLjAsICJyYWRpdXMiOiAzMTAwMDAuMCwgInN0cm9rZSI6IHRydWUsICJ3ZWlnaHQiOiAzfQogICAgICAgICAgICApLmFkZFRvKG1hcF81NzVmYWYxMjE2Y2Y0YTRhOGVlMmEzMjg5ODMwYTlmNik7CiAgICAgICAgCiAgICAKICAgICAgICAgICAgY2lyY2xlXzJmN2ZmYjE2Y2JlYTQ5ODVhMzY5ZjA1YjJmNWJhMTFlLmJpbmRUb29sdGlwKAogICAgICAgICAgICAgICAgYDxkaXY+CiAgICAgICAgICAgICAgICAgICAgIDxkaXYgc3R5bGU9J21hcmdpbjowOyBiYWNrZ3JvdW5kLWNvbG9yOiBmaXJlYnJpY2s7IGNvbG9yOiB3aGl0ZTsnPjxoNCBzdHlsZT0ndGV4dC1hbGlnbjpjZW50ZXI7IGZvbnQtd2VpZ2h0OiBib2xkJz5CdXJraW5hIEZhc288L2g0PjxociBzdHlsZT0nbWFyZ2luOjEwcHg7IGNvbG9yOiB3aGl0ZTsnPjx1bCBzdHlsZT0nY29sb3I6IHdoaXRlOztsaXN0LXN0eWxlLXR5cGU6IGNpcmNsZTsgYWxpZ24taXRlbTogbGVmdDsgcGFkZGluZy1sZWZ0OiAyMHB4OyBwYWRkaW5nLXJpZ2h0OjIwcHgnPjxsaT5Ub3RhbCBjYXNlczogMTA3MDwvbGk+PGxpPkRlYXRoczogNTM8L2xpPjxsaT5EZWF0aCByYXRlIDogNC45NSUgPC9saT48L3VsPjwvZGl2PgogICAgICAgICAgICAgICAgIDwvZGl2PmAsCiAgICAgICAgICAgICAgICB7InN0aWNreSI6IHRydWV9CiAgICAgICAgICAgICk7CiAgICAgICAgCiAgICAKICAgICAgICAgICAgdmFyIGNpcmNsZV81YzIxYjAxOGJiZmY0NzY5YTVkOWY4YzUwOGIyZGI2ZCA9IEwuY2lyY2xlKAogICAgICAgICAgICAgICAgWzE2LjUzODgsIC0yMy4wNDE4XSwKICAgICAgICAgICAgICAgIHsiYnViYmxpbmdNb3VzZUV2ZW50cyI6IHRydWUsICJjb2xvciI6ICJjcmltc29uIiwgImRhc2hBcnJheSI6IG51bGwsICJkYXNoT2Zmc2V0IjogbnVsbCwgImZpbGwiOiB0cnVlLCAiZmlsbENvbG9yIjogImNyaW1zb24iLCAiZmlsbE9wYWNpdHkiOiAwLjIsICJmaWxsUnVsZSI6ICJldmVub2RkIiwgImxpbmVDYXAiOiAicm91bmQiLCAibGluZUpvaW4iOiAicm91bmQiLCAib3BhY2l0eSI6IDEuMCwgInJhZGl1cyI6IDM2MDAwMC4wLCAic3Ryb2tlIjogdHJ1ZSwgIndlaWdodCI6IDN9CiAgICAgICAgICAgICkuYWRkVG8obWFwXzU3NWZhZjEyMTZjZjRhNGE4ZWUyYTMyODk4MzBhOWY2KTsKICAgICAgICAKICAgIAogICAgICAgICAgICBjaXJjbGVfNWMyMWIwMThiYmZmNDc2OWE1ZDlmOGM1MDhiMmRiNmQuYmluZFRvb2x0aXAoCiAgICAgICAgICAgICAgICBgPGRpdj4KICAgICAgICAgICAgICAgICAgICAgPGRpdiBzdHlsZT0nbWFyZ2luOjA7IGJhY2tncm91bmQtY29sb3I6IGZpcmVicmljazsgY29sb3I6IHdoaXRlOyc+PGg0IHN0eWxlPSd0ZXh0LWFsaWduOmNlbnRlcjsgZm9udC13ZWlnaHQ6IGJvbGQnPkNhYm8gVmVyZGU8L2g0PjxociBzdHlsZT0nbWFyZ2luOjEwcHg7IGNvbG9yOiB3aGl0ZTsnPjx1bCBzdHlsZT0nY29sb3I6IHdoaXRlOztsaXN0LXN0eWxlLXR5cGU6IGNpcmNsZTsgYWxpZ24taXRlbTogbGVmdDsgcGFkZGluZy1sZWZ0OiAyMHB4OyBwYWRkaW5nLXJpZ2h0OjIwcHgnPjxsaT5Ub3RhbCBjYXNlczogMjE5MDwvbGk+PGxpPkRlYXRoczogMjE8L2xpPjxsaT5EZWF0aCByYXRlIDogMC45NiUgPC9saT48L3VsPjwvZGl2PgogICAgICAgICAgICAgICAgIDwvZGl2PmAsCiAgICAgICAgICAgICAgICB7InN0aWNreSI6IHRydWV9CiAgICAgICAgICAgICk7CiAgICAgICAgCiAgICAKICAgICAgICAgICAgdmFyIGNpcmNsZV9iN2EzZmQ5YmUwOTA0ZGQ1OWI0ZTgzY2E5NDg4ODZkZiA9IEwuY2lyY2xlKAogICAgICAgICAgICAgICAgWzExLjU1LCAxMDQuOTE2N10sCiAgICAgICAgICAgICAgICB7ImJ1YmJsaW5nTW91c2VFdmVudHMiOiB0cnVlLCAiY29sb3IiOiAiY3JpbXNvbiIsICJkYXNoQXJyYXkiOiBudWxsLCAiZGFzaE9mZnNldCI6IG51bGwsICJmaWxsIjogdHJ1ZSwgImZpbGxDb2xvciI6ICJjcmltc29uIiwgImZpbGxPcGFjaXR5IjogMC4yLCAiZmlsbFJ1bGUiOiAiZXZlbm9kZCIsICJsaW5lQ2FwIjogInJvdW5kIiwgImxpbmVKb2luIjogInJvdW5kIiwgIm9wYWNpdHkiOiAxLjAsICJyYWRpdXMiOiAyNjAwMDAuMCwgInN0cm9rZSI6IHRydWUsICJ3ZWlnaHQiOiAzfQogICAgICAgICAgICApLmFkZFRvKG1hcF81NzVmYWYxMjE2Y2Y0YTRhOGVlMmEzMjg5ODMwYTlmNik7CiAgICAgICAgCiAgICAKICAgICAgICAgICAgY2lyY2xlX2I3YTNmZDliZTA5MDRkZDU5YjRlODNjYTk0ODg4NmRmLmJpbmRUb29sdGlwKAogICAgICAgICAgICAgICAgYDxkaXY+CiAgICAgICAgICAgICAgICAgICAgIDxkaXYgc3R5bGU9J21hcmdpbjowOyBiYWNrZ3JvdW5kLWNvbG9yOiBmaXJlYnJpY2s7IGNvbG9yOiB3aGl0ZTsnPjxoNCBzdHlsZT0ndGV4dC1hbGlnbjpjZW50ZXI7IGZvbnQtd2VpZ2h0OiBib2xkJz5DYW1ib2RpYTwvaDQ+PGhyIHN0eWxlPSdtYXJnaW46MTBweDsgY29sb3I6IHdoaXRlOyc+PHVsIHN0eWxlPSdjb2xvcjogd2hpdGU7O2xpc3Qtc3R5bGUtdHlwZTogY2lyY2xlOyBhbGlnbi1pdGVtOiBsZWZ0OyBwYWRkaW5nLWxlZnQ6IDIwcHg7IHBhZGRpbmctcmlnaHQ6MjBweCc+PGxpPlRvdGFsIGNhc2VzOiAyMDI8L2xpPjxsaT5EZWF0aHM6IDA8L2xpPjxsaT5EZWF0aCByYXRlIDogMC4wJSA8L2xpPjwvdWw+PC9kaXY+CiAgICAgICAgICAgICAgICAgPC9kaXY+YCwKICAgICAgICAgICAgICAgIHsic3RpY2t5IjogdHJ1ZX0KICAgICAgICAgICAgKTsKICAgICAgICAKICAgIAogICAgICAgICAgICB2YXIgY2lyY2xlX2UzMTMyNTM5ZjUyMjRjOWI4MjY5NjQ5MmUwMjAxZTFjID0gTC5jaXJjbGUoCiAgICAgICAgICAgICAgICBbMy44NDgwMDAwMDAwMDAwMDAzLCAxMS41MDIxXSwKICAgICAgICAgICAgICAgIHsiYnViYmxpbmdNb3VzZUV2ZW50cyI6IHRydWUsICJjb2xvciI6ICJjcmltc29uIiwgImRhc2hBcnJheSI6IG51bGwsICJkYXNoT2Zmc2V0IjogbnVsbCwgImZpbGwiOiB0cnVlLCAiZmlsbENvbG9yIjogImNyaW1zb24iLCAiZmlsbE9wYWNpdHkiOiAwLjIsICJmaWxsUnVsZSI6ICJldmVub2RkIiwgImxpbmVDYXAiOiAicm91bmQiLCAibGluZUpvaW4iOiAicm91bmQiLCAib3BhY2l0eSI6IDEuMCwgInJhZGl1cyI6IDQ1OTk5OS45OTk5OTk5OTk5NCwgInN0cm9rZSI6IHRydWUsICJ3ZWlnaHQiOiAzfQogICAgICAgICAgICApLmFkZFRvKG1hcF81NzVmYWYxMjE2Y2Y0YTRhOGVlMmEzMjg5ODMwYTlmNik7CiAgICAgICAgCiAgICAKICAgICAgICAgICAgY2lyY2xlX2UzMTMyNTM5ZjUyMjRjOWI4MjY5NjQ5MmUwMjAxZTFjLmJpbmRUb29sdGlwKAogICAgICAgICAgICAgICAgYDxkaXY+CiAgICAgICAgICAgICAgICAgICAgIDxkaXYgc3R5bGU9J21hcmdpbjowOyBiYWNrZ3JvdW5kLWNvbG9yOiBmaXJlYnJpY2s7IGNvbG9yOiB3aGl0ZTsnPjxoNCBzdHlsZT0ndGV4dC1hbGlnbjpjZW50ZXI7IGZvbnQtd2VpZ2h0OiBib2xkJz5DYW1lcm9vbjwvaDQ+PGhyIHN0eWxlPSdtYXJnaW46MTBweDsgY29sb3I6IHdoaXRlOyc+PHVsIHN0eWxlPSdjb2xvcjogd2hpdGU7O2xpc3Qtc3R5bGUtdHlwZTogY2lyY2xlOyBhbGlnbi1pdGVtOiBsZWZ0OyBwYWRkaW5nLWxlZnQ6IDIwcHg7IHBhZGRpbmctcmlnaHQ6MjBweCc+PGxpPlRvdGFsIGNhc2VzOiAxNjUyMjwvbGk+PGxpPkRlYXRoczogMzgyPC9saT48bGk+RGVhdGggcmF0ZSA6IDIuMzElIDwvbGk+PC91bD48L2Rpdj4KICAgICAgICAgICAgICAgICA8L2Rpdj5gLAogICAgICAgICAgICAgICAgeyJzdGlja3kiOiB0cnVlfQogICAgICAgICAgICApOwogICAgICAgIAogICAgCiAgICAgICAgICAgIHZhciBjaXJjbGVfZDg3ZTVhN2Y5MGYzNDczZWIyNTVmNzA5Njc3YjE2MDMgPSBMLmNpcmNsZSgKICAgICAgICAgICAgICAgIFs1My45MzMzLCAtMTE2LjU3NjVdLAogICAgICAgICAgICAgICAgeyJidWJibGluZ01vdXNlRXZlbnRzIjogdHJ1ZSwgImNvbG9yIjogImNyaW1zb24iLCAiZGFzaEFycmF5IjogbnVsbCwgImRhc2hPZmZzZXQiOiBudWxsLCAiZmlsbCI6IHRydWUsICJmaWxsQ29sb3IiOiAiY3JpbXNvbiIsICJmaWxsT3BhY2l0eSI6IDAuMiwgImZpbGxSdWxlIjogImV2ZW5vZGQiLCAibGluZUNhcCI6ICJyb3VuZCIsICJsaW5lSm9pbiI6ICJyb3VuZCIsICJvcGFjaXR5IjogMS4wLCAicmFkaXVzIjogNDU5OTk5Ljk5OTk5OTk5OTk0LCAic3Ryb2tlIjogdHJ1ZSwgIndlaWdodCI6IDN9CiAgICAgICAgICAgICkuYWRkVG8obWFwXzU3NWZhZjEyMTZjZjRhNGE4ZWUyYTMyODk4MzBhOWY2KTsKICAgICAgICAKICAgIAogICAgICAgICAgICBjaXJjbGVfZDg3ZTVhN2Y5MGYzNDczZWIyNTVmNzA5Njc3YjE2MDMuYmluZFRvb2x0aXAoCiAgICAgICAgICAgICAgICBgPGRpdj4KICAgICAgICAgICAgICAgICAgICAgPGRpdiBzdHlsZT0nbWFyZ2luOjA7IGJhY2tncm91bmQtY29sb3I6IGZpcmVicmljazsgY29sb3I6IHdoaXRlOyc+PGg0IHN0eWxlPSd0ZXh0LWFsaWduOmNlbnRlcjsgZm9udC13ZWlnaHQ6IGJvbGQnPkNhbmFkYTwvaDQ+PGhyIHN0eWxlPSdtYXJnaW46MTBweDsgY29sb3I6IHdoaXRlOyc+PHVsIHN0eWxlPSdjb2xvcjogd2hpdGU7O2xpc3Qtc3R5bGUtdHlwZTogY2lyY2xlOyBhbGlnbi1pdGVtOiBsZWZ0OyBwYWRkaW5nLWxlZnQ6IDIwcHg7IHBhZGRpbmctcmlnaHQ6MjBweCc+PGxpPlRvdGFsIGNhc2VzOiA5OTc1PC9saT48bGk+RGVhdGhzOiAxNzY8L2xpPjxsaT5EZWF0aCByYXRlIDogMS43NiUgPC9saT48L3VsPjwvZGl2PgogICAgICAgICAgICAgICAgIDwvZGl2PmAsCiAgICAgICAgICAgICAgICB7InN0aWNreSI6IHRydWV9CiAgICAgICAgICAgICk7CiAgICAgICAgCiAgICAKICAgICAgICAgICAgdmFyIGNpcmNsZV8yOGQ2MjViMGFiMDA0NDkxYTBlYjM2NjI0ZDc2YjFmNiA9IEwuY2lyY2xlKAogICAgICAgICAgICAgICAgWzUzLjcyNjcsIC0xMjcuNjQ3Nl0sCiAgICAgICAgICAgICAgICB7ImJ1YmJsaW5nTW91c2VFdmVudHMiOiB0cnVlLCAiY29sb3IiOiAiY3JpbXNvbiIsICJkYXNoQXJyYXkiOiBudWxsLCAiZGFzaE9mZnNldCI6IG51bGwsICJmaWxsIjogdHJ1ZSwgImZpbGxDb2xvciI6ICJjcmltc29uIiwgImZpbGxPcGFjaXR5IjogMC4yLCAiZmlsbFJ1bGUiOiAiZXZlbm9kZCIsICJsaW5lQ2FwIjogInJvdW5kIiwgImxpbmVKb2luIjogInJvdW5kIiwgIm9wYWNpdHkiOiAxLjAsICJyYWRpdXMiOiA0MDk5OTkuOTk5OTk5OTk5OTQsICJzdHJva2UiOiB0cnVlLCAid2VpZ2h0IjogM30KICAgICAgICAgICAgKS5hZGRUbyhtYXBfNTc1ZmFmMTIxNmNmNGE0YThlZTJhMzI4OTgzMGE5ZjYpOwogICAgICAgIAogICAgCiAgICAgICAgICAgIGNpcmNsZV8yOGQ2MjViMGFiMDA0NDkxYTBlYjM2NjI0ZDc2YjFmNi5iaW5kVG9vbHRpcCgKICAgICAgICAgICAgICAgIGA8ZGl2PgogICAgICAgICAgICAgICAgICAgICA8ZGl2IHN0eWxlPSdtYXJnaW46MDsgYmFja2dyb3VuZC1jb2xvcjogZmlyZWJyaWNrOyBjb2xvcjogd2hpdGU7Jz48aDQgc3R5bGU9J3RleHQtYWxpZ246Y2VudGVyOyBmb250LXdlaWdodDogYm9sZCc+Q2FuYWRhPC9oND48aHIgc3R5bGU9J21hcmdpbjoxMHB4OyBjb2xvcjogd2hpdGU7Jz48dWwgc3R5bGU9J2NvbG9yOiB3aGl0ZTs7bGlzdC1zdHlsZS10eXBlOiBjaXJjbGU7IGFsaWduLWl0ZW06IGxlZnQ7IHBhZGRpbmctbGVmdDogMjBweDsgcGFkZGluZy1yaWdodDoyMHB4Jz48bGk+VG90YWwgY2FzZXM6IDMzOTI8L2xpPjxsaT5EZWF0aHM6IDE5MDwvbGk+PGxpPkRlYXRoIHJhdGUgOiA1LjYlIDwvbGk+PC91bD48L2Rpdj4KICAgICAgICAgICAgICAgICA8L2Rpdj5gLAogICAgICAgICAgICAgICAgeyJzdGlja3kiOiB0cnVlfQogICAgICAgICAgICApOwogICAgICAgIAogICAgCiAgICAgICAgICAgIHZhciBjaXJjbGVfZmI1YzNkOTcxYTEwNDk4Y2JkY2RmYTIyYjI5MmY2NTIgPSBMLmNpcmNsZSgKICAgICAgICAgICAgICAgIFswLjAsIDAuMF0sCiAgICAgICAgICAgICAgICB7ImJ1YmJsaW5nTW91c2VFdmVudHMiOiB0cnVlLCAiY29sb3IiOiAiY3JpbXNvbiIsICJkYXNoQXJyYXkiOiBudWxsLCAiZGFzaE9mZnNldCI6IG51bGwsICJmaWxsIjogdHJ1ZSwgImZpbGxDb2xvciI6ICJjcmltc29uIiwgImZpbGxPcGFjaXR5IjogMC4yLCAiZmlsbFJ1bGUiOiAiZXZlbm9kZCIsICJsaW5lQ2FwIjogInJvdW5kIiwgImxpbmVKb2luIjogInJvdW5kIiwgIm9wYWNpdHkiOiAxLjAsICJyYWRpdXMiOiAxMTAwMDAuMDAwMDAwMDAwMDEsICJzdHJva2UiOiB0cnVlLCAid2VpZ2h0IjogM30KICAgICAgICAgICAgKS5hZGRUbyhtYXBfNTc1ZmFmMTIxNmNmNGE0YThlZTJhMzI4OTgzMGE5ZjYpOwogICAgICAgIAogICAgCiAgICAgICAgICAgIGNpcmNsZV9mYjVjM2Q5NzFhMTA0OThjYmRjZGZhMjJiMjkyZjY1Mi5iaW5kVG9vbHRpcCgKICAgICAgICAgICAgICAgIGA8ZGl2PgogICAgICAgICAgICAgICAgICAgICA8ZGl2IHN0eWxlPSdtYXJnaW46MDsgYmFja2dyb3VuZC1jb2xvcjogZmlyZWJyaWNrOyBjb2xvcjogd2hpdGU7Jz48aDQgc3R5bGU9J3RleHQtYWxpZ246Y2VudGVyOyBmb250LXdlaWdodDogYm9sZCc+Q2FuYWRhPC9oND48aHIgc3R5bGU9J21hcmdpbjoxMHB4OyBjb2xvcjogd2hpdGU7Jz48dWwgc3R5bGU9J2NvbG9yOiB3aGl0ZTs7bGlzdC1zdHlsZS10eXBlOiBjaXJjbGU7IGFsaWduLWl0ZW06IGxlZnQ7IHBhZGRpbmctbGVmdDogMjBweDsgcGFkZGluZy1yaWdodDoyMHB4Jz48bGk+VG90YWwgY2FzZXM6IDEzPC9saT48bGk+RGVhdGhzOiAwPC9saT48bGk+RGVhdGggcmF0ZSA6IDAuMCUgPC9saT48L3VsPjwvZGl2PgogICAgICAgICAgICAgICAgIDwvZGl2PmAsCiAgICAgICAgICAgICAgICB7InN0aWNreSI6IHRydWV9CiAgICAgICAgICAgICk7CiAgICAgICAgCiAgICAKICAgICAgICAgICAgdmFyIGNpcmNsZV81MzhlNWZiYjkzNzU0ODYwOGMyNWZjYjBjMGUwMzk3ZCA9IEwuY2lyY2xlKAogICAgICAgICAgICAgICAgWzUzLjc2MDksIC05OC44MTM5XSwKICAgICAgICAgICAgICAgIHsiYnViYmxpbmdNb3VzZUV2ZW50cyI6IHRydWUsICJjb2xvciI6ICJjcmltc29uIiwgImRhc2hBcnJheSI6IG51bGwsICJkYXNoT2Zmc2V0IjogbnVsbCwgImZpbGwiOiB0cnVlLCAiZmlsbENvbG9yIjogImNyaW1zb24iLCAiZmlsbE9wYWNpdHkiOiAwLjIsICJmaWxsUnVsZSI6ICJldmVub2RkIiwgImxpbmVDYXAiOiAicm91bmQiLCAibGluZUpvaW4iOiAicm91bmQiLCAib3BhY2l0eSI6IDEuMCwgInJhZGl1cyI6IDI2MDAwMC4wLCAic3Ryb2tlIjogdHJ1ZSwgIndlaWdodCI6IDN9CiAgICAgICAgICAgICkuYWRkVG8obWFwXzU3NWZhZjEyMTZjZjRhNGE4ZWUyYTMyODk4MzBhOWY2KTsKICAgICAgICAKICAgIAogICAgICAgICAgICBjaXJjbGVfNTM4ZTVmYmI5Mzc1NDg2MDhjMjVmY2IwYzBlMDM5N2QuYmluZFRvb2x0aXAoCiAgICAgICAgICAgICAgICBgPGRpdj4KICAgICAgICAgICAgICAgICAgICAgPGRpdiBzdHlsZT0nbWFyZ2luOjA7IGJhY2tncm91bmQtY29sb3I6IGZpcmVicmljazsgY29sb3I6IHdoaXRlOyc+PGg0IHN0eWxlPSd0ZXh0LWFsaWduOmNlbnRlcjsgZm9udC13ZWlnaHQ6IGJvbGQnPkNhbmFkYTwvaDQ+PGhyIHN0eWxlPSdtYXJnaW46MTBweDsgY29sb3I6IHdoaXRlOyc+PHVsIHN0eWxlPSdjb2xvcjogd2hpdGU7O2xpc3Qtc3R5bGUtdHlwZTogY2lyY2xlOyBhbGlnbi1pdGVtOiBsZWZ0OyBwYWRkaW5nLWxlZnQ6IDIwcHg7IHBhZGRpbmctcmlnaHQ6MjBweCc+PGxpPlRvdGFsIGNhc2VzOiAzNzU8L2xpPjxsaT5EZWF0aHM6IDc8L2xpPjxsaT5EZWF0aCByYXRlIDogMS44NiUgPC9saT48L3VsPjwvZGl2PgogICAgICAgICAgICAgICAgIDwvZGl2PmAsCiAgICAgICAgICAgICAgICB7InN0aWNreSI6IHRydWV9CiAgICAgICAgICAgICk7CiAgICAgICAgCiAgICAKICAgICAgICAgICAgdmFyIGNpcmNsZV9hN2FiZmE1NDhlY2Y0Mjg1OGNmOTQ5ZWU2NTQ4MTQ2NSA9IEwuY2lyY2xlKAogICAgICAgICAgICAgICAgWzQ2LjU2NTMsIC02Ni40NjE5XSwKICAgICAgICAgICAgICAgIHsiYnViYmxpbmdNb3VzZUV2ZW50cyI6IHRydWUsICJjb2xvciI6ICJjcmltc29uIiwgImRhc2hBcnJheSI6IG51bGwsICJkYXNoT2Zmc2V0IjogbnVsbCwgImZpbGwiOiB0cnVlLCAiZmlsbENvbG9yIjogImNyaW1zb24iLCAiZmlsbE9wYWNpdHkiOiAwLjIsICJmaWxsUnVsZSI6ICJldmVub2RkIiwgImxpbmVDYXAiOiAicm91bmQiLCAibGluZUpvaW4iOiAicm91bmQiLCAib3BhY2l0eSI6IDEuMCwgInJhZGl1cyI6IDI2MDAwMC4wLCAic3Ryb2tlIjogdHJ1ZSwgIndlaWdodCI6IDN9CiAgICAgICAgICAgICkuYWRkVG8obWFwXzU3NWZhZjEyMTZjZjRhNGE4ZWUyYTMyODk4MzBhOWY2KTsKICAgICAgICAKICAgIAogICAgICAgICAgICBjaXJjbGVfYTdhYmZhNTQ4ZWNmNDI4NThjZjk0OWVlNjU0ODE0NjUuYmluZFRvb2x0aXAoCiAgICAgICAgICAgICAgICBgPGRpdj4KICAgICAgICAgICAgICAgICAgICAgPGRpdiBzdHlsZT0nbWFyZ2luOjA7IGJhY2tncm91bmQtY29sb3I6IGZpcmVicmljazsgY29sb3I6IHdoaXRlOyc+PGg0IHN0eWxlPSd0ZXh0LWFsaWduOmNlbnRlcjsgZm9udC13ZWlnaHQ6IGJvbGQnPkNhbmFkYTwvaDQ+PGhyIHN0eWxlPSdtYXJnaW46MTBweDsgY29sb3I6IHdoaXRlOyc+PHVsIHN0eWxlPSdjb2xvcjogd2hpdGU7O2xpc3Qtc3R5bGUtdHlwZTogY2lyY2xlOyBhbGlnbi1pdGVtOiBsZWZ0OyBwYWRkaW5nLWxlZnQ6IDIwcHg7IHBhZGRpbmctcmlnaHQ6MjBweCc+PGxpPlRvdGFsIGNhc2VzOiAxNzA8L2xpPjxsaT5EZWF0aHM6IDI8L2xpPjxsaT5EZWF0aCByYXRlIDogMS4xNyUgPC9saT48L3VsPjwvZGl2PgogICAgICAgICAgICAgICAgIDwvZGl2PmAsCiAgICAgICAgICAgICAgICB7InN0aWNreSI6IHRydWV9CiAgICAgICAgICAgICk7CiAgICAgICAgCiAgICAKICAgICAgICAgICAgdmFyIGNpcmNsZV9kOTAwOWFjYjY0ZjE0YzU1YWRkZWFjYmQyMTBiMThkNSA9IEwuY2lyY2xlKAogICAgICAgICAgICAgICAgWzUzLjEzNTUsIC01Ny42NjA0XSwKICAgICAgICAgICAgICAgIHsiYnViYmxpbmdNb3VzZUV2ZW50cyI6IHRydWUsICJjb2xvciI6ICJjcmltc29uIiwgImRhc2hBcnJheSI6IG51bGwsICJkYXNoT2Zmc2V0IjogbnVsbCwgImZpbGwiOiB0cnVlLCAiZmlsbENvbG9yIjogImNyaW1zb24iLCAiZmlsbE9wYWNpdHkiOiAwLjIsICJmaWxsUnVsZSI6ICJldmVub2RkIiwgImxpbmVDYXAiOiAicm91bmQiLCAibGluZUpvaW4iOiAicm91bmQiLCAib3BhY2l0eSI6IDEuMCwgInJhZGl1cyI6IDI2MDAwMC4wLCAic3Ryb2tlIjogdHJ1ZSwgIndlaWdodCI6IDN9CiAgICAgICAgICAgICkuYWRkVG8obWFwXzU3NWZhZjEyMTZjZjRhNGE4ZWUyYTMyODk4MzBhOWY2KTsKICAgICAgICAKICAgIAogICAgICAgICAgICBjaXJjbGVfZDkwMDlhY2I2NGYxNGM1NWFkZGVhY2JkMjEwYjE4ZDUuYmluZFRvb2x0aXAoCiAgICAgICAgICAgICAgICBgPGRpdj4KICAgICAgICAgICAgICAgICAgICAgPGRpdiBzdHlsZT0nbWFyZ2luOjA7IGJhY2tncm91bmQtY29sb3I6IGZpcmVicmljazsgY29sb3I6IHdoaXRlOyc+PGg0IHN0eWxlPSd0ZXh0LWFsaWduOmNlbnRlcjsgZm9udC13ZWlnaHQ6IGJvbGQnPkNhbmFkYTwvaDQ+PGhyIHN0eWxlPSdtYXJnaW46MTBweDsgY29sb3I6IHdoaXRlOyc+PHVsIHN0eWxlPSdjb2xvcjogd2hpdGU7O2xpc3Qtc3R5bGUtdHlwZTogY2lyY2xlOyBhbGlnbi1pdGVtOiBsZWZ0OyBwYWRkaW5nLWxlZnQ6IDIwcHg7IHBhZGRpbmctcmlnaHQ6MjBweCc+PGxpPlRvdGFsIGNhc2VzOiAyNjQ8L2xpPjxsaT5EZWF0aHM6IDM8L2xpPjxsaT5EZWF0aCByYXRlIDogMS4xMyUgPC9saT48L3VsPjwvZGl2PgogICAgICAgICAgICAgICAgIDwvZGl2PmAsCiAgICAgICAgICAgICAgICB7InN0aWNreSI6IHRydWV9CiAgICAgICAgICAgICk7CiAgICAgICAgCiAgICAKICAgICAgICAgICAgdmFyIGNpcmNsZV9kOGIwZTg0YTQ5YWE0ZTYyOWRlMzU2MTg3ZTY5NzY5YSA9IEwuY2lyY2xlKAogICAgICAgICAgICAgICAgWzQ0LjY4MTk5OTk5OTk5OTk5NSwgLTYzLjc0NDNdLAogICAgICAgICAgICAgICAgeyJidWJibGluZ01vdXNlRXZlbnRzIjogdHJ1ZSwgImNvbG9yIjogImNyaW1zb24iLCAiZGFzaEFycmF5IjogbnVsbCwgImRhc2hPZmZzZXQiOiBudWxsLCAiZmlsbCI6IHRydWUsICJmaWxsQ29sb3IiOiAiY3JpbXNvbiIsICJmaWxsT3BhY2l0eSI6IDAuMiwgImZpbGxSdWxlIjogImV2ZW5vZGQiLCAibGluZUNhcCI6ICJyb3VuZCIsICJsaW5lSm9pbiI6ICJyb3VuZCIsICJvcGFjaXR5IjogMS4wLCAicmFkaXVzIjogMzEwMDAwLjAsICJzdHJva2UiOiB0cnVlLCAid2VpZ2h0IjogM30KICAgICAgICAgICAgKS5hZGRUbyhtYXBfNTc1ZmFmMTIxNmNmNGE0YThlZTJhMzI4OTgzMGE5ZjYpOwogICAgICAgIAogICAgCiAgICAgICAgICAgIGNpcmNsZV9kOGIwZTg0YTQ5YWE0ZTYyOWRlMzU2MTg3ZTY5NzY5YS5iaW5kVG9vbHRpcCgKICAgICAgICAgICAgICAgIGA8ZGl2PgogICAgICAgICAgICAgICAgICAgICA8ZGl2IHN0eWxlPSdtYXJnaW46MDsgYmFja2dyb3VuZC1jb2xvcjogZmlyZWJyaWNrOyBjb2xvcjogd2hpdGU7Jz48aDQgc3R5bGU9J3RleHQtYWxpZ246Y2VudGVyOyBmb250LXdlaWdodDogYm9sZCc+Q2FuYWRhPC9oND48aHIgc3R5bGU9J21hcmdpbjoxMHB4OyBjb2xvcjogd2hpdGU7Jz48dWwgc3R5bGU9J2NvbG9yOiB3aGl0ZTs7bGlzdC1zdHlsZS10eXBlOiBjaXJjbGU7IGFsaWduLWl0ZW06IGxlZnQ7IHBhZGRpbmctbGVmdDogMjBweDsgcGFkZGluZy1yaWdodDoyMHB4Jz48bGk+VG90YWwgY2FzZXM6IDEwNjc8L2xpPjxsaT5EZWF0aHM6IDYzPC9saT48bGk+RGVhdGggcmF0ZSA6IDUuOSUgPC9saT48L3VsPjwvZGl2PgogICAgICAgICAgICAgICAgIDwvZGl2PmAsCiAgICAgICAgICAgICAgICB7InN0aWNreSI6IHRydWV9CiAgICAgICAgICAgICk7CiAgICAgICAgCiAgICAKICAgICAgICAgICAgdmFyIGNpcmNsZV9hZjc2ZjgzYzA2Mzk0ZjNlOGU1YzU1ZWNjNGQ1YTMyMSA9IEwuY2lyY2xlKAogICAgICAgICAgICAgICAgWzUxLjI1MzgsIC04NS4zMjMyXSwKICAgICAgICAgICAgICAgIHsiYnViYmxpbmdNb3VzZUV2ZW50cyI6IHRydWUsICJjb2xvciI6ICJjcmltc29uIiwgImRhc2hBcnJheSI6IG51bGwsICJkYXNoT2Zmc2V0IjogbnVsbCwgImZpbGwiOiB0cnVlLCAiZmlsbENvbG9yIjogImNyaW1zb24iLCAiZmlsbE9wYWNpdHkiOiAwLjIsICJmaWxsUnVsZSI6ICJldmVub2RkIiwgImxpbmVDYXAiOiAicm91bmQiLCAibGluZUpvaW4iOiAicm91bmQiLCAib3BhY2l0eSI6IDEuMCwgInJhZGl1cyI6IDUwOTk5OS45OTk5OTk5OTk5NCwgInN0cm9rZSI6IHRydWUsICJ3ZWlnaHQiOiAzfQogICAgICAgICAgICApLmFkZFRvKG1hcF81NzVmYWYxMjE2Y2Y0YTRhOGVlMmEzMjg5ODMwYTlmNik7CiAgICAgICAgCiAgICAKICAgICAgICAgICAgY2lyY2xlX2FmNzZmODNjMDYzOTRmM2U4ZTVjNTVlY2M0ZDVhMzIxLmJpbmRUb29sdGlwKAogICAgICAgICAgICAgICAgYDxkaXY+CiAgICAgICAgICAgICAgICAgICAgIDxkaXYgc3R5bGU9J21hcmdpbjowOyBiYWNrZ3JvdW5kLWNvbG9yOiBmaXJlYnJpY2s7IGNvbG9yOiB3aGl0ZTsnPjxoNCBzdHlsZT0ndGV4dC1hbGlnbjpjZW50ZXI7IGZvbnQtd2VpZ2h0OiBib2xkJz5DYW5hZGE8L2g0PjxociBzdHlsZT0nbWFyZ2luOjEwcHg7IGNvbG9yOiB3aGl0ZTsnPjx1bCBzdHlsZT0nY29sb3I6IHdoaXRlOztsaXN0LXN0eWxlLXR5cGU6IGNpcmNsZTsgYWxpZ24taXRlbTogbGVmdDsgcGFkZGluZy1sZWZ0OiAyMHB4OyBwYWRkaW5nLXJpZ2h0OjIwcHgnPjxsaT5Ub3RhbCBjYXNlczogMzk5MzY8L2xpPjxsaT5EZWF0aHM6IDI3OTk8L2xpPjxsaT5EZWF0aCByYXRlIDogNy4wMSUgPC9saT48L3VsPjwvZGl2PgogICAgICAgICAgICAgICAgIDwvZGl2PmAsCiAgICAgICAgICAgICAgICB7InN0aWNreSI6IHRydWV9CiAgICAgICAgICAgICk7CiAgICAgICAgCiAgICAKICAgICAgICAgICAgdmFyIGNpcmNsZV80NDIyNWYzYmE1ZmE0N2U2YWI3NjgzNTcxMWJkMGJlYSA9IEwuY2lyY2xlKAogICAgICAgICAgICAgICAgWzQ2LjUxMDcsIC02My40MTY4XSwKICAgICAgICAgICAgICAgIHsiYnViYmxpbmdNb3VzZUV2ZW50cyI6IHRydWUsICJjb2xvciI6ICJjcmltc29uIiwgImRhc2hBcnJheSI6IG51bGwsICJkYXNoT2Zmc2V0IjogbnVsbCwgImZpbGwiOiB0cnVlLCAiZmlsbENvbG9yIjogImNyaW1zb24iLCAiZmlsbE9wYWNpdHkiOiAwLjIsICJmaWxsUnVsZSI6ICJldmVub2RkIiwgImxpbmVDYXAiOiAicm91bmQiLCAibGluZUpvaW4iOiAicm91bmQiLCAib3BhY2l0eSI6IDEuMCwgInJhZGl1cyI6IDE2MDAwMC4wLCAic3Ryb2tlIjogdHJ1ZSwgIndlaWdodCI6IDN9CiAgICAgICAgICAgICkuYWRkVG8obWFwXzU3NWZhZjEyMTZjZjRhNGE4ZWUyYTMyODk4MzBhOWY2KTsKICAgICAgICAKICAgIAogICAgICAgICAgICBjaXJjbGVfNDQyMjVmM2JhNWZhNDdlNmFiNzY4MzU3MTFiZDBiZWEuYmluZFRvb2x0aXAoCiAgICAgICAgICAgICAgICBgPGRpdj4KICAgICAgICAgICAgICAgICAgICAgPGRpdiBzdHlsZT0nbWFyZ2luOjA7IGJhY2tncm91bmQtY29sb3I6IGZpcmVicmljazsgY29sb3I6IHdoaXRlOyc+PGg0IHN0eWxlPSd0ZXh0LWFsaWduOmNlbnRlcjsgZm9udC13ZWlnaHQ6IGJvbGQnPkNhbmFkYTwvaDQ+PGhyIHN0eWxlPSdtYXJnaW46MTBweDsgY29sb3I6IHdoaXRlOyc+PHVsIHN0eWxlPSdjb2xvcjogd2hpdGU7O2xpc3Qtc3R5bGUtdHlwZTogY2lyY2xlOyBhbGlnbi1pdGVtOiBsZWZ0OyBwYWRkaW5nLWxlZnQ6IDIwcHg7IHBhZGRpbmctcmlnaHQ6MjBweCc+PGxpPlRvdGFsIGNhc2VzOiAzNjwvbGk+PGxpPkRlYXRoczogMDwvbGk+PGxpPkRlYXRoIHJhdGUgOiAwLjAlIDwvbGk+PC91bD48L2Rpdj4KICAgICAgICAgICAgICAgICA8L2Rpdj5gLAogICAgICAgICAgICAgICAgeyJzdGlja3kiOiB0cnVlfQogICAgICAgICAgICApOwogICAgICAgIAogICAgCiAgICAgICAgICAgIHZhciBjaXJjbGVfNzY5ZmRhZGFjZmFhNDFiZWE5NmE2Y2Y3MTcxMzg5MWEgPSBMLmNpcmNsZSgKICAgICAgICAgICAgICAgIFs1Mi45Mzk5LCAtNzMuNTQ5MV0sCiAgICAgICAgICAgICAgICB7ImJ1YmJsaW5nTW91c2VFdmVudHMiOiB0cnVlLCAiY29sb3IiOiAiY3JpbXNvbiIsICJkYXNoQXJyYXkiOiBudWxsLCAiZGFzaE9mZnNldCI6IG51bGwsICJmaWxsIjogdHJ1ZSwgImZpbGxDb2xvciI6ICJjcmltc29uIiwgImZpbGxPcGFjaXR5IjogMC4yLCAiZmlsbFJ1bGUiOiAiZXZlbm9kZCIsICJsaW5lQ2FwIjogInJvdW5kIiwgImxpbmVKb2luIjogInJvdW5kIiwgIm9wYWNpdHkiOiAxLjAsICJyYWRpdXMiOiA1MDk5OTkuOTk5OTk5OTk5OTQsICJzdHJva2UiOiB0cnVlLCAid2VpZ2h0IjogM30KICAgICAgICAgICAgKS5hZGRUbyhtYXBfNTc1ZmFmMTIxNmNmNGE0YThlZTJhMzI4OTgzMGE5ZjYpOwogICAgICAgIAogICAgCiAgICAgICAgICAgIGNpcmNsZV83NjlmZGFkYWNmYWE0MWJlYTk2YTZjZjcxNzEzODkxYS5iaW5kVG9vbHRpcCgKICAgICAgICAgICAgICAgIGA8ZGl2PgogICAgICAgICAgICAgICAgICAgICA8ZGl2IHN0eWxlPSdtYXJnaW46MDsgYmFja2dyb3VuZC1jb2xvcjogZmlyZWJyaWNrOyBjb2xvcjogd2hpdGU7Jz48aDQgc3R5bGU9J3RleHQtYWxpZ246Y2VudGVyOyBmb250LXdlaWdodDogYm9sZCc+Q2FuYWRhPC9oND48aHIgc3R5bGU9J21hcmdpbjoxMHB4OyBjb2xvcjogd2hpdGU7Jz48dWwgc3R5bGU9J2NvbG9yOiB3aGl0ZTs7bGlzdC1zdHlsZS10eXBlOiBjaXJjbGU7IGFsaWduLWl0ZW06IGxlZnQ7IHBhZGRpbmctbGVmdDogMjBweDsgcGFkZGluZy1yaWdodDoyMHB4Jz48bGk+VG90YWwgY2FzZXM6IDU4MDgwPC9saT48bGk+RGVhdGhzOiA1NjYyPC9saT48bGk+RGVhdGggcmF0ZSA6IDkuNzUlIDwvbGk+PC91bD48L2Rpdj4KICAgICAgICAgICAgICAgICA8L2Rpdj5gLAogICAgICAgICAgICAgICAgeyJzdGlja3kiOiB0cnVlfQogICAgICAgICAgICApOwogICAgICAgIAogICAgCiAgICAgICAgICAgIHZhciBjaXJjbGVfOTkyYTA5YTFmMjQ2NDUwZTk5OGU5YzQ4ZTk4MzVhMmMgPSBMLmNpcmNsZSgKICAgICAgICAgICAgICAgIFs1Mi45Mzk5LCAtMTA2LjQ1MDldLAogICAgICAgICAgICAgICAgeyJidWJibGluZ01vdXNlRXZlbnRzIjogdHJ1ZSwgImNvbG9yIjogImNyaW1zb24iLCAiZGFzaEFycmF5IjogbnVsbCwgImRhc2hPZmZzZXQiOiBudWxsLCAiZmlsbCI6IHRydWUsICJmaWxsQ29sb3IiOiAiY3JpbXNvbiIsICJmaWxsT3BhY2l0eSI6IDAuMiwgImZpbGxSdWxlIjogImV2ZW5vZGQiLCAibGluZUNhcCI6ICJyb3VuZCIsICJsaW5lSm9pbiI6ICJyb3VuZCIsICJvcGFjaXR5IjogMS4wLCAicmFkaXVzIjogMzEwMDAwLjAsICJzdHJva2UiOiB0cnVlLCAid2VpZ2h0IjogM30KICAgICAgICAgICAgKS5hZGRUbyhtYXBfNTc1ZmFmMTIxNmNmNGE0YThlZTJhMzI4OTgzMGE5ZjYpOwogICAgICAgIAogICAgCiAgICAgICAgICAgIGNpcmNsZV85OTJhMDlhMWYyNDY0NTBlOTk4ZTljNDhlOTgzNWEyYy5iaW5kVG9vbHRpcCgKICAgICAgICAgICAgICAgIGA8ZGl2PgogICAgICAgICAgICAgICAgICAgICA8ZGl2IHN0eWxlPSdtYXJnaW46MDsgYmFja2dyb3VuZC1jb2xvcjogZmlyZWJyaWNrOyBjb2xvcjogd2hpdGU7Jz48aDQgc3R5bGU9J3RleHQtYWxpZ246Y2VudGVyOyBmb250LXdlaWdodDogYm9sZCc+Q2FuYWRhPC9oND48aHIgc3R5bGU9J21hcmdpbjoxMHB4OyBjb2xvcjogd2hpdGU7Jz48dWwgc3R5bGU9J2NvbG9yOiB3aGl0ZTs7bGlzdC1zdHlsZS10eXBlOiBjaXJjbGU7IGFsaWduLWl0ZW06IGxlZnQ7IHBhZGRpbmctbGVmdDogMjBweDsgcGFkZGluZy1yaWdodDoyMHB4Jz48bGk+VG90YWwgY2FzZXM6IDEwNzI8L2xpPjxsaT5EZWF0aHM6IDE2PC9saT48bGk+RGVhdGggcmF0ZSA6IDEuNDklIDwvbGk+PC91bD48L2Rpdj4KICAgICAgICAgICAgICAgICA8L2Rpdj5gLAogICAgICAgICAgICAgICAgeyJzdGlja3kiOiB0cnVlfQogICAgICAgICAgICApOwogICAgICAgIAogICAgCiAgICAgICAgICAgIHZhciBjaXJjbGVfNjEwZmY5ZjVlNDRhNDRlODgwYjI0ZmRhMDdiZWVmNTQgPSBMLmNpcmNsZSgKICAgICAgICAgICAgICAgIFs2LjYxMTEsIDIwLjkzOTRdLAogICAgICAgICAgICAgICAgeyJidWJibGluZ01vdXNlRXZlbnRzIjogdHJ1ZSwgImNvbG9yIjogImNyaW1zb24iLCAiZGFzaEFycmF5IjogbnVsbCwgImRhc2hPZmZzZXQiOiBudWxsLCAiZmlsbCI6IHRydWUsICJmaWxsQ29sb3IiOiAiY3JpbXNvbiIsICJmaWxsT3BhY2l0eSI6IDAuMiwgImZpbGxSdWxlIjogImV2ZW5vZGQiLCAibGluZUNhcCI6ICJyb3VuZCIsICJsaW5lSm9pbiI6ICJyb3VuZCIsICJvcGFjaXR5IjogMS4wLCAicmFkaXVzIjogNDA5OTk5Ljk5OTk5OTk5OTk0LCAic3Ryb2tlIjogdHJ1ZSwgIndlaWdodCI6IDN9CiAgICAgICAgICAgICkuYWRkVG8obWFwXzU3NWZhZjEyMTZjZjRhNGE4ZWUyYTMyODk4MzBhOWY2KTsKICAgICAgICAKICAgIAogICAgICAgICAgICBjaXJjbGVfNjEwZmY5ZjVlNDRhNDRlODgwYjI0ZmRhMDdiZWVmNTQuYmluZFRvb2x0aXAoCiAgICAgICAgICAgICAgICBgPGRpdj4KICAgICAgICAgICAgICAgICAgICAgPGRpdiBzdHlsZT0nbWFyZ2luOjA7IGJhY2tncm91bmQtY29sb3I6IGZpcmVicmljazsgY29sb3I6IHdoaXRlOyc+PGg0IHN0eWxlPSd0ZXh0LWFsaWduOmNlbnRlcjsgZm9udC13ZWlnaHQ6IGJvbGQnPkNlbnRyYWwgQWZyaWNhbiBSZXB1YmxpYzwvaDQ+PGhyIHN0eWxlPSdtYXJnaW46MTBweDsgY29sb3I6IHdoaXRlOyc+PHVsIHN0eWxlPSdjb2xvcjogd2hpdGU7O2xpc3Qtc3R5bGUtdHlwZTogY2lyY2xlOyBhbGlnbi1pdGVtOiBsZWZ0OyBwYWRkaW5nLWxlZnQ6IDIwcHg7IHBhZGRpbmctcmlnaHQ6MjBweCc+PGxpPlRvdGFsIGNhc2VzOiA0NTkwPC9saT48bGk+RGVhdGhzOiA1ODwvbGk+PGxpPkRlYXRoIHJhdGUgOiAxLjI2JSA8L2xpPjwvdWw+PC9kaXY+CiAgICAgICAgICAgICAgICAgPC9kaXY+YCwKICAgICAgICAgICAgICAgIHsic3RpY2t5IjogdHJ1ZX0KICAgICAgICAgICAgKTsKICAgICAgICAKICAgIAogICAgICAgICAgICB2YXIgY2lyY2xlXzIzZmQwMzljYjk1NTQzOGQ4OTczZjA1NmU4YmYzZTYyID0gTC5jaXJjbGUoCiAgICAgICAgICAgICAgICBbMTUuNDU0MiwgMTguNzMyMl0sCiAgICAgICAgICAgICAgICB7ImJ1YmJsaW5nTW91c2VFdmVudHMiOiB0cnVlLCAiY29sb3IiOiAiY3JpbXNvbiIsICJkYXNoQXJyYXkiOiBudWxsLCAiZGFzaE9mZnNldCI6IG51bGwsICJmaWxsIjogdHJ1ZSwgImZpbGxDb2xvciI6ICJjcmltc29uIiwgImZpbGxPcGFjaXR5IjogMC4yLCAiZmlsbFJ1bGUiOiAiZXZlbm9kZCIsICJsaW5lQ2FwIjogInJvdW5kIiwgImxpbmVKb2luIjogInJvdW5kIiwgIm9wYWNpdHkiOiAxLjAsICJyYWRpdXMiOiAzMTAwMDAuMCwgInN0cm9rZSI6IHRydWUsICJ3ZWlnaHQiOiAzfQogICAgICAgICAgICApLmFkZFRvKG1hcF81NzVmYWYxMjE2Y2Y0YTRhOGVlMmEzMjg5ODMwYTlmNik7CiAgICAgICAgCiAgICAKICAgICAgICAgICAgY2lyY2xlXzIzZmQwMzljYjk1NTQzOGQ4OTczZjA1NmU4YmYzZTYyLmJpbmRUb29sdGlwKAogICAgICAgICAgICAgICAgYDxkaXY+CiAgICAgICAgICAgICAgICAgICAgIDxkaXYgc3R5bGU9J21hcmdpbjowOyBiYWNrZ3JvdW5kLWNvbG9yOiBmaXJlYnJpY2s7IGNvbG9yOiB3aGl0ZTsnPjxoNCBzdHlsZT0ndGV4dC1hbGlnbjpjZW50ZXI7IGZvbnQtd2VpZ2h0OiBib2xkJz5DaGFkPC9oND48aHIgc3R5bGU9J21hcmdpbjoxMHB4OyBjb2xvcjogd2hpdGU7Jz48dWwgc3R5bGU9J2NvbG9yOiB3aGl0ZTs7bGlzdC1zdHlsZS10eXBlOiBjaXJjbGU7IGFsaWduLWl0ZW06IGxlZnQ7IHBhZGRpbmctbGVmdDogMjBweDsgcGFkZGluZy1yaWdodDoyMHB4Jz48bGk+VG90YWwgY2FzZXM6IDkxNTwvbGk+PGxpPkRlYXRoczogNzU8L2xpPjxsaT5EZWF0aCByYXRlIDogOC4xOSUgPC9saT48L3VsPjwvZGl2PgogICAgICAgICAgICAgICAgIDwvZGl2PmAsCiAgICAgICAgICAgICAgICB7InN0aWNreSI6IHRydWV9CiAgICAgICAgICAgICk7CiAgICAgICAgCiAgICAKICAgICAgICAgICAgdmFyIGNpcmNsZV8zZjA2ZjFmNDgyZDY0OGFmYTlmY2UwMmNjNzdiODgzMiA9IEwuY2lyY2xlKAogICAgICAgICAgICAgICAgWy0zNS42NzUxLCAtNzEuNTQzXSwKICAgICAgICAgICAgICAgIHsiYnViYmxpbmdNb3VzZUV2ZW50cyI6IHRydWUsICJjb2xvciI6ICJjcmltc29uIiwgImRhc2hBcnJheSI6IG51bGwsICJkYXNoT2Zmc2V0IjogbnVsbCwgImZpbGwiOiB0cnVlLCAiZmlsbENvbG9yIjogImNyaW1zb24iLCAiZmlsbE9wYWNpdHkiOiAwLjIsICJmaWxsUnVsZSI6ICJldmVub2RkIiwgImxpbmVDYXAiOiAicm91bmQiLCAibGluZUpvaW4iOiAicm91bmQiLCAib3BhY2l0eSI6IDEuMCwgInJhZGl1cyI6IDYxMDAwMC4wLCAic3Ryb2tlIjogdHJ1ZSwgIndlaWdodCI6IDN9CiAgICAgICAgICAgICkuYWRkVG8obWFwXzU3NWZhZjEyMTZjZjRhNGE4ZWUyYTMyODk4MzBhOWY2KTsKICAgICAgICAKICAgIAogICAgICAgICAgICBjaXJjbGVfM2YwNmYxZjQ4MmQ2NDhhZmE5ZmNlMDJjYzc3Yjg4MzIuYmluZFRvb2x0aXAoCiAgICAgICAgICAgICAgICBgPGRpdj4KICAgICAgICAgICAgICAgICAgICAgPGRpdiBzdHlsZT0nbWFyZ2luOjA7IGJhY2tncm91bmQtY29sb3I6IGZpcmVicmljazsgY29sb3I6IHdoaXRlOyc+PGg0IHN0eWxlPSd0ZXh0LWFsaWduOmNlbnRlcjsgZm9udC13ZWlnaHQ6IGJvbGQnPkNoaWxlPC9oND48aHIgc3R5bGU9J21hcmdpbjoxMHB4OyBjb2xvcjogd2hpdGU7Jz48dWwgc3R5bGU9J2NvbG9yOiB3aGl0ZTs7bGlzdC1zdHlsZS10eXBlOiBjaXJjbGU7IGFsaWduLWl0ZW06IGxlZnQ7IHBhZGRpbmctbGVmdDogMjBweDsgcGFkZGluZy1yaWdodDoyMHB4Jz48bGk+VG90YWwgY2FzZXM6IDMzODc1OTwvbGk+PGxpPkRlYXRoczogODgzODwvbGk+PGxpPkRlYXRoIHJhdGUgOiAyLjYxJSA8L2xpPjwvdWw+PC9kaXY+CiAgICAgICAgICAgICAgICAgPC9kaXY+YCwKICAgICAgICAgICAgICAgIHsic3RpY2t5IjogdHJ1ZX0KICAgICAgICAgICAgKTsKICAgICAgICAKICAgIAogICAgICAgICAgICB2YXIgY2lyY2xlX2ZkZTAxZTA1NjYwYjQyMzM4NzU3NjJlYmVlYWViZDI0ID0gTC5jaXJjbGUoCiAgICAgICAgICAgICAgICBbMzEuODI1NywgMTE3LjIyNjRdLAogICAgICAgICAgICAgICAgeyJidWJibGluZ01vdXNlRXZlbnRzIjogdHJ1ZSwgImNvbG9yIjogImNyaW1zb24iLCAiZGFzaEFycmF5IjogbnVsbCwgImRhc2hPZmZzZXQiOiBudWxsLCAiZmlsbCI6IHRydWUsICJmaWxsQ29sb3IiOiAiY3JpbXNvbiIsICJmaWxsT3BhY2l0eSI6IDAuMiwgImZpbGxSdWxlIjogImV2ZW5vZGQiLCAibGluZUNhcCI6ICJyb3VuZCIsICJsaW5lSm9pbiI6ICJyb3VuZCIsICJvcGFjaXR5IjogMS4wLCAicmFkaXVzIjogMzEwMDAwLjAsICJzdHJva2UiOiB0cnVlLCAid2VpZ2h0IjogM30KICAgICAgICAgICAgKS5hZGRUbyhtYXBfNTc1ZmFmMTIxNmNmNGE0YThlZTJhMzI4OTgzMGE5ZjYpOwogICAgICAgIAogICAgCiAgICAgICAgICAgIGNpcmNsZV9mZGUwMWUwNTY2MGI0MjMzODc1NzYyZWJlZWFlYmQyNC5iaW5kVG9vbHRpcCgKICAgICAgICAgICAgICAgIGA8ZGl2PgogICAgICAgICAgICAgICAgICAgICA8ZGl2IHN0eWxlPSdtYXJnaW46MDsgYmFja2dyb3VuZC1jb2xvcjogZmlyZWJyaWNrOyBjb2xvcjogd2hpdGU7Jz48aDQgc3R5bGU9J3RleHQtYWxpZ246Y2VudGVyOyBmb250LXdlaWdodDogYm9sZCc+Q2hpbmE8L2g0PjxociBzdHlsZT0nbWFyZ2luOjEwcHg7IGNvbG9yOiB3aGl0ZTsnPjx1bCBzdHlsZT0nY29sb3I6IHdoaXRlOztsaXN0LXN0eWxlLXR5cGU6IGNpcmNsZTsgYWxpZ24taXRlbTogbGVmdDsgcGFkZGluZy1sZWZ0OiAyMHB4OyBwYWRkaW5nLXJpZ2h0OjIwcHgnPjxsaT5Ub3RhbCBjYXNlczogOTkxPC9saT48bGk+RGVhdGhzOiA2PC9saT48bGk+RGVhdGggcmF0ZSA6IDAuNiUgPC9saT48L3VsPjwvZGl2PgogICAgICAgICAgICAgICAgIDwvZGl2PmAsCiAgICAgICAgICAgICAgICB7InN0aWNreSI6IHRydWV9CiAgICAgICAgICAgICk7CiAgICAgICAgCiAgICAKICAgICAgICAgICAgdmFyIGNpcmNsZV8yZTdkODUzNmRlMDM0ODg2YjNmMTZmOTgyOGM3MWQwNyA9IEwuY2lyY2xlKAogICAgICAgICAgICAgICAgWzQwLjE4MjQsIDExNi40MTQyXSwKICAgICAgICAgICAgICAgIHsiYnViYmxpbmdNb3VzZUV2ZW50cyI6IHRydWUsICJjb2xvciI6ICJjcmltc29uIiwgImRhc2hBcnJheSI6IG51bGwsICJkYXNoT2Zmc2V0IjogbnVsbCwgImZpbGwiOiB0cnVlLCAiZmlsbENvbG9yIjogImNyaW1zb24iLCAiZmlsbE9wYWNpdHkiOiAwLjIsICJmaWxsUnVsZSI6ICJldmVub2RkIiwgImxpbmVDYXAiOiAicm91bmQiLCAibGluZUpvaW4iOiAicm91bmQiLCAib3BhY2l0eSI6IDEuMCwgInJhZGl1cyI6IDMxMDAwMC4wLCAic3Ryb2tlIjogdHJ1ZSwgIndlaWdodCI6IDN9CiAgICAgICAgICAgICkuYWRkVG8obWFwXzU3NWZhZjEyMTZjZjRhNGE4ZWUyYTMyODk4MzBhOWY2KTsKICAgICAgICAKICAgIAogICAgICAgICAgICBjaXJjbGVfMmU3ZDg1MzZkZTAzNDg4NmIzZjE2Zjk4MjhjNzFkMDcuYmluZFRvb2x0aXAoCiAgICAgICAgICAgICAgICBgPGRpdj4KICAgICAgICAgICAgICAgICAgICAgPGRpdiBzdHlsZT0nbWFyZ2luOjA7IGJhY2tncm91bmQtY29sb3I6IGZpcmVicmljazsgY29sb3I6IHdoaXRlOyc+PGg0IHN0eWxlPSd0ZXh0LWFsaWduOmNlbnRlcjsgZm9udC13ZWlnaHQ6IGJvbGQnPkNoaW5hPC9oND48aHIgc3R5bGU9J21hcmdpbjoxMHB4OyBjb2xvcjogd2hpdGU7Jz48dWwgc3R5bGU9J2NvbG9yOiB3aGl0ZTs7bGlzdC1zdHlsZS10eXBlOiBjaXJjbGU7IGFsaWduLWl0ZW06IGxlZnQ7IHBhZGRpbmctbGVmdDogMjBweDsgcGFkZGluZy1yaWdodDoyMHB4Jz48bGk+VG90YWwgY2FzZXM6IDkyOTwvbGk+PGxpPkRlYXRoczogOTwvbGk+PGxpPkRlYXRoIHJhdGUgOiAwLjk3JSA8L2xpPjwvdWw+PC9kaXY+CiAgICAgICAgICAgICAgICAgPC9kaXY+YCwKICAgICAgICAgICAgICAgIHsic3RpY2t5IjogdHJ1ZX0KICAgICAgICAgICAgKTsKICAgICAgICAKICAgIAogICAgICAgICAgICB2YXIgY2lyY2xlXzhmMGY3MWJhOTkxNDRlYWI5YzllNGRlZWY2MTNmYWMxID0gTC5jaXJjbGUoCiAgICAgICAgICAgICAgICBbMzAuMDU3MiwgMTA3Ljg3NF0sCiAgICAgICAgICAgICAgICB7ImJ1YmJsaW5nTW91c2VFdmVudHMiOiB0cnVlLCAiY29sb3IiOiAiY3JpbXNvbiIsICJkYXNoQXJyYXkiOiBudWxsLCAiZGFzaE9mZnNldCI6IG51bGwsICJmaWxsIjogdHJ1ZSwgImZpbGxDb2xvciI6ICJjcmltc29uIiwgImZpbGxPcGFjaXR5IjogMC4yLCAiZmlsbFJ1bGUiOiAiZXZlbm9kZCIsICJsaW5lQ2FwIjogInJvdW5kIiwgImxpbmVKb2luIjogInJvdW5kIiwgIm9wYWNpdHkiOiAxLjAsICJyYWRpdXMiOiAzMTAwMDAuMCwgInN0cm9rZSI6IHRydWUsICJ3ZWlnaHQiOiAzfQogICAgICAgICAgICApLmFkZFRvKG1hcF81NzVmYWYxMjE2Y2Y0YTRhOGVlMmEzMjg5ODMwYTlmNik7CiAgICAgICAgCiAgICAKICAgICAgICAgICAgY2lyY2xlXzhmMGY3MWJhOTkxNDRlYWI5YzllNGRlZWY2MTNmYWMxLmJpbmRUb29sdGlwKAogICAgICAgICAgICAgICAgYDxkaXY+CiAgICAgICAgICAgICAgICAgICAgIDxkaXYgc3R5bGU9J21hcmdpbjowOyBiYWNrZ3JvdW5kLWNvbG9yOiBmaXJlYnJpY2s7IGNvbG9yOiB3aGl0ZTsnPjxoNCBzdHlsZT0ndGV4dC1hbGlnbjpjZW50ZXI7IGZvbnQtd2VpZ2h0OiBib2xkJz5DaGluYTwvaDQ+PGhyIHN0eWxlPSdtYXJnaW46MTBweDsgY29sb3I6IHdoaXRlOyc+PHVsIHN0eWxlPSdjb2xvcjogd2hpdGU7O2xpc3Qtc3R5bGUtdHlwZTogY2lyY2xlOyBhbGlnbi1pdGVtOiBsZWZ0OyBwYWRkaW5nLWxlZnQ6IDIwcHg7IHBhZGRpbmctcmlnaHQ6MjBweCc+PGxpPlRvdGFsIGNhc2VzOiA1ODM8L2xpPjxsaT5EZWF0aHM6IDY8L2xpPjxsaT5EZWF0aCByYXRlIDogMS4wMyUgPC9saT48L3VsPjwvZGl2PgogICAgICAgICAgICAgICAgIDwvZGl2PmAsCiAgICAgICAgICAgICAgICB7InN0aWNreSI6IHRydWV9CiAgICAgICAgICAgICk7CiAgICAgICAgCiAgICAKICAgICAgICAgICAgdmFyIGNpcmNsZV9kNGZhZmUzYmZiMDg0MmE0OTBkZjg0NWU0YWM3NDMzNyA9IEwuY2lyY2xlKAogICAgICAgICAgICAgICAgWzI2LjA3ODksIDExNy45ODc0XSwKICAgICAgICAgICAgICAgIHsiYnViYmxpbmdNb3VzZUV2ZW50cyI6IHRydWUsICJjb2xvciI6ICJjcmltc29uIiwgImRhc2hBcnJheSI6IG51bGwsICJkYXNoT2Zmc2V0IjogbnVsbCwgImZpbGwiOiB0cnVlLCAiZmlsbENvbG9yIjogImNyaW1zb24iLCAiZmlsbE9wYWNpdHkiOiAwLjIsICJmaWxsUnVsZSI6ICJldmVub2RkIiwgImxpbmVDYXAiOiAicm91bmQiLCAibGluZUpvaW4iOiAicm91bmQiLCAib3BhY2l0eSI6IDEuMCwgInJhZGl1cyI6IDI2MDAwMC4wLCAic3Ryb2tlIjogdHJ1ZSwgIndlaWdodCI6IDN9CiAgICAgICAgICAgICkuYWRkVG8obWFwXzU3NWZhZjEyMTZjZjRhNGE4ZWUyYTMyODk4MzBhOWY2KTsKICAgICAgICAKICAgIAogICAgICAgICAgICBjaXJjbGVfZDRmYWZlM2JmYjA4NDJhNDkwZGY4NDVlNGFjNzQzMzcuYmluZFRvb2x0aXAoCiAgICAgICAgICAgICAgICBgPGRpdj4KICAgICAgICAgICAgICAgICAgICAgPGRpdiBzdHlsZT0nbWFyZ2luOjA7IGJhY2tncm91bmQtY29sb3I6IGZpcmVicmljazsgY29sb3I6IHdoaXRlOyc+PGg0IHN0eWxlPSd0ZXh0LWFsaWduOmNlbnRlcjsgZm9udC13ZWlnaHQ6IGJvbGQnPkNoaW5hPC9oND48aHIgc3R5bGU9J21hcmdpbjoxMHB4OyBjb2xvcjogd2hpdGU7Jz48dWwgc3R5bGU9J2NvbG9yOiB3aGl0ZTs7bGlzdC1zdHlsZS10eXBlOiBjaXJjbGU7IGFsaWduLWl0ZW06IGxlZnQ7IHBhZGRpbmctbGVmdDogMjBweDsgcGFkZGluZy1yaWdodDoyMHB4Jz48bGk+VG90YWwgY2FzZXM6IDM2NDwvbGk+PGxpPkRlYXRoczogMTwvbGk+PGxpPkRlYXRoIHJhdGUgOiAwLjI3JSA8L2xpPjwvdWw+PC9kaXY+CiAgICAgICAgICAgICAgICAgPC9kaXY+YCwKICAgICAgICAgICAgICAgIHsic3RpY2t5IjogdHJ1ZX0KICAgICAgICAgICAgKTsKICAgICAgICAKICAgIAogICAgICAgICAgICB2YXIgY2lyY2xlX2Y1YWI0MWFmZDc1MjRiOTliZmVlNjM4ODk5MzQwOTdmID0gTC5jaXJjbGUoCiAgICAgICAgICAgICAgICBbMzUuNzUxOCwgMTA0LjI4NjFdLAogICAgICAgICAgICAgICAgeyJidWJibGluZ01vdXNlRXZlbnRzIjogdHJ1ZSwgImNvbG9yIjogImNyaW1zb24iLCAiZGFzaEFycmF5IjogbnVsbCwgImRhc2hPZmZzZXQiOiBudWxsLCAiZmlsbCI6IHRydWUsICJmaWxsQ29sb3IiOiAiY3JpbXNvbiIsICJmaWxsT3BhY2l0eSI6IDAuMiwgImZpbGxSdWxlIjogImV2ZW5vZGQiLCAibGluZUNhcCI6ICJyb3VuZCIsICJsaW5lSm9pbiI6ICJyb3VuZCIsICJvcGFjaXR5IjogMS4wLCAicmFkaXVzIjogMjYwMDAwLjAsICJzdHJva2UiOiB0cnVlLCAid2VpZ2h0IjogM30KICAgICAgICAgICAgKS5hZGRUbyhtYXBfNTc1ZmFmMTIxNmNmNGE0YThlZTJhMzI4OTgzMGE5ZjYpOwogICAgICAgIAogICAgCiAgICAgICAgICAgIGNpcmNsZV9mNWFiNDFhZmQ3NTI0Yjk5YmZlZTYzODg5OTM0MDk3Zi5iaW5kVG9vbHRpcCgKICAgICAgICAgICAgICAgIGA8ZGl2PgogICAgICAgICAgICAgICAgICAgICA8ZGl2IHN0eWxlPSdtYXJnaW46MDsgYmFja2dyb3VuZC1jb2xvcjogZmlyZWJyaWNrOyBjb2xvcjogd2hpdGU7Jz48aDQgc3R5bGU9J3RleHQtYWxpZ246Y2VudGVyOyBmb250LXdlaWdodDogYm9sZCc+Q2hpbmE8L2g0PjxociBzdHlsZT0nbWFyZ2luOjEwcHg7IGNvbG9yOiB3aGl0ZTsnPjx1bCBzdHlsZT0nY29sb3I6IHdoaXRlOztsaXN0LXN0eWxlLXR5cGU6IGNpcmNsZTsgYWxpZ24taXRlbTogbGVmdDsgcGFkZGluZy1sZWZ0OiAyMHB4OyBwYWRkaW5nLXJpZ2h0OjIwcHgnPjxsaT5Ub3RhbCBjYXNlczogMTY3PC9saT48bGk+RGVhdGhzOiAyPC9saT48bGk+RGVhdGggcmF0ZSA6IDEuMTklIDwvbGk+PC91bD48L2Rpdj4KICAgICAgICAgICAgICAgICA8L2Rpdj5gLAogICAgICAgICAgICAgICAgeyJzdGlja3kiOiB0cnVlfQogICAgICAgICAgICApOwogICAgICAgIAogICAgCiAgICAgICAgICAgIHZhciBjaXJjbGVfM2MxNjgwYzUzZTFkNGU0MGE3NGE0Njk2MDY0OGRiODAgPSBMLmNpcmNsZSgKICAgICAgICAgICAgICAgIFsyMy4zNDE3LCAxMTMuNDI0NF0sCiAgICAgICAgICAgICAgICB7ImJ1YmJsaW5nTW91c2VFdmVudHMiOiB0cnVlLCAiY29sb3IiOiAiY3JpbXNvbiIsICJkYXNoQXJyYXkiOiBudWxsLCAiZGFzaE9mZnNldCI6IG51bGwsICJmaWxsIjogdHJ1ZSwgImZpbGxDb2xvciI6ICJjcmltc29uIiwgImZpbGxPcGFjaXR5IjogMC4yLCAiZmlsbFJ1bGUiOiAiZXZlbm9kZCIsICJsaW5lQ2FwIjogInJvdW5kIiwgImxpbmVKb2luIjogInJvdW5kIiwgIm9wYWNpdHkiOiAxLjAsICJyYWRpdXMiOiAzNjAwMDAuMCwgInN0cm9rZSI6IHRydWUsICJ3ZWlnaHQiOiAzfQogICAgICAgICAgICApLmFkZFRvKG1hcF81NzVmYWYxMjE2Y2Y0YTRhOGVlMmEzMjg5ODMwYTlmNik7CiAgICAgICAgCiAgICAKICAgICAgICAgICAgY2lyY2xlXzNjMTY4MGM1M2UxZDRlNDBhNzRhNDY5NjA2NDhkYjgwLmJpbmRUb29sdGlwKAogICAgICAgICAgICAgICAgYDxkaXY+CiAgICAgICAgICAgICAgICAgICAgIDxkaXYgc3R5bGU9J21hcmdpbjowOyBiYWNrZ3JvdW5kLWNvbG9yOiBmaXJlYnJpY2s7IGNvbG9yOiB3aGl0ZTsnPjxoNCBzdHlsZT0ndGV4dC1hbGlnbjpjZW50ZXI7IGZvbnQtd2VpZ2h0OiBib2xkJz5DaGluYTwvaDQ+PGhyIHN0eWxlPSdtYXJnaW46MTBweDsgY29sb3I6IHdoaXRlOyc+PHVsIHN0eWxlPSdjb2xvcjogd2hpdGU7O2xpc3Qtc3R5bGUtdHlwZTogY2lyY2xlOyBhbGlnbi1pdGVtOiBsZWZ0OyBwYWRkaW5nLWxlZnQ6IDIwcHg7IHBhZGRpbmctcmlnaHQ6MjBweCc+PGxpPlRvdGFsIGNhc2VzOiAxNjY3PC9saT48bGk+RGVhdGhzOiA4PC9saT48bGk+RGVhdGggcmF0ZSA6IDAuNDglIDwvbGk+PC91bD48L2Rpdj4KICAgICAgICAgICAgICAgICA8L2Rpdj5gLAogICAgICAgICAgICAgICAgeyJzdGlja3kiOiB0cnVlfQogICAgICAgICAgICApOwogICAgICAgIAogICAgCiAgICAgICAgICAgIHZhciBjaXJjbGVfY2MyMGVhNWY1Y2YwNDVlZWJlZGYxYzBlZTg1MmJmM2MgPSBMLmNpcmNsZSgKICAgICAgICAgICAgICAgIFsyMy44Mjk4LCAxMDguNzg4MV0sCiAgICAgICAgICAgICAgICB7ImJ1YmJsaW5nTW91c2VFdmVudHMiOiB0cnVlLCAiY29sb3IiOiAiY3JpbXNvbiIsICJkYXNoQXJyYXkiOiBudWxsLCAiZGFzaE9mZnNldCI6IG51bGwsICJmaWxsIjogdHJ1ZSwgImZpbGxDb2xvciI6ICJjcmltc29uIiwgImZpbGxPcGFjaXR5IjogMC4yLCAiZmlsbFJ1bGUiOiAiZXZlbm9kZCIsICJsaW5lQ2FwIjogInJvdW5kIiwgImxpbmVKb2luIjogInJvdW5kIiwgIm9wYWNpdHkiOiAxLjAsICJyYWRpdXMiOiAyNjAwMDAuMCwgInN0cm9rZSI6IHRydWUsICJ3ZWlnaHQiOiAzfQogICAgICAgICAgICApLmFkZFRvKG1hcF81NzVmYWYxMjE2Y2Y0YTRhOGVlMmEzMjg5ODMwYTlmNik7CiAgICAgICAgCiAgICAKICAgICAgICAgICAgY2lyY2xlX2NjMjBlYTVmNWNmMDQ1ZWViZWRmMWMwZWU4NTJiZjNjLmJpbmRUb29sdGlwKAogICAgICAgICAgICAgICAgYDxkaXY+CiAgICAgICAgICAgICAgICAgICAgIDxkaXYgc3R5bGU9J21hcmdpbjowOyBiYWNrZ3JvdW5kLWNvbG9yOiBmaXJlYnJpY2s7IGNvbG9yOiB3aGl0ZTsnPjxoNCBzdHlsZT0ndGV4dC1hbGlnbjpjZW50ZXI7IGZvbnQtd2VpZ2h0OiBib2xkJz5DaGluYTwvaDQ+PGhyIHN0eWxlPSdtYXJnaW46MTBweDsgY29sb3I6IHdoaXRlOyc+PHVsIHN0eWxlPSdjb2xvcjogd2hpdGU7O2xpc3Qtc3R5bGUtdHlwZTogY2lyY2xlOyBhbGlnbi1pdGVtOiBsZWZ0OyBwYWRkaW5nLWxlZnQ6IDIwcHg7IHBhZGRpbmctcmlnaHQ6MjBweCc+PGxpPlRvdGFsIGNhc2VzOiAyNTU8L2xpPjxsaT5EZWF0aHM6IDI8L2xpPjxsaT5EZWF0aCByYXRlIDogMC43OCUgPC9saT48L3VsPjwvZGl2PgogICAgICAgICAgICAgICAgIDwvZGl2PmAsCiAgICAgICAgICAgICAgICB7InN0aWNreSI6IHRydWV9CiAgICAgICAgICAgICk7CiAgICAgICAgCiAgICAKICAgICAgICAgICAgdmFyIGNpcmNsZV83YTc1MmRmNTk2MTE0NTQ2OTdhZGQyMDUyMTI2ZmM3NCA9IEwuY2lyY2xlKAogICAgICAgICAgICAgICAgWzI2LjgxNTQsIDEwNi44NzQ4XSwKICAgICAgICAgICAgICAgIHsiYnViYmxpbmdNb3VzZUV2ZW50cyI6IHRydWUsICJjb2xvciI6ICJjcmltc29uIiwgImRhc2hBcnJheSI6IG51bGwsICJkYXNoT2Zmc2V0IjogbnVsbCwgImZpbGwiOiB0cnVlLCAiZmlsbENvbG9yIjogImNyaW1zb24iLCAiZmlsbE9wYWNpdHkiOiAwLjIsICJmaWxsUnVsZSI6ICJldmVub2RkIiwgImxpbmVDYXAiOiAicm91bmQiLCAibGluZUpvaW4iOiAicm91bmQiLCAib3BhY2l0eSI6IDEuMCwgInJhZGl1cyI6IDIxMDAwMC4wLCAic3Ryb2tlIjogdHJ1ZSwgIndlaWdodCI6IDN9CiAgICAgICAgICAgICkuYWRkVG8obWFwXzU3NWZhZjEyMTZjZjRhNGE4ZWUyYTMyODk4MzBhOWY2KTsKICAgICAgICAKICAgIAogICAgICAgICAgICBjaXJjbGVfN2E3NTJkZjU5NjExNDU0Njk3YWRkMjA1MjEyNmZjNzQuYmluZFRvb2x0aXAoCiAgICAgICAgICAgICAgICBgPGRpdj4KICAgICAgICAgICAgICAgICAgICAgPGRpdiBzdHlsZT0nbWFyZ2luOjA7IGJhY2tncm91bmQtY29sb3I6IGZpcmVicmljazsgY29sb3I6IHdoaXRlOyc+PGg0IHN0eWxlPSd0ZXh0LWFsaWduOmNlbnRlcjsgZm9udC13ZWlnaHQ6IGJvbGQnPkNoaW5hPC9oND48aHIgc3R5bGU9J21hcmdpbjoxMHB4OyBjb2xvcjogd2hpdGU7Jz48dWwgc3R5bGU9J2NvbG9yOiB3aGl0ZTs7bGlzdC1zdHlsZS10eXBlOiBjaXJjbGU7IGFsaWduLWl0ZW06IGxlZnQ7IHBhZGRpbmctbGVmdDogMjBweDsgcGFkZGluZy1yaWdodDoyMHB4Jz48bGk+VG90YWwgY2FzZXM6IDE0NzwvbGk+PGxpPkRlYXRoczogMjwvbGk+PGxpPkRlYXRoIHJhdGUgOiAxLjM1JSA8L2xpPjwvdWw+PC9kaXY+CiAgICAgICAgICAgICAgICAgPC9kaXY+YCwKICAgICAgICAgICAgICAgIHsic3RpY2t5IjogdHJ1ZX0KICAgICAgICAgICAgKTsKICAgICAgICAKICAgIAogICAgICAgICAgICB2YXIgY2lyY2xlX2M4MGFlZWNhZDcwNzQzMzJiZWUzNTQ1OTgyZmY2NjgzID0gTC5jaXJjbGUoCiAgICAgICAgICAgICAgICBbMTkuMTk1OSwgMTA5Ljc0NTNdLAogICAgICAgICAgICAgICAgeyJidWJibGluZ01vdXNlRXZlbnRzIjogdHJ1ZSwgImNvbG9yIjogImNyaW1zb24iLCAiZGFzaEFycmF5IjogbnVsbCwgImRhc2hPZmZzZXQiOiBudWxsLCAiZmlsbCI6IHRydWUsICJmaWxsQ29sb3IiOiAiY3JpbXNvbiIsICJmaWxsT3BhY2l0eSI6IDAuMiwgImZpbGxSdWxlIjogImV2ZW5vZGQiLCAibGluZUNhcCI6ICJyb3VuZCIsICJsaW5lSm9pbiI6ICJyb3VuZCIsICJvcGFjaXR5IjogMS4wLCAicmFkaXVzIjogMjYwMDAwLjAsICJzdHJva2UiOiB0cnVlLCAid2VpZ2h0IjogM30KICAgICAgICAgICAgKS5hZGRUbyhtYXBfNTc1ZmFmMTIxNmNmNGE0YThlZTJhMzI4OTgzMGE5ZjYpOwogICAgICAgIAogICAgCiAgICAgICAgICAgIGNpcmNsZV9jODBhZWVjYWQ3MDc0MzMyYmVlMzU0NTk4MmZmNjY4My5iaW5kVG9vbHRpcCgKICAgICAgICAgICAgICAgIGA8ZGl2PgogICAgICAgICAgICAgICAgICAgICA8ZGl2IHN0eWxlPSdtYXJnaW46MDsgYmFja2dyb3VuZC1jb2xvcjogZmlyZWJyaWNrOyBjb2xvcjogd2hpdGU7Jz48aDQgc3R5bGU9J3RleHQtYWxpZ246Y2VudGVyOyBmb250LXdlaWdodDogYm9sZCc+Q2hpbmE8L2g0PjxociBzdHlsZT0nbWFyZ2luOjEwcHg7IGNvbG9yOiB3aGl0ZTsnPjx1bCBzdHlsZT0nY29sb3I6IHdoaXRlOztsaXN0LXN0eWxlLXR5cGU6IGNpcmNsZTsgYWxpZ24taXRlbTogbGVmdDsgcGFkZGluZy1sZWZ0OiAyMHB4OyBwYWRkaW5nLXJpZ2h0OjIwcHgnPjxsaT5Ub3RhbCBjYXNlczogMTcxPC9saT48bGk+RGVhdGhzOiA2PC9saT48bGk+RGVhdGggcmF0ZSA6IDMuNDklIDwvbGk+PC91bD48L2Rpdj4KICAgICAgICAgICAgICAgICA8L2Rpdj5gLAogICAgICAgICAgICAgICAgeyJzdGlja3kiOiB0cnVlfQogICAgICAgICAgICApOwogICAgICAgIAogICAgCiAgICAgICAgICAgIHZhciBjaXJjbGVfMDY0YmM2N2E3MzYzNDk3YmE4M2I3YWNjMDFjYWU2ZjQgPSBMLmNpcmNsZSgKICAgICAgICAgICAgICAgIFszOS41NDksIDExNi4xMzA2XSwKICAgICAgICAgICAgICAgIHsiYnViYmxpbmdNb3VzZUV2ZW50cyI6IHRydWUsICJjb2xvciI6ICJjcmltc29uIiwgImRhc2hBcnJheSI6IG51bGwsICJkYXNoT2Zmc2V0IjogbnVsbCwgImZpbGwiOiB0cnVlLCAiZmlsbENvbG9yIjogImNyaW1zb24iLCAiZmlsbE9wYWNpdHkiOiAwLjIsICJmaWxsUnVsZSI6ICJldmVub2RkIiwgImxpbmVDYXAiOiAicm91bmQiLCAibGluZUpvaW4iOiAicm91bmQiLCAib3BhY2l0eSI6IDEuMCwgInJhZGl1cyI6IDI2MDAwMC4wLCAic3Ryb2tlIjogdHJ1ZSwgIndlaWdodCI6IDN9CiAgICAgICAgICAgICkuYWRkVG8obWFwXzU3NWZhZjEyMTZjZjRhNGE4ZWUyYTMyODk4MzBhOWY2KTsKICAgICAgICAKICAgIAogICAgICAgICAgICBjaXJjbGVfMDY0YmM2N2E3MzYzNDk3YmE4M2I3YWNjMDFjYWU2ZjQuYmluZFRvb2x0aXAoCiAgICAgICAgICAgICAgICBgPGRpdj4KICAgICAgICAgICAgICAgICAgICAgPGRpdiBzdHlsZT0nbWFyZ2luOjA7IGJhY2tncm91bmQtY29sb3I6IGZpcmVicmljazsgY29sb3I6IHdoaXRlOyc+PGg0IHN0eWxlPSd0ZXh0LWFsaWduOmNlbnRlcjsgZm9udC13ZWlnaHQ6IGJvbGQnPkNoaW5hPC9oND48aHIgc3R5bGU9J21hcmdpbjoxMHB4OyBjb2xvcjogd2hpdGU7Jz48dWwgc3R5bGU9J2NvbG9yOiB3aGl0ZTs7bGlzdC1zdHlsZS10eXBlOiBjaXJjbGU7IGFsaWduLWl0ZW06IGxlZnQ7IHBhZGRpbmctbGVmdDogMjBweDsgcGFkZGluZy1yaWdodDoyMHB4Jz48bGk+VG90YWwgY2FzZXM6IDM0OTwvbGk+PGxpPkRlYXRoczogNjwvbGk+PGxpPkRlYXRoIHJhdGUgOiAxLjcxJSA8L2xpPjwvdWw+PC9kaXY+CiAgICAgICAgICAgICAgICAgPC9kaXY+YCwKICAgICAgICAgICAgICAgIHsic3RpY2t5IjogdHJ1ZX0KICAgICAgICAgICAgKTsKICAgICAgICAKICAgIAogICAgICAgICAgICB2YXIgY2lyY2xlX2YzYzczODZlNzUwNDQ5ZTJiMTk3ZjJiOTM3NWY4N2Y5ID0gTC5jaXJjbGUoCiAgICAgICAgICAgICAgICBbNDcuODYxOTk5OTk5OTk5OTk1LCAxMjcuNzYxNV0sCiAgICAgICAgICAgICAgICB7ImJ1YmJsaW5nTW91c2VFdmVudHMiOiB0cnVlLCAiY29sb3IiOiAiY3JpbXNvbiIsICJkYXNoQXJyYXkiOiBudWxsLCAiZGFzaE9mZnNldCI6IG51bGwsICJmaWxsIjogdHJ1ZSwgImZpbGxDb2xvciI6ICJjcmltc29uIiwgImZpbGxPcGFjaXR5IjogMC4yLCAiZmlsbFJ1bGUiOiAiZXZlbm9kZCIsICJsaW5lQ2FwIjogInJvdW5kIiwgImxpbmVKb2luIjogInJvdW5kIiwgIm9wYWNpdHkiOiAxLjAsICJyYWRpdXMiOiAzMTAwMDAuMCwgInN0cm9rZSI6IHRydWUsICJ3ZWlnaHQiOiAzfQogICAgICAgICAgICApLmFkZFRvKG1hcF81NzVmYWYxMjE2Y2Y0YTRhOGVlMmEzMjg5ODMwYTlmNik7CiAgICAgICAgCiAgICAKICAgICAgICAgICAgY2lyY2xlX2YzYzczODZlNzUwNDQ5ZTJiMTk3ZjJiOTM3NWY4N2Y5LmJpbmRUb29sdGlwKAogICAgICAgICAgICAgICAgYDxkaXY+CiAgICAgICAgICAgICAgICAgICAgIDxkaXYgc3R5bGU9J21hcmdpbjowOyBiYWNrZ3JvdW5kLWNvbG9yOiBmaXJlYnJpY2s7IGNvbG9yOiB3aGl0ZTsnPjxoNCBzdHlsZT0ndGV4dC1hbGlnbjpjZW50ZXI7IGZvbnQtd2VpZ2h0OiBib2xkJz5DaGluYTwvaDQ+PGhyIHN0eWxlPSdtYXJnaW46MTBweDsgY29sb3I6IHdoaXRlOyc+PHVsIHN0eWxlPSdjb2xvcjogd2hpdGU7O2xpc3Qtc3R5bGUtdHlwZTogY2lyY2xlOyBhbGlnbi1pdGVtOiBsZWZ0OyBwYWRkaW5nLWxlZnQ6IDIwcHg7IHBhZGRpbmctcmlnaHQ6MjBweCc+PGxpPlRvdGFsIGNhc2VzOiA5NDc8L2xpPjxsaT5EZWF0aHM6IDEzPC9saT48bGk+RGVhdGggcmF0ZSA6IDEuMzclIDwvbGk+PC91bD48L2Rpdj4KICAgICAgICAgICAgICAgICA8L2Rpdj5gLAogICAgICAgICAgICAgICAgeyJzdGlja3kiOiB0cnVlfQogICAgICAgICAgICApOwogICAgICAgIAogICAgCiAgICAgICAgICAgIHZhciBjaXJjbGVfZGRhZWU1Y2IyNjI4NGMxMGIzYzViMWY1YWE2ODA3YjEgPSBMLmNpcmNsZSgKICAgICAgICAgICAgICAgIFszNy44OTU3LCAxMTQuOTA0Ml0sCiAgICAgICAgICAgICAgICB7ImJ1YmJsaW5nTW91c2VFdmVudHMiOiB0cnVlLCAiY29sb3IiOiAiY3JpbXNvbiIsICJkYXNoQXJyYXkiOiBudWxsLCAiZGFzaE9mZnNldCI6IG51bGwsICJmaWxsIjogdHJ1ZSwgImZpbGxDb2xvciI6ICJjcmltc29uIiwgImZpbGxPcGFjaXR5IjogMC4yLCAiZmlsbFJ1bGUiOiAiZXZlbm9kZCIsICJsaW5lQ2FwIjogInJvdW5kIiwgImxpbmVKb2luIjogInJvdW5kIiwgIm9wYWNpdHkiOiAxLjAsICJyYWRpdXMiOiAzNjAwMDAuMCwgInN0cm9rZSI6IHRydWUsICJ3ZWlnaHQiOiAzfQogICAgICAgICAgICApLmFkZFRvKG1hcF81NzVmYWYxMjE2Y2Y0YTRhOGVlMmEzMjg5ODMwYTlmNik7CiAgICAgICAgCiAgICAKICAgICAgICAgICAgY2lyY2xlX2RkYWVlNWNiMjYyODRjMTBiM2M1YjFmNWFhNjgwN2IxLmJpbmRUb29sdGlwKAogICAgICAgICAgICAgICAgYDxkaXY+CiAgICAgICAgICAgICAgICAgICAgIDxkaXYgc3R5bGU9J21hcmdpbjowOyBiYWNrZ3JvdW5kLWNvbG9yOiBmaXJlYnJpY2s7IGNvbG9yOiB3aGl0ZTsnPjxoNCBzdHlsZT0ndGV4dC1hbGlnbjpjZW50ZXI7IGZvbnQtd2VpZ2h0OiBib2xkJz5DaGluYTwvaDQ+PGhyIHN0eWxlPSdtYXJnaW46MTBweDsgY29sb3I6IHdoaXRlOyc+PHVsIHN0eWxlPSdjb2xvcjogd2hpdGU7O2xpc3Qtc3R5bGUtdHlwZTogY2lyY2xlOyBhbGlnbi1pdGVtOiBsZWZ0OyBwYWRkaW5nLWxlZnQ6IDIwcHg7IHBhZGRpbmctcmlnaHQ6MjBweCc+PGxpPlRvdGFsIGNhc2VzOiAxMjc2PC9saT48bGk+RGVhdGhzOiAyMjwvbGk+PGxpPkRlYXRoIHJhdGUgOiAxLjcyJSA8L2xpPjwvdWw+PC9kaXY+CiAgICAgICAgICAgICAgICAgPC9kaXY+YCwKICAgICAgICAgICAgICAgIHsic3RpY2t5IjogdHJ1ZX0KICAgICAgICAgICAgKTsKICAgICAgICAKICAgIAogICAgICAgICAgICB2YXIgY2lyY2xlXzFhNzcxOTFiMTkxNjQ3MDZiZTNkZjAxYWJhNjA4ODA1ID0gTC5jaXJjbGUoCiAgICAgICAgICAgICAgICBbMjIuMywgMTE0LjJdLAogICAgICAgICAgICAgICAgeyJidWJibGluZ01vdXNlRXZlbnRzIjogdHJ1ZSwgImNvbG9yIjogImNyaW1zb24iLCAiZGFzaEFycmF5IjogbnVsbCwgImRhc2hPZmZzZXQiOiBudWxsLCAiZmlsbCI6IHRydWUsICJmaWxsQ29sb3IiOiAiY3JpbXNvbiIsICJmaWxsT3BhY2l0eSI6IDAuMiwgImZpbGxSdWxlIjogImV2ZW5vZGQiLCAibGluZUNhcCI6ICJyb3VuZCIsICJsaW5lSm9pbiI6ICJyb3VuZCIsICJvcGFjaXR5IjogMS4wLCAicmFkaXVzIjogMzYwMDAwLjAsICJzdHJva2UiOiB0cnVlLCAid2VpZ2h0IjogM30KICAgICAgICAgICAgKS5hZGRUbyhtYXBfNTc1ZmFmMTIxNmNmNGE0YThlZTJhMzI4OTgzMGE5ZjYpOwogICAgICAgIAogICAgCiAgICAgICAgICAgIGNpcmNsZV8xYTc3MTkxYjE5MTY0NzA2YmUzZGYwMWFiYTYwODgwNS5iaW5kVG9vbHRpcCgKICAgICAgICAgICAgICAgIGA8ZGl2PgogICAgICAgICAgICAgICAgICAgICA8ZGl2IHN0eWxlPSdtYXJnaW46MDsgYmFja2dyb3VuZC1jb2xvcjogZmlyZWJyaWNrOyBjb2xvcjogd2hpdGU7Jz48aDQgc3R5bGU9J3RleHQtYWxpZ246Y2VudGVyOyBmb250LXdlaWdodDogYm9sZCc+Q2hpbmE8L2g0PjxociBzdHlsZT0nbWFyZ2luOjEwcHg7IGNvbG9yOiB3aGl0ZTsnPjx1bCBzdHlsZT0nY29sb3I6IHdoaXRlOztsaXN0LXN0eWxlLXR5cGU6IGNpcmNsZTsgYWxpZ24taXRlbTogbGVmdDsgcGFkZGluZy1sZWZ0OiAyMHB4OyBwYWRkaW5nLXJpZ2h0OjIwcHgnPjxsaT5Ub3RhbCBjYXNlczogMjI0OTwvbGk+PGxpPkRlYXRoczogMTU8L2xpPjxsaT5EZWF0aCByYXRlIDogMC42NyUgPC9saT48L3VsPjwvZGl2PgogICAgICAgICAgICAgICAgIDwvZGl2PmAsCiAgICAgICAgICAgICAgICB7InN0aWNreSI6IHRydWV9CiAgICAgICAgICAgICk7CiAgICAgICAgCiAgICAKICAgICAgICAgICAgdmFyIGNpcmNsZV9jOGNmYjhmNGUwMTI0YTNmYTdmOWJlYTU2N2NkNDFmYiA9IEwuY2lyY2xlKAogICAgICAgICAgICAgICAgWzMwLjk3NTYsIDExMi4yNzA3XSwKICAgICAgICAgICAgICAgIHsiYnViYmxpbmdNb3VzZUV2ZW50cyI6IHRydWUsICJjb2xvciI6ICJjcmltc29uIiwgImRhc2hBcnJheSI6IG51bGwsICJkYXNoT2Zmc2V0IjogbnVsbCwgImZpbGwiOiB0cnVlLCAiZmlsbENvbG9yIjogImNyaW1zb24iLCAiZmlsbE9wYWNpdHkiOiAwLjIsICJmaWxsUnVsZSI6ICJldmVub2RkIiwgImxpbmVDYXAiOiAicm91bmQiLCAibGluZUpvaW4iOiAicm91bmQiLCAib3BhY2l0eSI6IDEuMCwgInJhZGl1cyI6IDU2MDAwMC4wLCAic3Ryb2tlIjogdHJ1ZSwgIndlaWdodCI6IDN9CiAgICAgICAgICAgICkuYWRkVG8obWFwXzU3NWZhZjEyMTZjZjRhNGE4ZWUyYTMyODk4MzBhOWY2KTsKICAgICAgICAKICAgIAogICAgICAgICAgICBjaXJjbGVfYzhjZmI4ZjRlMDEyNGEzZmE3ZjliZWE1NjdjZDQxZmIuYmluZFRvb2x0aXAoCiAgICAgICAgICAgICAgICBgPGRpdj4KICAgICAgICAgICAgICAgICAgICAgPGRpdiBzdHlsZT0nbWFyZ2luOjA7IGJhY2tncm91bmQtY29sb3I6IGZpcmVicmljazsgY29sb3I6IHdoaXRlOyc+PGg0IHN0eWxlPSd0ZXh0LWFsaWduOmNlbnRlcjsgZm9udC13ZWlnaHQ6IGJvbGQnPkNoaW5hPC9oND48aHIgc3R5bGU9J21hcmdpbjoxMHB4OyBjb2xvcjogd2hpdGU7Jz48dWwgc3R5bGU9J2NvbG9yOiB3aGl0ZTs7bGlzdC1zdHlsZS10eXBlOiBjaXJjbGU7IGFsaWduLWl0ZW06IGxlZnQ7IHBhZGRpbmctbGVmdDogMjBweDsgcGFkZGluZy1yaWdodDoyMHB4Jz48bGk+VG90YWwgY2FzZXM6IDY4MTM1PC9saT48bGk+RGVhdGhzOiA0NTEyPC9saT48bGk+RGVhdGggcmF0ZSA6IDYuNjIlIDwvbGk+PC91bD48L2Rpdj4KICAgICAgICAgICAgICAgICA8L2Rpdj5gLAogICAgICAgICAgICAgICAgeyJzdGlja3kiOiB0cnVlfQogICAgICAgICAgICApOwogICAgICAgIAogICAgCiAgICAgICAgICAgIHZhciBjaXJjbGVfMGRlZjM4YTRiZDlkNDMzYzlmZjQ1ZjYwY2RmOTE3MzMgPSBMLmNpcmNsZSgKICAgICAgICAgICAgICAgIFsyNy42MTA0LCAxMTEuNzA4OF0sCiAgICAgICAgICAgICAgICB7ImJ1YmJsaW5nTW91c2VFdmVudHMiOiB0cnVlLCAiY29sb3IiOiAiY3JpbXNvbiIsICJkYXNoQXJyYXkiOiBudWxsLCAiZGFzaE9mZnNldCI6IG51bGwsICJmaWxsIjogdHJ1ZSwgImZpbGxDb2xvciI6ICJjcmltc29uIiwgImZpbGxPcGFjaXR5IjogMC4yLCAiZmlsbFJ1bGUiOiAiZXZlbm9kZCIsICJsaW5lQ2FwIjogInJvdW5kIiwgImxpbmVKb2luIjogInJvdW5kIiwgIm9wYWNpdHkiOiAxLjAsICJyYWRpdXMiOiAzMTAwMDAuMCwgInN0cm9rZSI6IHRydWUsICJ3ZWlnaHQiOiAzfQogICAgICAgICAgICApLmFkZFRvKG1hcF81NzVmYWYxMjE2Y2Y0YTRhOGVlMmEzMjg5ODMwYTlmNik7CiAgICAgICAgCiAgICAKICAgICAgICAgICAgY2lyY2xlXzBkZWYzOGE0YmQ5ZDQzM2M5ZmY0NWY2MGNkZjkxNzMzLmJpbmRUb29sdGlwKAogICAgICAgICAgICAgICAgYDxkaXY+CiAgICAgICAgICAgICAgICAgICAgIDxkaXYgc3R5bGU9J21hcmdpbjowOyBiYWNrZ3JvdW5kLWNvbG9yOiBmaXJlYnJpY2s7IGNvbG9yOiB3aGl0ZTsnPjxoNCBzdHlsZT0ndGV4dC1hbGlnbjpjZW50ZXI7IGZvbnQtd2VpZ2h0OiBib2xkJz5DaGluYTwvaDQ+PGhyIHN0eWxlPSdtYXJnaW46MTBweDsgY29sb3I6IHdoaXRlOyc+PHVsIHN0eWxlPSdjb2xvcjogd2hpdGU7O2xpc3Qtc3R5bGUtdHlwZTogY2lyY2xlOyBhbGlnbi1pdGVtOiBsZWZ0OyBwYWRkaW5nLWxlZnQ6IDIwcHg7IHBhZGRpbmctcmlnaHQ6MjBweCc+PGxpPlRvdGFsIGNhc2VzOiAxMDE5PC9saT48bGk+RGVhdGhzOiA0PC9saT48bGk+RGVhdGggcmF0ZSA6IDAuMzklIDwvbGk+PC91bD48L2Rpdj4KICAgICAgICAgICAgICAgICA8L2Rpdj5gLAogICAgICAgICAgICAgICAgeyJzdGlja3kiOiB0cnVlfQogICAgICAgICAgICApOwogICAgICAgIAogICAgCiAgICAgICAgICAgIHZhciBjaXJjbGVfNTQwZmIzZTJlNTY5NDJmNTg1YjE2ZmVlOTNkM2IzMGYgPSBMLmNpcmNsZSgKICAgICAgICAgICAgICAgIFs0NC4wOTM1LCAxMTMuOTQ0OF0sCiAgICAgICAgICAgICAgICB7ImJ1YmJsaW5nTW91c2VFdmVudHMiOiB0cnVlLCAiY29sb3IiOiAiY3JpbXNvbiIsICJkYXNoQXJyYXkiOiBudWxsLCAiZGFzaE9mZnNldCI6IG51bGwsICJmaWxsIjogdHJ1ZSwgImZpbGxDb2xvciI6ICJjcmltc29uIiwgImZpbGxPcGFjaXR5IjogMC4yLCAiZmlsbFJ1bGUiOiAiZXZlbm9kZCIsICJsaW5lQ2FwIjogInJvdW5kIiwgImxpbmVKb2luIjogInJvdW5kIiwgIm9wYWNpdHkiOiAxLjAsICJyYWRpdXMiOiAyNjAwMDAuMCwgInN0cm9rZSI6IHRydWUsICJ3ZWlnaHQiOiAzfQogICAgICAgICAgICApLmFkZFRvKG1hcF81NzVmYWYxMjE2Y2Y0YTRhOGVlMmEzMjg5ODMwYTlmNik7CiAgICAgICAgCiAgICAKICAgICAgICAgICAgY2lyY2xlXzU0MGZiM2UyZTU2OTQyZjU4NWIxNmZlZTkzZDNiMzBmLmJpbmRUb29sdGlwKAogICAgICAgICAgICAgICAgYDxkaXY+CiAgICAgICAgICAgICAgICAgICAgIDxkaXYgc3R5bGU9J21hcmdpbjowOyBiYWNrZ3JvdW5kLWNvbG9yOiBmaXJlYnJpY2s7IGNvbG9yOiB3aGl0ZTsnPjxoNCBzdHlsZT0ndGV4dC1hbGlnbjpjZW50ZXI7IGZvbnQtd2VpZ2h0OiBib2xkJz5DaGluYTwvaDQ+PGhyIHN0eWxlPSdtYXJnaW46MTBweDsgY29sb3I6IHdoaXRlOyc+PHVsIHN0eWxlPSdjb2xvcjogd2hpdGU7O2xpc3Qtc3R5bGUtdHlwZTogY2lyY2xlOyBhbGlnbi1pdGVtOiBsZWZ0OyBwYWRkaW5nLWxlZnQ6IDIwcHg7IHBhZGRpbmctcmlnaHQ6MjBweCc+PGxpPlRvdGFsIGNhc2VzOiAyNTA8L2xpPjxsaT5EZWF0aHM6IDE8L2xpPjxsaT5EZWF0aCByYXRlIDogMC40JSA8L2xpPjwvdWw+PC9kaXY+CiAgICAgICAgICAgICAgICAgPC9kaXY+YCwKICAgICAgICAgICAgICAgIHsic3RpY2t5IjogdHJ1ZX0KICAgICAgICAgICAgKTsKICAgICAgICAKICAgIAogICAgICAgICAgICB2YXIgY2lyY2xlX2M4M2IxYWQxYzVmYzRkMjk4NDUyMWJjNGY0OTRjNWQ0ID0gTC5jaXJjbGUoCiAgICAgICAgICAgICAgICBbMzIuOTcxMSwgMTE5LjQ1NV0sCiAgICAgICAgICAgICAgICB7ImJ1YmJsaW5nTW91c2VFdmVudHMiOiB0cnVlLCAiY29sb3IiOiAiY3JpbXNvbiIsICJkYXNoQXJyYXkiOiBudWxsLCAiZGFzaE9mZnNldCI6IG51bGwsICJmaWxsIjogdHJ1ZSwgImZpbGxDb2xvciI6ICJjcmltc29uIiwgImZpbGxPcGFjaXR5IjogMC4yLCAiZmlsbFJ1bGUiOiAiZXZlbm9kZCIsICJsaW5lQ2FwIjogInJvdW5kIiwgImxpbmVKb2luIjogInJvdW5kIiwgIm9wYWNpdHkiOiAxLjAsICJyYWRpdXMiOiAzMTAwMDAuMCwgInN0cm9rZSI6IHRydWUsICJ3ZWlnaHQiOiAzfQogICAgICAgICAgICApLmFkZFRvKG1hcF81NzVmYWYxMjE2Y2Y0YTRhOGVlMmEzMjg5ODMwYTlmNik7CiAgICAgICAgCiAgICAKICAgICAgICAgICAgY2lyY2xlX2M4M2IxYWQxYzVmYzRkMjk4NDUyMWJjNGY0OTRjNWQ0LmJpbmRUb29sdGlwKAogICAgICAgICAgICAgICAgYDxkaXY+CiAgICAgICAgICAgICAgICAgICAgIDxkaXYgc3R5bGU9J21hcmdpbjowOyBiYWNrZ3JvdW5kLWNvbG9yOiBmaXJlYnJpY2s7IGNvbG9yOiB3aGl0ZTsnPjxoNCBzdHlsZT0ndGV4dC1hbGlnbjpjZW50ZXI7IGZvbnQtd2VpZ2h0OiBib2xkJz5DaGluYTwvaDQ+PGhyIHN0eWxlPSdtYXJnaW46MTBweDsgY29sb3I6IHdoaXRlOyc+PHVsIHN0eWxlPSdjb2xvcjogd2hpdGU7O2xpc3Qtc3R5bGUtdHlwZTogY2lyY2xlOyBhbGlnbi1pdGVtOiBsZWZ0OyBwYWRkaW5nLWxlZnQ6IDIwcHg7IHBhZGRpbmctcmlnaHQ6MjBweCc+PGxpPlRvdGFsIGNhc2VzOiA2NTU8L2xpPjxsaT5EZWF0aHM6IDA8L2xpPjxsaT5EZWF0aCByYXRlIDogMC4wJSA8L2xpPjwvdWw+PC9kaXY+CiAgICAgICAgICAgICAgICAgPC9kaXY+YCwKICAgICAgICAgICAgICAgIHsic3RpY2t5IjogdHJ1ZX0KICAgICAgICAgICAgKTsKICAgICAgICAKICAgIAogICAgICAgICAgICB2YXIgY2lyY2xlXzMzNTc2MTY2NzM0NDQ2Y2JhN2M1MDViNmVhMzUwNTRjID0gTC5jaXJjbGUoCiAgICAgICAgICAgICAgICBbMjcuNjE0LCAxMTUuNzIyMV0sCiAgICAgICAgICAgICAgICB7ImJ1YmJsaW5nTW91c2VFdmVudHMiOiB0cnVlLCAiY29sb3IiOiAiY3JpbXNvbiIsICJkYXNoQXJyYXkiOiBudWxsLCAiZGFzaE9mZnNldCI6IG51bGwsICJmaWxsIjogdHJ1ZSwgImZpbGxDb2xvciI6ICJjcmltc29uIiwgImZpbGxPcGFjaXR5IjogMC4yLCAiZmlsbFJ1bGUiOiAiZXZlbm9kZCIsICJsaW5lQ2FwIjogInJvdW5kIiwgImxpbmVKb2luIjogInJvdW5kIiwgIm9wYWNpdHkiOiAxLjAsICJyYWRpdXMiOiAzMTAwMDAuMCwgInN0cm9rZSI6IHRydWUsICJ3ZWlnaHQiOiAzfQogICAgICAgICAgICApLmFkZFRvKG1hcF81NzVmYWYxMjE2Y2Y0YTRhOGVlMmEzMjg5ODMwYTlmNik7CiAgICAgICAgCiAgICAKICAgICAgICAgICAgY2lyY2xlXzMzNTc2MTY2NzM0NDQ2Y2JhN2M1MDViNmVhMzUwNTRjLmJpbmRUb29sdGlwKAogICAgICAgICAgICAgICAgYDxkaXY+CiAgICAgICAgICAgICAgICAgICAgIDxkaXYgc3R5bGU9J21hcmdpbjowOyBiYWNrZ3JvdW5kLWNvbG9yOiBmaXJlYnJpY2s7IGNvbG9yOiB3aGl0ZTsnPjxoNCBzdHlsZT0ndGV4dC1hbGlnbjpjZW50ZXI7IGZvbnQtd2VpZ2h0OiBib2xkJz5DaGluYTwvaDQ+PGhyIHN0eWxlPSdtYXJnaW46MTBweDsgY29sb3I6IHdoaXRlOyc+PHVsIHN0eWxlPSdjb2xvcjogd2hpdGU7O2xpc3Qtc3R5bGUtdHlwZTogY2lyY2xlOyBhbGlnbi1pdGVtOiBsZWZ0OyBwYWRkaW5nLWxlZnQ6IDIwcHg7IHBhZGRpbmctcmlnaHQ6MjBweCc+PGxpPlRvdGFsIGNhc2VzOiA5MzI8L2xpPjxsaT5EZWF0aHM6IDE8L2xpPjxsaT5EZWF0aCByYXRlIDogMC4xMSUgPC9saT48L3VsPjwvZGl2PgogICAgICAgICAgICAgICAgIDwvZGl2PmAsCiAgICAgICAgICAgICAgICB7InN0aWNreSI6IHRydWV9CiAgICAgICAgICAgICk7CiAgICAgICAgCiAgICAKICAgICAgICAgICAgdmFyIGNpcmNsZV9mMmZlNDY5MDQ3Y2M0NDQ4YmE0YjU2Yzg3NzBmYjdiZiA9IEwuY2lyY2xlKAogICAgICAgICAgICAgICAgWzQzLjY2NjEsIDEyNi4xOTIzXSwKICAgICAgICAgICAgICAgIHsiYnViYmxpbmdNb3VzZUV2ZW50cyI6IHRydWUsICJjb2xvciI6ICJjcmltc29uIiwgImRhc2hBcnJheSI6IG51bGwsICJkYXNoT2Zmc2V0IjogbnVsbCwgImZpbGwiOiB0cnVlLCAiZmlsbENvbG9yIjogImNyaW1zb24iLCAiZmlsbE9wYWNpdHkiOiAwLjIsICJmaWxsUnVsZSI6ICJldmVub2RkIiwgImxpbmVDYXAiOiAicm91bmQiLCAibGluZUpvaW4iOiAicm91bmQiLCAib3BhY2l0eSI6IDEuMCwgInJhZGl1cyI6IDI2MDAwMC4wLCAic3Ryb2tlIjogdHJ1ZSwgIndlaWdodCI6IDN9CiAgICAgICAgICAgICkuYWRkVG8obWFwXzU3NWZhZjEyMTZjZjRhNGE4ZWUyYTMyODk4MzBhOWY2KTsKICAgICAgICAKICAgIAogICAgICAgICAgICBjaXJjbGVfZjJmZTQ2OTA0N2NjNDQ0OGJhNGI1NmM4NzcwZmI3YmYuYmluZFRvb2x0aXAoCiAgICAgICAgICAgICAgICBgPGRpdj4KICAgICAgICAgICAgICAgICAgICAgPGRpdiBzdHlsZT0nbWFyZ2luOjA7IGJhY2tncm91bmQtY29sb3I6IGZpcmVicmljazsgY29sb3I6IHdoaXRlOyc+PGg0IHN0eWxlPSd0ZXh0LWFsaWduOmNlbnRlcjsgZm9udC13ZWlnaHQ6IGJvbGQnPkNoaW5hPC9oND48aHIgc3R5bGU9J21hcmdpbjoxMHB4OyBjb2xvcjogd2hpdGU7Jz48dWwgc3R5bGU9J2NvbG9yOiB3aGl0ZTs7bGlzdC1zdHlsZS10eXBlOiBjaXJjbGU7IGFsaWduLWl0ZW06IGxlZnQ7IHBhZGRpbmctbGVmdDogMjBweDsgcGFkZGluZy1yaWdodDoyMHB4Jz48bGk+VG90YWwgY2FzZXM6IDE1NTwvbGk+PGxpPkRlYXRoczogMjwvbGk+PGxpPkRlYXRoIHJhdGUgOiAxLjI4JSA8L2xpPjwvdWw+PC9kaXY+CiAgICAgICAgICAgICAgICAgPC9kaXY+YCwKICAgICAgICAgICAgICAgIHsic3RpY2t5IjogdHJ1ZX0KICAgICAgICAgICAgKTsKICAgICAgICAKICAgIAogICAgICAgICAgICB2YXIgY2lyY2xlXzlkNDlkYzU5ODI1MzQ0NjQ4NTEzMjg0NDdhMTIyMDM2ID0gTC5jaXJjbGUoCiAgICAgICAgICAgICAgICBbNDEuMjk1NiwgMTIyLjYwODVdLAogICAgICAgICAgICAgICAgeyJidWJibGluZ01vdXNlRXZlbnRzIjogdHJ1ZSwgImNvbG9yIjogImNyaW1zb24iLCAiZGFzaEFycmF5IjogbnVsbCwgImRhc2hPZmZzZXQiOiBudWxsLCAiZmlsbCI6IHRydWUsICJmaWxsQ29sb3IiOiAiY3JpbXNvbiIsICJmaWxsT3BhY2l0eSI6IDAuMiwgImZpbGxSdWxlIjogImV2ZW5vZGQiLCAibGluZUNhcCI6ICJyb3VuZCIsICJsaW5lSm9pbiI6ICJyb3VuZCIsICJvcGFjaXR5IjogMS4wLCAicmFkaXVzIjogMjYwMDAwLjAsICJzdHJva2UiOiB0cnVlLCAid2VpZ2h0IjogM30KICAgICAgICAgICAgKS5hZGRUbyhtYXBfNTc1ZmFmMTIxNmNmNGE0YThlZTJhMzI4OTgzMGE5ZjYpOwogICAgICAgIAogICAgCiAgICAgICAgICAgIGNpcmNsZV85ZDQ5ZGM1OTgyNTM0NDY0ODUxMzI4NDQ3YTEyMjAzNi5iaW5kVG9vbHRpcCgKICAgICAgICAgICAgICAgIGA8ZGl2PgogICAgICAgICAgICAgICAgICAgICA8ZGl2IHN0eWxlPSdtYXJnaW46MDsgYmFja2dyb3VuZC1jb2xvcjogZmlyZWJyaWNrOyBjb2xvcjogd2hpdGU7Jz48aDQgc3R5bGU9J3RleHQtYWxpZ246Y2VudGVyOyBmb250LXdlaWdodDogYm9sZCc+Q2hpbmE8L2g0PjxociBzdHlsZT0nbWFyZ2luOjEwcHg7IGNvbG9yOiB3aGl0ZTsnPjx1bCBzdHlsZT0nY29sb3I6IHdoaXRlOztsaXN0LXN0eWxlLXR5cGU6IGNpcmNsZTsgYWxpZ24taXRlbTogbGVmdDsgcGFkZGluZy1sZWZ0OiAyMHB4OyBwYWRkaW5nLXJpZ2h0OjIwcHgnPjxsaT5Ub3RhbCBjYXNlczogMTY3PC9saT48bGk+RGVhdGhzOiAyPC9saT48bGk+RGVhdGggcmF0ZSA6IDEuMTklIDwvbGk+PC91bD48L2Rpdj4KICAgICAgICAgICAgICAgICA8L2Rpdj5gLAogICAgICAgICAgICAgICAgeyJzdGlja3kiOiB0cnVlfQogICAgICAgICAgICApOwogICAgICAgIAogICAgCiAgICAgICAgICAgIHZhciBjaXJjbGVfZDJkOTA5ZDc3ODNjNDUyYzgyMTUyZTIyMDY3ZDJmZTEgPSBMLmNpcmNsZSgKICAgICAgICAgICAgICAgIFsyMi4xNjY3LCAxMTMuNTVdLAogICAgICAgICAgICAgICAgeyJidWJibGluZ01vdXNlRXZlbnRzIjogdHJ1ZSwgImNvbG9yIjogImNyaW1zb24iLCAiZGFzaEFycmF5IjogbnVsbCwgImRhc2hPZmZzZXQiOiBudWxsLCAiZmlsbCI6IHRydWUsICJmaWxsQ29sb3IiOiAiY3JpbXNvbiIsICJmaWxsT3BhY2l0eSI6IDAuMiwgImZpbGxSdWxlIjogImV2ZW5vZGQiLCAibGluZUNhcCI6ICJyb3VuZCIsICJsaW5lSm9pbiI6ICJyb3VuZCIsICJvcGFjaXR5IjogMS4wLCAicmFkaXVzIjogMTYwMDAwLjAsICJzdHJva2UiOiB0cnVlLCAid2VpZ2h0IjogM30KICAgICAgICAgICAgKS5hZGRUbyhtYXBfNTc1ZmFmMTIxNmNmNGE0YThlZTJhMzI4OTgzMGE5ZjYpOwogICAgICAgIAogICAgCiAgICAgICAgICAgIGNpcmNsZV9kMmQ5MDlkNzc4M2M0NTJjODIxNTJlMjIwNjdkMmZlMS5iaW5kVG9vbHRpcCgKICAgICAgICAgICAgICAgIGA8ZGl2PgogICAgICAgICAgICAgICAgICAgICA8ZGl2IHN0eWxlPSdtYXJnaW46MDsgYmFja2dyb3VuZC1jb2xvcjogZmlyZWJyaWNrOyBjb2xvcjogd2hpdGU7Jz48aDQgc3R5bGU9J3RleHQtYWxpZ246Y2VudGVyOyBmb250LXdlaWdodDogYm9sZCc+Q2hpbmE8L2g0PjxociBzdHlsZT0nbWFyZ2luOjEwcHg7IGNvbG9yOiB3aGl0ZTsnPjx1bCBzdHlsZT0nY29sb3I6IHdoaXRlOztsaXN0LXN0eWxlLXR5cGU6IGNpcmNsZTsgYWxpZ24taXRlbTogbGVmdDsgcGFkZGluZy1sZWZ0OiAyMHB4OyBwYWRkaW5nLXJpZ2h0OjIwcHgnPjxsaT5Ub3RhbCBjYXNlczogNDY8L2xpPjxsaT5EZWF0aHM6IDA8L2xpPjxsaT5EZWF0aCByYXRlIDogMC4wJSA8L2xpPjwvdWw+PC9kaXY+CiAgICAgICAgICAgICAgICAgPC9kaXY+YCwKICAgICAgICAgICAgICAgIHsic3RpY2t5IjogdHJ1ZX0KICAgICAgICAgICAgKTsKICAgICAgICAKICAgIAogICAgICAgICAgICB2YXIgY2lyY2xlX2U1NDY5NTc5YTI1NTQ4Y2VhYzAzYWM1M2JlOGE1ODJmID0gTC5jaXJjbGUoCiAgICAgICAgICAgICAgICBbMzcuMjY5MiwgMTA2LjE2NTVdLAogICAgICAgICAgICAgICAgeyJidWJibGluZ01vdXNlRXZlbnRzIjogdHJ1ZSwgImNvbG9yIjogImNyaW1zb24iLCAiZGFzaEFycmF5IjogbnVsbCwgImRhc2hPZmZzZXQiOiBudWxsLCAiZmlsbCI6IHRydWUsICJmaWxsQ29sb3IiOiAiY3JpbXNvbiIsICJmaWxsT3BhY2l0eSI6IDAuMiwgImZpbGxSdWxlIjogImV2ZW5vZGQiLCAibGluZUNhcCI6ICJyb3VuZCIsICJsaW5lSm9pbiI6ICJyb3VuZCIsICJvcGFjaXR5IjogMS4wLCAicmFkaXVzIjogMjEwMDAwLjAsICJzdHJva2UiOiB0cnVlLCAid2VpZ2h0IjogM30KICAgICAgICAgICAgKS5hZGRUbyhtYXBfNTc1ZmFmMTIxNmNmNGE0YThlZTJhMzI4OTgzMGE5ZjYpOwogICAgICAgIAogICAgCiAgICAgICAgICAgIGNpcmNsZV9lNTQ2OTU3OWEyNTU0OGNlYWMwM2FjNTNiZThhNTgyZi5iaW5kVG9vbHRpcCgKICAgICAgICAgICAgICAgIGA8ZGl2PgogICAgICAgICAgICAgICAgICAgICA8ZGl2IHN0eWxlPSdtYXJnaW46MDsgYmFja2dyb3VuZC1jb2xvcjogZmlyZWJyaWNrOyBjb2xvcjogd2hpdGU7Jz48aDQgc3R5bGU9J3RleHQtYWxpZ246Y2VudGVyOyBmb250LXdlaWdodDogYm9sZCc+Q2hpbmE8L2g0PjxociBzdHlsZT0nbWFyZ2luOjEwcHg7IGNvbG9yOiB3aGl0ZTsnPjx1bCBzdHlsZT0nY29sb3I6IHdoaXRlOztsaXN0LXN0eWxlLXR5cGU6IGNpcmNsZTsgYWxpZ24taXRlbTogbGVmdDsgcGFkZGluZy1sZWZ0OiAyMHB4OyBwYWRkaW5nLXJpZ2h0OjIwcHgnPjxsaT5Ub3RhbCBjYXNlczogNzU8L2xpPjxsaT5EZWF0aHM6IDA8L2xpPjxsaT5EZWF0aCByYXRlIDogMC4wJSA8L2xpPjwvdWw+PC9kaXY+CiAgICAgICAgICAgICAgICAgPC9kaXY+YCwKICAgICAgICAgICAgICAgIHsic3RpY2t5IjogdHJ1ZX0KICAgICAgICAgICAgKTsKICAgICAgICAKICAgIAogICAgICAgICAgICB2YXIgY2lyY2xlXzBlOWI5NDNiZGI2OTRjZjdiYWYzYjMyNjUzNjg3NjkzID0gTC5jaXJjbGUoCiAgICAgICAgICAgICAgICBbMzUuNzQ1MiwgOTUuOTk1Nl0sCiAgICAgICAgICAgICAgICB7ImJ1YmJsaW5nTW91c2VFdmVudHMiOiB0cnVlLCAiY29sb3IiOiAiY3JpbXNvbiIsICJkYXNoQXJyYXkiOiBudWxsLCAiZGFzaE9mZnNldCI6IG51bGwsICJmaWxsIjogdHJ1ZSwgImZpbGxDb2xvciI6ICJjcmltc29uIiwgImZpbGxPcGFjaXR5IjogMC4yLCAiZmlsbFJ1bGUiOiAiZXZlbm9kZCIsICJsaW5lQ2FwIjogInJvdW5kIiwgImxpbmVKb2luIjogInJvdW5kIiwgIm9wYWNpdHkiOiAxLjAsICJyYWRpdXMiOiAxMTAwMDAuMDAwMDAwMDAwMDEsICJzdHJva2UiOiB0cnVlLCAid2VpZ2h0IjogM30KICAgICAgICAgICAgKS5hZGRUbyhtYXBfNTc1ZmFmMTIxNmNmNGE0YThlZTJhMzI4OTgzMGE5ZjYpOwogICAgICAgIAogICAgCiAgICAgICAgICAgIGNpcmNsZV8wZTliOTQzYmRiNjk0Y2Y3YmFmM2IzMjY1MzY4NzY5My5iaW5kVG9vbHRpcCgKICAgICAgICAgICAgICAgIGA8ZGl2PgogICAgICAgICAgICAgICAgICAgICA8ZGl2IHN0eWxlPSdtYXJnaW46MDsgYmFja2dyb3VuZC1jb2xvcjogZmlyZWJyaWNrOyBjb2xvcjogd2hpdGU7Jz48aDQgc3R5bGU9J3RleHQtYWxpZ246Y2VudGVyOyBmb250LXdlaWdodDogYm9sZCc+Q2hpbmE8L2g0PjxociBzdHlsZT0nbWFyZ2luOjEwcHg7IGNvbG9yOiB3aGl0ZTsnPjx1bCBzdHlsZT0nY29sb3I6IHdoaXRlOztsaXN0LXN0eWxlLXR5cGU6IGNpcmNsZTsgYWxpZ24taXRlbTogbGVmdDsgcGFkZGluZy1sZWZ0OiAyMHB4OyBwYWRkaW5nLXJpZ2h0OjIwcHgnPjxsaT5Ub3RhbCBjYXNlczogMTg8L2xpPjxsaT5EZWF0aHM6IDA8L2xpPjxsaT5EZWF0aCByYXRlIDogMC4wJSA8L2xpPjwvdWw+PC9kaXY+CiAgICAgICAgICAgICAgICAgPC9kaXY+YCwKICAgICAgICAgICAgICAgIHsic3RpY2t5IjogdHJ1ZX0KICAgICAgICAgICAgKTsKICAgICAgICAKICAgIAogICAgICAgICAgICB2YXIgY2lyY2xlXzQwZmJhYzU1NjliNTRlYzM5ZDY1MTQ0Yzc1YTVmMzVmID0gTC5jaXJjbGUoCiAgICAgICAgICAgICAgICBbMzUuMTkxNywgMTA4Ljg3MDFdLAogICAgICAgICAgICAgICAgeyJidWJibGluZ01vdXNlRXZlbnRzIjogdHJ1ZSwgImNvbG9yIjogImNyaW1zb24iLCAiZGFzaEFycmF5IjogbnVsbCwgImRhc2hPZmZzZXQiOiBudWxsLCAiZmlsbCI6IHRydWUsICJmaWxsQ29sb3IiOiAiY3JpbXNvbiIsICJmaWxsT3BhY2l0eSI6IDAuMiwgImZpbGxSdWxlIjogImV2ZW5vZGQiLCAibGluZUNhcCI6ICJyb3VuZCIsICJsaW5lSm9pbiI6ICJyb3VuZCIsICJvcGFjaXR5IjogMS4wLCAicmFkaXVzIjogMjYwMDAwLjAsICJzdHJva2UiOiB0cnVlLCAid2VpZ2h0IjogM30KICAgICAgICAgICAgKS5hZGRUbyhtYXBfNTc1ZmFmMTIxNmNmNGE0YThlZTJhMzI4OTgzMGE5ZjYpOwogICAgICAgIAogICAgCiAgICAgICAgICAgIGNpcmNsZV80MGZiYWM1NTY5YjU0ZWMzOWQ2NTE0NGM3NWE1ZjM1Zi5iaW5kVG9vbHRpcCgKICAgICAgICAgICAgICAgIGA8ZGl2PgogICAgICAgICAgICAgICAgICAgICA8ZGl2IHN0eWxlPSdtYXJnaW46MDsgYmFja2dyb3VuZC1jb2xvcjogZmlyZWJyaWNrOyBjb2xvcjogd2hpdGU7Jz48aDQgc3R5bGU9J3RleHQtYWxpZ246Y2VudGVyOyBmb250LXdlaWdodDogYm9sZCc+Q2hpbmE8L2g0PjxociBzdHlsZT0nbWFyZ2luOjEwcHg7IGNvbG9yOiB3aGl0ZTsnPjx1bCBzdHlsZT0nY29sb3I6IHdoaXRlOztsaXN0LXN0eWxlLXR5cGU6IGNpcmNsZTsgYWxpZ24taXRlbTogbGVmdDsgcGFkZGluZy1sZWZ0OiAyMHB4OyBwYWRkaW5nLXJpZ2h0OjIwcHgnPjxsaT5Ub3RhbCBjYXNlczogMzIzPC9saT48bGk+RGVhdGhzOiAzPC9saT48bGk+RGVhdGggcmF0ZSA6IDAuOTMlIDwvbGk+PC91bD48L2Rpdj4KICAgICAgICAgICAgICAgICA8L2Rpdj5gLAogICAgICAgICAgICAgICAgeyJzdGlja3kiOiB0cnVlfQogICAgICAgICAgICApOwogICAgICAgIAogICAgCiAgICAgICAgICAgIHZhciBjaXJjbGVfNDdiMDE4ZTEwNzM1NDM2MzgxNmUwYWY5ZTY0ODQyZWEgPSBMLmNpcmNsZSgKICAgICAgICAgICAgICAgIFszNi4zNDI3LCAxMTguMTQ5OF0sCiAgICAgICAgICAgICAgICB7ImJ1YmJsaW5nTW91c2VFdmVudHMiOiB0cnVlLCAiY29sb3IiOiAiY3JpbXNvbiIsICJkYXNoQXJyYXkiOiBudWxsLCAiZGFzaE9mZnNldCI6IG51bGwsICJmaWxsIjogdHJ1ZSwgImZpbGxDb2xvciI6ICJjcmltc29uIiwgImZpbGxPcGFjaXR5IjogMC4yLCAiZmlsbFJ1bGUiOiAiZXZlbm9kZCIsICJsaW5lQ2FwIjogInJvdW5kIiwgImxpbmVKb2luIjogInJvdW5kIiwgIm9wYWNpdHkiOiAxLjAsICJyYWRpdXMiOiAzMTAwMDAuMCwgInN0cm9rZSI6IHRydWUsICJ3ZWlnaHQiOiAzfQogICAgICAgICAgICApLmFkZFRvKG1hcF81NzVmYWYxMjE2Y2Y0YTRhOGVlMmEzMjg5ODMwYTlmNik7CiAgICAgICAgCiAgICAKICAgICAgICAgICAgY2lyY2xlXzQ3YjAxOGUxMDczNTQzNjM4MTZlMGFmOWU2NDg0MmVhLmJpbmRUb29sdGlwKAogICAgICAgICAgICAgICAgYDxkaXY+CiAgICAgICAgICAgICAgICAgICAgIDxkaXYgc3R5bGU9J21hcmdpbjowOyBiYWNrZ3JvdW5kLWNvbG9yOiBmaXJlYnJpY2s7IGNvbG9yOiB3aGl0ZTsnPjxoNCBzdHlsZT0ndGV4dC1hbGlnbjpjZW50ZXI7IGZvbnQtd2VpZ2h0OiBib2xkJz5DaGluYTwvaDQ+PGhyIHN0eWxlPSdtYXJnaW46MTBweDsgY29sb3I6IHdoaXRlOyc+PHVsIHN0eWxlPSdjb2xvcjogd2hpdGU7O2xpc3Qtc3R5bGUtdHlwZTogY2lyY2xlOyBhbGlnbi1pdGVtOiBsZWZ0OyBwYWRkaW5nLWxlZnQ6IDIwcHg7IHBhZGRpbmctcmlnaHQ6MjBweCc+PGxpPlRvdGFsIGNhc2VzOiA3OTg8L2xpPjxsaT5EZWF0aHM6IDc8L2xpPjxsaT5EZWF0aCByYXRlIDogMC44OCUgPC9saT48L3VsPjwvZGl2PgogICAgICAgICAgICAgICAgIDwvZGl2PmAsCiAgICAgICAgICAgICAgICB7InN0aWNreSI6IHRydWV9CiAgICAgICAgICAgICk7CiAgICAgICAgCiAgICAKICAgICAgICAgICAgdmFyIGNpcmNsZV9lY2U0ODI3MTBjN2Y0Mzc4YjY5YmQ0ZDE4OGE5NzViZSA9IEwuY2lyY2xlKAogICAgICAgICAgICAgICAgWzMxLjIwMTk5OTk5OTk5OTk5OCwgMTIxLjQ0OTFdLAogICAgICAgICAgICAgICAgeyJidWJibGluZ01vdXNlRXZlbnRzIjogdHJ1ZSwgImNvbG9yIjogImNyaW1zb24iLCAiZGFzaEFycmF5IjogbnVsbCwgImRhc2hPZmZzZXQiOiBudWxsLCAiZmlsbCI6IHRydWUsICJmaWxsQ29sb3IiOiAiY3JpbXNvbiIsICJmaWxsT3BhY2l0eSI6IDAuMiwgImZpbGxSdWxlIjogImV2ZW5vZGQiLCAibGluZUNhcCI6ICJyb3VuZCIsICJsaW5lSm9pbiI6ICJyb3VuZCIsICJvcGFjaXR5IjogMS4wLCAicmFkaXVzIjogMzEwMDAwLjAsICJzdHJva2UiOiB0cnVlLCAid2VpZ2h0IjogM30KICAgICAgICAgICAgKS5hZGRUbyhtYXBfNTc1ZmFmMTIxNmNmNGE0YThlZTJhMzI4OTgzMGE5ZjYpOwogICAgICAgIAogICAgCiAgICAgICAgICAgIGNpcmNsZV9lY2U0ODI3MTBjN2Y0Mzc4YjY5YmQ0ZDE4OGE5NzViZS5iaW5kVG9vbHRpcCgKICAgICAgICAgICAgICAgIGA8ZGl2PgogICAgICAgICAgICAgICAgICAgICA8ZGl2IHN0eWxlPSdtYXJnaW46MDsgYmFja2dyb3VuZC1jb2xvcjogZmlyZWJyaWNrOyBjb2xvcjogd2hpdGU7Jz48aDQgc3R5bGU9J3RleHQtYWxpZ246Y2VudGVyOyBmb250LXdlaWdodDogYm9sZCc+Q2hpbmE8L2g0PjxociBzdHlsZT0nbWFyZ2luOjEwcHg7IGNvbG9yOiB3aGl0ZTsnPjx1bCBzdHlsZT0nY29sb3I6IHdoaXRlOztsaXN0LXN0eWxlLXR5cGU6IGNpcmNsZTsgYWxpZ24taXRlbTogbGVmdDsgcGFkZGluZy1sZWZ0OiAyMHB4OyBwYWRkaW5nLXJpZ2h0OjIwcHgnPjxsaT5Ub3RhbCBjYXNlczogNzM5PC9saT48bGk+RGVhdGhzOiA3PC9saT48bGk+RGVhdGggcmF0ZSA6IDAuOTUlIDwvbGk+PC91bD48L2Rpdj4KICAgICAgICAgICAgICAgICA8L2Rpdj5gLAogICAgICAgICAgICAgICAgeyJzdGlja3kiOiB0cnVlfQogICAgICAgICAgICApOwogICAgICAgIAogICAgCiAgICAgICAgICAgIHZhciBjaXJjbGVfOWY2MDdiNjI0YWQ5NGNhY2EyZGFhZjJkMWU1YzNkMzEgPSBMLmNpcmNsZSgKICAgICAgICAgICAgICAgIFszNy41Nzc3LCAxMTIuMjkyMl0sCiAgICAgICAgICAgICAgICB7ImJ1YmJsaW5nTW91c2VFdmVudHMiOiB0cnVlLCAiY29sb3IiOiAiY3JpbXNvbiIsICJkYXNoQXJyYXkiOiBudWxsLCAiZGFzaE9mZnNldCI6IG51bGwsICJmaWxsIjogdHJ1ZSwgImZpbGxDb2xvciI6ICJjcmltc29uIiwgImZpbGxPcGFjaXR5IjogMC4yLCAiZmlsbFJ1bGUiOiAiZXZlbm9kZCIsICJsaW5lQ2FwIjogInJvdW5kIiwgImxpbmVKb2luIjogInJvdW5kIiwgIm9wYWNpdHkiOiAxLjAsICJyYWRpdXMiOiAyNjAwMDAuMCwgInN0cm9rZSI6IHRydWUsICJ3ZWlnaHQiOiAzfQogICAgICAgICAgICApLmFkZFRvKG1hcF81NzVmYWYxMjE2Y2Y0YTRhOGVlMmEzMjg5ODMwYTlmNik7CiAgICAgICAgCiAgICAKICAgICAgICAgICAgY2lyY2xlXzlmNjA3YjYyNGFkOTRjYWNhMmRhYWYyZDFlNWMzZDMxLmJpbmRUb29sdGlwKAogICAgICAgICAgICAgICAgYDxkaXY+CiAgICAgICAgICAgICAgICAgICAgIDxkaXYgc3R5bGU9J21hcmdpbjowOyBiYWNrZ3JvdW5kLWNvbG9yOiBmaXJlYnJpY2s7IGNvbG9yOiB3aGl0ZTsnPjxoNCBzdHlsZT0ndGV4dC1hbGlnbjpjZW50ZXI7IGZvbnQtd2VpZ2h0OiBib2xkJz5DaGluYTwvaDQ+PGhyIHN0eWxlPSdtYXJnaW46MTBweDsgY29sb3I6IHdoaXRlOyc+PHVsIHN0eWxlPSdjb2xvcjogd2hpdGU7O2xpc3Qtc3R5bGUtdHlwZTogY2lyY2xlOyBhbGlnbi1pdGVtOiBsZWZ0OyBwYWRkaW5nLWxlZnQ6IDIwcHg7IHBhZGRpbmctcmlnaHQ6MjBweCc+PGxpPlRvdGFsIGNhc2VzOiAyMDE8L2xpPjxsaT5EZWF0aHM6IDA8L2xpPjxsaT5EZWF0aCByYXRlIDogMC4wJSA8L2xpPjwvdWw+PC9kaXY+CiAgICAgICAgICAgICAgICAgPC9kaXY+YCwKICAgICAgICAgICAgICAgIHsic3RpY2t5IjogdHJ1ZX0KICAgICAgICAgICAgKTsKICAgICAgICAKICAgIAogICAgICAgICAgICB2YXIgY2lyY2xlXzg0NzU5OWFhM2VjMDRiMGFiYmNkMzgzM2JlMzg2NWVlID0gTC5jaXJjbGUoCiAgICAgICAgICAgICAgICBbMzAuNjE3MSwgMTAyLjcxMDNdLAogICAgICAgICAgICAgICAgeyJidWJibGluZ01vdXNlRXZlbnRzIjogdHJ1ZSwgImNvbG9yIjogImNyaW1zb24iLCAiZGFzaEFycmF5IjogbnVsbCwgImRhc2hPZmZzZXQiOiBudWxsLCAiZmlsbCI6IHRydWUsICJmaWxsQ29sb3IiOiAiY3JpbXNvbiIsICJmaWxsT3BhY2l0eSI6IDAuMiwgImZpbGxSdWxlIjogImV2ZW5vZGQiLCAibGluZUNhcCI6ICJyb3VuZCIsICJsaW5lSm9pbiI6ICJyb3VuZCIsICJvcGFjaXR5IjogMS4wLCAicmFkaXVzIjogMzEwMDAwLjAsICJzdHJva2UiOiB0cnVlLCAid2VpZ2h0IjogM30KICAgICAgICAgICAgKS5hZGRUbyhtYXBfNTc1ZmFmMTIxNmNmNGE0YThlZTJhMzI4OTgzMGE5ZjYpOwogICAgICAgIAogICAgCiAgICAgICAgICAgIGNpcmNsZV84NDc1OTlhYTNlYzA0YjBhYmJjZDM4MzNiZTM4NjVlZS5iaW5kVG9vbHRpcCgKICAgICAgICAgICAgICAgIGA8ZGl2PgogICAgICAgICAgICAgICAgICAgICA8ZGl2IHN0eWxlPSdtYXJnaW46MDsgYmFja2dyb3VuZC1jb2xvcjogZmlyZWJyaWNrOyBjb2xvcjogd2hpdGU7Jz48aDQgc3R5bGU9J3RleHQtYWxpZ246Y2VudGVyOyBmb250LXdlaWdodDogYm9sZCc+Q2hpbmE8L2g0PjxociBzdHlsZT0nbWFyZ2luOjEwcHg7IGNvbG9yOiB3aGl0ZTsnPjx1bCBzdHlsZT0nY29sb3I6IHdoaXRlOztsaXN0LXN0eWxlLXR5cGU6IGNpcmNsZTsgYWxpZ24taXRlbTogbGVmdDsgcGFkZGluZy1sZWZ0OiAyMHB4OyBwYWRkaW5nLXJpZ2h0OjIwcHgnPjxsaT5Ub3RhbCBjYXNlczogNjAzPC9saT48bGk+RGVhdGhzOiAzPC9saT48bGk+RGVhdGggcmF0ZSA6IDAuNSUgPC9saT48L3VsPjwvZGl2PgogICAgICAgICAgICAgICAgIDwvZGl2PmAsCiAgICAgICAgICAgICAgICB7InN0aWNreSI6IHRydWV9CiAgICAgICAgICAgICk7CiAgICAgICAgCiAgICAKICAgICAgICAgICAgdmFyIGNpcmNsZV9jN2ViNjliZjg1YzI0ZWIzYjA3MzIxYTA1NjMwMzdjMiA9IEwuY2lyY2xlKAogICAgICAgICAgICAgICAgWzM5LjMwNTQsIDExNy4zMjNdLAogICAgICAgICAgICAgICAgeyJidWJibGluZ01vdXNlRXZlbnRzIjogdHJ1ZSwgImNvbG9yIjogImNyaW1zb24iLCAiZGFzaEFycmF5IjogbnVsbCwgImRhc2hPZmZzZXQiOiBudWxsLCAiZmlsbCI6IHRydWUsICJmaWxsQ29sb3IiOiAiY3JpbXNvbiIsICJmaWxsT3BhY2l0eSI6IDAuMiwgImZpbGxSdWxlIjogImV2ZW5vZGQiLCAibGluZUNhcCI6ICJyb3VuZCIsICJsaW5lSm9pbiI6ICJyb3VuZCIsICJvcGFjaXR5IjogMS4wLCAicmFkaXVzIjogMjYwMDAwLjAsICJzdHJva2UiOiB0cnVlLCAid2VpZ2h0IjogM30KICAgICAgICAgICAgKS5hZGRUbyhtYXBfNTc1ZmFmMTIxNmNmNGE0YThlZTJhMzI4OTgzMGE5ZjYpOwogICAgICAgIAogICAgCiAgICAgICAgICAgIGNpcmNsZV9jN2ViNjliZjg1YzI0ZWIzYjA3MzIxYTA1NjMwMzdjMi5iaW5kVG9vbHRpcCgKICAgICAgICAgICAgICAgIGA8ZGl2PgogICAgICAgICAgICAgICAgICAgICA8ZGl2IHN0eWxlPSdtYXJnaW46MDsgYmFja2dyb3VuZC1jb2xvcjogZmlyZWJyaWNrOyBjb2xvcjogd2hpdGU7Jz48aDQgc3R5bGU9J3RleHQtYWxpZ246Y2VudGVyOyBmb250LXdlaWdodDogYm9sZCc+Q2hpbmE8L2g0PjxociBzdHlsZT0nbWFyZ2luOjEwcHg7IGNvbG9yOiB3aGl0ZTsnPjx1bCBzdHlsZT0nY29sb3I6IHdoaXRlOztsaXN0LXN0eWxlLXR5cGU6IGNpcmNsZTsgYWxpZ24taXRlbTogbGVmdDsgcGFkZGluZy1sZWZ0OiAyMHB4OyBwYWRkaW5nLXJpZ2h0OjIwcHgnPjxsaT5Ub3RhbCBjYXNlczogMjAzPC9saT48bGk+RGVhdGhzOiAzPC9saT48bGk+RGVhdGggcmF0ZSA6IDEuNDclIDwvbGk+PC91bD48L2Rpdj4KICAgICAgICAgICAgICAgICA8L2Rpdj5gLAogICAgICAgICAgICAgICAgeyJzdGlja3kiOiB0cnVlfQogICAgICAgICAgICApOwogICAgICAgIAogICAgCiAgICAgICAgICAgIHZhciBjaXJjbGVfZmQ2N2Q2ZWIyODYzNGZlY2FiZjExYzU5ODhiOGRkZmUgPSBMLmNpcmNsZSgKICAgICAgICAgICAgICAgIFszMS42OTI3LCA4OC4wOTI0XSwKICAgICAgICAgICAgICAgIHsiYnViYmxpbmdNb3VzZUV2ZW50cyI6IHRydWUsICJjb2xvciI6ICJjcmltc29uIiwgImRhc2hBcnJheSI6IG51bGwsICJkYXNoT2Zmc2V0IjogbnVsbCwgImZpbGwiOiB0cnVlLCAiZmlsbENvbG9yIjogImNyaW1zb24iLCAiZmlsbE9wYWNpdHkiOiAwLjIsICJmaWxsUnVsZSI6ICJldmVub2RkIiwgImxpbmVDYXAiOiAicm91bmQiLCAibGluZUpvaW4iOiAicm91bmQiLCAib3BhY2l0eSI6IDEuMCwgInJhZGl1cyI6IDEwMDAwLjAsICJzdHJva2UiOiB0cnVlLCAid2VpZ2h0IjogM30KICAgICAgICAgICAgKS5hZGRUbyhtYXBfNTc1ZmFmMTIxNmNmNGE0YThlZTJhMzI4OTgzMGE5ZjYpOwogICAgICAgIAogICAgCiAgICAgICAgICAgIGNpcmNsZV9mZDY3ZDZlYjI4NjM0ZmVjYWJmMTFjNTk4OGI4ZGRmZS5iaW5kVG9vbHRpcCgKICAgICAgICAgICAgICAgIGA8ZGl2PgogICAgICAgICAgICAgICAgICAgICA8ZGl2IHN0eWxlPSdtYXJnaW46MDsgYmFja2dyb3VuZC1jb2xvcjogZmlyZWJyaWNrOyBjb2xvcjogd2hpdGU7Jz48aDQgc3R5bGU9J3RleHQtYWxpZ246Y2VudGVyOyBmb250LXdlaWdodDogYm9sZCc+Q2hpbmE8L2g0PjxociBzdHlsZT0nbWFyZ2luOjEwcHg7IGNvbG9yOiB3aGl0ZTsnPjx1bCBzdHlsZT0nY29sb3I6IHdoaXRlOztsaXN0LXN0eWxlLXR5cGU6IGNpcmNsZTsgYWxpZ24taXRlbTogbGVmdDsgcGFkZGluZy1sZWZ0OiAyMHB4OyBwYWRkaW5nLXJpZ2h0OjIwcHgnPjxsaT5Ub3RhbCBjYXNlczogMTwvbGk+PGxpPkRlYXRoczogMDwvbGk+PGxpPkRlYXRoIHJhdGUgOiAwLjAlIDwvbGk+PC91bD48L2Rpdj4KICAgICAgICAgICAgICAgICA8L2Rpdj5gLAogICAgICAgICAgICAgICAgeyJzdGlja3kiOiB0cnVlfQogICAgICAgICAgICApOwogICAgICAgIAogICAgCiAgICAgICAgICAgIHZhciBjaXJjbGVfOGYxMWZiNTZlN2I5NDc4N2EyZDBkYjIxZThjZTI2NDAgPSBMLmNpcmNsZSgKICAgICAgICAgICAgICAgIFs0MS4xMTI5LCA4NS4yNDAxXSwKICAgICAgICAgICAgICAgIHsiYnViYmxpbmdNb3VzZUV2ZW50cyI6IHRydWUsICJjb2xvciI6ICJjcmltc29uIiwgImRhc2hBcnJheSI6IG51bGwsICJkYXNoT2Zmc2V0IjogbnVsbCwgImZpbGwiOiB0cnVlLCAiZmlsbENvbG9yIjogImNyaW1zb24iLCAiZmlsbE9wYWNpdHkiOiAwLjIsICJmaWxsUnVsZSI6ICJldmVub2RkIiwgImxpbmVDYXAiOiAicm91bmQiLCAibGluZUpvaW4iOiAicm91bmQiLCAib3BhY2l0eSI6IDEuMCwgInJhZGl1cyI6IDI2MDAwMC4wLCAic3Ryb2tlIjogdHJ1ZSwgIndlaWdodCI6IDN9CiAgICAgICAgICAgICkuYWRkVG8obWFwXzU3NWZhZjEyMTZjZjRhNGE4ZWUyYTMyODk4MzBhOWY2KTsKICAgICAgICAKICAgIAogICAgICAgICAgICBjaXJjbGVfOGYxMWZiNTZlN2I5NDc4N2EyZDBkYjIxZThjZTI2NDAuYmluZFRvb2x0aXAoCiAgICAgICAgICAgICAgICBgPGRpdj4KICAgICAgICAgICAgICAgICAgICAgPGRpdiBzdHlsZT0nbWFyZ2luOjA7IGJhY2tncm91bmQtY29sb3I6IGZpcmVicmljazsgY29sb3I6IHdoaXRlOyc+PGg0IHN0eWxlPSd0ZXh0LWFsaWduOmNlbnRlcjsgZm9udC13ZWlnaHQ6IGJvbGQnPkNoaW5hPC9oND48aHIgc3R5bGU9J21hcmdpbjoxMHB4OyBjb2xvcjogd2hpdGU7Jz48dWwgc3R5bGU9J2NvbG9yOiB3aGl0ZTs7bGlzdC1zdHlsZS10eXBlOiBjaXJjbGU7IGFsaWduLWl0ZW06IGxlZnQ7IHBhZGRpbmctbGVmdDogMjBweDsgcGFkZGluZy1yaWdodDoyMHB4Jz48bGk+VG90YWwgY2FzZXM6IDE3MTwvbGk+PGxpPkRlYXRoczogMzwvbGk+PGxpPkRlYXRoIHJhdGUgOiAxLjc0JSA8L2xpPjwvdWw+PC9kaXY+CiAgICAgICAgICAgICAgICAgPC9kaXY+YCwKICAgICAgICAgICAgICAgIHsic3RpY2t5IjogdHJ1ZX0KICAgICAgICAgICAgKTsKICAgICAgICAKICAgIAogICAgICAgICAgICB2YXIgY2lyY2xlX2QzYzM3NmQyM2ZiMjQ2ZDc5ZjIwN2NlODkxNGQ1NjBmID0gTC5jaXJjbGUoCiAgICAgICAgICAgICAgICBbMjQuOTc0LCAxMDEuNDg3MDAwMDAwMDAwMDFdLAogICAgICAgICAgICAgICAgeyJidWJibGluZ01vdXNlRXZlbnRzIjogdHJ1ZSwgImNvbG9yIjogImNyaW1zb24iLCAiZGFzaEFycmF5IjogbnVsbCwgImRhc2hPZmZzZXQiOiBudWxsLCAiZmlsbCI6IHRydWUsICJmaWxsQ29sb3IiOiAiY3JpbXNvbiIsICJmaWxsT3BhY2l0eSI6IDAuMiwgImZpbGxSdWxlIjogImV2ZW5vZGQiLCAibGluZUNhcCI6ICJyb3VuZCIsICJsaW5lSm9pbiI6ICJyb3VuZCIsICJvcGFjaXR5IjogMS4wLCAicmFkaXVzIjogMjYwMDAwLjAsICJzdHJva2UiOiB0cnVlLCAid2VpZ2h0IjogM30KICAgICAgICAgICAgKS5hZGRUbyhtYXBfNTc1ZmFmMTIxNmNmNGE0YThlZTJhMzI4OTgzMGE5ZjYpOwogICAgICAgIAogICAgCiAgICAgICAgICAgIGNpcmNsZV9kM2MzNzZkMjNmYjI0NmQ3OWYyMDdjZTg5MTRkNTYwZi5iaW5kVG9vbHRpcCgKICAgICAgICAgICAgICAgIGA8ZGl2PgogICAgICAgICAgICAgICAgICAgICA8ZGl2IHN0eWxlPSdtYXJnaW46MDsgYmFja2dyb3VuZC1jb2xvcjogZmlyZWJyaWNrOyBjb2xvcjogd2hpdGU7Jz48aDQgc3R5bGU9J3RleHQtYWxpZ246Y2VudGVyOyBmb250LXdlaWdodDogYm9sZCc+Q2hpbmE8L2g0PjxociBzdHlsZT0nbWFyZ2luOjEwcHg7IGNvbG9yOiB3aGl0ZTsnPjx1bCBzdHlsZT0nY29sb3I6IHdoaXRlOztsaXN0LXN0eWxlLXR5cGU6IGNpcmNsZTsgYWxpZ24taXRlbTogbGVmdDsgcGFkZGluZy1sZWZ0OiAyMHB4OyBwYWRkaW5nLXJpZ2h0OjIwcHgnPjxsaT5Ub3RhbCBjYXNlczogMTg5PC9saT48bGk+RGVhdGhzOiAyPC9saT48bGk+RGVhdGggcmF0ZSA6IDEuMDUlIDwvbGk+PC91bD48L2Rpdj4KICAgICAgICAgICAgICAgICA8L2Rpdj5gLAogICAgICAgICAgICAgICAgeyJzdGlja3kiOiB0cnVlfQogICAgICAgICAgICApOwogICAgICAgIAogICAgCiAgICAgICAgICAgIHZhciBjaXJjbGVfNThlNDM5NWI1OTRhNDkzZWE3MjM5NTBlODZlOGU4YWQgPSBMLmNpcmNsZSgKICAgICAgICAgICAgICAgIFsyOS4xODMyLCAxMjAuMDkzNF0sCiAgICAgICAgICAgICAgICB7ImJ1YmJsaW5nTW91c2VFdmVudHMiOiB0cnVlLCAiY29sb3IiOiAiY3JpbXNvbiIsICJkYXNoQXJyYXkiOiBudWxsLCAiZGFzaE9mZnNldCI6IG51bGwsICJmaWxsIjogdHJ1ZSwgImZpbGxDb2xvciI6ICJjcmltc29uIiwgImZpbGxPcGFjaXR5IjogMC4yLCAiZmlsbFJ1bGUiOiAiZXZlbm9kZCIsICJsaW5lQ2FwIjogInJvdW5kIiwgImxpbmVKb2luIjogInJvdW5kIiwgIm9wYWNpdHkiOiAxLjAsICJyYWRpdXMiOiAzNjAwMDAuMCwgInN0cm9rZSI6IHRydWUsICJ3ZWlnaHQiOiAzfQogICAgICAgICAgICApLmFkZFRvKG1hcF81NzVmYWYxMjE2Y2Y0YTRhOGVlMmEzMjg5ODMwYTlmNik7CiAgICAgICAgCiAgICAKICAgICAgICAgICAgY2lyY2xlXzU4ZTQzOTViNTk0YTQ5M2VhNzIzOTUwZTg2ZThlOGFkLmJpbmRUb29sdGlwKAogICAgICAgICAgICAgICAgYDxkaXY+CiAgICAgICAgICAgICAgICAgICAgIDxkaXYgc3R5bGU9J21hcmdpbjowOyBiYWNrZ3JvdW5kLWNvbG9yOiBmaXJlYnJpY2s7IGNvbG9yOiB3aGl0ZTsnPjxoNCBzdHlsZT0ndGV4dC1hbGlnbjpjZW50ZXI7IGZvbnQtd2VpZ2h0OiBib2xkJz5DaGluYTwvaDQ+PGhyIHN0eWxlPSdtYXJnaW46MTBweDsgY29sb3I6IHdoaXRlOyc+PHVsIHN0eWxlPSdjb2xvcjogd2hpdGU7O2xpc3Qtc3R5bGUtdHlwZTogY2lyY2xlOyBhbGlnbi1pdGVtOiBsZWZ0OyBwYWRkaW5nLWxlZnQ6IDIwcHg7IHBhZGRpbmctcmlnaHQ6MjBweCc+PGxpPlRvdGFsIGNhc2VzOiAxMjcwPC9saT48bGk+RGVhdGhzOiAxPC9saT48bGk+RGVhdGggcmF0ZSA6IDAuMDglIDwvbGk+PC91bD48L2Rpdj4KICAgICAgICAgICAgICAgICA8L2Rpdj5gLAogICAgICAgICAgICAgICAgeyJzdGlja3kiOiB0cnVlfQogICAgICAgICAgICApOwogICAgICAgIAogICAgCiAgICAgICAgICAgIHZhciBjaXJjbGVfZjIzMTBhZWQwN2EyNDhhMDlmNmFjZGU5Y2YyYTJkNTEgPSBMLmNpcmNsZSgKICAgICAgICAgICAgICAgIFs0LjU3MDksIC03NC4yOTczXSwKICAgICAgICAgICAgICAgIHsiYnViYmxpbmdNb3VzZUV2ZW50cyI6IHRydWUsICJjb2xvciI6ICJjcmltc29uIiwgImRhc2hBcnJheSI6IG51bGwsICJkYXNoT2Zmc2V0IjogbnVsbCwgImZpbGwiOiB0cnVlLCAiZmlsbENvbG9yIjogImNyaW1zb24iLCAiZmlsbE9wYWNpdHkiOiAwLjIsICJmaWxsUnVsZSI6ICJldmVub2RkIiwgImxpbmVDYXAiOiAicm91bmQiLCAibGluZUpvaW4iOiAicm91bmQiLCAib3BhY2l0eSI6IDEuMCwgInJhZGl1cyI6IDYxMDAwMC4wLCAic3Ryb2tlIjogdHJ1ZSwgIndlaWdodCI6IDN9CiAgICAgICAgICAgICkuYWRkVG8obWFwXzU3NWZhZjEyMTZjZjRhNGE4ZWUyYTMyODk4MzBhOWY2KTsKICAgICAgICAKICAgIAogICAgICAgICAgICBjaXJjbGVfZjIzMTBhZWQwN2EyNDhhMDlmNmFjZGU5Y2YyYTJkNTEuYmluZFRvb2x0aXAoCiAgICAgICAgICAgICAgICBgPGRpdj4KICAgICAgICAgICAgICAgICAgICAgPGRpdiBzdHlsZT0nbWFyZ2luOjA7IGJhY2tncm91bmQtY29sb3I6IGZpcmVicmljazsgY29sb3I6IHdoaXRlOyc+PGg0IHN0eWxlPSd0ZXh0LWFsaWduOmNlbnRlcjsgZm9udC13ZWlnaHQ6IGJvbGQnPkNvbG9tYmlhPC9oND48aHIgc3R5bGU9J21hcmdpbjoxMHB4OyBjb2xvcjogd2hpdGU7Jz48dWwgc3R5bGU9J2NvbG9yOiB3aGl0ZTs7bGlzdC1zdHlsZS10eXBlOiBjaXJjbGU7IGFsaWduLWl0ZW06IGxlZnQ7IHBhZGRpbmctbGVmdDogMjBweDsgcGFkZGluZy1yaWdodDoyMHB4Jz48bGk+VG90YWwgY2FzZXM6IDIyNjM3MzwvbGk+PGxpPkRlYXRoczogNzY4ODwvbGk+PGxpPkRlYXRoIHJhdGUgOiAzLjQlIDwvbGk+PC91bD48L2Rpdj4KICAgICAgICAgICAgICAgICA8L2Rpdj5gLAogICAgICAgICAgICAgICAgeyJzdGlja3kiOiB0cnVlfQogICAgICAgICAgICApOwogICAgICAgIAogICAgCiAgICAgICAgICAgIHZhciBjaXJjbGVfZjYyNDI3N2IzNzZiNDY4YmIyYmUyOGJiNzdmMmQwY2IgPSBMLmNpcmNsZSgKICAgICAgICAgICAgICAgIFstMC4yMjgsIDE1LjgyNzddLAogICAgICAgICAgICAgICAgeyJidWJibGluZ01vdXNlRXZlbnRzIjogdHJ1ZSwgImNvbG9yIjogImNyaW1zb24iLCAiZGFzaEFycmF5IjogbnVsbCwgImRhc2hPZmZzZXQiOiBudWxsLCAiZmlsbCI6IHRydWUsICJmaWxsQ29sb3IiOiAiY3JpbXNvbiIsICJmaWxsT3BhY2l0eSI6IDAuMiwgImZpbGxSdWxlIjogImV2ZW5vZGQiLCAibGluZUNhcCI6ICJyb3VuZCIsICJsaW5lSm9pbiI6ICJyb3VuZCIsICJvcGFjaXR5IjogMS4wLCAicmFkaXVzIjogMzYwMDAwLjAsICJzdHJva2UiOiB0cnVlLCAid2VpZ2h0IjogM30KICAgICAgICAgICAgKS5hZGRUbyhtYXBfNTc1ZmFmMTIxNmNmNGE0YThlZTJhMzI4OTgzMGE5ZjYpOwogICAgICAgIAogICAgCiAgICAgICAgICAgIGNpcmNsZV9mNjI0Mjc3YjM3NmI0NjhiYjJiZTI4YmI3N2YyZDBjYi5iaW5kVG9vbHRpcCgKICAgICAgICAgICAgICAgIGA8ZGl2PgogICAgICAgICAgICAgICAgICAgICA8ZGl2IHN0eWxlPSdtYXJnaW46MDsgYmFja2dyb3VuZC1jb2xvcjogZmlyZWJyaWNrOyBjb2xvcjogd2hpdGU7Jz48aDQgc3R5bGU9J3RleHQtYWxpZ246Y2VudGVyOyBmb250LXdlaWdodDogYm9sZCc+Q29uZ28gKEJyYXp6YXZpbGxlKTwvaDQ+PGhyIHN0eWxlPSdtYXJnaW46MTBweDsgY29sb3I6IHdoaXRlOyc+PHVsIHN0eWxlPSdjb2xvcjogd2hpdGU7O2xpc3Qtc3R5bGUtdHlwZTogY2lyY2xlOyBhbGlnbi1pdGVtOiBsZWZ0OyBwYWRkaW5nLWxlZnQ6IDIwcHg7IHBhZGRpbmctcmlnaHQ6MjBweCc+PGxpPlRvdGFsIGNhc2VzOiAyODUxPC9saT48bGk+RGVhdGhzOiA1MDwvbGk+PGxpPkRlYXRoIHJhdGUgOiAxLjc1JSA8L2xpPjwvdWw+PC9kaXY+CiAgICAgICAgICAgICAgICAgPC9kaXY+YCwKICAgICAgICAgICAgICAgIHsic3RpY2t5IjogdHJ1ZX0KICAgICAgICAgICAgKTsKICAgICAgICAKICAgIAogICAgICAgICAgICB2YXIgY2lyY2xlXzZiYTkzNzQxZTYxODRjZDY4Nzg4MjJkYjhlY2U0YjBjID0gTC5jaXJjbGUoCiAgICAgICAgICAgICAgICBbLTQuMDM4MywgMjEuNzU4N10sCiAgICAgICAgICAgICAgICB7ImJ1YmJsaW5nTW91c2VFdmVudHMiOiB0cnVlLCAiY29sb3IiOiAiY3JpbXNvbiIsICJkYXNoQXJyYXkiOiBudWxsLCAiZGFzaE9mZnNldCI6IG51bGwsICJmaWxsIjogdHJ1ZSwgImZpbGxDb2xvciI6ICJjcmltc29uIiwgImZpbGxPcGFjaXR5IjogMC4yLCAiZmlsbFJ1bGUiOiAiZXZlbm9kZCIsICJsaW5lQ2FwIjogInJvdW5kIiwgImxpbmVKb2luIjogInJvdW5kIiwgIm9wYWNpdHkiOiAxLjAsICJyYWRpdXMiOiA0NTk5OTkuOTk5OTk5OTk5OTQsICJzdHJva2UiOiB0cnVlLCAid2VpZ2h0IjogM30KICAgICAgICAgICAgKS5hZGRUbyhtYXBfNTc1ZmFmMTIxNmNmNGE0YThlZTJhMzI4OTgzMGE5ZjYpOwogICAgICAgIAogICAgCiAgICAgICAgICAgIGNpcmNsZV82YmE5Mzc0MWU2MTg0Y2Q2ODc4ODIyZGI4ZWNlNGIwYy5iaW5kVG9vbHRpcCgKICAgICAgICAgICAgICAgIGA8ZGl2PgogICAgICAgICAgICAgICAgICAgICA8ZGl2IHN0eWxlPSdtYXJnaW46MDsgYmFja2dyb3VuZC1jb2xvcjogZmlyZWJyaWNrOyBjb2xvcjogd2hpdGU7Jz48aDQgc3R5bGU9J3RleHQtYWxpZ246Y2VudGVyOyBmb250LXdlaWdodDogYm9sZCc+Q29uZ28gKEtpbnNoYXNhKTwvaDQ+PGhyIHN0eWxlPSdtYXJnaW46MTBweDsgY29sb3I6IHdoaXRlOyc+PHVsIHN0eWxlPSdjb2xvcjogd2hpdGU7O2xpc3Qtc3R5bGUtdHlwZTogY2lyY2xlOyBhbGlnbi1pdGVtOiBsZWZ0OyBwYWRkaW5nLWxlZnQ6IDIwcHg7IHBhZGRpbmctcmlnaHQ6MjBweCc+PGxpPlRvdGFsIGNhc2VzOiA4NzIwPC9saT48bGk+RGVhdGhzOiAyMDE8L2xpPjxsaT5EZWF0aCByYXRlIDogMi4zJSA8L2xpPjwvdWw+PC9kaXY+CiAgICAgICAgICAgICAgICAgPC9kaXY+YCwKICAgICAgICAgICAgICAgIHsic3RpY2t5IjogdHJ1ZX0KICAgICAgICAgICAgKTsKICAgICAgICAKICAgIAogICAgICAgICAgICB2YXIgY2lyY2xlXzc4NzE1ZDY5MWIxMzQ5ZWJiNjE3MzNhM2E5YWY1MmNhID0gTC5jaXJjbGUoCiAgICAgICAgICAgICAgICBbOS43NDg5LCAtODMuNzUzNF0sCiAgICAgICAgICAgICAgICB7ImJ1YmJsaW5nTW91c2VFdmVudHMiOiB0cnVlLCAiY29sb3IiOiAiY3JpbXNvbiIsICJkYXNoQXJyYXkiOiBudWxsLCAiZGFzaE9mZnNldCI6IG51bGwsICJmaWxsIjogdHJ1ZSwgImZpbGxDb2xvciI6ICJjcmltc29uIiwgImZpbGxPcGFjaXR5IjogMC4yLCAiZmlsbFJ1bGUiOiAiZXZlbm9kZCIsICJsaW5lQ2FwIjogInJvdW5kIiwgImxpbmVKb2luIjogInJvdW5kIiwgIm9wYWNpdHkiOiAxLjAsICJyYWRpdXMiOiA0NTk5OTkuOTk5OTk5OTk5OTQsICJzdHJva2UiOiB0cnVlLCAid2VpZ2h0IjogM30KICAgICAgICAgICAgKS5hZGRUbyhtYXBfNTc1ZmFmMTIxNmNmNGE0YThlZTJhMzI4OTgzMGE5ZjYpOwogICAgICAgIAogICAgCiAgICAgICAgICAgIGNpcmNsZV83ODcxNWQ2OTFiMTM0OWViYjYxNzMzYTNhOWFmNTJjYS5iaW5kVG9vbHRpcCgKICAgICAgICAgICAgICAgIGA8ZGl2PgogICAgICAgICAgICAgICAgICAgICA8ZGl2IHN0eWxlPSdtYXJnaW46MDsgYmFja2dyb3VuZC1jb2xvcjogZmlyZWJyaWNrOyBjb2xvcjogd2hpdGU7Jz48aDQgc3R5bGU9J3RleHQtYWxpZ246Y2VudGVyOyBmb250LXdlaWdodDogYm9sZCc+Q29zdGEgUmljYTwvaDQ+PGhyIHN0eWxlPSdtYXJnaW46MTBweDsgY29sb3I6IHdoaXRlOyc+PHVsIHN0eWxlPSdjb2xvcjogd2hpdGU7O2xpc3Qtc3R5bGUtdHlwZTogY2lyY2xlOyBhbGlnbi1pdGVtOiBsZWZ0OyBwYWRkaW5nLWxlZnQ6IDIwcHg7IHBhZGRpbmctcmlnaHQ6MjBweCc+PGxpPlRvdGFsIGNhc2VzOiAxMzEyOTwvbGk+PGxpPkRlYXRoczogODA8L2xpPjxsaT5EZWF0aCByYXRlIDogMC42MSUgPC9saT48L3VsPjwvZGl2PgogICAgICAgICAgICAgICAgIDwvZGl2PmAsCiAgICAgICAgICAgICAgICB7InN0aWNreSI6IHRydWV9CiAgICAgICAgICAgICk7CiAgICAgICAgCiAgICAKICAgICAgICAgICAgdmFyIGNpcmNsZV83Y2EwYTQ4MmE4YTk0NTQ2YWVhNzYzOTg3OTlhYzIwZiA9IEwuY2lyY2xlKAogICAgICAgICAgICAgICAgWzcuNTQsIC01LjU0NzFdLAogICAgICAgICAgICAgICAgeyJidWJibGluZ01vdXNlRXZlbnRzIjogdHJ1ZSwgImNvbG9yIjogImNyaW1zb24iLCAiZGFzaEFycmF5IjogbnVsbCwgImRhc2hPZmZzZXQiOiBudWxsLCAiZmlsbCI6IHRydWUsICJmaWxsQ29sb3IiOiAiY3JpbXNvbiIsICJmaWxsT3BhY2l0eSI6IDAuMiwgImZpbGxSdWxlIjogImV2ZW5vZGQiLCAibGluZUNhcCI6ICJyb3VuZCIsICJsaW5lSm9pbiI6ICJyb3VuZCIsICJvcGFjaXR5IjogMS4wLCAicmFkaXVzIjogNDU5OTk5Ljk5OTk5OTk5OTk0LCAic3Ryb2tlIjogdHJ1ZSwgIndlaWdodCI6IDN9CiAgICAgICAgICAgICkuYWRkVG8obWFwXzU3NWZhZjEyMTZjZjRhNGE4ZWUyYTMyODk4MzBhOWY2KTsKICAgICAgICAKICAgIAogICAgICAgICAgICBjaXJjbGVfN2NhMGE0ODJhOGE5NDU0NmFlYTc2Mzk4Nzk5YWMyMGYuYmluZFRvb2x0aXAoCiAgICAgICAgICAgICAgICBgPGRpdj4KICAgICAgICAgICAgICAgICAgICAgPGRpdiBzdHlsZT0nbWFyZ2luOjA7IGJhY2tncm91bmQtY29sb3I6IGZpcmVicmljazsgY29sb3I6IHdoaXRlOyc+PGg0IHN0eWxlPSd0ZXh0LWFsaWduOmNlbnRlcjsgZm9udC13ZWlnaHQ6IGJvbGQnPkNvdGUgZCdJdm9pcmU8L2g0PjxociBzdHlsZT0nbWFyZ2luOjEwcHg7IGNvbG9yOiB3aGl0ZTsnPjx1bCBzdHlsZT0nY29sb3I6IHdoaXRlOztsaXN0LXN0eWxlLXR5cGU6IGNpcmNsZTsgYWxpZ24taXRlbTogbGVmdDsgcGFkZGluZy1sZWZ0OiAyMHB4OyBwYWRkaW5nLXJpZ2h0OjIwcHgnPjxsaT5Ub3RhbCBjYXNlczogMTUwMDE8L2xpPjxsaT5EZWF0aHM6IDkzPC9saT48bGk+RGVhdGggcmF0ZSA6IDAuNjIlIDwvbGk+PC91bD48L2Rpdj4KICAgICAgICAgICAgICAgICA8L2Rpdj5gLAogICAgICAgICAgICAgICAgeyJzdGlja3kiOiB0cnVlfQogICAgICAgICAgICApOwogICAgICAgIAogICAgCiAgICAgICAgICAgIHZhciBjaXJjbGVfODI4Nzc1YTU4YjZjNGZmZGJiNjI4MTE1MTc0YWY2MTkgPSBMLmNpcmNsZSgKICAgICAgICAgICAgICAgIFs0NS4xLCAxNS4yXSwKICAgICAgICAgICAgICAgIHsiYnViYmxpbmdNb3VzZUV2ZW50cyI6IHRydWUsICJjb2xvciI6ICJjcmltc29uIiwgImRhc2hBcnJheSI6IG51bGwsICJkYXNoT2Zmc2V0IjogbnVsbCwgImZpbGwiOiB0cnVlLCAiZmlsbENvbG9yIjogImNyaW1zb24iLCAiZmlsbE9wYWNpdHkiOiAwLjIsICJmaWxsUnVsZSI6ICJldmVub2RkIiwgImxpbmVDYXAiOiAicm91bmQiLCAibGluZUpvaW4iOiAicm91bmQiLCAib3BhY2l0eSI6IDEuMCwgInJhZGl1cyI6IDQwOTk5OS45OTk5OTk5OTk5NCwgInN0cm9rZSI6IHRydWUsICJ3ZWlnaHQiOiAzfQogICAgICAgICAgICApLmFkZFRvKG1hcF81NzVmYWYxMjE2Y2Y0YTRhOGVlMmEzMjg5ODMwYTlmNik7CiAgICAgICAgCiAgICAKICAgICAgICAgICAgY2lyY2xlXzgyODc3NWE1OGI2YzRmZmRiYjYyODExNTE3NGFmNjE5LmJpbmRUb29sdGlwKAogICAgICAgICAgICAgICAgYDxkaXY+CiAgICAgICAgICAgICAgICAgICAgIDxkaXYgc3R5bGU9J21hcmdpbjowOyBiYWNrZ3JvdW5kLWNvbG9yOiBmaXJlYnJpY2s7IGNvbG9yOiB3aGl0ZTsnPjxoNCBzdHlsZT0ndGV4dC1hbGlnbjpjZW50ZXI7IGZvbnQtd2VpZ2h0OiBib2xkJz5Dcm9hdGlhPC9oND48aHIgc3R5bGU9J21hcmdpbjoxMHB4OyBjb2xvcjogd2hpdGU7Jz48dWwgc3R5bGU9J2NvbG9yOiB3aGl0ZTs7bGlzdC1zdHlsZS10eXBlOiBjaXJjbGU7IGFsaWduLWl0ZW06IGxlZnQ7IHBhZGRpbmctbGVmdDogMjBweDsgcGFkZGluZy1yaWdodDoyMHB4Jz48bGk+VG90YWwgY2FzZXM6IDQ2MzQ8L2xpPjxsaT5EZWF0aHM6IDEyODwvbGk+PGxpPkRlYXRoIHJhdGUgOiAyLjc2JSA8L2xpPjwvdWw+PC9kaXY+CiAgICAgICAgICAgICAgICAgPC9kaXY+YCwKICAgICAgICAgICAgICAgIHsic3RpY2t5IjogdHJ1ZX0KICAgICAgICAgICAgKTsKICAgICAgICAKICAgIAogICAgICAgICAgICB2YXIgY2lyY2xlXzYzY2NjYzBlYTkwZTRhOTVhNTJjZTBkODY0M2FmYjNmID0gTC5jaXJjbGUoCiAgICAgICAgICAgICAgICBbMC4wLCAwLjBdLAogICAgICAgICAgICAgICAgeyJidWJibGluZ01vdXNlRXZlbnRzIjogdHJ1ZSwgImNvbG9yIjogImNyaW1zb24iLCAiZGFzaEFycmF5IjogbnVsbCwgImRhc2hPZmZzZXQiOiBudWxsLCAiZmlsbCI6IHRydWUsICJmaWxsQ29sb3IiOiAiY3JpbXNvbiIsICJmaWxsT3BhY2l0eSI6IDAuMiwgImZpbGxSdWxlIjogImV2ZW5vZGQiLCAibGluZUNhcCI6ICJyb3VuZCIsICJsaW5lSm9pbiI6ICJyb3VuZCIsICJvcGFjaXR5IjogMS4wLCAicmFkaXVzIjogMzEwMDAwLjAsICJzdHJva2UiOiB0cnVlLCAid2VpZ2h0IjogM30KICAgICAgICAgICAgKS5hZGRUbyhtYXBfNTc1ZmFmMTIxNmNmNGE0YThlZTJhMzI4OTgzMGE5ZjYpOwogICAgICAgIAogICAgCiAgICAgICAgICAgIGNpcmNsZV82M2NjY2MwZWE5MGU0YTk1YTUyY2UwZDg2NDNhZmIzZi5iaW5kVG9vbHRpcCgKICAgICAgICAgICAgICAgIGA8ZGl2PgogICAgICAgICAgICAgICAgICAgICA8ZGl2IHN0eWxlPSdtYXJnaW46MDsgYmFja2dyb3VuZC1jb2xvcjogZmlyZWJyaWNrOyBjb2xvcjogd2hpdGU7Jz48aDQgc3R5bGU9J3RleHQtYWxpZ246Y2VudGVyOyBmb250LXdlaWdodDogYm9sZCc+RGlhbW9uZCBQcmluY2VzczwvaDQ+PGhyIHN0eWxlPSdtYXJnaW46MTBweDsgY29sb3I6IHdoaXRlOyc+PHVsIHN0eWxlPSdjb2xvcjogd2hpdGU7O2xpc3Qtc3R5bGUtdHlwZTogY2lyY2xlOyBhbGlnbi1pdGVtOiBsZWZ0OyBwYWRkaW5nLWxlZnQ6IDIwcHg7IHBhZGRpbmctcmlnaHQ6MjBweCc+PGxpPlRvdGFsIGNhc2VzOiA3MTI8L2xpPjxsaT5EZWF0aHM6IDEzPC9saT48bGk+RGVhdGggcmF0ZSA6IDEuODIlIDwvbGk+PC91bD48L2Rpdj4KICAgICAgICAgICAgICAgICA8L2Rpdj5gLAogICAgICAgICAgICAgICAgeyJzdGlja3kiOiB0cnVlfQogICAgICAgICAgICApOwogICAgICAgIAogICAgCiAgICAgICAgICAgIHZhciBjaXJjbGVfNjVkZThmYTFlMGQ0NGM4MDg0YTJiNTc4NGQ0ZTM0ZWQgPSBMLmNpcmNsZSgKICAgICAgICAgICAgICAgIFsyMS41MjE3NTcsIC03Ny43ODExNjcwMDAwMDAwMl0sCiAgICAgICAgICAgICAgICB7ImJ1YmJsaW5nTW91c2VFdmVudHMiOiB0cnVlLCAiY29sb3IiOiAiY3JpbXNvbiIsICJkYXNoQXJyYXkiOiBudWxsLCAiZGFzaE9mZnNldCI6IG51bGwsICJmaWxsIjogdHJ1ZSwgImZpbGxDb2xvciI6ICJjcmltc29uIiwgImZpbGxPcGFjaXR5IjogMC4yLCAiZmlsbFJ1bGUiOiAiZXZlbm9kZCIsICJsaW5lQ2FwIjogInJvdW5kIiwgImxpbmVKb2luIjogInJvdW5kIiwgIm9wYWNpdHkiOiAxLjAsICJyYWRpdXMiOiAzNjAwMDAuMCwgInN0cm9rZSI6IHRydWUsICJ3ZWlnaHQiOiAzfQogICAgICAgICAgICApLmFkZFRvKG1hcF81NzVmYWYxMjE2Y2Y0YTRhOGVlMmEzMjg5ODMwYTlmNik7CiAgICAgICAgCiAgICAKICAgICAgICAgICAgY2lyY2xlXzY1ZGU4ZmExZTBkNDRjODA4NGEyYjU3ODRkNGUzNGVkLmJpbmRUb29sdGlwKAogICAgICAgICAgICAgICAgYDxkaXY+CiAgICAgICAgICAgICAgICAgICAgIDxkaXYgc3R5bGU9J21hcmdpbjowOyBiYWNrZ3JvdW5kLWNvbG9yOiBmaXJlYnJpY2s7IGNvbG9yOiB3aGl0ZTsnPjxoNCBzdHlsZT0ndGV4dC1hbGlnbjpjZW50ZXI7IGZvbnQtd2VpZ2h0OiBib2xkJz5DdWJhPC9oND48aHIgc3R5bGU9J21hcmdpbjoxMHB4OyBjb2xvcjogd2hpdGU7Jz48dWwgc3R5bGU9J2NvbG9yOiB3aGl0ZTs7bGlzdC1zdHlsZS10eXBlOiBjaXJjbGU7IGFsaWduLWl0ZW06IGxlZnQ7IHBhZGRpbmctbGVmdDogMjBweDsgcGFkZGluZy1yaWdodDoyMHB4Jz48bGk+VG90YWwgY2FzZXM6IDI0NjY8L2xpPjxsaT5EZWF0aHM6IDg3PC9saT48bGk+RGVhdGggcmF0ZSA6IDMuNTMlIDwvbGk+PC91bD48L2Rpdj4KICAgICAgICAgICAgICAgICA8L2Rpdj5gLAogICAgICAgICAgICAgICAgeyJzdGlja3kiOiB0cnVlfQogICAgICAgICAgICApOwogICAgICAgIAogICAgCiAgICAgICAgICAgIHZhciBjaXJjbGVfMDM1ZjE4ZjU1NWU1NDNkM2IxNDUzYTJhNDc1MDQwMDYgPSBMLmNpcmNsZSgKICAgICAgICAgICAgICAgIFszNS4xMjY0LCAzMy40Mjk5XSwKICAgICAgICAgICAgICAgIHsiYnViYmxpbmdNb3VzZUV2ZW50cyI6IHRydWUsICJjb2xvciI6ICJjcmltc29uIiwgImRhc2hBcnJheSI6IG51bGwsICJkYXNoT2Zmc2V0IjogbnVsbCwgImZpbGwiOiB0cnVlLCAiZmlsbENvbG9yIjogImNyaW1zb24iLCAiZmlsbE9wYWNpdHkiOiAwLjIsICJmaWxsUnVsZSI6ICJldmVub2RkIiwgImxpbmVDYXAiOiAicm91bmQiLCAibGluZUpvaW4iOiAicm91bmQiLCAib3BhY2l0eSI6IDEuMCwgInJhZGl1cyI6IDMxMDAwMC4wLCAic3Ryb2tlIjogdHJ1ZSwgIndlaWdodCI6IDN9CiAgICAgICAgICAgICkuYWRkVG8obWFwXzU3NWZhZjEyMTZjZjRhNGE4ZWUyYTMyODk4MzBhOWY2KTsKICAgICAgICAKICAgIAogICAgICAgICAgICBjaXJjbGVfMDM1ZjE4ZjU1NWU1NDNkM2IxNDUzYTJhNDc1MDQwMDYuYmluZFRvb2x0aXAoCiAgICAgICAgICAgICAgICBgPGRpdj4KICAgICAgICAgICAgICAgICAgICAgPGRpdiBzdHlsZT0nbWFyZ2luOjA7IGJhY2tncm91bmQtY29sb3I6IGZpcmVicmljazsgY29sb3I6IHdoaXRlOyc+PGg0IHN0eWxlPSd0ZXh0LWFsaWduOmNlbnRlcjsgZm9udC13ZWlnaHQ6IGJvbGQnPkN5cHJ1czwvaDQ+PGhyIHN0eWxlPSdtYXJnaW46MTBweDsgY29sb3I6IHdoaXRlOyc+PHVsIHN0eWxlPSdjb2xvcjogd2hpdGU7O2xpc3Qtc3R5bGUtdHlwZTogY2lyY2xlOyBhbGlnbi1pdGVtOiBsZWZ0OyBwYWRkaW5nLWxlZnQ6IDIwcHg7IHBhZGRpbmctcmlnaHQ6MjBweCc+PGxpPlRvdGFsIGNhc2VzOiAxMDQ1PC9saT48bGk+RGVhdGhzOiAxOTwvbGk+PGxpPkRlYXRoIHJhdGUgOiAxLjgyJSA8L2xpPjwvdWw+PC9kaXY+CiAgICAgICAgICAgICAgICAgPC9kaXY+YCwKICAgICAgICAgICAgICAgIHsic3RpY2t5IjogdHJ1ZX0KICAgICAgICAgICAgKTsKICAgICAgICAKICAgIAogICAgICAgICAgICB2YXIgY2lyY2xlXzM1Yzc0Mzc2ZjU4ZDQ0MmFhM2RkNmIzYjQ5MWRjMTY5ID0gTC5jaXJjbGUoCiAgICAgICAgICAgICAgICBbNDkuODE3NSwgMTUuNDcyOTk5OTk5OTk5OTk5XSwKICAgICAgICAgICAgICAgIHsiYnViYmxpbmdNb3VzZUV2ZW50cyI6IHRydWUsICJjb2xvciI6ICJjcmltc29uIiwgImRhc2hBcnJheSI6IG51bGwsICJkYXNoT2Zmc2V0IjogbnVsbCwgImZpbGwiOiB0cnVlLCAiZmlsbENvbG9yIjogImNyaW1zb24iLCAiZmlsbE9wYWNpdHkiOiAwLjIsICJmaWxsUnVsZSI6ICJldmVub2RkIiwgImxpbmVDYXAiOiAicm91bmQiLCAibGluZUpvaW4iOiAicm91bmQiLCAib3BhY2l0eSI6IDEuMCwgInJhZGl1cyI6IDQ1OTk5OS45OTk5OTk5OTk5NCwgInN0cm9rZSI6IHRydWUsICJ3ZWlnaHQiOiAzfQogICAgICAgICAgICApLmFkZFRvKG1hcF81NzVmYWYxMjE2Y2Y0YTRhOGVlMmEzMjg5ODMwYTlmNik7CiAgICAgICAgCiAgICAKICAgICAgICAgICAgY2lyY2xlXzM1Yzc0Mzc2ZjU4ZDQ0MmFhM2RkNmIzYjQ5MWRjMTY5LmJpbmRUb29sdGlwKAogICAgICAgICAgICAgICAgYDxkaXY+CiAgICAgICAgICAgICAgICAgICAgIDxkaXYgc3R5bGU9J21hcmdpbjowOyBiYWNrZ3JvdW5kLWNvbG9yOiBmaXJlYnJpY2s7IGNvbG9yOiB3aGl0ZTsnPjxoNCBzdHlsZT0ndGV4dC1hbGlnbjpjZW50ZXI7IGZvbnQtd2VpZ2h0OiBib2xkJz5DemVjaGlhPC9oND48aHIgc3R5bGU9J21hcmdpbjoxMHB4OyBjb2xvcjogd2hpdGU7Jz48dWwgc3R5bGU9J2NvbG9yOiB3aGl0ZTs7bGlzdC1zdHlsZS10eXBlOiBjaXJjbGU7IGFsaWduLWl0ZW06IGxlZnQ7IHBhZGRpbmctbGVmdDogMjBweDsgcGFkZGluZy1yaWdodDoyMHB4Jz48bGk+VG90YWwgY2FzZXM6IDE0ODAwPC9saT48bGk+RGVhdGhzOiAzNjU8L2xpPjxsaT5EZWF0aCByYXRlIDogMi40NyUgPC9saT48L3VsPjwvZGl2PgogICAgICAgICAgICAgICAgIDwvZGl2PmAsCiAgICAgICAgICAgICAgICB7InN0aWNreSI6IHRydWV9CiAgICAgICAgICAgICk7CiAgICAgICAgCiAgICAKICAgICAgICAgICAgdmFyIGNpcmNsZV8wODZkZjY2MmMxODU0YmRkOWE1NGIwZmQ4YjIxODYyMyA9IEwuY2lyY2xlKAogICAgICAgICAgICAgICAgWzYxLjg5MjYsIC02LjkxMThdLAogICAgICAgICAgICAgICAgeyJidWJibGluZ01vdXNlRXZlbnRzIjogdHJ1ZSwgImNvbG9yIjogImNyaW1zb24iLCAiZGFzaEFycmF5IjogbnVsbCwgImRhc2hPZmZzZXQiOiBudWxsLCAiZmlsbCI6IHRydWUsICJmaWxsQ29sb3IiOiAiY3JpbXNvbiIsICJmaWxsT3BhY2l0eSI6IDAuMiwgImZpbGxSdWxlIjogImV2ZW5vZGQiLCAibGluZUNhcCI6ICJyb3VuZCIsICJsaW5lSm9pbiI6ICJyb3VuZCIsICJvcGFjaXR5IjogMS4wLCAicmFkaXVzIjogMjYwMDAwLjAsICJzdHJva2UiOiB0cnVlLCAid2VpZ2h0IjogM30KICAgICAgICAgICAgKS5hZGRUbyhtYXBfNTc1ZmFmMTIxNmNmNGE0YThlZTJhMzI4OTgzMGE5ZjYpOwogICAgICAgIAogICAgCiAgICAgICAgICAgIGNpcmNsZV8wODZkZjY2MmMxODU0YmRkOWE1NGIwZmQ4YjIxODYyMy5iaW5kVG9vbHRpcCgKICAgICAgICAgICAgICAgIGA8ZGl2PgogICAgICAgICAgICAgICAgICAgICA8ZGl2IHN0eWxlPSdtYXJnaW46MDsgYmFja2dyb3VuZC1jb2xvcjogZmlyZWJyaWNrOyBjb2xvcjogd2hpdGU7Jz48aDQgc3R5bGU9J3RleHQtYWxpZ246Y2VudGVyOyBmb250LXdlaWdodDogYm9sZCc+RGVubWFyazwvaDQ+PGhyIHN0eWxlPSdtYXJnaW46MTBweDsgY29sb3I6IHdoaXRlOyc+PHVsIHN0eWxlPSdjb2xvcjogd2hpdGU7O2xpc3Qtc3R5bGUtdHlwZTogY2lyY2xlOyBhbGlnbi1pdGVtOiBsZWZ0OyBwYWRkaW5nLWxlZnQ6IDIwcHg7IHBhZGRpbmctcmlnaHQ6MjBweCc+PGxpPlRvdGFsIGNhc2VzOiAxOTE8L2xpPjxsaT5EZWF0aHM6IDA8L2xpPjxsaT5EZWF0aCByYXRlIDogMC4wJSA8L2xpPjwvdWw+PC9kaXY+CiAgICAgICAgICAgICAgICAgPC9kaXY+YCwKICAgICAgICAgICAgICAgIHsic3RpY2t5IjogdHJ1ZX0KICAgICAgICAgICAgKTsKICAgICAgICAKICAgIAogICAgICAgICAgICB2YXIgY2lyY2xlX2MzYWNiYmRjMTVkNzRjYjY4MWQ5ZTQ5YTlhNzVhNjE0ID0gTC5jaXJjbGUoCiAgICAgICAgICAgICAgICBbNzEuNzA2OSwgLTQyLjYwNDNdLAogICAgICAgICAgICAgICAgeyJidWJibGluZ01vdXNlRXZlbnRzIjogdHJ1ZSwgImNvbG9yIjogImNyaW1zb24iLCAiZGFzaEFycmF5IjogbnVsbCwgImRhc2hPZmZzZXQiOiBudWxsLCAiZmlsbCI6IHRydWUsICJmaWxsQ29sb3IiOiAiY3JpbXNvbiIsICJmaWxsT3BhY2l0eSI6IDAuMiwgImZpbGxSdWxlIjogImV2ZW5vZGQiLCAibGluZUNhcCI6ICJyb3VuZCIsICJsaW5lSm9pbiI6ICJyb3VuZCIsICJvcGFjaXR5IjogMS4wLCAicmFkaXVzIjogMTEwMDAwLjAwMDAwMDAwMDAxLCAic3Ryb2tlIjogdHJ1ZSwgIndlaWdodCI6IDN9CiAgICAgICAgICAgICkuYWRkVG8obWFwXzU3NWZhZjEyMTZjZjRhNGE4ZWUyYTMyODk4MzBhOWY2KTsKICAgICAgICAKICAgIAogICAgICAgICAgICBjaXJjbGVfYzNhY2JiZGMxNWQ3NGNiNjgxZDllNDlhOWE3NWE2MTQuYmluZFRvb2x0aXAoCiAgICAgICAgICAgICAgICBgPGRpdj4KICAgICAgICAgICAgICAgICAgICAgPGRpdiBzdHlsZT0nbWFyZ2luOjA7IGJhY2tncm91bmQtY29sb3I6IGZpcmVicmljazsgY29sb3I6IHdoaXRlOyc+PGg0IHN0eWxlPSd0ZXh0LWFsaWduOmNlbnRlcjsgZm9udC13ZWlnaHQ6IGJvbGQnPkRlbm1hcms8L2g0PjxociBzdHlsZT0nbWFyZ2luOjEwcHg7IGNvbG9yOiB3aGl0ZTsnPjx1bCBzdHlsZT0nY29sb3I6IHdoaXRlOztsaXN0LXN0eWxlLXR5cGU6IGNpcmNsZTsgYWxpZ24taXRlbTogbGVmdDsgcGFkZGluZy1sZWZ0OiAyMHB4OyBwYWRkaW5nLXJpZ2h0OjIwcHgnPjxsaT5Ub3RhbCBjYXNlczogMTM8L2xpPjxsaT5EZWF0aHM6IDA8L2xpPjxsaT5EZWF0aCByYXRlIDogMC4wJSA8L2xpPjwvdWw+PC9kaXY+CiAgICAgICAgICAgICAgICAgPC9kaXY+YCwKICAgICAgICAgICAgICAgIHsic3RpY2t5IjogdHJ1ZX0KICAgICAgICAgICAgKTsKICAgICAgICAKICAgIAogICAgICAgICAgICB2YXIgY2lyY2xlX2MzYjYxOWMxNmRlMTRmY2M4NmZkODdlZGMzY2MwNzhjID0gTC5jaXJjbGUoCiAgICAgICAgICAgICAgICBbNTYuMjYzOSwgOS41MDE4XSwKICAgICAgICAgICAgICAgIHsiYnViYmxpbmdNb3VzZUV2ZW50cyI6IHRydWUsICJjb2xvciI6ICJjcmltc29uIiwgImRhc2hBcnJheSI6IG51bGwsICJkYXNoT2Zmc2V0IjogbnVsbCwgImZpbGwiOiB0cnVlLCAiZmlsbENvbG9yIjogImNyaW1zb24iLCAiZmlsbE9wYWNpdHkiOiAwLjIsICJmaWxsUnVsZSI6ICJldmVub2RkIiwgImxpbmVDYXAiOiAicm91bmQiLCAibGluZUpvaW4iOiAicm91bmQiLCAib3BhY2l0eSI6IDEuMCwgInJhZGl1cyI6IDQ1OTk5OS45OTk5OTk5OTk5NCwgInN0cm9rZSI6IHRydWUsICJ3ZWlnaHQiOiAzfQogICAgICAgICAgICApLmFkZFRvKG1hcF81NzVmYWYxMjE2Y2Y0YTRhOGVlMmEzMjg5ODMwYTlmNik7CiAgICAgICAgCiAgICAKICAgICAgICAgICAgY2lyY2xlX2MzYjYxOWMxNmRlMTRmY2M4NmZkODdlZGMzY2MwNzhjLmJpbmRUb29sdGlwKAogICAgICAgICAgICAgICAgYDxkaXY+CiAgICAgICAgICAgICAgICAgICAgIDxkaXYgc3R5bGU9J21hcmdpbjowOyBiYWNrZ3JvdW5kLWNvbG9yOiBmaXJlYnJpY2s7IGNvbG9yOiB3aGl0ZTsnPjxoNCBzdHlsZT0ndGV4dC1hbGlnbjpjZW50ZXI7IGZvbnQtd2VpZ2h0OiBib2xkJz5EZW5tYXJrPC9oND48aHIgc3R5bGU9J21hcmdpbjoxMHB4OyBjb2xvcjogd2hpdGU7Jz48dWwgc3R5bGU9J2NvbG9yOiB3aGl0ZTs7bGlzdC1zdHlsZS10eXBlOiBjaXJjbGU7IGFsaWduLWl0ZW06IGxlZnQ7IHBhZGRpbmctbGVmdDogMjBweDsgcGFkZGluZy1yaWdodDoyMHB4Jz48bGk+VG90YWwgY2FzZXM6IDEzMzkwPC9saT48bGk+RGVhdGhzOiA2MTI8L2xpPjxsaT5EZWF0aCByYXRlIDogNC41NyUgPC9saT48L3VsPjwvZGl2PgogICAgICAgICAgICAgICAgIDwvZGl2PmAsCiAgICAgICAgICAgICAgICB7InN0aWNreSI6IHRydWV9CiAgICAgICAgICAgICk7CiAgICAgICAgCiAgICAKICAgICAgICAgICAgdmFyIGNpcmNsZV85ZjJjZjMyNjU4ZDQ0NmUwODUxNWIyNjE2YmU0ZGU5ZiA9IEwuY2lyY2xlKAogICAgICAgICAgICAgICAgWzExLjgyNTEsIDQyLjU5MDNdLAogICAgICAgICAgICAgICAgeyJidWJibGluZ01vdXNlRXZlbnRzIjogdHJ1ZSwgImNvbG9yIjogImNyaW1zb24iLCAiZGFzaEFycmF5IjogbnVsbCwgImRhc2hPZmZzZXQiOiBudWxsLCAiZmlsbCI6IHRydWUsICJmaWxsQ29sb3IiOiAiY3JpbXNvbiIsICJmaWxsT3BhY2l0eSI6IDAuMiwgImZpbGxSdWxlIjogImV2ZW5vZGQiLCAibGluZUNhcCI6ICJyb3VuZCIsICJsaW5lSm9pbiI6ICJyb3VuZCIsICJvcGFjaXR5IjogMS4wLCAicmFkaXVzIjogNDA5OTk5Ljk5OTk5OTk5OTk0LCAic3Ryb2tlIjogdHJ1ZSwgIndlaWdodCI6IDN9CiAgICAgICAgICAgICkuYWRkVG8obWFwXzU3NWZhZjEyMTZjZjRhNGE4ZWUyYTMyODk4MzBhOWY2KTsKICAgICAgICAKICAgIAogICAgICAgICAgICBjaXJjbGVfOWYyY2YzMjY1OGQ0NDZlMDg1MTViMjYxNmJlNGRlOWYuYmluZFRvb2x0aXAoCiAgICAgICAgICAgICAgICBgPGRpdj4KICAgICAgICAgICAgICAgICAgICAgPGRpdiBzdHlsZT0nbWFyZ2luOjA7IGJhY2tncm91bmQtY29sb3I6IGZpcmVicmljazsgY29sb3I6IHdoaXRlOyc+PGg0IHN0eWxlPSd0ZXh0LWFsaWduOmNlbnRlcjsgZm9udC13ZWlnaHQ6IGJvbGQnPkRqaWJvdXRpPC9oND48aHIgc3R5bGU9J21hcmdpbjoxMHB4OyBjb2xvcjogd2hpdGU7Jz48dWwgc3R5bGU9J2NvbG9yOiB3aGl0ZTs7bGlzdC1zdHlsZS10eXBlOiBjaXJjbGU7IGFsaWduLWl0ZW06IGxlZnQ7IHBhZGRpbmctbGVmdDogMjBweDsgcGFkZGluZy1yaWdodDoyMHB4Jz48bGk+VG90YWwgY2FzZXM6IDUwMzE8L2xpPjxsaT5EZWF0aHM6IDU4PC9saT48bGk+RGVhdGggcmF0ZSA6IDEuMTUlIDwvbGk+PC91bD48L2Rpdj4KICAgICAgICAgICAgICAgICA8L2Rpdj5gLAogICAgICAgICAgICAgICAgeyJzdGlja3kiOiB0cnVlfQogICAgICAgICAgICApOwogICAgICAgIAogICAgCiAgICAgICAgICAgIHZhciBjaXJjbGVfNDllNTFkZDI1M2QxNDZhYjg5MjkwMmQ2OWZkNzQxYzEgPSBMLmNpcmNsZSgKICAgICAgICAgICAgICAgIFsxOC43MzU3LCAtNzAuMTYyN10sCiAgICAgICAgICAgICAgICB7ImJ1YmJsaW5nTW91c2VFdmVudHMiOiB0cnVlLCAiY29sb3IiOiAiY3JpbXNvbiIsICJkYXNoQXJyYXkiOiBudWxsLCAiZGFzaE9mZnNldCI6IG51bGwsICJmaWxsIjogdHJ1ZSwgImZpbGxDb2xvciI6ICJjcmltc29uIiwgImZpbGxPcGFjaXR5IjogMC4yLCAiZmlsbFJ1bGUiOiAiZXZlbm9kZCIsICJsaW5lQ2FwIjogInJvdW5kIiwgImxpbmVKb2luIjogInJvdW5kIiwgIm9wYWNpdHkiOiAxLjAsICJyYWRpdXMiOiA1MDk5OTkuOTk5OTk5OTk5OTQsICJzdHJva2UiOiB0cnVlLCAid2VpZ2h0IjogM30KICAgICAgICAgICAgKS5hZGRUbyhtYXBfNTc1ZmFmMTIxNmNmNGE0YThlZTJhMzI4OTgzMGE5ZjYpOwogICAgICAgIAogICAgCiAgICAgICAgICAgIGNpcmNsZV80OWU1MWRkMjUzZDE0NmFiODkyOTAyZDY5ZmQ3NDFjMS5iaW5kVG9vbHRpcCgKICAgICAgICAgICAgICAgIGA8ZGl2PgogICAgICAgICAgICAgICAgICAgICA8ZGl2IHN0eWxlPSdtYXJnaW46MDsgYmFja2dyb3VuZC1jb2xvcjogZmlyZWJyaWNrOyBjb2xvcjogd2hpdGU7Jz48aDQgc3R5bGU9J3RleHQtYWxpZ246Y2VudGVyOyBmb250LXdlaWdodDogYm9sZCc+RG9taW5pY2FuIFJlcHVibGljPC9oND48aHIgc3R5bGU9J21hcmdpbjoxMHB4OyBjb2xvcjogd2hpdGU7Jz48dWwgc3R5bGU9J2NvbG9yOiB3aGl0ZTs7bGlzdC1zdHlsZS10eXBlOiBjaXJjbGU7IGFsaWduLWl0ZW06IGxlZnQ7IHBhZGRpbmctbGVmdDogMjBweDsgcGFkZGluZy1yaWdodDoyMHB4Jz48bGk+VG90YWwgY2FzZXM6IDU3NjE1PC9saT48bGk+RGVhdGhzOiAxMDA2PC9saT48bGk+RGVhdGggcmF0ZSA6IDEuNzUlIDwvbGk+PC91bD48L2Rpdj4KICAgICAgICAgICAgICAgICA8L2Rpdj5gLAogICAgICAgICAgICAgICAgeyJzdGlja3kiOiB0cnVlfQogICAgICAgICAgICApOwogICAgICAgIAogICAgCiAgICAgICAgICAgIHZhciBjaXJjbGVfOTFiZTIzNGJhNWVjNGQ1NTgzNWE1MDVjZGRiYjBhOTYgPSBMLmNpcmNsZSgKICAgICAgICAgICAgICAgIFstMS44MzEyLCAtNzguMTgzNF0sCiAgICAgICAgICAgICAgICB7ImJ1YmJsaW5nTW91c2VFdmVudHMiOiB0cnVlLCAiY29sb3IiOiAiY3JpbXNvbiIsICJkYXNoQXJyYXkiOiBudWxsLCAiZGFzaE9mZnNldCI6IG51bGwsICJmaWxsIjogdHJ1ZSwgImZpbGxDb2xvciI6ICJjcmltc29uIiwgImZpbGxPcGFjaXR5IjogMC4yLCAiZmlsbFJ1bGUiOiAiZXZlbm9kZCIsICJsaW5lQ2FwIjogInJvdW5kIiwgImxpbmVKb2luIjogInJvdW5kIiwgIm9wYWNpdHkiOiAxLjAsICJyYWRpdXMiOiA1NjAwMDAuMCwgInN0cm9rZSI6IHRydWUsICJ3ZWlnaHQiOiAzfQogICAgICAgICAgICApLmFkZFRvKG1hcF81NzVmYWYxMjE2Y2Y0YTRhOGVlMmEzMjg5ODMwYTlmNik7CiAgICAgICAgCiAgICAKICAgICAgICAgICAgY2lyY2xlXzkxYmUyMzRiYTVlYzRkNTU4MzVhNTA1Y2RkYmIwYTk2LmJpbmRUb29sdGlwKAogICAgICAgICAgICAgICAgYDxkaXY+CiAgICAgICAgICAgICAgICAgICAgIDxkaXYgc3R5bGU9J21hcmdpbjowOyBiYWNrZ3JvdW5kLWNvbG9yOiBmaXJlYnJpY2s7IGNvbG9yOiB3aGl0ZTsnPjxoNCBzdHlsZT0ndGV4dC1hbGlnbjpjZW50ZXI7IGZvbnQtd2VpZ2h0OiBib2xkJz5FY3VhZG9yPC9oND48aHIgc3R5bGU9J21hcmdpbjoxMHB4OyBjb2xvcjogd2hpdGU7Jz48dWwgc3R5bGU9J2NvbG9yOiB3aGl0ZTs7bGlzdC1zdHlsZS10eXBlOiBjaXJjbGU7IGFsaWduLWl0ZW06IGxlZnQ7IHBhZGRpbmctbGVmdDogMjBweDsgcGFkZGluZy1yaWdodDoyMHB4Jz48bGk+VG90YWwgY2FzZXM6IDc4MTQ4PC9saT48bGk+RGVhdGhzOiA1NDM5PC9saT48bGk+RGVhdGggcmF0ZSA6IDYuOTYlIDwvbGk+PC91bD48L2Rpdj4KICAgICAgICAgICAgICAgICA8L2Rpdj5gLAogICAgICAgICAgICAgICAgeyJzdGlja3kiOiB0cnVlfQogICAgICAgICAgICApOwogICAgICAgIAogICAgCiAgICAgICAgICAgIHZhciBjaXJjbGVfYzhhNDFmZWJkN2YzNDRjM2IwNTVlZGQ5YTljYWQzN2IgPSBMLmNpcmNsZSgKICAgICAgICAgICAgICAgIFsyNi44MjA1NTMwMDAwMDAwMDQsIDMwLjgwMjQ5Nzk5OTk5OTk5Nl0sCiAgICAgICAgICAgICAgICB7ImJ1YmJsaW5nTW91c2VFdmVudHMiOiB0cnVlLCAiY29sb3IiOiAiY3JpbXNvbiIsICJkYXNoQXJyYXkiOiBudWxsLCAiZGFzaE9mZnNldCI6IG51bGwsICJmaWxsIjogdHJ1ZSwgImZpbGxDb2xvciI6ICJjcmltc29uIiwgImZpbGxPcGFjaXR5IjogMC4yLCAiZmlsbFJ1bGUiOiAiZXZlbm9kZCIsICJsaW5lQ2FwIjogInJvdW5kIiwgImxpbmVKb2luIjogInJvdW5kIiwgIm9wYWNpdHkiOiAxLjAsICJyYWRpdXMiOiA1NjAwMDAuMCwgInN0cm9rZSI6IHRydWUsICJ3ZWlnaHQiOiAzfQogICAgICAgICAgICApLmFkZFRvKG1hcF81NzVmYWYxMjE2Y2Y0YTRhOGVlMmEzMjg5ODMwYTlmNik7CiAgICAgICAgCiAgICAKICAgICAgICAgICAgY2lyY2xlX2M4YTQxZmViZDdmMzQ0YzNiMDU1ZWRkOWE5Y2FkMzdiLmJpbmRUb29sdGlwKAogICAgICAgICAgICAgICAgYDxkaXY+CiAgICAgICAgICAgICAgICAgICAgIDxkaXYgc3R5bGU9J21hcmdpbjowOyBiYWNrZ3JvdW5kLWNvbG9yOiBmaXJlYnJpY2s7IGNvbG9yOiB3aGl0ZTsnPjxoNCBzdHlsZT0ndGV4dC1hbGlnbjpjZW50ZXI7IGZvbnQtd2VpZ2h0OiBib2xkJz5FZ3lwdDwvaDQ+PGhyIHN0eWxlPSdtYXJnaW46MTBweDsgY29sb3I6IHdoaXRlOyc+PHVsIHN0eWxlPSdjb2xvcjogd2hpdGU7O2xpc3Qtc3R5bGUtdHlwZTogY2lyY2xlOyBhbGlnbi1pdGVtOiBsZWZ0OyBwYWRkaW5nLWxlZnQ6IDIwcHg7IHBhZGRpbmctcmlnaHQ6MjBweCc+PGxpPlRvdGFsIGNhc2VzOiA5MDQxMzwvbGk+PGxpPkRlYXRoczogNDQ4MDwvbGk+PGxpPkRlYXRoIHJhdGUgOiA0Ljk1JSA8L2xpPjwvdWw+PC9kaXY+CiAgICAgICAgICAgICAgICAgPC9kaXY+YCwKICAgICAgICAgICAgICAgIHsic3RpY2t5IjogdHJ1ZX0KICAgICAgICAgICAgKTsKICAgICAgICAKICAgIAogICAgICAgICAgICB2YXIgY2lyY2xlXzBjMGU2ZmM4NWNlNzQzNTJhY2EyMzE4ZmE4NzA4YWNmID0gTC5jaXJjbGUoCiAgICAgICAgICAgICAgICBbMTMuNzk0MiwgLTg4Ljg5NjVdLAogICAgICAgICAgICAgICAgeyJidWJibGluZ01vdXNlRXZlbnRzIjogdHJ1ZSwgImNvbG9yIjogImNyaW1zb24iLCAiZGFzaEFycmF5IjogbnVsbCwgImRhc2hPZmZzZXQiOiBudWxsLCAiZmlsbCI6IHRydWUsICJmaWxsQ29sb3IiOiAiY3JpbXNvbiIsICJmaWxsT3BhY2l0eSI6IDAuMiwgImZpbGxSdWxlIjogImV2ZW5vZGQiLCAibGluZUNhcCI6ICJyb3VuZCIsICJsaW5lSm9pbiI6ICJyb3VuZCIsICJvcGFjaXR5IjogMS4wLCAicmFkaXVzIjogNDU5OTk5Ljk5OTk5OTk5OTk0LCAic3Ryb2tlIjogdHJ1ZSwgIndlaWdodCI6IDN9CiAgICAgICAgICAgICkuYWRkVG8obWFwXzU3NWZhZjEyMTZjZjRhNGE4ZWUyYTMyODk4MzBhOWY2KTsKICAgICAgICAKICAgIAogICAgICAgICAgICBjaXJjbGVfMGMwZTZmYzg1Y2U3NDM1MmFjYTIzMThmYTg3MDhhY2YuYmluZFRvb2x0aXAoCiAgICAgICAgICAgICAgICBgPGRpdj4KICAgICAgICAgICAgICAgICAgICAgPGRpdiBzdHlsZT0nbWFyZ2luOjA7IGJhY2tncm91bmQtY29sb3I6IGZpcmVicmljazsgY29sb3I6IHdoaXRlOyc+PGg0IHN0eWxlPSd0ZXh0LWFsaWduOmNlbnRlcjsgZm9udC13ZWlnaHQ6IGJvbGQnPkVsIFNhbHZhZG9yPC9oND48aHIgc3R5bGU9J21hcmdpbjoxMHB4OyBjb2xvcjogd2hpdGU7Jz48dWwgc3R5bGU9J2NvbG9yOiB3aGl0ZTs7bGlzdC1zdHlsZS10eXBlOiBjaXJjbGU7IGFsaWduLWl0ZW06IGxlZnQ7IHBhZGRpbmctbGVmdDogMjBweDsgcGFkZGluZy1yaWdodDoyMHB4Jz48bGk+VG90YWwgY2FzZXM6IDEzMzc3PC9saT48bGk+RGVhdGhzOiAzNzI8L2xpPjxsaT5EZWF0aCByYXRlIDogMi43OCUgPC9saT48L3VsPjwvZGl2PgogICAgICAgICAgICAgICAgIDwvZGl2PmAsCiAgICAgICAgICAgICAgICB7InN0aWNreSI6IHRydWV9CiAgICAgICAgICAgICk7CiAgICAgICAgCiAgICAKICAgICAgICAgICAgdmFyIGNpcmNsZV9iODA1NDZiMjRmYjk0MTY0OTk1ZWViZTk5NGNhZjIzZSA9IEwuY2lyY2xlKAogICAgICAgICAgICAgICAgWzEuNjUwOCwgMTAuMjY3OV0sCiAgICAgICAgICAgICAgICB7ImJ1YmJsaW5nTW91c2VFdmVudHMiOiB0cnVlLCAiY29sb3IiOiAiY3JpbXNvbiIsICJkYXNoQXJyYXkiOiBudWxsLCAiZGFzaE9mZnNldCI6IG51bGwsICJmaWxsIjogdHJ1ZSwgImZpbGxDb2xvciI6ICJjcmltc29uIiwgImZpbGxPcGFjaXR5IjogMC4yLCAiZmlsbFJ1bGUiOiAiZXZlbm9kZCIsICJsaW5lQ2FwIjogInJvdW5kIiwgImxpbmVKb2luIjogInJvdW5kIiwgIm9wYWNpdHkiOiAxLjAsICJyYWRpdXMiOiA0MDk5OTkuOTk5OTk5OTk5OTQsICJzdHJva2UiOiB0cnVlLCAid2VpZ2h0IjogM30KICAgICAgICAgICAgKS5hZGRUbyhtYXBfNTc1ZmFmMTIxNmNmNGE0YThlZTJhMzI4OTgzMGE5ZjYpOwogICAgICAgIAogICAgCiAgICAgICAgICAgIGNpcmNsZV9iODA1NDZiMjRmYjk0MTY0OTk1ZWViZTk5NGNhZjIzZS5iaW5kVG9vbHRpcCgKICAgICAgICAgICAgICAgIGA8ZGl2PgogICAgICAgICAgICAgICAgICAgICA8ZGl2IHN0eWxlPSdtYXJnaW46MDsgYmFja2dyb3VuZC1jb2xvcjogZmlyZWJyaWNrOyBjb2xvcjogd2hpdGU7Jz48aDQgc3R5bGU9J3RleHQtYWxpZ246Y2VudGVyOyBmb250LXdlaWdodDogYm9sZCc+RXF1YXRvcmlhbCBHdWluZWE8L2g0PjxociBzdHlsZT0nbWFyZ2luOjEwcHg7IGNvbG9yOiB3aGl0ZTsnPjx1bCBzdHlsZT0nY29sb3I6IHdoaXRlOztsaXN0LXN0eWxlLXR5cGU6IGNpcmNsZTsgYWxpZ24taXRlbTogbGVmdDsgcGFkZGluZy1sZWZ0OiAyMHB4OyBwYWRkaW5nLXJpZ2h0OjIwcHgnPjxsaT5Ub3RhbCBjYXNlczogMzA3MTwvbGk+PGxpPkRlYXRoczogNTE8L2xpPjxsaT5EZWF0aCByYXRlIDogMS42NiUgPC9saT48L3VsPjwvZGl2PgogICAgICAgICAgICAgICAgIDwvZGl2PmAsCiAgICAgICAgICAgICAgICB7InN0aWNreSI6IHRydWV9CiAgICAgICAgICAgICk7CiAgICAgICAgCiAgICAKICAgICAgICAgICAgdmFyIGNpcmNsZV83MTBkZGViNzFiZjU0NzhmOTQwNjNkZGJlMzIyZWRlMSA9IEwuY2lyY2xlKAogICAgICAgICAgICAgICAgWzE1LjE3OTQsIDM5Ljc4MjNdLAogICAgICAgICAgICAgICAgeyJidWJibGluZ01vdXNlRXZlbnRzIjogdHJ1ZSwgImNvbG9yIjogImNyaW1zb24iLCAiZGFzaEFycmF5IjogbnVsbCwgImRhc2hPZmZzZXQiOiBudWxsLCAiZmlsbCI6IHRydWUsICJmaWxsQ29sb3IiOiAiY3JpbXNvbiIsICJmaWxsT3BhY2l0eSI6IDAuMiwgImZpbGxSdWxlIjogImV2ZW5vZGQiLCAibGluZUNhcCI6ICJyb3VuZCIsICJsaW5lSm9pbiI6ICJyb3VuZCIsICJvcGFjaXR5IjogMS4wLCAicmFkaXVzIjogMjYwMDAwLjAsICJzdHJva2UiOiB0cnVlLCAid2VpZ2h0IjogM30KICAgICAgICAgICAgKS5hZGRUbyhtYXBfNTc1ZmFmMTIxNmNmNGE0YThlZTJhMzI4OTgzMGE5ZjYpOwogICAgICAgIAogICAgCiAgICAgICAgICAgIGNpcmNsZV83MTBkZGViNzFiZjU0NzhmOTQwNjNkZGJlMzIyZWRlMS5iaW5kVG9vbHRpcCgKICAgICAgICAgICAgICAgIGA8ZGl2PgogICAgICAgICAgICAgICAgICAgICA8ZGl2IHN0eWxlPSdtYXJnaW46MDsgYmFja2dyb3VuZC1jb2xvcjogZmlyZWJyaWNrOyBjb2xvcjogd2hpdGU7Jz48aDQgc3R5bGU9J3RleHQtYWxpZ246Y2VudGVyOyBmb250LXdlaWdodDogYm9sZCc+RXJpdHJlYTwvaDQ+PGhyIHN0eWxlPSdtYXJnaW46MTBweDsgY29sb3I6IHdoaXRlOyc+PHVsIHN0eWxlPSdjb2xvcjogd2hpdGU7O2xpc3Qtc3R5bGUtdHlwZTogY2lyY2xlOyBhbGlnbi1pdGVtOiBsZWZ0OyBwYWRkaW5nLWxlZnQ6IDIwcHg7IHBhZGRpbmctcmlnaHQ6MjBweCc+PGxpPlRvdGFsIGNhc2VzOiAyNjE8L2xpPjxsaT5EZWF0aHM6IDA8L2xpPjxsaT5EZWF0aCByYXRlIDogMC4wJSA8L2xpPjwvdWw+PC9kaXY+CiAgICAgICAgICAgICAgICAgPC9kaXY+YCwKICAgICAgICAgICAgICAgIHsic3RpY2t5IjogdHJ1ZX0KICAgICAgICAgICAgKTsKICAgICAgICAKICAgIAogICAgICAgICAgICB2YXIgY2lyY2xlX2RlYWJmOTY2OWVjYTQ1MzY5YTEzODY0NjFhMTFkNjRiID0gTC5jaXJjbGUoCiAgICAgICAgICAgICAgICBbNTguNTk1MywgMjUuMDEzNl0sCiAgICAgICAgICAgICAgICB7ImJ1YmJsaW5nTW91c2VFdmVudHMiOiB0cnVlLCAiY29sb3IiOiAiY3JpbXNvbiIsICJkYXNoQXJyYXkiOiBudWxsLCAiZGFzaE9mZnNldCI6IG51bGwsICJmaWxsIjogdHJ1ZSwgImZpbGxDb2xvciI6ICJjcmltc29uIiwgImZpbGxPcGFjaXR5IjogMC4yLCAiZmlsbFJ1bGUiOiAiZXZlbm9kZCIsICJsaW5lQ2FwIjogInJvdW5kIiwgImxpbmVKb2luIjogInJvdW5kIiwgIm9wYWNpdHkiOiAxLjAsICJyYWRpdXMiOiAzNjAwMDAuMCwgInN0cm9rZSI6IHRydWUsICJ3ZWlnaHQiOiAzfQogICAgICAgICAgICApLmFkZFRvKG1hcF81NzVmYWYxMjE2Y2Y0YTRhOGVlMmEzMjg5ODMwYTlmNik7CiAgICAgICAgCiAgICAKICAgICAgICAgICAgY2lyY2xlX2RlYWJmOTY2OWVjYTQ1MzY5YTEzODY0NjFhMTFkNjRiLmJpbmRUb29sdGlwKAogICAgICAgICAgICAgICAgYDxkaXY+CiAgICAgICAgICAgICAgICAgICAgIDxkaXYgc3R5bGU9J21hcmdpbjowOyBiYWNrZ3JvdW5kLWNvbG9yOiBmaXJlYnJpY2s7IGNvbG9yOiB3aGl0ZTsnPjxoNCBzdHlsZT0ndGV4dC1hbGlnbjpjZW50ZXI7IGZvbnQtd2VpZ2h0OiBib2xkJz5Fc3RvbmlhPC9oND48aHIgc3R5bGU9J21hcmdpbjoxMHB4OyBjb2xvcjogd2hpdGU7Jz48dWwgc3R5bGU9J2NvbG9yOiB3aGl0ZTs7bGlzdC1zdHlsZS10eXBlOiBjaXJjbGU7IGFsaWduLWl0ZW06IGxlZnQ7IHBhZGRpbmctbGVmdDogMjBweDsgcGFkZGluZy1yaWdodDoyMHB4Jz48bGk+VG90YWwgY2FzZXM6IDIwMjc8L2xpPjxsaT5EZWF0aHM6IDY5PC9saT48bGk+RGVhdGggcmF0ZSA6IDMuNCUgPC9saT48L3VsPjwvZGl2PgogICAgICAgICAgICAgICAgIDwvZGl2PmAsCiAgICAgICAgICAgICAgICB7InN0aWNreSI6IHRydWV9CiAgICAgICAgICAgICk7CiAgICAgICAgCiAgICAKICAgICAgICAgICAgdmFyIGNpcmNsZV9mOGUwOGVkZDZlMDI0Njc3YTVhMGZkODVlNTk4Y2E2ZSA9IEwuY2lyY2xlKAogICAgICAgICAgICAgICAgWy0yNi41MjI1LCAzMS40NjU5XSwKICAgICAgICAgICAgICAgIHsiYnViYmxpbmdNb3VzZUV2ZW50cyI6IHRydWUsICJjb2xvciI6ICJjcmltc29uIiwgImRhc2hBcnJheSI6IG51bGwsICJkYXNoT2Zmc2V0IjogbnVsbCwgImZpbGwiOiB0cnVlLCAiZmlsbENvbG9yIjogImNyaW1zb24iLCAiZmlsbE9wYWNpdHkiOiAwLjIsICJmaWxsUnVsZSI6ICJldmVub2RkIiwgImxpbmVDYXAiOiAicm91bmQiLCAibGluZUpvaW4iOiAicm91bmQiLCAib3BhY2l0eSI6IDEuMCwgInJhZGl1cyI6IDM2MDAwMC4wLCAic3Ryb2tlIjogdHJ1ZSwgIndlaWdodCI6IDN9CiAgICAgICAgICAgICkuYWRkVG8obWFwXzU3NWZhZjEyMTZjZjRhNGE4ZWUyYTMyODk4MzBhOWY2KTsKICAgICAgICAKICAgIAogICAgICAgICAgICBjaXJjbGVfZjhlMDhlZGQ2ZTAyNDY3N2E1YTBmZDg1ZTU5OGNhNmUuYmluZFRvb2x0aXAoCiAgICAgICAgICAgICAgICBgPGRpdj4KICAgICAgICAgICAgICAgICAgICAgPGRpdiBzdHlsZT0nbWFyZ2luOjA7IGJhY2tncm91bmQtY29sb3I6IGZpcmVicmljazsgY29sb3I6IHdoaXRlOyc+PGg0IHN0eWxlPSd0ZXh0LWFsaWduOmNlbnRlcjsgZm9udC13ZWlnaHQ6IGJvbGQnPkVzd2F0aW5pPC9oND48aHIgc3R5bGU9J21hcmdpbjoxMHB4OyBjb2xvcjogd2hpdGU7Jz48dWwgc3R5bGU9J2NvbG9yOiB3aGl0ZTs7bGlzdC1zdHlsZS10eXBlOiBjaXJjbGU7IGFsaWduLWl0ZW06IGxlZnQ7IHBhZGRpbmctbGVmdDogMjBweDsgcGFkZGluZy1yaWdodDoyMHB4Jz48bGk+VG90YWwgY2FzZXM6IDIwMjE8L2xpPjxsaT5EZWF0aHM6IDI4PC9saT48bGk+RGVhdGggcmF0ZSA6IDEuMzglIDwvbGk+PC91bD48L2Rpdj4KICAgICAgICAgICAgICAgICA8L2Rpdj5gLAogICAgICAgICAgICAgICAgeyJzdGlja3kiOiB0cnVlfQogICAgICAgICAgICApOwogICAgICAgIAogICAgCiAgICAgICAgICAgIHZhciBjaXJjbGVfZGUyMzI5MjY2OTc4NGZmOWJjNjcwNjI5NTQ4NWQ5YzkgPSBMLmNpcmNsZSgKICAgICAgICAgICAgICAgIFs5LjE0NSwgNDAuNDg5N10sCiAgICAgICAgICAgICAgICB7ImJ1YmJsaW5nTW91c2VFdmVudHMiOiB0cnVlLCAiY29sb3IiOiAiY3JpbXNvbiIsICJkYXNoQXJyYXkiOiBudWxsLCAiZGFzaE9mZnNldCI6IG51bGwsICJmaWxsIjogdHJ1ZSwgImZpbGxDb2xvciI6ICJjcmltc29uIiwgImZpbGxPcGFjaXR5IjogMC4yLCAiZmlsbFJ1bGUiOiAiZXZlbm9kZCIsICJsaW5lQ2FwIjogInJvdW5kIiwgImxpbmVKb2luIjogInJvdW5kIiwgIm9wYWNpdHkiOiAxLjAsICJyYWRpdXMiOiA0NTk5OTkuOTk5OTk5OTk5OTQsICJzdHJva2UiOiB0cnVlLCAid2VpZ2h0IjogM30KICAgICAgICAgICAgKS5hZGRUbyhtYXBfNTc1ZmFmMTIxNmNmNGE0YThlZTJhMzI4OTgzMGE5ZjYpOwogICAgICAgIAogICAgCiAgICAgICAgICAgIGNpcmNsZV9kZTIzMjkyNjY5Nzg0ZmY5YmM2NzA2Mjk1NDg1ZDljOS5iaW5kVG9vbHRpcCgKICAgICAgICAgICAgICAgIGA8ZGl2PgogICAgICAgICAgICAgICAgICAgICA8ZGl2IHN0eWxlPSdtYXJnaW46MDsgYmFja2dyb3VuZC1jb2xvcjogZmlyZWJyaWNrOyBjb2xvcjogd2hpdGU7Jz48aDQgc3R5bGU9J3RleHQtYWxpZ246Y2VudGVyOyBmb250LXdlaWdodDogYm9sZCc+RXRoaW9waWE8L2g0PjxociBzdHlsZT0nbWFyZ2luOjEwcHg7IGNvbG9yOiB3aGl0ZTsnPjx1bCBzdHlsZT0nY29sb3I6IHdoaXRlOztsaXN0LXN0eWxlLXR5cGU6IGNpcmNsZTsgYWxpZ24taXRlbTogbGVmdDsgcGFkZGluZy1sZWZ0OiAyMHB4OyBwYWRkaW5nLXJpZ2h0OjIwcHgnPjxsaT5Ub3RhbCBjYXNlczogMTE5MzM8L2xpPjxsaT5EZWF0aHM6IDE5NzwvbGk+PGxpPkRlYXRoIHJhdGUgOiAxLjY1JSA8L2xpPjwvdWw+PC9kaXY+CiAgICAgICAgICAgICAgICAgPC9kaXY+YCwKICAgICAgICAgICAgICAgIHsic3RpY2t5IjogdHJ1ZX0KICAgICAgICAgICAgKTsKICAgICAgICAKICAgIAogICAgICAgICAgICB2YXIgY2lyY2xlX2Y0OWFlZGVlNjdjNzQ2ZWRiZmE1OWRlNDNlMjcwNWI0ID0gTC5jaXJjbGUoCiAgICAgICAgICAgICAgICBbLTE3LjcxMzQsIDE3OC4wNjVdLAogICAgICAgICAgICAgICAgeyJidWJibGluZ01vdXNlRXZlbnRzIjogdHJ1ZSwgImNvbG9yIjogImNyaW1zb24iLCAiZGFzaEFycmF5IjogbnVsbCwgImRhc2hPZmZzZXQiOiBudWxsLCAiZmlsbCI6IHRydWUsICJmaWxsQ29sb3IiOiAiY3JpbXNvbiIsICJmaWxsT3BhY2l0eSI6IDAuMiwgImZpbGxSdWxlIjogImV2ZW5vZGQiLCAibGluZUNhcCI6ICJyb3VuZCIsICJsaW5lSm9pbiI6ICJyb3VuZCIsICJvcGFjaXR5IjogMS4wLCAicmFkaXVzIjogMTYwMDAwLjAsICJzdHJva2UiOiB0cnVlLCAid2VpZ2h0IjogM30KICAgICAgICAgICAgKS5hZGRUbyhtYXBfNTc1ZmFmMTIxNmNmNGE0YThlZTJhMzI4OTgzMGE5ZjYpOwogICAgICAgIAogICAgCiAgICAgICAgICAgIGNpcmNsZV9mNDlhZWRlZTY3Yzc0NmVkYmZhNTlkZTQzZTI3MDViNC5iaW5kVG9vbHRpcCgKICAgICAgICAgICAgICAgIGA8ZGl2PgogICAgICAgICAgICAgICAgICAgICA8ZGl2IHN0eWxlPSdtYXJnaW46MDsgYmFja2dyb3VuZC1jb2xvcjogZmlyZWJyaWNrOyBjb2xvcjogd2hpdGU7Jz48aDQgc3R5bGU9J3RleHQtYWxpZ246Y2VudGVyOyBmb250LXdlaWdodDogYm9sZCc+RmlqaTwvaDQ+PGhyIHN0eWxlPSdtYXJnaW46MTBweDsgY29sb3I6IHdoaXRlOyc+PHVsIHN0eWxlPSdjb2xvcjogd2hpdGU7O2xpc3Qtc3R5bGUtdHlwZTogY2lyY2xlOyBhbGlnbi1pdGVtOiBsZWZ0OyBwYWRkaW5nLWxlZnQ6IDIwcHg7IHBhZGRpbmctcmlnaHQ6MjBweCc+PGxpPlRvdGFsIGNhc2VzOiAyNzwvbGk+PGxpPkRlYXRoczogMDwvbGk+PGxpPkRlYXRoIHJhdGUgOiAwLjAlIDwvbGk+PC91bD48L2Rpdj4KICAgICAgICAgICAgICAgICA8L2Rpdj5gLAogICAgICAgICAgICAgICAgeyJzdGlja3kiOiB0cnVlfQogICAgICAgICAgICApOwogICAgICAgIAogICAgCiAgICAgICAgICAgIHZhciBjaXJjbGVfZTNmYzA1ZTBiOTMyNDY5YTg1YjdiMzk2NDU0ZjdhNzggPSBMLmNpcmNsZSgKICAgICAgICAgICAgICAgIFs2MS45MjQxMSwgMjUuNzQ4MTUxXSwKICAgICAgICAgICAgICAgIHsiYnViYmxpbmdNb3VzZUV2ZW50cyI6IHRydWUsICJjb2xvciI6ICJjcmltc29uIiwgImRhc2hBcnJheSI6IG51bGwsICJkYXNoT2Zmc2V0IjogbnVsbCwgImZpbGwiOiB0cnVlLCAiZmlsbENvbG9yIjogImNyaW1zb24iLCAiZmlsbE9wYWNpdHkiOiAwLjIsICJmaWxsUnVsZSI6ICJldmVub2RkIiwgImxpbmVDYXAiOiAicm91bmQiLCAibGluZUpvaW4iOiAicm91bmQiLCAib3BhY2l0eSI6IDEuMCwgInJhZGl1cyI6IDQwOTk5OS45OTk5OTk5OTk5NCwgInN0cm9rZSI6IHRydWUsICJ3ZWlnaHQiOiAzfQogICAgICAgICAgICApLmFkZFRvKG1hcF81NzVmYWYxMjE2Y2Y0YTRhOGVlMmEzMjg5ODMwYTlmNik7CiAgICAgICAgCiAgICAKICAgICAgICAgICAgY2lyY2xlX2UzZmMwNWUwYjkzMjQ2OWE4NWI3YjM5NjQ1NGY3YTc4LmJpbmRUb29sdGlwKAogICAgICAgICAgICAgICAgYDxkaXY+CiAgICAgICAgICAgICAgICAgICAgIDxkaXYgc3R5bGU9J21hcmdpbjowOyBiYWNrZ3JvdW5kLWNvbG9yOiBmaXJlYnJpY2s7IGNvbG9yOiB3aGl0ZTsnPjxoNCBzdHlsZT0ndGV4dC1hbGlnbjpjZW50ZXI7IGZvbnQtd2VpZ2h0OiBib2xkJz5GaW5sYW5kPC9oND48aHIgc3R5bGU9J21hcmdpbjoxMHB4OyBjb2xvcjogd2hpdGU7Jz48dWwgc3R5bGU9J2NvbG9yOiB3aGl0ZTs7bGlzdC1zdHlsZS10eXBlOiBjaXJjbGU7IGFsaWduLWl0ZW06IGxlZnQ7IHBhZGRpbmctbGVmdDogMjBweDsgcGFkZGluZy1yaWdodDoyMHB4Jz48bGk+VG90YWwgY2FzZXM6IDczNzI8L2xpPjxsaT5EZWF0aHM6IDMyODwvbGk+PGxpPkRlYXRoIHJhdGUgOiA0LjQ1JSA8L2xpPjwvdWw+PC9kaXY+CiAgICAgICAgICAgICAgICAgPC9kaXY+YCwKICAgICAgICAgICAgICAgIHsic3RpY2t5IjogdHJ1ZX0KICAgICAgICAgICAgKTsKICAgICAgICAKICAgIAogICAgICAgICAgICB2YXIgY2lyY2xlXzlmNGNkNTRmZGRiMDQ2ZWNhZDc5Zjg3OWVjOTUwYjNkID0gTC5jaXJjbGUoCiAgICAgICAgICAgICAgICBbMy45MzM5LCAtNTMuMTI1OF0sCiAgICAgICAgICAgICAgICB7ImJ1YmJsaW5nTW91c2VFdmVudHMiOiB0cnVlLCAiY29sb3IiOiAiY3JpbXNvbiIsICJkYXNoQXJyYXkiOiBudWxsLCAiZGFzaE9mZnNldCI6IG51bGwsICJmaWxsIjogdHJ1ZSwgImZpbGxDb2xvciI6ICJjcmltc29uIiwgImZpbGxPcGFjaXR5IjogMC4yLCAiZmlsbFJ1bGUiOiAiZXZlbm9kZCIsICJsaW5lQ2FwIjogInJvdW5kIiwgImxpbmVKb2luIjogInJvdW5kIiwgIm9wYWNpdHkiOiAxLjAsICJyYWRpdXMiOiA0MDk5OTkuOTk5OTk5OTk5OTQsICJzdHJva2UiOiB0cnVlLCAid2VpZ2h0IjogM30KICAgICAgICAgICAgKS5hZGRUbyhtYXBfNTc1ZmFmMTIxNmNmNGE0YThlZTJhMzI4OTgzMGE5ZjYpOwogICAgICAgIAogICAgCiAgICAgICAgICAgIGNpcmNsZV85ZjRjZDU0ZmRkYjA0NmVjYWQ3OWY4NzllYzk1MGIzZC5iaW5kVG9vbHRpcCgKICAgICAgICAgICAgICAgIGA8ZGl2PgogICAgICAgICAgICAgICAgICAgICA8ZGl2IHN0eWxlPSdtYXJnaW46MDsgYmFja2dyb3VuZC1jb2xvcjogZmlyZWJyaWNrOyBjb2xvcjogd2hpdGU7Jz48aDQgc3R5bGU9J3RleHQtYWxpZ246Y2VudGVyOyBmb250LXdlaWdodDogYm9sZCc+RnJhbmNlPC9oND48aHIgc3R5bGU9J21hcmdpbjoxMHB4OyBjb2xvcjogd2hpdGU7Jz48dWwgc3R5bGU9J2NvbG9yOiB3aGl0ZTs7bGlzdC1zdHlsZS10eXBlOiBjaXJjbGU7IGFsaWduLWl0ZW06IGxlZnQ7IHBhZGRpbmctbGVmdDogMjBweDsgcGFkZGluZy1yaWdodDoyMHB4Jz48bGk+VG90YWwgY2FzZXM6IDcwODY8L2xpPjxsaT5EZWF0aHM6IDQwPC9saT48bGk+RGVhdGggcmF0ZSA6IDAuNTYlIDwvbGk+PC91bD48L2Rpdj4KICAgICAgICAgICAgICAgICA8L2Rpdj5gLAogICAgICAgICAgICAgICAgeyJzdGlja3kiOiB0cnVlfQogICAgICAgICAgICApOwogICAgICAgIAogICAgCiAgICAgICAgICAgIHZhciBjaXJjbGVfYmU1NGRhYjAzMjg1NDlhOGIxYzg3ZDA0MjE4YjQ3MDggPSBMLmNpcmNsZSgKICAgICAgICAgICAgICAgIFstMTcuNjc5NywgMTQ5LjQwNjhdLAogICAgICAgICAgICAgICAgeyJidWJibGluZ01vdXNlRXZlbnRzIjogdHJ1ZSwgImNvbG9yIjogImNyaW1zb24iLCAiZGFzaEFycmF5IjogbnVsbCwgImRhc2hPZmZzZXQiOiBudWxsLCAiZmlsbCI6IHRydWUsICJmaWxsQ29sb3IiOiAiY3JpbXNvbiIsICJmaWxsT3BhY2l0eSI6IDAuMiwgImZpbGxSdWxlIjogImV2ZW5vZGQiLCAibGluZUNhcCI6ICJyb3VuZCIsICJsaW5lSm9pbiI6ICJyb3VuZCIsICJvcGFjaXR5IjogMS4wLCAicmFkaXVzIjogMjEwMDAwLjAsICJzdHJva2UiOiB0cnVlLCAid2VpZ2h0IjogM30KICAgICAgICAgICAgKS5hZGRUbyhtYXBfNTc1ZmFmMTIxNmNmNGE0YThlZTJhMzI4OTgzMGE5ZjYpOwogICAgICAgIAogICAgCiAgICAgICAgICAgIGNpcmNsZV9iZTU0ZGFiMDMyODU0OWE4YjFjODdkMDQyMThiNDcwOC5iaW5kVG9vbHRpcCgKICAgICAgICAgICAgICAgIGA8ZGl2PgogICAgICAgICAgICAgICAgICAgICA8ZGl2IHN0eWxlPSdtYXJnaW46MDsgYmFja2dyb3VuZC1jb2xvcjogZmlyZWJyaWNrOyBjb2xvcjogd2hpdGU7Jz48aDQgc3R5bGU9J3RleHQtYWxpZ246Y2VudGVyOyBmb250LXdlaWdodDogYm9sZCc+RnJhbmNlPC9oND48aHIgc3R5bGU9J21hcmdpbjoxMHB4OyBjb2xvcjogd2hpdGU7Jz48dWwgc3R5bGU9J2NvbG9yOiB3aGl0ZTs7bGlzdC1zdHlsZS10eXBlOiBjaXJjbGU7IGFsaWduLWl0ZW06IGxlZnQ7IHBhZGRpbmctbGVmdDogMjBweDsgcGFkZGluZy1yaWdodDoyMHB4Jz48bGk+VG90YWwgY2FzZXM6IDYyPC9saT48bGk+RGVhdGhzOiAwPC9saT48bGk+RGVhdGggcmF0ZSA6IDAuMCUgPC9saT48L3VsPjwvZGl2PgogICAgICAgICAgICAgICAgIDwvZGl2PmAsCiAgICAgICAgICAgICAgICB7InN0aWNreSI6IHRydWV9CiAgICAgICAgICAgICk7CiAgICAgICAgCiAgICAKICAgICAgICAgICAgdmFyIGNpcmNsZV9jNDliMDExYWE1Mjc0ODQ0OGYzODc2ZGUyNWMxMzcyNSA9IEwuY2lyY2xlKAogICAgICAgICAgICAgICAgWzE2LjI2NSwgLTYxLjU1MV0sCiAgICAgICAgICAgICAgICB7ImJ1YmJsaW5nTW91c2VFdmVudHMiOiB0cnVlLCAiY29sb3IiOiAiY3JpbXNvbiIsICJkYXNoQXJyYXkiOiBudWxsLCAiZGFzaE9mZnNldCI6IG51bGwsICJmaWxsIjogdHJ1ZSwgImZpbGxDb2xvciI6ICJjcmltc29uIiwgImZpbGxPcGFjaXR5IjogMC4yLCAiZmlsbFJ1bGUiOiAiZXZlbm9kZCIsICJsaW5lQ2FwIjogInJvdW5kIiwgImxpbmVKb2luIjogInJvdW5kIiwgIm9wYWNpdHkiOiAxLjAsICJyYWRpdXMiOiAyNjAwMDAuMCwgInN0cm9rZSI6IHRydWUsICJ3ZWlnaHQiOiAzfQogICAgICAgICAgICApLmFkZFRvKG1hcF81NzVmYWYxMjE2Y2Y0YTRhOGVlMmEzMjg5ODMwYTlmNik7CiAgICAgICAgCiAgICAKICAgICAgICAgICAgY2lyY2xlX2M0OWIwMTFhYTUyNzQ4NDQ4ZjM4NzZkZTI1YzEzNzI1LmJpbmRUb29sdGlwKAogICAgICAgICAgICAgICAgYDxkaXY+CiAgICAgICAgICAgICAgICAgICAgIDxkaXYgc3R5bGU9J21hcmdpbjowOyBiYWNrZ3JvdW5kLWNvbG9yOiBmaXJlYnJpY2s7IGNvbG9yOiB3aGl0ZTsnPjxoNCBzdHlsZT0ndGV4dC1hbGlnbjpjZW50ZXI7IGZvbnQtd2VpZ2h0OiBib2xkJz5GcmFuY2U8L2g0PjxociBzdHlsZT0nbWFyZ2luOjEwcHg7IGNvbG9yOiB3aGl0ZTsnPjx1bCBzdHlsZT0nY29sb3I6IHdoaXRlOztsaXN0LXN0eWxlLXR5cGU6IGNpcmNsZTsgYWxpZ24taXRlbTogbGVmdDsgcGFkZGluZy1sZWZ0OiAyMHB4OyBwYWRkaW5nLXJpZ2h0OjIwcHgnPjxsaT5Ub3RhbCBjYXNlczogMTk1PC9saT48bGk+RGVhdGhzOiAxNDwvbGk+PGxpPkRlYXRoIHJhdGUgOiA3LjE0JSA8L2xpPjwvdWw+PC9kaXY+CiAgICAgICAgICAgICAgICAgPC9kaXY+YCwKICAgICAgICAgICAgICAgIHsic3RpY2t5IjogdHJ1ZX0KICAgICAgICAgICAgKTsKICAgICAgICAKICAgIAogICAgICAgICAgICB2YXIgY2lyY2xlXzg3OGJkMzFhNmNlMTQ4ZWY4ZTliYjhmYzJhNjQ4OTNhID0gTC5jaXJjbGUoCiAgICAgICAgICAgICAgICBbLTEyLjgyNzUsIDQ1LjE2NjI0NF0sCiAgICAgICAgICAgICAgICB7ImJ1YmJsaW5nTW91c2VFdmVudHMiOiB0cnVlLCAiY29sb3IiOiAiY3JpbXNvbiIsICJkYXNoQXJyYXkiOiBudWxsLCAiZGFzaE9mZnNldCI6IG51bGwsICJmaWxsIjogdHJ1ZSwgImZpbGxDb2xvciI6ICJjcmltc29uIiwgImZpbGxPcGFjaXR5IjogMC4yLCAiZmlsbFJ1bGUiOiAiZXZlbm9kZCIsICJsaW5lQ2FwIjogInJvdW5kIiwgImxpbmVKb2luIjogInJvdW5kIiwgIm9wYWNpdHkiOiAxLjAsICJyYWRpdXMiOiAzNjAwMDAuMCwgInN0cm9rZSI6IHRydWUsICJ3ZWlnaHQiOiAzfQogICAgICAgICAgICApLmFkZFRvKG1hcF81NzVmYWYxMjE2Y2Y0YTRhOGVlMmEzMjg5ODMwYTlmNik7CiAgICAgICAgCiAgICAKICAgICAgICAgICAgY2lyY2xlXzg3OGJkMzFhNmNlMTQ4ZWY4ZTliYjhmYzJhNjQ4OTNhLmJpbmRUb29sdGlwKAogICAgICAgICAgICAgICAgYDxkaXY+CiAgICAgICAgICAgICAgICAgICAgIDxkaXYgc3R5bGU9J21hcmdpbjowOyBiYWNrZ3JvdW5kLWNvbG9yOiBmaXJlYnJpY2s7IGNvbG9yOiB3aGl0ZTsnPjxoNCBzdHlsZT0ndGV4dC1hbGlnbjpjZW50ZXI7IGZvbnQtd2VpZ2h0OiBib2xkJz5GcmFuY2U8L2g0PjxociBzdHlsZT0nbWFyZ2luOjEwcHg7IGNvbG9yOiB3aGl0ZTsnPjx1bCBzdHlsZT0nY29sb3I6IHdoaXRlOztsaXN0LXN0eWxlLXR5cGU6IGNpcmNsZTsgYWxpZ24taXRlbTogbGVmdDsgcGFkZGluZy1sZWZ0OiAyMHB4OyBwYWRkaW5nLXJpZ2h0OjIwcHgnPjxsaT5Ub3RhbCBjYXNlczogMjg2MjwvbGk+PGxpPkRlYXRoczogMzg8L2xpPjxsaT5EZWF0aCByYXRlIDogMS4zMyUgPC9saT48L3VsPjwvZGl2PgogICAgICAgICAgICAgICAgIDwvZGl2PmAsCiAgICAgICAgICAgICAgICB7InN0aWNreSI6IHRydWV9CiAgICAgICAgICAgICk7CiAgICAgICAgCiAgICAKICAgICAgICAgICAgdmFyIGNpcmNsZV81YTk4NzRmNGJjNGM0Nzg5OTM1Y2Q5NTE5NmQ0ZDM1NiA9IEwuY2lyY2xlKAogICAgICAgICAgICAgICAgWy0yMC45MDQzMDQ5OTk5OTk5OTcsIDE2NS42MTgwNDJdLAogICAgICAgICAgICAgICAgeyJidWJibGluZ01vdXNlRXZlbnRzIjogdHJ1ZSwgImNvbG9yIjogImNyaW1zb24iLCAiZGFzaEFycmF5IjogbnVsbCwgImRhc2hPZmZzZXQiOiBudWxsLCAiZmlsbCI6IHRydWUsICJmaWxsQ29sb3IiOiAiY3JpbXNvbiIsICJmaWxsT3BhY2l0eSI6IDAuMiwgImZpbGxSdWxlIjogImV2ZW5vZGQiLCAibGluZUNhcCI6ICJyb3VuZCIsICJsaW5lSm9pbiI6ICJyb3VuZCIsICJvcGFjaXR5IjogMS4wLCAicmFkaXVzIjogMTYwMDAwLjAsICJzdHJva2UiOiB0cnVlLCAid2VpZ2h0IjogM30KICAgICAgICAgICAgKS5hZGRUbyhtYXBfNTc1ZmFmMTIxNmNmNGE0YThlZTJhMzI4OTgzMGE5ZjYpOwogICAgICAgIAogICAgCiAgICAgICAgICAgIGNpcmNsZV81YTk4NzRmNGJjNGM0Nzg5OTM1Y2Q5NTE5NmQ0ZDM1Ni5iaW5kVG9vbHRpcCgKICAgICAgICAgICAgICAgIGA8ZGl2PgogICAgICAgICAgICAgICAgICAgICA8ZGl2IHN0eWxlPSdtYXJnaW46MDsgYmFja2dyb3VuZC1jb2xvcjogZmlyZWJyaWNrOyBjb2xvcjogd2hpdGU7Jz48aDQgc3R5bGU9J3RleHQtYWxpZ246Y2VudGVyOyBmb250LXdlaWdodDogYm9sZCc+RnJhbmNlPC9oND48aHIgc3R5bGU9J21hcmdpbjoxMHB4OyBjb2xvcjogd2hpdGU7Jz48dWwgc3R5bGU9J2NvbG9yOiB3aGl0ZTs7bGlzdC1zdHlsZS10eXBlOiBjaXJjbGU7IGFsaWduLWl0ZW06IGxlZnQ7IHBhZGRpbmctbGVmdDogMjBweDsgcGFkZGluZy1yaWdodDoyMHB4Jz48bGk+VG90YWwgY2FzZXM6IDIyPC9saT48bGk+RGVhdGhzOiAwPC9saT48bGk+RGVhdGggcmF0ZSA6IDAuMCUgPC9saT48L3VsPjwvZGl2PgogICAgICAgICAgICAgICAgIDwvZGl2PmAsCiAgICAgICAgICAgICAgICB7InN0aWNreSI6IHRydWV9CiAgICAgICAgICAgICk7CiAgICAgICAgCiAgICAKICAgICAgICAgICAgdmFyIGNpcmNsZV9lM2UwOTkwM2I4NmM0NzhmYTlkNjQ1OGUwZWVlZDEwNyA9IEwuY2lyY2xlKAogICAgICAgICAgICAgICAgWy0yMS4xMTUxLCA1NS41MzY0XSwKICAgICAgICAgICAgICAgIHsiYnViYmxpbmdNb3VzZUV2ZW50cyI6IHRydWUsICJjb2xvciI6ICJjcmltc29uIiwgImRhc2hBcnJheSI6IG51bGwsICJkYXNoT2Zmc2V0IjogbnVsbCwgImZpbGwiOiB0cnVlLCAiZmlsbENvbG9yIjogImNyaW1zb24iLCAiZmlsbE9wYWNpdHkiOiAwLjIsICJmaWxsUnVsZSI6ICJldmVub2RkIiwgImxpbmVDYXAiOiAicm91bmQiLCAibGluZUpvaW4iOiAicm91bmQiLCAib3BhY2l0eSI6IDEuMCwgInJhZGl1cyI6IDMxMDAwMC4wLCAic3Ryb2tlIjogdHJ1ZSwgIndlaWdodCI6IDN9CiAgICAgICAgICAgICkuYWRkVG8obWFwXzU3NWZhZjEyMTZjZjRhNGE4ZWUyYTMyODk4MzBhOWY2KTsKICAgICAgICAKICAgIAogICAgICAgICAgICBjaXJjbGVfZTNlMDk5MDNiODZjNDc4ZmE5ZDY0NThlMGVlZWQxMDcuYmluZFRvb2x0aXAoCiAgICAgICAgICAgICAgICBgPGRpdj4KICAgICAgICAgICAgICAgICAgICAgPGRpdiBzdHlsZT0nbWFyZ2luOjA7IGJhY2tncm91bmQtY29sb3I6IGZpcmVicmljazsgY29sb3I6IHdoaXRlOyc+PGg0IHN0eWxlPSd0ZXh0LWFsaWduOmNlbnRlcjsgZm9udC13ZWlnaHQ6IGJvbGQnPkZyYW5jZTwvaDQ+PGhyIHN0eWxlPSdtYXJnaW46MTBweDsgY29sb3I6IHdoaXRlOyc+PHVsIHN0eWxlPSdjb2xvcjogd2hpdGU7O2xpc3Qtc3R5bGUtdHlwZTogY2lyY2xlOyBhbGlnbi1pdGVtOiBsZWZ0OyBwYWRkaW5nLWxlZnQ6IDIwcHg7IHBhZGRpbmctcmlnaHQ6MjBweCc+PGxpPlRvdGFsIGNhc2VzOiA2NDY8L2xpPjxsaT5EZWF0aHM6IDM8L2xpPjxsaT5EZWF0aCByYXRlIDogMC40NiUgPC9saT48L3VsPjwvZGl2PgogICAgICAgICAgICAgICAgIDwvZGl2PmAsCiAgICAgICAgICAgICAgICB7InN0aWNreSI6IHRydWV9CiAgICAgICAgICAgICk7CiAgICAgICAgCiAgICAKICAgICAgICAgICAgdmFyIGNpcmNsZV80YmRjZGJiOTliMDI0YTMxYmJjOWFiYTk0Mjg5MThhZiA9IEwuY2lyY2xlKAogICAgICAgICAgICAgICAgWzE3LjksIC02Mi44MzMzXSwKICAgICAgICAgICAgICAgIHsiYnViYmxpbmdNb3VzZUV2ZW50cyI6IHRydWUsICJjb2xvciI6ICJjcmltc29uIiwgImRhc2hBcnJheSI6IG51bGwsICJkYXNoT2Zmc2V0IjogbnVsbCwgImZpbGwiOiB0cnVlLCAiZmlsbENvbG9yIjogImNyaW1zb24iLCAiZmlsbE9wYWNpdHkiOiAwLjIsICJmaWxsUnVsZSI6ICJldmVub2RkIiwgImxpbmVDYXAiOiAicm91bmQiLCAibGluZUpvaW4iOiAicm91bmQiLCAib3BhY2l0eSI6IDEuMCwgInJhZGl1cyI6IDYwMDAwLjAsICJzdHJva2UiOiB0cnVlLCAid2VpZ2h0IjogM30KICAgICAgICAgICAgKS5hZGRUbyhtYXBfNTc1ZmFmMTIxNmNmNGE0YThlZTJhMzI4OTgzMGE5ZjYpOwogICAgICAgIAogICAgCiAgICAgICAgICAgIGNpcmNsZV80YmRjZGJiOTliMDI0YTMxYmJjOWFiYTk0Mjg5MThhZi5iaW5kVG9vbHRpcCgKICAgICAgICAgICAgICAgIGA8ZGl2PgogICAgICAgICAgICAgICAgICAgICA8ZGl2IHN0eWxlPSdtYXJnaW46MDsgYmFja2dyb3VuZC1jb2xvcjogZmlyZWJyaWNrOyBjb2xvcjogd2hpdGU7Jz48aDQgc3R5bGU9J3RleHQtYWxpZ246Y2VudGVyOyBmb250LXdlaWdodDogYm9sZCc+RnJhbmNlPC9oND48aHIgc3R5bGU9J21hcmdpbjoxMHB4OyBjb2xvcjogd2hpdGU7Jz48dWwgc3R5bGU9J2NvbG9yOiB3aGl0ZTs7bGlzdC1zdHlsZS10eXBlOiBjaXJjbGU7IGFsaWduLWl0ZW06IGxlZnQ7IHBhZGRpbmctbGVmdDogMjBweDsgcGFkZGluZy1yaWdodDoyMHB4Jz48bGk+VG90YWwgY2FzZXM6IDY8L2xpPjxsaT5EZWF0aHM6IDA8L2xpPjxsaT5EZWF0aCByYXRlIDogMC4wJSA8L2xpPjwvdWw+PC9kaXY+CiAgICAgICAgICAgICAgICAgPC9kaXY+YCwKICAgICAgICAgICAgICAgIHsic3RpY2t5IjogdHJ1ZX0KICAgICAgICAgICAgKTsKICAgICAgICAKICAgIAogICAgICAgICAgICB2YXIgY2lyY2xlX2UwN2M3YjEyNzZlOTQzYjk4NWJiNmU3MTE2NzM5M2MxID0gTC5jaXJjbGUoCiAgICAgICAgICAgICAgICBbMTguMDcwOCwgLTYzLjA1MDFdLAogICAgICAgICAgICAgICAgeyJidWJibGluZ01vdXNlRXZlbnRzIjogdHJ1ZSwgImNvbG9yIjogImNyaW1zb24iLCAiZGFzaEFycmF5IjogbnVsbCwgImRhc2hPZmZzZXQiOiBudWxsLCAiZmlsbCI6IHRydWUsICJmaWxsQ29sb3IiOiAiY3JpbXNvbiIsICJmaWxsT3BhY2l0eSI6IDAuMiwgImZpbGxSdWxlIjogImV2ZW5vZGQiLCAibGluZUNhcCI6ICJyb3VuZCIsICJsaW5lSm9pbiI6ICJyb3VuZCIsICJvcGFjaXR5IjogMS4wLCAicmFkaXVzIjogMTYwMDAwLjAsICJzdHJva2UiOiB0cnVlLCAid2VpZ2h0IjogM30KICAgICAgICAgICAgKS5hZGRUbyhtYXBfNTc1ZmFmMTIxNmNmNGE0YThlZTJhMzI4OTgzMGE5ZjYpOwogICAgICAgIAogICAgCiAgICAgICAgICAgIGNpcmNsZV9lMDdjN2IxMjc2ZTk0M2I5ODViYjZlNzExNjczOTNjMS5iaW5kVG9vbHRpcCgKICAgICAgICAgICAgICAgIGA8ZGl2PgogICAgICAgICAgICAgICAgICAgICA8ZGl2IHN0eWxlPSdtYXJnaW46MDsgYmFja2dyb3VuZC1jb2xvcjogZmlyZWJyaWNrOyBjb2xvcjogd2hpdGU7Jz48aDQgc3R5bGU9J3RleHQtYWxpZ246Y2VudGVyOyBmb250LXdlaWdodDogYm9sZCc+RnJhbmNlPC9oND48aHIgc3R5bGU9J21hcmdpbjoxMHB4OyBjb2xvcjogd2hpdGU7Jz48dWwgc3R5bGU9J2NvbG9yOiB3aGl0ZTs7bGlzdC1zdHlsZS10eXBlOiBjaXJjbGU7IGFsaWduLWl0ZW06IGxlZnQ7IHBhZGRpbmctbGVmdDogMjBweDsgcGFkZGluZy1yaWdodDoyMHB4Jz48bGk+VG90YWwgY2FzZXM6IDQ2PC9saT48bGk+RGVhdGhzOiAzPC9saT48bGk+RGVhdGggcmF0ZSA6IDYuMzglIDwvbGk+PC91bD48L2Rpdj4KICAgICAgICAgICAgICAgICA8L2Rpdj5gLAogICAgICAgICAgICAgICAgeyJzdGlja3kiOiB0cnVlfQogICAgICAgICAgICApOwogICAgICAgIAogICAgCiAgICAgICAgICAgIHZhciBjaXJjbGVfZGUzNTIwZDdlNjU1NDY5OGFkYjkxNWI3MmI3MTkzYjYgPSBMLmNpcmNsZSgKICAgICAgICAgICAgICAgIFsxNC42NDE1LCAtNjEuMDI0Ml0sCiAgICAgICAgICAgICAgICB7ImJ1YmJsaW5nTW91c2VFdmVudHMiOiB0cnVlLCAiY29sb3IiOiAiY3JpbXNvbiIsICJkYXNoQXJyYXkiOiBudWxsLCAiZGFzaE9mZnNldCI6IG51bGwsICJmaWxsIjogdHJ1ZSwgImZpbGxDb2xvciI6ICJjcmltc29uIiwgImZpbGxPcGFjaXR5IjogMC4yLCAiZmlsbFJ1bGUiOiAiZXZlbm9kZCIsICJsaW5lQ2FwIjogInJvdW5kIiwgImxpbmVKb2luIjogInJvdW5kIiwgIm9wYWNpdHkiOiAxLjAsICJyYWRpdXMiOiAyNjAwMDAuMCwgInN0cm9rZSI6IHRydWUsICJ3ZWlnaHQiOiAzfQogICAgICAgICAgICApLmFkZFRvKG1hcF81NzVmYWYxMjE2Y2Y0YTRhOGVlMmEzMjg5ODMwYTlmNik7CiAgICAgICAgCiAgICAKICAgICAgICAgICAgY2lyY2xlX2RlMzUyMGQ3ZTY1NTQ2OThhZGI5MTViNzJiNzE5M2I2LmJpbmRUb29sdGlwKAogICAgICAgICAgICAgICAgYDxkaXY+CiAgICAgICAgICAgICAgICAgICAgIDxkaXYgc3R5bGU9J21hcmdpbjowOyBiYWNrZ3JvdW5kLWNvbG9yOiBmaXJlYnJpY2s7IGNvbG9yOiB3aGl0ZTsnPjxoNCBzdHlsZT0ndGV4dC1hbGlnbjpjZW50ZXI7IGZvbnQtd2VpZ2h0OiBib2xkJz5GcmFuY2U8L2g0PjxociBzdHlsZT0nbWFyZ2luOjEwcHg7IGNvbG9yOiB3aGl0ZTsnPjx1bCBzdHlsZT0nY29sb3I6IHdoaXRlOztsaXN0LXN0eWxlLXR5cGU6IGNpcmNsZTsgYWxpZ24taXRlbTogbGVmdDsgcGFkZGluZy1sZWZ0OiAyMHB4OyBwYWRkaW5nLXJpZ2h0OjIwcHgnPjxsaT5Ub3RhbCBjYXNlczogMjYyPC9saT48bGk+RGVhdGhzOiAxNTwvbGk+PGxpPkRlYXRoIHJhdGUgOiA1LjclIDwvbGk+PC91bD48L2Rpdj4KICAgICAgICAgICAgICAgICA8L2Rpdj5gLAogICAgICAgICAgICAgICAgeyJzdGlja3kiOiB0cnVlfQogICAgICAgICAgICApOwogICAgICAgIAogICAgCiAgICAgICAgICAgIHZhciBjaXJjbGVfNDRjYTQ3MGE4YWU4NGQ1M2I1NDk1NDdkODJmNzYyMDYgPSBMLmNpcmNsZSgKICAgICAgICAgICAgICAgIFs0Ni4yMjc2LCAyLjIxMzddLAogICAgICAgICAgICAgICAgeyJidWJibGluZ01vdXNlRXZlbnRzIjogdHJ1ZSwgImNvbG9yIjogImNyaW1zb24iLCAiZGFzaEFycmF5IjogbnVsbCwgImRhc2hPZmZzZXQiOiBudWxsLCAiZmlsbCI6IHRydWUsICJmaWxsQ29sb3IiOiAiY3JpbXNvbiIsICJmaWxsT3BhY2l0eSI6IDAuMiwgImZpbGxSdWxlIjogImV2ZW5vZGQiLCAibGluZUNhcCI6ICJyb3VuZCIsICJsaW5lSm9pbiI6ICJyb3VuZCIsICJvcGFjaXR5IjogMS4wLCAicmFkaXVzIjogNjEwMDAwLjAsICJzdHJva2UiOiB0cnVlLCAid2VpZ2h0IjogM30KICAgICAgICAgICAgKS5hZGRUbyhtYXBfNTc1ZmFmMTIxNmNmNGE0YThlZTJhMzI4OTgzMGE5ZjYpOwogICAgICAgIAogICAgCiAgICAgICAgICAgIGNpcmNsZV80NGNhNDcwYThhZTg0ZDUzYjU0OTU0N2Q4MmY3NjIwNi5iaW5kVG9vbHRpcCgKICAgICAgICAgICAgICAgIGA8ZGl2PgogICAgICAgICAgICAgICAgICAgICA8ZGl2IHN0eWxlPSdtYXJnaW46MDsgYmFja2dyb3VuZC1jb2xvcjogZmlyZWJyaWNrOyBjb2xvcjogd2hpdGU7Jz48aDQgc3R5bGU9J3RleHQtYWxpZ246Y2VudGVyOyBmb250LXdlaWdodDogYm9sZCc+RnJhbmNlPC9oND48aHIgc3R5bGU9J21hcmdpbjoxMHB4OyBjb2xvcjogd2hpdGU7Jz48dWwgc3R5bGU9J2NvbG9yOiB3aGl0ZTs7bGlzdC1zdHlsZS10eXBlOiBjaXJjbGU7IGFsaWduLWl0ZW06IGxlZnQ7IHBhZGRpbmctbGVmdDogMjBweDsgcGFkZGluZy1yaWdodDoyMHB4Jz48bGk+VG90YWwgY2FzZXM6IDIwNTQ3NjwvbGk+PGxpPkRlYXRoczogMzAwNzI8L2xpPjxsaT5EZWF0aCByYXRlIDogMTQuNjQlIDwvbGk+PC91bD48L2Rpdj4KICAgICAgICAgICAgICAgICA8L2Rpdj5gLAogICAgICAgICAgICAgICAgeyJzdGlja3kiOiB0cnVlfQogICAgICAgICAgICApOwogICAgICAgIAogICAgCiAgICAgICAgICAgIHZhciBjaXJjbGVfOGMwYmE2OGI4ZTFmNGM4ZWE5M2ZjOTVmYjhkMmIzNTMgPSBMLmNpcmNsZSgKICAgICAgICAgICAgICAgIFstMC44MDM3LCAxMS42MDk0XSwKICAgICAgICAgICAgICAgIHsiYnViYmxpbmdNb3VzZUV2ZW50cyI6IHRydWUsICJjb2xvciI6ICJjcmltc29uIiwgImRhc2hBcnJheSI6IG51bGwsICJkYXNoT2Zmc2V0IjogbnVsbCwgImZpbGwiOiB0cnVlLCAiZmlsbENvbG9yIjogImNyaW1zb24iLCAiZmlsbE9wYWNpdHkiOiAwLjIsICJmaWxsUnVsZSI6ICJldmVub2RkIiwgImxpbmVDYXAiOiAicm91bmQiLCAibGluZUpvaW4iOiAicm91bmQiLCAib3BhY2l0eSI6IDEuMCwgInJhZGl1cyI6IDQwOTk5OS45OTk5OTk5OTk5NCwgInN0cm9rZSI6IHRydWUsICJ3ZWlnaHQiOiAzfQogICAgICAgICAgICApLmFkZFRvKG1hcF81NzVmYWYxMjE2Y2Y0YTRhOGVlMmEzMjg5ODMwYTlmNik7CiAgICAgICAgCiAgICAKICAgICAgICAgICAgY2lyY2xlXzhjMGJhNjhiOGUxZjRjOGVhOTNmYzk1ZmI4ZDJiMzUzLmJpbmRUb29sdGlwKAogICAgICAgICAgICAgICAgYDxkaXY+CiAgICAgICAgICAgICAgICAgICAgIDxkaXYgc3R5bGU9J21hcmdpbjowOyBiYWNrZ3JvdW5kLWNvbG9yOiBmaXJlYnJpY2s7IGNvbG9yOiB3aGl0ZTsnPjxoNCBzdHlsZT0ndGV4dC1hbGlnbjpjZW50ZXI7IGZvbnQtd2VpZ2h0OiBib2xkJz5HYWJvbjwvaDQ+PGhyIHN0eWxlPSdtYXJnaW46MTBweDsgY29sb3I6IHdoaXRlOyc+PHVsIHN0eWxlPSdjb2xvcjogd2hpdGU7O2xpc3Qtc3R5bGUtdHlwZTogY2lyY2xlOyBhbGlnbi1pdGVtOiBsZWZ0OyBwYWRkaW5nLWxlZnQ6IDIwcHg7IHBhZGRpbmctcmlnaHQ6MjBweCc+PGxpPlRvdGFsIGNhc2VzOiA2NTg4PC9saT48bGk+RGVhdGhzOiA0NzwvbGk+PGxpPkRlYXRoIHJhdGUgOiAwLjcxJSA8L2xpPjwvdWw+PC9kaXY+CiAgICAgICAgICAgICAgICAgPC9kaXY+YCwKICAgICAgICAgICAgICAgIHsic3RpY2t5IjogdHJ1ZX0KICAgICAgICAgICAgKTsKICAgICAgICAKICAgIAogICAgICAgICAgICB2YXIgY2lyY2xlX2M4ZTU2MzY0OGQyZjRiMDg5OWRiYjQwMGQyN2UwZTlmID0gTC5jaXJjbGUoCiAgICAgICAgICAgICAgICBbMTMuNDQzMiwgLTE1LjMxMDFdLAogICAgICAgICAgICAgICAgeyJidWJibGluZ01vdXNlRXZlbnRzIjogdHJ1ZSwgImNvbG9yIjogImNyaW1zb24iLCAiZGFzaEFycmF5IjogbnVsbCwgImRhc2hPZmZzZXQiOiBudWxsLCAiZmlsbCI6IHRydWUsICJmaWxsQ29sb3IiOiAiY3JpbXNvbiIsICJmaWxsT3BhY2l0eSI6IDAuMiwgImZpbGxSdWxlIjogImV2ZW5vZGQiLCAibGluZUNhcCI6ICJyb3VuZCIsICJsaW5lSm9pbiI6ICJyb3VuZCIsICJvcGFjaXR5IjogMS4wLCAicmFkaXVzIjogMjYwMDAwLjAsICJzdHJva2UiOiB0cnVlLCAid2VpZ2h0IjogM30KICAgICAgICAgICAgKS5hZGRUbyhtYXBfNTc1ZmFmMTIxNmNmNGE0YThlZTJhMzI4OTgzMGE5ZjYpOwogICAgICAgIAogICAgCiAgICAgICAgICAgIGNpcmNsZV9jOGU1NjM2NDhkMmY0YjA4OTlkYmI0MDBkMjdlMGU5Zi5iaW5kVG9vbHRpcCgKICAgICAgICAgICAgICAgIGA8ZGl2PgogICAgICAgICAgICAgICAgICAgICA8ZGl2IHN0eWxlPSdtYXJnaW46MDsgYmFja2dyb3VuZC1jb2xvcjogZmlyZWJyaWNrOyBjb2xvcjogd2hpdGU7Jz48aDQgc3R5bGU9J3RleHQtYWxpZ246Y2VudGVyOyBmb250LXdlaWdodDogYm9sZCc+R2FtYmlhPC9oND48aHIgc3R5bGU9J21hcmdpbjoxMHB4OyBjb2xvcjogd2hpdGU7Jz48dWwgc3R5bGU9J2NvbG9yOiB3aGl0ZTs7bGlzdC1zdHlsZS10eXBlOiBjaXJjbGU7IGFsaWduLWl0ZW06IGxlZnQ7IHBhZGRpbmctbGVmdDogMjBweDsgcGFkZGluZy1yaWdodDoyMHB4Jz48bGk+VG90YWwgY2FzZXM6IDE3MDwvbGk+PGxpPkRlYXRoczogNTwvbGk+PGxpPkRlYXRoIHJhdGUgOiAyLjkyJSA8L2xpPjwvdWw+PC9kaXY+CiAgICAgICAgICAgICAgICAgPC9kaXY+YCwKICAgICAgICAgICAgICAgIHsic3RpY2t5IjogdHJ1ZX0KICAgICAgICAgICAgKTsKICAgICAgICAKICAgIAogICAgICAgICAgICB2YXIgY2lyY2xlX2RjMDZjOGFjNDgxNTQ0Zjc4ZGEwMDIzZGM1M2ExMDQxID0gTC5jaXJjbGUoCiAgICAgICAgICAgICAgICBbNDIuMzE1NCwgNDMuMzU2OV0sCiAgICAgICAgICAgICAgICB7ImJ1YmJsaW5nTW91c2VFdmVudHMiOiB0cnVlLCAiY29sb3IiOiAiY3JpbXNvbiIsICJkYXNoQXJyYXkiOiBudWxsLCAiZGFzaE9mZnNldCI6IG51bGwsICJmaWxsIjogdHJ1ZSwgImZpbGxDb2xvciI6ICJjcmltc29uIiwgImZpbGxPcGFjaXR5IjogMC4yLCAiZmlsbFJ1bGUiOiAiZXZlbm9kZCIsICJsaW5lQ2FwIjogInJvdW5kIiwgImxpbmVKb2luIjogInJvdW5kIiwgIm9wYWNpdHkiOiAxLjAsICJyYWRpdXMiOiAzMTAwMDAuMCwgInN0cm9rZSI6IHRydWUsICJ3ZWlnaHQiOiAzfQogICAgICAgICAgICApLmFkZFRvKG1hcF81NzVmYWYxMjE2Y2Y0YTRhOGVlMmEzMjg5ODMwYTlmNik7CiAgICAgICAgCiAgICAKICAgICAgICAgICAgY2lyY2xlX2RjMDZjOGFjNDgxNTQ0Zjc4ZGEwMDIzZGM1M2ExMDQxLmJpbmRUb29sdGlwKAogICAgICAgICAgICAgICAgYDxkaXY+CiAgICAgICAgICAgICAgICAgICAgIDxkaXYgc3R5bGU9J21hcmdpbjowOyBiYWNrZ3JvdW5kLWNvbG9yOiBmaXJlYnJpY2s7IGNvbG9yOiB3aGl0ZTsnPjxoNCBzdHlsZT0ndGV4dC1hbGlnbjpjZW50ZXI7IGZvbnQtd2VpZ2h0OiBib2xkJz5HZW9yZ2lhPC9oND48aHIgc3R5bGU9J21hcmdpbjoxMHB4OyBjb2xvcjogd2hpdGU7Jz48dWwgc3R5bGU9J2NvbG9yOiB3aGl0ZTs7bGlzdC1zdHlsZS10eXBlOiBjaXJjbGU7IGFsaWduLWl0ZW06IGxlZnQ7IHBhZGRpbmctbGVmdDogMjBweDsgcGFkZGluZy1yaWdodDoyMHB4Jz48bGk+VG90YWwgY2FzZXM6IDEwODU8L2xpPjxsaT5EZWF0aHM6IDE2PC9saT48bGk+RGVhdGggcmF0ZSA6IDEuNDclIDwvbGk+PC91bD48L2Rpdj4KICAgICAgICAgICAgICAgICA8L2Rpdj5gLAogICAgICAgICAgICAgICAgeyJzdGlja3kiOiB0cnVlfQogICAgICAgICAgICApOwogICAgICAgIAogICAgCiAgICAgICAgICAgIHZhciBjaXJjbGVfYzU0MzIwZGMwODQ0NDI4ZmE3ZjJkYmI3YmNhNWM5YjkgPSBMLmNpcmNsZSgKICAgICAgICAgICAgICAgIFs1MS4xNjU2OTA5OTk5OTk5OTUsIDEwLjQ1MTUyNl0sCiAgICAgICAgICAgICAgICB7ImJ1YmJsaW5nTW91c2VFdmVudHMiOiB0cnVlLCAiY29sb3IiOiAiY3JpbXNvbiIsICJkYXNoQXJyYXkiOiBudWxsLCAiZGFzaE9mZnNldCI6IG51bGwsICJmaWxsIjogdHJ1ZSwgImZpbGxDb2xvciI6ICJjcmltc29uIiwgImZpbGxPcGFjaXR5IjogMC4yLCAiZmlsbFJ1bGUiOiAiZXZlbm9kZCIsICJsaW5lQ2FwIjogInJvdW5kIiwgImxpbmVKb2luIjogInJvdW5kIiwgIm9wYWNpdHkiOiAxLjAsICJyYWRpdXMiOiA2MTAwMDAuMCwgInN0cm9rZSI6IHRydWUsICJ3ZWlnaHQiOiAzfQogICAgICAgICAgICApLmFkZFRvKG1hcF81NzVmYWYxMjE2Y2Y0YTRhOGVlMmEzMjg5ODMwYTlmNik7CiAgICAgICAgCiAgICAKICAgICAgICAgICAgY2lyY2xlX2M1NDMyMGRjMDg0NDQyOGZhN2YyZGJiN2JjYTVjOWI5LmJpbmRUb29sdGlwKAogICAgICAgICAgICAgICAgYDxkaXY+CiAgICAgICAgICAgICAgICAgICAgIDxkaXYgc3R5bGU9J21hcmdpbjowOyBiYWNrZ3JvdW5kLWNvbG9yOiBmaXJlYnJpY2s7IGNvbG9yOiB3aGl0ZTsnPjxoNCBzdHlsZT0ndGV4dC1hbGlnbjpjZW50ZXI7IGZvbnQtd2VpZ2h0OiBib2xkJz5HZXJtYW55PC9oND48aHIgc3R5bGU9J21hcmdpbjoxMHB4OyBjb2xvcjogd2hpdGU7Jz48dWwgc3R5bGU9J2NvbG9yOiB3aGl0ZTs7bGlzdC1zdHlsZS10eXBlOiBjaXJjbGU7IGFsaWduLWl0ZW06IGxlZnQ7IHBhZGRpbmctbGVmdDogMjBweDsgcGFkZGluZy1yaWdodDoyMHB4Jz48bGk+VG90YWwgY2FzZXM6IDIwNDg4MTwvbGk+PGxpPkRlYXRoczogOTExMDwvbGk+PGxpPkRlYXRoIHJhdGUgOiA0LjQ1JSA8L2xpPjwvdWw+PC9kaXY+CiAgICAgICAgICAgICAgICAgPC9kaXY+YCwKICAgICAgICAgICAgICAgIHsic3RpY2t5IjogdHJ1ZX0KICAgICAgICAgICAgKTsKICAgICAgICAKICAgIAogICAgICAgICAgICB2YXIgY2lyY2xlX2Q2ZDk4MmIxZGI5NDQ3ZWQ5ODIzMTkzOTkxY2MwZDhiID0gTC5jaXJjbGUoCiAgICAgICAgICAgICAgICBbNy45NDY1LCAtMS4wMjMyXSwKICAgICAgICAgICAgICAgIHsiYnViYmxpbmdNb3VzZUV2ZW50cyI6IHRydWUsICJjb2xvciI6ICJjcmltc29uIiwgImRhc2hBcnJheSI6IG51bGwsICJkYXNoT2Zmc2V0IjogbnVsbCwgImZpbGwiOiB0cnVlLCAiZmlsbENvbG9yIjogImNyaW1zb24iLCAiZmlsbE9wYWNpdHkiOiAwLjIsICJmaWxsUnVsZSI6ICJldmVub2RkIiwgImxpbmVDYXAiOiAicm91bmQiLCAibGluZUpvaW4iOiAicm91bmQiLCAib3BhY2l0eSI6IDEuMCwgInJhZGl1cyI6IDUwOTk5OS45OTk5OTk5OTk5NCwgInN0cm9rZSI6IHRydWUsICJ3ZWlnaHQiOiAzfQogICAgICAgICAgICApLmFkZFRvKG1hcF81NzVmYWYxMjE2Y2Y0YTRhOGVlMmEzMjg5ODMwYTlmNik7CiAgICAgICAgCiAgICAKICAgICAgICAgICAgY2lyY2xlX2Q2ZDk4MmIxZGI5NDQ3ZWQ5ODIzMTkzOTkxY2MwZDhiLmJpbmRUb29sdGlwKAogICAgICAgICAgICAgICAgYDxkaXY+CiAgICAgICAgICAgICAgICAgICAgIDxkaXYgc3R5bGU9J21hcmdpbjowOyBiYWNrZ3JvdW5kLWNvbG9yOiBmaXJlYnJpY2s7IGNvbG9yOiB3aGl0ZTsnPjxoNCBzdHlsZT0ndGV4dC1hbGlnbjpjZW50ZXI7IGZvbnQtd2VpZ2h0OiBib2xkJz5HaGFuYTwvaDQ+PGhyIHN0eWxlPSdtYXJnaW46MTBweDsgY29sb3I6IHdoaXRlOyc+PHVsIHN0eWxlPSdjb2xvcjogd2hpdGU7O2xpc3Qtc3R5bGUtdHlwZTogY2lyY2xlOyBhbGlnbi1pdGVtOiBsZWZ0OyBwYWRkaW5nLWxlZnQ6IDIwcHg7IHBhZGRpbmctcmlnaHQ6MjBweCc+PGxpPlRvdGFsIGNhc2VzOiAyOTY3MjwvbGk+PGxpPkRlYXRoczogMTUzPC9saT48bGk+RGVhdGggcmF0ZSA6IDAuNTIlIDwvbGk+PC91bD48L2Rpdj4KICAgICAgICAgICAgICAgICA8L2Rpdj5gLAogICAgICAgICAgICAgICAgeyJzdGlja3kiOiB0cnVlfQogICAgICAgICAgICApOwogICAgICAgIAogICAgCiAgICAgICAgICAgIHZhciBjaXJjbGVfZDM3M2M1OTEyNjFlNGQ1NWEyMTFmOTFiYTViOTRlY2QgPSBMLmNpcmNsZSgKICAgICAgICAgICAgICAgIFszOS4wNzQyLCAyMS44MjQzXSwKICAgICAgICAgICAgICAgIHsiYnViYmxpbmdNb3VzZUV2ZW50cyI6IHRydWUsICJjb2xvciI6ICJjcmltc29uIiwgImRhc2hBcnJheSI6IG51bGwsICJkYXNoT2Zmc2V0IjogbnVsbCwgImZpbGwiOiB0cnVlLCAiZmlsbENvbG9yIjogImNyaW1zb24iLCAiZmlsbE9wYWNpdHkiOiAwLjIsICJmaWxsUnVsZSI6ICJldmVub2RkIiwgImxpbmVDYXAiOiAicm91bmQiLCAibGluZUpvaW4iOiAicm91bmQiLCAib3BhY2l0eSI6IDEuMCwgInJhZGl1cyI6IDQwOTk5OS45OTk5OTk5OTk5NCwgInN0cm9rZSI6IHRydWUsICJ3ZWlnaHQiOiAzfQogICAgICAgICAgICApLmFkZFRvKG1hcF81NzVmYWYxMjE2Y2Y0YTRhOGVlMmEzMjg5ODMwYTlmNik7CiAgICAgICAgCiAgICAKICAgICAgICAgICAgY2lyY2xlX2QzNzNjNTkxMjYxZTRkNTVhMjExZjkxYmE1Yjk0ZWNkLmJpbmRUb29sdGlwKAogICAgICAgICAgICAgICAgYDxkaXY+CiAgICAgICAgICAgICAgICAgICAgIDxkaXYgc3R5bGU9J21hcmdpbjowOyBiYWNrZ3JvdW5kLWNvbG9yOiBmaXJlYnJpY2s7IGNvbG9yOiB3aGl0ZTsnPjxoNCBzdHlsZT0ndGV4dC1hbGlnbjpjZW50ZXI7IGZvbnQtd2VpZ2h0OiBib2xkJz5HcmVlY2U8L2g0PjxociBzdHlsZT0nbWFyZ2luOjEwcHg7IGNvbG9yOiB3aGl0ZTsnPjx1bCBzdHlsZT0nY29sb3I6IHdoaXRlOztsaXN0LXN0eWxlLXR5cGU6IGNpcmNsZTsgYWxpZ24taXRlbTogbGVmdDsgcGFkZGluZy1sZWZ0OiAyMHB4OyBwYWRkaW5nLXJpZ2h0OjIwcHgnPjxsaT5Ub3RhbCBjYXNlczogNDExMDwvbGk+PGxpPkRlYXRoczogMjAxPC9saT48bGk+RGVhdGggcmF0ZSA6IDQuODklIDwvbGk+PC91bD48L2Rpdj4KICAgICAgICAgICAgICAgICA8L2Rpdj5gLAogICAgICAgICAgICAgICAgeyJzdGlja3kiOiB0cnVlfQogICAgICAgICAgICApOwogICAgICAgIAogICAgCiAgICAgICAgICAgIHZhciBjaXJjbGVfNWVlZGI0N2QwMzYyNGFkY2I2ZWE0ZmFjMWY4OTU4OWUgPSBMLmNpcmNsZSgKICAgICAgICAgICAgICAgIFsxNS43ODM1LCAtOTAuMjMwOF0sCiAgICAgICAgICAgICAgICB7ImJ1YmJsaW5nTW91c2VFdmVudHMiOiB0cnVlLCAiY29sb3IiOiAiY3JpbXNvbiIsICJkYXNoQXJyYXkiOiBudWxsLCAiZGFzaE9mZnNldCI6IG51bGwsICJmaWxsIjogdHJ1ZSwgImZpbGxDb2xvciI6ICJjcmltc29uIiwgImZpbGxPcGFjaXR5IjogMC4yLCAiZmlsbFJ1bGUiOiAiZXZlbm9kZCIsICJsaW5lQ2FwIjogInJvdW5kIiwgImxpbmVKb2luIjogInJvdW5kIiwgIm9wYWNpdHkiOiAxLjAsICJyYWRpdXMiOiA1MDk5OTkuOTk5OTk5OTk5OTQsICJzdHJva2UiOiB0cnVlLCAid2VpZ2h0IjogM30KICAgICAgICAgICAgKS5hZGRUbyhtYXBfNTc1ZmFmMTIxNmNmNGE0YThlZTJhMzI4OTgzMGE5ZjYpOwogICAgICAgIAogICAgCiAgICAgICAgICAgIGNpcmNsZV81ZWVkYjQ3ZDAzNjI0YWRjYjZlYTRmYWMxZjg5NTg5ZS5iaW5kVG9vbHRpcCgKICAgICAgICAgICAgICAgIGA8ZGl2PgogICAgICAgICAgICAgICAgICAgICA8ZGl2IHN0eWxlPSdtYXJnaW46MDsgYmFja2dyb3VuZC1jb2xvcjogZmlyZWJyaWNrOyBjb2xvcjogd2hpdGU7Jz48aDQgc3R5bGU9J3RleHQtYWxpZ246Y2VudGVyOyBmb250LXdlaWdodDogYm9sZCc+R3VhdGVtYWxhPC9oND48aHIgc3R5bGU9J21hcmdpbjoxMHB4OyBjb2xvcjogd2hpdGU7Jz48dWwgc3R5bGU9J2NvbG9yOiB3aGl0ZTs7bGlzdC1zdHlsZS10eXBlOiBjaXJjbGU7IGFsaWduLWl0ZW06IGxlZnQ7IHBhZGRpbmctbGVmdDogMjBweDsgcGFkZGluZy1yaWdodDoyMHB4Jz48bGk+VG90YWwgY2FzZXM6IDQyMTkyPC9saT48bGk+RGVhdGhzOiAxNjMyPC9saT48bGk+RGVhdGggcmF0ZSA6IDMuODclIDwvbGk+PC91bD48L2Rpdj4KICAgICAgICAgICAgICAgICA8L2Rpdj5gLAogICAgICAgICAgICAgICAgeyJzdGlja3kiOiB0cnVlfQogICAgICAgICAgICApOwogICAgICAgIAogICAgCiAgICAgICAgICAgIHZhciBjaXJjbGVfMjA0N2I5YTQzYWNhNDljMThhMzI4NjRhODg5Zjg3OTEgPSBMLmNpcmNsZSgKICAgICAgICAgICAgICAgIFs5Ljk0NTYsIC05LjY5NjZdLAogICAgICAgICAgICAgICAgeyJidWJibGluZ01vdXNlRXZlbnRzIjogdHJ1ZSwgImNvbG9yIjogImNyaW1zb24iLCAiZGFzaEFycmF5IjogbnVsbCwgImRhc2hPZmZzZXQiOiBudWxsLCAiZmlsbCI6IHRydWUsICJmaWxsQ29sb3IiOiAiY3JpbXNvbiIsICJmaWxsT3BhY2l0eSI6IDAuMiwgImZpbGxSdWxlIjogImV2ZW5vZGQiLCAibGluZUNhcCI6ICJyb3VuZCIsICJsaW5lSm9pbiI6ICJyb3VuZCIsICJvcGFjaXR5IjogMS4wLCAicmFkaXVzIjogNDA5OTk5Ljk5OTk5OTk5OTk0LCAic3Ryb2tlIjogdHJ1ZSwgIndlaWdodCI6IDN9CiAgICAgICAgICAgICkuYWRkVG8obWFwXzU3NWZhZjEyMTZjZjRhNGE4ZWUyYTMyODk4MzBhOWY2KTsKICAgICAgICAKICAgIAogICAgICAgICAgICBjaXJjbGVfMjA0N2I5YTQzYWNhNDljMThhMzI4NjRhODg5Zjg3OTEuYmluZFRvb2x0aXAoCiAgICAgICAgICAgICAgICBgPGRpdj4KICAgICAgICAgICAgICAgICAgICAgPGRpdiBzdHlsZT0nbWFyZ2luOjA7IGJhY2tncm91bmQtY29sb3I6IGZpcmVicmljazsgY29sb3I6IHdoaXRlOyc+PGg0IHN0eWxlPSd0ZXh0LWFsaWduOmNlbnRlcjsgZm9udC13ZWlnaHQ6IGJvbGQnPkd1aW5lYTwvaDQ+PGhyIHN0eWxlPSdtYXJnaW46MTBweDsgY29sb3I6IHdoaXRlOyc+PHVsIHN0eWxlPSdjb2xvcjogd2hpdGU7O2xpc3Qtc3R5bGUtdHlwZTogY2lyY2xlOyBhbGlnbi1pdGVtOiBsZWZ0OyBwYWRkaW5nLWxlZnQ6IDIwcHg7IHBhZGRpbmctcmlnaHQ6MjBweCc+PGxpPlRvdGFsIGNhc2VzOiA2ODA2PC9saT48bGk+RGVhdGhzOiA0MjwvbGk+PGxpPkRlYXRoIHJhdGUgOiAwLjYyJSA8L2xpPjwvdWw+PC9kaXY+CiAgICAgICAgICAgICAgICAgPC9kaXY+YCwKICAgICAgICAgICAgICAgIHsic3RpY2t5IjogdHJ1ZX0KICAgICAgICAgICAgKTsKICAgICAgICAKICAgIAogICAgICAgICAgICB2YXIgY2lyY2xlX2Y2MzZiOGFjMDBiNjQyYTBiYTBhMTM4Zjg1YzYzYjFlID0gTC5jaXJjbGUoCiAgICAgICAgICAgICAgICBbNC44NjA0MTYwMDAwMDAwMDIsIC01OC45MzAxODAwMDAwMDAwMV0sCiAgICAgICAgICAgICAgICB7ImJ1YmJsaW5nTW91c2VFdmVudHMiOiB0cnVlLCAiY29sb3IiOiAiY3JpbXNvbiIsICJkYXNoQXJyYXkiOiBudWxsLCAiZGFzaE9mZnNldCI6IG51bGwsICJmaWxsIjogdHJ1ZSwgImZpbGxDb2xvciI6ICJjcmltc29uIiwgImZpbGxPcGFjaXR5IjogMC4yLCAiZmlsbFJ1bGUiOiAiZXZlbm9kZCIsICJsaW5lQ2FwIjogInJvdW5kIiwgImxpbmVKb2luIjogInJvdW5kIiwgIm9wYWNpdHkiOiAxLjAsICJyYWRpdXMiOiAyNjAwMDAuMCwgInN0cm9rZSI6IHRydWUsICJ3ZWlnaHQiOiAzfQogICAgICAgICAgICApLmFkZFRvKG1hcF81NzVmYWYxMjE2Y2Y0YTRhOGVlMmEzMjg5ODMwYTlmNik7CiAgICAgICAgCiAgICAKICAgICAgICAgICAgY2lyY2xlX2Y2MzZiOGFjMDBiNjQyYTBiYTBhMTM4Zjg1YzYzYjFlLmJpbmRUb29sdGlwKAogICAgICAgICAgICAgICAgYDxkaXY+CiAgICAgICAgICAgICAgICAgICAgIDxkaXYgc3R5bGU9J21hcmdpbjowOyBiYWNrZ3JvdW5kLWNvbG9yOiBmaXJlYnJpY2s7IGNvbG9yOiB3aGl0ZTsnPjxoNCBzdHlsZT0ndGV4dC1hbGlnbjpjZW50ZXI7IGZvbnQtd2VpZ2h0OiBib2xkJz5HdXlhbmE8L2g0PjxociBzdHlsZT0nbWFyZ2luOjEwcHg7IGNvbG9yOiB3aGl0ZTsnPjx1bCBzdHlsZT0nY29sb3I6IHdoaXRlOztsaXN0LXN0eWxlLXR5cGU6IGNpcmNsZTsgYWxpZ24taXRlbTogbGVmdDsgcGFkZGluZy1sZWZ0OiAyMHB4OyBwYWRkaW5nLXJpZ2h0OjIwcHgnPjxsaT5Ub3RhbCBjYXNlczogMzUxPC9saT48bGk+RGVhdGhzOiAxOTwvbGk+PGxpPkRlYXRoIHJhdGUgOiA1LjQlIDwvbGk+PC91bD48L2Rpdj4KICAgICAgICAgICAgICAgICA8L2Rpdj5gLAogICAgICAgICAgICAgICAgeyJzdGlja3kiOiB0cnVlfQogICAgICAgICAgICApOwogICAgICAgIAogICAgCiAgICAgICAgICAgIHZhciBjaXJjbGVfZGRmYmQ0YjllODA5NGE1MDllZThiZTJhMTc5NmFiODUgPSBMLmNpcmNsZSgKICAgICAgICAgICAgICAgIFsxOC45NzEyLCAtNzIuMjg1Ml0sCiAgICAgICAgICAgICAgICB7ImJ1YmJsaW5nTW91c2VFdmVudHMiOiB0cnVlLCAiY29sb3IiOiAiY3JpbXNvbiIsICJkYXNoQXJyYXkiOiBudWxsLCAiZGFzaE9mZnNldCI6IG51bGwsICJmaWxsIjogdHJ1ZSwgImZpbGxDb2xvciI6ICJjcmltc29uIiwgImZpbGxPcGFjaXR5IjogMC4yLCAiZmlsbFJ1bGUiOiAiZXZlbm9kZCIsICJsaW5lQ2FwIjogInJvdW5kIiwgImxpbmVKb2luIjogInJvdW5kIiwgIm9wYWNpdHkiOiAxLjAsICJyYWRpdXMiOiA0MDk5OTkuOTk5OTk5OTk5OTQsICJzdHJva2UiOiB0cnVlLCAid2VpZ2h0IjogM30KICAgICAgICAgICAgKS5hZGRUbyhtYXBfNTc1ZmFmMTIxNmNmNGE0YThlZTJhMzI4OTgzMGE5ZjYpOwogICAgICAgIAogICAgCiAgICAgICAgICAgIGNpcmNsZV9kZGZiZDRiOWU4MDk0YTUwOWVlOGJlMmExNzk2YWI4NS5iaW5kVG9vbHRpcCgKICAgICAgICAgICAgICAgIGA8ZGl2PgogICAgICAgICAgICAgICAgICAgICA8ZGl2IHN0eWxlPSdtYXJnaW46MDsgYmFja2dyb3VuZC1jb2xvcjogZmlyZWJyaWNrOyBjb2xvcjogd2hpdGU7Jz48aDQgc3R5bGU9J3RleHQtYWxpZ246Y2VudGVyOyBmb250LXdlaWdodDogYm9sZCc+SGFpdGk8L2g0PjxociBzdHlsZT0nbWFyZ2luOjEwcHg7IGNvbG9yOiB3aGl0ZTsnPjx1bCBzdHlsZT0nY29sb3I6IHdoaXRlOztsaXN0LXN0eWxlLXR5cGU6IGNpcmNsZTsgYWxpZ24taXRlbTogbGVmdDsgcGFkZGluZy1sZWZ0OiAyMHB4OyBwYWRkaW5nLXJpZ2h0OjIwcHgnPjxsaT5Ub3RhbCBjYXNlczogNzE5NzwvbGk+PGxpPkRlYXRoczogMTU0PC9saT48bGk+RGVhdGggcmF0ZSA6IDIuMTQlIDwvbGk+PC91bD48L2Rpdj4KICAgICAgICAgICAgICAgICA8L2Rpdj5gLAogICAgICAgICAgICAgICAgeyJzdGlja3kiOiB0cnVlfQogICAgICAgICAgICApOwogICAgICAgIAogICAgCiAgICAgICAgICAgIHZhciBjaXJjbGVfYjU4YjAyMjJkYTRjNDIwYmJiZGM4Yzc4MGU5YzAwOTUgPSBMLmNpcmNsZSgKICAgICAgICAgICAgICAgIFs0MS45MDI5LCAxMi40NTM0XSwKICAgICAgICAgICAgICAgIHsiYnViYmxpbmdNb3VzZUV2ZW50cyI6IHRydWUsICJjb2xvciI6ICJjcmltc29uIiwgImRhc2hBcnJheSI6IG51bGwsICJkYXNoT2Zmc2V0IjogbnVsbCwgImZpbGwiOiB0cnVlLCAiZmlsbENvbG9yIjogImNyaW1zb24iLCAiZmlsbE9wYWNpdHkiOiAwLjIsICJmaWxsUnVsZSI6ICJldmVub2RkIiwgImxpbmVDYXAiOiAicm91bmQiLCAibGluZUpvaW4iOiAicm91bmQiLCAib3BhY2l0eSI6IDEuMCwgInJhZGl1cyI6IDExMDAwMC4wMDAwMDAwMDAwMSwgInN0cm9rZSI6IHRydWUsICJ3ZWlnaHQiOiAzfQogICAgICAgICAgICApLmFkZFRvKG1hcF81NzVmYWYxMjE2Y2Y0YTRhOGVlMmEzMjg5ODMwYTlmNik7CiAgICAgICAgCiAgICAKICAgICAgICAgICAgY2lyY2xlX2I1OGIwMjIyZGE0YzQyMGJiYmRjOGM3ODBlOWMwMDk1LmJpbmRUb29sdGlwKAogICAgICAgICAgICAgICAgYDxkaXY+CiAgICAgICAgICAgICAgICAgICAgIDxkaXYgc3R5bGU9J21hcmdpbjowOyBiYWNrZ3JvdW5kLWNvbG9yOiBmaXJlYnJpY2s7IGNvbG9yOiB3aGl0ZTsnPjxoNCBzdHlsZT0ndGV4dC1hbGlnbjpjZW50ZXI7IGZvbnQtd2VpZ2h0OiBib2xkJz5Ib2x5IFNlZTwvaDQ+PGhyIHN0eWxlPSdtYXJnaW46MTBweDsgY29sb3I6IHdoaXRlOyc+PHVsIHN0eWxlPSdjb2xvcjogd2hpdGU7O2xpc3Qtc3R5bGUtdHlwZTogY2lyY2xlOyBhbGlnbi1pdGVtOiBsZWZ0OyBwYWRkaW5nLWxlZnQ6IDIwcHg7IHBhZGRpbmctcmlnaHQ6MjBweCc+PGxpPlRvdGFsIGNhc2VzOiAxMjwvbGk+PGxpPkRlYXRoczogMDwvbGk+PGxpPkRlYXRoIHJhdGUgOiAwLjAlIDwvbGk+PC91bD48L2Rpdj4KICAgICAgICAgICAgICAgICA8L2Rpdj5gLAogICAgICAgICAgICAgICAgeyJzdGlja3kiOiB0cnVlfQogICAgICAgICAgICApOwogICAgICAgIAogICAgCiAgICAgICAgICAgIHZhciBjaXJjbGVfNDk3ZGM5MjA5MTllNGQ1MDk5N2Y3MTUwOTU2NWVlYTkgPSBMLmNpcmNsZSgKICAgICAgICAgICAgICAgIFsxNS4yLCAtODYuMjQxOV0sCiAgICAgICAgICAgICAgICB7ImJ1YmJsaW5nTW91c2VFdmVudHMiOiB0cnVlLCAiY29sb3IiOiAiY3JpbXNvbiIsICJkYXNoQXJyYXkiOiBudWxsLCAiZGFzaE9mZnNldCI6IG51bGwsICJmaWxsIjogdHJ1ZSwgImZpbGxDb2xvciI6ICJjcmltc29uIiwgImZpbGxPcGFjaXR5IjogMC4yLCAiZmlsbFJ1bGUiOiAiZXZlbm9kZCIsICJsaW5lQ2FwIjogInJvdW5kIiwgImxpbmVKb2luIjogInJvdW5kIiwgIm9wYWNpdHkiOiAxLjAsICJyYWRpdXMiOiA1MDk5OTkuOTk5OTk5OTk5OTQsICJzdHJva2UiOiB0cnVlLCAid2VpZ2h0IjogM30KICAgICAgICAgICAgKS5hZGRUbyhtYXBfNTc1ZmFmMTIxNmNmNGE0YThlZTJhMzI4OTgzMGE5ZjYpOwogICAgICAgIAogICAgCiAgICAgICAgICAgIGNpcmNsZV80OTdkYzkyMDkxOWU0ZDUwOTk3ZjcxNTA5NTY1ZWVhOS5iaW5kVG9vbHRpcCgKICAgICAgICAgICAgICAgIGA8ZGl2PgogICAgICAgICAgICAgICAgICAgICA8ZGl2IHN0eWxlPSdtYXJnaW46MDsgYmFja2dyb3VuZC1jb2xvcjogZmlyZWJyaWNrOyBjb2xvcjogd2hpdGU7Jz48aDQgc3R5bGU9J3RleHQtYWxpZ246Y2VudGVyOyBmb250LXdlaWdodDogYm9sZCc+SG9uZHVyYXM8L2g0PjxociBzdHlsZT0nbWFyZ2luOjEwcHg7IGNvbG9yOiB3aGl0ZTsnPjx1bCBzdHlsZT0nY29sb3I6IHdoaXRlOztsaXN0LXN0eWxlLXR5cGU6IGNpcmNsZTsgYWxpZ24taXRlbTogbGVmdDsgcGFkZGluZy1sZWZ0OiAyMHB4OyBwYWRkaW5nLXJpZ2h0OjIwcHgnPjxsaT5Ub3RhbCBjYXNlczogMzY5MDI8L2xpPjxsaT5EZWF0aHM6IDEwMTE8L2xpPjxsaT5EZWF0aCByYXRlIDogMi43NCUgPC9saT48L3VsPjwvZGl2PgogICAgICAgICAgICAgICAgIDwvZGl2PmAsCiAgICAgICAgICAgICAgICB7InN0aWNreSI6IHRydWV9CiAgICAgICAgICAgICk7CiAgICAgICAgCiAgICAKICAgICAgICAgICAgdmFyIGNpcmNsZV9hNGM3YTE0YzhmNmQ0ZTg4OGYzODU3ZWJiOWVjYjU2YSA9IEwuY2lyY2xlKAogICAgICAgICAgICAgICAgWzQ3LjE2MjUsIDE5LjUwMzNdLAogICAgICAgICAgICAgICAgeyJidWJibGluZ01vdXNlRXZlbnRzIjogdHJ1ZSwgImNvbG9yIjogImNyaW1zb24iLCAiZGFzaEFycmF5IjogbnVsbCwgImRhc2hPZmZzZXQiOiBudWxsLCAiZmlsbCI6IHRydWUsICJmaWxsQ29sb3IiOiAiY3JpbXNvbiIsICJmaWxsT3BhY2l0eSI6IDAuMiwgImZpbGxSdWxlIjogImV2ZW5vZGQiLCAibGluZUNhcCI6ICJyb3VuZCIsICJsaW5lSm9pbiI6ICJyb3VuZCIsICJvcGFjaXR5IjogMS4wLCAicmFkaXVzIjogNDA5OTk5Ljk5OTk5OTk5OTk0LCAic3Ryb2tlIjogdHJ1ZSwgIndlaWdodCI6IDN9CiAgICAgICAgICAgICkuYWRkVG8obWFwXzU3NWZhZjEyMTZjZjRhNGE4ZWUyYTMyODk4MzBhOWY2KTsKICAgICAgICAKICAgIAogICAgICAgICAgICBjaXJjbGVfYTRjN2ExNGM4ZjZkNGU4ODhmMzg1N2ViYjllY2I1NmEuYmluZFRvb2x0aXAoCiAgICAgICAgICAgICAgICBgPGRpdj4KICAgICAgICAgICAgICAgICAgICAgPGRpdiBzdHlsZT0nbWFyZ2luOjA7IGJhY2tncm91bmQtY29sb3I6IGZpcmVicmljazsgY29sb3I6IHdoaXRlOyc+PGg0IHN0eWxlPSd0ZXh0LWFsaWduOmNlbnRlcjsgZm9udC13ZWlnaHQ6IGJvbGQnPkh1bmdhcnk8L2g0PjxociBzdHlsZT0nbWFyZ2luOjEwcHg7IGNvbG9yOiB3aGl0ZTsnPjx1bCBzdHlsZT0nY29sb3I6IHdoaXRlOztsaXN0LXN0eWxlLXR5cGU6IGNpcmNsZTsgYWxpZ24taXRlbTogbGVmdDsgcGFkZGluZy1sZWZ0OiAyMHB4OyBwYWRkaW5nLXJpZ2h0OjIwcHgnPjxsaT5Ub3RhbCBjYXNlczogNDM4MDwvbGk+PGxpPkRlYXRoczogNTk2PC9saT48bGk+RGVhdGggcmF0ZSA6IDEzLjYlIDwvbGk+PC91bD48L2Rpdj4KICAgICAgICAgICAgICAgICA8L2Rpdj5gLAogICAgICAgICAgICAgICAgeyJzdGlja3kiOiB0cnVlfQogICAgICAgICAgICApOwogICAgICAgIAogICAgCiAgICAgICAgICAgIHZhciBjaXJjbGVfMTczZjY0ZGRlNDU5NGRhMWEwYjg5MDA4M2UyYzMyYzYgPSBMLmNpcmNsZSgKICAgICAgICAgICAgICAgIFs2NC45NjMxLCAtMTkuMDIwOF0sCiAgICAgICAgICAgICAgICB7ImJ1YmJsaW5nTW91c2VFdmVudHMiOiB0cnVlLCAiY29sb3IiOiAiY3JpbXNvbiIsICJkYXNoQXJyYXkiOiBudWxsLCAiZGFzaE9mZnNldCI6IG51bGwsICJmaWxsIjogdHJ1ZSwgImZpbGxDb2xvciI6ICJjcmltc29uIiwgImZpbGxPcGFjaXR5IjogMC4yLCAiZmlsbFJ1bGUiOiAiZXZlbm9kZCIsICJsaW5lQ2FwIjogInJvdW5kIiwgImxpbmVKb2luIjogInJvdW5kIiwgIm9wYWNpdHkiOiAxLjAsICJyYWRpdXMiOiAzNjAwMDAuMCwgInN0cm9rZSI6IHRydWUsICJ3ZWlnaHQiOiAzfQogICAgICAgICAgICApLmFkZFRvKG1hcF81NzVmYWYxMjE2Y2Y0YTRhOGVlMmEzMjg5ODMwYTlmNik7CiAgICAgICAgCiAgICAKICAgICAgICAgICAgY2lyY2xlXzE3M2Y2NGRkZTQ1OTRkYTFhMGI4OTAwODNlMmMzMmM2LmJpbmRUb29sdGlwKAogICAgICAgICAgICAgICAgYDxkaXY+CiAgICAgICAgICAgICAgICAgICAgIDxkaXYgc3R5bGU9J21hcmdpbjowOyBiYWNrZ3JvdW5kLWNvbG9yOiBmaXJlYnJpY2s7IGNvbG9yOiB3aGl0ZTsnPjxoNCBzdHlsZT0ndGV4dC1hbGlnbjpjZW50ZXI7IGZvbnQtd2VpZ2h0OiBib2xkJz5JY2VsYW5kPC9oND48aHIgc3R5bGU9J21hcmdpbjoxMHB4OyBjb2xvcjogd2hpdGU7Jz48dWwgc3R5bGU9J2NvbG9yOiB3aGl0ZTs7bGlzdC1zdHlsZS10eXBlOiBjaXJjbGU7IGFsaWduLWl0ZW06IGxlZnQ7IHBhZGRpbmctbGVmdDogMjBweDsgcGFkZGluZy1yaWdodDoyMHB4Jz48bGk+VG90YWwgY2FzZXM6IDE4NDE8L2xpPjxsaT5EZWF0aHM6IDEwPC9saT48bGk+RGVhdGggcmF0ZSA6IDAuNTQlIDwvbGk+PC91bD48L2Rpdj4KICAgICAgICAgICAgICAgICA8L2Rpdj5gLAogICAgICAgICAgICAgICAgeyJzdGlja3kiOiB0cnVlfQogICAgICAgICAgICApOwogICAgICAgIAogICAgCiAgICAgICAgICAgIHZhciBjaXJjbGVfN2VkZGE0ZjdjM2U5NDk2NTg0YzE1Y2MxZTk3NGZjY2EgPSBMLmNpcmNsZSgKICAgICAgICAgICAgICAgIFsyMC41OTM2ODQsIDc4Ljk2Mjg4XSwKICAgICAgICAgICAgICAgIHsiYnViYmxpbmdNb3VzZUV2ZW50cyI6IHRydWUsICJjb2xvciI6ICJjcmltc29uIiwgImRhc2hBcnJheSI6IG51bGwsICJkYXNoT2Zmc2V0IjogbnVsbCwgImZpbGwiOiB0cnVlLCAiZmlsbENvbG9yIjogImNyaW1zb24iLCAiZmlsbE9wYWNpdHkiOiAwLjIsICJmaWxsUnVsZSI6ICJldmVub2RkIiwgImxpbmVDYXAiOiAicm91bmQiLCAibGluZUpvaW4iOiAicm91bmQiLCAib3BhY2l0eSI6IDEuMCwgInJhZGl1cyI6IDcxMDAwMC4wLCAic3Ryb2tlIjogdHJ1ZSwgIndlaWdodCI6IDN9CiAgICAgICAgICAgICkuYWRkVG8obWFwXzU3NWZhZjEyMTZjZjRhNGE4ZWUyYTMyODk4MzBhOWY2KTsKICAgICAgICAKICAgIAogICAgICAgICAgICBjaXJjbGVfN2VkZGE0ZjdjM2U5NDk2NTg0YzE1Y2MxZTk3NGZjY2EuYmluZFRvb2x0aXAoCiAgICAgICAgICAgICAgICBgPGRpdj4KICAgICAgICAgICAgICAgICAgICAgPGRpdiBzdHlsZT0nbWFyZ2luOjA7IGJhY2tncm91bmQtY29sb3I6IGZpcmVicmljazsgY29sb3I6IHdoaXRlOyc+PGg0IHN0eWxlPSd0ZXh0LWFsaWduOmNlbnRlcjsgZm9udC13ZWlnaHQ6IGJvbGQnPkluZGlhPC9oND48aHIgc3R5bGU9J21hcmdpbjoxMHB4OyBjb2xvcjogd2hpdGU7Jz48dWwgc3R5bGU9J2NvbG9yOiB3aGl0ZTs7bGlzdC1zdHlsZS10eXBlOiBjaXJjbGU7IGFsaWduLWl0ZW06IGxlZnQ7IHBhZGRpbmctbGVmdDogMjBweDsgcGFkZGluZy1yaWdodDoyMHB4Jz48bGk+VG90YWwgY2FzZXM6IDEyODgxMDg8L2xpPjxsaT5EZWF0aHM6IDMwNjAxPC9saT48bGk+RGVhdGggcmF0ZSA6IDIuMzglIDwvbGk+PC91bD48L2Rpdj4KICAgICAgICAgICAgICAgICA8L2Rpdj5gLAogICAgICAgICAgICAgICAgeyJzdGlja3kiOiB0cnVlfQogICAgICAgICAgICApOwogICAgICAgIAogICAgCiAgICAgICAgICAgIHZhciBjaXJjbGVfNjU1MjY2NTRmMDAxNDJkMzlmZjEzMTg2NmNhMDVmN2EgPSBMLmNpcmNsZSgKICAgICAgICAgICAgICAgIFstMC43ODkzLCAxMTMuOTIxM10sCiAgICAgICAgICAgICAgICB7ImJ1YmJsaW5nTW91c2VFdmVudHMiOiB0cnVlLCAiY29sb3IiOiAiY3JpbXNvbiIsICJkYXNoQXJyYXkiOiBudWxsLCAiZGFzaE9mZnNldCI6IG51bGwsICJmaWxsIjogdHJ1ZSwgImZpbGxDb2xvciI6ICJjcmltc29uIiwgImZpbGxPcGFjaXR5IjogMC4yLCAiZmlsbFJ1bGUiOiAiZXZlbm9kZCIsICJsaW5lQ2FwIjogInJvdW5kIiwgImxpbmVKb2luIjogInJvdW5kIiwgIm9wYWNpdHkiOiAxLjAsICJyYWRpdXMiOiA1NjAwMDAuMCwgInN0cm9rZSI6IHRydWUsICJ3ZWlnaHQiOiAzfQogICAgICAgICAgICApLmFkZFRvKG1hcF81NzVmYWYxMjE2Y2Y0YTRhOGVlMmEzMjg5ODMwYTlmNik7CiAgICAgICAgCiAgICAKICAgICAgICAgICAgY2lyY2xlXzY1NTI2NjU0ZjAwMTQyZDM5ZmYxMzE4NjZjYTA1ZjdhLmJpbmRUb29sdGlwKAogICAgICAgICAgICAgICAgYDxkaXY+CiAgICAgICAgICAgICAgICAgICAgIDxkaXYgc3R5bGU9J21hcmdpbjowOyBiYWNrZ3JvdW5kLWNvbG9yOiBmaXJlYnJpY2s7IGNvbG9yOiB3aGl0ZTsnPjxoNCBzdHlsZT0ndGV4dC1hbGlnbjpjZW50ZXI7IGZvbnQtd2VpZ2h0OiBib2xkJz5JbmRvbmVzaWE8L2g0PjxociBzdHlsZT0nbWFyZ2luOjEwcHg7IGNvbG9yOiB3aGl0ZTsnPjx1bCBzdHlsZT0nY29sb3I6IHdoaXRlOztsaXN0LXN0eWxlLXR5cGU6IGNpcmNsZTsgYWxpZ24taXRlbTogbGVmdDsgcGFkZGluZy1sZWZ0OiAyMHB4OyBwYWRkaW5nLXJpZ2h0OjIwcHgnPjxsaT5Ub3RhbCBjYXNlczogOTM2NTc8L2xpPjxsaT5EZWF0aHM6IDQ1NzY8L2xpPjxsaT5EZWF0aCByYXRlIDogNC44OSUgPC9saT48L3VsPjwvZGl2PgogICAgICAgICAgICAgICAgIDwvZGl2PmAsCiAgICAgICAgICAgICAgICB7InN0aWNreSI6IHRydWV9CiAgICAgICAgICAgICk7CiAgICAgICAgCiAgICAKICAgICAgICAgICAgdmFyIGNpcmNsZV84YjNiYmJhODQ5NGQ0OTNlODVjMDdkNjljYzUxY2JkYSA9IEwuY2lyY2xlKAogICAgICAgICAgICAgICAgWzMyLjQyNzkwOCwgNTMuNjg4MDQ1OTk5OTk5OTldLAogICAgICAgICAgICAgICAgeyJidWJibGluZ01vdXNlRXZlbnRzIjogdHJ1ZSwgImNvbG9yIjogImNyaW1zb24iLCAiZGFzaEFycmF5IjogbnVsbCwgImRhc2hPZmZzZXQiOiBudWxsLCAiZmlsbCI6IHRydWUsICJmaWxsQ29sb3IiOiAiY3JpbXNvbiIsICJmaWxsT3BhY2l0eSI6IDAuMiwgImZpbGxSdWxlIjogImV2ZW5vZGQiLCAibGluZUNhcCI6ICJyb3VuZCIsICJsaW5lSm9pbiI6ICJyb3VuZCIsICJvcGFjaXR5IjogMS4wLCAicmFkaXVzIjogNjEwMDAwLjAsICJzdHJva2UiOiB0cnVlLCAid2VpZ2h0IjogM30KICAgICAgICAgICAgKS5hZGRUbyhtYXBfNTc1ZmFmMTIxNmNmNGE0YThlZTJhMzI4OTgzMGE5ZjYpOwogICAgICAgIAogICAgCiAgICAgICAgICAgIGNpcmNsZV84YjNiYmJhODQ5NGQ0OTNlODVjMDdkNjljYzUxY2JkYS5iaW5kVG9vbHRpcCgKICAgICAgICAgICAgICAgIGA8ZGl2PgogICAgICAgICAgICAgICAgICAgICA8ZGl2IHN0eWxlPSdtYXJnaW46MDsgYmFja2dyb3VuZC1jb2xvcjogZmlyZWJyaWNrOyBjb2xvcjogd2hpdGU7Jz48aDQgc3R5bGU9J3RleHQtYWxpZ246Y2VudGVyOyBmb250LXdlaWdodDogYm9sZCc+SXJhbjwvaDQ+PGhyIHN0eWxlPSdtYXJnaW46MTBweDsgY29sb3I6IHdoaXRlOyc+PHVsIHN0eWxlPSdjb2xvcjogd2hpdGU7O2xpc3Qtc3R5bGUtdHlwZTogY2lyY2xlOyBhbGlnbi1pdGVtOiBsZWZ0OyBwYWRkaW5nLWxlZnQ6IDIwcHg7IHBhZGRpbmctcmlnaHQ6MjBweCc+PGxpPlRvdGFsIGNhc2VzOiAyODQwMzQ8L2xpPjxsaT5EZWF0aHM6IDE1MDc0PC9saT48bGk+RGVhdGggcmF0ZSA6IDUuMzElIDwvbGk+PC91bD48L2Rpdj4KICAgICAgICAgICAgICAgICA8L2Rpdj5gLAogICAgICAgICAgICAgICAgeyJzdGlja3kiOiB0cnVlfQogICAgICAgICAgICApOwogICAgICAgIAogICAgCiAgICAgICAgICAgIHZhciBjaXJjbGVfMWZiZGZhYmMzMTM1NGFiNDgwNDFjZDQzMmEwOWMwNzAgPSBMLmNpcmNsZSgKICAgICAgICAgICAgICAgIFszMy4yMjMxOTEsIDQzLjY3OTI5MV0sCiAgICAgICAgICAgICAgICB7ImJ1YmJsaW5nTW91c2VFdmVudHMiOiB0cnVlLCAiY29sb3IiOiAiY3JpbXNvbiIsICJkYXNoQXJyYXkiOiBudWxsLCAiZGFzaE9mZnNldCI6IG51bGwsICJmaWxsIjogdHJ1ZSwgImZpbGxDb2xvciI6ICJjcmltc29uIiwgImZpbGxPcGFjaXR5IjogMC4yLCAiZmlsbFJ1bGUiOiAiZXZlbm9kZCIsICJsaW5lQ2FwIjogInJvdW5kIiwgImxpbmVKb2luIjogInJvdW5kIiwgIm9wYWNpdHkiOiAxLjAsICJyYWRpdXMiOiA1NjAwMDAuMCwgInN0cm9rZSI6IHRydWUsICJ3ZWlnaHQiOiAzfQogICAgICAgICAgICApLmFkZFRvKG1hcF81NzVmYWYxMjE2Y2Y0YTRhOGVlMmEzMjg5ODMwYTlmNik7CiAgICAgICAgCiAgICAKICAgICAgICAgICAgY2lyY2xlXzFmYmRmYWJjMzEzNTRhYjQ4MDQxY2Q0MzJhMDljMDcwLmJpbmRUb29sdGlwKAogICAgICAgICAgICAgICAgYDxkaXY+CiAgICAgICAgICAgICAgICAgICAgIDxkaXYgc3R5bGU9J21hcmdpbjowOyBiYWNrZ3JvdW5kLWNvbG9yOiBmaXJlYnJpY2s7IGNvbG9yOiB3aGl0ZTsnPjxoNCBzdHlsZT0ndGV4dC1hbGlnbjpjZW50ZXI7IGZvbnQtd2VpZ2h0OiBib2xkJz5JcmFxPC9oND48aHIgc3R5bGU9J21hcmdpbjoxMHB4OyBjb2xvcjogd2hpdGU7Jz48dWwgc3R5bGU9J2NvbG9yOiB3aGl0ZTs7bGlzdC1zdHlsZS10eXBlOiBjaXJjbGU7IGFsaWduLWl0ZW06IGxlZnQ7IHBhZGRpbmctbGVmdDogMjBweDsgcGFkZGluZy1yaWdodDoyMHB4Jz48bGk+VG90YWwgY2FzZXM6IDEwMjIyNjwvbGk+PGxpPkRlYXRoczogNDEyMjwvbGk+PGxpPkRlYXRoIHJhdGUgOiA0LjAzJSA8L2xpPjwvdWw+PC9kaXY+CiAgICAgICAgICAgICAgICAgPC9kaXY+YCwKICAgICAgICAgICAgICAgIHsic3RpY2t5IjogdHJ1ZX0KICAgICAgICAgICAgKTsKICAgICAgICAKICAgIAogICAgICAgICAgICB2YXIgY2lyY2xlXzc0OGRjNDI4OWE3NTQ1MGY4ZDNhYjBmNWNjNDYwN2M5ID0gTC5jaXJjbGUoCiAgICAgICAgICAgICAgICBbNTMuMTQyNCwgLTcuNjkyMV0sCiAgICAgICAgICAgICAgICB7ImJ1YmJsaW5nTW91c2VFdmVudHMiOiB0cnVlLCAiY29sb3IiOiAiY3JpbXNvbiIsICJkYXNoQXJyYXkiOiBudWxsLCAiZGFzaE9mZnNldCI6IG51bGwsICJmaWxsIjogdHJ1ZSwgImZpbGxDb2xvciI6ICJjcmltc29uIiwgImZpbGxPcGFjaXR5IjogMC4yLCAiZmlsbFJ1bGUiOiAiZXZlbm9kZCIsICJsaW5lQ2FwIjogInJvdW5kIiwgImxpbmVKb2luIjogInJvdW5kIiwgIm9wYWNpdHkiOiAxLjAsICJyYWRpdXMiOiA1MDk5OTkuOTk5OTk5OTk5OTQsICJzdHJva2UiOiB0cnVlLCAid2VpZ2h0IjogM30KICAgICAgICAgICAgKS5hZGRUbyhtYXBfNTc1ZmFmMTIxNmNmNGE0YThlZTJhMzI4OTgzMGE5ZjYpOwogICAgICAgIAogICAgCiAgICAgICAgICAgIGNpcmNsZV83NDhkYzQyODlhNzU0NTBmOGQzYWIwZjVjYzQ2MDdjOS5iaW5kVG9vbHRpcCgKICAgICAgICAgICAgICAgIGA8ZGl2PgogICAgICAgICAgICAgICAgICAgICA8ZGl2IHN0eWxlPSdtYXJnaW46MDsgYmFja2dyb3VuZC1jb2xvcjogZmlyZWJyaWNrOyBjb2xvcjogd2hpdGU7Jz48aDQgc3R5bGU9J3RleHQtYWxpZ246Y2VudGVyOyBmb250LXdlaWdodDogYm9sZCc+SXJlbGFuZDwvaDQ+PGhyIHN0eWxlPSdtYXJnaW46MTBweDsgY29sb3I6IHdoaXRlOyc+PHVsIHN0eWxlPSdjb2xvcjogd2hpdGU7O2xpc3Qtc3R5bGUtdHlwZTogY2lyY2xlOyBhbGlnbi1pdGVtOiBsZWZ0OyBwYWRkaW5nLWxlZnQ6IDIwcHg7IHBhZGRpbmctcmlnaHQ6MjBweCc+PGxpPlRvdGFsIGNhc2VzOiAyNTgyNjwvbGk+PGxpPkRlYXRoczogMTc2MzwvbGk+PGxpPkRlYXRoIHJhdGUgOiA2LjgzJSA8L2xpPjwvdWw+PC9kaXY+CiAgICAgICAgICAgICAgICAgPC9kaXY+YCwKICAgICAgICAgICAgICAgIHsic3RpY2t5IjogdHJ1ZX0KICAgICAgICAgICAgKTsKICAgICAgICAKICAgIAogICAgICAgICAgICB2YXIgY2lyY2xlXzA3NDI3ZDcwZjg3ODRjYWI4MTc1NjRmMTJiMzMyZWFkID0gTC5jaXJjbGUoCiAgICAgICAgICAgICAgICBbMzEuMDQ2MDUxMDAwMDAwMDAyLCAzNC44NTE2MTJdLAogICAgICAgICAgICAgICAgeyJidWJibGluZ01vdXNlRXZlbnRzIjogdHJ1ZSwgImNvbG9yIjogImNyaW1zb24iLCAiZGFzaEFycmF5IjogbnVsbCwgImRhc2hPZmZzZXQiOiBudWxsLCAiZmlsbCI6IHRydWUsICJmaWxsQ29sb3IiOiAiY3JpbXNvbiIsICJmaWxsT3BhY2l0eSI6IDAuMiwgImZpbGxSdWxlIjogImV2ZW5vZGQiLCAibGluZUNhcCI6ICJyb3VuZCIsICJsaW5lSm9pbiI6ICJyb3VuZCIsICJvcGFjaXR5IjogMS4wLCAicmFkaXVzIjogNTA5OTk5Ljk5OTk5OTk5OTk0LCAic3Ryb2tlIjogdHJ1ZSwgIndlaWdodCI6IDN9CiAgICAgICAgICAgICkuYWRkVG8obWFwXzU3NWZhZjEyMTZjZjRhNGE4ZWUyYTMyODk4MzBhOWY2KTsKICAgICAgICAKICAgIAogICAgICAgICAgICBjaXJjbGVfMDc0MjdkNzBmODc4NGNhYjgxNzU2NGYxMmIzMzJlYWQuYmluZFRvb2x0aXAoCiAgICAgICAgICAgICAgICBgPGRpdj4KICAgICAgICAgICAgICAgICAgICAgPGRpdiBzdHlsZT0nbWFyZ2luOjA7IGJhY2tncm91bmQtY29sb3I6IGZpcmVicmljazsgY29sb3I6IHdoaXRlOyc+PGg0IHN0eWxlPSd0ZXh0LWFsaWduOmNlbnRlcjsgZm9udC13ZWlnaHQ6IGJvbGQnPklzcmFlbDwvaDQ+PGhyIHN0eWxlPSdtYXJnaW46MTBweDsgY29sb3I6IHdoaXRlOyc+PHVsIHN0eWxlPSdjb2xvcjogd2hpdGU7O2xpc3Qtc3R5bGUtdHlwZTogY2lyY2xlOyBhbGlnbi1pdGVtOiBsZWZ0OyBwYWRkaW5nLWxlZnQ6IDIwcHg7IHBhZGRpbmctcmlnaHQ6MjBweCc+PGxpPlRvdGFsIGNhc2VzOiA1Nzk4MjwvbGk+PGxpPkRlYXRoczogNDQyPC9saT48bGk+RGVhdGggcmF0ZSA6IDAuNzYlIDwvbGk+PC91bD48L2Rpdj4KICAgICAgICAgICAgICAgICA8L2Rpdj5gLAogICAgICAgICAgICAgICAgeyJzdGlja3kiOiB0cnVlfQogICAgICAgICAgICApOwogICAgICAgIAogICAgCiAgICAgICAgICAgIHZhciBjaXJjbGVfYzY3MTljNGFlNTBhNDI4M2E2ZDUwNWEwNDhjODNjZDEgPSBMLmNpcmNsZSgKICAgICAgICAgICAgICAgIFs0MS44NzE5NCwgMTIuNTY3MzhdLAogICAgICAgICAgICAgICAgeyJidWJibGluZ01vdXNlRXZlbnRzIjogdHJ1ZSwgImNvbG9yIjogImNyaW1zb24iLCAiZGFzaEFycmF5IjogbnVsbCwgImRhc2hPZmZzZXQiOiBudWxsLCAiZmlsbCI6IHRydWUsICJmaWxsQ29sb3IiOiAiY3JpbXNvbiIsICJmaWxsT3BhY2l0eSI6IDAuMiwgImZpbGxSdWxlIjogImV2ZW5vZGQiLCAibGluZUNhcCI6ICJyb3VuZCIsICJsaW5lSm9pbiI6ICJyb3VuZCIsICJvcGFjaXR5IjogMS4wLCAicmFkaXVzIjogNjEwMDAwLjAsICJzdHJva2UiOiB0cnVlLCAid2VpZ2h0IjogM30KICAgICAgICAgICAgKS5hZGRUbyhtYXBfNTc1ZmFmMTIxNmNmNGE0YThlZTJhMzI4OTgzMGE5ZjYpOwogICAgICAgIAogICAgCiAgICAgICAgICAgIGNpcmNsZV9jNjcxOWM0YWU1MGE0MjgzYTZkNTA1YTA0OGM4M2NkMS5iaW5kVG9vbHRpcCgKICAgICAgICAgICAgICAgIGA8ZGl2PgogICAgICAgICAgICAgICAgICAgICA8ZGl2IHN0eWxlPSdtYXJnaW46MDsgYmFja2dyb3VuZC1jb2xvcjogZmlyZWJyaWNrOyBjb2xvcjogd2hpdGU7Jz48aDQgc3R5bGU9J3RleHQtYWxpZ246Y2VudGVyOyBmb250LXdlaWdodDogYm9sZCc+SXRhbHk8L2g0PjxociBzdHlsZT0nbWFyZ2luOjEwcHg7IGNvbG9yOiB3aGl0ZTsnPjx1bCBzdHlsZT0nY29sb3I6IHdoaXRlOztsaXN0LXN0eWxlLXR5cGU6IGNpcmNsZTsgYWxpZ24taXRlbTogbGVmdDsgcGFkZGluZy1sZWZ0OiAyMHB4OyBwYWRkaW5nLXJpZ2h0OjIwcHgnPjxsaT5Ub3RhbCBjYXNlczogMjQ1MzM4PC9saT48bGk+RGVhdGhzOiAzNTA5MjwvbGk+PGxpPkRlYXRoIHJhdGUgOiAxNC4zJSA8L2xpPjwvdWw+PC9kaXY+CiAgICAgICAgICAgICAgICAgPC9kaXY+YCwKICAgICAgICAgICAgICAgIHsic3RpY2t5IjogdHJ1ZX0KICAgICAgICAgICAgKTsKICAgICAgICAKICAgIAogICAgICAgICAgICB2YXIgY2lyY2xlXzliZmJiM2QzZDE0OTQ3MWViNGM3YTRlNTY2NmZkYWVhID0gTC5jaXJjbGUoCiAgICAgICAgICAgICAgICBbMTguMTA5NiwgLTc3LjI5NzVdLAogICAgICAgICAgICAgICAgeyJidWJibGluZ01vdXNlRXZlbnRzIjogdHJ1ZSwgImNvbG9yIjogImNyaW1zb24iLCAiZGFzaEFycmF5IjogbnVsbCwgImRhc2hPZmZzZXQiOiBudWxsLCAiZmlsbCI6IHRydWUsICJmaWxsQ29sb3IiOiAiY3JpbXNvbiIsICJmaWxsT3BhY2l0eSI6IDAuMiwgImZpbGxSdWxlIjogImV2ZW5vZGQiLCAibGluZUNhcCI6ICJyb3VuZCIsICJsaW5lSm9pbiI6ICJyb3VuZCIsICJvcGFjaXR5IjogMS4wLCAicmFkaXVzIjogMzEwMDAwLjAsICJzdHJva2UiOiB0cnVlLCAid2VpZ2h0IjogM30KICAgICAgICAgICAgKS5hZGRUbyhtYXBfNTc1ZmFmMTIxNmNmNGE0YThlZTJhMzI4OTgzMGE5ZjYpOwogICAgICAgIAogICAgCiAgICAgICAgICAgIGNpcmNsZV85YmZiYjNkM2QxNDk0NzFlYjRjN2E0ZTU2NjZmZGFlYS5iaW5kVG9vbHRpcCgKICAgICAgICAgICAgICAgIGA8ZGl2PgogICAgICAgICAgICAgICAgICAgICA8ZGl2IHN0eWxlPSdtYXJnaW46MDsgYmFja2dyb3VuZC1jb2xvcjogZmlyZWJyaWNrOyBjb2xvcjogd2hpdGU7Jz48aDQgc3R5bGU9J3RleHQtYWxpZ246Y2VudGVyOyBmb250LXdlaWdodDogYm9sZCc+SmFtYWljYTwvaDQ+PGhyIHN0eWxlPSdtYXJnaW46MTBweDsgY29sb3I6IHdoaXRlOyc+PHVsIHN0eWxlPSdjb2xvcjogd2hpdGU7O2xpc3Qtc3R5bGUtdHlwZTogY2lyY2xlOyBhbGlnbi1pdGVtOiBsZWZ0OyBwYWRkaW5nLWxlZnQ6IDIwcHg7IHBhZGRpbmctcmlnaHQ6MjBweCc+PGxpPlRvdGFsIGNhc2VzOiA4MjE8L2xpPjxsaT5EZWF0aHM6IDEwPC9saT48bGk+RGVhdGggcmF0ZSA6IDEuMjIlIDwvbGk+PC91bD48L2Rpdj4KICAgICAgICAgICAgICAgICA8L2Rpdj5gLAogICAgICAgICAgICAgICAgeyJzdGlja3kiOiB0cnVlfQogICAgICAgICAgICApOwogICAgICAgIAogICAgCiAgICAgICAgICAgIHZhciBjaXJjbGVfZWY3YTQ4ZDdkM2E3NGUwODk1NTZhNzI4OGNjMjY2OTYgPSBMLmNpcmNsZSgKICAgICAgICAgICAgICAgIFszNi4yMDQ4MjQsIDEzOC4yNTI5MjRdLAogICAgICAgICAgICAgICAgeyJidWJibGluZ01vdXNlRXZlbnRzIjogdHJ1ZSwgImNvbG9yIjogImNyaW1zb24iLCAiZGFzaEFycmF5IjogbnVsbCwgImRhc2hPZmZzZXQiOiBudWxsLCAiZmlsbCI6IHRydWUsICJmaWxsQ29sb3IiOiAiY3JpbXNvbiIsICJmaWxsT3BhY2l0eSI6IDAuMiwgImZpbGxSdWxlIjogImV2ZW5vZGQiLCAibGluZUNhcCI6ICJyb3VuZCIsICJsaW5lSm9pbiI6ICJyb3VuZCIsICJvcGFjaXR5IjogMS4wLCAicmFkaXVzIjogNTA5OTk5Ljk5OTk5OTk5OTk0LCAic3Ryb2tlIjogdHJ1ZSwgIndlaWdodCI6IDN9CiAgICAgICAgICAgICkuYWRkVG8obWFwXzU3NWZhZjEyMTZjZjRhNGE4ZWUyYTMyODk4MzBhOWY2KTsKICAgICAgICAKICAgIAogICAgICAgICAgICBjaXJjbGVfZWY3YTQ4ZDdkM2E3NGUwODk1NTZhNzI4OGNjMjY2OTYuYmluZFRvb2x0aXAoCiAgICAgICAgICAgICAgICBgPGRpdj4KICAgICAgICAgICAgICAgICAgICAgPGRpdiBzdHlsZT0nbWFyZ2luOjA7IGJhY2tncm91bmQtY29sb3I6IGZpcmVicmljazsgY29sb3I6IHdoaXRlOyc+PGg0IHN0eWxlPSd0ZXh0LWFsaWduOmNlbnRlcjsgZm9udC13ZWlnaHQ6IGJvbGQnPkphcGFuPC9oND48aHIgc3R5bGU9J21hcmdpbjoxMHB4OyBjb2xvcjogd2hpdGU7Jz48dWwgc3R5bGU9J2NvbG9yOiB3aGl0ZTs7bGlzdC1zdHlsZS10eXBlOiBjaXJjbGU7IGFsaWduLWl0ZW06IGxlZnQ7IHBhZGRpbmctbGVmdDogMjBweDsgcGFkZGluZy1yaWdodDoyMHB4Jz48bGk+VG90YWwgY2FzZXM6IDI4MTE0PC9saT48bGk+RGVhdGhzOiA5OTI8L2xpPjxsaT5EZWF0aCByYXRlIDogMy41MyUgPC9saT48L3VsPjwvZGl2PgogICAgICAgICAgICAgICAgIDwvZGl2PmAsCiAgICAgICAgICAgICAgICB7InN0aWNreSI6IHRydWV9CiAgICAgICAgICAgICk7CiAgICAgICAgCiAgICAKICAgICAgICAgICAgdmFyIGNpcmNsZV82NWEyNDZjODI2YmU0N2M2OGYyMGZiNzMyN2Q4Yjk1NCA9IEwuY2lyY2xlKAogICAgICAgICAgICAgICAgWzMxLjI0LCAzNi41MV0sCiAgICAgICAgICAgICAgICB7ImJ1YmJsaW5nTW91c2VFdmVudHMiOiB0cnVlLCAiY29sb3IiOiAiY3JpbXNvbiIsICJkYXNoQXJyYXkiOiBudWxsLCAiZGFzaE9mZnNldCI6IG51bGwsICJmaWxsIjogdHJ1ZSwgImZpbGxDb2xvciI6ICJjcmltc29uIiwgImZpbGxPcGFjaXR5IjogMC4yLCAiZmlsbFJ1bGUiOiAiZXZlbm9kZCIsICJsaW5lQ2FwIjogInJvdW5kIiwgImxpbmVKb2luIjogInJvdW5kIiwgIm9wYWNpdHkiOiAxLjAsICJyYWRpdXMiOiAzNjAwMDAuMCwgInN0cm9rZSI6IHRydWUsICJ3ZWlnaHQiOiAzfQogICAgICAgICAgICApLmFkZFRvKG1hcF81NzVmYWYxMjE2Y2Y0YTRhOGVlMmEzMjg5ODMwYTlmNik7CiAgICAgICAgCiAgICAKICAgICAgICAgICAgY2lyY2xlXzY1YTI0NmM4MjZiZTQ3YzY4ZjIwZmI3MzI3ZDhiOTU0LmJpbmRUb29sdGlwKAogICAgICAgICAgICAgICAgYDxkaXY+CiAgICAgICAgICAgICAgICAgICAgIDxkaXYgc3R5bGU9J21hcmdpbjowOyBiYWNrZ3JvdW5kLWNvbG9yOiBmaXJlYnJpY2s7IGNvbG9yOiB3aGl0ZTsnPjxoNCBzdHlsZT0ndGV4dC1hbGlnbjpjZW50ZXI7IGZvbnQtd2VpZ2h0OiBib2xkJz5Kb3JkYW48L2g0PjxociBzdHlsZT0nbWFyZ2luOjEwcHg7IGNvbG9yOiB3aGl0ZTsnPjx1bCBzdHlsZT0nY29sb3I6IHdoaXRlOztsaXN0LXN0eWxlLXR5cGU6IGNpcmNsZTsgYWxpZ24taXRlbTogbGVmdDsgcGFkZGluZy1sZWZ0OiAyMHB4OyBwYWRkaW5nLXJpZ2h0OjIwcHgnPjxsaT5Ub3RhbCBjYXNlczogMTEzMTwvbGk+PGxpPkRlYXRoczogMTE8L2xpPjxsaT5EZWF0aCByYXRlIDogMC45NyUgPC9saT48L3VsPjwvZGl2PgogICAgICAgICAgICAgICAgIDwvZGl2PmAsCiAgICAgICAgICAgICAgICB7InN0aWNreSI6IHRydWV9CiAgICAgICAgICAgICk7CiAgICAgICAgCiAgICAKICAgICAgICAgICAgdmFyIGNpcmNsZV83YzFhZTljY2NjZTE0ODkzODVhNzI1ODZiYzJkMGI1NyA9IEwuY2lyY2xlKAogICAgICAgICAgICAgICAgWzQ4LjAxOTYsIDY2LjkyMzddLAogICAgICAgICAgICAgICAgeyJidWJibGluZ01vdXNlRXZlbnRzIjogdHJ1ZSwgImNvbG9yIjogImNyaW1zb24iLCAiZGFzaEFycmF5IjogbnVsbCwgImRhc2hPZmZzZXQiOiBudWxsLCAiZmlsbCI6IHRydWUsICJmaWxsQ29sb3IiOiAiY3JpbXNvbiIsICJmaWxsT3BhY2l0eSI6IDAuMiwgImZpbGxSdWxlIjogImV2ZW5vZGQiLCAibGluZUNhcCI6ICJyb3VuZCIsICJsaW5lSm9pbiI6ICJyb3VuZCIsICJvcGFjaXR5IjogMS4wLCAicmFkaXVzIjogNTYwMDAwLjAsICJzdHJva2UiOiB0cnVlLCAid2VpZ2h0IjogM30KICAgICAgICAgICAgKS5hZGRUbyhtYXBfNTc1ZmFmMTIxNmNmNGE0YThlZTJhMzI4OTgzMGE5ZjYpOwogICAgICAgIAogICAgCiAgICAgICAgICAgIGNpcmNsZV83YzFhZTljY2NjZTE0ODkzODVhNzI1ODZiYzJkMGI1Ny5iaW5kVG9vbHRpcCgKICAgICAgICAgICAgICAgIGA8ZGl2PgogICAgICAgICAgICAgICAgICAgICA8ZGl2IHN0eWxlPSdtYXJnaW46MDsgYmFja2dyb3VuZC1jb2xvcjogZmlyZWJyaWNrOyBjb2xvcjogd2hpdGU7Jz48aDQgc3R5bGU9J3RleHQtYWxpZ246Y2VudGVyOyBmb250LXdlaWdodDogYm9sZCc+S2F6YWtoc3RhbjwvaDQ+PGhyIHN0eWxlPSdtYXJnaW46MTBweDsgY29sb3I6IHdoaXRlOyc+PHVsIHN0eWxlPSdjb2xvcjogd2hpdGU7O2xpc3Qtc3R5bGUtdHlwZTogY2lyY2xlOyBhbGlnbi1pdGVtOiBsZWZ0OyBwYWRkaW5nLWxlZnQ6IDIwcHg7IHBhZGRpbmctcmlnaHQ6MjBweCc+PGxpPlRvdGFsIGNhc2VzOiA3ODQ4NjwvbGk+PGxpPkRlYXRoczogNTg1PC9saT48bGk+RGVhdGggcmF0ZSA6IDAuNzUlIDwvbGk+PC91bD48L2Rpdj4KICAgICAgICAgICAgICAgICA8L2Rpdj5gLAogICAgICAgICAgICAgICAgeyJzdGlja3kiOiB0cnVlfQogICAgICAgICAgICApOwogICAgICAgIAogICAgCiAgICAgICAgICAgIHZhciBjaXJjbGVfNGRiNmRiZThmZWRhNDBhN2IyNjg2MTQzZDA0MzMzNGYgPSBMLmNpcmNsZSgKICAgICAgICAgICAgICAgIFstMC4wMjM2LCAzNy45MDYyXSwKICAgICAgICAgICAgICAgIHsiYnViYmxpbmdNb3VzZUV2ZW50cyI6IHRydWUsICJjb2xvciI6ICJjcmltc29uIiwgImRhc2hBcnJheSI6IG51bGwsICJkYXNoT2Zmc2V0IjogbnVsbCwgImZpbGwiOiB0cnVlLCAiZmlsbENvbG9yIjogImNyaW1zb24iLCAiZmlsbE9wYWNpdHkiOiAwLjIsICJmaWxsUnVsZSI6ICJldmVub2RkIiwgImxpbmVDYXAiOiAicm91bmQiLCAibGluZUpvaW4iOiAicm91bmQiLCAib3BhY2l0eSI6IDEuMCwgInJhZGl1cyI6IDQ1OTk5OS45OTk5OTk5OTk5NCwgInN0cm9rZSI6IHRydWUsICJ3ZWlnaHQiOiAzfQogICAgICAgICAgICApLmFkZFRvKG1hcF81NzVmYWYxMjE2Y2Y0YTRhOGVlMmEzMjg5ODMwYTlmNik7CiAgICAgICAgCiAgICAKICAgICAgICAgICAgY2lyY2xlXzRkYjZkYmU4ZmVkYTQwYTdiMjY4NjE0M2QwNDMzMzRmLmJpbmRUb29sdGlwKAogICAgICAgICAgICAgICAgYDxkaXY+CiAgICAgICAgICAgICAgICAgICAgIDxkaXYgc3R5bGU9J21hcmdpbjowOyBiYWNrZ3JvdW5kLWNvbG9yOiBmaXJlYnJpY2s7IGNvbG9yOiB3aGl0ZTsnPjxoNCBzdHlsZT0ndGV4dC1hbGlnbjpjZW50ZXI7IGZvbnQtd2VpZ2h0OiBib2xkJz5LZW55YTwvaDQ+PGhyIHN0eWxlPSdtYXJnaW46MTBweDsgY29sb3I6IHdoaXRlOyc+PHVsIHN0eWxlPSdjb2xvcjogd2hpdGU7O2xpc3Qtc3R5bGUtdHlwZTogY2lyY2xlOyBhbGlnbi1pdGVtOiBsZWZ0OyBwYWRkaW5nLWxlZnQ6IDIwcHg7IHBhZGRpbmctcmlnaHQ6MjBweCc+PGxpPlRvdGFsIGNhc2VzOiAxNTYwMTwvbGk+PGxpPkRlYXRoczogMjYzPC9saT48bGk+RGVhdGggcmF0ZSA6IDEuNjklIDwvbGk+PC91bD48L2Rpdj4KICAgICAgICAgICAgICAgICA8L2Rpdj5gLAogICAgICAgICAgICAgICAgeyJzdGlja3kiOiB0cnVlfQogICAgICAgICAgICApOwogICAgICAgIAogICAgCiAgICAgICAgICAgIHZhciBjaXJjbGVfNzExM2ZiMjg4YjI0NGNiYmEwOTk0MmFmMWY3Y2IwMDkgPSBMLmNpcmNsZSgKICAgICAgICAgICAgICAgIFszNS45MDc3NTcwMDAwMDAwMSwgMTI3Ljc2NjkyMl0sCiAgICAgICAgICAgICAgICB7ImJ1YmJsaW5nTW91c2VFdmVudHMiOiB0cnVlLCAiY29sb3IiOiAiY3JpbXNvbiIsICJkYXNoQXJyYXkiOiBudWxsLCAiZGFzaE9mZnNldCI6IG51bGwsICJmaWxsIjogdHJ1ZSwgImZpbGxDb2xvciI6ICJjcmltc29uIiwgImZpbGxPcGFjaXR5IjogMC4yLCAiZmlsbFJ1bGUiOiAiZXZlbm9kZCIsICJsaW5lQ2FwIjogInJvdW5kIiwgImxpbmVKb2luIjogInJvdW5kIiwgIm9wYWNpdHkiOiAxLjAsICJyYWRpdXMiOiA0NTk5OTkuOTk5OTk5OTk5OTQsICJzdHJva2UiOiB0cnVlLCAid2VpZ2h0IjogM30KICAgICAgICAgICAgKS5hZGRUbyhtYXBfNTc1ZmFmMTIxNmNmNGE0YThlZTJhMzI4OTgzMGE5ZjYpOwogICAgICAgIAogICAgCiAgICAgICAgICAgIGNpcmNsZV83MTEzZmIyODhiMjQ0Y2JiYTA5OTQyYWYxZjdjYjAwOS5iaW5kVG9vbHRpcCgKICAgICAgICAgICAgICAgIGA8ZGl2PgogICAgICAgICAgICAgICAgICAgICA8ZGl2IHN0eWxlPSdtYXJnaW46MDsgYmFja2dyb3VuZC1jb2xvcjogZmlyZWJyaWNrOyBjb2xvcjogd2hpdGU7Jz48aDQgc3R5bGU9J3RleHQtYWxpZ246Y2VudGVyOyBmb250LXdlaWdodDogYm9sZCc+S29yZWEsIFNvdXRoPC9oND48aHIgc3R5bGU9J21hcmdpbjoxMHB4OyBjb2xvcjogd2hpdGU7Jz48dWwgc3R5bGU9J2NvbG9yOiB3aGl0ZTs7bGlzdC1zdHlsZS10eXBlOiBjaXJjbGU7IGFsaWduLWl0ZW06IGxlZnQ7IHBhZGRpbmctbGVmdDogMjBweDsgcGFkZGluZy1yaWdodDoyMHB4Jz48bGk+VG90YWwgY2FzZXM6IDEzOTc5PC9saT48bGk+RGVhdGhzOiAyOTg8L2xpPjxsaT5EZWF0aCByYXRlIDogMi4xMyUgPC9saT48L3VsPjwvZGl2PgogICAgICAgICAgICAgICAgIDwvZGl2PmAsCiAgICAgICAgICAgICAgICB7InN0aWNreSI6IHRydWV9CiAgICAgICAgICAgICk7CiAgICAgICAgCiAgICAKICAgICAgICAgICAgdmFyIGNpcmNsZV8xMWY4NDM5ZDIyY2M0MTIyOTU3MjI1ZmJhMThjZjI3MSA9IEwuY2lyY2xlKAogICAgICAgICAgICAgICAgWzI5LjMxMTY1OTk5OTk5OTk5NiwgNDcuNDgxNzY2XSwKICAgICAgICAgICAgICAgIHsiYnViYmxpbmdNb3VzZUV2ZW50cyI6IHRydWUsICJjb2xvciI6ICJjcmltc29uIiwgImRhc2hBcnJheSI6IG51bGwsICJkYXNoT2Zmc2V0IjogbnVsbCwgImZpbGwiOiB0cnVlLCAiZmlsbENvbG9yIjogImNyaW1zb24iLCAiZmlsbE9wYWNpdHkiOiAwLjIsICJmaWxsUnVsZSI6ICJldmVub2RkIiwgImxpbmVDYXAiOiAicm91bmQiLCAibGluZUpvaW4iOiAicm91bmQiLCAib3BhY2l0eSI6IDEuMCwgInJhZGl1cyI6IDU2MDAwMC4wLCAic3Ryb2tlIjogdHJ1ZSwgIndlaWdodCI6IDN9CiAgICAgICAgICAgICkuYWRkVG8obWFwXzU3NWZhZjEyMTZjZjRhNGE4ZWUyYTMyODk4MzBhOWY2KTsKICAgICAgICAKICAgIAogICAgICAgICAgICBjaXJjbGVfMTFmODQzOWQyMmNjNDEyMjk1NzIyNWZiYTE4Y2YyNzEuYmluZFRvb2x0aXAoCiAgICAgICAgICAgICAgICBgPGRpdj4KICAgICAgICAgICAgICAgICAgICAgPGRpdiBzdHlsZT0nbWFyZ2luOjA7IGJhY2tncm91bmQtY29sb3I6IGZpcmVicmljazsgY29sb3I6IHdoaXRlOyc+PGg0IHN0eWxlPSd0ZXh0LWFsaWduOmNlbnRlcjsgZm9udC13ZWlnaHQ6IGJvbGQnPkt1d2FpdDwvaDQ+PGhyIHN0eWxlPSdtYXJnaW46MTBweDsgY29sb3I6IHdoaXRlOyc+PHVsIHN0eWxlPSdjb2xvcjogd2hpdGU7O2xpc3Qtc3R5bGUtdHlwZTogY2lyY2xlOyBhbGlnbi1pdGVtOiBsZWZ0OyBwYWRkaW5nLWxlZnQ6IDIwcHg7IHBhZGRpbmctcmlnaHQ6MjBweCc+PGxpPlRvdGFsIGNhc2VzOiA2MTg3MjwvbGk+PGxpPkRlYXRoczogNDIxPC9saT48bGk+RGVhdGggcmF0ZSA6IDAuNjglIDwvbGk+PC91bD48L2Rpdj4KICAgICAgICAgICAgICAgICA8L2Rpdj5gLAogICAgICAgICAgICAgICAgeyJzdGlja3kiOiB0cnVlfQogICAgICAgICAgICApOwogICAgICAgIAogICAgCiAgICAgICAgICAgIHZhciBjaXJjbGVfNDVjZjAyNmM0NTc2NDFhNjkwODQ2Y2FkNDBjZjYyN2UgPSBMLmNpcmNsZSgKICAgICAgICAgICAgICAgIFs0MS4yMDQzOCwgNzQuNzY2MDk4XSwKICAgICAgICAgICAgICAgIHsiYnViYmxpbmdNb3VzZUV2ZW50cyI6IHRydWUsICJjb2xvciI6ICJjcmltc29uIiwgImRhc2hBcnJheSI6IG51bGwsICJkYXNoT2Zmc2V0IjogbnVsbCwgImZpbGwiOiB0cnVlLCAiZmlsbENvbG9yIjogImNyaW1zb24iLCAiZmlsbE9wYWNpdHkiOiAwLjIsICJmaWxsUnVsZSI6ICJldmVub2RkIiwgImxpbmVDYXAiOiAicm91bmQiLCAibGluZUpvaW4iOiAicm91bmQiLCAib3BhY2l0eSI6IDEuMCwgInJhZGl1cyI6IDUwOTk5OS45OTk5OTk5OTk5NCwgInN0cm9rZSI6IHRydWUsICJ3ZWlnaHQiOiAzfQogICAgICAgICAgICApLmFkZFRvKG1hcF81NzVmYWYxMjE2Y2Y0YTRhOGVlMmEzMjg5ODMwYTlmNik7CiAgICAgICAgCiAgICAKICAgICAgICAgICAgY2lyY2xlXzQ1Y2YwMjZjNDU3NjQxYTY5MDg0NmNhZDQwY2Y2MjdlLmJpbmRUb29sdGlwKAogICAgICAgICAgICAgICAgYDxkaXY+CiAgICAgICAgICAgICAgICAgICAgIDxkaXYgc3R5bGU9J21hcmdpbjowOyBiYWNrZ3JvdW5kLWNvbG9yOiBmaXJlYnJpY2s7IGNvbG9yOiB3aGl0ZTsnPjxoNCBzdHlsZT0ndGV4dC1hbGlnbjpjZW50ZXI7IGZvbnQtd2VpZ2h0OiBib2xkJz5LeXJneXpzdGFuPC9oND48aHIgc3R5bGU9J21hcmdpbjoxMHB4OyBjb2xvcjogd2hpdGU7Jz48dWwgc3R5bGU9J2NvbG9yOiB3aGl0ZTs7bGlzdC1zdHlsZS10eXBlOiBjaXJjbGU7IGFsaWduLWl0ZW06IGxlZnQ7IHBhZGRpbmctbGVmdDogMjBweDsgcGFkZGluZy1yaWdodDoyMHB4Jz48bGk+VG90YWwgY2FzZXM6IDMxMjQ3PC9saT48bGk+RGVhdGhzOiAxMjExPC9saT48bGk+RGVhdGggcmF0ZSA6IDMuODglIDwvbGk+PC91bD48L2Rpdj4KICAgICAgICAgICAgICAgICA8L2Rpdj5gLAogICAgICAgICAgICAgICAgeyJzdGlja3kiOiB0cnVlfQogICAgICAgICAgICApOwogICAgICAgIAogICAgCiAgICAgICAgICAgIHZhciBjaXJjbGVfYmZiM2NlYzFmZjJiNDYxZmExMTk5NzZiNmM3NTQ1N2QgPSBMLmNpcmNsZSgKICAgICAgICAgICAgICAgIFs1Ni44Nzk2LCAyNC42MDMyXSwKICAgICAgICAgICAgICAgIHsiYnViYmxpbmdNb3VzZUV2ZW50cyI6IHRydWUsICJjb2xvciI6ICJjcmltc29uIiwgImRhc2hBcnJheSI6IG51bGwsICJkYXNoT2Zmc2V0IjogbnVsbCwgImZpbGwiOiB0cnVlLCAiZmlsbENvbG9yIjogImNyaW1zb24iLCAiZmlsbE9wYWNpdHkiOiAwLjIsICJmaWxsUnVsZSI6ICJldmVub2RkIiwgImxpbmVDYXAiOiAicm91bmQiLCAibGluZUpvaW4iOiAicm91bmQiLCAib3BhY2l0eSI6IDEuMCwgInJhZGl1cyI6IDM2MDAwMC4wLCAic3Ryb2tlIjogdHJ1ZSwgIndlaWdodCI6IDN9CiAgICAgICAgICAgICkuYWRkVG8obWFwXzU3NWZhZjEyMTZjZjRhNGE4ZWUyYTMyODk4MzBhOWY2KTsKICAgICAgICAKICAgIAogICAgICAgICAgICBjaXJjbGVfYmZiM2NlYzFmZjJiNDYxZmExMTk5NzZiNmM3NTQ1N2QuYmluZFRvb2x0aXAoCiAgICAgICAgICAgICAgICBgPGRpdj4KICAgICAgICAgICAgICAgICAgICAgPGRpdiBzdHlsZT0nbWFyZ2luOjA7IGJhY2tncm91bmQtY29sb3I6IGZpcmVicmljazsgY29sb3I6IHdoaXRlOyc+PGg0IHN0eWxlPSd0ZXh0LWFsaWduOmNlbnRlcjsgZm9udC13ZWlnaHQ6IGJvbGQnPkxhdHZpYTwvaDQ+PGhyIHN0eWxlPSdtYXJnaW46MTBweDsgY29sb3I6IHdoaXRlOyc+PHVsIHN0eWxlPSdjb2xvcjogd2hpdGU7O2xpc3Qtc3R5bGUtdHlwZTogY2lyY2xlOyBhbGlnbi1pdGVtOiBsZWZ0OyBwYWRkaW5nLWxlZnQ6IDIwcHg7IHBhZGRpbmctcmlnaHQ6MjBweCc+PGxpPlRvdGFsIGNhc2VzOiAxMjAzPC9saT48bGk+RGVhdGhzOiAzMTwvbGk+PGxpPkRlYXRoIHJhdGUgOiAyLjU3JSA8L2xpPjwvdWw+PC9kaXY+CiAgICAgICAgICAgICAgICAgPC9kaXY+YCwKICAgICAgICAgICAgICAgIHsic3RpY2t5IjogdHJ1ZX0KICAgICAgICAgICAgKTsKICAgICAgICAKICAgIAogICAgICAgICAgICB2YXIgY2lyY2xlXzFlY2Q1MmFhMmE4NzQwMjZiMzgwZDU0MDFjNWVhZGI0ID0gTC5jaXJjbGUoCiAgICAgICAgICAgICAgICBbMzMuODU0NywgMzUuODYyM10sCiAgICAgICAgICAgICAgICB7ImJ1YmJsaW5nTW91c2VFdmVudHMiOiB0cnVlLCAiY29sb3IiOiAiY3JpbXNvbiIsICJkYXNoQXJyYXkiOiBudWxsLCAiZGFzaE9mZnNldCI6IG51bGwsICJmaWxsIjogdHJ1ZSwgImZpbGxDb2xvciI6ICJjcmltc29uIiwgImZpbGxPcGFjaXR5IjogMC4yLCAiZmlsbFJ1bGUiOiAiZXZlbm9kZCIsICJsaW5lQ2FwIjogInJvdW5kIiwgImxpbmVKb2luIjogInJvdW5kIiwgIm9wYWNpdHkiOiAxLjAsICJyYWRpdXMiOiA0MDk5OTkuOTk5OTk5OTk5OTQsICJzdHJva2UiOiB0cnVlLCAid2VpZ2h0IjogM30KICAgICAgICAgICAgKS5hZGRUbyhtYXBfNTc1ZmFmMTIxNmNmNGE0YThlZTJhMzI4OTgzMGE5ZjYpOwogICAgICAgIAogICAgCiAgICAgICAgICAgIGNpcmNsZV8xZWNkNTJhYTJhODc0MDI2YjM4MGQ1NDAxYzVlYWRiNC5iaW5kVG9vbHRpcCgKICAgICAgICAgICAgICAgIGA8ZGl2PgogICAgICAgICAgICAgICAgICAgICA8ZGl2IHN0eWxlPSdtYXJnaW46MDsgYmFja2dyb3VuZC1jb2xvcjogZmlyZWJyaWNrOyBjb2xvcjogd2hpdGU7Jz48aDQgc3R5bGU9J3RleHQtYWxpZ246Y2VudGVyOyBmb250LXdlaWdodDogYm9sZCc+TGViYW5vbjwvaDQ+PGhyIHN0eWxlPSdtYXJnaW46MTBweDsgY29sb3I6IHdoaXRlOyc+PHVsIHN0eWxlPSdjb2xvcjogd2hpdGU7O2xpc3Qtc3R5bGUtdHlwZTogY2lyY2xlOyBhbGlnbi1pdGVtOiBsZWZ0OyBwYWRkaW5nLWxlZnQ6IDIwcHg7IHBhZGRpbmctcmlnaHQ6MjBweCc+PGxpPlRvdGFsIGNhc2VzOiAzMjYwPC9saT48bGk+RGVhdGhzOiA0MzwvbGk+PGxpPkRlYXRoIHJhdGUgOiAxLjMyJSA8L2xpPjwvdWw+PC9kaXY+CiAgICAgICAgICAgICAgICAgPC9kaXY+YCwKICAgICAgICAgICAgICAgIHsic3RpY2t5IjogdHJ1ZX0KICAgICAgICAgICAgKTsKICAgICAgICAKICAgIAogICAgICAgICAgICB2YXIgY2lyY2xlX2U5ZGJkZmFiYzY1MDQzNDhhODRkODFiMzQ2ZTVkOTUwID0gTC5jaXJjbGUoCiAgICAgICAgICAgICAgICBbNi40MjgwNTUwMDAwMDAwMDA1LCAtOS40Mjk0OTldLAogICAgICAgICAgICAgICAgeyJidWJibGluZ01vdXNlRXZlbnRzIjogdHJ1ZSwgImNvbG9yIjogImNyaW1zb24iLCAiZGFzaEFycmF5IjogbnVsbCwgImRhc2hPZmZzZXQiOiBudWxsLCAiZmlsbCI6IHRydWUsICJmaWxsQ29sb3IiOiAiY3JpbXNvbiIsICJmaWxsT3BhY2l0eSI6IDAuMiwgImZpbGxSdWxlIjogImV2ZW5vZGQiLCAibGluZUNhcCI6ICJyb3VuZCIsICJsaW5lSm9pbiI6ICJyb3VuZCIsICJvcGFjaXR5IjogMS4wLCAicmFkaXVzIjogMzYwMDAwLjAsICJzdHJva2UiOiB0cnVlLCAid2VpZ2h0IjogM30KICAgICAgICAgICAgKS5hZGRUbyhtYXBfNTc1ZmFmMTIxNmNmNGE0YThlZTJhMzI4OTgzMGE5ZjYpOwogICAgICAgIAogICAgCiAgICAgICAgICAgIGNpcmNsZV9lOWRiZGZhYmM2NTA0MzQ4YTg0ZDgxYjM0NmU1ZDk1MC5iaW5kVG9vbHRpcCgKICAgICAgICAgICAgICAgIGA8ZGl2PgogICAgICAgICAgICAgICAgICAgICA8ZGl2IHN0eWxlPSdtYXJnaW46MDsgYmFja2dyb3VuZC1jb2xvcjogZmlyZWJyaWNrOyBjb2xvcjogd2hpdGU7Jz48aDQgc3R5bGU9J3RleHQtYWxpZ246Y2VudGVyOyBmb250LXdlaWdodDogYm9sZCc+TGliZXJpYTwvaDQ+PGhyIHN0eWxlPSdtYXJnaW46MTBweDsgY29sb3I6IHdoaXRlOyc+PHVsIHN0eWxlPSdjb2xvcjogd2hpdGU7O2xpc3Qtc3R5bGUtdHlwZTogY2lyY2xlOyBhbGlnbi1pdGVtOiBsZWZ0OyBwYWRkaW5nLWxlZnQ6IDIwcHg7IHBhZGRpbmctcmlnaHQ6MjBweCc+PGxpPlRvdGFsIGNhc2VzOiAxMTE3PC9saT48bGk+RGVhdGhzOiA3MTwvbGk+PGxpPkRlYXRoIHJhdGUgOiA2LjM1JSA8L2xpPjwvdWw+PC9kaXY+CiAgICAgICAgICAgICAgICAgPC9kaXY+YCwKICAgICAgICAgICAgICAgIHsic3RpY2t5IjogdHJ1ZX0KICAgICAgICAgICAgKTsKICAgICAgICAKICAgIAogICAgICAgICAgICB2YXIgY2lyY2xlXzdjMDJjOGJlMDVhNTQyZDk4OGNhNTc3ZWRiOTRkZmQ3ID0gTC5jaXJjbGUoCiAgICAgICAgICAgICAgICBbNDcuMTQsIDkuNTVdLAogICAgICAgICAgICAgICAgeyJidWJibGluZ01vdXNlRXZlbnRzIjogdHJ1ZSwgImNvbG9yIjogImNyaW1zb24iLCAiZGFzaEFycmF5IjogbnVsbCwgImRhc2hPZmZzZXQiOiBudWxsLCAiZmlsbCI6IHRydWUsICJmaWxsQ29sb3IiOiAiY3JpbXNvbiIsICJmaWxsT3BhY2l0eSI6IDAuMiwgImZpbGxSdWxlIjogImV2ZW5vZGQiLCAibGluZUNhcCI6ICJyb3VuZCIsICJsaW5lSm9pbiI6ICJyb3VuZCIsICJvcGFjaXR5IjogMS4wLCAicmFkaXVzIjogMjEwMDAwLjAsICJzdHJva2UiOiB0cnVlLCAid2VpZ2h0IjogM30KICAgICAgICAgICAgKS5hZGRUbyhtYXBfNTc1ZmFmMTIxNmNmNGE0YThlZTJhMzI4OTgzMGE5ZjYpOwogICAgICAgIAogICAgCiAgICAgICAgICAgIGNpcmNsZV83YzAyYzhiZTA1YTU0MmQ5ODhjYTU3N2VkYjk0ZGZkNy5iaW5kVG9vbHRpcCgKICAgICAgICAgICAgICAgIGA8ZGl2PgogICAgICAgICAgICAgICAgICAgICA8ZGl2IHN0eWxlPSdtYXJnaW46MDsgYmFja2dyb3VuZC1jb2xvcjogZmlyZWJyaWNrOyBjb2xvcjogd2hpdGU7Jz48aDQgc3R5bGU9J3RleHQtYWxpZ246Y2VudGVyOyBmb250LXdlaWdodDogYm9sZCc+TGllY2h0ZW5zdGVpbjwvaDQ+PGhyIHN0eWxlPSdtYXJnaW46MTBweDsgY29sb3I6IHdoaXRlOyc+PHVsIHN0eWxlPSdjb2xvcjogd2hpdGU7O2xpc3Qtc3R5bGUtdHlwZTogY2lyY2xlOyBhbGlnbi1pdGVtOiBsZWZ0OyBwYWRkaW5nLWxlZnQ6IDIwcHg7IHBhZGRpbmctcmlnaHQ6MjBweCc+PGxpPlRvdGFsIGNhc2VzOiA4NjwvbGk+PGxpPkRlYXRoczogMTwvbGk+PGxpPkRlYXRoIHJhdGUgOiAxLjE1JSA8L2xpPjwvdWw+PC9kaXY+CiAgICAgICAgICAgICAgICAgPC9kaXY+YCwKICAgICAgICAgICAgICAgIHsic3RpY2t5IjogdHJ1ZX0KICAgICAgICAgICAgKTsKICAgICAgICAKICAgIAogICAgICAgICAgICB2YXIgY2lyY2xlXzE2Nzk4ZWQyZjc5MzRmZTJiNjU2MmZlZTVlZDYyNTVlID0gTC5jaXJjbGUoCiAgICAgICAgICAgICAgICBbNTUuMTY5NCwgMjMuODgxM10sCiAgICAgICAgICAgICAgICB7ImJ1YmJsaW5nTW91c2VFdmVudHMiOiB0cnVlLCAiY29sb3IiOiAiY3JpbXNvbiIsICJkYXNoQXJyYXkiOiBudWxsLCAiZGFzaE9mZnNldCI6IG51bGwsICJmaWxsIjogdHJ1ZSwgImZpbGxDb2xvciI6ICJjcmltc29uIiwgImZpbGxPcGFjaXR5IjogMC4yLCAiZmlsbFJ1bGUiOiAiZXZlbm9kZCIsICJsaW5lQ2FwIjogInJvdW5kIiwgImxpbmVKb2luIjogInJvdW5kIiwgIm9wYWNpdHkiOiAxLjAsICJyYWRpdXMiOiAzNjAwMDAuMCwgInN0cm9rZSI6IHRydWUsICJ3ZWlnaHQiOiAzfQogICAgICAgICAgICApLmFkZFRvKG1hcF81NzVmYWYxMjE2Y2Y0YTRhOGVlMmEzMjg5ODMwYTlmNik7CiAgICAgICAgCiAgICAKICAgICAgICAgICAgY2lyY2xlXzE2Nzk4ZWQyZjc5MzRmZTJiNjU2MmZlZTVlZDYyNTVlLmJpbmRUb29sdGlwKAogICAgICAgICAgICAgICAgYDxkaXY+CiAgICAgICAgICAgICAgICAgICAgIDxkaXYgc3R5bGU9J21hcmdpbjowOyBiYWNrZ3JvdW5kLWNvbG9yOiBmaXJlYnJpY2s7IGNvbG9yOiB3aGl0ZTsnPjxoNCBzdHlsZT0ndGV4dC1hbGlnbjpjZW50ZXI7IGZvbnQtd2VpZ2h0OiBib2xkJz5MaXRodWFuaWE8L2g0PjxociBzdHlsZT0nbWFyZ2luOjEwcHg7IGNvbG9yOiB3aGl0ZTsnPjx1bCBzdHlsZT0nY29sb3I6IHdoaXRlOztsaXN0LXN0eWxlLXR5cGU6IGNpcmNsZTsgYWxpZ24taXRlbTogbGVmdDsgcGFkZGluZy1sZWZ0OiAyMHB4OyBwYWRkaW5nLXJpZ2h0OjIwcHgnPjxsaT5Ub3RhbCBjYXNlczogMTk2MDwvbGk+PGxpPkRlYXRoczogODA8L2xpPjxsaT5EZWF0aCByYXRlIDogNC4wOCUgPC9saT48L3VsPjwvZGl2PgogICAgICAgICAgICAgICAgIDwvZGl2PmAsCiAgICAgICAgICAgICAgICB7InN0aWNreSI6IHRydWV9CiAgICAgICAgICAgICk7CiAgICAgICAgCiAgICAKICAgICAgICAgICAgdmFyIGNpcmNsZV9mNjRmZmVhM2EzM2U0YzcyOTM2MzI0YjdhMTZhMGViOCA9IEwuY2lyY2xlKAogICAgICAgICAgICAgICAgWzQ5LjgxNTMsIDYuMTI5Nl0sCiAgICAgICAgICAgICAgICB7ImJ1YmJsaW5nTW91c2VFdmVudHMiOiB0cnVlLCAiY29sb3IiOiAiY3JpbXNvbiIsICJkYXNoQXJyYXkiOiBudWxsLCAiZGFzaE9mZnNldCI6IG51bGwsICJmaWxsIjogdHJ1ZSwgImZpbGxDb2xvciI6ICJjcmltc29uIiwgImZpbGxPcGFjaXR5IjogMC4yLCAiZmlsbFJ1bGUiOiAiZXZlbm9kZCIsICJsaW5lQ2FwIjogInJvdW5kIiwgImxpbmVKb2luIjogInJvdW5kIiwgIm9wYWNpdHkiOiAxLjAsICJyYWRpdXMiOiA0MDk5OTkuOTk5OTk5OTk5OTQsICJzdHJva2UiOiB0cnVlLCAid2VpZ2h0IjogM30KICAgICAgICAgICAgKS5hZGRUbyhtYXBfNTc1ZmFmMTIxNmNmNGE0YThlZTJhMzI4OTgzMGE5ZjYpOwogICAgICAgIAogICAgCiAgICAgICAgICAgIGNpcmNsZV9mNjRmZmVhM2EzM2U0YzcyOTM2MzI0YjdhMTZhMGViOC5iaW5kVG9vbHRpcCgKICAgICAgICAgICAgICAgIGA8ZGl2PgogICAgICAgICAgICAgICAgICAgICA8ZGl2IHN0eWxlPSdtYXJnaW46MDsgYmFja2dyb3VuZC1jb2xvcjogZmlyZWJyaWNrOyBjb2xvcjogd2hpdGU7Jz48aDQgc3R5bGU9J3RleHQtYWxpZ246Y2VudGVyOyBmb250LXdlaWdodDogYm9sZCc+THV4ZW1ib3VyZzwvaDQ+PGhyIHN0eWxlPSdtYXJnaW46MTBweDsgY29sb3I6IHdoaXRlOyc+PHVsIHN0eWxlPSdjb2xvcjogd2hpdGU7O2xpc3Qtc3R5bGUtdHlwZTogY2lyY2xlOyBhbGlnbi1pdGVtOiBsZWZ0OyBwYWRkaW5nLWxlZnQ6IDIwcHg7IHBhZGRpbmctcmlnaHQ6MjBweCc+PGxpPlRvdGFsIGNhc2VzOiA1OTUyPC9saT48bGk+RGVhdGhzOiAxMTI8L2xpPjxsaT5EZWF0aCByYXRlIDogMS44OCUgPC9saT48L3VsPjwvZGl2PgogICAgICAgICAgICAgICAgIDwvZGl2PmAsCiAgICAgICAgICAgICAgICB7InN0aWNreSI6IHRydWV9CiAgICAgICAgICAgICk7CiAgICAgICAgCiAgICAKICAgICAgICAgICAgdmFyIGNpcmNsZV8yMmUxMjJhNjBkNTA0N2U2YjY2ZjM0OTEwMmI3YzRhOSA9IEwuY2lyY2xlKAogICAgICAgICAgICAgICAgWy0xOC43NjY5NDcwMDAwMDAwMDIsIDQ2Ljg2OTEwN10sCiAgICAgICAgICAgICAgICB7ImJ1YmJsaW5nTW91c2VFdmVudHMiOiB0cnVlLCAiY29sb3IiOiAiY3JpbXNvbiIsICJkYXNoQXJyYXkiOiBudWxsLCAiZGFzaE9mZnNldCI6IG51bGwsICJmaWxsIjogdHJ1ZSwgImZpbGxDb2xvciI6ICJjcmltc29uIiwgImZpbGxPcGFjaXR5IjogMC4yLCAiZmlsbFJ1bGUiOiAiZXZlbm9kZCIsICJsaW5lQ2FwIjogInJvdW5kIiwgImxpbmVKb2luIjogInJvdW5kIiwgIm9wYWNpdHkiOiAxLjAsICJyYWRpdXMiOiA0NTk5OTkuOTk5OTk5OTk5OTQsICJzdHJva2UiOiB0cnVlLCAid2VpZ2h0IjogM30KICAgICAgICAgICAgKS5hZGRUbyhtYXBfNTc1ZmFmMTIxNmNmNGE0YThlZTJhMzI4OTgzMGE5ZjYpOwogICAgICAgIAogICAgCiAgICAgICAgICAgIGNpcmNsZV8yMmUxMjJhNjBkNTA0N2U2YjY2ZjM0OTEwMmI3YzRhOS5iaW5kVG9vbHRpcCgKICAgICAgICAgICAgICAgIGA8ZGl2PgogICAgICAgICAgICAgICAgICAgICA8ZGl2IHN0eWxlPSdtYXJnaW46MDsgYmFja2dyb3VuZC1jb2xvcjogZmlyZWJyaWNrOyBjb2xvcjogd2hpdGU7Jz48aDQgc3R5bGU9J3RleHQtYWxpZ246Y2VudGVyOyBmb250LXdlaWdodDogYm9sZCc+TWFkYWdhc2NhcjwvaDQ+PGhyIHN0eWxlPSdtYXJnaW46MTBweDsgY29sb3I6IHdoaXRlOyc+PHVsIHN0eWxlPSdjb2xvcjogd2hpdGU7O2xpc3Qtc3R5bGUtdHlwZTogY2lyY2xlOyBhbGlnbi1pdGVtOiBsZWZ0OyBwYWRkaW5nLWxlZnQ6IDIwcHg7IHBhZGRpbmctcmlnaHQ6MjBweCc+PGxpPlRvdGFsIGNhc2VzOiA4MzgxPC9saT48bGk+RGVhdGhzOiA3MDwvbGk+PGxpPkRlYXRoIHJhdGUgOiAwLjg0JSA8L2xpPjwvdWw+PC9kaXY+CiAgICAgICAgICAgICAgICAgPC9kaXY+YCwKICAgICAgICAgICAgICAgIHsic3RpY2t5IjogdHJ1ZX0KICAgICAgICAgICAgKTsKICAgICAgICAKICAgIAogICAgICAgICAgICB2YXIgY2lyY2xlXzgzM2MzOTk0NWQyNTQ3OWJiYzJlZjUyOWE2Njc3NWY2ID0gTC5jaXJjbGUoCiAgICAgICAgICAgICAgICBbNC4yMTA0ODM5OTk5OTk5OTksIDEwMS45NzU3NjYwMDAwMDAwMV0sCiAgICAgICAgICAgICAgICB7ImJ1YmJsaW5nTW91c2VFdmVudHMiOiB0cnVlLCAiY29sb3IiOiAiY3JpbXNvbiIsICJkYXNoQXJyYXkiOiBudWxsLCAiZGFzaE9mZnNldCI6IG51bGwsICJmaWxsIjogdHJ1ZSwgImZpbGxDb2xvciI6ICJjcmltc29uIiwgImZpbGxPcGFjaXR5IjogMC4yLCAiZmlsbFJ1bGUiOiAiZXZlbm9kZCIsICJsaW5lQ2FwIjogInJvdW5kIiwgImxpbmVKb2luIjogInJvdW5kIiwgIm9wYWNpdHkiOiAxLjAsICJyYWRpdXMiOiA0NTk5OTkuOTk5OTk5OTk5OTQsICJzdHJva2UiOiB0cnVlLCAid2VpZ2h0IjogM30KICAgICAgICAgICAgKS5hZGRUbyhtYXBfNTc1ZmFmMTIxNmNmNGE0YThlZTJhMzI4OTgzMGE5ZjYpOwogICAgICAgIAogICAgCiAgICAgICAgICAgIGNpcmNsZV84MzNjMzk5NDVkMjU0NzliYmMyZWY1MjlhNjY3NzVmNi5iaW5kVG9vbHRpcCgKICAgICAgICAgICAgICAgIGA8ZGl2PgogICAgICAgICAgICAgICAgICAgICA8ZGl2IHN0eWxlPSdtYXJnaW46MDsgYmFja2dyb3VuZC1jb2xvcjogZmlyZWJyaWNrOyBjb2xvcjogd2hpdGU7Jz48aDQgc3R5bGU9J3RleHQtYWxpZ246Y2VudGVyOyBmb250LXdlaWdodDogYm9sZCc+TWFsYXlzaWE8L2g0PjxociBzdHlsZT0nbWFyZ2luOjEwcHg7IGNvbG9yOiB3aGl0ZTsnPjx1bCBzdHlsZT0nY29sb3I6IHdoaXRlOztsaXN0LXN0eWxlLXR5cGU6IGNpcmNsZTsgYWxpZ24taXRlbTogbGVmdDsgcGFkZGluZy1sZWZ0OiAyMHB4OyBwYWRkaW5nLXJpZ2h0OjIwcHgnPjxsaT5Ub3RhbCBjYXNlczogODg0MDwvbGk+PGxpPkRlYXRoczogMTIzPC9saT48bGk+RGVhdGggcmF0ZSA6IDEuMzklIDwvbGk+PC91bD48L2Rpdj4KICAgICAgICAgICAgICAgICA8L2Rpdj5gLAogICAgICAgICAgICAgICAgeyJzdGlja3kiOiB0cnVlfQogICAgICAgICAgICApOwogICAgICAgIAogICAgCiAgICAgICAgICAgIHZhciBjaXJjbGVfM2YyZmI2NTQyMzBhNDlhOThhNzdkOGMxMTg3YWQxOTEgPSBMLmNpcmNsZSgKICAgICAgICAgICAgICAgIFszLjIwMjgsIDczLjIyMDddLAogICAgICAgICAgICAgICAgeyJidWJibGluZ01vdXNlRXZlbnRzIjogdHJ1ZSwgImNvbG9yIjogImNyaW1zb24iLCAiZGFzaEFycmF5IjogbnVsbCwgImRhc2hPZmZzZXQiOiBudWxsLCAiZmlsbCI6IHRydWUsICJmaWxsQ29sb3IiOiAiY3JpbXNvbiIsICJmaWxsT3BhY2l0eSI6IDAuMiwgImZpbGxSdWxlIjogImV2ZW5vZGQiLCAibGluZUNhcCI6ICJyb3VuZCIsICJsaW5lSm9pbiI6ICJyb3VuZCIsICJvcGFjaXR5IjogMS4wLCAicmFkaXVzIjogNDA5OTk5Ljk5OTk5OTk5OTk0LCAic3Ryb2tlIjogdHJ1ZSwgIndlaWdodCI6IDN9CiAgICAgICAgICAgICkuYWRkVG8obWFwXzU3NWZhZjEyMTZjZjRhNGE4ZWUyYTMyODk4MzBhOWY2KTsKICAgICAgICAKICAgIAogICAgICAgICAgICBjaXJjbGVfM2YyZmI2NTQyMzBhNDlhOThhNzdkOGMxMTg3YWQxOTEuYmluZFRvb2x0aXAoCiAgICAgICAgICAgICAgICBgPGRpdj4KICAgICAgICAgICAgICAgICAgICAgPGRpdiBzdHlsZT0nbWFyZ2luOjA7IGJhY2tncm91bmQtY29sb3I6IGZpcmVicmljazsgY29sb3I6IHdoaXRlOyc+PGg0IHN0eWxlPSd0ZXh0LWFsaWduOmNlbnRlcjsgZm9udC13ZWlnaHQ6IGJvbGQnPk1hbGRpdmVzPC9oND48aHIgc3R5bGU9J21hcmdpbjoxMHB4OyBjb2xvcjogd2hpdGU7Jz48dWwgc3R5bGU9J2NvbG9yOiB3aGl0ZTs7bGlzdC1zdHlsZS10eXBlOiBjaXJjbGU7IGFsaWduLWl0ZW06IGxlZnQ7IHBhZGRpbmctbGVmdDogMjBweDsgcGFkZGluZy1yaWdodDoyMHB4Jz48bGk+VG90YWwgY2FzZXM6IDMxMjA8L2xpPjxsaT5EZWF0aHM6IDE1PC9saT48bGk+RGVhdGggcmF0ZSA6IDAuNDglIDwvbGk+PC91bD48L2Rpdj4KICAgICAgICAgICAgICAgICA8L2Rpdj5gLAogICAgICAgICAgICAgICAgeyJzdGlja3kiOiB0cnVlfQogICAgICAgICAgICApOwogICAgICAgIAogICAgCiAgICAgICAgICAgIHZhciBjaXJjbGVfNzcwNzZjYTQ4YTNiNDZiMTk4ZWE5YTZlY2QyOWIyZGUgPSBMLmNpcmNsZSgKICAgICAgICAgICAgICAgIFszNS45Mzc1LCAxNC4zNzU0XSwKICAgICAgICAgICAgICAgIHsiYnViYmxpbmdNb3VzZUV2ZW50cyI6IHRydWUsICJjb2xvciI6ICJjcmltc29uIiwgImRhc2hBcnJheSI6IG51bGwsICJkYXNoT2Zmc2V0IjogbnVsbCwgImZpbGwiOiB0cnVlLCAiZmlsbENvbG9yIjogImNyaW1zb24iLCAiZmlsbE9wYWNpdHkiOiAwLjIsICJmaWxsUnVsZSI6ICJldmVub2RkIiwgImxpbmVDYXAiOiAicm91bmQiLCAibGluZUpvaW4iOiAicm91bmQiLCAib3BhY2l0eSI6IDEuMCwgInJhZGl1cyI6IDMxMDAwMC4wLCAic3Ryb2tlIjogdHJ1ZSwgIndlaWdodCI6IDN9CiAgICAgICAgICAgICkuYWRkVG8obWFwXzU3NWZhZjEyMTZjZjRhNGE4ZWUyYTMyODk4MzBhOWY2KTsKICAgICAgICAKICAgIAogICAgICAgICAgICBjaXJjbGVfNzcwNzZjYTQ4YTNiNDZiMTk4ZWE5YTZlY2QyOWIyZGUuYmluZFRvb2x0aXAoCiAgICAgICAgICAgICAgICBgPGRpdj4KICAgICAgICAgICAgICAgICAgICAgPGRpdiBzdHlsZT0nbWFyZ2luOjA7IGJhY2tncm91bmQtY29sb3I6IGZpcmVicmljazsgY29sb3I6IHdoaXRlOyc+PGg0IHN0eWxlPSd0ZXh0LWFsaWduOmNlbnRlcjsgZm9udC13ZWlnaHQ6IGJvbGQnPk1hbHRhPC9oND48aHIgc3R5bGU9J21hcmdpbjoxMHB4OyBjb2xvcjogd2hpdGU7Jz48dWwgc3R5bGU9J2NvbG9yOiB3aGl0ZTs7bGlzdC1zdHlsZS10eXBlOiBjaXJjbGU7IGFsaWduLWl0ZW06IGxlZnQ7IHBhZGRpbmctbGVmdDogMjBweDsgcGFkZGluZy1yaWdodDoyMHB4Jz48bGk+VG90YWwgY2FzZXM6IDY4MDwvbGk+PGxpPkRlYXRoczogOTwvbGk+PGxpPkRlYXRoIHJhdGUgOiAxLjMyJSA8L2xpPjwvdWw+PC9kaXY+CiAgICAgICAgICAgICAgICAgPC9kaXY+YCwKICAgICAgICAgICAgICAgIHsic3RpY2t5IjogdHJ1ZX0KICAgICAgICAgICAgKTsKICAgICAgICAKICAgIAogICAgICAgICAgICB2YXIgY2lyY2xlXzYyYTA2MDhmYmZmZTQ3MTRiYjhhNTllNTBlNjZjMmIyID0gTC5jaXJjbGUoCiAgICAgICAgICAgICAgICBbMjEuMDA3OSwgLTEwLjk0MDhdLAogICAgICAgICAgICAgICAgeyJidWJibGluZ01vdXNlRXZlbnRzIjogdHJ1ZSwgImNvbG9yIjogImNyaW1zb24iLCAiZGFzaEFycmF5IjogbnVsbCwgImRhc2hPZmZzZXQiOiBudWxsLCAiZmlsbCI6IHRydWUsICJmaWxsQ29sb3IiOiAiY3JpbXNvbiIsICJmaWxsT3BhY2l0eSI6IDAuMiwgImZpbGxSdWxlIjogImV2ZW5vZGQiLCAibGluZUNhcCI6ICJyb3VuZCIsICJsaW5lSm9pbiI6ICJyb3VuZCIsICJvcGFjaXR5IjogMS4wLCAicmFkaXVzIjogNDA5OTk5Ljk5OTk5OTk5OTk0LCAic3Ryb2tlIjogdHJ1ZSwgIndlaWdodCI6IDN9CiAgICAgICAgICAgICkuYWRkVG8obWFwXzU3NWZhZjEyMTZjZjRhNGE4ZWUyYTMyODk4MzBhOWY2KTsKICAgICAgICAKICAgIAogICAgICAgICAgICBjaXJjbGVfNjJhMDYwOGZiZmZlNDcxNGJiOGE1OWU1MGU2NmMyYjIuYmluZFRvb2x0aXAoCiAgICAgICAgICAgICAgICBgPGRpdj4KICAgICAgICAgICAgICAgICAgICAgPGRpdiBzdHlsZT0nbWFyZ2luOjA7IGJhY2tncm91bmQtY29sb3I6IGZpcmVicmljazsgY29sb3I6IHdoaXRlOyc+PGg0IHN0eWxlPSd0ZXh0LWFsaWduOmNlbnRlcjsgZm9udC13ZWlnaHQ6IGJvbGQnPk1hdXJpdGFuaWE8L2g0PjxociBzdHlsZT0nbWFyZ2luOjEwcHg7IGNvbG9yOiB3aGl0ZTsnPjx1bCBzdHlsZT0nY29sb3I6IHdoaXRlOztsaXN0LXN0eWxlLXR5cGU6IGNpcmNsZTsgYWxpZ24taXRlbTogbGVmdDsgcGFkZGluZy1sZWZ0OiAyMHB4OyBwYWRkaW5nLXJpZ2h0OjIwcHgnPjxsaT5Ub3RhbCBjYXNlczogNjA2NzwvbGk+PGxpPkRlYXRoczogMTU2PC9saT48bGk+RGVhdGggcmF0ZSA6IDIuNTclIDwvbGk+PC91bD48L2Rpdj4KICAgICAgICAgICAgICAgICA8L2Rpdj5gLAogICAgICAgICAgICAgICAgeyJzdGlja3kiOiB0cnVlfQogICAgICAgICAgICApOwogICAgICAgIAogICAgCiAgICAgICAgICAgIHZhciBjaXJjbGVfNzU2ZTMzY2ZjNjM0NGEzNWEyZTk5MDI4ZDYwOWFkNzcgPSBMLmNpcmNsZSgKICAgICAgICAgICAgICAgIFstMjAuMzQ4NDA0MDAwMDAwMDAyLCA1Ny41NTIxNTJdLAogICAgICAgICAgICAgICAgeyJidWJibGluZ01vdXNlRXZlbnRzIjogdHJ1ZSwgImNvbG9yIjogImNyaW1zb24iLCAiZGFzaEFycmF5IjogbnVsbCwgImRhc2hPZmZzZXQiOiBudWxsLCAiZmlsbCI6IHRydWUsICJmaWxsQ29sb3IiOiAiY3JpbXNvbiIsICJmaWxsT3BhY2l0eSI6IDAuMiwgImZpbGxSdWxlIjogImV2ZW5vZGQiLCAibGluZUNhcCI6ICJyb3VuZCIsICJsaW5lSm9pbiI6ICJyb3VuZCIsICJvcGFjaXR5IjogMS4wLCAicmFkaXVzIjogMjYwMDAwLjAsICJzdHJva2UiOiB0cnVlLCAid2VpZ2h0IjogM30KICAgICAgICAgICAgKS5hZGRUbyhtYXBfNTc1ZmFmMTIxNmNmNGE0YThlZTJhMzI4OTgzMGE5ZjYpOwogICAgICAgIAogICAgCiAgICAgICAgICAgIGNpcmNsZV83NTZlMzNjZmM2MzQ0YTM1YTJlOTkwMjhkNjA5YWQ3Ny5iaW5kVG9vbHRpcCgKICAgICAgICAgICAgICAgIGA8ZGl2PgogICAgICAgICAgICAgICAgICAgICA8ZGl2IHN0eWxlPSdtYXJnaW46MDsgYmFja2dyb3VuZC1jb2xvcjogZmlyZWJyaWNrOyBjb2xvcjogd2hpdGU7Jz48aDQgc3R5bGU9J3RleHQtYWxpZ246Y2VudGVyOyBmb250LXdlaWdodDogYm9sZCc+TWF1cml0aXVzPC9oND48aHIgc3R5bGU9J21hcmdpbjoxMHB4OyBjb2xvcjogd2hpdGU7Jz48dWwgc3R5bGU9J2NvbG9yOiB3aGl0ZTs7bGlzdC1zdHlsZS10eXBlOiBjaXJjbGU7IGFsaWduLWl0ZW06IGxlZnQ7IHBhZGRpbmctbGVmdDogMjBweDsgcGFkZGluZy1yaWdodDoyMHB4Jz48bGk+VG90YWwgY2FzZXM6IDM0MzwvbGk+PGxpPkRlYXRoczogMTA8L2xpPjxsaT5EZWF0aCByYXRlIDogMi45MSUgPC9saT48L3VsPjwvZGl2PgogICAgICAgICAgICAgICAgIDwvZGl2PmAsCiAgICAgICAgICAgICAgICB7InN0aWNreSI6IHRydWV9CiAgICAgICAgICAgICk7CiAgICAgICAgCiAgICAKICAgICAgICAgICAgdmFyIGNpcmNsZV82NjUwNGUzNDRiM2I0ZWQ5YmQzOTg3YjEyNmJlMDZmMCA9IEwuY2lyY2xlKAogICAgICAgICAgICAgICAgWzIzLjYzNDUsIC0xMDIuNTUyOF0sCiAgICAgICAgICAgICAgICB7ImJ1YmJsaW5nTW91c2VFdmVudHMiOiB0cnVlLCAiY29sb3IiOiAiY3JpbXNvbiIsICJkYXNoQXJyYXkiOiBudWxsLCAiZGFzaE9mZnNldCI6IG51bGwsICJmaWxsIjogdHJ1ZSwgImZpbGxDb2xvciI6ICJjcmltc29uIiwgImZpbGxPcGFjaXR5IjogMC4yLCAiZmlsbFJ1bGUiOiAiZXZlbm9kZCIsICJsaW5lQ2FwIjogInJvdW5kIiwgImxpbmVKb2luIjogInJvdW5kIiwgIm9wYWNpdHkiOiAxLjAsICJyYWRpdXMiOiA2MTAwMDAuMCwgInN0cm9rZSI6IHRydWUsICJ3ZWlnaHQiOiAzfQogICAgICAgICAgICApLmFkZFRvKG1hcF81NzVmYWYxMjE2Y2Y0YTRhOGVlMmEzMjg5ODMwYTlmNik7CiAgICAgICAgCiAgICAKICAgICAgICAgICAgY2lyY2xlXzY2NTA0ZTM0NGIzYjRlZDliZDM5ODdiMTI2YmUwNmYwLmJpbmRUb29sdGlwKAogICAgICAgICAgICAgICAgYDxkaXY+CiAgICAgICAgICAgICAgICAgICAgIDxkaXYgc3R5bGU9J21hcmdpbjowOyBiYWNrZ3JvdW5kLWNvbG9yOiBmaXJlYnJpY2s7IGNvbG9yOiB3aGl0ZTsnPjxoNCBzdHlsZT0ndGV4dC1hbGlnbjpjZW50ZXI7IGZvbnQtd2VpZ2h0OiBib2xkJz5NZXhpY288L2g0PjxociBzdHlsZT0nbWFyZ2luOjEwcHg7IGNvbG9yOiB3aGl0ZTsnPjx1bCBzdHlsZT0nY29sb3I6IHdoaXRlOztsaXN0LXN0eWxlLXR5cGU6IGNpcmNsZTsgYWxpZ24taXRlbTogbGVmdDsgcGFkZGluZy1sZWZ0OiAyMHB4OyBwYWRkaW5nLXJpZ2h0OjIwcHgnPjxsaT5Ub3RhbCBjYXNlczogMzcwNzEyPC9saT48bGk+RGVhdGhzOiA0MTkwODwvbGk+PGxpPkRlYXRoIHJhdGUgOiAxMS4zJSA8L2xpPjwvdWw+PC9kaXY+CiAgICAgICAgICAgICAgICAgPC9kaXY+YCwKICAgICAgICAgICAgICAgIHsic3RpY2t5IjogdHJ1ZX0KICAgICAgICAgICAgKTsKICAgICAgICAKICAgIAogICAgICAgICAgICB2YXIgY2lyY2xlXzdjMTdjMjYxZjI5YzRjZTQ4OGM3YTM3YWM4Nzc3MzdjID0gTC5jaXJjbGUoCiAgICAgICAgICAgICAgICBbNDcuNDExNiwgMjguMzY5OV0sCiAgICAgICAgICAgICAgICB7ImJ1YmJsaW5nTW91c2VFdmVudHMiOiB0cnVlLCAiY29sb3IiOiAiY3JpbXNvbiIsICJkYXNoQXJyYXkiOiBudWxsLCAiZGFzaE9mZnNldCI6IG51bGwsICJmaWxsIjogdHJ1ZSwgImZpbGxDb2xvciI6ICJjcmltc29uIiwgImZpbGxPcGFjaXR5IjogMC4yLCAiZmlsbFJ1bGUiOiAiZXZlbm9kZCIsICJsaW5lQ2FwIjogInJvdW5kIiwgImxpbmVKb2luIjogInJvdW5kIiwgIm9wYWNpdHkiOiAxLjAsICJyYWRpdXMiOiA1MDk5OTkuOTk5OTk5OTk5OTQsICJzdHJva2UiOiB0cnVlLCAid2VpZ2h0IjogM30KICAgICAgICAgICAgKS5hZGRUbyhtYXBfNTc1ZmFmMTIxNmNmNGE0YThlZTJhMzI4OTgzMGE5ZjYpOwogICAgICAgIAogICAgCiAgICAgICAgICAgIGNpcmNsZV83YzE3YzI2MWYyOWM0Y2U0ODhjN2EzN2FjODc3NzM3Yy5iaW5kVG9vbHRpcCgKICAgICAgICAgICAgICAgIGA8ZGl2PgogICAgICAgICAgICAgICAgICAgICA8ZGl2IHN0eWxlPSdtYXJnaW46MDsgYmFja2dyb3VuZC1jb2xvcjogZmlyZWJyaWNrOyBjb2xvcjogd2hpdGU7Jz48aDQgc3R5bGU9J3RleHQtYWxpZ246Y2VudGVyOyBmb250LXdlaWdodDogYm9sZCc+TW9sZG92YTwvaDQ+PGhyIHN0eWxlPSdtYXJnaW46MTBweDsgY29sb3I6IHdoaXRlOyc+PHVsIHN0eWxlPSdjb2xvcjogd2hpdGU7O2xpc3Qtc3R5bGUtdHlwZTogY2lyY2xlOyBhbGlnbi1pdGVtOiBsZWZ0OyBwYWRkaW5nLWxlZnQ6IDIwcHg7IHBhZGRpbmctcmlnaHQ6MjBweCc+PGxpPlRvdGFsIGNhc2VzOiAyMjEwNTwvbGk+PGxpPkRlYXRoczogNzE5PC9saT48bGk+RGVhdGggcmF0ZSA6IDMuMjUlIDwvbGk+PC91bD48L2Rpdj4KICAgICAgICAgICAgICAgICA8L2Rpdj5gLAogICAgICAgICAgICAgICAgeyJzdGlja3kiOiB0cnVlfQogICAgICAgICAgICApOwogICAgICAgIAogICAgCiAgICAgICAgICAgIHZhciBjaXJjbGVfMmJmMTE1YjcwM2IzNDM3NWJlYWY0MTgyYmU4ZjZmNjYgPSBMLmNpcmNsZSgKICAgICAgICAgICAgICAgIFs0My43MzMzLCA3LjQxNjddLAogICAgICAgICAgICAgICAgeyJidWJibGluZ01vdXNlRXZlbnRzIjogdHJ1ZSwgImNvbG9yIjogImNyaW1zb24iLCAiZGFzaEFycmF5IjogbnVsbCwgImRhc2hPZmZzZXQiOiBudWxsLCAiZmlsbCI6IHRydWUsICJmaWxsQ29sb3IiOiAiY3JpbXNvbiIsICJmaWxsT3BhY2l0eSI6IDAuMiwgImZpbGxSdWxlIjogImV2ZW5vZGQiLCAibGluZUNhcCI6ICJyb3VuZCIsICJsaW5lSm9pbiI6ICJyb3VuZCIsICJvcGFjaXR5IjogMS4wLCAicmFkaXVzIjogMjEwMDAwLjAsICJzdHJva2UiOiB0cnVlLCAid2VpZ2h0IjogM30KICAgICAgICAgICAgKS5hZGRUbyhtYXBfNTc1ZmFmMTIxNmNmNGE0YThlZTJhMzI4OTgzMGE5ZjYpOwogICAgICAgIAogICAgCiAgICAgICAgICAgIGNpcmNsZV8yYmYxMTViNzAzYjM0Mzc1YmVhZjQxODJiZThmNmY2Ni5iaW5kVG9vbHRpcCgKICAgICAgICAgICAgICAgIGA8ZGl2PgogICAgICAgICAgICAgICAgICAgICA8ZGl2IHN0eWxlPSdtYXJnaW46MDsgYmFja2dyb3VuZC1jb2xvcjogZmlyZWJyaWNrOyBjb2xvcjogd2hpdGU7Jz48aDQgc3R5bGU9J3RleHQtYWxpZ246Y2VudGVyOyBmb250LXdlaWdodDogYm9sZCc+TW9uYWNvPC9oND48aHIgc3R5bGU9J21hcmdpbjoxMHB4OyBjb2xvcjogd2hpdGU7Jz48dWwgc3R5bGU9J2NvbG9yOiB3aGl0ZTs7bGlzdC1zdHlsZS10eXBlOiBjaXJjbGU7IGFsaWduLWl0ZW06IGxlZnQ7IHBhZGRpbmctbGVmdDogMjBweDsgcGFkZGluZy1yaWdodDoyMHB4Jz48bGk+VG90YWwgY2FzZXM6IDExNDwvbGk+PGxpPkRlYXRoczogNDwvbGk+PGxpPkRlYXRoIHJhdGUgOiAzLjQ4JSA8L2xpPjwvdWw+PC9kaXY+CiAgICAgICAgICAgICAgICAgPC9kaXY+YCwKICAgICAgICAgICAgICAgIHsic3RpY2t5IjogdHJ1ZX0KICAgICAgICAgICAgKTsKICAgICAgICAKICAgIAogICAgICAgICAgICB2YXIgY2lyY2xlX2QzNDNmMDc2MWVlZjQ3YWM5Njk1ZTU4MjQ3YzIzZjIzID0gTC5jaXJjbGUoCiAgICAgICAgICAgICAgICBbNDYuODYyNSwgMTAzLjg0NjddLAogICAgICAgICAgICAgICAgeyJidWJibGluZ01vdXNlRXZlbnRzIjogdHJ1ZSwgImNvbG9yIjogImNyaW1zb24iLCAiZGFzaEFycmF5IjogbnVsbCwgImRhc2hPZmZzZXQiOiBudWxsLCAiZmlsbCI6IHRydWUsICJmaWxsQ29sb3IiOiAiY3JpbXNvbiIsICJmaWxsT3BhY2l0eSI6IDAuMiwgImZpbGxSdWxlIjogImV2ZW5vZGQiLCAibGluZUNhcCI6ICJyb3VuZCIsICJsaW5lSm9pbiI6ICJyb3VuZCIsICJvcGFjaXR5IjogMS4wLCAicmFkaXVzIjogMjYwMDAwLjAsICJzdHJva2UiOiB0cnVlLCAid2VpZ2h0IjogM30KICAgICAgICAgICAgKS5hZGRUbyhtYXBfNTc1ZmFmMTIxNmNmNGE0YThlZTJhMzI4OTgzMGE5ZjYpOwogICAgICAgIAogICAgCiAgICAgICAgICAgIGNpcmNsZV9kMzQzZjA3NjFlZWY0N2FjOTY5NWU1ODI0N2MyM2YyMy5iaW5kVG9vbHRpcCgKICAgICAgICAgICAgICAgIGA8ZGl2PgogICAgICAgICAgICAgICAgICAgICA8ZGl2IHN0eWxlPSdtYXJnaW46MDsgYmFja2dyb3VuZC1jb2xvcjogZmlyZWJyaWNrOyBjb2xvcjogd2hpdGU7Jz48aDQgc3R5bGU9J3RleHQtYWxpZ246Y2VudGVyOyBmb250LXdlaWdodDogYm9sZCc+TW9uZ29saWE8L2g0PjxociBzdHlsZT0nbWFyZ2luOjEwcHg7IGNvbG9yOiB3aGl0ZTsnPjx1bCBzdHlsZT0nY29sb3I6IHdoaXRlOztsaXN0LXN0eWxlLXR5cGU6IGNpcmNsZTsgYWxpZ24taXRlbTogbGVmdDsgcGFkZGluZy1sZWZ0OiAyMHB4OyBwYWRkaW5nLXJpZ2h0OjIwcHgnPjxsaT5Ub3RhbCBjYXNlczogMjg4PC9saT48bGk+RGVhdGhzOiAwPC9saT48bGk+RGVhdGggcmF0ZSA6IDAuMCUgPC9saT48L3VsPjwvZGl2PgogICAgICAgICAgICAgICAgIDwvZGl2PmAsCiAgICAgICAgICAgICAgICB7InN0aWNreSI6IHRydWV9CiAgICAgICAgICAgICk7CiAgICAgICAgCiAgICAKICAgICAgICAgICAgdmFyIGNpcmNsZV8xM2EwZGRjMWRlMjk0MGM1OTdlM2NmZDYwOGUzZjgwZCA9IEwuY2lyY2xlKAogICAgICAgICAgICAgICAgWzQyLjcwODY3ODAwMDAwMDAwNiwgMTkuMzc0MzldLAogICAgICAgICAgICAgICAgeyJidWJibGluZ01vdXNlRXZlbnRzIjogdHJ1ZSwgImNvbG9yIjogImNyaW1zb24iLCAiZGFzaEFycmF5IjogbnVsbCwgImRhc2hPZmZzZXQiOiBudWxsLCAiZmlsbCI6IHRydWUsICJmaWxsQ29sb3IiOiAiY3JpbXNvbiIsICJmaWxsT3BhY2l0eSI6IDAuMiwgImZpbGxSdWxlIjogImV2ZW5vZGQiLCAibGluZUNhcCI6ICJyb3VuZCIsICJsaW5lSm9pbiI6ICJyb3VuZCIsICJvcGFjaXR5IjogMS4wLCAicmFkaXVzIjogMzYwMDAwLjAsICJzdHJva2UiOiB0cnVlLCAid2VpZ2h0IjogM30KICAgICAgICAgICAgKS5hZGRUbyhtYXBfNTc1ZmFmMTIxNmNmNGE0YThlZTJhMzI4OTgzMGE5ZjYpOwogICAgICAgIAogICAgCiAgICAgICAgICAgIGNpcmNsZV8xM2EwZGRjMWRlMjk0MGM1OTdlM2NmZDYwOGUzZjgwZC5iaW5kVG9vbHRpcCgKICAgICAgICAgICAgICAgIGA8ZGl2PgogICAgICAgICAgICAgICAgICAgICA8ZGl2IHN0eWxlPSdtYXJnaW46MDsgYmFja2dyb3VuZC1jb2xvcjogZmlyZWJyaWNrOyBjb2xvcjogd2hpdGU7Jz48aDQgc3R5bGU9J3RleHQtYWxpZ246Y2VudGVyOyBmb250LXdlaWdodDogYm9sZCc+TW9udGVuZWdybzwvaDQ+PGhyIHN0eWxlPSdtYXJnaW46MTBweDsgY29sb3I6IHdoaXRlOyc+PHVsIHN0eWxlPSdjb2xvcjogd2hpdGU7O2xpc3Qtc3R5bGUtdHlwZTogY2lyY2xlOyBhbGlnbi1pdGVtOiBsZWZ0OyBwYWRkaW5nLWxlZnQ6IDIwcHg7IHBhZGRpbmctcmlnaHQ6MjBweCc+PGxpPlRvdGFsIGNhc2VzOiAyNTY5PC9saT48bGk+RGVhdGhzOiA0MDwvbGk+PGxpPkRlYXRoIHJhdGUgOiAxLjU2JSA8L2xpPjwvdWw+PC9kaXY+CiAgICAgICAgICAgICAgICAgPC9kaXY+YCwKICAgICAgICAgICAgICAgIHsic3RpY2t5IjogdHJ1ZX0KICAgICAgICAgICAgKTsKICAgICAgICAKICAgIAogICAgICAgICAgICB2YXIgY2lyY2xlX2JmYzU1OWU1NmM3ZTRjMzE4OWY3YzUxM2QxYTcxZjVkID0gTC5jaXJjbGUoCiAgICAgICAgICAgICAgICBbMzEuNzkxNywgLTcuMDkyNl0sCiAgICAgICAgICAgICAgICB7ImJ1YmJsaW5nTW91c2VFdmVudHMiOiB0cnVlLCAiY29sb3IiOiAiY3JpbXNvbiIsICJkYXNoQXJyYXkiOiBudWxsLCAiZGFzaE9mZnNldCI6IG51bGwsICJmaWxsIjogdHJ1ZSwgImZpbGxDb2xvciI6ICJjcmltc29uIiwgImZpbGxPcGFjaXR5IjogMC4yLCAiZmlsbFJ1bGUiOiAiZXZlbm9kZCIsICJsaW5lQ2FwIjogInJvdW5kIiwgImxpbmVKb2luIjogInJvdW5kIiwgIm9wYWNpdHkiOiAxLjAsICJyYWRpdXMiOiA0NTk5OTkuOTk5OTk5OTk5OTQsICJzdHJva2UiOiB0cnVlLCAid2VpZ2h0IjogM30KICAgICAgICAgICAgKS5hZGRUbyhtYXBfNTc1ZmFmMTIxNmNmNGE0YThlZTJhMzI4OTgzMGE5ZjYpOwogICAgICAgIAogICAgCiAgICAgICAgICAgIGNpcmNsZV9iZmM1NTllNTZjN2U0YzMxODlmN2M1MTNkMWE3MWY1ZC5iaW5kVG9vbHRpcCgKICAgICAgICAgICAgICAgIGA8ZGl2PgogICAgICAgICAgICAgICAgICAgICA8ZGl2IHN0eWxlPSdtYXJnaW46MDsgYmFja2dyb3VuZC1jb2xvcjogZmlyZWJyaWNrOyBjb2xvcjogd2hpdGU7Jz48aDQgc3R5bGU9J3RleHQtYWxpZ246Y2VudGVyOyBmb250LXdlaWdodDogYm9sZCc+TW9yb2NjbzwvaDQ+PGhyIHN0eWxlPSdtYXJnaW46MTBweDsgY29sb3I6IHdoaXRlOyc+PHVsIHN0eWxlPSdjb2xvcjogd2hpdGU7O2xpc3Qtc3R5bGUtdHlwZTogY2lyY2xlOyBhbGlnbi1pdGVtOiBsZWZ0OyBwYWRkaW5nLWxlZnQ6IDIwcHg7IHBhZGRpbmctcmlnaHQ6MjBweCc+PGxpPlRvdGFsIGNhc2VzOiAxODI2NDwvbGk+PGxpPkRlYXRoczogMjkyPC9saT48bGk+RGVhdGggcmF0ZSA6IDEuNiUgPC9saT48L3VsPjwvZGl2PgogICAgICAgICAgICAgICAgIDwvZGl2PmAsCiAgICAgICAgICAgICAgICB7InN0aWNreSI6IHRydWV9CiAgICAgICAgICAgICk7CiAgICAgICAgCiAgICAKICAgICAgICAgICAgdmFyIGNpcmNsZV8zYjAxNjMwNGRmODk0ZjU5OWUyOWE4NmRlNjdjYTE0YSA9IEwuY2lyY2xlKAogICAgICAgICAgICAgICAgWy0yMi45NTc2LCAxOC40OTA0XSwKICAgICAgICAgICAgICAgIHsiYnViYmxpbmdNb3VzZUV2ZW50cyI6IHRydWUsICJjb2xvciI6ICJjcmltc29uIiwgImRhc2hBcnJheSI6IG51bGwsICJkYXNoT2Zmc2V0IjogbnVsbCwgImZpbGwiOiB0cnVlLCAiZmlsbENvbG9yIjogImNyaW1zb24iLCAiZmlsbE9wYWNpdHkiOiAwLjIsICJmaWxsUnVsZSI6ICJldmVub2RkIiwgImxpbmVDYXAiOiAicm91bmQiLCAibGluZUpvaW4iOiAicm91bmQiLCAib3BhY2l0eSI6IDEuMCwgInJhZGl1cyI6IDM2MDAwMC4wLCAic3Ryb2tlIjogdHJ1ZSwgIndlaWdodCI6IDN9CiAgICAgICAgICAgICkuYWRkVG8obWFwXzU3NWZhZjEyMTZjZjRhNGE4ZWUyYTMyODk4MzBhOWY2KTsKICAgICAgICAKICAgIAogICAgICAgICAgICBjaXJjbGVfM2IwMTYzMDRkZjg5NGY1OTllMjlhODZkZTY3Y2ExNGEuYmluZFRvb2x0aXAoCiAgICAgICAgICAgICAgICBgPGRpdj4KICAgICAgICAgICAgICAgICAgICAgPGRpdiBzdHlsZT0nbWFyZ2luOjA7IGJhY2tncm91bmQtY29sb3I6IGZpcmVicmljazsgY29sb3I6IHdoaXRlOyc+PGg0IHN0eWxlPSd0ZXh0LWFsaWduOmNlbnRlcjsgZm9udC13ZWlnaHQ6IGJvbGQnPk5hbWliaWE8L2g0PjxociBzdHlsZT0nbWFyZ2luOjEwcHg7IGNvbG9yOiB3aGl0ZTsnPjx1bCBzdHlsZT0nY29sb3I6IHdoaXRlOztsaXN0LXN0eWxlLXR5cGU6IGNpcmNsZTsgYWxpZ24taXRlbTogbGVmdDsgcGFkZGluZy1sZWZ0OiAyMHB4OyBwYWRkaW5nLXJpZ2h0OjIwcHgnPjxsaT5Ub3RhbCBjYXNlczogMTUyMjwvbGk+PGxpPkRlYXRoczogNzwvbGk+PGxpPkRlYXRoIHJhdGUgOiAwLjQ2JSA8L2xpPjwvdWw+PC9kaXY+CiAgICAgICAgICAgICAgICAgPC9kaXY+YCwKICAgICAgICAgICAgICAgIHsic3RpY2t5IjogdHJ1ZX0KICAgICAgICAgICAgKTsKICAgICAgICAKICAgIAogICAgICAgICAgICB2YXIgY2lyY2xlXzIyNjFhZjE4N2I0NjRlZjRiNmRiNWE4NWM1N2RlOGQwID0gTC5jaXJjbGUoCiAgICAgICAgICAgICAgICBbMjguMTY2NywgODQuMjVdLAogICAgICAgICAgICAgICAgeyJidWJibGluZ01vdXNlRXZlbnRzIjogdHJ1ZSwgImNvbG9yIjogImNyaW1zb24iLCAiZGFzaEFycmF5IjogbnVsbCwgImRhc2hPZmZzZXQiOiBudWxsLCAiZmlsbCI6IHRydWUsICJmaWxsQ29sb3IiOiAiY3JpbXNvbiIsICJmaWxsT3BhY2l0eSI6IDAuMiwgImZpbGxSdWxlIjogImV2ZW5vZGQiLCAibGluZUNhcCI6ICJyb3VuZCIsICJsaW5lSm9pbiI6ICJyb3VuZCIsICJvcGFjaXR5IjogMS4wLCAicmFkaXVzIjogNDU5OTk5Ljk5OTk5OTk5OTk0LCAic3Ryb2tlIjogdHJ1ZSwgIndlaWdodCI6IDN9CiAgICAgICAgICAgICkuYWRkVG8obWFwXzU3NWZhZjEyMTZjZjRhNGE4ZWUyYTMyODk4MzBhOWY2KTsKICAgICAgICAKICAgIAogICAgICAgICAgICBjaXJjbGVfMjI2MWFmMTg3YjQ2NGVmNGI2ZGI1YTg1YzU3ZGU4ZDAuYmluZFRvb2x0aXAoCiAgICAgICAgICAgICAgICBgPGRpdj4KICAgICAgICAgICAgICAgICAgICAgPGRpdiBzdHlsZT0nbWFyZ2luOjA7IGJhY2tncm91bmQtY29sb3I6IGZpcmVicmljazsgY29sb3I6IHdoaXRlOyc+PGg0IHN0eWxlPSd0ZXh0LWFsaWduOmNlbnRlcjsgZm9udC13ZWlnaHQ6IGJvbGQnPk5lcGFsPC9oND48aHIgc3R5bGU9J21hcmdpbjoxMHB4OyBjb2xvcjogd2hpdGU7Jz48dWwgc3R5bGU9J2NvbG9yOiB3aGl0ZTs7bGlzdC1zdHlsZS10eXBlOiBjaXJjbGU7IGFsaWduLWl0ZW06IGxlZnQ7IHBhZGRpbmctbGVmdDogMjBweDsgcGFkZGluZy1yaWdodDoyMHB4Jz48bGk+VG90YWwgY2FzZXM6IDE4MjQxPC9saT48bGk+RGVhdGhzOiA0MzwvbGk+PGxpPkRlYXRoIHJhdGUgOiAwLjI0JSA8L2xpPjwvdWw+PC9kaXY+CiAgICAgICAgICAgICAgICAgPC9kaXY+YCwKICAgICAgICAgICAgICAgIHsic3RpY2t5IjogdHJ1ZX0KICAgICAgICAgICAgKTsKICAgICAgICAKICAgIAogICAgICAgICAgICB2YXIgY2lyY2xlX2Q2Y2MyZTRkOTFhMjQwM2ViNTgxYWIxYWJmYjA3ZTRhID0gTC5jaXJjbGUoCiAgICAgICAgICAgICAgICBbMTIuNTIxMSwgLTY5Ljk2ODNdLAogICAgICAgICAgICAgICAgeyJidWJibGluZ01vdXNlRXZlbnRzIjogdHJ1ZSwgImNvbG9yIjogImNyaW1zb24iLCAiZGFzaEFycmF5IjogbnVsbCwgImRhc2hPZmZzZXQiOiBudWxsLCAiZmlsbCI6IHRydWUsICJmaWxsQ29sb3IiOiAiY3JpbXNvbiIsICJmaWxsT3BhY2l0eSI6IDAuMiwgImZpbGxSdWxlIjogImV2ZW5vZGQiLCAibGluZUNhcCI6ICJyb3VuZCIsICJsaW5lSm9pbiI6ICJyb3VuZCIsICJvcGFjaXR5IjogMS4wLCAicmFkaXVzIjogMjEwMDAwLjAsICJzdHJva2UiOiB0cnVlLCAid2VpZ2h0IjogM30KICAgICAgICAgICAgKS5hZGRUbyhtYXBfNTc1ZmFmMTIxNmNmNGE0YThlZTJhMzI4OTgzMGE5ZjYpOwogICAgICAgIAogICAgCiAgICAgICAgICAgIGNpcmNsZV9kNmNjMmU0ZDkxYTI0MDNlYjU4MWFiMWFiZmIwN2U0YS5iaW5kVG9vbHRpcCgKICAgICAgICAgICAgICAgIGA8ZGl2PgogICAgICAgICAgICAgICAgICAgICA8ZGl2IHN0eWxlPSdtYXJnaW46MDsgYmFja2dyb3VuZC1jb2xvcjogZmlyZWJyaWNrOyBjb2xvcjogd2hpdGU7Jz48aDQgc3R5bGU9J3RleHQtYWxpZ246Y2VudGVyOyBmb250LXdlaWdodDogYm9sZCc+TmV0aGVybGFuZHM8L2g0PjxociBzdHlsZT0nbWFyZ2luOjEwcHg7IGNvbG9yOiB3aGl0ZTsnPjx1bCBzdHlsZT0nY29sb3I6IHdoaXRlOztsaXN0LXN0eWxlLXR5cGU6IGNpcmNsZTsgYWxpZ24taXRlbTogbGVmdDsgcGFkZGluZy1sZWZ0OiAyMHB4OyBwYWRkaW5nLXJpZ2h0OjIwcHgnPjxsaT5Ub3RhbCBjYXNlczogMTE3PC9saT48bGk+RGVhdGhzOiAzPC9saT48bGk+RGVhdGggcmF0ZSA6IDIuNTQlIDwvbGk+PC91bD48L2Rpdj4KICAgICAgICAgICAgICAgICA8L2Rpdj5gLAogICAgICAgICAgICAgICAgeyJzdGlja3kiOiB0cnVlfQogICAgICAgICAgICApOwogICAgICAgIAogICAgCiAgICAgICAgICAgIHZhciBjaXJjbGVfODllMTU4NTBiZjhlNDY2OWI3ZWM4MmM2NjYxZTFkNGIgPSBMLmNpcmNsZSgKICAgICAgICAgICAgICAgIFsxMi4xNjk2LCAtNjguOTldLAogICAgICAgICAgICAgICAgeyJidWJibGluZ01vdXNlRXZlbnRzIjogdHJ1ZSwgImNvbG9yIjogImNyaW1zb24iLCAiZGFzaEFycmF5IjogbnVsbCwgImRhc2hPZmZzZXQiOiBudWxsLCAiZmlsbCI6IHRydWUsICJmaWxsQ29sb3IiOiAiY3JpbXNvbiIsICJmaWxsT3BhY2l0eSI6IDAuMiwgImZpbGxSdWxlIjogImV2ZW5vZGQiLCAibGluZUNhcCI6ICJyb3VuZCIsICJsaW5lSm9pbiI6ICJyb3VuZCIsICJvcGFjaXR5IjogMS4wLCAicmFkaXVzIjogMTYwMDAwLjAsICJzdHJva2UiOiB0cnVlLCAid2VpZ2h0IjogM30KICAgICAgICAgICAgKS5hZGRUbyhtYXBfNTc1ZmFmMTIxNmNmNGE0YThlZTJhMzI4OTgzMGE5ZjYpOwogICAgICAgIAogICAgCiAgICAgICAgICAgIGNpcmNsZV84OWUxNTg1MGJmOGU0NjY5YjdlYzgyYzY2NjFlMWQ0Yi5iaW5kVG9vbHRpcCgKICAgICAgICAgICAgICAgIGA8ZGl2PgogICAgICAgICAgICAgICAgICAgICA8ZGl2IHN0eWxlPSdtYXJnaW46MDsgYmFja2dyb3VuZC1jb2xvcjogZmlyZWJyaWNrOyBjb2xvcjogd2hpdGU7Jz48aDQgc3R5bGU9J3RleHQtYWxpZ246Y2VudGVyOyBmb250LXdlaWdodDogYm9sZCc+TmV0aGVybGFuZHM8L2g0PjxociBzdHlsZT0nbWFyZ2luOjEwcHg7IGNvbG9yOiB3aGl0ZTsnPjx1bCBzdHlsZT0nY29sb3I6IHdoaXRlOztsaXN0LXN0eWxlLXR5cGU6IGNpcmNsZTsgYWxpZ24taXRlbTogbGVmdDsgcGFkZGluZy1sZWZ0OiAyMHB4OyBwYWRkaW5nLXJpZ2h0OjIwcHgnPjxsaT5Ub3RhbCBjYXNlczogMjg8L2xpPjxsaT5EZWF0aHM6IDE8L2xpPjxsaT5EZWF0aCByYXRlIDogMy40NSUgPC9saT48L3VsPjwvZGl2PgogICAgICAgICAgICAgICAgIDwvZGl2PmAsCiAgICAgICAgICAgICAgICB7InN0aWNreSI6IHRydWV9CiAgICAgICAgICAgICk7CiAgICAgICAgCiAgICAKICAgICAgICAgICAgdmFyIGNpcmNsZV8xNzU2NjYxMGZmNDI0NjhiODdiNWZhNGU0YmZmMTQ2NyA9IEwuY2lyY2xlKAogICAgICAgICAgICAgICAgWzE4LjA0MjUsIC02My4wNTQ4XSwKICAgICAgICAgICAgICAgIHsiYnViYmxpbmdNb3VzZUV2ZW50cyI6IHRydWUsICJjb2xvciI6ICJjcmltc29uIiwgImRhc2hBcnJheSI6IG51bGwsICJkYXNoT2Zmc2V0IjogbnVsbCwgImZpbGwiOiB0cnVlLCAiZmlsbENvbG9yIjogImNyaW1zb24iLCAiZmlsbE9wYWNpdHkiOiAwLjIsICJmaWxsUnVsZSI6ICJldmVub2RkIiwgImxpbmVDYXAiOiAicm91bmQiLCAibGluZUpvaW4iOiAicm91bmQiLCAib3BhY2l0eSI6IDEuMCwgInJhZGl1cyI6IDIxMDAwMC4wLCAic3Ryb2tlIjogdHJ1ZSwgIndlaWdodCI6IDN9CiAgICAgICAgICAgICkuYWRkVG8obWFwXzU3NWZhZjEyMTZjZjRhNGE4ZWUyYTMyODk4MzBhOWY2KTsKICAgICAgICAKICAgIAogICAgICAgICAgICBjaXJjbGVfMTc1NjY2MTBmZjQyNDY4Yjg3YjVmYTRlNGJmZjE0NjcuYmluZFRvb2x0aXAoCiAgICAgICAgICAgICAgICBgPGRpdj4KICAgICAgICAgICAgICAgICAgICAgPGRpdiBzdHlsZT0nbWFyZ2luOjA7IGJhY2tncm91bmQtY29sb3I6IGZpcmVicmljazsgY29sb3I6IHdoaXRlOyc+PGg0IHN0eWxlPSd0ZXh0LWFsaWduOmNlbnRlcjsgZm9udC13ZWlnaHQ6IGJvbGQnPk5ldGhlcmxhbmRzPC9oND48aHIgc3R5bGU9J21hcmdpbjoxMHB4OyBjb2xvcjogd2hpdGU7Jz48dWwgc3R5bGU9J2NvbG9yOiB3aGl0ZTs7bGlzdC1zdHlsZS10eXBlOiBjaXJjbGU7IGFsaWduLWl0ZW06IGxlZnQ7IHBhZGRpbmctbGVmdDogMjBweDsgcGFkZGluZy1yaWdodDoyMHB4Jz48bGk+VG90YWwgY2FzZXM6IDgxPC9saT48bGk+RGVhdGhzOiAxNTwvbGk+PGxpPkRlYXRoIHJhdGUgOiAxOC4yOSUgPC9saT48L3VsPjwvZGl2PgogICAgICAgICAgICAgICAgIDwvZGl2PmAsCiAgICAgICAgICAgICAgICB7InN0aWNreSI6IHRydWV9CiAgICAgICAgICAgICk7CiAgICAgICAgCiAgICAKICAgICAgICAgICAgdmFyIGNpcmNsZV81ZjY0YTRmNjc3OWQ0YmI3YWZmYWE4MzJhNDJmMjNjYyA9IEwuY2lyY2xlKAogICAgICAgICAgICAgICAgWzUyLjEzMjYsIDUuMjkxM10sCiAgICAgICAgICAgICAgICB7ImJ1YmJsaW5nTW91c2VFdmVudHMiOiB0cnVlLCAiY29sb3IiOiAiY3JpbXNvbiIsICJkYXNoQXJyYXkiOiBudWxsLCAiZGFzaE9mZnNldCI6IG51bGwsICJmaWxsIjogdHJ1ZSwgImZpbGxDb2xvciI6ICJjcmltc29uIiwgImZpbGxPcGFjaXR5IjogMC4yLCAiZmlsbFJ1bGUiOiAiZXZlbm9kZCIsICJsaW5lQ2FwIjogInJvdW5kIiwgImxpbmVKb2luIjogInJvdW5kIiwgIm9wYWNpdHkiOiAxLjAsICJyYWRpdXMiOiA1MDk5OTkuOTk5OTk5OTk5OTQsICJzdHJva2UiOiB0cnVlLCAid2VpZ2h0IjogM30KICAgICAgICAgICAgKS5hZGRUbyhtYXBfNTc1ZmFmMTIxNmNmNGE0YThlZTJhMzI4OTgzMGE5ZjYpOwogICAgICAgIAogICAgCiAgICAgICAgICAgIGNpcmNsZV81ZjY0YTRmNjc3OWQ0YmI3YWZmYWE4MzJhNDJmMjNjYy5iaW5kVG9vbHRpcCgKICAgICAgICAgICAgICAgIGA8ZGl2PgogICAgICAgICAgICAgICAgICAgICA8ZGl2IHN0eWxlPSdtYXJnaW46MDsgYmFja2dyb3VuZC1jb2xvcjogZmlyZWJyaWNrOyBjb2xvcjogd2hpdGU7Jz48aDQgc3R5bGU9J3RleHQtYWxpZ246Y2VudGVyOyBmb250LXdlaWdodDogYm9sZCc+TmV0aGVybGFuZHM8L2g0PjxociBzdHlsZT0nbWFyZ2luOjEwcHg7IGNvbG9yOiB3aGl0ZTsnPjx1bCBzdHlsZT0nY29sb3I6IHdoaXRlOztsaXN0LXN0eWxlLXR5cGU6IGNpcmNsZTsgYWxpZ24taXRlbTogbGVmdDsgcGFkZGluZy1sZWZ0OiAyMHB4OyBwYWRkaW5nLXJpZ2h0OjIwcHgnPjxsaT5Ub3RhbCBjYXNlczogNTI0MDQ8L2xpPjxsaT5EZWF0aHM6IDYxMzk8L2xpPjxsaT5EZWF0aCByYXRlIDogMTEuNzElIDwvbGk+PC91bD48L2Rpdj4KICAgICAgICAgICAgICAgICA8L2Rpdj5gLAogICAgICAgICAgICAgICAgeyJzdGlja3kiOiB0cnVlfQogICAgICAgICAgICApOwogICAgICAgIAogICAgCiAgICAgICAgICAgIHZhciBjaXJjbGVfNGJmYTZlNTE1NDRiNGExMGFhOTAwMzBhYzI1Nzc1M2UgPSBMLmNpcmNsZSgKICAgICAgICAgICAgICAgIFstNDAuOTAwNiwgMTc0Ljg4Nl0sCiAgICAgICAgICAgICAgICB7ImJ1YmJsaW5nTW91c2VFdmVudHMiOiB0cnVlLCAiY29sb3IiOiAiY3JpbXNvbiIsICJkYXNoQXJyYXkiOiBudWxsLCAiZGFzaE9mZnNldCI6IG51bGwsICJmaWxsIjogdHJ1ZSwgImZpbGxDb2xvciI6ICJjcmltc29uIiwgImZpbGxPcGFjaXR5IjogMC4yLCAiZmlsbFJ1bGUiOiAiZXZlbm9kZCIsICJsaW5lQ2FwIjogInJvdW5kIiwgImxpbmVKb2luIjogInJvdW5kIiwgIm9wYWNpdHkiOiAxLjAsICJyYWRpdXMiOiAzNjAwMDAuMCwgInN0cm9rZSI6IHRydWUsICJ3ZWlnaHQiOiAzfQogICAgICAgICAgICApLmFkZFRvKG1hcF81NzVmYWYxMjE2Y2Y0YTRhOGVlMmEzMjg5ODMwYTlmNik7CiAgICAgICAgCiAgICAKICAgICAgICAgICAgY2lyY2xlXzRiZmE2ZTUxNTQ0YjRhMTBhYTkwMDMwYWMyNTc3NTNlLmJpbmRUb29sdGlwKAogICAgICAgICAgICAgICAgYDxkaXY+CiAgICAgICAgICAgICAgICAgICAgIDxkaXYgc3R5bGU9J21hcmdpbjowOyBiYWNrZ3JvdW5kLWNvbG9yOiBmaXJlYnJpY2s7IGNvbG9yOiB3aGl0ZTsnPjxoNCBzdHlsZT0ndGV4dC1hbGlnbjpjZW50ZXI7IGZvbnQtd2VpZ2h0OiBib2xkJz5OZXcgWmVhbGFuZDwvaDQ+PGhyIHN0eWxlPSdtYXJnaW46MTBweDsgY29sb3I6IHdoaXRlOyc+PHVsIHN0eWxlPSdjb2xvcjogd2hpdGU7O2xpc3Qtc3R5bGUtdHlwZTogY2lyY2xlOyBhbGlnbi1pdGVtOiBsZWZ0OyBwYWRkaW5nLWxlZnQ6IDIwcHg7IHBhZGRpbmctcmlnaHQ6MjBweCc+PGxpPlRvdGFsIGNhc2VzOiAxNTU2PC9saT48bGk+RGVhdGhzOiAyMjwvbGk+PGxpPkRlYXRoIHJhdGUgOiAxLjQxJSA8L2xpPjwvdWw+PC9kaXY+CiAgICAgICAgICAgICAgICAgPC9kaXY+YCwKICAgICAgICAgICAgICAgIHsic3RpY2t5IjogdHJ1ZX0KICAgICAgICAgICAgKTsKICAgICAgICAKICAgIAogICAgICAgICAgICB2YXIgY2lyY2xlX2E2YWU2ZDI3MWEzZDRiODhhMDc5MzA2MGQ3ZWVhZTBlID0gTC5jaXJjbGUoCiAgICAgICAgICAgICAgICBbMTIuODY1NDE2LCAtODUuMjA3MjI5XSwKICAgICAgICAgICAgICAgIHsiYnViYmxpbmdNb3VzZUV2ZW50cyI6IHRydWUsICJjb2xvciI6ICJjcmltc29uIiwgImRhc2hBcnJheSI6IG51bGwsICJkYXNoT2Zmc2V0IjogbnVsbCwgImZpbGwiOiB0cnVlLCAiZmlsbENvbG9yIjogImNyaW1zb24iLCAiZmlsbE9wYWNpdHkiOiAwLjIsICJmaWxsUnVsZSI6ICJldmVub2RkIiwgImxpbmVDYXAiOiAicm91bmQiLCAibGluZUpvaW4iOiAicm91bmQiLCAib3BhY2l0eSI6IDEuMCwgInJhZGl1cyI6IDQwOTk5OS45OTk5OTk5OTk5NCwgInN0cm9rZSI6IHRydWUsICJ3ZWlnaHQiOiAzfQogICAgICAgICAgICApLmFkZFRvKG1hcF81NzVmYWYxMjE2Y2Y0YTRhOGVlMmEzMjg5ODMwYTlmNik7CiAgICAgICAgCiAgICAKICAgICAgICAgICAgY2lyY2xlX2E2YWU2ZDI3MWEzZDRiODhhMDc5MzA2MGQ3ZWVhZTBlLmJpbmRUb29sdGlwKAogICAgICAgICAgICAgICAgYDxkaXY+CiAgICAgICAgICAgICAgICAgICAgIDxkaXYgc3R5bGU9J21hcmdpbjowOyBiYWNrZ3JvdW5kLWNvbG9yOiBmaXJlYnJpY2s7IGNvbG9yOiB3aGl0ZTsnPjxoNCBzdHlsZT0ndGV4dC1hbGlnbjpjZW50ZXI7IGZvbnQtd2VpZ2h0OiBib2xkJz5OaWNhcmFndWE8L2g0PjxociBzdHlsZT0nbWFyZ2luOjEwcHg7IGNvbG9yOiB3aGl0ZTsnPjx1bCBzdHlsZT0nY29sb3I6IHdoaXRlOztsaXN0LXN0eWxlLXR5cGU6IGNpcmNsZTsgYWxpZ24taXRlbTogbGVmdDsgcGFkZGluZy1sZWZ0OiAyMHB4OyBwYWRkaW5nLXJpZ2h0OjIwcHgnPjxsaT5Ub3RhbCBjYXNlczogMzQzOTwvbGk+PGxpPkRlYXRoczogMTA4PC9saT48bGk+RGVhdGggcmF0ZSA6IDMuMTQlIDwvbGk+PC91bD48L2Rpdj4KICAgICAgICAgICAgICAgICA8L2Rpdj5gLAogICAgICAgICAgICAgICAgeyJzdGlja3kiOiB0cnVlfQogICAgICAgICAgICApOwogICAgICAgIAogICAgCiAgICAgICAgICAgIHZhciBjaXJjbGVfYWJkOTAxOTRiZmFlNDg0N2FhY2Q1NjBhYTRiMjAyYjIgPSBMLmNpcmNsZSgKICAgICAgICAgICAgICAgIFsxNy42MDc3ODksIDguMDgxNjY2XSwKICAgICAgICAgICAgICAgIHsiYnViYmxpbmdNb3VzZUV2ZW50cyI6IHRydWUsICJjb2xvciI6ICJjcmltc29uIiwgImRhc2hBcnJheSI6IG51bGwsICJkYXNoT2Zmc2V0IjogbnVsbCwgImZpbGwiOiB0cnVlLCAiZmlsbENvbG9yIjogImNyaW1zb24iLCAiZmlsbE9wYWNpdHkiOiAwLjIsICJmaWxsUnVsZSI6ICJldmVub2RkIiwgImxpbmVDYXAiOiAicm91bmQiLCAibGluZUpvaW4iOiAicm91bmQiLCAib3BhY2l0eSI6IDEuMCwgInJhZGl1cyI6IDM2MDAwMC4wLCAic3Ryb2tlIjogdHJ1ZSwgIndlaWdodCI6IDN9CiAgICAgICAgICAgICkuYWRkVG8obWFwXzU3NWZhZjEyMTZjZjRhNGE4ZWUyYTMyODk4MzBhOWY2KTsKICAgICAgICAKICAgIAogICAgICAgICAgICBjaXJjbGVfYWJkOTAxOTRiZmFlNDg0N2FhY2Q1NjBhYTRiMjAyYjIuYmluZFRvb2x0aXAoCiAgICAgICAgICAgICAgICBgPGRpdj4KICAgICAgICAgICAgICAgICAgICAgPGRpdiBzdHlsZT0nbWFyZ2luOjA7IGJhY2tncm91bmQtY29sb3I6IGZpcmVicmljazsgY29sb3I6IHdoaXRlOyc+PGg0IHN0eWxlPSd0ZXh0LWFsaWduOmNlbnRlcjsgZm9udC13ZWlnaHQ6IGJvbGQnPk5pZ2VyPC9oND48aHIgc3R5bGU9J21hcmdpbjoxMHB4OyBjb2xvcjogd2hpdGU7Jz48dWwgc3R5bGU9J2NvbG9yOiB3aGl0ZTs7bGlzdC1zdHlsZS10eXBlOiBjaXJjbGU7IGFsaWduLWl0ZW06IGxlZnQ7IHBhZGRpbmctbGVmdDogMjBweDsgcGFkZGluZy1yaWdodDoyMHB4Jz48bGk+VG90YWwgY2FzZXM6IDExMjQ8L2xpPjxsaT5EZWF0aHM6IDY5PC9saT48bGk+RGVhdGggcmF0ZSA6IDYuMTMlIDwvbGk+PC91bD48L2Rpdj4KICAgICAgICAgICAgICAgICA8L2Rpdj5gLAogICAgICAgICAgICAgICAgeyJzdGlja3kiOiB0cnVlfQogICAgICAgICAgICApOwogICAgICAgIAogICAgCiAgICAgICAgICAgIHZhciBjaXJjbGVfZjY3Y2E2NWY3ODRhNGFlMThhM2M5YWQwMjU5ZThhZTUgPSBMLmNpcmNsZSgKICAgICAgICAgICAgICAgIFs5LjA4MiwgOC42NzUzXSwKICAgICAgICAgICAgICAgIHsiYnViYmxpbmdNb3VzZUV2ZW50cyI6IHRydWUsICJjb2xvciI6ICJjcmltc29uIiwgImRhc2hBcnJheSI6IG51bGwsICJkYXNoT2Zmc2V0IjogbnVsbCwgImZpbGwiOiB0cnVlLCAiZmlsbENvbG9yIjogImNyaW1zb24iLCAiZmlsbE9wYWNpdHkiOiAwLjIsICJmaWxsUnVsZSI6ICJldmVub2RkIiwgImxpbmVDYXAiOiAicm91bmQiLCAibGluZUpvaW4iOiAicm91bmQiLCAib3BhY2l0eSI6IDEuMCwgInJhZGl1cyI6IDUwOTk5OS45OTk5OTk5OTk5NCwgInN0cm9rZSI6IHRydWUsICJ3ZWlnaHQiOiAzfQogICAgICAgICAgICApLmFkZFRvKG1hcF81NzVmYWYxMjE2Y2Y0YTRhOGVlMmEzMjg5ODMwYTlmNik7CiAgICAgICAgCiAgICAKICAgICAgICAgICAgY2lyY2xlX2Y2N2NhNjVmNzg0YTRhZTE4YTNjOWFkMDI1OWU4YWU1LmJpbmRUb29sdGlwKAogICAgICAgICAgICAgICAgYDxkaXY+CiAgICAgICAgICAgICAgICAgICAgIDxkaXYgc3R5bGU9J21hcmdpbjowOyBiYWNrZ3JvdW5kLWNvbG9yOiBmaXJlYnJpY2s7IGNvbG9yOiB3aGl0ZTsnPjxoNCBzdHlsZT0ndGV4dC1hbGlnbjpjZW50ZXI7IGZvbnQtd2VpZ2h0OiBib2xkJz5OaWdlcmlhPC9oND48aHIgc3R5bGU9J21hcmdpbjoxMHB4OyBjb2xvcjogd2hpdGU7Jz48dWwgc3R5bGU9J2NvbG9yOiB3aGl0ZTs7bGlzdC1zdHlsZS10eXBlOiBjaXJjbGU7IGFsaWduLWl0ZW06IGxlZnQ7IHBhZGRpbmctbGVmdDogMjBweDsgcGFkZGluZy1yaWdodDoyMHB4Jz48bGk+VG90YWwgY2FzZXM6IDM4OTQ4PC9saT48bGk+RGVhdGhzOiA4MzM8L2xpPjxsaT5EZWF0aCByYXRlIDogMi4xNCUgPC9saT48L3VsPjwvZGl2PgogICAgICAgICAgICAgICAgIDwvZGl2PmAsCiAgICAgICAgICAgICAgICB7InN0aWNreSI6IHRydWV9CiAgICAgICAgICAgICk7CiAgICAgICAgCiAgICAKICAgICAgICAgICAgdmFyIGNpcmNsZV9iM2NjMzY2NWE5MWI0NWUxYmMzNTVhNjBhMjdhNTYxYyA9IEwuY2lyY2xlKAogICAgICAgICAgICAgICAgWzQxLjYwODYsIDIxLjc0NTNdLAogICAgICAgICAgICAgICAgeyJidWJibGluZ01vdXNlRXZlbnRzIjogdHJ1ZSwgImNvbG9yIjogImNyaW1zb24iLCAiZGFzaEFycmF5IjogbnVsbCwgImRhc2hPZmZzZXQiOiBudWxsLCAiZmlsbCI6IHRydWUsICJmaWxsQ29sb3IiOiAiY3JpbXNvbiIsICJmaWxsT3BhY2l0eSI6IDAuMiwgImZpbGxSdWxlIjogImV2ZW5vZGQiLCAibGluZUNhcCI6ICJyb3VuZCIsICJsaW5lSm9pbiI6ICJyb3VuZCIsICJvcGFjaXR5IjogMS4wLCAicmFkaXVzIjogNDU5OTk5Ljk5OTk5OTk5OTk0LCAic3Ryb2tlIjogdHJ1ZSwgIndlaWdodCI6IDN9CiAgICAgICAgICAgICkuYWRkVG8obWFwXzU3NWZhZjEyMTZjZjRhNGE4ZWUyYTMyODk4MzBhOWY2KTsKICAgICAgICAKICAgIAogICAgICAgICAgICBjaXJjbGVfYjNjYzM2NjVhOTFiNDVlMWJjMzU1YTYwYTI3YTU2MWMuYmluZFRvb2x0aXAoCiAgICAgICAgICAgICAgICBgPGRpdj4KICAgICAgICAgICAgICAgICAgICAgPGRpdiBzdHlsZT0nbWFyZ2luOjA7IGJhY2tncm91bmQtY29sb3I6IGZpcmVicmljazsgY29sb3I6IHdoaXRlOyc+PGg0IHN0eWxlPSd0ZXh0LWFsaWduOmNlbnRlcjsgZm9udC13ZWlnaHQ6IGJvbGQnPk5vcnRoIE1hY2Vkb25pYTwvaDQ+PGhyIHN0eWxlPSdtYXJnaW46MTBweDsgY29sb3I6IHdoaXRlOyc+PHVsIHN0eWxlPSdjb2xvcjogd2hpdGU7O2xpc3Qtc3R5bGUtdHlwZTogY2lyY2xlOyBhbGlnbi1pdGVtOiBsZWZ0OyBwYWRkaW5nLWxlZnQ6IDIwcHg7IHBhZGRpbmctcmlnaHQ6MjBweCc+PGxpPlRvdGFsIGNhc2VzOiA5NjY5PC9saT48bGk+RGVhdGhzOiA0NDU8L2xpPjxsaT5EZWF0aCByYXRlIDogNC42JSA8L2xpPjwvdWw+PC9kaXY+CiAgICAgICAgICAgICAgICAgPC9kaXY+YCwKICAgICAgICAgICAgICAgIHsic3RpY2t5IjogdHJ1ZX0KICAgICAgICAgICAgKTsKICAgICAgICAKICAgIAogICAgICAgICAgICB2YXIgY2lyY2xlX2RhNjNhMDhkNDQxNTRhMzdhODEwMDQ1NmNhZDAzM2YxID0gTC5jaXJjbGUoCiAgICAgICAgICAgICAgICBbNjAuNDcyLCA4LjQ2ODldLAogICAgICAgICAgICAgICAgeyJidWJibGluZ01vdXNlRXZlbnRzIjogdHJ1ZSwgImNvbG9yIjogImNyaW1zb24iLCAiZGFzaEFycmF5IjogbnVsbCwgImRhc2hPZmZzZXQiOiBudWxsLCAiZmlsbCI6IHRydWUsICJmaWxsQ29sb3IiOiAiY3JpbXNvbiIsICJmaWxsT3BhY2l0eSI6IDAuMiwgImZpbGxSdWxlIjogImV2ZW5vZGQiLCAibGluZUNhcCI6ICJyb3VuZCIsICJsaW5lSm9pbiI6ICJyb3VuZCIsICJvcGFjaXR5IjogMS4wLCAicmFkaXVzIjogNDU5OTk5Ljk5OTk5OTk5OTk0LCAic3Ryb2tlIjogdHJ1ZSwgIndlaWdodCI6IDN9CiAgICAgICAgICAgICkuYWRkVG8obWFwXzU3NWZhZjEyMTZjZjRhNGE4ZWUyYTMyODk4MzBhOWY2KTsKICAgICAgICAKICAgIAogICAgICAgICAgICBjaXJjbGVfZGE2M2EwOGQ0NDE1NGEzN2E4MTAwNDU2Y2FkMDMzZjEuYmluZFRvb2x0aXAoCiAgICAgICAgICAgICAgICBgPGRpdj4KICAgICAgICAgICAgICAgICAgICAgPGRpdiBzdHlsZT0nbWFyZ2luOjA7IGJhY2tncm91bmQtY29sb3I6IGZpcmVicmljazsgY29sb3I6IHdoaXRlOyc+PGg0IHN0eWxlPSd0ZXh0LWFsaWduOmNlbnRlcjsgZm9udC13ZWlnaHQ6IGJvbGQnPk5vcndheTwvaDQ+PGhyIHN0eWxlPSdtYXJnaW46MTBweDsgY29sb3I6IHdoaXRlOyc+PHVsIHN0eWxlPSdjb2xvcjogd2hpdGU7O2xpc3Qtc3R5bGUtdHlwZTogY2lyY2xlOyBhbGlnbi1pdGVtOiBsZWZ0OyBwYWRkaW5nLWxlZnQ6IDIwcHg7IHBhZGRpbmctcmlnaHQ6MjBweCc+PGxpPlRvdGFsIGNhc2VzOiA5MDg1PC9saT48bGk+RGVhdGhzOiAyNTU8L2xpPjxsaT5EZWF0aCByYXRlIDogMi44MSUgPC9saT48L3VsPjwvZGl2PgogICAgICAgICAgICAgICAgIDwvZGl2PmAsCiAgICAgICAgICAgICAgICB7InN0aWNreSI6IHRydWV9CiAgICAgICAgICAgICk7CiAgICAgICAgCiAgICAKICAgICAgICAgICAgdmFyIGNpcmNsZV81ODJmNWM2NGI0Y2Y0YjgxYTY3ZDc3ODNhZjA2OWUwMSA9IEwuY2lyY2xlKAogICAgICAgICAgICAgICAgWzIxLjUxMjU4MywgNTUuOTIzMjU1MDAwMDAwMDFdLAogICAgICAgICAgICAgICAgeyJidWJibGluZ01vdXNlRXZlbnRzIjogdHJ1ZSwgImNvbG9yIjogImNyaW1zb24iLCAiZGFzaEFycmF5IjogbnVsbCwgImRhc2hPZmZzZXQiOiBudWxsLCAiZmlsbCI6IHRydWUsICJmaWxsQ29sb3IiOiAiY3JpbXNvbiIsICJmaWxsT3BhY2l0eSI6IDAuMiwgImZpbGxSdWxlIjogImV2ZW5vZGQiLCAibGluZUNhcCI6ICJyb3VuZCIsICJsaW5lSm9pbiI6ICJyb3VuZCIsICJvcGFjaXR5IjogMS4wLCAicmFkaXVzIjogNTYwMDAwLjAsICJzdHJva2UiOiB0cnVlLCAid2VpZ2h0IjogM30KICAgICAgICAgICAgKS5hZGRUbyhtYXBfNTc1ZmFmMTIxNmNmNGE0YThlZTJhMzI4OTgzMGE5ZjYpOwogICAgICAgIAogICAgCiAgICAgICAgICAgIGNpcmNsZV81ODJmNWM2NGI0Y2Y0YjgxYTY3ZDc3ODNhZjA2OWUwMS5iaW5kVG9vbHRpcCgKICAgICAgICAgICAgICAgIGA8ZGl2PgogICAgICAgICAgICAgICAgICAgICA8ZGl2IHN0eWxlPSdtYXJnaW46MDsgYmFja2dyb3VuZC1jb2xvcjogZmlyZWJyaWNrOyBjb2xvcjogd2hpdGU7Jz48aDQgc3R5bGU9J3RleHQtYWxpZ246Y2VudGVyOyBmb250LXdlaWdodDogYm9sZCc+T21hbjwvaDQ+PGhyIHN0eWxlPSdtYXJnaW46MTBweDsgY29sb3I6IHdoaXRlOyc+PHVsIHN0eWxlPSdjb2xvcjogd2hpdGU7O2xpc3Qtc3R5bGUtdHlwZTogY2lyY2xlOyBhbGlnbi1pdGVtOiBsZWZ0OyBwYWRkaW5nLWxlZnQ6IDIwcHg7IHBhZGRpbmctcmlnaHQ6MjBweCc+PGxpPlRvdGFsIGNhc2VzOiA3MjY0NjwvbGk+PGxpPkRlYXRoczogMzU1PC9saT48bGk+RGVhdGggcmF0ZSA6IDAuNDklIDwvbGk+PC91bD48L2Rpdj4KICAgICAgICAgICAgICAgICA8L2Rpdj5gLAogICAgICAgICAgICAgICAgeyJzdGlja3kiOiB0cnVlfQogICAgICAgICAgICApOwogICAgICAgIAogICAgCiAgICAgICAgICAgIHZhciBjaXJjbGVfMWQ3NjRhNDIyNDkxNDRjY2JjZGE2ZTU2YjgzNGRkNzUgPSBMLmNpcmNsZSgKICAgICAgICAgICAgICAgIFszMC4zNzUzLCA2OS4zNDUxXSwKICAgICAgICAgICAgICAgIHsiYnViYmxpbmdNb3VzZUV2ZW50cyI6IHRydWUsICJjb2xvciI6ICJjcmltc29uIiwgImRhc2hBcnJheSI6IG51bGwsICJkYXNoT2Zmc2V0IjogbnVsbCwgImZpbGwiOiB0cnVlLCAiZmlsbENvbG9yIjogImNyaW1zb24iLCAiZmlsbE9wYWNpdHkiOiAwLjIsICJmaWxsUnVsZSI6ICJldmVub2RkIiwgImxpbmVDYXAiOiAicm91bmQiLCAibGluZUpvaW4iOiAicm91bmQiLCAib3BhY2l0eSI6IDEuMCwgInJhZGl1cyI6IDYxMDAwMC4wLCAic3Ryb2tlIjogdHJ1ZSwgIndlaWdodCI6IDN9CiAgICAgICAgICAgICkuYWRkVG8obWFwXzU3NWZhZjEyMTZjZjRhNGE4ZWUyYTMyODk4MzBhOWY2KTsKICAgICAgICAKICAgIAogICAgICAgICAgICBjaXJjbGVfMWQ3NjRhNDIyNDkxNDRjY2JjZGE2ZTU2YjgzNGRkNzUuYmluZFRvb2x0aXAoCiAgICAgICAgICAgICAgICBgPGRpdj4KICAgICAgICAgICAgICAgICAgICAgPGRpdiBzdHlsZT0nbWFyZ2luOjA7IGJhY2tncm91bmQtY29sb3I6IGZpcmVicmljazsgY29sb3I6IHdoaXRlOyc+PGg0IHN0eWxlPSd0ZXh0LWFsaWduOmNlbnRlcjsgZm9udC13ZWlnaHQ6IGJvbGQnPlBha2lzdGFuPC9oND48aHIgc3R5bGU9J21hcmdpbjoxMHB4OyBjb2xvcjogd2hpdGU7Jz48dWwgc3R5bGU9J2NvbG9yOiB3aGl0ZTs7bGlzdC1zdHlsZS10eXBlOiBjaXJjbGU7IGFsaWduLWl0ZW06IGxlZnQ7IHBhZGRpbmctbGVmdDogMjBweDsgcGFkZGluZy1yaWdodDoyMHB4Jz48bGk+VG90YWwgY2FzZXM6IDI3MDQwMDwvbGk+PGxpPkRlYXRoczogNTc2MzwvbGk+PGxpPkRlYXRoIHJhdGUgOiAyLjEzJSA8L2xpPjwvdWw+PC9kaXY+CiAgICAgICAgICAgICAgICAgPC9kaXY+YCwKICAgICAgICAgICAgICAgIHsic3RpY2t5IjogdHJ1ZX0KICAgICAgICAgICAgKTsKICAgICAgICAKICAgIAogICAgICAgICAgICB2YXIgY2lyY2xlXzgxYWU3Nzc3YzZlMTRhNWFhZDA3Mzk0MmFmYTI0NGM1ID0gTC5jaXJjbGUoCiAgICAgICAgICAgICAgICBbOC41MzgsIC04MC43ODIxXSwKICAgICAgICAgICAgICAgIHsiYnViYmxpbmdNb3VzZUV2ZW50cyI6IHRydWUsICJjb2xvciI6ICJjcmltc29uIiwgImRhc2hBcnJheSI6IG51bGwsICJkYXNoT2Zmc2V0IjogbnVsbCwgImZpbGwiOiB0cnVlLCAiZmlsbENvbG9yIjogImNyaW1zb24iLCAiZmlsbE9wYWNpdHkiOiAwLjIsICJmaWxsUnVsZSI6ICJldmVub2RkIiwgImxpbmVDYXAiOiAicm91bmQiLCAibGluZUpvaW4iOiAicm91bmQiLCAib3BhY2l0eSI6IDEuMCwgInJhZGl1cyI6IDUwOTk5OS45OTk5OTk5OTk5NCwgInN0cm9rZSI6IHRydWUsICJ3ZWlnaHQiOiAzfQogICAgICAgICAgICApLmFkZFRvKG1hcF81NzVmYWYxMjE2Y2Y0YTRhOGVlMmEzMjg5ODMwYTlmNik7CiAgICAgICAgCiAgICAKICAgICAgICAgICAgY2lyY2xlXzgxYWU3Nzc3YzZlMTRhNWFhZDA3Mzk0MmFmYTI0NGM1LmJpbmRUb29sdGlwKAogICAgICAgICAgICAgICAgYDxkaXY+CiAgICAgICAgICAgICAgICAgICAgIDxkaXYgc3R5bGU9J21hcmdpbjowOyBiYWNrZ3JvdW5kLWNvbG9yOiBmaXJlYnJpY2s7IGNvbG9yOiB3aGl0ZTsnPjxoNCBzdHlsZT0ndGV4dC1hbGlnbjpjZW50ZXI7IGZvbnQtd2VpZ2h0OiBib2xkJz5QYW5hbWE8L2g0PjxociBzdHlsZT0nbWFyZ2luOjEwcHg7IGNvbG9yOiB3aGl0ZTsnPjx1bCBzdHlsZT0nY29sb3I6IHdoaXRlOztsaXN0LXN0eWxlLXR5cGU6IGNpcmNsZTsgYWxpZ24taXRlbTogbGVmdDsgcGFkZGluZy1sZWZ0OiAyMHB4OyBwYWRkaW5nLXJpZ2h0OjIwcHgnPjxsaT5Ub3RhbCBjYXNlczogNTY4MTc8L2xpPjxsaT5EZWF0aHM6IDEyMDk8L2xpPjxsaT5EZWF0aCByYXRlIDogMi4xMyUgPC9saT48L3VsPjwvZGl2PgogICAgICAgICAgICAgICAgIDwvZGl2PmAsCiAgICAgICAgICAgICAgICB7InN0aWNreSI6IHRydWV9CiAgICAgICAgICAgICk7CiAgICAgICAgCiAgICAKICAgICAgICAgICAgdmFyIGNpcmNsZV8yZWM2NzhlMWJiZWU0MjBmYjBiZTRiYWJmYzhhNTViNyA9IEwuY2lyY2xlKAogICAgICAgICAgICAgICAgWy02LjMxNDk5MywgMTQzLjk1NTU1XSwKICAgICAgICAgICAgICAgIHsiYnViYmxpbmdNb3VzZUV2ZW50cyI6IHRydWUsICJjb2xvciI6ICJjcmltc29uIiwgImRhc2hBcnJheSI6IG51bGwsICJkYXNoT2Zmc2V0IjogbnVsbCwgImZpbGwiOiB0cnVlLCAiZmlsbENvbG9yIjogImNyaW1zb24iLCAiZmlsbE9wYWNpdHkiOiAwLjIsICJmaWxsUnVsZSI6ICJldmVub2RkIiwgImxpbmVDYXAiOiAicm91bmQiLCAibGluZUpvaW4iOiAicm91bmQiLCAib3BhY2l0eSI6IDEuMCwgInJhZGl1cyI6IDE2MDAwMC4wLCAic3Ryb2tlIjogdHJ1ZSwgIndlaWdodCI6IDN9CiAgICAgICAgICAgICkuYWRkVG8obWFwXzU3NWZhZjEyMTZjZjRhNGE4ZWUyYTMyODk4MzBhOWY2KTsKICAgICAgICAKICAgIAogICAgICAgICAgICBjaXJjbGVfMmVjNjc4ZTFiYmVlNDIwZmIwYmU0YmFiZmM4YTU1YjcuYmluZFRvb2x0aXAoCiAgICAgICAgICAgICAgICBgPGRpdj4KICAgICAgICAgICAgICAgICAgICAgPGRpdiBzdHlsZT0nbWFyZ2luOjA7IGJhY2tncm91bmQtY29sb3I6IGZpcmVicmljazsgY29sb3I6IHdoaXRlOyc+PGg0IHN0eWxlPSd0ZXh0LWFsaWduOmNlbnRlcjsgZm9udC13ZWlnaHQ6IGJvbGQnPlBhcHVhIE5ldyBHdWluZWE8L2g0PjxociBzdHlsZT0nbWFyZ2luOjEwcHg7IGNvbG9yOiB3aGl0ZTsnPjx1bCBzdHlsZT0nY29sb3I6IHdoaXRlOztsaXN0LXN0eWxlLXR5cGU6IGNpcmNsZTsgYWxpZ24taXRlbTogbGVmdDsgcGFkZGluZy1sZWZ0OiAyMHB4OyBwYWRkaW5nLXJpZ2h0OjIwcHgnPjxsaT5Ub3RhbCBjYXNlczogMzE8L2xpPjxsaT5EZWF0aHM6IDA8L2xpPjxsaT5EZWF0aCByYXRlIDogMC4wJSA8L2xpPjwvdWw+PC9kaXY+CiAgICAgICAgICAgICAgICAgPC9kaXY+YCwKICAgICAgICAgICAgICAgIHsic3RpY2t5IjogdHJ1ZX0KICAgICAgICAgICAgKTsKICAgICAgICAKICAgIAogICAgICAgICAgICB2YXIgY2lyY2xlX2RkOWY5MTEwNTEwMDRjNDNhNmJlYWUzZDQxZTNiYzY0ID0gTC5jaXJjbGUoCiAgICAgICAgICAgICAgICBbLTIzLjQ0MjUsIC01OC40NDM4XSwKICAgICAgICAgICAgICAgIHsiYnViYmxpbmdNb3VzZUV2ZW50cyI6IHRydWUsICJjb2xvciI6ICJjcmltc29uIiwgImRhc2hBcnJheSI6IG51bGwsICJkYXNoT2Zmc2V0IjogbnVsbCwgImZpbGwiOiB0cnVlLCAiZmlsbENvbG9yIjogImNyaW1zb24iLCAiZmlsbE9wYWNpdHkiOiAwLjIsICJmaWxsUnVsZSI6ICJldmVub2RkIiwgImxpbmVDYXAiOiAicm91bmQiLCAibGluZUpvaW4iOiAicm91bmQiLCAib3BhY2l0eSI6IDEuMCwgInJhZGl1cyI6IDQwOTk5OS45OTk5OTk5OTk5NCwgInN0cm9rZSI6IHRydWUsICJ3ZWlnaHQiOiAzfQogICAgICAgICAgICApLmFkZFRvKG1hcF81NzVmYWYxMjE2Y2Y0YTRhOGVlMmEzMjg5ODMwYTlmNik7CiAgICAgICAgCiAgICAKICAgICAgICAgICAgY2lyY2xlX2RkOWY5MTEwNTEwMDRjNDNhNmJlYWUzZDQxZTNiYzY0LmJpbmRUb29sdGlwKAogICAgICAgICAgICAgICAgYDxkaXY+CiAgICAgICAgICAgICAgICAgICAgIDxkaXYgc3R5bGU9J21hcmdpbjowOyBiYWNrZ3JvdW5kLWNvbG9yOiBmaXJlYnJpY2s7IGNvbG9yOiB3aGl0ZTsnPjxoNCBzdHlsZT0ndGV4dC1hbGlnbjpjZW50ZXI7IGZvbnQtd2VpZ2h0OiBib2xkJz5QYXJhZ3VheTwvaDQ+PGhyIHN0eWxlPSdtYXJnaW46MTBweDsgY29sb3I6IHdoaXRlOyc+PHVsIHN0eWxlPSdjb2xvcjogd2hpdGU7O2xpc3Qtc3R5bGUtdHlwZTogY2lyY2xlOyBhbGlnbi1pdGVtOiBsZWZ0OyBwYWRkaW5nLWxlZnQ6IDIwcHg7IHBhZGRpbmctcmlnaHQ6MjBweCc+PGxpPlRvdGFsIGNhc2VzOiA0MTEzPC9saT48bGk+RGVhdGhzOiAzNjwvbGk+PGxpPkRlYXRoIHJhdGUgOiAwLjg4JSA8L2xpPjwvdWw+PC9kaXY+CiAgICAgICAgICAgICAgICAgPC9kaXY+YCwKICAgICAgICAgICAgICAgIHsic3RpY2t5IjogdHJ1ZX0KICAgICAgICAgICAgKTsKICAgICAgICAKICAgIAogICAgICAgICAgICB2YXIgY2lyY2xlXzEwOTIzMjU1NzAxNTQ2MTY5NDQyNDcxMTBmNTRjY2VlID0gTC5jaXJjbGUoCiAgICAgICAgICAgICAgICBbLTkuMTksIC03NS4wMTUyXSwKICAgICAgICAgICAgICAgIHsiYnViYmxpbmdNb3VzZUV2ZW50cyI6IHRydWUsICJjb2xvciI6ICJjcmltc29uIiwgImRhc2hBcnJheSI6IG51bGwsICJkYXNoT2Zmc2V0IjogbnVsbCwgImZpbGwiOiB0cnVlLCAiZmlsbENvbG9yIjogImNyaW1zb24iLCAiZmlsbE9wYWNpdHkiOiAwLjIsICJmaWxsUnVsZSI6ICJldmVub2RkIiwgImxpbmVDYXAiOiAicm91bmQiLCAibGluZUpvaW4iOiAicm91bmQiLCAib3BhY2l0eSI6IDEuMCwgInJhZGl1cyI6IDYxMDAwMC4wLCAic3Ryb2tlIjogdHJ1ZSwgIndlaWdodCI6IDN9CiAgICAgICAgICAgICkuYWRkVG8obWFwXzU3NWZhZjEyMTZjZjRhNGE4ZWUyYTMyODk4MzBhOWY2KTsKICAgICAgICAKICAgIAogICAgICAgICAgICBjaXJjbGVfMTA5MjMyNTU3MDE1NDYxNjk0NDI0NzExMGY1NGNjZWUuYmluZFRvb2x0aXAoCiAgICAgICAgICAgICAgICBgPGRpdj4KICAgICAgICAgICAgICAgICAgICAgPGRpdiBzdHlsZT0nbWFyZ2luOjA7IGJhY2tncm91bmQtY29sb3I6IGZpcmVicmljazsgY29sb3I6IHdoaXRlOyc+PGg0IHN0eWxlPSd0ZXh0LWFsaWduOmNlbnRlcjsgZm9udC13ZWlnaHQ6IGJvbGQnPlBlcnU8L2g0PjxociBzdHlsZT0nbWFyZ2luOjEwcHg7IGNvbG9yOiB3aGl0ZTsnPjx1bCBzdHlsZT0nY29sb3I6IHdoaXRlOztsaXN0LXN0eWxlLXR5cGU6IGNpcmNsZTsgYWxpZ24taXRlbTogbGVmdDsgcGFkZGluZy1sZWZ0OiAyMHB4OyBwYWRkaW5nLXJpZ2h0OjIwcHgnPjxsaT5Ub3RhbCBjYXNlczogMzcxMDk2PC9saT48bGk+RGVhdGhzOiAxNzY1NDwvbGk+PGxpPkRlYXRoIHJhdGUgOiA0Ljc2JSA8L2xpPjwvdWw+PC9kaXY+CiAgICAgICAgICAgICAgICAgPC9kaXY+YCwKICAgICAgICAgICAgICAgIHsic3RpY2t5IjogdHJ1ZX0KICAgICAgICAgICAgKTsKICAgICAgICAKICAgIAogICAgICAgICAgICB2YXIgY2lyY2xlXzMyMmJiZGMxYzk5OTRlMWU4NTVkOGZhYmMwODc1YzMyID0gTC5jaXJjbGUoCiAgICAgICAgICAgICAgICBbMTIuODc5NzIxLCAxMjEuNzc0MDE2OTk5OTk5OTldLAogICAgICAgICAgICAgICAgeyJidWJibGluZ01vdXNlRXZlbnRzIjogdHJ1ZSwgImNvbG9yIjogImNyaW1zb24iLCAiZGFzaEFycmF5IjogbnVsbCwgImRhc2hPZmZzZXQiOiBudWxsLCAiZmlsbCI6IHRydWUsICJmaWxsQ29sb3IiOiAiY3JpbXNvbiIsICJmaWxsT3BhY2l0eSI6IDAuMiwgImZpbGxSdWxlIjogImV2ZW5vZGQiLCAibGluZUNhcCI6ICJyb3VuZCIsICJsaW5lSm9pbiI6ICJyb3VuZCIsICJvcGFjaXR5IjogMS4wLCAicmFkaXVzIjogNTYwMDAwLjAsICJzdHJva2UiOiB0cnVlLCAid2VpZ2h0IjogM30KICAgICAgICAgICAgKS5hZGRUbyhtYXBfNTc1ZmFmMTIxNmNmNGE0YThlZTJhMzI4OTgzMGE5ZjYpOwogICAgICAgIAogICAgCiAgICAgICAgICAgIGNpcmNsZV8zMjJiYmRjMWM5OTk0ZTFlODU1ZDhmYWJjMDg3NWMzMi5iaW5kVG9vbHRpcCgKICAgICAgICAgICAgICAgIGA8ZGl2PgogICAgICAgICAgICAgICAgICAgICA8ZGl2IHN0eWxlPSdtYXJnaW46MDsgYmFja2dyb3VuZC1jb2xvcjogZmlyZWJyaWNrOyBjb2xvcjogd2hpdGU7Jz48aDQgc3R5bGU9J3RleHQtYWxpZ246Y2VudGVyOyBmb250LXdlaWdodDogYm9sZCc+UGhpbGlwcGluZXM8L2g0PjxociBzdHlsZT0nbWFyZ2luOjEwcHg7IGNvbG9yOiB3aGl0ZTsnPjx1bCBzdHlsZT0nY29sb3I6IHdoaXRlOztsaXN0LXN0eWxlLXR5cGU6IGNpcmNsZTsgYWxpZ24taXRlbTogbGVmdDsgcGFkZGluZy1sZWZ0OiAyMHB4OyBwYWRkaW5nLXJpZ2h0OjIwcHgnPjxsaT5Ub3RhbCBjYXNlczogNzQzOTA8L2xpPjxsaT5EZWF0aHM6IDE4NzE8L2xpPjxsaT5EZWF0aCByYXRlIDogMi41MiUgPC9saT48L3VsPjwvZGl2PgogICAgICAgICAgICAgICAgIDwvZGl2PmAsCiAgICAgICAgICAgICAgICB7InN0aWNreSI6IHRydWV9CiAgICAgICAgICAgICk7CiAgICAgICAgCiAgICAKICAgICAgICAgICAgdmFyIGNpcmNsZV84ZmQ0YmVjNDBiZDA0NWI3OTQ0ZDBkMGY5ODYzMDBjYSA9IEwuY2lyY2xlKAogICAgICAgICAgICAgICAgWzUxLjkxOTQsIDE5LjE0NTFdLAogICAgICAgICAgICAgICAgeyJidWJibGluZ01vdXNlRXZlbnRzIjogdHJ1ZSwgImNvbG9yIjogImNyaW1zb24iLCAiZGFzaEFycmF5IjogbnVsbCwgImRhc2hPZmZzZXQiOiBudWxsLCAiZmlsbCI6IHRydWUsICJmaWxsQ29sb3IiOiAiY3JpbXNvbiIsICJmaWxsT3BhY2l0eSI6IDAuMiwgImZpbGxSdWxlIjogImV2ZW5vZGQiLCAibGluZUNhcCI6ICJyb3VuZCIsICJsaW5lSm9pbiI6ICJyb3VuZCIsICJvcGFjaXR5IjogMS4wLCAicmFkaXVzIjogNTA5OTk5Ljk5OTk5OTk5OTk0LCAic3Ryb2tlIjogdHJ1ZSwgIndlaWdodCI6IDN9CiAgICAgICAgICAgICkuYWRkVG8obWFwXzU3NWZhZjEyMTZjZjRhNGE4ZWUyYTMyODk4MzBhOWY2KTsKICAgICAgICAKICAgIAogICAgICAgICAgICBjaXJjbGVfOGZkNGJlYzQwYmQwNDViNzk0NGQwZDBmOTg2MzAwY2EuYmluZFRvb2x0aXAoCiAgICAgICAgICAgICAgICBgPGRpdj4KICAgICAgICAgICAgICAgICAgICAgPGRpdiBzdHlsZT0nbWFyZ2luOjA7IGJhY2tncm91bmQtY29sb3I6IGZpcmVicmljazsgY29sb3I6IHdoaXRlOyc+PGg0IHN0eWxlPSd0ZXh0LWFsaWduOmNlbnRlcjsgZm9udC13ZWlnaHQ6IGJvbGQnPlBvbGFuZDwvaDQ+PGhyIHN0eWxlPSdtYXJnaW46MTBweDsgY29sb3I6IHdoaXRlOyc+PHVsIHN0eWxlPSdjb2xvcjogd2hpdGU7O2xpc3Qtc3R5bGUtdHlwZTogY2lyY2xlOyBhbGlnbi1pdGVtOiBsZWZ0OyBwYWRkaW5nLWxlZnQ6IDIwcHg7IHBhZGRpbmctcmlnaHQ6MjBweCc+PGxpPlRvdGFsIGNhc2VzOiA0MTU4MDwvbGk+PGxpPkRlYXRoczogMTY1MTwvbGk+PGxpPkRlYXRoIHJhdGUgOiAzLjk3JSA8L2xpPjwvdWw+PC9kaXY+CiAgICAgICAgICAgICAgICAgPC9kaXY+YCwKICAgICAgICAgICAgICAgIHsic3RpY2t5IjogdHJ1ZX0KICAgICAgICAgICAgKTsKICAgICAgICAKICAgIAogICAgICAgICAgICB2YXIgY2lyY2xlX2QwMTM3ZDY4ZTA5NzQ2OThiNmEwOGM4OTdmODgyODNmID0gTC5jaXJjbGUoCiAgICAgICAgICAgICAgICBbMzkuMzk5OSwgLTguMjI0NV0sCiAgICAgICAgICAgICAgICB7ImJ1YmJsaW5nTW91c2VFdmVudHMiOiB0cnVlLCAiY29sb3IiOiAiY3JpbXNvbiIsICJkYXNoQXJyYXkiOiBudWxsLCAiZGFzaE9mZnNldCI6IG51bGwsICJmaWxsIjogdHJ1ZSwgImZpbGxDb2xvciI6ICJjcmltc29uIiwgImZpbGxPcGFjaXR5IjogMC4yLCAiZmlsbFJ1bGUiOiAiZXZlbm9kZCIsICJsaW5lQ2FwIjogInJvdW5kIiwgImxpbmVKb2luIjogInJvdW5kIiwgIm9wYWNpdHkiOiAxLjAsICJyYWRpdXMiOiA1MDk5OTkuOTk5OTk5OTk5OTQsICJzdHJva2UiOiB0cnVlLCAid2VpZ2h0IjogM30KICAgICAgICAgICAgKS5hZGRUbyhtYXBfNTc1ZmFmMTIxNmNmNGE0YThlZTJhMzI4OTgzMGE5ZjYpOwogICAgICAgIAogICAgCiAgICAgICAgICAgIGNpcmNsZV9kMDEzN2Q2OGUwOTc0Njk4YjZhMDhjODk3Zjg4MjgzZi5iaW5kVG9vbHRpcCgKICAgICAgICAgICAgICAgIGA8ZGl2PgogICAgICAgICAgICAgICAgICAgICA8ZGl2IHN0eWxlPSdtYXJnaW46MDsgYmFja2dyb3VuZC1jb2xvcjogZmlyZWJyaWNrOyBjb2xvcjogd2hpdGU7Jz48aDQgc3R5bGU9J3RleHQtYWxpZ246Y2VudGVyOyBmb250LXdlaWdodDogYm9sZCc+UG9ydHVnYWw8L2g0PjxociBzdHlsZT0nbWFyZ2luOjEwcHg7IGNvbG9yOiB3aGl0ZTsnPjx1bCBzdHlsZT0nY29sb3I6IHdoaXRlOztsaXN0LXN0eWxlLXR5cGU6IGNpcmNsZTsgYWxpZ24taXRlbTogbGVmdDsgcGFkZGluZy1sZWZ0OiAyMHB4OyBwYWRkaW5nLXJpZ2h0OjIwcHgnPjxsaT5Ub3RhbCBjYXNlczogNDkzNzk8L2xpPjxsaT5EZWF0aHM6IDE3MDU8L2xpPjxsaT5EZWF0aCByYXRlIDogMy40NSUgPC9saT48L3VsPjwvZGl2PgogICAgICAgICAgICAgICAgIDwvZGl2PmAsCiAgICAgICAgICAgICAgICB7InN0aWNreSI6IHRydWV9CiAgICAgICAgICAgICk7CiAgICAgICAgCiAgICAKICAgICAgICAgICAgdmFyIGNpcmNsZV8zMTcwZDAzZjBkNDU0M2YxODI2YmRlY2U1YjI4MGJmMyA9IEwuY2lyY2xlKAogICAgICAgICAgICAgICAgWzI1LjM1NDgsIDUxLjE4MzldLAogICAgICAgICAgICAgICAgeyJidWJibGluZ01vdXNlRXZlbnRzIjogdHJ1ZSwgImNvbG9yIjogImNyaW1zb24iLCAiZGFzaEFycmF5IjogbnVsbCwgImRhc2hPZmZzZXQiOiBudWxsLCAiZmlsbCI6IHRydWUsICJmaWxsQ29sb3IiOiAiY3JpbXNvbiIsICJmaWxsT3BhY2l0eSI6IDAuMiwgImZpbGxSdWxlIjogImV2ZW5vZGQiLCAibGluZUNhcCI6ICJyb3VuZCIsICJsaW5lSm9pbiI6ICJyb3VuZCIsICJvcGFjaXR5IjogMS4wLCAicmFkaXVzIjogNTYwMDAwLjAsICJzdHJva2UiOiB0cnVlLCAid2VpZ2h0IjogM30KICAgICAgICAgICAgKS5hZGRUbyhtYXBfNTc1ZmFmMTIxNmNmNGE0YThlZTJhMzI4OTgzMGE5ZjYpOwogICAgICAgIAogICAgCiAgICAgICAgICAgIGNpcmNsZV8zMTcwZDAzZjBkNDU0M2YxODI2YmRlY2U1YjI4MGJmMy5iaW5kVG9vbHRpcCgKICAgICAgICAgICAgICAgIGA8ZGl2PgogICAgICAgICAgICAgICAgICAgICA8ZGl2IHN0eWxlPSdtYXJnaW46MDsgYmFja2dyb3VuZC1jb2xvcjogZmlyZWJyaWNrOyBjb2xvcjogd2hpdGU7Jz48aDQgc3R5bGU9J3RleHQtYWxpZ246Y2VudGVyOyBmb250LXdlaWdodDogYm9sZCc+UWF0YXI8L2g0PjxociBzdHlsZT0nbWFyZ2luOjEwcHg7IGNvbG9yOiB3aGl0ZTsnPjx1bCBzdHlsZT0nY29sb3I6IHdoaXRlOztsaXN0LXN0eWxlLXR5cGU6IGNpcmNsZTsgYWxpZ24taXRlbTogbGVmdDsgcGFkZGluZy1sZWZ0OiAyMHB4OyBwYWRkaW5nLXJpZ2h0OjIwcHgnPjxsaT5Ub3RhbCBjYXNlczogMTA4MjQ0PC9saT48bGk+RGVhdGhzOiAxNjQ8L2xpPjxsaT5EZWF0aCByYXRlIDogMC4xNSUgPC9saT48L3VsPjwvZGl2PgogICAgICAgICAgICAgICAgIDwvZGl2PmAsCiAgICAgICAgICAgICAgICB7InN0aWNreSI6IHRydWV9CiAgICAgICAgICAgICk7CiAgICAgICAgCiAgICAKICAgICAgICAgICAgdmFyIGNpcmNsZV85ZWUyMDE3MGJhMjA0MGQyOGEwYTc5ZmZlNDgwNjVjYiA9IEwuY2lyY2xlKAogICAgICAgICAgICAgICAgWzQ1Ljk0MzIsIDI0Ljk2NjhdLAogICAgICAgICAgICAgICAgeyJidWJibGluZ01vdXNlRXZlbnRzIjogdHJ1ZSwgImNvbG9yIjogImNyaW1zb24iLCAiZGFzaEFycmF5IjogbnVsbCwgImRhc2hPZmZzZXQiOiBudWxsLCAiZmlsbCI6IHRydWUsICJmaWxsQ29sb3IiOiAiY3JpbXNvbiIsICJmaWxsT3BhY2l0eSI6IDAuMiwgImZpbGxSdWxlIjogImV2ZW5vZGQiLCAibGluZUNhcCI6ICJyb3VuZCIsICJsaW5lSm9pbiI6ICJyb3VuZCIsICJvcGFjaXR5IjogMS4wLCAicmFkaXVzIjogNTA5OTk5Ljk5OTk5OTk5OTk0LCAic3Ryb2tlIjogdHJ1ZSwgIndlaWdodCI6IDN9CiAgICAgICAgICAgICkuYWRkVG8obWFwXzU3NWZhZjEyMTZjZjRhNGE4ZWUyYTMyODk4MzBhOWY2KTsKICAgICAgICAKICAgIAogICAgICAgICAgICBjaXJjbGVfOWVlMjAxNzBiYTIwNDBkMjhhMGE3OWZmZTQ4MDY1Y2IuYmluZFRvb2x0aXAoCiAgICAgICAgICAgICAgICBgPGRpdj4KICAgICAgICAgICAgICAgICAgICAgPGRpdiBzdHlsZT0nbWFyZ2luOjA7IGJhY2tncm91bmQtY29sb3I6IGZpcmVicmljazsgY29sb3I6IHdoaXRlOyc+PGg0IHN0eWxlPSd0ZXh0LWFsaWduOmNlbnRlcjsgZm9udC13ZWlnaHQ6IGJvbGQnPlJvbWFuaWE8L2g0PjxociBzdHlsZT0nbWFyZ2luOjEwcHg7IGNvbG9yOiB3aGl0ZTsnPjx1bCBzdHlsZT0nY29sb3I6IHdoaXRlOztsaXN0LXN0eWxlLXR5cGU6IGNpcmNsZTsgYWxpZ24taXRlbTogbGVmdDsgcGFkZGluZy1sZWZ0OiAyMHB4OyBwYWRkaW5nLXJpZ2h0OjIwcHgnPjxsaT5Ub3RhbCBjYXNlczogNDEyNzU8L2xpPjxsaT5EZWF0aHM6IDIxMjY8L2xpPjxsaT5EZWF0aCByYXRlIDogNS4xNSUgPC9saT48L3VsPjwvZGl2PgogICAgICAgICAgICAgICAgIDwvZGl2PmAsCiAgICAgICAgICAgICAgICB7InN0aWNreSI6IHRydWV9CiAgICAgICAgICAgICk7CiAgICAgICAgCiAgICAKICAgICAgICAgICAgdmFyIGNpcmNsZV82ZmVmOTdlMTY0NWM0ZTNkODk4ZWE0NGQ5MWMyZmJlOSA9IEwuY2lyY2xlKAogICAgICAgICAgICAgICAgWzYxLjUyNDAxLCAxMDUuMzE4NzU2MDAwMDAwMDFdLAogICAgICAgICAgICAgICAgeyJidWJibGluZ01vdXNlRXZlbnRzIjogdHJ1ZSwgImNvbG9yIjogImNyaW1zb24iLCAiZGFzaEFycmF5IjogbnVsbCwgImRhc2hPZmZzZXQiOiBudWxsLCAiZmlsbCI6IHRydWUsICJmaWxsQ29sb3IiOiAiY3JpbXNvbiIsICJmaWxsT3BhY2l0eSI6IDAuMiwgImZpbGxSdWxlIjogImV2ZW5vZGQiLCAibGluZUNhcCI6ICJyb3VuZCIsICJsaW5lSm9pbiI6ICJyb3VuZCIsICJvcGFjaXR5IjogMS4wLCAicmFkaXVzIjogNjYwMDAwLjAsICJzdHJva2UiOiB0cnVlLCAid2VpZ2h0IjogM30KICAgICAgICAgICAgKS5hZGRUbyhtYXBfNTc1ZmFmMTIxNmNmNGE0YThlZTJhMzI4OTgzMGE5ZjYpOwogICAgICAgIAogICAgCiAgICAgICAgICAgIGNpcmNsZV82ZmVmOTdlMTY0NWM0ZTNkODk4ZWE0NGQ5MWMyZmJlOS5iaW5kVG9vbHRpcCgKICAgICAgICAgICAgICAgIGA8ZGl2PgogICAgICAgICAgICAgICAgICAgICA8ZGl2IHN0eWxlPSdtYXJnaW46MDsgYmFja2dyb3VuZC1jb2xvcjogZmlyZWJyaWNrOyBjb2xvcjogd2hpdGU7Jz48aDQgc3R5bGU9J3RleHQtYWxpZ246Y2VudGVyOyBmb250LXdlaWdodDogYm9sZCc+UnVzc2lhPC9oND48aHIgc3R5bGU9J21hcmdpbjoxMHB4OyBjb2xvcjogd2hpdGU7Jz48dWwgc3R5bGU9J2NvbG9yOiB3aGl0ZTs7bGlzdC1zdHlsZS10eXBlOiBjaXJjbGU7IGFsaWduLWl0ZW06IGxlZnQ7IHBhZGRpbmctbGVmdDogMjBweDsgcGFkZGluZy1yaWdodDoyMHB4Jz48bGk+VG90YWwgY2FzZXM6IDc5MzcyMDwvbGk+PGxpPkRlYXRoczogMTI4NzM8L2xpPjxsaT5EZWF0aCByYXRlIDogMS42MiUgPC9saT48L3VsPjwvZGl2PgogICAgICAgICAgICAgICAgIDwvZGl2PmAsCiAgICAgICAgICAgICAgICB7InN0aWNreSI6IHRydWV9CiAgICAgICAgICAgICk7CiAgICAgICAgCiAgICAKICAgICAgICAgICAgdmFyIGNpcmNsZV9kMjI2NTc2Nzk5NzM0YTk0YTA0YWYyMDc2NTU0ZWU5NiA9IEwuY2lyY2xlKAogICAgICAgICAgICAgICAgWy0xLjk0MDMsIDI5Ljg3MzldLAogICAgICAgICAgICAgICAgeyJidWJibGluZ01vdXNlRXZlbnRzIjogdHJ1ZSwgImNvbG9yIjogImNyaW1zb24iLCAiZGFzaEFycmF5IjogbnVsbCwgImRhc2hPZmZzZXQiOiBudWxsLCAiZmlsbCI6IHRydWUsICJmaWxsQ29sb3IiOiAiY3JpbXNvbiIsICJmaWxsT3BhY2l0eSI6IDAuMiwgImZpbGxSdWxlIjogImV2ZW5vZGQiLCAibGluZUNhcCI6ICJyb3VuZCIsICJsaW5lSm9pbiI6ICJyb3VuZCIsICJvcGFjaXR5IjogMS4wLCAicmFkaXVzIjogMzYwMDAwLjAsICJzdHJva2UiOiB0cnVlLCAid2VpZ2h0IjogM30KICAgICAgICAgICAgKS5hZGRUbyhtYXBfNTc1ZmFmMTIxNmNmNGE0YThlZTJhMzI4OTgzMGE5ZjYpOwogICAgICAgIAogICAgCiAgICAgICAgICAgIGNpcmNsZV9kMjI2NTc2Nzk5NzM0YTk0YTA0YWYyMDc2NTU0ZWU5Ni5iaW5kVG9vbHRpcCgKICAgICAgICAgICAgICAgIGA8ZGl2PgogICAgICAgICAgICAgICAgICAgICA8ZGl2IHN0eWxlPSdtYXJnaW46MDsgYmFja2dyb3VuZC1jb2xvcjogZmlyZWJyaWNrOyBjb2xvcjogd2hpdGU7Jz48aDQgc3R5bGU9J3RleHQtYWxpZ246Y2VudGVyOyBmb250LXdlaWdodDogYm9sZCc+UndhbmRhPC9oND48aHIgc3R5bGU9J21hcmdpbjoxMHB4OyBjb2xvcjogd2hpdGU7Jz48dWwgc3R5bGU9J2NvbG9yOiB3aGl0ZTs7bGlzdC1zdHlsZS10eXBlOiBjaXJjbGU7IGFsaWduLWl0ZW06IGxlZnQ7IHBhZGRpbmctbGVmdDogMjBweDsgcGFkZGluZy1yaWdodDoyMHB4Jz48bGk+VG90YWwgY2FzZXM6IDE3MTA8L2xpPjxsaT5EZWF0aHM6IDU8L2xpPjxsaT5EZWF0aCByYXRlIDogMC4yOSUgPC9saT48L3VsPjwvZGl2PgogICAgICAgICAgICAgICAgIDwvZGl2PmAsCiAgICAgICAgICAgICAgICB7InN0aWNreSI6IHRydWV9CiAgICAgICAgICAgICk7CiAgICAgICAgCiAgICAKICAgICAgICAgICAgdmFyIGNpcmNsZV9hZmVhYjhiMmU5YWM0NTYzOTViYjMwNWJiZjg4NTUwYyA9IEwuY2lyY2xlKAogICAgICAgICAgICAgICAgWzEzLjkwOTQsIC02MC45Nzg5XSwKICAgICAgICAgICAgICAgIHsiYnViYmxpbmdNb3VzZUV2ZW50cyI6IHRydWUsICJjb2xvciI6ICJjcmltc29uIiwgImRhc2hBcnJheSI6IG51bGwsICJkYXNoT2Zmc2V0IjogbnVsbCwgImZpbGwiOiB0cnVlLCAiZmlsbENvbG9yIjogImNyaW1zb24iLCAiZmlsbE9wYWNpdHkiOiAwLjIsICJmaWxsUnVsZSI6ICJldmVub2RkIiwgImxpbmVDYXAiOiAicm91bmQiLCAibGluZUpvaW4iOiAicm91bmQiLCAib3BhY2l0eSI6IDEuMCwgInJhZGl1cyI6IDE2MDAwMC4wLCAic3Ryb2tlIjogdHJ1ZSwgIndlaWdodCI6IDN9CiAgICAgICAgICAgICkuYWRkVG8obWFwXzU3NWZhZjEyMTZjZjRhNGE4ZWUyYTMyODk4MzBhOWY2KTsKICAgICAgICAKICAgIAogICAgICAgICAgICBjaXJjbGVfYWZlYWI4YjJlOWFjNDU2Mzk1YmIzMDViYmY4ODU1MGMuYmluZFRvb2x0aXAoCiAgICAgICAgICAgICAgICBgPGRpdj4KICAgICAgICAgICAgICAgICAgICAgPGRpdiBzdHlsZT0nbWFyZ2luOjA7IGJhY2tncm91bmQtY29sb3I6IGZpcmVicmljazsgY29sb3I6IHdoaXRlOyc+PGg0IHN0eWxlPSd0ZXh0LWFsaWduOmNlbnRlcjsgZm9udC13ZWlnaHQ6IGJvbGQnPlNhaW50IEx1Y2lhPC9oND48aHIgc3R5bGU9J21hcmdpbjoxMHB4OyBjb2xvcjogd2hpdGU7Jz48dWwgc3R5bGU9J2NvbG9yOiB3aGl0ZTs7bGlzdC1zdHlsZS10eXBlOiBjaXJjbGU7IGFsaWduLWl0ZW06IGxlZnQ7IHBhZGRpbmctbGVmdDogMjBweDsgcGFkZGluZy1yaWdodDoyMHB4Jz48bGk+VG90YWwgY2FzZXM6IDI0PC9saT48bGk+RGVhdGhzOiAwPC9saT48bGk+RGVhdGggcmF0ZSA6IDAuMCUgPC9saT48L3VsPjwvZGl2PgogICAgICAgICAgICAgICAgIDwvZGl2PmAsCiAgICAgICAgICAgICAgICB7InN0aWNreSI6IHRydWV9CiAgICAgICAgICAgICk7CiAgICAgICAgCiAgICAKICAgICAgICAgICAgdmFyIGNpcmNsZV84YTZhMTFlMWY0MmI0NjBkOTgwOWMzZTFiYjUyMzdjOCA9IEwuY2lyY2xlKAogICAgICAgICAgICAgICAgWzEyLjk4NDMsIC02MS4yODcyXSwKICAgICAgICAgICAgICAgIHsiYnViYmxpbmdNb3VzZUV2ZW50cyI6IHRydWUsICJjb2xvciI6ICJjcmltc29uIiwgImRhc2hBcnJheSI6IG51bGwsICJkYXNoT2Zmc2V0IjogbnVsbCwgImZpbGwiOiB0cnVlLCAiZmlsbENvbG9yIjogImNyaW1zb24iLCAiZmlsbE9wYWNpdHkiOiAwLjIsICJmaWxsUnVsZSI6ICJldmVub2RkIiwgImxpbmVDYXAiOiAicm91bmQiLCAibGluZUpvaW4iOiAicm91bmQiLCAib3BhY2l0eSI6IDEuMCwgInJhZGl1cyI6IDE2MDAwMC4wLCAic3Ryb2tlIjogdHJ1ZSwgIndlaWdodCI6IDN9CiAgICAgICAgICAgICkuYWRkVG8obWFwXzU3NWZhZjEyMTZjZjRhNGE4ZWUyYTMyODk4MzBhOWY2KTsKICAgICAgICAKICAgIAogICAgICAgICAgICBjaXJjbGVfOGE2YTExZTFmNDJiNDYwZDk4MDljM2UxYmI1MjM3YzguYmluZFRvb2x0aXAoCiAgICAgICAgICAgICAgICBgPGRpdj4KICAgICAgICAgICAgICAgICAgICAgPGRpdiBzdHlsZT0nbWFyZ2luOjA7IGJhY2tncm91bmQtY29sb3I6IGZpcmVicmljazsgY29sb3I6IHdoaXRlOyc+PGg0IHN0eWxlPSd0ZXh0LWFsaWduOmNlbnRlcjsgZm9udC13ZWlnaHQ6IGJvbGQnPlNhaW50IFZpbmNlbnQgYW5kIHRoZSBHcmVuYWRpbmVzPC9oND48aHIgc3R5bGU9J21hcmdpbjoxMHB4OyBjb2xvcjogd2hpdGU7Jz48dWwgc3R5bGU9J2NvbG9yOiB3aGl0ZTs7bGlzdC1zdHlsZS10eXBlOiBjaXJjbGU7IGFsaWduLWl0ZW06IGxlZnQ7IHBhZGRpbmctbGVmdDogMjBweDsgcGFkZGluZy1yaWdodDoyMHB4Jz48bGk+VG90YWwgY2FzZXM6IDUyPC9saT48bGk+RGVhdGhzOiAwPC9saT48bGk+RGVhdGggcmF0ZSA6IDAuMCUgPC9saT48L3VsPjwvZGl2PgogICAgICAgICAgICAgICAgIDwvZGl2PmAsCiAgICAgICAgICAgICAgICB7InN0aWNreSI6IHRydWV9CiAgICAgICAgICAgICk7CiAgICAgICAgCiAgICAKICAgICAgICAgICAgdmFyIGNpcmNsZV9kMmQ4YjA0MzgxNDE0NTlhOWQwZWU5ZWEwZjY1OGM3OCA9IEwuY2lyY2xlKAogICAgICAgICAgICAgICAgWzQzLjk0MjQsIDEyLjQ1NzhdLAogICAgICAgICAgICAgICAgeyJidWJibGluZ01vdXNlRXZlbnRzIjogdHJ1ZSwgImNvbG9yIjogImNyaW1zb24iLCAiZGFzaEFycmF5IjogbnVsbCwgImRhc2hPZmZzZXQiOiBudWxsLCAiZmlsbCI6IHRydWUsICJmaWxsQ29sb3IiOiAiY3JpbXNvbiIsICJmaWxsT3BhY2l0eSI6IDAuMiwgImZpbGxSdWxlIjogImV2ZW5vZGQiLCAibGluZUNhcCI6ICJyb3VuZCIsICJsaW5lSm9pbiI6ICJyb3VuZCIsICJvcGFjaXR5IjogMS4wLCAicmFkaXVzIjogMzEwMDAwLjAsICJzdHJva2UiOiB0cnVlLCAid2VpZ2h0IjogM30KICAgICAgICAgICAgKS5hZGRUbyhtYXBfNTc1ZmFmMTIxNmNmNGE0YThlZTJhMzI4OTgzMGE5ZjYpOwogICAgICAgIAogICAgCiAgICAgICAgICAgIGNpcmNsZV9kMmQ4YjA0MzgxNDE0NTlhOWQwZWU5ZWEwZjY1OGM3OC5iaW5kVG9vbHRpcCgKICAgICAgICAgICAgICAgIGA8ZGl2PgogICAgICAgICAgICAgICAgICAgICA8ZGl2IHN0eWxlPSdtYXJnaW46MDsgYmFja2dyb3VuZC1jb2xvcjogZmlyZWJyaWNrOyBjb2xvcjogd2hpdGU7Jz48aDQgc3R5bGU9J3RleHQtYWxpZ246Y2VudGVyOyBmb250LXdlaWdodDogYm9sZCc+U2FuIE1hcmlubzwvaDQ+PGhyIHN0eWxlPSdtYXJnaW46MTBweDsgY29sb3I6IHdoaXRlOyc+PHVsIHN0eWxlPSdjb2xvcjogd2hpdGU7O2xpc3Qtc3R5bGUtdHlwZTogY2lyY2xlOyBhbGlnbi1pdGVtOiBsZWZ0OyBwYWRkaW5nLWxlZnQ6IDIwcHg7IHBhZGRpbmctcmlnaHQ6MjBweCc+PGxpPlRvdGFsIGNhc2VzOiA2OTk8L2xpPjxsaT5EZWF0aHM6IDQyPC9saT48bGk+RGVhdGggcmF0ZSA6IDYuMCUgPC9saT48L3VsPjwvZGl2PgogICAgICAgICAgICAgICAgIDwvZGl2PmAsCiAgICAgICAgICAgICAgICB7InN0aWNreSI6IHRydWV9CiAgICAgICAgICAgICk7CiAgICAgICAgCiAgICAKICAgICAgICAgICAgdmFyIGNpcmNsZV9lNzc4M2Q5N2E5NDU0MzQzODYxMDIwOTc5OWI5ZDZhZiA9IEwuY2lyY2xlKAogICAgICAgICAgICAgICAgWzIzLjg4NTk0MiwgNDUuMDc5MTYyXSwKICAgICAgICAgICAgICAgIHsiYnViYmxpbmdNb3VzZUV2ZW50cyI6IHRydWUsICJjb2xvciI6ICJjcmltc29uIiwgImRhc2hBcnJheSI6IG51bGwsICJkYXNoT2Zmc2V0IjogbnVsbCwgImZpbGwiOiB0cnVlLCAiZmlsbENvbG9yIjogImNyaW1zb24iLCAiZmlsbE9wYWNpdHkiOiAwLjIsICJmaWxsUnVsZSI6ICJldmVub2RkIiwgImxpbmVDYXAiOiAicm91bmQiLCAibGluZUpvaW4iOiAicm91bmQiLCAib3BhY2l0eSI6IDEuMCwgInJhZGl1cyI6IDYxMDAwMC4wLCAic3Ryb2tlIjogdHJ1ZSwgIndlaWdodCI6IDN9CiAgICAgICAgICAgICkuYWRkVG8obWFwXzU3NWZhZjEyMTZjZjRhNGE4ZWUyYTMyODk4MzBhOWY2KTsKICAgICAgICAKICAgIAogICAgICAgICAgICBjaXJjbGVfZTc3ODNkOTdhOTQ1NDM0Mzg2MTAyMDk3OTliOWQ2YWYuYmluZFRvb2x0aXAoCiAgICAgICAgICAgICAgICBgPGRpdj4KICAgICAgICAgICAgICAgICAgICAgPGRpdiBzdHlsZT0nbWFyZ2luOjA7IGJhY2tncm91bmQtY29sb3I6IGZpcmVicmljazsgY29sb3I6IHdoaXRlOyc+PGg0IHN0eWxlPSd0ZXh0LWFsaWduOmNlbnRlcjsgZm9udC13ZWlnaHQ6IGJvbGQnPlNhdWRpIEFyYWJpYTwvaDQ+PGhyIHN0eWxlPSdtYXJnaW46MTBweDsgY29sb3I6IHdoaXRlOyc+PHVsIHN0eWxlPSdjb2xvcjogd2hpdGU7O2xpc3Qtc3R5bGUtdHlwZTogY2lyY2xlOyBhbGlnbi1pdGVtOiBsZWZ0OyBwYWRkaW5nLWxlZnQ6IDIwcHg7IHBhZGRpbmctcmlnaHQ6MjBweCc+PGxpPlRvdGFsIGNhc2VzOiAyNjAzOTQ8L2xpPjxsaT5EZWF0aHM6IDI2MzU8L2xpPjxsaT5EZWF0aCByYXRlIDogMS4wMSUgPC9saT48L3VsPjwvZGl2PgogICAgICAgICAgICAgICAgIDwvZGl2PmAsCiAgICAgICAgICAgICAgICB7InN0aWNreSI6IHRydWV9CiAgICAgICAgICAgICk7CiAgICAgICAgCiAgICAKICAgICAgICAgICAgdmFyIGNpcmNsZV9lMTE0MjliZDgwOTk0NzI4YWE3MzU4N2JjYmNiYjdlMSA9IEwuY2lyY2xlKAogICAgICAgICAgICAgICAgWzE0LjQ5NzQsIC0xNC40NTI0XSwKICAgICAgICAgICAgICAgIHsiYnViYmxpbmdNb3VzZUV2ZW50cyI6IHRydWUsICJjb2xvciI6ICJjcmltc29uIiwgImRhc2hBcnJheSI6IG51bGwsICJkYXNoT2Zmc2V0IjogbnVsbCwgImZpbGwiOiB0cnVlLCAiZmlsbENvbG9yIjogImNyaW1zb24iLCAiZmlsbE9wYWNpdHkiOiAwLjIsICJmaWxsUnVsZSI6ICJldmVub2RkIiwgImxpbmVDYXAiOiAicm91bmQiLCAibGluZUpvaW4iOiAicm91bmQiLCAib3BhY2l0eSI6IDEuMCwgInJhZGl1cyI6IDQ1OTk5OS45OTk5OTk5OTk5NCwgInN0cm9rZSI6IHRydWUsICJ3ZWlnaHQiOiAzfQogICAgICAgICAgICApLmFkZFRvKG1hcF81NzVmYWYxMjE2Y2Y0YTRhOGVlMmEzMjg5ODMwYTlmNik7CiAgICAgICAgCiAgICAKICAgICAgICAgICAgY2lyY2xlX2UxMTQyOWJkODA5OTQ3MjhhYTczNTg3YmNiY2JiN2UxLmJpbmRUb29sdGlwKAogICAgICAgICAgICAgICAgYDxkaXY+CiAgICAgICAgICAgICAgICAgICAgIDxkaXYgc3R5bGU9J21hcmdpbjowOyBiYWNrZ3JvdW5kLWNvbG9yOiBmaXJlYnJpY2s7IGNvbG9yOiB3aGl0ZTsnPjxoNCBzdHlsZT0ndGV4dC1hbGlnbjpjZW50ZXI7IGZvbnQtd2VpZ2h0OiBib2xkJz5TZW5lZ2FsPC9oND48aHIgc3R5bGU9J21hcmdpbjoxMHB4OyBjb2xvcjogd2hpdGU7Jz48dWwgc3R5bGU9J2NvbG9yOiB3aGl0ZTs7bGlzdC1zdHlsZS10eXBlOiBjaXJjbGU7IGFsaWduLWl0ZW06IGxlZnQ7IHBhZGRpbmctbGVmdDogMjBweDsgcGFkZGluZy1yaWdodDoyMHB4Jz48bGk+VG90YWwgY2FzZXM6IDkyNjY8L2xpPjxsaT5EZWF0aHM6IDE3ODwvbGk+PGxpPkRlYXRoIHJhdGUgOiAxLjkyJSA8L2xpPjwvdWw+PC9kaXY+CiAgICAgICAgICAgICAgICAgPC9kaXY+YCwKICAgICAgICAgICAgICAgIHsic3RpY2t5IjogdHJ1ZX0KICAgICAgICAgICAgKTsKICAgICAgICAKICAgIAogICAgICAgICAgICB2YXIgY2lyY2xlX2Q2ZjRlMzAxNzNkZTQ5M2I4MTJlZDUyMjk4YjM4YWZjID0gTC5jaXJjbGUoCiAgICAgICAgICAgICAgICBbNDQuMDE2NSwgMjEuMDA1OV0sCiAgICAgICAgICAgICAgICB7ImJ1YmJsaW5nTW91c2VFdmVudHMiOiB0cnVlLCAiY29sb3IiOiAiY3JpbXNvbiIsICJkYXNoQXJyYXkiOiBudWxsLCAiZGFzaE9mZnNldCI6IG51bGwsICJmaWxsIjogdHJ1ZSwgImZpbGxDb2xvciI6ICJjcmltc29uIiwgImZpbGxPcGFjaXR5IjogMC4yLCAiZmlsbFJ1bGUiOiAiZXZlbm9kZCIsICJsaW5lQ2FwIjogInJvdW5kIiwgImxpbmVKb2luIjogInJvdW5kIiwgIm9wYWNpdHkiOiAxLjAsICJyYWRpdXMiOiA1MDk5OTkuOTk5OTk5OTk5OTQsICJzdHJva2UiOiB0cnVlLCAid2VpZ2h0IjogM30KICAgICAgICAgICAgKS5hZGRUbyhtYXBfNTc1ZmFmMTIxNmNmNGE0YThlZTJhMzI4OTgzMGE5ZjYpOwogICAgICAgIAogICAgCiAgICAgICAgICAgIGNpcmNsZV9kNmY0ZTMwMTczZGU0OTNiODEyZWQ1MjI5OGIzOGFmYy5iaW5kVG9vbHRpcCgKICAgICAgICAgICAgICAgIGA8ZGl2PgogICAgICAgICAgICAgICAgICAgICA8ZGl2IHN0eWxlPSdtYXJnaW46MDsgYmFja2dyb3VuZC1jb2xvcjogZmlyZWJyaWNrOyBjb2xvcjogd2hpdGU7Jz48aDQgc3R5bGU9J3RleHQtYWxpZ246Y2VudGVyOyBmb250LXdlaWdodDogYm9sZCc+U2VyYmlhPC9oND48aHIgc3R5bGU9J21hcmdpbjoxMHB4OyBjb2xvcjogd2hpdGU7Jz48dWwgc3R5bGU9J2NvbG9yOiB3aGl0ZTs7bGlzdC1zdHlsZS10eXBlOiBjaXJjbGU7IGFsaWduLWl0ZW06IGxlZnQ7IHBhZGRpbmctbGVmdDogMjBweDsgcGFkZGluZy1yaWdodDoyMHB4Jz48bGk+VG90YWwgY2FzZXM6IDIyNDQzPC9saT48bGk+RGVhdGhzOiA1MDg8L2xpPjxsaT5EZWF0aCByYXRlIDogMi4yNiUgPC9saT48L3VsPjwvZGl2PgogICAgICAgICAgICAgICAgIDwvZGl2PmAsCiAgICAgICAgICAgICAgICB7InN0aWNreSI6IHRydWV9CiAgICAgICAgICAgICk7CiAgICAgICAgCiAgICAKICAgICAgICAgICAgdmFyIGNpcmNsZV9jMWFkYTgzMmU4Njg0YTIxYWIwOTkzNzkxNDFhNGJlNSA9IEwuY2lyY2xlKAogICAgICAgICAgICAgICAgWy00LjY3OTYsIDU1LjQ5Ml0sCiAgICAgICAgICAgICAgICB7ImJ1YmJsaW5nTW91c2VFdmVudHMiOiB0cnVlLCAiY29sb3IiOiAiY3JpbXNvbiIsICJkYXNoQXJyYXkiOiBudWxsLCAiZGFzaE9mZnNldCI6IG51bGwsICJmaWxsIjogdHJ1ZSwgImZpbGxDb2xvciI6ICJjcmltc29uIiwgImZpbGxPcGFjaXR5IjogMC4yLCAiZmlsbFJ1bGUiOiAiZXZlbm9kZCIsICJsaW5lQ2FwIjogInJvdW5kIiwgImxpbmVKb2luIjogInJvdW5kIiwgIm9wYWNpdHkiOiAxLjAsICJyYWRpdXMiOiAyMTAwMDAuMCwgInN0cm9rZSI6IHRydWUsICJ3ZWlnaHQiOiAzfQogICAgICAgICAgICApLmFkZFRvKG1hcF81NzVmYWYxMjE2Y2Y0YTRhOGVlMmEzMjg5ODMwYTlmNik7CiAgICAgICAgCiAgICAKICAgICAgICAgICAgY2lyY2xlX2MxYWRhODMyZTg2ODRhMjFhYjA5OTM3OTE0MWE0YmU1LmJpbmRUb29sdGlwKAogICAgICAgICAgICAgICAgYDxkaXY+CiAgICAgICAgICAgICAgICAgICAgIDxkaXYgc3R5bGU9J21hcmdpbjowOyBiYWNrZ3JvdW5kLWNvbG9yOiBmaXJlYnJpY2s7IGNvbG9yOiB3aGl0ZTsnPjxoNCBzdHlsZT0ndGV4dC1hbGlnbjpjZW50ZXI7IGZvbnQtd2VpZ2h0OiBib2xkJz5TZXljaGVsbGVzPC9oND48aHIgc3R5bGU9J21hcmdpbjoxMHB4OyBjb2xvcjogd2hpdGU7Jz48dWwgc3R5bGU9J2NvbG9yOiB3aGl0ZTs7bGlzdC1zdHlsZS10eXBlOiBjaXJjbGU7IGFsaWduLWl0ZW06IGxlZnQ7IHBhZGRpbmctbGVmdDogMjBweDsgcGFkZGluZy1yaWdodDoyMHB4Jz48bGk+VG90YWwgY2FzZXM6IDEwODwvbGk+PGxpPkRlYXRoczogMDwvbGk+PGxpPkRlYXRoIHJhdGUgOiAwLjAlIDwvbGk+PC91bD48L2Rpdj4KICAgICAgICAgICAgICAgICA8L2Rpdj5gLAogICAgICAgICAgICAgICAgeyJzdGlja3kiOiB0cnVlfQogICAgICAgICAgICApOwogICAgICAgIAogICAgCiAgICAgICAgICAgIHZhciBjaXJjbGVfN2I2OGVhYTM4YzdhNDlmZmFkNWQyNjIxMmIxMjhhYTAgPSBMLmNpcmNsZSgKICAgICAgICAgICAgICAgIFsxLjI4MzMsIDEwMy44MzMzXSwKICAgICAgICAgICAgICAgIHsiYnViYmxpbmdNb3VzZUV2ZW50cyI6IHRydWUsICJjb2xvciI6ICJjcmltc29uIiwgImRhc2hBcnJheSI6IG51bGwsICJkYXNoT2Zmc2V0IjogbnVsbCwgImZpbGwiOiB0cnVlLCAiZmlsbENvbG9yIjogImNyaW1zb24iLCAiZmlsbE9wYWNpdHkiOiAwLjIsICJmaWxsUnVsZSI6ICJldmVub2RkIiwgImxpbmVDYXAiOiAicm91bmQiLCAibGluZUpvaW4iOiAicm91bmQiLCAib3BhY2l0eSI6IDEuMCwgInJhZGl1cyI6IDUwOTk5OS45OTk5OTk5OTk5NCwgInN0cm9rZSI6IHRydWUsICJ3ZWlnaHQiOiAzfQogICAgICAgICAgICApLmFkZFRvKG1hcF81NzVmYWYxMjE2Y2Y0YTRhOGVlMmEzMjg5ODMwYTlmNik7CiAgICAgICAgCiAgICAKICAgICAgICAgICAgY2lyY2xlXzdiNjhlYWEzOGM3YTQ5ZmZhZDVkMjYyMTJiMTI4YWEwLmJpbmRUb29sdGlwKAogICAgICAgICAgICAgICAgYDxkaXY+CiAgICAgICAgICAgICAgICAgICAgIDxkaXYgc3R5bGU9J21hcmdpbjowOyBiYWNrZ3JvdW5kLWNvbG9yOiBmaXJlYnJpY2s7IGNvbG9yOiB3aGl0ZTsnPjxoNCBzdHlsZT0ndGV4dC1hbGlnbjpjZW50ZXI7IGZvbnQtd2VpZ2h0OiBib2xkJz5TaW5nYXBvcmU8L2g0PjxociBzdHlsZT0nbWFyZ2luOjEwcHg7IGNvbG9yOiB3aGl0ZTsnPjx1bCBzdHlsZT0nY29sb3I6IHdoaXRlOztsaXN0LXN0eWxlLXR5cGU6IGNpcmNsZTsgYWxpZ24taXRlbTogbGVmdDsgcGFkZGluZy1sZWZ0OiAyMHB4OyBwYWRkaW5nLXJpZ2h0OjIwcHgnPjxsaT5Ub3RhbCBjYXNlczogNDkwOTg8L2xpPjxsaT5EZWF0aHM6IDI3PC9saT48bGk+RGVhdGggcmF0ZSA6IDAuMDUlIDwvbGk+PC91bD48L2Rpdj4KICAgICAgICAgICAgICAgICA8L2Rpdj5gLAogICAgICAgICAgICAgICAgeyJzdGlja3kiOiB0cnVlfQogICAgICAgICAgICApOwogICAgICAgIAogICAgCiAgICAgICAgICAgIHZhciBjaXJjbGVfZmUwY2RmN2IxMDg3NGM1OTg1MzI1OGZlNDEwZjEwZmQgPSBMLmNpcmNsZSgKICAgICAgICAgICAgICAgIFs0OC42NjksIDE5LjY5OV0sCiAgICAgICAgICAgICAgICB7ImJ1YmJsaW5nTW91c2VFdmVudHMiOiB0cnVlLCAiY29sb3IiOiAiY3JpbXNvbiIsICJkYXNoQXJyYXkiOiBudWxsLCAiZGFzaE9mZnNldCI6IG51bGwsICJmaWxsIjogdHJ1ZSwgImZpbGxDb2xvciI6ICJjcmltc29uIiwgImZpbGxPcGFjaXR5IjogMC4yLCAiZmlsbFJ1bGUiOiAiZXZlbm9kZCIsICJsaW5lQ2FwIjogInJvdW5kIiwgImxpbmVKb2luIjogInJvdW5kIiwgIm9wYWNpdHkiOiAxLjAsICJyYWRpdXMiOiAzNjAwMDAuMCwgInN0cm9rZSI6IHRydWUsICJ3ZWlnaHQiOiAzfQogICAgICAgICAgICApLmFkZFRvKG1hcF81NzVmYWYxMjE2Y2Y0YTRhOGVlMmEzMjg5ODMwYTlmNik7CiAgICAgICAgCiAgICAKICAgICAgICAgICAgY2lyY2xlX2ZlMGNkZjdiMTA4NzRjNTk4NTMyNThmZTQxMGYxMGZkLmJpbmRUb29sdGlwKAogICAgICAgICAgICAgICAgYDxkaXY+CiAgICAgICAgICAgICAgICAgICAgIDxkaXYgc3R5bGU9J21hcmdpbjowOyBiYWNrZ3JvdW5kLWNvbG9yOiBmaXJlYnJpY2s7IGNvbG9yOiB3aGl0ZTsnPjxoNCBzdHlsZT0ndGV4dC1hbGlnbjpjZW50ZXI7IGZvbnQtd2VpZ2h0OiBib2xkJz5TbG92YWtpYTwvaDQ+PGhyIHN0eWxlPSdtYXJnaW46MTBweDsgY29sb3I6IHdoaXRlOyc+PHVsIHN0eWxlPSdjb2xvcjogd2hpdGU7O2xpc3Qtc3R5bGUtdHlwZTogY2lyY2xlOyBhbGlnbi1pdGVtOiBsZWZ0OyBwYWRkaW5nLWxlZnQ6IDIwcHg7IHBhZGRpbmctcmlnaHQ6MjBweCc+PGxpPlRvdGFsIGNhc2VzOiAyMDg5PC9saT48bGk+RGVhdGhzOiAyODwvbGk+PGxpPkRlYXRoIHJhdGUgOiAxLjM0JSA8L2xpPjwvdWw+PC9kaXY+CiAgICAgICAgICAgICAgICAgPC9kaXY+YCwKICAgICAgICAgICAgICAgIHsic3RpY2t5IjogdHJ1ZX0KICAgICAgICAgICAgKTsKICAgICAgICAKICAgIAogICAgICAgICAgICB2YXIgY2lyY2xlX2FkZWIxMjkwN2FhZDRjNzg4MmRjZjVkZjMxMmI4YmVkID0gTC5jaXJjbGUoCiAgICAgICAgICAgICAgICBbNDYuMTUxMiwgMTQuOTk1NV0sCiAgICAgICAgICAgICAgICB7ImJ1YmJsaW5nTW91c2VFdmVudHMiOiB0cnVlLCAiY29sb3IiOiAiY3JpbXNvbiIsICJkYXNoQXJyYXkiOiBudWxsLCAiZGFzaE9mZnNldCI6IG51bGwsICJmaWxsIjogdHJ1ZSwgImZpbGxDb2xvciI6ICJjcmltc29uIiwgImZpbGxPcGFjaXR5IjogMC4yLCAiZmlsbFJ1bGUiOiAiZXZlbm9kZCIsICJsaW5lQ2FwIjogInJvdW5kIiwgImxpbmVKb2luIjogInJvdW5kIiwgIm9wYWNpdHkiOiAxLjAsICJyYWRpdXMiOiAzNjAwMDAuMCwgInN0cm9rZSI6IHRydWUsICJ3ZWlnaHQiOiAzfQogICAgICAgICAgICApLmFkZFRvKG1hcF81NzVmYWYxMjE2Y2Y0YTRhOGVlMmEzMjg5ODMwYTlmNik7CiAgICAgICAgCiAgICAKICAgICAgICAgICAgY2lyY2xlX2FkZWIxMjkwN2FhZDRjNzg4MmRjZjVkZjMxMmI4YmVkLmJpbmRUb29sdGlwKAogICAgICAgICAgICAgICAgYDxkaXY+CiAgICAgICAgICAgICAgICAgICAgIDxkaXYgc3R5bGU9J21hcmdpbjowOyBiYWNrZ3JvdW5kLWNvbG9yOiBmaXJlYnJpY2s7IGNvbG9yOiB3aGl0ZTsnPjxoNCBzdHlsZT0ndGV4dC1hbGlnbjpjZW50ZXI7IGZvbnQtd2VpZ2h0OiBib2xkJz5TbG92ZW5pYTwvaDQ+PGhyIHN0eWxlPSdtYXJnaW46MTBweDsgY29sb3I6IHdoaXRlOyc+PHVsIHN0eWxlPSdjb2xvcjogd2hpdGU7O2xpc3Qtc3R5bGUtdHlwZTogY2lyY2xlOyBhbGlnbi1pdGVtOiBsZWZ0OyBwYWRkaW5nLWxlZnQ6IDIwcHg7IHBhZGRpbmctcmlnaHQ6MjBweCc+PGxpPlRvdGFsIGNhc2VzOiAyMDMzPC9saT48bGk+RGVhdGhzOiAxMTU8L2xpPjxsaT5EZWF0aCByYXRlIDogNS42NSUgPC9saT48L3VsPjwvZGl2PgogICAgICAgICAgICAgICAgIDwvZGl2PmAsCiAgICAgICAgICAgICAgICB7InN0aWNreSI6IHRydWV9CiAgICAgICAgICAgICk7CiAgICAgICAgCiAgICAKICAgICAgICAgICAgdmFyIGNpcmNsZV81MmY3MTZkZDQzNGU0YWFhODNhMDBhOTU3OTM1NGQ2OCA9IEwuY2lyY2xlKAogICAgICAgICAgICAgICAgWzUuMTUyMTQ5LCA0Ni4xOTk2MTZdLAogICAgICAgICAgICAgICAgeyJidWJibGluZ01vdXNlRXZlbnRzIjogdHJ1ZSwgImNvbG9yIjogImNyaW1zb24iLCAiZGFzaEFycmF5IjogbnVsbCwgImRhc2hPZmZzZXQiOiBudWxsLCAiZmlsbCI6IHRydWUsICJmaWxsQ29sb3IiOiAiY3JpbXNvbiIsICJmaWxsT3BhY2l0eSI6IDAuMiwgImZpbGxSdWxlIjogImV2ZW5vZGQiLCAibGluZUNhcCI6ICJyb3VuZCIsICJsaW5lSm9pbiI6ICJyb3VuZCIsICJvcGFjaXR5IjogMS4wLCAicmFkaXVzIjogNDA5OTk5Ljk5OTk5OTk5OTk0LCAic3Ryb2tlIjogdHJ1ZSwgIndlaWdodCI6IDN9CiAgICAgICAgICAgICkuYWRkVG8obWFwXzU3NWZhZjEyMTZjZjRhNGE4ZWUyYTMyODk4MzBhOWY2KTsKICAgICAgICAKICAgIAogICAgICAgICAgICBjaXJjbGVfNTJmNzE2ZGQ0MzRlNGFhYTgzYTAwYTk1NzkzNTRkNjguYmluZFRvb2x0aXAoCiAgICAgICAgICAgICAgICBgPGRpdj4KICAgICAgICAgICAgICAgICAgICAgPGRpdiBzdHlsZT0nbWFyZ2luOjA7IGJhY2tncm91bmQtY29sb3I6IGZpcmVicmljazsgY29sb3I6IHdoaXRlOyc+PGg0IHN0eWxlPSd0ZXh0LWFsaWduOmNlbnRlcjsgZm9udC13ZWlnaHQ6IGJvbGQnPlNvbWFsaWE8L2g0PjxociBzdHlsZT0nbWFyZ2luOjEwcHg7IGNvbG9yOiB3aGl0ZTsnPjx1bCBzdHlsZT0nY29sb3I6IHdoaXRlOztsaXN0LXN0eWxlLXR5cGU6IGNpcmNsZTsgYWxpZ24taXRlbTogbGVmdDsgcGFkZGluZy1sZWZ0OiAyMHB4OyBwYWRkaW5nLXJpZ2h0OjIwcHgnPjxsaT5Ub3RhbCBjYXNlczogMzE3MTwvbGk+PGxpPkRlYXRoczogOTM8L2xpPjxsaT5EZWF0aCByYXRlIDogMi45MyUgPC9saT48L3VsPjwvZGl2PgogICAgICAgICAgICAgICAgIDwvZGl2PmAsCiAgICAgICAgICAgICAgICB7InN0aWNreSI6IHRydWV9CiAgICAgICAgICAgICk7CiAgICAgICAgCiAgICAKICAgICAgICAgICAgdmFyIGNpcmNsZV9jY2Y0NGIwNTViOTM0NTFlOGE5NDNmMGU2N2NhOGFmYyA9IEwuY2lyY2xlKAogICAgICAgICAgICAgICAgWy0zMC41NTk1LCAyMi45Mzc1XSwKICAgICAgICAgICAgICAgIHsiYnViYmxpbmdNb3VzZUV2ZW50cyI6IHRydWUsICJjb2xvciI6ICJjcmltc29uIiwgImRhc2hBcnJheSI6IG51bGwsICJkYXNoT2Zmc2V0IjogbnVsbCwgImZpbGwiOiB0cnVlLCAiZmlsbENvbG9yIjogImNyaW1zb24iLCAiZmlsbE9wYWNpdHkiOiAwLjIsICJmaWxsUnVsZSI6ICJldmVub2RkIiwgImxpbmVDYXAiOiAicm91bmQiLCAibGluZUpvaW4iOiAicm91bmQiLCAib3BhY2l0eSI6IDEuMCwgInJhZGl1cyI6IDYxMDAwMC4wLCAic3Ryb2tlIjogdHJ1ZSwgIndlaWdodCI6IDN9CiAgICAgICAgICAgICkuYWRkVG8obWFwXzU3NWZhZjEyMTZjZjRhNGE4ZWUyYTMyODk4MzBhOWY2KTsKICAgICAgICAKICAgIAogICAgICAgICAgICBjaXJjbGVfY2NmNDRiMDU1YjkzNDUxZThhOTQzZjBlNjdjYThhZmMuYmluZFRvb2x0aXAoCiAgICAgICAgICAgICAgICBgPGRpdj4KICAgICAgICAgICAgICAgICAgICAgPGRpdiBzdHlsZT0nbWFyZ2luOjA7IGJhY2tncm91bmQtY29sb3I6IGZpcmVicmljazsgY29sb3I6IHdoaXRlOyc+PGg0IHN0eWxlPSd0ZXh0LWFsaWduOmNlbnRlcjsgZm9udC13ZWlnaHQ6IGJvbGQnPlNvdXRoIEFmcmljYTwvaDQ+PGhyIHN0eWxlPSdtYXJnaW46MTBweDsgY29sb3I6IHdoaXRlOyc+PHVsIHN0eWxlPSdjb2xvcjogd2hpdGU7O2xpc3Qtc3R5bGUtdHlwZTogY2lyY2xlOyBhbGlnbi1pdGVtOiBsZWZ0OyBwYWRkaW5nLWxlZnQ6IDIwcHg7IHBhZGRpbmctcmlnaHQ6MjBweCc+PGxpPlRvdGFsIGNhc2VzOiA0MDgwNTI8L2xpPjxsaT5EZWF0aHM6IDYwOTM8L2xpPjxsaT5EZWF0aCByYXRlIDogMS40OSUgPC9saT48L3VsPjwvZGl2PgogICAgICAgICAgICAgICAgIDwvZGl2PmAsCiAgICAgICAgICAgICAgICB7InN0aWNreSI6IHRydWV9CiAgICAgICAgICAgICk7CiAgICAgICAgCiAgICAKICAgICAgICAgICAgdmFyIGNpcmNsZV8zYTY1MGRlNTY0OTI0YTg2YTk1ZWUxOTUzNjYzMTQwMyA9IEwuY2lyY2xlKAogICAgICAgICAgICAgICAgWzQwLjQ2MzY2NywgLTMuNzQ5MjE5OTk5OTk5OTk5OF0sCiAgICAgICAgICAgICAgICB7ImJ1YmJsaW5nTW91c2VFdmVudHMiOiB0cnVlLCAiY29sb3IiOiAiY3JpbXNvbiIsICJkYXNoQXJyYXkiOiBudWxsLCAiZGFzaE9mZnNldCI6IG51bGwsICJmaWxsIjogdHJ1ZSwgImZpbGxDb2xvciI6ICJjcmltc29uIiwgImZpbGxPcGFjaXR5IjogMC4yLCAiZmlsbFJ1bGUiOiAiZXZlbm9kZCIsICJsaW5lQ2FwIjogInJvdW5kIiwgImxpbmVKb2luIjogInJvdW5kIiwgIm9wYWNpdHkiOiAxLjAsICJyYWRpdXMiOiA2MTAwMDAuMCwgInN0cm9rZSI6IHRydWUsICJ3ZWlnaHQiOiAzfQogICAgICAgICAgICApLmFkZFRvKG1hcF81NzVmYWYxMjE2Y2Y0YTRhOGVlMmEzMjg5ODMwYTlmNik7CiAgICAgICAgCiAgICAKICAgICAgICAgICAgY2lyY2xlXzNhNjUwZGU1NjQ5MjRhODZhOTVlZTE5NTM2NjMxNDAzLmJpbmRUb29sdGlwKAogICAgICAgICAgICAgICAgYDxkaXY+CiAgICAgICAgICAgICAgICAgICAgIDxkaXYgc3R5bGU9J21hcmdpbjowOyBiYWNrZ3JvdW5kLWNvbG9yOiBmaXJlYnJpY2s7IGNvbG9yOiB3aGl0ZTsnPjxoNCBzdHlsZT0ndGV4dC1hbGlnbjpjZW50ZXI7IGZvbnQtd2VpZ2h0OiBib2xkJz5TcGFpbjwvaDQ+PGhyIHN0eWxlPSdtYXJnaW46MTBweDsgY29sb3I6IHdoaXRlOyc+PHVsIHN0eWxlPSdjb2xvcjogd2hpdGU7O2xpc3Qtc3R5bGUtdHlwZTogY2lyY2xlOyBhbGlnbi1pdGVtOiBsZWZ0OyBwYWRkaW5nLWxlZnQ6IDIwcHg7IHBhZGRpbmctcmlnaHQ6MjBweCc+PGxpPlRvdGFsIGNhc2VzOiAyNzAxNjY8L2xpPjxsaT5EZWF0aHM6IDI4NDI5PC9saT48bGk+RGVhdGggcmF0ZSA6IDEwLjUyJSA8L2xpPjwvdWw+PC9kaXY+CiAgICAgICAgICAgICAgICAgPC9kaXY+YCwKICAgICAgICAgICAgICAgIHsic3RpY2t5IjogdHJ1ZX0KICAgICAgICAgICAgKTsKICAgICAgICAKICAgIAogICAgICAgICAgICB2YXIgY2lyY2xlXzYzMDFjOGUzMzdlNzQ1N2Q4NmNkNzE1NDE4M2Q4NGYyID0gTC5jaXJjbGUoCiAgICAgICAgICAgICAgICBbNy44NzMwNTQsIDgwLjc3MTc5Njk5OTk5OTk4XSwKICAgICAgICAgICAgICAgIHsiYnViYmxpbmdNb3VzZUV2ZW50cyI6IHRydWUsICJjb2xvciI6ICJjcmltc29uIiwgImRhc2hBcnJheSI6IG51bGwsICJkYXNoT2Zmc2V0IjogbnVsbCwgImZpbGwiOiB0cnVlLCAiZmlsbENvbG9yIjogImNyaW1zb24iLCAiZmlsbE9wYWNpdHkiOiAwLjIsICJmaWxsUnVsZSI6ICJldmVub2RkIiwgImxpbmVDYXAiOiAicm91bmQiLCAibGluZUpvaW4iOiAicm91bmQiLCAib3BhY2l0eSI6IDEuMCwgInJhZGl1cyI6IDM2MDAwMC4wLCAic3Ryb2tlIjogdHJ1ZSwgIndlaWdodCI6IDN9CiAgICAgICAgICAgICkuYWRkVG8obWFwXzU3NWZhZjEyMTZjZjRhNGE4ZWUyYTMyODk4MzBhOWY2KTsKICAgICAgICAKICAgIAogICAgICAgICAgICBjaXJjbGVfNjMwMWM4ZTMzN2U3NDU3ZDg2Y2Q3MTU0MTgzZDg0ZjIuYmluZFRvb2x0aXAoCiAgICAgICAgICAgICAgICBgPGRpdj4KICAgICAgICAgICAgICAgICAgICAgPGRpdiBzdHlsZT0nbWFyZ2luOjA7IGJhY2tncm91bmQtY29sb3I6IGZpcmVicmljazsgY29sb3I6IHdoaXRlOyc+PGg0IHN0eWxlPSd0ZXh0LWFsaWduOmNlbnRlcjsgZm9udC13ZWlnaHQ6IGJvbGQnPlNyaSBMYW5rYTwvaDQ+PGhyIHN0eWxlPSdtYXJnaW46MTBweDsgY29sb3I6IHdoaXRlOyc+PHVsIHN0eWxlPSdjb2xvcjogd2hpdGU7O2xpc3Qtc3R5bGUtdHlwZTogY2lyY2xlOyBhbGlnbi1pdGVtOiBsZWZ0OyBwYWRkaW5nLWxlZnQ6IDIwcHg7IHBhZGRpbmctcmlnaHQ6MjBweCc+PGxpPlRvdGFsIGNhc2VzOiAyNzUzPC9saT48bGk+RGVhdGhzOiAxMTwvbGk+PGxpPkRlYXRoIHJhdGUgOiAwLjQlIDwvbGk+PC91bD48L2Rpdj4KICAgICAgICAgICAgICAgICA8L2Rpdj5gLAogICAgICAgICAgICAgICAgeyJzdGlja3kiOiB0cnVlfQogICAgICAgICAgICApOwogICAgICAgIAogICAgCiAgICAgICAgICAgIHZhciBjaXJjbGVfMzQ5MTM3YTkwOWY0NGJmM2I4NDgxNzViNjk1MWQ4YTUgPSBMLmNpcmNsZSgKICAgICAgICAgICAgICAgIFsxMi44NjI4LCAzMC4yMTc2XSwKICAgICAgICAgICAgICAgIHsiYnViYmxpbmdNb3VzZUV2ZW50cyI6IHRydWUsICJjb2xvciI6ICJjcmltc29uIiwgImRhc2hBcnJheSI6IG51bGwsICJkYXNoT2Zmc2V0IjogbnVsbCwgImZpbGwiOiB0cnVlLCAiZmlsbENvbG9yIjogImNyaW1zb24iLCAiZmlsbE9wYWNpdHkiOiAwLjIsICJmaWxsUnVsZSI6ICJldmVub2RkIiwgImxpbmVDYXAiOiAicm91bmQiLCAibGluZUpvaW4iOiAicm91bmQiLCAib3BhY2l0eSI6IDEuMCwgInJhZGl1cyI6IDQ1OTk5OS45OTk5OTk5OTk5NCwgInN0cm9rZSI6IHRydWUsICJ3ZWlnaHQiOiAzfQogICAgICAgICAgICApLmFkZFRvKG1hcF81NzVmYWYxMjE2Y2Y0YTRhOGVlMmEzMjg5ODMwYTlmNik7CiAgICAgICAgCiAgICAKICAgICAgICAgICAgY2lyY2xlXzM0OTEzN2E5MDlmNDRiZjNiODQ4MTc1YjY5NTFkOGE1LmJpbmRUb29sdGlwKAogICAgICAgICAgICAgICAgYDxkaXY+CiAgICAgICAgICAgICAgICAgICAgIDxkaXYgc3R5bGU9J21hcmdpbjowOyBiYWNrZ3JvdW5kLWNvbG9yOiBmaXJlYnJpY2s7IGNvbG9yOiB3aGl0ZTsnPjxoNCBzdHlsZT0ndGV4dC1hbGlnbjpjZW50ZXI7IGZvbnQtd2VpZ2h0OiBib2xkJz5TdWRhbjwvaDQ+PGhyIHN0eWxlPSdtYXJnaW46MTBweDsgY29sb3I6IHdoaXRlOyc+PHVsIHN0eWxlPSdjb2xvcjogd2hpdGU7O2xpc3Qtc3R5bGUtdHlwZTogY2lyY2xlOyBhbGlnbi1pdGVtOiBsZWZ0OyBwYWRkaW5nLWxlZnQ6IDIwcHg7IHBhZGRpbmctcmlnaHQ6MjBweCc+PGxpPlRvdGFsIGNhc2VzOiAxMTIzNzwvbGk+PGxpPkRlYXRoczogNzA4PC9saT48bGk+RGVhdGggcmF0ZSA6IDYuMyUgPC9saT48L3VsPjwvZGl2PgogICAgICAgICAgICAgICAgIDwvZGl2PmAsCiAgICAgICAgICAgICAgICB7InN0aWNreSI6IHRydWV9CiAgICAgICAgICAgICk7CiAgICAgICAgCiAgICAKICAgICAgICAgICAgdmFyIGNpcmNsZV8zODJmNjUwNTkzZTM0NmZmODEzMWNlYjIyZmViY2UzNCA9IEwuY2lyY2xlKAogICAgICAgICAgICAgICAgWzMuOTE5MywgLTU2LjAyNzhdLAogICAgICAgICAgICAgICAgeyJidWJibGluZ01vdXNlRXZlbnRzIjogdHJ1ZSwgImNvbG9yIjogImNyaW1zb24iLCAiZGFzaEFycmF5IjogbnVsbCwgImRhc2hPZmZzZXQiOiBudWxsLCAiZmlsbCI6IHRydWUsICJmaWxsQ29sb3IiOiAiY3JpbXNvbiIsICJmaWxsT3BhY2l0eSI6IDAuMiwgImZpbGxSdWxlIjogImV2ZW5vZGQiLCAibGluZUNhcCI6ICJyb3VuZCIsICJsaW5lSm9pbiI6ICJyb3VuZCIsICJvcGFjaXR5IjogMS4wLCAicmFkaXVzIjogMzYwMDAwLjAsICJzdHJva2UiOiB0cnVlLCAid2VpZ2h0IjogM30KICAgICAgICAgICAgKS5hZGRUbyhtYXBfNTc1ZmFmMTIxNmNmNGE0YThlZTJhMzI4OTgzMGE5ZjYpOwogICAgICAgIAogICAgCiAgICAgICAgICAgIGNpcmNsZV8zODJmNjUwNTkzZTM0NmZmODEzMWNlYjIyZmViY2UzNC5iaW5kVG9vbHRpcCgKICAgICAgICAgICAgICAgIGA8ZGl2PgogICAgICAgICAgICAgICAgICAgICA8ZGl2IHN0eWxlPSdtYXJnaW46MDsgYmFja2dyb3VuZC1jb2xvcjogZmlyZWJyaWNrOyBjb2xvcjogd2hpdGU7Jz48aDQgc3R5bGU9J3RleHQtYWxpZ246Y2VudGVyOyBmb250LXdlaWdodDogYm9sZCc+U3VyaW5hbWU8L2g0PjxociBzdHlsZT0nbWFyZ2luOjEwcHg7IGNvbG9yOiB3aGl0ZTsnPjx1bCBzdHlsZT0nY29sb3I6IHdoaXRlOztsaXN0LXN0eWxlLXR5cGU6IGNpcmNsZTsgYWxpZ24taXRlbTogbGVmdDsgcGFkZGluZy1sZWZ0OiAyMHB4OyBwYWRkaW5nLXJpZ2h0OjIwcHgnPjxsaT5Ub3RhbCBjYXNlczogMTIzNDwvbGk+PGxpPkRlYXRoczogMjM8L2xpPjxsaT5EZWF0aCByYXRlIDogMS44NiUgPC9saT48L3VsPjwvZGl2PgogICAgICAgICAgICAgICAgIDwvZGl2PmAsCiAgICAgICAgICAgICAgICB7InN0aWNreSI6IHRydWV9CiAgICAgICAgICAgICk7CiAgICAgICAgCiAgICAKICAgICAgICAgICAgdmFyIGNpcmNsZV8zYTlmZWM5MmZmNmM0ZjBlYjA1NzY5NDE0Yzk5OThmYyA9IEwuY2lyY2xlKAogICAgICAgICAgICAgICAgWzYwLjEyODE2MSwgMTguNjQzNTAxXSwKICAgICAgICAgICAgICAgIHsiYnViYmxpbmdNb3VzZUV2ZW50cyI6IHRydWUsICJjb2xvciI6ICJjcmltc29uIiwgImRhc2hBcnJheSI6IG51bGwsICJkYXNoT2Zmc2V0IjogbnVsbCwgImZpbGwiOiB0cnVlLCAiZmlsbENvbG9yIjogImNyaW1zb24iLCAiZmlsbE9wYWNpdHkiOiAwLjIsICJmaWxsUnVsZSI6ICJldmVub2RkIiwgImxpbmVDYXAiOiAicm91bmQiLCAibGluZUpvaW4iOiAicm91bmQiLCAib3BhY2l0eSI6IDEuMCwgInJhZGl1cyI6IDU2MDAwMC4wLCAic3Ryb2tlIjogdHJ1ZSwgIndlaWdodCI6IDN9CiAgICAgICAgICAgICkuYWRkVG8obWFwXzU3NWZhZjEyMTZjZjRhNGE4ZWUyYTMyODk4MzBhOWY2KTsKICAgICAgICAKICAgIAogICAgICAgICAgICBjaXJjbGVfM2E5ZmVjOTJmZjZjNGYwZWIwNTc2OTQxNGM5OTk4ZmMuYmluZFRvb2x0aXAoCiAgICAgICAgICAgICAgICBgPGRpdj4KICAgICAgICAgICAgICAgICAgICAgPGRpdiBzdHlsZT0nbWFyZ2luOjA7IGJhY2tncm91bmQtY29sb3I6IGZpcmVicmljazsgY29sb3I6IHdoaXRlOyc+PGg0IHN0eWxlPSd0ZXh0LWFsaWduOmNlbnRlcjsgZm9udC13ZWlnaHQ6IGJvbGQnPlN3ZWRlbjwvaDQ+PGhyIHN0eWxlPSdtYXJnaW46MTBweDsgY29sb3I6IHdoaXRlOyc+PHVsIHN0eWxlPSdjb2xvcjogd2hpdGU7O2xpc3Qtc3R5bGUtdHlwZTogY2lyY2xlOyBhbGlnbi1pdGVtOiBsZWZ0OyBwYWRkaW5nLWxlZnQ6IDIwcHg7IHBhZGRpbmctcmlnaHQ6MjBweCc+PGxpPlRvdGFsIGNhc2VzOiA3ODc2MzwvbGk+PGxpPkRlYXRoczogNTY3NjwvbGk+PGxpPkRlYXRoIHJhdGUgOiA3LjIxJSA8L2xpPjwvdWw+PC9kaXY+CiAgICAgICAgICAgICAgICAgPC9kaXY+YCwKICAgICAgICAgICAgICAgIHsic3RpY2t5IjogdHJ1ZX0KICAgICAgICAgICAgKTsKICAgICAgICAKICAgIAogICAgICAgICAgICB2YXIgY2lyY2xlXzBjMDhiMGU4Y2FmYjQwN2FiZTg0ZDA3ZDYwMTA3MWQ4ID0gTC5jaXJjbGUoCiAgICAgICAgICAgICAgICBbNDYuODE4MiwgOC4yMjc1XSwKICAgICAgICAgICAgICAgIHsiYnViYmxpbmdNb3VzZUV2ZW50cyI6IHRydWUsICJjb2xvciI6ICJjcmltc29uIiwgImRhc2hBcnJheSI6IG51bGwsICJkYXNoT2Zmc2V0IjogbnVsbCwgImZpbGwiOiB0cnVlLCAiZmlsbENvbG9yIjogImNyaW1zb24iLCAiZmlsbE9wYWNpdHkiOiAwLjIsICJmaWxsUnVsZSI6ICJldmVub2RkIiwgImxpbmVDYXAiOiAicm91bmQiLCAibGluZUpvaW4iOiAicm91bmQiLCAib3BhY2l0eSI6IDEuMCwgInJhZGl1cyI6IDUwOTk5OS45OTk5OTk5OTk5NCwgInN0cm9rZSI6IHRydWUsICJ3ZWlnaHQiOiAzfQogICAgICAgICAgICApLmFkZFRvKG1hcF81NzVmYWYxMjE2Y2Y0YTRhOGVlMmEzMjg5ODMwYTlmNik7CiAgICAgICAgCiAgICAKICAgICAgICAgICAgY2lyY2xlXzBjMDhiMGU4Y2FmYjQwN2FiZTg0ZDA3ZDYwMTA3MWQ4LmJpbmRUb29sdGlwKAogICAgICAgICAgICAgICAgYDxkaXY+CiAgICAgICAgICAgICAgICAgICAgIDxkaXYgc3R5bGU9J21hcmdpbjowOyBiYWNrZ3JvdW5kLWNvbG9yOiBmaXJlYnJpY2s7IGNvbG9yOiB3aGl0ZTsnPjxoNCBzdHlsZT0ndGV4dC1hbGlnbjpjZW50ZXI7IGZvbnQtd2VpZ2h0OiBib2xkJz5Td2l0emVybGFuZDwvaDQ+PGhyIHN0eWxlPSdtYXJnaW46MTBweDsgY29sb3I6IHdoaXRlOyc+PHVsIHN0eWxlPSdjb2xvcjogd2hpdGU7O2xpc3Qtc3R5bGUtdHlwZTogY2lyY2xlOyBhbGlnbi1pdGVtOiBsZWZ0OyBwYWRkaW5nLWxlZnQ6IDIwcHg7IHBhZGRpbmctcmlnaHQ6MjBweCc+PGxpPlRvdGFsIGNhc2VzOiAzNDAwMDwvbGk+PGxpPkRlYXRoczogMTk3NTwvbGk+PGxpPkRlYXRoIHJhdGUgOiA1LjgxJSA8L2xpPjwvdWw+PC9kaXY+CiAgICAgICAgICAgICAgICAgPC9kaXY+YCwKICAgICAgICAgICAgICAgIHsic3RpY2t5IjogdHJ1ZX0KICAgICAgICAgICAgKTsKICAgICAgICAKICAgIAogICAgICAgICAgICB2YXIgY2lyY2xlXzAwNmVhMTIzNzg5ZDRmYjU4MjJiYjA4NGQ4NTA4NzNlID0gTC5jaXJjbGUoCiAgICAgICAgICAgICAgICBbMjMuNywgMTIxLjBdLAogICAgICAgICAgICAgICAgeyJidWJibGluZ01vdXNlRXZlbnRzIjogdHJ1ZSwgImNvbG9yIjogImNyaW1zb24iLCAiZGFzaEFycmF5IjogbnVsbCwgImRhc2hPZmZzZXQiOiBudWxsLCAiZmlsbCI6IHRydWUsICJmaWxsQ29sb3IiOiAiY3JpbXNvbiIsICJmaWxsT3BhY2l0eSI6IDAuMiwgImZpbGxSdWxlIjogImV2ZW5vZGQiLCAibGluZUNhcCI6ICJyb3VuZCIsICJsaW5lSm9pbiI6ICJyb3VuZCIsICJvcGFjaXR5IjogMS4wLCAicmFkaXVzIjogMzEwMDAwLjAsICJzdHJva2UiOiB0cnVlLCAid2VpZ2h0IjogM30KICAgICAgICAgICAgKS5hZGRUbyhtYXBfNTc1ZmFmMTIxNmNmNGE0YThlZTJhMzI4OTgzMGE5ZjYpOwogICAgICAgIAogICAgCiAgICAgICAgICAgIGNpcmNsZV8wMDZlYTEyMzc4OWQ0ZmI1ODIyYmIwODRkODUwODczZS5iaW5kVG9vbHRpcCgKICAgICAgICAgICAgICAgIGA8ZGl2PgogICAgICAgICAgICAgICAgICAgICA8ZGl2IHN0eWxlPSdtYXJnaW46MDsgYmFja2dyb3VuZC1jb2xvcjogZmlyZWJyaWNrOyBjb2xvcjogd2hpdGU7Jz48aDQgc3R5bGU9J3RleHQtYWxpZ246Y2VudGVyOyBmb250LXdlaWdodDogYm9sZCc+VGFpd2FuKjwvaDQ+PGhyIHN0eWxlPSdtYXJnaW46MTBweDsgY29sb3I6IHdoaXRlOyc+PHVsIHN0eWxlPSdjb2xvcjogd2hpdGU7O2xpc3Qtc3R5bGUtdHlwZTogY2lyY2xlOyBhbGlnbi1pdGVtOiBsZWZ0OyBwYWRkaW5nLWxlZnQ6IDIwcHg7IHBhZGRpbmctcmlnaHQ6MjBweCc+PGxpPlRvdGFsIGNhc2VzOiA0NTU8L2xpPjxsaT5EZWF0aHM6IDc8L2xpPjxsaT5EZWF0aCByYXRlIDogMS41NCUgPC9saT48L3VsPjwvZGl2PgogICAgICAgICAgICAgICAgIDwvZGl2PmAsCiAgICAgICAgICAgICAgICB7InN0aWNreSI6IHRydWV9CiAgICAgICAgICAgICk7CiAgICAgICAgCiAgICAKICAgICAgICAgICAgdmFyIGNpcmNsZV8yZjYyYTZhMmMwODY0OTU4OWI1MTFhOTcyMzU5OTczNyA9IEwuY2lyY2xlKAogICAgICAgICAgICAgICAgWy02LjM2OTAyOCwgMzQuODg4ODIyXSwKICAgICAgICAgICAgICAgIHsiYnViYmxpbmdNb3VzZUV2ZW50cyI6IHRydWUsICJjb2xvciI6ICJjcmltc29uIiwgImRhc2hBcnJheSI6IG51bGwsICJkYXNoT2Zmc2V0IjogbnVsbCwgImZpbGwiOiB0cnVlLCAiZmlsbENvbG9yIjogImNyaW1zb24iLCAiZmlsbE9wYWNpdHkiOiAwLjIsICJmaWxsUnVsZSI6ICJldmVub2RkIiwgImxpbmVDYXAiOiAicm91bmQiLCAibGluZUpvaW4iOiAicm91bmQiLCAib3BhY2l0eSI6IDEuMCwgInJhZGl1cyI6IDMxMDAwMC4wLCAic3Ryb2tlIjogdHJ1ZSwgIndlaWdodCI6IDN9CiAgICAgICAgICAgICkuYWRkVG8obWFwXzU3NWZhZjEyMTZjZjRhNGE4ZWUyYTMyODk4MzBhOWY2KTsKICAgICAgICAKICAgIAogICAgICAgICAgICBjaXJjbGVfMmY2MmE2YTJjMDg2NDk1ODliNTExYTk3MjM1OTk3MzcuYmluZFRvb2x0aXAoCiAgICAgICAgICAgICAgICBgPGRpdj4KICAgICAgICAgICAgICAgICAgICAgPGRpdiBzdHlsZT0nbWFyZ2luOjA7IGJhY2tncm91bmQtY29sb3I6IGZpcmVicmljazsgY29sb3I6IHdoaXRlOyc+PGg0IHN0eWxlPSd0ZXh0LWFsaWduOmNlbnRlcjsgZm9udC13ZWlnaHQ6IGJvbGQnPlRhbnphbmlhPC9oND48aHIgc3R5bGU9J21hcmdpbjoxMHB4OyBjb2xvcjogd2hpdGU7Jz48dWwgc3R5bGU9J2NvbG9yOiB3aGl0ZTs7bGlzdC1zdHlsZS10eXBlOiBjaXJjbGU7IGFsaWduLWl0ZW06IGxlZnQ7IHBhZGRpbmctbGVmdDogMjBweDsgcGFkZGluZy1yaWdodDoyMHB4Jz48bGk+VG90YWwgY2FzZXM6IDUwOTwvbGk+PGxpPkRlYXRoczogMjE8L2xpPjxsaT5EZWF0aCByYXRlIDogNC4xMiUgPC9saT48L3VsPjwvZGl2PgogICAgICAgICAgICAgICAgIDwvZGl2PmAsCiAgICAgICAgICAgICAgICB7InN0aWNreSI6IHRydWV9CiAgICAgICAgICAgICk7CiAgICAgICAgCiAgICAKICAgICAgICAgICAgdmFyIGNpcmNsZV81ZTJjMjZlZWY5MGQ0ODFiOTg4OTUyMzhiOWI3M2M4MCA9IEwuY2lyY2xlKAogICAgICAgICAgICAgICAgWzE1Ljg3MDAzMiwgMTAwLjk5MjU0MV0sCiAgICAgICAgICAgICAgICB7ImJ1YmJsaW5nTW91c2VFdmVudHMiOiB0cnVlLCAiY29sb3IiOiAiY3JpbXNvbiIsICJkYXNoQXJyYXkiOiBudWxsLCAiZGFzaE9mZnNldCI6IG51bGwsICJmaWxsIjogdHJ1ZSwgImZpbGxDb2xvciI6ICJjcmltc29uIiwgImZpbGxPcGFjaXR5IjogMC4yLCAiZmlsbFJ1bGUiOiAiZXZlbm9kZCIsICJsaW5lQ2FwIjogInJvdW5kIiwgImxpbmVKb2luIjogInJvdW5kIiwgIm9wYWNpdHkiOiAxLjAsICJyYWRpdXMiOiA0MDk5OTkuOTk5OTk5OTk5OTQsICJzdHJva2UiOiB0cnVlLCAid2VpZ2h0IjogM30KICAgICAgICAgICAgKS5hZGRUbyhtYXBfNTc1ZmFmMTIxNmNmNGE0YThlZTJhMzI4OTgzMGE5ZjYpOwogICAgICAgIAogICAgCiAgICAgICAgICAgIGNpcmNsZV81ZTJjMjZlZWY5MGQ0ODFiOTg4OTUyMzhiOWI3M2M4MC5iaW5kVG9vbHRpcCgKICAgICAgICAgICAgICAgIGA8ZGl2PgogICAgICAgICAgICAgICAgICAgICA8ZGl2IHN0eWxlPSdtYXJnaW46MDsgYmFja2dyb3VuZC1jb2xvcjogZmlyZWJyaWNrOyBjb2xvcjogd2hpdGU7Jz48aDQgc3R5bGU9J3RleHQtYWxpZ246Y2VudGVyOyBmb250LXdlaWdodDogYm9sZCc+VGhhaWxhbmQ8L2g0PjxociBzdHlsZT0nbWFyZ2luOjEwcHg7IGNvbG9yOiB3aGl0ZTsnPjx1bCBzdHlsZT0nY29sb3I6IHdoaXRlOztsaXN0LXN0eWxlLXR5cGU6IGNpcmNsZTsgYWxpZ24taXRlbTogbGVmdDsgcGFkZGluZy1sZWZ0OiAyMHB4OyBwYWRkaW5nLXJpZ2h0OjIwcHgnPjxsaT5Ub3RhbCBjYXNlczogMzI3OTwvbGk+PGxpPkRlYXRoczogNTg8L2xpPjxsaT5EZWF0aCByYXRlIDogMS43NyUgPC9saT48L3VsPjwvZGl2PgogICAgICAgICAgICAgICAgIDwvZGl2PmAsCiAgICAgICAgICAgICAgICB7InN0aWNreSI6IHRydWV9CiAgICAgICAgICAgICk7CiAgICAgICAgCiAgICAKICAgICAgICAgICAgdmFyIGNpcmNsZV8yMTVmOTQ4ZDAxNTY0M2I0OTRiMDBlM2JiOTU0Nzc5NCA9IEwuY2lyY2xlKAogICAgICAgICAgICAgICAgWzguNjE5NSwgMC44MjQ4XSwKICAgICAgICAgICAgICAgIHsiYnViYmxpbmdNb3VzZUV2ZW50cyI6IHRydWUsICJjb2xvciI6ICJjcmltc29uIiwgImRhc2hBcnJheSI6IG51bGwsICJkYXNoT2Zmc2V0IjogbnVsbCwgImZpbGwiOiB0cnVlLCAiZmlsbENvbG9yIjogImNyaW1zb24iLCAiZmlsbE9wYWNpdHkiOiAwLjIsICJmaWxsUnVsZSI6ICJldmVub2RkIiwgImxpbmVDYXAiOiAicm91bmQiLCAibGluZUpvaW4iOiAicm91bmQiLCAib3BhY2l0eSI6IDEuMCwgInJhZGl1cyI6IDMxMDAwMC4wLCAic3Ryb2tlIjogdHJ1ZSwgIndlaWdodCI6IDN9CiAgICAgICAgICAgICkuYWRkVG8obWFwXzU3NWZhZjEyMTZjZjRhNGE4ZWUyYTMyODk4MzBhOWY2KTsKICAgICAgICAKICAgIAogICAgICAgICAgICBjaXJjbGVfMjE1Zjk0OGQwMTU2NDNiNDk0YjAwZTNiYjk1NDc3OTQuYmluZFRvb2x0aXAoCiAgICAgICAgICAgICAgICBgPGRpdj4KICAgICAgICAgICAgICAgICAgICAgPGRpdiBzdHlsZT0nbWFyZ2luOjA7IGJhY2tncm91bmQtY29sb3I6IGZpcmVicmljazsgY29sb3I6IHdoaXRlOyc+PGg0IHN0eWxlPSd0ZXh0LWFsaWduOmNlbnRlcjsgZm9udC13ZWlnaHQ6IGJvbGQnPlRvZ288L2g0PjxociBzdHlsZT0nbWFyZ2luOjEwcHg7IGNvbG9yOiB3aGl0ZTsnPjx1bCBzdHlsZT0nY29sb3I6IHdoaXRlOztsaXN0LXN0eWxlLXR5cGU6IGNpcmNsZTsgYWxpZ24taXRlbTogbGVmdDsgcGFkZGluZy1sZWZ0OiAyMHB4OyBwYWRkaW5nLXJpZ2h0OjIwcHgnPjxsaT5Ub3RhbCBjYXNlczogODI4PC9saT48bGk+RGVhdGhzOiAxNjwvbGk+PGxpPkRlYXRoIHJhdGUgOiAxLjkzJSA8L2xpPjwvdWw+PC9kaXY+CiAgICAgICAgICAgICAgICAgPC9kaXY+YCwKICAgICAgICAgICAgICAgIHsic3RpY2t5IjogdHJ1ZX0KICAgICAgICAgICAgKTsKICAgICAgICAKICAgIAogICAgICAgICAgICB2YXIgY2lyY2xlXzVkOGU4YmJlYmQ3NTQ0ZDFiZThiZTczZWUyMTdmZGFjID0gTC5jaXJjbGUoCiAgICAgICAgICAgICAgICBbMTAuNjkxOCwgLTYxLjIyMjVdLAogICAgICAgICAgICAgICAgeyJidWJibGluZ01vdXNlRXZlbnRzIjogdHJ1ZSwgImNvbG9yIjogImNyaW1zb24iLCAiZGFzaEFycmF5IjogbnVsbCwgImRhc2hPZmZzZXQiOiBudWxsLCAiZmlsbCI6IHRydWUsICJmaWxsQ29sb3IiOiAiY3JpbXNvbiIsICJmaWxsT3BhY2l0eSI6IDAuMiwgImZpbGxSdWxlIjogImV2ZW5vZGQiLCAibGluZUNhcCI6ICJyb3VuZCIsICJsaW5lSm9pbiI6ICJyb3VuZCIsICJvcGFjaXR5IjogMS4wLCAicmFkaXVzIjogMjEwMDAwLjAsICJzdHJva2UiOiB0cnVlLCAid2VpZ2h0IjogM30KICAgICAgICAgICAgKS5hZGRUbyhtYXBfNTc1ZmFmMTIxNmNmNGE0YThlZTJhMzI4OTgzMGE5ZjYpOwogICAgICAgIAogICAgCiAgICAgICAgICAgIGNpcmNsZV81ZDhlOGJiZWJkNzU0NGQxYmU4YmU3M2VlMjE3ZmRhYy5iaW5kVG9vbHRpcCgKICAgICAgICAgICAgICAgIGA8ZGl2PgogICAgICAgICAgICAgICAgICAgICA8ZGl2IHN0eWxlPSdtYXJnaW46MDsgYmFja2dyb3VuZC1jb2xvcjogZmlyZWJyaWNrOyBjb2xvcjogd2hpdGU7Jz48aDQgc3R5bGU9J3RleHQtYWxpZ246Y2VudGVyOyBmb250LXdlaWdodDogYm9sZCc+VHJpbmlkYWQgYW5kIFRvYmFnbzwvaDQ+PGhyIHN0eWxlPSdtYXJnaW46MTBweDsgY29sb3I6IHdoaXRlOyc+PHVsIHN0eWxlPSdjb2xvcjogd2hpdGU7O2xpc3Qtc3R5bGUtdHlwZTogY2lyY2xlOyBhbGlnbi1pdGVtOiBsZWZ0OyBwYWRkaW5nLWxlZnQ6IDIwcHg7IHBhZGRpbmctcmlnaHQ6MjBweCc+PGxpPlRvdGFsIGNhc2VzOiAxNDE8L2xpPjxsaT5EZWF0aHM6IDg8L2xpPjxsaT5EZWF0aCByYXRlIDogNS42MyUgPC9saT48L3VsPjwvZGl2PgogICAgICAgICAgICAgICAgIDwvZGl2PmAsCiAgICAgICAgICAgICAgICB7InN0aWNreSI6IHRydWV9CiAgICAgICAgICAgICk7CiAgICAgICAgCiAgICAKICAgICAgICAgICAgdmFyIGNpcmNsZV8yYmM2NzNjMTY4Y2E0NTA3YjgwMTQ4MTE3ODQ0ODE3NSA9IEwuY2lyY2xlKAogICAgICAgICAgICAgICAgWzMzLjg4NjkxNywgOS41Mzc0OTldLAogICAgICAgICAgICAgICAgeyJidWJibGluZ01vdXNlRXZlbnRzIjogdHJ1ZSwgImNvbG9yIjogImNyaW1zb24iLCAiZGFzaEFycmF5IjogbnVsbCwgImRhc2hPZmZzZXQiOiBudWxsLCAiZmlsbCI6IHRydWUsICJmaWxsQ29sb3IiOiAiY3JpbXNvbiIsICJmaWxsT3BhY2l0eSI6IDAuMiwgImZpbGxSdWxlIjogImV2ZW5vZGQiLCAibGluZUNhcCI6ICJyb3VuZCIsICJsaW5lSm9pbiI6ICJyb3VuZCIsICJvcGFjaXR5IjogMS4wLCAicmFkaXVzIjogMzYwMDAwLjAsICJzdHJva2UiOiB0cnVlLCAid2VpZ2h0IjogM30KICAgICAgICAgICAgKS5hZGRUbyhtYXBfNTc1ZmFmMTIxNmNmNGE0YThlZTJhMzI4OTgzMGE5ZjYpOwogICAgICAgIAogICAgCiAgICAgICAgICAgIGNpcmNsZV8yYmM2NzNjMTY4Y2E0NTA3YjgwMTQ4MTE3ODQ0ODE3NS5iaW5kVG9vbHRpcCgKICAgICAgICAgICAgICAgIGA8ZGl2PgogICAgICAgICAgICAgICAgICAgICA8ZGl2IHN0eWxlPSdtYXJnaW46MDsgYmFja2dyb3VuZC1jb2xvcjogZmlyZWJyaWNrOyBjb2xvcjogd2hpdGU7Jz48aDQgc3R5bGU9J3RleHQtYWxpZ246Y2VudGVyOyBmb250LXdlaWdodDogYm9sZCc+VHVuaXNpYTwvaDQ+PGhyIHN0eWxlPSdtYXJnaW46MTBweDsgY29sb3I6IHdoaXRlOyc+PHVsIHN0eWxlPSdjb2xvcjogd2hpdGU7O2xpc3Qtc3R5bGUtdHlwZTogY2lyY2xlOyBhbGlnbi1pdGVtOiBsZWZ0OyBwYWRkaW5nLWxlZnQ6IDIwcHg7IHBhZGRpbmctcmlnaHQ6MjBweCc+PGxpPlRvdGFsIGNhc2VzOiAxNDA2PC9saT48bGk+RGVhdGhzOiA1MDwvbGk+PGxpPkRlYXRoIHJhdGUgOiAzLjU1JSA8L2xpPjwvdWw+PC9kaXY+CiAgICAgICAgICAgICAgICAgPC9kaXY+YCwKICAgICAgICAgICAgICAgIHsic3RpY2t5IjogdHJ1ZX0KICAgICAgICAgICAgKTsKICAgICAgICAKICAgIAogICAgICAgICAgICB2YXIgY2lyY2xlX2JhZDM2MWQ3MmJlMjQ2ZWJiZTcyMjNmOWM0ODViNmJkID0gTC5jaXJjbGUoCiAgICAgICAgICAgICAgICBbMzguOTYzNywgMzUuMjQzM10sCiAgICAgICAgICAgICAgICB7ImJ1YmJsaW5nTW91c2VFdmVudHMiOiB0cnVlLCAiY29sb3IiOiAiY3JpbXNvbiIsICJkYXNoQXJyYXkiOiBudWxsLCAiZGFzaE9mZnNldCI6IG51bGwsICJmaWxsIjogdHJ1ZSwgImZpbGxDb2xvciI6ICJjcmltc29uIiwgImZpbGxPcGFjaXR5IjogMC4yLCAiZmlsbFJ1bGUiOiAiZXZlbm9kZCIsICJsaW5lQ2FwIjogInJvdW5kIiwgImxpbmVKb2luIjogInJvdW5kIiwgIm9wYWNpdHkiOiAxLjAsICJyYWRpdXMiOiA2MTAwMDAuMCwgInN0cm9rZSI6IHRydWUsICJ3ZWlnaHQiOiAzfQogICAgICAgICAgICApLmFkZFRvKG1hcF81NzVmYWYxMjE2Y2Y0YTRhOGVlMmEzMjg5ODMwYTlmNik7CiAgICAgICAgCiAgICAKICAgICAgICAgICAgY2lyY2xlX2JhZDM2MWQ3MmJlMjQ2ZWJiZTcyMjNmOWM0ODViNmJkLmJpbmRUb29sdGlwKAogICAgICAgICAgICAgICAgYDxkaXY+CiAgICAgICAgICAgICAgICAgICAgIDxkaXYgc3R5bGU9J21hcmdpbjowOyBiYWNrZ3JvdW5kLWNvbG9yOiBmaXJlYnJpY2s7IGNvbG9yOiB3aGl0ZTsnPjxoNCBzdHlsZT0ndGV4dC1hbGlnbjpjZW50ZXI7IGZvbnQtd2VpZ2h0OiBib2xkJz5UdXJrZXk8L2g0PjxociBzdHlsZT0nbWFyZ2luOjEwcHg7IGNvbG9yOiB3aGl0ZTsnPjx1bCBzdHlsZT0nY29sb3I6IHdoaXRlOztsaXN0LXN0eWxlLXR5cGU6IGNpcmNsZTsgYWxpZ24taXRlbTogbGVmdDsgcGFkZGluZy1sZWZ0OiAyMHB4OyBwYWRkaW5nLXJpZ2h0OjIwcHgnPjxsaT5Ub3RhbCBjYXNlczogMjIzMzE1PC9saT48bGk+RGVhdGhzOiA1NTYzPC9saT48bGk+RGVhdGggcmF0ZSA6IDIuNDklIDwvbGk+PC91bD48L2Rpdj4KICAgICAgICAgICAgICAgICA8L2Rpdj5gLAogICAgICAgICAgICAgICAgeyJzdGlja3kiOiB0cnVlfQogICAgICAgICAgICApOwogICAgICAgIAogICAgCiAgICAgICAgICAgIHZhciBjaXJjbGVfNGE3MmQ5ZjMyNGVlNDM4N2JhMjQ0ZGU5OTEyNDdiYTAgPSBMLmNpcmNsZSgKICAgICAgICAgICAgICAgIFsxLjM3MzMzMywgMzIuMjkwMjc1XSwKICAgICAgICAgICAgICAgIHsiYnViYmxpbmdNb3VzZUV2ZW50cyI6IHRydWUsICJjb2xvciI6ICJjcmltc29uIiwgImRhc2hBcnJheSI6IG51bGwsICJkYXNoT2Zmc2V0IjogbnVsbCwgImZpbGwiOiB0cnVlLCAiZmlsbENvbG9yIjogImNyaW1zb24iLCAiZmlsbE9wYWNpdHkiOiAwLjIsICJmaWxsUnVsZSI6ICJldmVub2RkIiwgImxpbmVDYXAiOiAicm91bmQiLCAibGluZUpvaW4iOiAicm91bmQiLCAib3BhY2l0eSI6IDEuMCwgInJhZGl1cyI6IDMxMDAwMC4wLCAic3Ryb2tlIjogdHJ1ZSwgIndlaWdodCI6IDN9CiAgICAgICAgICAgICkuYWRkVG8obWFwXzU3NWZhZjEyMTZjZjRhNGE4ZWUyYTMyODk4MzBhOWY2KTsKICAgICAgICAKICAgIAogICAgICAgICAgICBjaXJjbGVfNGE3MmQ5ZjMyNGVlNDM4N2JhMjQ0ZGU5OTEyNDdiYTAuYmluZFRvb2x0aXAoCiAgICAgICAgICAgICAgICBgPGRpdj4KICAgICAgICAgICAgICAgICAgICAgPGRpdiBzdHlsZT0nbWFyZ2luOjA7IGJhY2tncm91bmQtY29sb3I6IGZpcmVicmljazsgY29sb3I6IHdoaXRlOyc+PGg0IHN0eWxlPSd0ZXh0LWFsaWduOmNlbnRlcjsgZm9udC13ZWlnaHQ6IGJvbGQnPlVnYW5kYTwvaDQ+PGhyIHN0eWxlPSdtYXJnaW46MTBweDsgY29sb3I6IHdoaXRlOyc+PHVsIHN0eWxlPSdjb2xvcjogd2hpdGU7O2xpc3Qtc3R5bGUtdHlwZTogY2lyY2xlOyBhbGlnbi1pdGVtOiBsZWZ0OyBwYWRkaW5nLWxlZnQ6IDIwcHg7IHBhZGRpbmctcmlnaHQ6MjBweCc+PGxpPlRvdGFsIGNhc2VzOiAxMDc5PC9saT48bGk+RGVhdGhzOiAwPC9saT48bGk+RGVhdGggcmF0ZSA6IDAuMCUgPC9saT48L3VsPjwvZGl2PgogICAgICAgICAgICAgICAgIDwvZGl2PmAsCiAgICAgICAgICAgICAgICB7InN0aWNreSI6IHRydWV9CiAgICAgICAgICAgICk7CiAgICAgICAgCiAgICAKICAgICAgICAgICAgdmFyIGNpcmNsZV8zNjJmMzZiZWFhNjU0OThiOTc3Yzg0NmMwNWI0YjQyNyA9IEwuY2lyY2xlKAogICAgICAgICAgICAgICAgWzQ4LjM3OTQsIDMxLjE2NTZdLAogICAgICAgICAgICAgICAgeyJidWJibGluZ01vdXNlRXZlbnRzIjogdHJ1ZSwgImNvbG9yIjogImNyaW1zb24iLCAiZGFzaEFycmF5IjogbnVsbCwgImRhc2hPZmZzZXQiOiBudWxsLCAiZmlsbCI6IHRydWUsICJmaWxsQ29sb3IiOiAiY3JpbXNvbiIsICJmaWxsT3BhY2l0eSI6IDAuMiwgImZpbGxSdWxlIjogImV2ZW5vZGQiLCAibGluZUNhcCI6ICJyb3VuZCIsICJsaW5lSm9pbiI6ICJyb3VuZCIsICJvcGFjaXR5IjogMS4wLCAicmFkaXVzIjogNTYwMDAwLjAsICJzdHJva2UiOiB0cnVlLCAid2VpZ2h0IjogM30KICAgICAgICAgICAgKS5hZGRUbyhtYXBfNTc1ZmFmMTIxNmNmNGE0YThlZTJhMzI4OTgzMGE5ZjYpOwogICAgICAgIAogICAgCiAgICAgICAgICAgIGNpcmNsZV8zNjJmMzZiZWFhNjU0OThiOTc3Yzg0NmMwNWI0YjQyNy5iaW5kVG9vbHRpcCgKICAgICAgICAgICAgICAgIGA8ZGl2PgogICAgICAgICAgICAgICAgICAgICA8ZGl2IHN0eWxlPSdtYXJnaW46MDsgYmFja2dyb3VuZC1jb2xvcjogZmlyZWJyaWNrOyBjb2xvcjogd2hpdGU7Jz48aDQgc3R5bGU9J3RleHQtYWxpZ246Y2VudGVyOyBmb250LXdlaWdodDogYm9sZCc+VWtyYWluZTwvaDQ+PGhyIHN0eWxlPSdtYXJnaW46MTBweDsgY29sb3I6IHdoaXRlOyc+PHVsIHN0eWxlPSdjb2xvcjogd2hpdGU7O2xpc3Qtc3R5bGUtdHlwZTogY2lyY2xlOyBhbGlnbi1pdGVtOiBsZWZ0OyBwYWRkaW5nLWxlZnQ6IDIwcHg7IHBhZGRpbmctcmlnaHQ6MjBweCc+PGxpPlRvdGFsIGNhc2VzOiA2MzE2OTwvbGk+PGxpPkRlYXRoczogMTU3MDwvbGk+PGxpPkRlYXRoIHJhdGUgOiAyLjQ5JSA8L2xpPjwvdWw+PC9kaXY+CiAgICAgICAgICAgICAgICAgPC9kaXY+YCwKICAgICAgICAgICAgICAgIHsic3RpY2t5IjogdHJ1ZX0KICAgICAgICAgICAgKTsKICAgICAgICAKICAgIAogICAgICAgICAgICB2YXIgY2lyY2xlX2EzMzAxNWE3MjdhYjQxMTJiNDhhY2I4OWY1MmJmMTFhID0gTC5jaXJjbGUoCiAgICAgICAgICAgICAgICBbMjMuNDI0MDc2LCA1My44NDc4MTgwMDAwMDAwMDRdLAogICAgICAgICAgICAgICAgeyJidWJibGluZ01vdXNlRXZlbnRzIjogdHJ1ZSwgImNvbG9yIjogImNyaW1zb24iLCAiZGFzaEFycmF5IjogbnVsbCwgImRhc2hPZmZzZXQiOiBudWxsLCAiZmlsbCI6IHRydWUsICJmaWxsQ29sb3IiOiAiY3JpbXNvbiIsICJmaWxsT3BhY2l0eSI6IDAuMiwgImZpbGxSdWxlIjogImV2ZW5vZGQiLCAibGluZUNhcCI6ICJyb3VuZCIsICJsaW5lSm9pbiI6ICJyb3VuZCIsICJvcGFjaXR5IjogMS4wLCAicmFkaXVzIjogNTA5OTk5Ljk5OTk5OTk5OTk0LCAic3Ryb2tlIjogdHJ1ZSwgIndlaWdodCI6IDN9CiAgICAgICAgICAgICkuYWRkVG8obWFwXzU3NWZhZjEyMTZjZjRhNGE4ZWUyYTMyODk4MzBhOWY2KTsKICAgICAgICAKICAgIAogICAgICAgICAgICBjaXJjbGVfYTMzMDE1YTcyN2FiNDExMmI0OGFjYjg5ZjUyYmYxMWEuYmluZFRvb2x0aXAoCiAgICAgICAgICAgICAgICBgPGRpdj4KICAgICAgICAgICAgICAgICAgICAgPGRpdiBzdHlsZT0nbWFyZ2luOjA7IGJhY2tncm91bmQtY29sb3I6IGZpcmVicmljazsgY29sb3I6IHdoaXRlOyc+PGg0IHN0eWxlPSd0ZXh0LWFsaWduOmNlbnRlcjsgZm9udC13ZWlnaHQ6IGJvbGQnPlVuaXRlZCBBcmFiIEVtaXJhdGVzPC9oND48aHIgc3R5bGU9J21hcmdpbjoxMHB4OyBjb2xvcjogd2hpdGU7Jz48dWwgc3R5bGU9J2NvbG9yOiB3aGl0ZTs7bGlzdC1zdHlsZS10eXBlOiBjaXJjbGU7IGFsaWduLWl0ZW06IGxlZnQ7IHBhZGRpbmctbGVmdDogMjBweDsgcGFkZGluZy1yaWdodDoyMHB4Jz48bGk+VG90YWwgY2FzZXM6IDU3OTg4PC9saT48bGk+RGVhdGhzOiAzNDI8L2xpPjxsaT5EZWF0aCByYXRlIDogMC41OSUgPC9saT48L3VsPjwvZGl2PgogICAgICAgICAgICAgICAgIDwvZGl2PmAsCiAgICAgICAgICAgICAgICB7InN0aWNreSI6IHRydWV9CiAgICAgICAgICAgICk7CiAgICAgICAgCiAgICAKICAgICAgICAgICAgdmFyIGNpcmNsZV9jNzdiMTRlNTczNjE0M2JhODg0NDRjZjVjMjI5YmUzNyA9IEwuY2lyY2xlKAogICAgICAgICAgICAgICAgWzMyLjMwNzgsIC02NC43NTA1XSwKICAgICAgICAgICAgICAgIHsiYnViYmxpbmdNb3VzZUV2ZW50cyI6IHRydWUsICJjb2xvciI6ICJjcmltc29uIiwgImRhc2hBcnJheSI6IG51bGwsICJkYXNoT2Zmc2V0IjogbnVsbCwgImZpbGwiOiB0cnVlLCAiZmlsbENvbG9yIjogImNyaW1zb24iLCAiZmlsbE9wYWNpdHkiOiAwLjIsICJmaWxsUnVsZSI6ICJldmVub2RkIiwgImxpbmVDYXAiOiAicm91bmQiLCAibGluZUpvaW4iOiAicm91bmQiLCAib3BhY2l0eSI6IDEuMCwgInJhZGl1cyI6IDI2MDAwMC4wLCAic3Ryb2tlIjogdHJ1ZSwgIndlaWdodCI6IDN9CiAgICAgICAgICAgICkuYWRkVG8obWFwXzU3NWZhZjEyMTZjZjRhNGE4ZWUyYTMyODk4MzBhOWY2KTsKICAgICAgICAKICAgIAogICAgICAgICAgICBjaXJjbGVfYzc3YjE0ZTU3MzYxNDNiYTg4NDQ0Y2Y1YzIyOWJlMzcuYmluZFRvb2x0aXAoCiAgICAgICAgICAgICAgICBgPGRpdj4KICAgICAgICAgICAgICAgICAgICAgPGRpdiBzdHlsZT0nbWFyZ2luOjA7IGJhY2tncm91bmQtY29sb3I6IGZpcmVicmljazsgY29sb3I6IHdoaXRlOyc+PGg0IHN0eWxlPSd0ZXh0LWFsaWduOmNlbnRlcjsgZm9udC13ZWlnaHQ6IGJvbGQnPlVuaXRlZCBLaW5nZG9tPC9oND48aHIgc3R5bGU9J21hcmdpbjoxMHB4OyBjb2xvcjogd2hpdGU7Jz48dWwgc3R5bGU9J2NvbG9yOiB3aGl0ZTs7bGlzdC1zdHlsZS10eXBlOiBjaXJjbGU7IGFsaWduLWl0ZW06IGxlZnQ7IHBhZGRpbmctbGVmdDogMjBweDsgcGFkZGluZy1yaWdodDoyMHB4Jz48bGk+VG90YWwgY2FzZXM6IDE1MzwvbGk+PGxpPkRlYXRoczogOTwvbGk+PGxpPkRlYXRoIHJhdGUgOiA1Ljg0JSA8L2xpPjwvdWw+PC9kaXY+CiAgICAgICAgICAgICAgICAgPC9kaXY+YCwKICAgICAgICAgICAgICAgIHsic3RpY2t5IjogdHJ1ZX0KICAgICAgICAgICAgKTsKICAgICAgICAKICAgIAogICAgICAgICAgICB2YXIgY2lyY2xlX2Y3MzdiYjFkMjdlMDRhNjk5MDQyN2QyMDk0NTliMTdkID0gTC5jaXJjbGUoCiAgICAgICAgICAgICAgICBbMTkuMzEzMywgLTgxLjI1NDZdLAogICAgICAgICAgICAgICAgeyJidWJibGluZ01vdXNlRXZlbnRzIjogdHJ1ZSwgImNvbG9yIjogImNyaW1zb24iLCAiZGFzaEFycmF5IjogbnVsbCwgImRhc2hPZmZzZXQiOiBudWxsLCAiZmlsbCI6IHRydWUsICJmaWxsQ29sb3IiOiAiY3JpbXNvbiIsICJmaWxsT3BhY2l0eSI6IDAuMiwgImZpbGxSdWxlIjogImV2ZW5vZGQiLCAibGluZUNhcCI6ICJyb3VuZCIsICJsaW5lSm9pbiI6ICJyb3VuZCIsICJvcGFjaXR5IjogMS4wLCAicmFkaXVzIjogMjYwMDAwLjAsICJzdHJva2UiOiB0cnVlLCAid2VpZ2h0IjogM30KICAgICAgICAgICAgKS5hZGRUbyhtYXBfNTc1ZmFmMTIxNmNmNGE0YThlZTJhMzI4OTgzMGE5ZjYpOwogICAgICAgIAogICAgCiAgICAgICAgICAgIGNpcmNsZV9mNzM3YmIxZDI3ZTA0YTY5OTA0MjdkMjA5NDU5YjE3ZC5iaW5kVG9vbHRpcCgKICAgICAgICAgICAgICAgIGA8ZGl2PgogICAgICAgICAgICAgICAgICAgICA8ZGl2IHN0eWxlPSdtYXJnaW46MDsgYmFja2dyb3VuZC1jb2xvcjogZmlyZWJyaWNrOyBjb2xvcjogd2hpdGU7Jz48aDQgc3R5bGU9J3RleHQtYWxpZ246Y2VudGVyOyBmb250LXdlaWdodDogYm9sZCc+VW5pdGVkIEtpbmdkb208L2g0PjxociBzdHlsZT0nbWFyZ2luOjEwcHg7IGNvbG9yOiB3aGl0ZTsnPjx1bCBzdHlsZT0nY29sb3I6IHdoaXRlOztsaXN0LXN0eWxlLXR5cGU6IGNpcmNsZTsgYWxpZ24taXRlbTogbGVmdDsgcGFkZGluZy1sZWZ0OiAyMHB4OyBwYWRkaW5nLXJpZ2h0OjIwcHgnPjxsaT5Ub3RhbCBjYXNlczogMjAzPC9saT48bGk+RGVhdGhzOiAxPC9saT48bGk+RGVhdGggcmF0ZSA6IDAuNDklIDwvbGk+PC91bD48L2Rpdj4KICAgICAgICAgICAgICAgICA8L2Rpdj5gLAogICAgICAgICAgICAgICAgeyJzdGlja3kiOiB0cnVlfQogICAgICAgICAgICApOwogICAgICAgIAogICAgCiAgICAgICAgICAgIHZhciBjaXJjbGVfZWFkNWYzZGUyZjBkNGNmZDk4NzI5OGMwY2ZjY2Y2MTcgPSBMLmNpcmNsZSgKICAgICAgICAgICAgICAgIFs0OS4zNzIzLCAtMi4zNjQ0XSwKICAgICAgICAgICAgICAgIHsiYnViYmxpbmdNb3VzZUV2ZW50cyI6IHRydWUsICJjb2xvciI6ICJjcmltc29uIiwgImRhc2hBcnJheSI6IG51bGwsICJkYXNoT2Zmc2V0IjogbnVsbCwgImZpbGwiOiB0cnVlLCAiZmlsbENvbG9yIjogImNyaW1zb24iLCAiZmlsbE9wYWNpdHkiOiAwLjIsICJmaWxsUnVsZSI6ICJldmVub2RkIiwgImxpbmVDYXAiOiAicm91bmQiLCAibGluZUpvaW4iOiAicm91bmQiLCAib3BhY2l0eSI6IDEuMCwgInJhZGl1cyI6IDMxMDAwMC4wLCAic3Ryb2tlIjogdHJ1ZSwgIndlaWdodCI6IDN9CiAgICAgICAgICAgICkuYWRkVG8obWFwXzU3NWZhZjEyMTZjZjRhNGE4ZWUyYTMyODk4MzBhOWY2KTsKICAgICAgICAKICAgIAogICAgICAgICAgICBjaXJjbGVfZWFkNWYzZGUyZjBkNGNmZDk4NzI5OGMwY2ZjY2Y2MTcuYmluZFRvb2x0aXAoCiAgICAgICAgICAgICAgICBgPGRpdj4KICAgICAgICAgICAgICAgICAgICAgPGRpdiBzdHlsZT0nbWFyZ2luOjA7IGJhY2tncm91bmQtY29sb3I6IGZpcmVicmljazsgY29sb3I6IHdoaXRlOyc+PGg0IHN0eWxlPSd0ZXh0LWFsaWduOmNlbnRlcjsgZm9udC13ZWlnaHQ6IGJvbGQnPlVuaXRlZCBLaW5nZG9tPC9oND48aHIgc3R5bGU9J21hcmdpbjoxMHB4OyBjb2xvcjogd2hpdGU7Jz48dWwgc3R5bGU9J2NvbG9yOiB3aGl0ZTs7bGlzdC1zdHlsZS10eXBlOiBjaXJjbGU7IGFsaWduLWl0ZW06IGxlZnQ7IHBhZGRpbmctbGVmdDogMjBweDsgcGFkZGluZy1yaWdodDoyMHB4Jz48bGk+VG90YWwgY2FzZXM6IDU4MzwvbGk+PGxpPkRlYXRoczogNDc8L2xpPjxsaT5EZWF0aCByYXRlIDogOC4wNSUgPC9saT48L3VsPjwvZGl2PgogICAgICAgICAgICAgICAgIDwvZGl2PmAsCiAgICAgICAgICAgICAgICB7InN0aWNreSI6IHRydWV9CiAgICAgICAgICAgICk7CiAgICAgICAgCiAgICAKICAgICAgICAgICAgdmFyIGNpcmNsZV9hMmVlYjdjNTVjNDE0ZjZjYTVmZjBiMGI1YzlkZTQ5YiA9IEwuY2lyY2xlKAogICAgICAgICAgICAgICAgWzM2LjE0MDgsIC01LjM1MzZdLAogICAgICAgICAgICAgICAgeyJidWJibGluZ01vdXNlRXZlbnRzIjogdHJ1ZSwgImNvbG9yIjogImNyaW1zb24iLCAiZGFzaEFycmF5IjogbnVsbCwgImRhc2hPZmZzZXQiOiBudWxsLCAiZmlsbCI6IHRydWUsICJmaWxsQ29sb3IiOiAiY3JpbXNvbiIsICJmaWxsT3BhY2l0eSI6IDAuMiwgImZpbGxSdWxlIjogImV2ZW5vZGQiLCAibGluZUNhcCI6ICJyb3VuZCIsICJsaW5lSm9pbiI6ICJyb3VuZCIsICJvcGFjaXR5IjogMS4wLCAicmFkaXVzIjogMjYwMDAwLjAsICJzdHJva2UiOiB0cnVlLCAid2VpZ2h0IjogM30KICAgICAgICAgICAgKS5hZGRUbyhtYXBfNTc1ZmFmMTIxNmNmNGE0YThlZTJhMzI4OTgzMGE5ZjYpOwogICAgICAgIAogICAgCiAgICAgICAgICAgIGNpcmNsZV9hMmVlYjdjNTVjNDE0ZjZjYTVmZjBiMGI1YzlkZTQ5Yi5iaW5kVG9vbHRpcCgKICAgICAgICAgICAgICAgIGA8ZGl2PgogICAgICAgICAgICAgICAgICAgICA8ZGl2IHN0eWxlPSdtYXJnaW46MDsgYmFja2dyb3VuZC1jb2xvcjogZmlyZWJyaWNrOyBjb2xvcjogd2hpdGU7Jz48aDQgc3R5bGU9J3RleHQtYWxpZ246Y2VudGVyOyBmb250LXdlaWdodDogYm9sZCc+VW5pdGVkIEtpbmdkb208L2g0PjxociBzdHlsZT0nbWFyZ2luOjEwcHg7IGNvbG9yOiB3aGl0ZTsnPjx1bCBzdHlsZT0nY29sb3I6IHdoaXRlOztsaXN0LXN0eWxlLXR5cGU6IGNpcmNsZTsgYWxpZ24taXRlbTogbGVmdDsgcGFkZGluZy1sZWZ0OiAyMHB4OyBwYWRkaW5nLXJpZ2h0OjIwcHgnPjxsaT5Ub3RhbCBjYXNlczogMTg0PC9saT48bGk+RGVhdGhzOiAwPC9saT48bGk+RGVhdGggcmF0ZSA6IDAuMCUgPC9saT48L3VsPjwvZGl2PgogICAgICAgICAgICAgICAgIDwvZGl2PmAsCiAgICAgICAgICAgICAgICB7InN0aWNreSI6IHRydWV9CiAgICAgICAgICAgICk7CiAgICAgICAgCiAgICAKICAgICAgICAgICAgdmFyIGNpcmNsZV83YTQyM2VjOGJmNTk0NWE2ODA4ODZkZWE2ZGJjZTdhNSA9IEwuY2lyY2xlKAogICAgICAgICAgICAgICAgWzU0LjIzNjEsIC00LjU0ODFdLAogICAgICAgICAgICAgICAgeyJidWJibGluZ01vdXNlRXZlbnRzIjogdHJ1ZSwgImNvbG9yIjogImNyaW1zb24iLCAiZGFzaEFycmF5IjogbnVsbCwgImRhc2hPZmZzZXQiOiBudWxsLCAiZmlsbCI6IHRydWUsICJmaWxsQ29sb3IiOiAiY3JpbXNvbiIsICJmaWxsT3BhY2l0eSI6IDAuMiwgImZpbGxSdWxlIjogImV2ZW5vZGQiLCAibGluZUNhcCI6ICJyb3VuZCIsICJsaW5lSm9pbiI6ICJyb3VuZCIsICJvcGFjaXR5IjogMS4wLCAicmFkaXVzIjogMjYwMDAwLjAsICJzdHJva2UiOiB0cnVlLCAid2VpZ2h0IjogM30KICAgICAgICAgICAgKS5hZGRUbyhtYXBfNTc1ZmFmMTIxNmNmNGE0YThlZTJhMzI4OTgzMGE5ZjYpOwogICAgICAgIAogICAgCiAgICAgICAgICAgIGNpcmNsZV83YTQyM2VjOGJmNTk0NWE2ODA4ODZkZWE2ZGJjZTdhNS5iaW5kVG9vbHRpcCgKICAgICAgICAgICAgICAgIGA8ZGl2PgogICAgICAgICAgICAgICAgICAgICA8ZGl2IHN0eWxlPSdtYXJnaW46MDsgYmFja2dyb3VuZC1jb2xvcjogZmlyZWJyaWNrOyBjb2xvcjogd2hpdGU7Jz48aDQgc3R5bGU9J3RleHQtYWxpZ246Y2VudGVyOyBmb250LXdlaWdodDogYm9sZCc+VW5pdGVkIEtpbmdkb208L2g0PjxociBzdHlsZT0nbWFyZ2luOjEwcHg7IGNvbG9yOiB3aGl0ZTsnPjx1bCBzdHlsZT0nY29sb3I6IHdoaXRlOztsaXN0LXN0eWxlLXR5cGU6IGNpcmNsZTsgYWxpZ24taXRlbTogbGVmdDsgcGFkZGluZy1sZWZ0OiAyMHB4OyBwYWRkaW5nLXJpZ2h0OjIwcHgnPjxsaT5Ub3RhbCBjYXNlczogMzM2PC9saT48bGk+RGVhdGhzOiAyNDwvbGk+PGxpPkRlYXRoIHJhdGUgOiA3LjEyJSA8L2xpPjwvdWw+PC9kaXY+CiAgICAgICAgICAgICAgICAgPC9kaXY+YCwKICAgICAgICAgICAgICAgIHsic3RpY2t5IjogdHJ1ZX0KICAgICAgICAgICAgKTsKICAgICAgICAKICAgIAogICAgICAgICAgICB2YXIgY2lyY2xlXzM0MDRjZGM3NmI0MDQ3MjE4ODI0MmEwYmQ1ZTZhMjFkID0gTC5jaXJjbGUoCiAgICAgICAgICAgICAgICBbMTYuNzQyNDk4LCAtNjIuMTg3MzY2MDAwMDAwMDA0XSwKICAgICAgICAgICAgICAgIHsiYnViYmxpbmdNb3VzZUV2ZW50cyI6IHRydWUsICJjb2xvciI6ICJjcmltc29uIiwgImRhc2hBcnJheSI6IG51bGwsICJkYXNoT2Zmc2V0IjogbnVsbCwgImZpbGwiOiB0cnVlLCAiZmlsbENvbG9yIjogImNyaW1zb24iLCAiZmlsbE9wYWNpdHkiOiAwLjIsICJmaWxsUnVsZSI6ICJldmVub2RkIiwgImxpbmVDYXAiOiAicm91bmQiLCAibGluZUpvaW4iOiAicm91bmQiLCAib3BhY2l0eSI6IDEuMCwgInJhZGl1cyI6IDExMDAwMC4wMDAwMDAwMDAwMSwgInN0cm9rZSI6IHRydWUsICJ3ZWlnaHQiOiAzfQogICAgICAgICAgICApLmFkZFRvKG1hcF81NzVmYWYxMjE2Y2Y0YTRhOGVlMmEzMjg5ODMwYTlmNik7CiAgICAgICAgCiAgICAKICAgICAgICAgICAgY2lyY2xlXzM0MDRjZGM3NmI0MDQ3MjE4ODI0MmEwYmQ1ZTZhMjFkLmJpbmRUb29sdGlwKAogICAgICAgICAgICAgICAgYDxkaXY+CiAgICAgICAgICAgICAgICAgICAgIDxkaXYgc3R5bGU9J21hcmdpbjowOyBiYWNrZ3JvdW5kLWNvbG9yOiBmaXJlYnJpY2s7IGNvbG9yOiB3aGl0ZTsnPjxoNCBzdHlsZT0ndGV4dC1hbGlnbjpjZW50ZXI7IGZvbnQtd2VpZ2h0OiBib2xkJz5Vbml0ZWQgS2luZ2RvbTwvaDQ+PGhyIHN0eWxlPSdtYXJnaW46MTBweDsgY29sb3I6IHdoaXRlOyc+PHVsIHN0eWxlPSdjb2xvcjogd2hpdGU7O2xpc3Qtc3R5bGUtdHlwZTogY2lyY2xlOyBhbGlnbi1pdGVtOiBsZWZ0OyBwYWRkaW5nLWxlZnQ6IDIwcHg7IHBhZGRpbmctcmlnaHQ6MjBweCc+PGxpPlRvdGFsIGNhc2VzOiAxMjwvbGk+PGxpPkRlYXRoczogMTwvbGk+PGxpPkRlYXRoIHJhdGUgOiA3LjY5JSA8L2xpPjwvdWw+PC9kaXY+CiAgICAgICAgICAgICAgICAgPC9kaXY+YCwKICAgICAgICAgICAgICAgIHsic3RpY2t5IjogdHJ1ZX0KICAgICAgICAgICAgKTsKICAgICAgICAKICAgIAogICAgICAgICAgICB2YXIgY2lyY2xlXzRlNWJhNWRkNzZmNTRmZGZhMmNkZGRjMjllOTVlOTM4ID0gTC5jaXJjbGUoCiAgICAgICAgICAgICAgICBbNTUuMzc4MSwgLTMuNDM2MDAwMDAwMDAwMDAwNF0sCiAgICAgICAgICAgICAgICB7ImJ1YmJsaW5nTW91c2VFdmVudHMiOiB0cnVlLCAiY29sb3IiOiAiY3JpbXNvbiIsICJkYXNoQXJyYXkiOiBudWxsLCAiZGFzaE9mZnNldCI6IG51bGwsICJmaWxsIjogdHJ1ZSwgImZpbGxDb2xvciI6ICJjcmltc29uIiwgImZpbGxPcGFjaXR5IjogMC4yLCAiZmlsbFJ1bGUiOiAiZXZlbm9kZCIsICJsaW5lQ2FwIjogInJvdW5kIiwgImxpbmVKb2luIjogInJvdW5kIiwgIm9wYWNpdHkiOiAxLjAsICJyYWRpdXMiOiA2MTAwMDAuMCwgInN0cm9rZSI6IHRydWUsICJ3ZWlnaHQiOiAzfQogICAgICAgICAgICApLmFkZFRvKG1hcF81NzVmYWYxMjE2Y2Y0YTRhOGVlMmEzMjg5ODMwYTlmNik7CiAgICAgICAgCiAgICAKICAgICAgICAgICAgY2lyY2xlXzRlNWJhNWRkNzZmNTRmZGZhMmNkZGRjMjllOTVlOTM4LmJpbmRUb29sdGlwKAogICAgICAgICAgICAgICAgYDxkaXY+CiAgICAgICAgICAgICAgICAgICAgIDxkaXYgc3R5bGU9J21hcmdpbjowOyBiYWNrZ3JvdW5kLWNvbG9yOiBmaXJlYnJpY2s7IGNvbG9yOiB3aGl0ZTsnPjxoNCBzdHlsZT0ndGV4dC1hbGlnbjpjZW50ZXI7IGZvbnQtd2VpZ2h0OiBib2xkJz5Vbml0ZWQgS2luZ2RvbTwvaDQ+PGhyIHN0eWxlPSdtYXJnaW46MTBweDsgY29sb3I6IHdoaXRlOyc+PHVsIHN0eWxlPSdjb2xvcjogd2hpdGU7O2xpc3Qtc3R5bGUtdHlwZTogY2lyY2xlOyBhbGlnbi1pdGVtOiBsZWZ0OyBwYWRkaW5nLWxlZnQ6IDIwcHg7IHBhZGRpbmctcmlnaHQ6MjBweCc+PGxpPlRvdGFsIGNhc2VzOiAyOTcxNDY8L2xpPjxsaT5EZWF0aHM6IDQ1NTU0PC9saT48bGk+RGVhdGggcmF0ZSA6IDE1LjMzJSA8L2xpPjwvdWw+PC9kaXY+CiAgICAgICAgICAgICAgICAgPC9kaXY+YCwKICAgICAgICAgICAgICAgIHsic3RpY2t5IjogdHJ1ZX0KICAgICAgICAgICAgKTsKICAgICAgICAKICAgIAogICAgICAgICAgICB2YXIgY2lyY2xlXzAwZDU3Y2ExM2QyMTQyMDA4YzI1MDg0ZmM1NWEyYWFmID0gTC5jaXJjbGUoCiAgICAgICAgICAgICAgICBbLTMyLjUyMjgsIC01NS43NjU4XSwKICAgICAgICAgICAgICAgIHsiYnViYmxpbmdNb3VzZUV2ZW50cyI6IHRydWUsICJjb2xvciI6ICJjcmltc29uIiwgImRhc2hBcnJheSI6IG51bGwsICJkYXNoT2Zmc2V0IjogbnVsbCwgImZpbGwiOiB0cnVlLCAiZmlsbENvbG9yIjogImNyaW1zb24iLCAiZmlsbE9wYWNpdHkiOiAwLjIsICJmaWxsUnVsZSI6ICJldmVub2RkIiwgImxpbmVDYXAiOiAicm91bmQiLCAibGluZUpvaW4iOiAicm91bmQiLCAib3BhY2l0eSI6IDEuMCwgInJhZGl1cyI6IDM2MDAwMC4wLCAic3Ryb2tlIjogdHJ1ZSwgIndlaWdodCI6IDN9CiAgICAgICAgICAgICkuYWRkVG8obWFwXzU3NWZhZjEyMTZjZjRhNGE4ZWUyYTMyODk4MzBhOWY2KTsKICAgICAgICAKICAgIAogICAgICAgICAgICBjaXJjbGVfMDBkNTdjYTEzZDIxNDIwMDhjMjUwODRmYzU1YTJhYWYuYmluZFRvb2x0aXAoCiAgICAgICAgICAgICAgICBgPGRpdj4KICAgICAgICAgICAgICAgICAgICAgPGRpdiBzdHlsZT0nbWFyZ2luOjA7IGJhY2tncm91bmQtY29sb3I6IGZpcmVicmljazsgY29sb3I6IHdoaXRlOyc+PGg0IHN0eWxlPSd0ZXh0LWFsaWduOmNlbnRlcjsgZm9udC13ZWlnaHQ6IGJvbGQnPlVydWd1YXk8L2g0PjxociBzdHlsZT0nbWFyZ2luOjEwcHg7IGNvbG9yOiB3aGl0ZTsnPjx1bCBzdHlsZT0nY29sb3I6IHdoaXRlOztsaXN0LXN0eWxlLXR5cGU6IGNpcmNsZTsgYWxpZ24taXRlbTogbGVmdDsgcGFkZGluZy1sZWZ0OiAyMHB4OyBwYWRkaW5nLXJpZ2h0OjIwcHgnPjxsaT5Ub3RhbCBjYXNlczogMTE0MTwvbGk+PGxpPkRlYXRoczogMzQ8L2xpPjxsaT5EZWF0aCByYXRlIDogMi45OCUgPC9saT48L3VsPjwvZGl2PgogICAgICAgICAgICAgICAgIDwvZGl2PmAsCiAgICAgICAgICAgICAgICB7InN0aWNreSI6IHRydWV9CiAgICAgICAgICAgICk7CiAgICAgICAgCiAgICAKICAgICAgICAgICAgdmFyIGNpcmNsZV9lNDUxYjc2ZjhhMDg0MGYxYjA2NzhmMzdiOTU4MDVjYSA9IEwuY2lyY2xlKAogICAgICAgICAgICAgICAgWzQwLjAsIC0xMDAuMF0sCiAgICAgICAgICAgICAgICB7ImJ1YmJsaW5nTW91c2VFdmVudHMiOiB0cnVlLCAiY29sb3IiOiAiY3JpbXNvbiIsICJkYXNoQXJyYXkiOiBudWxsLCAiZGFzaE9mZnNldCI6IG51bGwsICJmaWxsIjogdHJ1ZSwgImZpbGxDb2xvciI6ICJjcmltc29uIiwgImZpbGxPcGFjaXR5IjogMC4yLCAiZmlsbFJ1bGUiOiAiZXZlbm9kZCIsICJsaW5lQ2FwIjogInJvdW5kIiwgImxpbmVKb2luIjogInJvdW5kIiwgIm9wYWNpdHkiOiAxLjAsICJyYWRpdXMiOiA3NjAwMDAuMCwgInN0cm9rZSI6IHRydWUsICJ3ZWlnaHQiOiAzfQogICAgICAgICAgICApLmFkZFRvKG1hcF81NzVmYWYxMjE2Y2Y0YTRhOGVlMmEzMjg5ODMwYTlmNik7CiAgICAgICAgCiAgICAKICAgICAgICAgICAgY2lyY2xlX2U0NTFiNzZmOGEwODQwZjFiMDY3OGYzN2I5NTgwNWNhLmJpbmRUb29sdGlwKAogICAgICAgICAgICAgICAgYDxkaXY+CiAgICAgICAgICAgICAgICAgICAgIDxkaXYgc3R5bGU9J21hcmdpbjowOyBiYWNrZ3JvdW5kLWNvbG9yOiBmaXJlYnJpY2s7IGNvbG9yOiB3aGl0ZTsnPjxoNCBzdHlsZT0ndGV4dC1hbGlnbjpjZW50ZXI7IGZvbnQtd2VpZ2h0OiBib2xkJz5VUzwvaDQ+PGhyIHN0eWxlPSdtYXJnaW46MTBweDsgY29sb3I6IHdoaXRlOyc+PHVsIHN0eWxlPSdjb2xvcjogd2hpdGU7O2xpc3Qtc3R5bGUtdHlwZTogY2lyY2xlOyBhbGlnbi1pdGVtOiBsZWZ0OyBwYWRkaW5nLWxlZnQ6IDIwcHg7IHBhZGRpbmctcmlnaHQ6MjBweCc+PGxpPlRvdGFsIGNhc2VzOiA0MDM4NzQ4PC9saT48bGk+RGVhdGhzOiAxNDQzMDQ8L2xpPjxsaT5EZWF0aCByYXRlIDogMy41NyUgPC9saT48L3VsPjwvZGl2PgogICAgICAgICAgICAgICAgIDwvZGl2PmAsCiAgICAgICAgICAgICAgICB7InN0aWNreSI6IHRydWV9CiAgICAgICAgICAgICk7CiAgICAgICAgCiAgICAKICAgICAgICAgICAgdmFyIGNpcmNsZV9jMjMzZDFiODVhNDU0MmQ5YWU4NzMxNTYxNmM3MzY5YSA9IEwuY2lyY2xlKAogICAgICAgICAgICAgICAgWzQxLjM3NzQ5MSwgNjQuNTg1MjYyXSwKICAgICAgICAgICAgICAgIHsiYnViYmxpbmdNb3VzZUV2ZW50cyI6IHRydWUsICJjb2xvciI6ICJjcmltc29uIiwgImRhc2hBcnJheSI6IG51bGwsICJkYXNoT2Zmc2V0IjogbnVsbCwgImZpbGwiOiB0cnVlLCAiZmlsbENvbG9yIjogImNyaW1zb24iLCAiZmlsbE9wYWNpdHkiOiAwLjIsICJmaWxsUnVsZSI6ICJldmVub2RkIiwgImxpbmVDYXAiOiAicm91bmQiLCAibGluZUpvaW4iOiAicm91bmQiLCAib3BhY2l0eSI6IDEuMCwgInJhZGl1cyI6IDQ1OTk5OS45OTk5OTk5OTk5NCwgInN0cm9rZSI6IHRydWUsICJ3ZWlnaHQiOiAzfQogICAgICAgICAgICApLmFkZFRvKG1hcF81NzVmYWYxMjE2Y2Y0YTRhOGVlMmEzMjg5ODMwYTlmNik7CiAgICAgICAgCiAgICAKICAgICAgICAgICAgY2lyY2xlX2MyMzNkMWI4NWE0NTQyZDlhZTg3MzE1NjE2YzczNjlhLmJpbmRUb29sdGlwKAogICAgICAgICAgICAgICAgYDxkaXY+CiAgICAgICAgICAgICAgICAgICAgIDxkaXYgc3R5bGU9J21hcmdpbjowOyBiYWNrZ3JvdW5kLWNvbG9yOiBmaXJlYnJpY2s7IGNvbG9yOiB3aGl0ZTsnPjxoNCBzdHlsZT0ndGV4dC1hbGlnbjpjZW50ZXI7IGZvbnQtd2VpZ2h0OiBib2xkJz5VemJla2lzdGFuPC9oND48aHIgc3R5bGU9J21hcmdpbjoxMHB4OyBjb2xvcjogd2hpdGU7Jz48dWwgc3R5bGU9J2NvbG9yOiB3aGl0ZTs7bGlzdC1zdHlsZS10eXBlOiBjaXJjbGU7IGFsaWduLWl0ZW06IGxlZnQ7IHBhZGRpbmctbGVmdDogMjBweDsgcGFkZGluZy1yaWdodDoyMHB4Jz48bGk+VG90YWwgY2FzZXM6IDE4OTg2PC9saT48bGk+RGVhdGhzOiAxMDM8L2xpPjxsaT5EZWF0aCByYXRlIDogMC41NCUgPC9saT48L3VsPjwvZGl2PgogICAgICAgICAgICAgICAgIDwvZGl2PmAsCiAgICAgICAgICAgICAgICB7InN0aWNreSI6IHRydWV9CiAgICAgICAgICAgICk7CiAgICAgICAgCiAgICAKICAgICAgICAgICAgdmFyIGNpcmNsZV9kMzNmNWMxMmY0NmM0MTg0YjRlZDg5ZjU2NWJiY2M4ZSA9IEwuY2lyY2xlKAogICAgICAgICAgICAgICAgWzYuNDIzOCwgLTY2LjU4OTddLAogICAgICAgICAgICAgICAgeyJidWJibGluZ01vdXNlRXZlbnRzIjogdHJ1ZSwgImNvbG9yIjogImNyaW1zb24iLCAiZGFzaEFycmF5IjogbnVsbCwgImRhc2hPZmZzZXQiOiBudWxsLCAiZmlsbCI6IHRydWUsICJmaWxsQ29sb3IiOiAiY3JpbXNvbiIsICJmaWxsT3BhY2l0eSI6IDAuMiwgImZpbGxSdWxlIjogImV2ZW5vZGQiLCAibGluZUNhcCI6ICJyb3VuZCIsICJsaW5lSm9pbiI6ICJyb3VuZCIsICJvcGFjaXR5IjogMS4wLCAicmFkaXVzIjogNDU5OTk5Ljk5OTk5OTk5OTk0LCAic3Ryb2tlIjogdHJ1ZSwgIndlaWdodCI6IDN9CiAgICAgICAgICAgICkuYWRkVG8obWFwXzU3NWZhZjEyMTZjZjRhNGE4ZWUyYTMyODk4MzBhOWY2KTsKICAgICAgICAKICAgIAogICAgICAgICAgICBjaXJjbGVfZDMzZjVjMTJmNDZjNDE4NGI0ZWQ4OWY1NjViYmNjOGUuYmluZFRvb2x0aXAoCiAgICAgICAgICAgICAgICBgPGRpdj4KICAgICAgICAgICAgICAgICAgICAgPGRpdiBzdHlsZT0nbWFyZ2luOjA7IGJhY2tncm91bmQtY29sb3I6IGZpcmVicmljazsgY29sb3I6IHdoaXRlOyc+PGg0IHN0eWxlPSd0ZXh0LWFsaWduOmNlbnRlcjsgZm9udC13ZWlnaHQ6IGJvbGQnPlZlbmV6dWVsYTwvaDQ+PGhyIHN0eWxlPSdtYXJnaW46MTBweDsgY29sb3I6IHdoaXRlOyc+PHVsIHN0eWxlPSdjb2xvcjogd2hpdGU7O2xpc3Qtc3R5bGUtdHlwZTogY2lyY2xlOyBhbGlnbi1pdGVtOiBsZWZ0OyBwYWRkaW5nLWxlZnQ6IDIwcHg7IHBhZGRpbmctcmlnaHQ6MjBweCc+PGxpPlRvdGFsIGNhc2VzOiAxMzYxMzwvbGk+PGxpPkRlYXRoczogMTI5PC9saT48bGk+RGVhdGggcmF0ZSA6IDAuOTUlIDwvbGk+PC91bD48L2Rpdj4KICAgICAgICAgICAgICAgICA8L2Rpdj5gLAogICAgICAgICAgICAgICAgeyJzdGlja3kiOiB0cnVlfQogICAgICAgICAgICApOwogICAgICAgIAogICAgCiAgICAgICAgICAgIHZhciBjaXJjbGVfYjNhMzkzMTlkMTVjNDEzNzgxZmU0Mjg0YjZkNDA0NjYgPSBMLmNpcmNsZSgKICAgICAgICAgICAgICAgIFsxNC4wNTgzMjM5OTk5OTk5OTksIDEwOC4yNzcxOTldLAogICAgICAgICAgICAgICAgeyJidWJibGluZ01vdXNlRXZlbnRzIjogdHJ1ZSwgImNvbG9yIjogImNyaW1zb24iLCAiZGFzaEFycmF5IjogbnVsbCwgImRhc2hPZmZzZXQiOiBudWxsLCAiZmlsbCI6IHRydWUsICJmaWxsQ29sb3IiOiAiY3JpbXNvbiIsICJmaWxsT3BhY2l0eSI6IDAuMiwgImZpbGxSdWxlIjogImV2ZW5vZGQiLCAibGluZUNhcCI6ICJyb3VuZCIsICJsaW5lSm9pbiI6ICJyb3VuZCIsICJvcGFjaXR5IjogMS4wLCAicmFkaXVzIjogMzEwMDAwLjAsICJzdHJva2UiOiB0cnVlLCAid2VpZ2h0IjogM30KICAgICAgICAgICAgKS5hZGRUbyhtYXBfNTc1ZmFmMTIxNmNmNGE0YThlZTJhMzI4OTgzMGE5ZjYpOwogICAgICAgIAogICAgCiAgICAgICAgICAgIGNpcmNsZV9iM2EzOTMxOWQxNWM0MTM3ODFmZTQyODRiNmQ0MDQ2Ni5iaW5kVG9vbHRpcCgKICAgICAgICAgICAgICAgIGA8ZGl2PgogICAgICAgICAgICAgICAgICAgICA8ZGl2IHN0eWxlPSdtYXJnaW46MDsgYmFja2dyb3VuZC1jb2xvcjogZmlyZWJyaWNrOyBjb2xvcjogd2hpdGU7Jz48aDQgc3R5bGU9J3RleHQtYWxpZ246Y2VudGVyOyBmb250LXdlaWdodDogYm9sZCc+VmlldG5hbTwvaDQ+PGhyIHN0eWxlPSdtYXJnaW46MTBweDsgY29sb3I6IHdoaXRlOyc+PHVsIHN0eWxlPSdjb2xvcjogd2hpdGU7O2xpc3Qtc3R5bGUtdHlwZTogY2lyY2xlOyBhbGlnbi1pdGVtOiBsZWZ0OyBwYWRkaW5nLWxlZnQ6IDIwcHg7IHBhZGRpbmctcmlnaHQ6MjBweCc+PGxpPlRvdGFsIGNhc2VzOiA0MTI8L2xpPjxsaT5EZWF0aHM6IDA8L2xpPjxsaT5EZWF0aCByYXRlIDogMC4wJSA8L2xpPjwvdWw+PC9kaXY+CiAgICAgICAgICAgICAgICAgPC9kaXY+YCwKICAgICAgICAgICAgICAgIHsic3RpY2t5IjogdHJ1ZX0KICAgICAgICAgICAgKTsKICAgICAgICAKICAgIAogICAgICAgICAgICB2YXIgY2lyY2xlXzU2OTZmOTc2NjkzNzQyZWE5ODEwYjNiZThlY2UzYWJjID0gTC5jaXJjbGUoCiAgICAgICAgICAgICAgICBbLTEzLjEzMzg5NywgMjcuODQ5MzMyXSwKICAgICAgICAgICAgICAgIHsiYnViYmxpbmdNb3VzZUV2ZW50cyI6IHRydWUsICJjb2xvciI6ICJjcmltc29uIiwgImRhc2hBcnJheSI6IG51bGwsICJkYXNoT2Zmc2V0IjogbnVsbCwgImZpbGwiOiB0cnVlLCAiZmlsbENvbG9yIjogImNyaW1zb24iLCAiZmlsbE9wYWNpdHkiOiAwLjIsICJmaWxsUnVsZSI6ICJldmVub2RkIiwgImxpbmVDYXAiOiAicm91bmQiLCAibGluZUpvaW4iOiAicm91bmQiLCAib3BhY2l0eSI6IDEuMCwgInJhZGl1cyI6IDQwOTk5OS45OTk5OTk5OTk5NCwgInN0cm9rZSI6IHRydWUsICJ3ZWlnaHQiOiAzfQogICAgICAgICAgICApLmFkZFRvKG1hcF81NzVmYWYxMjE2Y2Y0YTRhOGVlMmEzMjg5ODMwYTlmNik7CiAgICAgICAgCiAgICAKICAgICAgICAgICAgY2lyY2xlXzU2OTZmOTc2NjkzNzQyZWE5ODEwYjNiZThlY2UzYWJjLmJpbmRUb29sdGlwKAogICAgICAgICAgICAgICAgYDxkaXY+CiAgICAgICAgICAgICAgICAgICAgIDxkaXYgc3R5bGU9J21hcmdpbjowOyBiYWNrZ3JvdW5kLWNvbG9yOiBmaXJlYnJpY2s7IGNvbG9yOiB3aGl0ZTsnPjxoNCBzdHlsZT0ndGV4dC1hbGlnbjpjZW50ZXI7IGZvbnQtd2VpZ2h0OiBib2xkJz5aYW1iaWE8L2g0PjxociBzdHlsZT0nbWFyZ2luOjEwcHg7IGNvbG9yOiB3aGl0ZTsnPjx1bCBzdHlsZT0nY29sb3I6IHdoaXRlOztsaXN0LXN0eWxlLXR5cGU6IGNpcmNsZTsgYWxpZ24taXRlbTogbGVmdDsgcGFkZGluZy1sZWZ0OiAyMHB4OyBwYWRkaW5nLXJpZ2h0OjIwcHgnPjxsaT5Ub3RhbCBjYXNlczogMzc4OTwvbGk+PGxpPkRlYXRoczogMTM0PC9saT48bGk+RGVhdGggcmF0ZSA6IDMuNTQlIDwvbGk+PC91bD48L2Rpdj4KICAgICAgICAgICAgICAgICA8L2Rpdj5gLAogICAgICAgICAgICAgICAgeyJzdGlja3kiOiB0cnVlfQogICAgICAgICAgICApOwogICAgICAgIAogICAgCiAgICAgICAgICAgIHZhciBjaXJjbGVfN2YxOTcyZjU3ZGNlNDFjZmI5MzVjMjFkOTg3NzJhOWIgPSBMLmNpcmNsZSgKICAgICAgICAgICAgICAgIFstMTkuMDE1NDM4LCAyOS4xNTQ4NTddLAogICAgICAgICAgICAgICAgeyJidWJibGluZ01vdXNlRXZlbnRzIjogdHJ1ZSwgImNvbG9yIjogImNyaW1zb24iLCAiZGFzaEFycmF5IjogbnVsbCwgImRhc2hPZmZzZXQiOiBudWxsLCAiZmlsbCI6IHRydWUsICJmaWxsQ29sb3IiOiAiY3JpbXNvbiIsICJmaWxsT3BhY2l0eSI6IDAuMiwgImZpbGxSdWxlIjogImV2ZW5vZGQiLCAibGluZUNhcCI6ICJyb3VuZCIsICJsaW5lSm9pbiI6ICJyb3VuZCIsICJvcGFjaXR5IjogMS4wLCAicmFkaXVzIjogMzYwMDAwLjAsICJzdHJva2UiOiB0cnVlLCAid2VpZ2h0IjogM30KICAgICAgICAgICAgKS5hZGRUbyhtYXBfNTc1ZmFmMTIxNmNmNGE0YThlZTJhMzI4OTgzMGE5ZjYpOwogICAgICAgIAogICAgCiAgICAgICAgICAgIGNpcmNsZV83ZjE5NzJmNTdkY2U0MWNmYjkzNWMyMWQ5ODc3MmE5Yi5iaW5kVG9vbHRpcCgKICAgICAgICAgICAgICAgIGA8ZGl2PgogICAgICAgICAgICAgICAgICAgICA8ZGl2IHN0eWxlPSdtYXJnaW46MDsgYmFja2dyb3VuZC1jb2xvcjogZmlyZWJyaWNrOyBjb2xvcjogd2hpdGU7Jz48aDQgc3R5bGU9J3RleHQtYWxpZ246Y2VudGVyOyBmb250LXdlaWdodDogYm9sZCc+WmltYmFid2U8L2g0PjxociBzdHlsZT0nbWFyZ2luOjEwcHg7IGNvbG9yOiB3aGl0ZTsnPjx1bCBzdHlsZT0nY29sb3I6IHdoaXRlOztsaXN0LXN0eWxlLXR5cGU6IGNpcmNsZTsgYWxpZ24taXRlbTogbGVmdDsgcGFkZGluZy1sZWZ0OiAyMHB4OyBwYWRkaW5nLXJpZ2h0OjIwcHgnPjxsaT5Ub3RhbCBjYXNlczogMjEyNDwvbGk+PGxpPkRlYXRoczogMjg8L2xpPjxsaT5EZWF0aCByYXRlIDogMS4zMiUgPC9saT48L3VsPjwvZGl2PgogICAgICAgICAgICAgICAgIDwvZGl2PmAsCiAgICAgICAgICAgICAgICB7InN0aWNreSI6IHRydWV9CiAgICAgICAgICAgICk7CiAgICAgICAgCiAgICAKICAgICAgICAgICAgdmFyIGNpcmNsZV9lMmFlZTg3MDA4MDY0ODhmOWFkZTZkY2ZiNDMxZmJiNiA9IEwuY2lyY2xlKAogICAgICAgICAgICAgICAgWzAuMCwgMC4wXSwKICAgICAgICAgICAgICAgIHsiYnViYmxpbmdNb3VzZUV2ZW50cyI6IHRydWUsICJjb2xvciI6ICJjcmltc29uIiwgImRhc2hBcnJheSI6IG51bGwsICJkYXNoT2Zmc2V0IjogbnVsbCwgImZpbGwiOiB0cnVlLCAiZmlsbENvbG9yIjogImNyaW1zb24iLCAiZmlsbE9wYWNpdHkiOiAwLjIsICJmaWxsUnVsZSI6ICJldmVub2RkIiwgImxpbmVDYXAiOiAicm91bmQiLCAibGluZUpvaW4iOiAicm91bmQiLCAib3BhY2l0eSI6IDEuMCwgInJhZGl1cyI6IDEwMDAwLjAsICJzdHJva2UiOiB0cnVlLCAid2VpZ2h0IjogM30KICAgICAgICAgICAgKS5hZGRUbyhtYXBfNTc1ZmFmMTIxNmNmNGE0YThlZTJhMzI4OTgzMGE5ZjYpOwogICAgICAgIAogICAgCiAgICAgICAgICAgIGNpcmNsZV9lMmFlZTg3MDA4MDY0ODhmOWFkZTZkY2ZiNDMxZmJiNi5iaW5kVG9vbHRpcCgKICAgICAgICAgICAgICAgIGA8ZGl2PgogICAgICAgICAgICAgICAgICAgICA8ZGl2IHN0eWxlPSdtYXJnaW46MDsgYmFja2dyb3VuZC1jb2xvcjogZmlyZWJyaWNrOyBjb2xvcjogd2hpdGU7Jz48aDQgc3R5bGU9J3RleHQtYWxpZ246Y2VudGVyOyBmb250LXdlaWdodDogYm9sZCc+Q2FuYWRhPC9oND48aHIgc3R5bGU9J21hcmdpbjoxMHB4OyBjb2xvcjogd2hpdGU7Jz48dWwgc3R5bGU9J2NvbG9yOiB3aGl0ZTs7bGlzdC1zdHlsZS10eXBlOiBjaXJjbGU7IGFsaWduLWl0ZW06IGxlZnQ7IHBhZGRpbmctbGVmdDogMjBweDsgcGFkZGluZy1yaWdodDoyMHB4Jz48bGk+VG90YWwgY2FzZXM6IDA8L2xpPjxsaT5EZWF0aHM6IDE8L2xpPjxsaT5EZWF0aCByYXRlIDogMTAwLjAlIDwvbGk+PC91bD48L2Rpdj4KICAgICAgICAgICAgICAgICA8L2Rpdj5gLAogICAgICAgICAgICAgICAgeyJzdGlja3kiOiB0cnVlfQogICAgICAgICAgICApOwogICAgICAgIAogICAgCiAgICAgICAgICAgIHZhciBjaXJjbGVfYjNiZTU3YTdlNTAyNDRkYTgxNjRmOTA4NTU5ZmEwZmQgPSBMLmNpcmNsZSgKICAgICAgICAgICAgICAgIFsxNS40MTUsIC02MS4zNzFdLAogICAgICAgICAgICAgICAgeyJidWJibGluZ01vdXNlRXZlbnRzIjogdHJ1ZSwgImNvbG9yIjogImNyaW1zb24iLCAiZGFzaEFycmF5IjogbnVsbCwgImRhc2hPZmZzZXQiOiBudWxsLCAiZmlsbCI6IHRydWUsICJmaWxsQ29sb3IiOiAiY3JpbXNvbiIsICJmaWxsT3BhY2l0eSI6IDAuMiwgImZpbGxSdWxlIjogImV2ZW5vZGQiLCAibGluZUNhcCI6ICJyb3VuZCIsICJsaW5lSm9pbiI6ICJyb3VuZCIsICJvcGFjaXR5IjogMS4wLCAicmFkaXVzIjogMTEwMDAwLjAwMDAwMDAwMDAxLCAic3Ryb2tlIjogdHJ1ZSwgIndlaWdodCI6IDN9CiAgICAgICAgICAgICkuYWRkVG8obWFwXzU3NWZhZjEyMTZjZjRhNGE4ZWUyYTMyODk4MzBhOWY2KTsKICAgICAgICAKICAgIAogICAgICAgICAgICBjaXJjbGVfYjNiZTU3YTdlNTAyNDRkYTgxNjRmOTA4NTU5ZmEwZmQuYmluZFRvb2x0aXAoCiAgICAgICAgICAgICAgICBgPGRpdj4KICAgICAgICAgICAgICAgICAgICAgPGRpdiBzdHlsZT0nbWFyZ2luOjA7IGJhY2tncm91bmQtY29sb3I6IGZpcmVicmljazsgY29sb3I6IHdoaXRlOyc+PGg0IHN0eWxlPSd0ZXh0LWFsaWduOmNlbnRlcjsgZm9udC13ZWlnaHQ6IGJvbGQnPkRvbWluaWNhPC9oND48aHIgc3R5bGU9J21hcmdpbjoxMHB4OyBjb2xvcjogd2hpdGU7Jz48dWwgc3R5bGU9J2NvbG9yOiB3aGl0ZTs7bGlzdC1zdHlsZS10eXBlOiBjaXJjbGU7IGFsaWduLWl0ZW06IGxlZnQ7IHBhZGRpbmctbGVmdDogMjBweDsgcGFkZGluZy1yaWdodDoyMHB4Jz48bGk+VG90YWwgY2FzZXM6IDE4PC9saT48bGk+RGVhdGhzOiAwPC9saT48bGk+RGVhdGggcmF0ZSA6IDAuMCUgPC9saT48L3VsPjwvZGl2PgogICAgICAgICAgICAgICAgIDwvZGl2PmAsCiAgICAgICAgICAgICAgICB7InN0aWNreSI6IHRydWV9CiAgICAgICAgICAgICk7CiAgICAgICAgCiAgICAKICAgICAgICAgICAgdmFyIGNpcmNsZV8yM2QzZjdmMmVkZGI0NmJkOThlODU3NjI5OGI0NGEwMCA9IEwuY2lyY2xlKAogICAgICAgICAgICAgICAgWzEyLjExNjUsIC02MS42Nzg5OTk5OTk5OTk5OTVdLAogICAgICAgICAgICAgICAgeyJidWJibGluZ01vdXNlRXZlbnRzIjogdHJ1ZSwgImNvbG9yIjogImNyaW1zb24iLCAiZGFzaEFycmF5IjogbnVsbCwgImRhc2hPZmZzZXQiOiBudWxsLCAiZmlsbCI6IHRydWUsICJmaWxsQ29sb3IiOiAiY3JpbXNvbiIsICJmaWxsT3BhY2l0eSI6IDAuMiwgImZpbGxSdWxlIjogImV2ZW5vZGQiLCAibGluZUNhcCI6ICJyb3VuZCIsICJsaW5lSm9pbiI6ICJyb3VuZCIsICJvcGFjaXR5IjogMS4wLCAicmFkaXVzIjogMTYwMDAwLjAsICJzdHJva2UiOiB0cnVlLCAid2VpZ2h0IjogM30KICAgICAgICAgICAgKS5hZGRUbyhtYXBfNTc1ZmFmMTIxNmNmNGE0YThlZTJhMzI4OTgzMGE5ZjYpOwogICAgICAgIAogICAgCiAgICAgICAgICAgIGNpcmNsZV8yM2QzZjdmMmVkZGI0NmJkOThlODU3NjI5OGI0NGEwMC5iaW5kVG9vbHRpcCgKICAgICAgICAgICAgICAgIGA8ZGl2PgogICAgICAgICAgICAgICAgICAgICA8ZGl2IHN0eWxlPSdtYXJnaW46MDsgYmFja2dyb3VuZC1jb2xvcjogZmlyZWJyaWNrOyBjb2xvcjogd2hpdGU7Jz48aDQgc3R5bGU9J3RleHQtYWxpZ246Y2VudGVyOyBmb250LXdlaWdodDogYm9sZCc+R3JlbmFkYTwvaDQ+PGhyIHN0eWxlPSdtYXJnaW46MTBweDsgY29sb3I6IHdoaXRlOyc+PHVsIHN0eWxlPSdjb2xvcjogd2hpdGU7O2xpc3Qtc3R5bGUtdHlwZTogY2lyY2xlOyBhbGlnbi1pdGVtOiBsZWZ0OyBwYWRkaW5nLWxlZnQ6IDIwcHg7IHBhZGRpbmctcmlnaHQ6MjBweCc+PGxpPlRvdGFsIGNhc2VzOiAyMzwvbGk+PGxpPkRlYXRoczogMDwvbGk+PGxpPkRlYXRoIHJhdGUgOiAwLjAlIDwvbGk+PC91bD48L2Rpdj4KICAgICAgICAgICAgICAgICA8L2Rpdj5gLAogICAgICAgICAgICAgICAgeyJzdGlja3kiOiB0cnVlfQogICAgICAgICAgICApOwogICAgICAgIAogICAgCiAgICAgICAgICAgIHZhciBjaXJjbGVfYjNiZGNhN2I1NWZjNDJmZTg3ODk5YzBiODExZTFjMjAgPSBMLmNpcmNsZSgKICAgICAgICAgICAgICAgIFstMTguNjY1Njk1LCAzNS41Mjk1NjJdLAogICAgICAgICAgICAgICAgeyJidWJibGluZ01vdXNlRXZlbnRzIjogdHJ1ZSwgImNvbG9yIjogImNyaW1zb24iLCAiZGFzaEFycmF5IjogbnVsbCwgImRhc2hPZmZzZXQiOiBudWxsLCAiZmlsbCI6IHRydWUsICJmaWxsQ29sb3IiOiAiY3JpbXNvbiIsICJmaWxsT3BhY2l0eSI6IDAuMiwgImZpbGxSdWxlIjogImV2ZW5vZGQiLCAibGluZUNhcCI6ICJyb3VuZCIsICJsaW5lSm9pbiI6ICJyb3VuZCIsICJvcGFjaXR5IjogMS4wLCAicmFkaXVzIjogMzYwMDAwLjAsICJzdHJva2UiOiB0cnVlLCAid2VpZ2h0IjogM30KICAgICAgICAgICAgKS5hZGRUbyhtYXBfNTc1ZmFmMTIxNmNmNGE0YThlZTJhMzI4OTgzMGE5ZjYpOwogICAgICAgIAogICAgCiAgICAgICAgICAgIGNpcmNsZV9iM2JkY2E3YjU1ZmM0MmZlODc4OTljMGI4MTFlMWMyMC5iaW5kVG9vbHRpcCgKICAgICAgICAgICAgICAgIGA8ZGl2PgogICAgICAgICAgICAgICAgICAgICA8ZGl2IHN0eWxlPSdtYXJnaW46MDsgYmFja2dyb3VuZC1jb2xvcjogZmlyZWJyaWNrOyBjb2xvcjogd2hpdGU7Jz48aDQgc3R5bGU9J3RleHQtYWxpZ246Y2VudGVyOyBmb250LXdlaWdodDogYm9sZCc+TW96YW1iaXF1ZTwvaDQ+PGhyIHN0eWxlPSdtYXJnaW46MTBweDsgY29sb3I6IHdoaXRlOyc+PHVsIHN0eWxlPSdjb2xvcjogd2hpdGU7O2xpc3Qtc3R5bGUtdHlwZTogY2lyY2xlOyBhbGlnbi1pdGVtOiBsZWZ0OyBwYWRkaW5nLWxlZnQ6IDIwcHg7IHBhZGRpbmctcmlnaHQ6MjBweCc+PGxpPlRvdGFsIGNhc2VzOiAxNTgyPC9saT48bGk+RGVhdGhzOiAxMTwvbGk+PGxpPkRlYXRoIHJhdGUgOiAwLjY5JSA8L2xpPjwvdWw+PC9kaXY+CiAgICAgICAgICAgICAgICAgPC9kaXY+YCwKICAgICAgICAgICAgICAgIHsic3RpY2t5IjogdHJ1ZX0KICAgICAgICAgICAgKTsKICAgICAgICAKICAgIAogICAgICAgICAgICB2YXIgY2lyY2xlXzM4NWE5ZGM2MWM5MTRlNzlhNWU1YzExZmVlMjg2OWE4ID0gTC5jaXJjbGUoCiAgICAgICAgICAgICAgICBbMzQuODAyMDc1LCAzOC45OTY4MTUwMDAwMDAwMV0sCiAgICAgICAgICAgICAgICB7ImJ1YmJsaW5nTW91c2VFdmVudHMiOiB0cnVlLCAiY29sb3IiOiAiY3JpbXNvbiIsICJkYXNoQXJyYXkiOiBudWxsLCAiZGFzaE9mZnNldCI6IG51bGwsICJmaWxsIjogdHJ1ZSwgImZpbGxDb2xvciI6ICJjcmltc29uIiwgImZpbGxPcGFjaXR5IjogMC4yLCAiZmlsbFJ1bGUiOiAiZXZlbm9kZCIsICJsaW5lQ2FwIjogInJvdW5kIiwgImxpbmVKb2luIjogInJvdW5kIiwgIm9wYWNpdHkiOiAxLjAsICJyYWRpdXMiOiAzMTAwMDAuMCwgInN0cm9rZSI6IHRydWUsICJ3ZWlnaHQiOiAzfQogICAgICAgICAgICApLmFkZFRvKG1hcF81NzVmYWYxMjE2Y2Y0YTRhOGVlMmEzMjg5ODMwYTlmNik7CiAgICAgICAgCiAgICAKICAgICAgICAgICAgY2lyY2xlXzM4NWE5ZGM2MWM5MTRlNzlhNWU1YzExZmVlMjg2OWE4LmJpbmRUb29sdGlwKAogICAgICAgICAgICAgICAgYDxkaXY+CiAgICAgICAgICAgICAgICAgICAgIDxkaXYgc3R5bGU9J21hcmdpbjowOyBiYWNrZ3JvdW5kLWNvbG9yOiBmaXJlYnJpY2s7IGNvbG9yOiB3aGl0ZTsnPjxoNCBzdHlsZT0ndGV4dC1hbGlnbjpjZW50ZXI7IGZvbnQtd2VpZ2h0OiBib2xkJz5TeXJpYTwvaDQ+PGhyIHN0eWxlPSdtYXJnaW46MTBweDsgY29sb3I6IHdoaXRlOyc+PHVsIHN0eWxlPSdjb2xvcjogd2hpdGU7O2xpc3Qtc3R5bGUtdHlwZTogY2lyY2xlOyBhbGlnbi1pdGVtOiBsZWZ0OyBwYWRkaW5nLWxlZnQ6IDIwcHg7IHBhZGRpbmctcmlnaHQ6MjBweCc+PGxpPlRvdGFsIGNhc2VzOiA1ODQ8L2xpPjxsaT5EZWF0aHM6IDM1PC9saT48bGk+RGVhdGggcmF0ZSA6IDUuOTglIDwvbGk+PC91bD48L2Rpdj4KICAgICAgICAgICAgICAgICA8L2Rpdj5gLAogICAgICAgICAgICAgICAgeyJzdGlja3kiOiB0cnVlfQogICAgICAgICAgICApOwogICAgICAgIAogICAgCiAgICAgICAgICAgIHZhciBjaXJjbGVfN2NhZmY3YjM0NTQ1NDBlM2I0ZjA4YzhjMWQ0ODZkNDAgPSBMLmNpcmNsZSgKICAgICAgICAgICAgICAgIFstOC44NzQyMTcsIDEyNS43Mjc1MzldLAogICAgICAgICAgICAgICAgeyJidWJibGluZ01vdXNlRXZlbnRzIjogdHJ1ZSwgImNvbG9yIjogImNyaW1zb24iLCAiZGFzaEFycmF5IjogbnVsbCwgImRhc2hPZmZzZXQiOiBudWxsLCAiZmlsbCI6IHRydWUsICJmaWxsQ29sb3IiOiAiY3JpbXNvbiIsICJmaWxsT3BhY2l0eSI6IDAuMiwgImZpbGxSdWxlIjogImV2ZW5vZGQiLCAibGluZUNhcCI6ICJyb3VuZCIsICJsaW5lSm9pbiI6ICJyb3VuZCIsICJvcGFjaXR5IjogMS4wLCAicmFkaXVzIjogMTYwMDAwLjAsICJzdHJva2UiOiB0cnVlLCAid2VpZ2h0IjogM30KICAgICAgICAgICAgKS5hZGRUbyhtYXBfNTc1ZmFmMTIxNmNmNGE0YThlZTJhMzI4OTgzMGE5ZjYpOwogICAgICAgIAogICAgCiAgICAgICAgICAgIGNpcmNsZV83Y2FmZjdiMzQ1NDU0MGUzYjRmMDhjOGMxZDQ4NmQ0MC5iaW5kVG9vbHRpcCgKICAgICAgICAgICAgICAgIGA8ZGl2PgogICAgICAgICAgICAgICAgICAgICA8ZGl2IHN0eWxlPSdtYXJnaW46MDsgYmFja2dyb3VuZC1jb2xvcjogZmlyZWJyaWNrOyBjb2xvcjogd2hpdGU7Jz48aDQgc3R5bGU9J3RleHQtYWxpZ246Y2VudGVyOyBmb250LXdlaWdodDogYm9sZCc+VGltb3ItTGVzdGU8L2g0PjxociBzdHlsZT0nbWFyZ2luOjEwcHg7IGNvbG9yOiB3aGl0ZTsnPjx1bCBzdHlsZT0nY29sb3I6IHdoaXRlOztsaXN0LXN0eWxlLXR5cGU6IGNpcmNsZTsgYWxpZ24taXRlbTogbGVmdDsgcGFkZGluZy1sZWZ0OiAyMHB4OyBwYWRkaW5nLXJpZ2h0OjIwcHgnPjxsaT5Ub3RhbCBjYXNlczogMjQ8L2xpPjxsaT5EZWF0aHM6IDA8L2xpPjxsaT5EZWF0aCByYXRlIDogMC4wJSA8L2xpPjwvdWw+PC9kaXY+CiAgICAgICAgICAgICAgICAgPC9kaXY+YCwKICAgICAgICAgICAgICAgIHsic3RpY2t5IjogdHJ1ZX0KICAgICAgICAgICAgKTsKICAgICAgICAKICAgIAogICAgICAgICAgICB2YXIgY2lyY2xlXzgwMDdkMmYwZDZkNDQ4ZDE4NzU3ZjJkNThiOTU2ZTBiID0gTC5jaXJjbGUoCiAgICAgICAgICAgICAgICBbMTcuMTg5OSwgLTg4LjQ5NzZdLAogICAgICAgICAgICAgICAgeyJidWJibGluZ01vdXNlRXZlbnRzIjogdHJ1ZSwgImNvbG9yIjogImNyaW1zb24iLCAiZGFzaEFycmF5IjogbnVsbCwgImRhc2hPZmZzZXQiOiBudWxsLCAiZmlsbCI6IHRydWUsICJmaWxsQ29sb3IiOiAiY3JpbXNvbiIsICJmaWxsT3BhY2l0eSI6IDAuMiwgImZpbGxSdWxlIjogImV2ZW5vZGQiLCAibGluZUNhcCI6ICJyb3VuZCIsICJsaW5lSm9pbiI6ICJyb3VuZCIsICJvcGFjaXR5IjogMS4wLCAicmFkaXVzIjogMTYwMDAwLjAsICJzdHJva2UiOiB0cnVlLCAid2VpZ2h0IjogM30KICAgICAgICAgICAgKS5hZGRUbyhtYXBfNTc1ZmFmMTIxNmNmNGE0YThlZTJhMzI4OTgzMGE5ZjYpOwogICAgICAgIAogICAgCiAgICAgICAgICAgIGNpcmNsZV84MDA3ZDJmMGQ2ZDQ0OGQxODc1N2YyZDU4Yjk1NmUwYi5iaW5kVG9vbHRpcCgKICAgICAgICAgICAgICAgIGA8ZGl2PgogICAgICAgICAgICAgICAgICAgICA8ZGl2IHN0eWxlPSdtYXJnaW46MDsgYmFja2dyb3VuZC1jb2xvcjogZmlyZWJyaWNrOyBjb2xvcjogd2hpdGU7Jz48aDQgc3R5bGU9J3RleHQtYWxpZ246Y2VudGVyOyBmb250LXdlaWdodDogYm9sZCc+QmVsaXplPC9oND48aHIgc3R5bGU9J21hcmdpbjoxMHB4OyBjb2xvcjogd2hpdGU7Jz48dWwgc3R5bGU9J2NvbG9yOiB3aGl0ZTs7bGlzdC1zdHlsZS10eXBlOiBjaXJjbGU7IGFsaWduLWl0ZW06IGxlZnQ7IHBhZGRpbmctbGVmdDogMjBweDsgcGFkZGluZy1yaWdodDoyMHB4Jz48bGk+VG90YWwgY2FzZXM6IDQ3PC9saT48bGk+RGVhdGhzOiAyPC9saT48bGk+RGVhdGggcmF0ZSA6IDQuMTclIDwvbGk+PC91bD48L2Rpdj4KICAgICAgICAgICAgICAgICA8L2Rpdj5gLAogICAgICAgICAgICAgICAgeyJzdGlja3kiOiB0cnVlfQogICAgICAgICAgICApOwogICAgICAgIAogICAgCiAgICAgICAgICAgIHZhciBjaXJjbGVfZWM2ZTA0NzA4NTc2NDkwZmJhODUzZDQ3ZThiODE2ODYgPSBMLmNpcmNsZSgKICAgICAgICAgICAgICAgIFsxOS44NTYyNzAwMDAwMDAwMDIsIDEwMi40OTU0OTZdLAogICAgICAgICAgICAgICAgeyJidWJibGluZ01vdXNlRXZlbnRzIjogdHJ1ZSwgImNvbG9yIjogImNyaW1zb24iLCAiZGFzaEFycmF5IjogbnVsbCwgImRhc2hPZmZzZXQiOiBudWxsLCAiZmlsbCI6IHRydWUsICJmaWxsQ29sb3IiOiAiY3JpbXNvbiIsICJmaWxsT3BhY2l0eSI6IDAuMiwgImZpbGxSdWxlIjogImV2ZW5vZGQiLCAibGluZUNhcCI6ICJyb3VuZCIsICJsaW5lSm9pbiI6ICJyb3VuZCIsICJvcGFjaXR5IjogMS4wLCAicmFkaXVzIjogMTEwMDAwLjAwMDAwMDAwMDAxLCAic3Ryb2tlIjogdHJ1ZSwgIndlaWdodCI6IDN9CiAgICAgICAgICAgICkuYWRkVG8obWFwXzU3NWZhZjEyMTZjZjRhNGE4ZWUyYTMyODk4MzBhOWY2KTsKICAgICAgICAKICAgIAogICAgICAgICAgICBjaXJjbGVfZWM2ZTA0NzA4NTc2NDkwZmJhODUzZDQ3ZThiODE2ODYuYmluZFRvb2x0aXAoCiAgICAgICAgICAgICAgICBgPGRpdj4KICAgICAgICAgICAgICAgICAgICAgPGRpdiBzdHlsZT0nbWFyZ2luOjA7IGJhY2tncm91bmQtY29sb3I6IGZpcmVicmljazsgY29sb3I6IHdoaXRlOyc+PGg0IHN0eWxlPSd0ZXh0LWFsaWduOmNlbnRlcjsgZm9udC13ZWlnaHQ6IGJvbGQnPkxhb3M8L2g0PjxociBzdHlsZT0nbWFyZ2luOjEwcHg7IGNvbG9yOiB3aGl0ZTsnPjx1bCBzdHlsZT0nY29sb3I6IHdoaXRlOztsaXN0LXN0eWxlLXR5cGU6IGNpcmNsZTsgYWxpZ24taXRlbTogbGVmdDsgcGFkZGluZy1sZWZ0OiAyMHB4OyBwYWRkaW5nLXJpZ2h0OjIwcHgnPjxsaT5Ub3RhbCBjYXNlczogMTk8L2xpPjxsaT5EZWF0aHM6IDA8L2xpPjxsaT5EZWF0aCByYXRlIDogMC4wJSA8L2xpPjwvdWw+PC9kaXY+CiAgICAgICAgICAgICAgICAgPC9kaXY+YCwKICAgICAgICAgICAgICAgIHsic3RpY2t5IjogdHJ1ZX0KICAgICAgICAgICAgKTsKICAgICAgICAKICAgIAogICAgICAgICAgICB2YXIgY2lyY2xlXzM2YzkwNjYwOTFmZDQ5Y2U4Y2QwNWM2YTE4Y2RiZTJkID0gTC5jaXJjbGUoCiAgICAgICAgICAgICAgICBbMjYuMzM1MSwgMTcuMjI4MzMxXSwKICAgICAgICAgICAgICAgIHsiYnViYmxpbmdNb3VzZUV2ZW50cyI6IHRydWUsICJjb2xvciI6ICJjcmltc29uIiwgImRhc2hBcnJheSI6IG51bGwsICJkYXNoT2Zmc2V0IjogbnVsbCwgImZpbGwiOiB0cnVlLCAiZmlsbENvbG9yIjogImNyaW1zb24iLCAiZmlsbE9wYWNpdHkiOiAwLjIsICJmaWxsUnVsZSI6ICJldmVub2RkIiwgImxpbmVDYXAiOiAicm91bmQiLCAibGluZUpvaW4iOiAicm91bmQiLCAib3BhY2l0eSI6IDEuMCwgInJhZGl1cyI6IDM2MDAwMC4wLCAic3Ryb2tlIjogdHJ1ZSwgIndlaWdodCI6IDN9CiAgICAgICAgICAgICkuYWRkVG8obWFwXzU3NWZhZjEyMTZjZjRhNGE4ZWUyYTMyODk4MzBhOWY2KTsKICAgICAgICAKICAgIAogICAgICAgICAgICBjaXJjbGVfMzZjOTA2NjA5MWZkNDljZThjZDA1YzZhMThjZGJlMmQuYmluZFRvb2x0aXAoCiAgICAgICAgICAgICAgICBgPGRpdj4KICAgICAgICAgICAgICAgICAgICAgPGRpdiBzdHlsZT0nbWFyZ2luOjA7IGJhY2tncm91bmQtY29sb3I6IGZpcmVicmljazsgY29sb3I6IHdoaXRlOyc+PGg0IHN0eWxlPSd0ZXh0LWFsaWduOmNlbnRlcjsgZm9udC13ZWlnaHQ6IGJvbGQnPkxpYnlhPC9oND48aHIgc3R5bGU9J21hcmdpbjoxMHB4OyBjb2xvcjogd2hpdGU7Jz48dWwgc3R5bGU9J2NvbG9yOiB3aGl0ZTs7bGlzdC1zdHlsZS10eXBlOiBjaXJjbGU7IGFsaWduLWl0ZW06IGxlZnQ7IHBhZGRpbmctbGVmdDogMjBweDsgcGFkZGluZy1yaWdodDoyMHB4Jz48bGk+VG90YWwgY2FzZXM6IDIzMTQ8L2xpPjxsaT5EZWF0aHM6IDU2PC9saT48bGk+RGVhdGggcmF0ZSA6IDIuNDIlIDwvbGk+PC91bD48L2Rpdj4KICAgICAgICAgICAgICAgICA8L2Rpdj5gLAogICAgICAgICAgICAgICAgeyJzdGlja3kiOiB0cnVlfQogICAgICAgICAgICApOwogICAgICAgIAogICAgCiAgICAgICAgICAgIHZhciBjaXJjbGVfYjBmOTQxOWJiYWY1NGFjY2JkMzA2MzFiMGEzZjRhMzQgPSBMLmNpcmNsZSgKICAgICAgICAgICAgICAgIFszMS45NTIyLCAzNS4yMzMyXSwKICAgICAgICAgICAgICAgIHsiYnViYmxpbmdNb3VzZUV2ZW50cyI6IHRydWUsICJjb2xvciI6ICJjcmltc29uIiwgImRhc2hBcnJheSI6IG51bGwsICJkYXNoT2Zmc2V0IjogbnVsbCwgImZpbGwiOiB0cnVlLCAiZmlsbENvbG9yIjogImNyaW1zb24iLCAiZmlsbE9wYWNpdHkiOiAwLjIsICJmaWxsUnVsZSI6ICJldmVub2RkIiwgImxpbmVDYXAiOiAicm91bmQiLCAibGluZUpvaW4iOiAicm91bmQiLCAib3BhY2l0eSI6IDEuMCwgInJhZGl1cyI6IDQ1OTk5OS45OTk5OTk5OTk5NCwgInN0cm9rZSI6IHRydWUsICJ3ZWlnaHQiOiAzfQogICAgICAgICAgICApLmFkZFRvKG1hcF81NzVmYWYxMjE2Y2Y0YTRhOGVlMmEzMjg5ODMwYTlmNik7CiAgICAgICAgCiAgICAKICAgICAgICAgICAgY2lyY2xlX2IwZjk0MTliYmFmNTRhY2NiZDMwNjMxYjBhM2Y0YTM0LmJpbmRUb29sdGlwKAogICAgICAgICAgICAgICAgYDxkaXY+CiAgICAgICAgICAgICAgICAgICAgIDxkaXYgc3R5bGU9J21hcmdpbjowOyBiYWNrZ3JvdW5kLWNvbG9yOiBmaXJlYnJpY2s7IGNvbG9yOiB3aGl0ZTsnPjxoNCBzdHlsZT0ndGV4dC1hbGlnbjpjZW50ZXI7IGZvbnQtd2VpZ2h0OiBib2xkJz5XZXN0IEJhbmsgYW5kIEdhemE8L2g0PjxociBzdHlsZT0nbWFyZ2luOjEwcHg7IGNvbG9yOiB3aGl0ZTsnPjx1bCBzdHlsZT0nY29sb3I6IHdoaXRlOztsaXN0LXN0eWxlLXR5cGU6IGNpcmNsZTsgYWxpZ24taXRlbTogbGVmdDsgcGFkZGluZy1sZWZ0OiAyMHB4OyBwYWRkaW5nLXJpZ2h0OjIwcHgnPjxsaT5Ub3RhbCBjYXNlczogOTc0NDwvbGk+PGxpPkRlYXRoczogNjc8L2xpPjxsaT5EZWF0aCByYXRlIDogMC42OSUgPC9saT48L3VsPjwvZGl2PgogICAgICAgICAgICAgICAgIDwvZGl2PmAsCiAgICAgICAgICAgICAgICB7InN0aWNreSI6IHRydWV9CiAgICAgICAgICAgICk7CiAgICAgICAgCiAgICAKICAgICAgICAgICAgdmFyIGNpcmNsZV9hMWY1MTZlMGU4N2U0MzhhOTU0ZjhhNzMyMTBhN2Q1YSA9IEwuY2lyY2xlKAogICAgICAgICAgICAgICAgWzExLjgwMzcsIC0xNS4xODA0XSwKICAgICAgICAgICAgICAgIHsiYnViYmxpbmdNb3VzZUV2ZW50cyI6IHRydWUsICJjb2xvciI6ICJjcmltc29uIiwgImRhc2hBcnJheSI6IG51bGwsICJkYXNoT2Zmc2V0IjogbnVsbCwgImZpbGwiOiB0cnVlLCAiZmlsbENvbG9yIjogImNyaW1zb24iLCAiZmlsbE9wYWNpdHkiOiAwLjIsICJmaWxsUnVsZSI6ICJldmVub2RkIiwgImxpbmVDYXAiOiAicm91bmQiLCAibGluZUpvaW4iOiAicm91bmQiLCAib3BhY2l0eSI6IDEuMCwgInJhZGl1cyI6IDM2MDAwMC4wLCAic3Ryb2tlIjogdHJ1ZSwgIndlaWdodCI6IDN9CiAgICAgICAgICAgICkuYWRkVG8obWFwXzU3NWZhZjEyMTZjZjRhNGE4ZWUyYTMyODk4MzBhOWY2KTsKICAgICAgICAKICAgIAogICAgICAgICAgICBjaXJjbGVfYTFmNTE2ZTBlODdlNDM4YTk1NGY4YTczMjEwYTdkNWEuYmluZFRvb2x0aXAoCiAgICAgICAgICAgICAgICBgPGRpdj4KICAgICAgICAgICAgICAgICAgICAgPGRpdiBzdHlsZT0nbWFyZ2luOjA7IGJhY2tncm91bmQtY29sb3I6IGZpcmVicmljazsgY29sb3I6IHdoaXRlOyc+PGg0IHN0eWxlPSd0ZXh0LWFsaWduOmNlbnRlcjsgZm9udC13ZWlnaHQ6IGJvbGQnPkd1aW5lYS1CaXNzYXU8L2g0PjxociBzdHlsZT0nbWFyZ2luOjEwcHg7IGNvbG9yOiB3aGl0ZTsnPjx1bCBzdHlsZT0nY29sb3I6IHdoaXRlOztsaXN0LXN0eWxlLXR5cGU6IGNpcmNsZTsgYWxpZ24taXRlbTogbGVmdDsgcGFkZGluZy1sZWZ0OiAyMHB4OyBwYWRkaW5nLXJpZ2h0OjIwcHgnPjxsaT5Ub3RhbCBjYXNlczogMTk1NDwvbGk+PGxpPkRlYXRoczogMjY8L2xpPjxsaT5EZWF0aCByYXRlIDogMS4zMyUgPC9saT48L3VsPjwvZGl2PgogICAgICAgICAgICAgICAgIDwvZGl2PmAsCiAgICAgICAgICAgICAgICB7InN0aWNreSI6IHRydWV9CiAgICAgICAgICAgICk7CiAgICAgICAgCiAgICAKICAgICAgICAgICAgdmFyIGNpcmNsZV8xNGJkMmUwNWY1MDk0YzJjOWE2YzliNGY0MjdiZWZlYSA9IEwuY2lyY2xlKAogICAgICAgICAgICAgICAgWzE3LjU3MDY5MiwgLTMuOTk2MTY2MDAwMDAwMDAxXSwKICAgICAgICAgICAgICAgIHsiYnViYmxpbmdNb3VzZUV2ZW50cyI6IHRydWUsICJjb2xvciI6ICJjcmltc29uIiwgImRhc2hBcnJheSI6IG51bGwsICJkYXNoT2Zmc2V0IjogbnVsbCwgImZpbGwiOiB0cnVlLCAiZmlsbENvbG9yIjogImNyaW1zb24iLCAiZmlsbE9wYWNpdHkiOiAwLjIsICJmaWxsUnVsZSI6ICJldmVub2RkIiwgImxpbmVDYXAiOiAicm91bmQiLCAibGluZUpvaW4iOiAicm91bmQiLCAib3BhY2l0eSI6IDEuMCwgInJhZGl1cyI6IDM2MDAwMC4wLCAic3Ryb2tlIjogdHJ1ZSwgIndlaWdodCI6IDN9CiAgICAgICAgICAgICkuYWRkVG8obWFwXzU3NWZhZjEyMTZjZjRhNGE4ZWUyYTMyODk4MzBhOWY2KTsKICAgICAgICAKICAgIAogICAgICAgICAgICBjaXJjbGVfMTRiZDJlMDVmNTA5NGMyYzlhNmM5YjRmNDI3YmVmZWEuYmluZFRvb2x0aXAoCiAgICAgICAgICAgICAgICBgPGRpdj4KICAgICAgICAgICAgICAgICAgICAgPGRpdiBzdHlsZT0nbWFyZ2luOjA7IGJhY2tncm91bmQtY29sb3I6IGZpcmVicmljazsgY29sb3I6IHdoaXRlOyc+PGg0IHN0eWxlPSd0ZXh0LWFsaWduOmNlbnRlcjsgZm9udC13ZWlnaHQ6IGJvbGQnPk1hbGk8L2g0PjxociBzdHlsZT0nbWFyZ2luOjEwcHg7IGNvbG9yOiB3aGl0ZTsnPjx1bCBzdHlsZT0nY29sb3I6IHdoaXRlOztsaXN0LXN0eWxlLXR5cGU6IGNpcmNsZTsgYWxpZ24taXRlbTogbGVmdDsgcGFkZGluZy1sZWZ0OiAyMHB4OyBwYWRkaW5nLXJpZ2h0OjIwcHgnPjxsaT5Ub3RhbCBjYXNlczogMjQ5NDwvbGk+PGxpPkRlYXRoczogMTIzPC9saT48bGk+RGVhdGggcmF0ZSA6IDQuOTMlIDwvbGk+PC91bD48L2Rpdj4KICAgICAgICAgICAgICAgICA8L2Rpdj5gLAogICAgICAgICAgICAgICAgeyJzdGlja3kiOiB0cnVlfQogICAgICAgICAgICApOwogICAgICAgIAogICAgCiAgICAgICAgICAgIHZhciBjaXJjbGVfMzcwYWYzNTU5NDkyNDYxOWI4ZGU1MTc0ODE0MGYzNzkgPSBMLmNpcmNsZSgKICAgICAgICAgICAgICAgIFsxNy4zNTc4MjIsIC02Mi43ODI5OThdLAogICAgICAgICAgICAgICAgeyJidWJibGluZ01vdXNlRXZlbnRzIjogdHJ1ZSwgImNvbG9yIjogImNyaW1zb24iLCAiZGFzaEFycmF5IjogbnVsbCwgImRhc2hPZmZzZXQiOiBudWxsLCAiZmlsbCI6IHRydWUsICJmaWxsQ29sb3IiOiAiY3JpbXNvbiIsICJmaWxsT3BhY2l0eSI6IDAuMiwgImZpbGxSdWxlIjogImV2ZW5vZGQiLCAibGluZUNhcCI6ICJyb3VuZCIsICJsaW5lSm9pbiI6ICJyb3VuZCIsICJvcGFjaXR5IjogMS4wLCAicmFkaXVzIjogMTEwMDAwLjAwMDAwMDAwMDAxLCAic3Ryb2tlIjogdHJ1ZSwgIndlaWdodCI6IDN9CiAgICAgICAgICAgICkuYWRkVG8obWFwXzU3NWZhZjEyMTZjZjRhNGE4ZWUyYTMyODk4MzBhOWY2KTsKICAgICAgICAKICAgIAogICAgICAgICAgICBjaXJjbGVfMzcwYWYzNTU5NDkyNDYxOWI4ZGU1MTc0ODE0MGYzNzkuYmluZFRvb2x0aXAoCiAgICAgICAgICAgICAgICBgPGRpdj4KICAgICAgICAgICAgICAgICAgICAgPGRpdiBzdHlsZT0nbWFyZ2luOjA7IGJhY2tncm91bmQtY29sb3I6IGZpcmVicmljazsgY29sb3I6IHdoaXRlOyc+PGg0IHN0eWxlPSd0ZXh0LWFsaWduOmNlbnRlcjsgZm9udC13ZWlnaHQ6IGJvbGQnPlNhaW50IEtpdHRzIGFuZCBOZXZpczwvaDQ+PGhyIHN0eWxlPSdtYXJnaW46MTBweDsgY29sb3I6IHdoaXRlOyc+PHVsIHN0eWxlPSdjb2xvcjogd2hpdGU7O2xpc3Qtc3R5bGUtdHlwZTogY2lyY2xlOyBhbGlnbi1pdGVtOiBsZWZ0OyBwYWRkaW5nLWxlZnQ6IDIwcHg7IHBhZGRpbmctcmlnaHQ6MjBweCc+PGxpPlRvdGFsIGNhc2VzOiAxNzwvbGk+PGxpPkRlYXRoczogMDwvbGk+PGxpPkRlYXRoIHJhdGUgOiAwLjAlIDwvbGk+PC91bD48L2Rpdj4KICAgICAgICAgICAgICAgICA8L2Rpdj5gLAogICAgICAgICAgICAgICAgeyJzdGlja3kiOiB0cnVlfQogICAgICAgICAgICApOwogICAgICAgIAogICAgCiAgICAgICAgICAgIHZhciBjaXJjbGVfMjYxNWQ3YzE2ZDJkNDU0ZGI1ZDI5MDk4NTJkMjk3Y2EgPSBMLmNpcmNsZSgKICAgICAgICAgICAgICAgIFs2NC44MjU1LCAtMTI0Ljg0NTddLAogICAgICAgICAgICAgICAgeyJidWJibGluZ01vdXNlRXZlbnRzIjogdHJ1ZSwgImNvbG9yIjogImNyaW1zb24iLCAiZGFzaEFycmF5IjogbnVsbCwgImRhc2hPZmZzZXQiOiBudWxsLCAiZmlsbCI6IHRydWUsICJmaWxsQ29sb3IiOiAiY3JpbXNvbiIsICJmaWxsT3BhY2l0eSI6IDAuMiwgImZpbGxSdWxlIjogImV2ZW5vZGQiLCAibGluZUNhcCI6ICJyb3VuZCIsICJsaW5lSm9pbiI6ICJyb3VuZCIsICJvcGFjaXR5IjogMS4wLCAicmFkaXVzIjogNjAwMDAuMCwgInN0cm9rZSI6IHRydWUsICJ3ZWlnaHQiOiAzfQogICAgICAgICAgICApLmFkZFRvKG1hcF81NzVmYWYxMjE2Y2Y0YTRhOGVlMmEzMjg5ODMwYTlmNik7CiAgICAgICAgCiAgICAKICAgICAgICAgICAgY2lyY2xlXzI2MTVkN2MxNmQyZDQ1NGRiNWQyOTA5ODUyZDI5N2NhLmJpbmRUb29sdGlwKAogICAgICAgICAgICAgICAgYDxkaXY+CiAgICAgICAgICAgICAgICAgICAgIDxkaXYgc3R5bGU9J21hcmdpbjowOyBiYWNrZ3JvdW5kLWNvbG9yOiBmaXJlYnJpY2s7IGNvbG9yOiB3aGl0ZTsnPjxoNCBzdHlsZT0ndGV4dC1hbGlnbjpjZW50ZXI7IGZvbnQtd2VpZ2h0OiBib2xkJz5DYW5hZGE8L2g0PjxociBzdHlsZT0nbWFyZ2luOjEwcHg7IGNvbG9yOiB3aGl0ZTsnPjx1bCBzdHlsZT0nY29sb3I6IHdoaXRlOztsaXN0LXN0eWxlLXR5cGU6IGNpcmNsZTsgYWxpZ24taXRlbTogbGVmdDsgcGFkZGluZy1sZWZ0OiAyMHB4OyBwYWRkaW5nLXJpZ2h0OjIwcHgnPjxsaT5Ub3RhbCBjYXNlczogNTwvbGk+PGxpPkRlYXRoczogMDwvbGk+PGxpPkRlYXRoIHJhdGUgOiAwLjAlIDwvbGk+PC91bD48L2Rpdj4KICAgICAgICAgICAgICAgICA8L2Rpdj5gLAogICAgICAgICAgICAgICAgeyJzdGlja3kiOiB0cnVlfQogICAgICAgICAgICApOwogICAgICAgIAogICAgCiAgICAgICAgICAgIHZhciBjaXJjbGVfNDM5YjYyZGFhNDE1NGVmZDhkY2JlZDcxZDM4ZjYyMmMgPSBMLmNpcmNsZSgKICAgICAgICAgICAgICAgIFs2NC4yODIzLCAtMTM1LjBdLAogICAgICAgICAgICAgICAgeyJidWJibGluZ01vdXNlRXZlbnRzIjogdHJ1ZSwgImNvbG9yIjogImNyaW1zb24iLCAiZGFzaEFycmF5IjogbnVsbCwgImRhc2hPZmZzZXQiOiBudWxsLCAiZmlsbCI6IHRydWUsICJmaWxsQ29sb3IiOiAiY3JpbXNvbiIsICJmaWxsT3BhY2l0eSI6IDAuMiwgImZpbGxSdWxlIjogImV2ZW5vZGQiLCAibGluZUNhcCI6ICJyb3VuZCIsICJsaW5lSm9pbiI6ICJyb3VuZCIsICJvcGFjaXR5IjogMS4wLCAicmFkaXVzIjogMTEwMDAwLjAwMDAwMDAwMDAxLCAic3Ryb2tlIjogdHJ1ZSwgIndlaWdodCI6IDN9CiAgICAgICAgICAgICkuYWRkVG8obWFwXzU3NWZhZjEyMTZjZjRhNGE4ZWUyYTMyODk4MzBhOWY2KTsKICAgICAgICAKICAgIAogICAgICAgICAgICBjaXJjbGVfNDM5YjYyZGFhNDE1NGVmZDhkY2JlZDcxZDM4ZjYyMmMuYmluZFRvb2x0aXAoCiAgICAgICAgICAgICAgICBgPGRpdj4KICAgICAgICAgICAgICAgICAgICAgPGRpdiBzdHlsZT0nbWFyZ2luOjA7IGJhY2tncm91bmQtY29sb3I6IGZpcmVicmljazsgY29sb3I6IHdoaXRlOyc+PGg0IHN0eWxlPSd0ZXh0LWFsaWduOmNlbnRlcjsgZm9udC13ZWlnaHQ6IGJvbGQnPkNhbmFkYTwvaDQ+PGhyIHN0eWxlPSdtYXJnaW46MTBweDsgY29sb3I6IHdoaXRlOyc+PHVsIHN0eWxlPSdjb2xvcjogd2hpdGU7O2xpc3Qtc3R5bGUtdHlwZTogY2lyY2xlOyBhbGlnbi1pdGVtOiBsZWZ0OyBwYWRkaW5nLWxlZnQ6IDIwcHg7IHBhZGRpbmctcmlnaHQ6MjBweCc+PGxpPlRvdGFsIGNhc2VzOiAxMzwvbGk+PGxpPkRlYXRoczogMDwvbGk+PGxpPkRlYXRoIHJhdGUgOiAwLjAlIDwvbGk+PC91bD48L2Rpdj4KICAgICAgICAgICAgICAgICA8L2Rpdj5gLAogICAgICAgICAgICAgICAgeyJzdGlja3kiOiB0cnVlfQogICAgICAgICAgICApOwogICAgICAgIAogICAgCiAgICAgICAgICAgIHZhciBjaXJjbGVfOTM3NWNkODRmNGQ3NGM2NGJhNzhhZGYxOTRlYmVhOWMgPSBMLmNpcmNsZSgKICAgICAgICAgICAgICAgIFs0Mi42MDI2MzYsIDIwLjkwMjk3N10sCiAgICAgICAgICAgICAgICB7ImJ1YmJsaW5nTW91c2VFdmVudHMiOiB0cnVlLCAiY29sb3IiOiAiY3JpbXNvbiIsICJkYXNoQXJyYXkiOiBudWxsLCAiZGFzaE9mZnNldCI6IG51bGwsICJmaWxsIjogdHJ1ZSwgImZpbGxDb2xvciI6ICJjcmltc29uIiwgImZpbGxPcGFjaXR5IjogMC4yLCAiZmlsbFJ1bGUiOiAiZXZlbm9kZCIsICJsaW5lQ2FwIjogInJvdW5kIiwgImxpbmVKb2luIjogInJvdW5kIiwgIm9wYWNpdHkiOiAxLjAsICJyYWRpdXMiOiA0MDk5OTkuOTk5OTk5OTk5OTQsICJzdHJva2UiOiB0cnVlLCAid2VpZ2h0IjogM30KICAgICAgICAgICAgKS5hZGRUbyhtYXBfNTc1ZmFmMTIxNmNmNGE0YThlZTJhMzI4OTgzMGE5ZjYpOwogICAgICAgIAogICAgCiAgICAgICAgICAgIGNpcmNsZV85Mzc1Y2Q4NGY0ZDc0YzY0YmE3OGFkZjE5NGViZWE5Yy5iaW5kVG9vbHRpcCgKICAgICAgICAgICAgICAgIGA8ZGl2PgogICAgICAgICAgICAgICAgICAgICA8ZGl2IHN0eWxlPSdtYXJnaW46MDsgYmFja2dyb3VuZC1jb2xvcjogZmlyZWJyaWNrOyBjb2xvcjogd2hpdGU7Jz48aDQgc3R5bGU9J3RleHQtYWxpZ246Y2VudGVyOyBmb250LXdlaWdodDogYm9sZCc+S29zb3ZvPC9oND48aHIgc3R5bGU9J21hcmdpbjoxMHB4OyBjb2xvcjogd2hpdGU7Jz48dWwgc3R5bGU9J2NvbG9yOiB3aGl0ZTs7bGlzdC1zdHlsZS10eXBlOiBjaXJjbGU7IGFsaWduLWl0ZW06IGxlZnQ7IHBhZGRpbmctbGVmdDogMjBweDsgcGFkZGluZy1yaWdodDoyMHB4Jz48bGk+VG90YWwgY2FzZXM6IDY0Njc8L2xpPjxsaT5EZWF0aHM6IDE1ODwvbGk+PGxpPkRlYXRoIHJhdGUgOiAyLjQ0JSA8L2xpPjwvdWw+PC9kaXY+CiAgICAgICAgICAgICAgICAgPC9kaXY+YCwKICAgICAgICAgICAgICAgIHsic3RpY2t5IjogdHJ1ZX0KICAgICAgICAgICAgKTsKICAgICAgICAKICAgIAogICAgICAgICAgICB2YXIgY2lyY2xlX2YxZWQ4ZTI4MDkyNzQ4N2RiYTg4NzBmZjQzYzU3MDU0ID0gTC5jaXJjbGUoCiAgICAgICAgICAgICAgICBbMjEuOTE2MiwgOTUuOTU2XSwKICAgICAgICAgICAgICAgIHsiYnViYmxpbmdNb3VzZUV2ZW50cyI6IHRydWUsICJjb2xvciI6ICJjcmltc29uIiwgImRhc2hBcnJheSI6IG51bGwsICJkYXNoT2Zmc2V0IjogbnVsbCwgImZpbGwiOiB0cnVlLCAiZmlsbENvbG9yIjogImNyaW1zb24iLCAiZmlsbE9wYWNpdHkiOiAwLjIsICJmaWxsUnVsZSI6ICJldmVub2RkIiwgImxpbmVDYXAiOiAicm91bmQiLCAibGluZUpvaW4iOiAicm91bmQiLCAib3BhY2l0eSI6IDEuMCwgInJhZGl1cyI6IDI2MDAwMC4wLCAic3Ryb2tlIjogdHJ1ZSwgIndlaWdodCI6IDN9CiAgICAgICAgICAgICkuYWRkVG8obWFwXzU3NWZhZjEyMTZjZjRhNGE4ZWUyYTMyODk4MzBhOWY2KTsKICAgICAgICAKICAgIAogICAgICAgICAgICBjaXJjbGVfZjFlZDhlMjgwOTI3NDg3ZGJhODg3MGZmNDNjNTcwNTQuYmluZFRvb2x0aXAoCiAgICAgICAgICAgICAgICBgPGRpdj4KICAgICAgICAgICAgICAgICAgICAgPGRpdiBzdHlsZT0nbWFyZ2luOjA7IGJhY2tncm91bmQtY29sb3I6IGZpcmVicmljazsgY29sb3I6IHdoaXRlOyc+PGg0IHN0eWxlPSd0ZXh0LWFsaWduOmNlbnRlcjsgZm9udC13ZWlnaHQ6IGJvbGQnPkJ1cm1hPC9oND48aHIgc3R5bGU9J21hcmdpbjoxMHB4OyBjb2xvcjogd2hpdGU7Jz48dWwgc3R5bGU9J2NvbG9yOiB3aGl0ZTs7bGlzdC1zdHlsZS10eXBlOiBjaXJjbGU7IGFsaWduLWl0ZW06IGxlZnQ7IHBhZGRpbmctbGVmdDogMjBweDsgcGFkZGluZy1yaWdodDoyMHB4Jz48bGk+VG90YWwgY2FzZXM6IDM0MzwvbGk+PGxpPkRlYXRoczogNjwvbGk+PGxpPkRlYXRoIHJhdGUgOiAxLjc0JSA8L2xpPjwvdWw+PC9kaXY+CiAgICAgICAgICAgICAgICAgPC9kaXY+YCwKICAgICAgICAgICAgICAgIHsic3RpY2t5IjogdHJ1ZX0KICAgICAgICAgICAgKTsKICAgICAgICAKICAgIAogICAgICAgICAgICB2YXIgY2lyY2xlXzM0NjFjMGUxZmY2YzRhYjVhODJjOTcxNDYxYzJhNTY0ID0gTC5jaXJjbGUoCiAgICAgICAgICAgICAgICBbMTguMjIwNiwgLTYzLjA2ODZdLAogICAgICAgICAgICAgICAgeyJidWJibGluZ01vdXNlRXZlbnRzIjogdHJ1ZSwgImNvbG9yIjogImNyaW1zb24iLCAiZGFzaEFycmF5IjogbnVsbCwgImRhc2hPZmZzZXQiOiBudWxsLCAiZmlsbCI6IHRydWUsICJmaWxsQ29sb3IiOiAiY3JpbXNvbiIsICJmaWxsT3BhY2l0eSI6IDAuMiwgImZpbGxSdWxlIjogImV2ZW5vZGQiLCAibGluZUNhcCI6ICJyb3VuZCIsICJsaW5lSm9pbiI6ICJyb3VuZCIsICJvcGFjaXR5IjogMS4wLCAicmFkaXVzIjogNjAwMDAuMCwgInN0cm9rZSI6IHRydWUsICJ3ZWlnaHQiOiAzfQogICAgICAgICAgICApLmFkZFRvKG1hcF81NzVmYWYxMjE2Y2Y0YTRhOGVlMmEzMjg5ODMwYTlmNik7CiAgICAgICAgCiAgICAKICAgICAgICAgICAgY2lyY2xlXzM0NjFjMGUxZmY2YzRhYjVhODJjOTcxNDYxYzJhNTY0LmJpbmRUb29sdGlwKAogICAgICAgICAgICAgICAgYDxkaXY+CiAgICAgICAgICAgICAgICAgICAgIDxkaXYgc3R5bGU9J21hcmdpbjowOyBiYWNrZ3JvdW5kLWNvbG9yOiBmaXJlYnJpY2s7IGNvbG9yOiB3aGl0ZTsnPjxoNCBzdHlsZT0ndGV4dC1hbGlnbjpjZW50ZXI7IGZvbnQtd2VpZ2h0OiBib2xkJz5Vbml0ZWQgS2luZ2RvbTwvaDQ+PGhyIHN0eWxlPSdtYXJnaW46MTBweDsgY29sb3I6IHdoaXRlOyc+PHVsIHN0eWxlPSdjb2xvcjogd2hpdGU7O2xpc3Qtc3R5bGUtdHlwZTogY2lyY2xlOyBhbGlnbi1pdGVtOiBsZWZ0OyBwYWRkaW5nLWxlZnQ6IDIwcHg7IHBhZGRpbmctcmlnaHQ6MjBweCc+PGxpPlRvdGFsIGNhc2VzOiAzPC9saT48bGk+RGVhdGhzOiAwPC9saT48bGk+RGVhdGggcmF0ZSA6IDAuMCUgPC9saT48L3VsPjwvZGl2PgogICAgICAgICAgICAgICAgIDwvZGl2PmAsCiAgICAgICAgICAgICAgICB7InN0aWNreSI6IHRydWV9CiAgICAgICAgICAgICk7CiAgICAgICAgCiAgICAKICAgICAgICAgICAgdmFyIGNpcmNsZV8zNTMxYWU5ODg3NTc0NmM2OWVjYTRiYjFlODQ2M2I3MyA9IEwuY2lyY2xlKAogICAgICAgICAgICAgICAgWzE4LjQyMDcsIC02NC42NF0sCiAgICAgICAgICAgICAgICB7ImJ1YmJsaW5nTW91c2VFdmVudHMiOiB0cnVlLCAiY29sb3IiOiAiY3JpbXNvbiIsICJkYXNoQXJyYXkiOiBudWxsLCAiZGFzaE9mZnNldCI6IG51bGwsICJmaWxsIjogdHJ1ZSwgImZpbGxDb2xvciI6ICJjcmltc29uIiwgImZpbGxPcGFjaXR5IjogMC4yLCAiZmlsbFJ1bGUiOiAiZXZlbm9kZCIsICJsaW5lQ2FwIjogInJvdW5kIiwgImxpbmVKb2luIjogInJvdW5kIiwgIm9wYWNpdHkiOiAxLjAsICJyYWRpdXMiOiAxMTAwMDAuMDAwMDAwMDAwMDEsICJzdHJva2UiOiB0cnVlLCAid2VpZ2h0IjogM30KICAgICAgICAgICAgKS5hZGRUbyhtYXBfNTc1ZmFmMTIxNmNmNGE0YThlZTJhMzI4OTgzMGE5ZjYpOwogICAgICAgIAogICAgCiAgICAgICAgICAgIGNpcmNsZV8zNTMxYWU5ODg3NTc0NmM2OWVjYTRiYjFlODQ2M2I3My5iaW5kVG9vbHRpcCgKICAgICAgICAgICAgICAgIGA8ZGl2PgogICAgICAgICAgICAgICAgICAgICA8ZGl2IHN0eWxlPSdtYXJnaW46MDsgYmFja2dyb3VuZC1jb2xvcjogZmlyZWJyaWNrOyBjb2xvcjogd2hpdGU7Jz48aDQgc3R5bGU9J3RleHQtYWxpZ246Y2VudGVyOyBmb250LXdlaWdodDogYm9sZCc+VW5pdGVkIEtpbmdkb208L2g0PjxociBzdHlsZT0nbWFyZ2luOjEwcHg7IGNvbG9yOiB3aGl0ZTsnPjx1bCBzdHlsZT0nY29sb3I6IHdoaXRlOztsaXN0LXN0eWxlLXR5cGU6IGNpcmNsZTsgYWxpZ24taXRlbTogbGVmdDsgcGFkZGluZy1sZWZ0OiAyMHB4OyBwYWRkaW5nLXJpZ2h0OjIwcHgnPjxsaT5Ub3RhbCBjYXNlczogODwvbGk+PGxpPkRlYXRoczogMTwvbGk+PGxpPkRlYXRoIHJhdGUgOiAxMS4xMSUgPC9saT48L3VsPjwvZGl2PgogICAgICAgICAgICAgICAgIDwvZGl2PmAsCiAgICAgICAgICAgICAgICB7InN0aWNreSI6IHRydWV9CiAgICAgICAgICAgICk7CiAgICAgICAgCiAgICAKICAgICAgICAgICAgdmFyIGNpcmNsZV85NmNjMjMzN2E5Y2M0ZDQzYjJlODMxNmJmZDk1YzZiNiA9IEwuY2lyY2xlKAogICAgICAgICAgICAgICAgWzIxLjY5NDAwMDAwMDAwMDAxLCAtNzEuNzk3OV0sCiAgICAgICAgICAgICAgICB7ImJ1YmJsaW5nTW91c2VFdmVudHMiOiB0cnVlLCAiY29sb3IiOiAiY3JpbXNvbiIsICJkYXNoQXJyYXkiOiBudWxsLCAiZGFzaE9mZnNldCI6IG51bGwsICJmaWxsIjogdHJ1ZSwgImZpbGxDb2xvciI6ICJjcmltc29uIiwgImZpbGxPcGFjaXR5IjogMC4yLCAiZmlsbFJ1bGUiOiAiZXZlbm9kZCIsICJsaW5lQ2FwIjogInJvdW5kIiwgImxpbmVKb2luIjogInJvdW5kIiwgIm9wYWNpdHkiOiAxLjAsICJyYWRpdXMiOiAyMTAwMDAuMCwgInN0cm9rZSI6IHRydWUsICJ3ZWlnaHQiOiAzfQogICAgICAgICAgICApLmFkZFRvKG1hcF81NzVmYWYxMjE2Y2Y0YTRhOGVlMmEzMjg5ODMwYTlmNik7CiAgICAgICAgCiAgICAKICAgICAgICAgICAgY2lyY2xlXzk2Y2MyMzM3YTljYzRkNDNiMmU4MzE2YmZkOTVjNmI2LmJpbmRUb29sdGlwKAogICAgICAgICAgICAgICAgYDxkaXY+CiAgICAgICAgICAgICAgICAgICAgIDxkaXYgc3R5bGU9J21hcmdpbjowOyBiYWNrZ3JvdW5kLWNvbG9yOiBmaXJlYnJpY2s7IGNvbG9yOiB3aGl0ZTsnPjxoNCBzdHlsZT0ndGV4dC1hbGlnbjpjZW50ZXI7IGZvbnQtd2VpZ2h0OiBib2xkJz5Vbml0ZWQgS2luZ2RvbTwvaDQ+PGhyIHN0eWxlPSdtYXJnaW46MTBweDsgY29sb3I6IHdoaXRlOyc+PHVsIHN0eWxlPSdjb2xvcjogd2hpdGU7O2xpc3Qtc3R5bGUtdHlwZTogY2lyY2xlOyBhbGlnbi1pdGVtOiBsZWZ0OyBwYWRkaW5nLWxlZnQ6IDIwcHg7IHBhZGRpbmctcmlnaHQ6MjBweCc+PGxpPlRvdGFsIGNhc2VzOiA5MDwvbGk+PGxpPkRlYXRoczogMjwvbGk+PGxpPkRlYXRoIHJhdGUgOiAyLjIlIDwvbGk+PC91bD48L2Rpdj4KICAgICAgICAgICAgICAgICA8L2Rpdj5gLAogICAgICAgICAgICAgICAgeyJzdGlja3kiOiB0cnVlfQogICAgICAgICAgICApOwogICAgICAgIAogICAgCiAgICAgICAgICAgIHZhciBjaXJjbGVfYjQ2ZGVjYzk0MzcxNDFiNTllZmYyMWIyMjEyNzQyZjMgPSBMLmNpcmNsZSgKICAgICAgICAgICAgICAgIFswLjAsIDAuMF0sCiAgICAgICAgICAgICAgICB7ImJ1YmJsaW5nTW91c2VFdmVudHMiOiB0cnVlLCAiY29sb3IiOiAiY3JpbXNvbiIsICJkYXNoQXJyYXkiOiBudWxsLCAiZGFzaE9mZnNldCI6IG51bGwsICJmaWxsIjogdHJ1ZSwgImZpbGxDb2xvciI6ICJjcmltc29uIiwgImZpbGxPcGFjaXR5IjogMC4yLCAiZmlsbFJ1bGUiOiAiZXZlbm9kZCIsICJsaW5lQ2FwIjogInJvdW5kIiwgImxpbmVKb2luIjogInJvdW5kIiwgIm9wYWNpdHkiOiAxLjAsICJyYWRpdXMiOiAxMTAwMDAuMDAwMDAwMDAwMDEsICJzdHJva2UiOiB0cnVlLCAid2VpZ2h0IjogM30KICAgICAgICAgICAgKS5hZGRUbyhtYXBfNTc1ZmFmMTIxNmNmNGE0YThlZTJhMzI4OTgzMGE5ZjYpOwogICAgICAgIAogICAgCiAgICAgICAgICAgIGNpcmNsZV9iNDZkZWNjOTQzNzE0MWI1OWVmZjIxYjIyMTI3NDJmMy5iaW5kVG9vbHRpcCgKICAgICAgICAgICAgICAgIGA8ZGl2PgogICAgICAgICAgICAgICAgICAgICA8ZGl2IHN0eWxlPSdtYXJnaW46MDsgYmFja2dyb3VuZC1jb2xvcjogZmlyZWJyaWNrOyBjb2xvcjogd2hpdGU7Jz48aDQgc3R5bGU9J3RleHQtYWxpZ246Y2VudGVyOyBmb250LXdlaWdodDogYm9sZCc+TVMgWmFhbmRhbTwvaDQ+PGhyIHN0eWxlPSdtYXJnaW46MTBweDsgY29sb3I6IHdoaXRlOyc+PHVsIHN0eWxlPSdjb2xvcjogd2hpdGU7O2xpc3Qtc3R5bGUtdHlwZTogY2lyY2xlOyBhbGlnbi1pdGVtOiBsZWZ0OyBwYWRkaW5nLWxlZnQ6IDIwcHg7IHBhZGRpbmctcmlnaHQ6MjBweCc+PGxpPlRvdGFsIGNhc2VzOiA5PC9saT48bGk+RGVhdGhzOiAyPC9saT48bGk+RGVhdGggcmF0ZSA6IDIwLjAlIDwvbGk+PC91bD48L2Rpdj4KICAgICAgICAgICAgICAgICA8L2Rpdj5gLAogICAgICAgICAgICAgICAgeyJzdGlja3kiOiB0cnVlfQogICAgICAgICAgICApOwogICAgICAgIAogICAgCiAgICAgICAgICAgIHZhciBjaXJjbGVfYWU4ODBlOTZkMmM1NGM0ZWFjNTlkMGNlMTM0MzUzNzkgPSBMLmNpcmNsZSgKICAgICAgICAgICAgICAgIFstMjIuMzI4NSwgMjQuNjg0OV0sCiAgICAgICAgICAgICAgICB7ImJ1YmJsaW5nTW91c2VFdmVudHMiOiB0cnVlLCAiY29sb3IiOiAiY3JpbXNvbiIsICJkYXNoQXJyYXkiOiBudWxsLCAiZGFzaE9mZnNldCI6IG51bGwsICJmaWxsIjogdHJ1ZSwgImZpbGxDb2xvciI6ICJjcmltc29uIiwgImZpbGxPcGFjaXR5IjogMC4yLCAiZmlsbFJ1bGUiOiAiZXZlbm9kZCIsICJsaW5lQ2FwIjogInJvdW5kIiwgImxpbmVKb2luIjogInJvdW5kIiwgIm9wYWNpdHkiOiAxLjAsICJyYWRpdXMiOiAzMTAwMDAuMCwgInN0cm9rZSI6IHRydWUsICJ3ZWlnaHQiOiAzfQogICAgICAgICAgICApLmFkZFRvKG1hcF81NzVmYWYxMjE2Y2Y0YTRhOGVlMmEzMjg5ODMwYTlmNik7CiAgICAgICAgCiAgICAKICAgICAgICAgICAgY2lyY2xlX2FlODgwZTk2ZDJjNTRjNGVhYzU5ZDBjZTEzNDM1Mzc5LmJpbmRUb29sdGlwKAogICAgICAgICAgICAgICAgYDxkaXY+CiAgICAgICAgICAgICAgICAgICAgIDxkaXYgc3R5bGU9J21hcmdpbjowOyBiYWNrZ3JvdW5kLWNvbG9yOiBmaXJlYnJpY2s7IGNvbG9yOiB3aGl0ZTsnPjxoNCBzdHlsZT0ndGV4dC1hbGlnbjpjZW50ZXI7IGZvbnQtd2VpZ2h0OiBib2xkJz5Cb3Rzd2FuYTwvaDQ+PGhyIHN0eWxlPSdtYXJnaW46MTBweDsgY29sb3I6IHdoaXRlOyc+PHVsIHN0eWxlPSdjb2xvcjogd2hpdGU7O2xpc3Qtc3R5bGUtdHlwZTogY2lyY2xlOyBhbGlnbi1pdGVtOiBsZWZ0OyBwYWRkaW5nLWxlZnQ6IDIwcHg7IHBhZGRpbmctcmlnaHQ6MjBweCc+PGxpPlRvdGFsIGNhc2VzOiA1OTI8L2xpPjxsaT5EZWF0aHM6IDE8L2xpPjxsaT5EZWF0aCByYXRlIDogMC4xNyUgPC9saT48L3VsPjwvZGl2PgogICAgICAgICAgICAgICAgIDwvZGl2PmAsCiAgICAgICAgICAgICAgICB7InN0aWNreSI6IHRydWV9CiAgICAgICAgICAgICk7CiAgICAgICAgCiAgICAKICAgICAgICAgICAgdmFyIGNpcmNsZV8zM2FiMTZlODk5ZDQ0M2Y1YjhjYzYzMjFmNzJkZWU1MCA9IEwuY2lyY2xlKAogICAgICAgICAgICAgICAgWy0zLjM3MzEsIDI5LjkxODldLAogICAgICAgICAgICAgICAgeyJidWJibGluZ01vdXNlRXZlbnRzIjogdHJ1ZSwgImNvbG9yIjogImNyaW1zb24iLCAiZGFzaEFycmF5IjogbnVsbCwgImRhc2hPZmZzZXQiOiBudWxsLCAiZmlsbCI6IHRydWUsICJmaWxsQ29sb3IiOiAiY3JpbXNvbiIsICJmaWxsT3BhY2l0eSI6IDAuMiwgImZpbGxSdWxlIjogImV2ZW5vZGQiLCAibGluZUNhcCI6ICJyb3VuZCIsICJsaW5lSm9pbiI6ICJyb3VuZCIsICJvcGFjaXR5IjogMS4wLCAicmFkaXVzIjogMjYwMDAwLjAsICJzdHJva2UiOiB0cnVlLCAid2VpZ2h0IjogM30KICAgICAgICAgICAgKS5hZGRUbyhtYXBfNTc1ZmFmMTIxNmNmNGE0YThlZTJhMzI4OTgzMGE5ZjYpOwogICAgICAgIAogICAgCiAgICAgICAgICAgIGNpcmNsZV8zM2FiMTZlODk5ZDQ0M2Y1YjhjYzYzMjFmNzJkZWU1MC5iaW5kVG9vbHRpcCgKICAgICAgICAgICAgICAgIGA8ZGl2PgogICAgICAgICAgICAgICAgICAgICA8ZGl2IHN0eWxlPSdtYXJnaW46MDsgYmFja2dyb3VuZC1jb2xvcjogZmlyZWJyaWNrOyBjb2xvcjogd2hpdGU7Jz48aDQgc3R5bGU9J3RleHQtYWxpZ246Y2VudGVyOyBmb250LXdlaWdodDogYm9sZCc+QnVydW5kaTwvaDQ+PGhyIHN0eWxlPSdtYXJnaW46MTBweDsgY29sb3I6IHdoaXRlOyc+PHVsIHN0eWxlPSdjb2xvcjogd2hpdGU7O2xpc3Qtc3R5bGUtdHlwZTogY2lyY2xlOyBhbGlnbi1pdGVtOiBsZWZ0OyBwYWRkaW5nLWxlZnQ6IDIwcHg7IHBhZGRpbmctcmlnaHQ6MjBweCc+PGxpPlRvdGFsIGNhc2VzOiAzNDU8L2xpPjxsaT5EZWF0aHM6IDE8L2xpPjxsaT5EZWF0aCByYXRlIDogMC4yOSUgPC9saT48L3VsPjwvZGl2PgogICAgICAgICAgICAgICAgIDwvZGl2PmAsCiAgICAgICAgICAgICAgICB7InN0aWNreSI6IHRydWV9CiAgICAgICAgICAgICk7CiAgICAgICAgCiAgICAKICAgICAgICAgICAgdmFyIGNpcmNsZV8zODY2M2UwYmU5NDU0Mzg3YmRmYzc2MmQ5YmM2NzhjYyA9IEwuY2lyY2xlKAogICAgICAgICAgICAgICAgWzguNDYwNTU1MDAwMDAwMDAxLCAtMTEuNzc5ODg5XSwKICAgICAgICAgICAgICAgIHsiYnViYmxpbmdNb3VzZUV2ZW50cyI6IHRydWUsICJjb2xvciI6ICJjcmltc29uIiwgImRhc2hBcnJheSI6IG51bGwsICJkYXNoT2Zmc2V0IjogbnVsbCwgImZpbGwiOiB0cnVlLCAiZmlsbENvbG9yIjogImNyaW1zb24iLCAiZmlsbE9wYWNpdHkiOiAwLjIsICJmaWxsUnVsZSI6ICJldmVub2RkIiwgImxpbmVDYXAiOiAicm91bmQiLCAibGluZUpvaW4iOiAicm91bmQiLCAib3BhY2l0eSI6IDEuMCwgInJhZGl1cyI6IDM2MDAwMC4wLCAic3Ryb2tlIjogdHJ1ZSwgIndlaWdodCI6IDN9CiAgICAgICAgICAgICkuYWRkVG8obWFwXzU3NWZhZjEyMTZjZjRhNGE4ZWUyYTMyODk4MzBhOWY2KTsKICAgICAgICAKICAgIAogICAgICAgICAgICBjaXJjbGVfMzg2NjNlMGJlOTQ1NDM4N2JkZmM3NjJkOWJjNjc4Y2MuYmluZFRvb2x0aXAoCiAgICAgICAgICAgICAgICBgPGRpdj4KICAgICAgICAgICAgICAgICAgICAgPGRpdiBzdHlsZT0nbWFyZ2luOjA7IGJhY2tncm91bmQtY29sb3I6IGZpcmVicmljazsgY29sb3I6IHdoaXRlOyc+PGg0IHN0eWxlPSd0ZXh0LWFsaWduOmNlbnRlcjsgZm9udC13ZWlnaHQ6IGJvbGQnPlNpZXJyYSBMZW9uZTwvaDQ+PGhyIHN0eWxlPSdtYXJnaW46MTBweDsgY29sb3I6IHdoaXRlOyc+PHVsIHN0eWxlPSdjb2xvcjogd2hpdGU7O2xpc3Qtc3R5bGUtdHlwZTogY2lyY2xlOyBhbGlnbi1pdGVtOiBsZWZ0OyBwYWRkaW5nLWxlZnQ6IDIwcHg7IHBhZGRpbmctcmlnaHQ6MjBweCc+PGxpPlRvdGFsIGNhc2VzOiAxNzUyPC9saT48bGk+RGVhdGhzOiA2NjwvbGk+PGxpPkRlYXRoIHJhdGUgOiAzLjc2JSA8L2xpPjwvdWw+PC9kaXY+CiAgICAgICAgICAgICAgICAgPC9kaXY+YCwKICAgICAgICAgICAgICAgIHsic3RpY2t5IjogdHJ1ZX0KICAgICAgICAgICAgKTsKICAgICAgICAKICAgIAogICAgICAgICAgICB2YXIgY2lyY2xlX2ZmNGYxMWU5OGYzMjRhZjE5NDNlYzRkMTIyYmY0ODNkID0gTC5jaXJjbGUoCiAgICAgICAgICAgICAgICBbMTIuMTc4NCwgLTY4LjIzODVdLAogICAgICAgICAgICAgICAgeyJidWJibGluZ01vdXNlRXZlbnRzIjogdHJ1ZSwgImNvbG9yIjogImNyaW1zb24iLCAiZGFzaEFycmF5IjogbnVsbCwgImRhc2hPZmZzZXQiOiBudWxsLCAiZmlsbCI6IHRydWUsICJmaWxsQ29sb3IiOiAiY3JpbXNvbiIsICJmaWxsT3BhY2l0eSI6IDAuMiwgImZpbGxSdWxlIjogImV2ZW5vZGQiLCAibGluZUNhcCI6ICJyb3VuZCIsICJsaW5lSm9pbiI6ICJyb3VuZCIsICJvcGFjaXR5IjogMS4wLCAicmFkaXVzIjogMTEwMDAwLjAwMDAwMDAwMDAxLCAic3Ryb2tlIjogdHJ1ZSwgIndlaWdodCI6IDN9CiAgICAgICAgICAgICkuYWRkVG8obWFwXzU3NWZhZjEyMTZjZjRhNGE4ZWUyYTMyODk4MzBhOWY2KTsKICAgICAgICAKICAgIAogICAgICAgICAgICBjaXJjbGVfZmY0ZjExZTk4ZjMyNGFmMTk0M2VjNGQxMjJiZjQ4M2QuYmluZFRvb2x0aXAoCiAgICAgICAgICAgICAgICBgPGRpdj4KICAgICAgICAgICAgICAgICAgICAgPGRpdiBzdHlsZT0nbWFyZ2luOjA7IGJhY2tncm91bmQtY29sb3I6IGZpcmVicmljazsgY29sb3I6IHdoaXRlOyc+PGg0IHN0eWxlPSd0ZXh0LWFsaWduOmNlbnRlcjsgZm9udC13ZWlnaHQ6IGJvbGQnPk5ldGhlcmxhbmRzPC9oND48aHIgc3R5bGU9J21hcmdpbjoxMHB4OyBjb2xvcjogd2hpdGU7Jz48dWwgc3R5bGU9J2NvbG9yOiB3aGl0ZTs7bGlzdC1zdHlsZS10eXBlOiBjaXJjbGU7IGFsaWduLWl0ZW06IGxlZnQ7IHBhZGRpbmctbGVmdDogMjBweDsgcGFkZGluZy1yaWdodDoyMHB4Jz48bGk+VG90YWwgY2FzZXM6IDEwPC9saT48bGk+RGVhdGhzOiAwPC9saT48bGk+RGVhdGggcmF0ZSA6IDAuMCUgPC9saT48L3VsPjwvZGl2PgogICAgICAgICAgICAgICAgIDwvZGl2PmAsCiAgICAgICAgICAgICAgICB7InN0aWNreSI6IHRydWV9CiAgICAgICAgICAgICk7CiAgICAgICAgCiAgICAKICAgICAgICAgICAgdmFyIGNpcmNsZV80YzViYmE5NWNkNzY0MmYxOWVlZDRiODk4OGRkZWRjNCA9IEwuY2lyY2xlKAogICAgICAgICAgICAgICAgWy0xMy4yNTQzLCAzNC4zMDE1XSwKICAgICAgICAgICAgICAgIHsiYnViYmxpbmdNb3VzZUV2ZW50cyI6IHRydWUsICJjb2xvciI6ICJjcmltc29uIiwgImRhc2hBcnJheSI6IG51bGwsICJkYXNoT2Zmc2V0IjogbnVsbCwgImZpbGwiOiB0cnVlLCAiZmlsbENvbG9yIjogImNyaW1zb24iLCAiZmlsbE9wYWNpdHkiOiAwLjIsICJmaWxsUnVsZSI6ICJldmVub2RkIiwgImxpbmVDYXAiOiAicm91bmQiLCAibGluZUpvaW4iOiAicm91bmQiLCAib3BhY2l0eSI6IDEuMCwgInJhZGl1cyI6IDQwOTk5OS45OTk5OTk5OTk5NCwgInN0cm9rZSI6IHRydWUsICJ3ZWlnaHQiOiAzfQogICAgICAgICAgICApLmFkZFRvKG1hcF81NzVmYWYxMjE2Y2Y0YTRhOGVlMmEzMjg5ODMwYTlmNik7CiAgICAgICAgCiAgICAKICAgICAgICAgICAgY2lyY2xlXzRjNWJiYTk1Y2Q3NjQyZjE5ZWVkNGI4OTg4ZGRlZGM0LmJpbmRUb29sdGlwKAogICAgICAgICAgICAgICAgYDxkaXY+CiAgICAgICAgICAgICAgICAgICAgIDxkaXYgc3R5bGU9J21hcmdpbjowOyBiYWNrZ3JvdW5kLWNvbG9yOiBmaXJlYnJpY2s7IGNvbG9yOiB3aGl0ZTsnPjxoNCBzdHlsZT0ndGV4dC1hbGlnbjpjZW50ZXI7IGZvbnQtd2VpZ2h0OiBib2xkJz5NYWxhd2k8L2g0PjxociBzdHlsZT0nbWFyZ2luOjEwcHg7IGNvbG9yOiB3aGl0ZTsnPjx1bCBzdHlsZT0nY29sb3I6IHdoaXRlOztsaXN0LXN0eWxlLXR5cGU6IGNpcmNsZTsgYWxpZ24taXRlbTogbGVmdDsgcGFkZGluZy1sZWZ0OiAyMHB4OyBwYWRkaW5nLXJpZ2h0OjIwcHgnPjxsaT5Ub3RhbCBjYXNlczogMzMwMjwvbGk+PGxpPkRlYXRoczogNzY8L2xpPjxsaT5EZWF0aCByYXRlIDogMi4zJSA8L2xpPjwvdWw+PC9kaXY+CiAgICAgICAgICAgICAgICAgPC9kaXY+YCwKICAgICAgICAgICAgICAgIHsic3RpY2t5IjogdHJ1ZX0KICAgICAgICAgICAgKTsKICAgICAgICAKICAgIAogICAgICAgICAgICB2YXIgY2lyY2xlX2NmZjBkN2ZmOWIwOTRkN2FiYmYyOThjNTA0OTQ4ODlkID0gTC5jaXJjbGUoCiAgICAgICAgICAgICAgICBbLTUxLjc5NjMsIC01OS41MjM2XSwKICAgICAgICAgICAgICAgIHsiYnViYmxpbmdNb3VzZUV2ZW50cyI6IHRydWUsICJjb2xvciI6ICJjcmltc29uIiwgImRhc2hBcnJheSI6IG51bGwsICJkYXNoT2Zmc2V0IjogbnVsbCwgImZpbGwiOiB0cnVlLCAiZmlsbENvbG9yIjogImNyaW1zb24iLCAiZmlsbE9wYWNpdHkiOiAwLjIsICJmaWxsUnVsZSI6ICJldmVub2RkIiwgImxpbmVDYXAiOiAicm91bmQiLCAibGluZUpvaW4iOiAicm91bmQiLCAib3BhY2l0eSI6IDEuMCwgInJhZGl1cyI6IDExMDAwMC4wMDAwMDAwMDAwMSwgInN0cm9rZSI6IHRydWUsICJ3ZWlnaHQiOiAzfQogICAgICAgICAgICApLmFkZFRvKG1hcF81NzVmYWYxMjE2Y2Y0YTRhOGVlMmEzMjg5ODMwYTlmNik7CiAgICAgICAgCiAgICAKICAgICAgICAgICAgY2lyY2xlX2NmZjBkN2ZmOWIwOTRkN2FiYmYyOThjNTA0OTQ4ODlkLmJpbmRUb29sdGlwKAogICAgICAgICAgICAgICAgYDxkaXY+CiAgICAgICAgICAgICAgICAgICAgIDxkaXYgc3R5bGU9J21hcmdpbjowOyBiYWNrZ3JvdW5kLWNvbG9yOiBmaXJlYnJpY2s7IGNvbG9yOiB3aGl0ZTsnPjxoNCBzdHlsZT0ndGV4dC1hbGlnbjpjZW50ZXI7IGZvbnQtd2VpZ2h0OiBib2xkJz5Vbml0ZWQgS2luZ2RvbTwvaDQ+PGhyIHN0eWxlPSdtYXJnaW46MTBweDsgY29sb3I6IHdoaXRlOyc+PHVsIHN0eWxlPSdjb2xvcjogd2hpdGU7O2xpc3Qtc3R5bGUtdHlwZTogY2lyY2xlOyBhbGlnbi1pdGVtOiBsZWZ0OyBwYWRkaW5nLWxlZnQ6IDIwcHg7IHBhZGRpbmctcmlnaHQ6MjBweCc+PGxpPlRvdGFsIGNhc2VzOiAxMzwvbGk+PGxpPkRlYXRoczogMDwvbGk+PGxpPkRlYXRoIHJhdGUgOiAwLjAlIDwvbGk+PC91bD48L2Rpdj4KICAgICAgICAgICAgICAgICA8L2Rpdj5gLAogICAgICAgICAgICAgICAgeyJzdGlja3kiOiB0cnVlfQogICAgICAgICAgICApOwogICAgICAgIAogICAgCiAgICAgICAgICAgIHZhciBjaXJjbGVfZmQ3ODBkOGJlNWMzNDdiNGEwMDEzM2Y1YTUwMGMzYWIgPSBMLmNpcmNsZSgKICAgICAgICAgICAgICAgIFs0Ni44ODUyLCAtNTYuMzE1OV0sCiAgICAgICAgICAgICAgICB7ImJ1YmJsaW5nTW91c2VFdmVudHMiOiB0cnVlLCAiY29sb3IiOiAiY3JpbXNvbiIsICJkYXNoQXJyYXkiOiBudWxsLCAiZGFzaE9mZnNldCI6IG51bGwsICJmaWxsIjogdHJ1ZSwgImZpbGxDb2xvciI6ICJjcmltc29uIiwgImZpbGxPcGFjaXR5IjogMC4yLCAiZmlsbFJ1bGUiOiAiZXZlbm9kZCIsICJsaW5lQ2FwIjogInJvdW5kIiwgImxpbmVKb2luIjogInJvdW5kIiwgIm9wYWNpdHkiOiAxLjAsICJyYWRpdXMiOiA2MDAwMC4wLCAic3Ryb2tlIjogdHJ1ZSwgIndlaWdodCI6IDN9CiAgICAgICAgICAgICkuYWRkVG8obWFwXzU3NWZhZjEyMTZjZjRhNGE4ZWUyYTMyODk4MzBhOWY2KTsKICAgICAgICAKICAgIAogICAgICAgICAgICBjaXJjbGVfZmQ3ODBkOGJlNWMzNDdiNGEwMDEzM2Y1YTUwMGMzYWIuYmluZFRvb2x0aXAoCiAgICAgICAgICAgICAgICBgPGRpdj4KICAgICAgICAgICAgICAgICAgICAgPGRpdiBzdHlsZT0nbWFyZ2luOjA7IGJhY2tncm91bmQtY29sb3I6IGZpcmVicmljazsgY29sb3I6IHdoaXRlOyc+PGg0IHN0eWxlPSd0ZXh0LWFsaWduOmNlbnRlcjsgZm9udC13ZWlnaHQ6IGJvbGQnPkZyYW5jZTwvaDQ+PGhyIHN0eWxlPSdtYXJnaW46MTBweDsgY29sb3I6IHdoaXRlOyc+PHVsIHN0eWxlPSdjb2xvcjogd2hpdGU7O2xpc3Qtc3R5bGUtdHlwZTogY2lyY2xlOyBhbGlnbi1pdGVtOiBsZWZ0OyBwYWRkaW5nLWxlZnQ6IDIwcHg7IHBhZGRpbmctcmlnaHQ6MjBweCc+PGxpPlRvdGFsIGNhc2VzOiA0PC9saT48bGk+RGVhdGhzOiAwPC9saT48bGk+RGVhdGggcmF0ZSA6IDAuMCUgPC9saT48L3VsPjwvZGl2PgogICAgICAgICAgICAgICAgIDwvZGl2PmAsCiAgICAgICAgICAgICAgICB7InN0aWNreSI6IHRydWV9CiAgICAgICAgICAgICk7CiAgICAgICAgCiAgICAKICAgICAgICAgICAgdmFyIGNpcmNsZV84M2M0OTlhY2ExNmI0NGYwYTk4NjlkYjk2MjIxM2IyMiA9IEwuY2lyY2xlKAogICAgICAgICAgICAgICAgWzYuODc3MDAwMDAwMDAwMDAyNCwgMzEuMzA3XSwKICAgICAgICAgICAgICAgIHsiYnViYmxpbmdNb3VzZUV2ZW50cyI6IHRydWUsICJjb2xvciI6ICJjcmltc29uIiwgImRhc2hBcnJheSI6IG51bGwsICJkYXNoT2Zmc2V0IjogbnVsbCwgImZpbGwiOiB0cnVlLCAiZmlsbENvbG9yIjogImNyaW1zb24iLCAiZmlsbE9wYWNpdHkiOiAwLjIsICJmaWxsUnVsZSI6ICJldmVub2RkIiwgImxpbmVDYXAiOiAicm91bmQiLCAibGluZUpvaW4iOiAicm91bmQiLCAib3BhY2l0eSI6IDEuMCwgInJhZGl1cyI6IDM2MDAwMC4wLCAic3Ryb2tlIjogdHJ1ZSwgIndlaWdodCI6IDN9CiAgICAgICAgICAgICkuYWRkVG8obWFwXzU3NWZhZjEyMTZjZjRhNGE4ZWUyYTMyODk4MzBhOWY2KTsKICAgICAgICAKICAgIAogICAgICAgICAgICBjaXJjbGVfODNjNDk5YWNhMTZiNDRmMGE5ODY5ZGI5NjIyMTNiMjIuYmluZFRvb2x0aXAoCiAgICAgICAgICAgICAgICBgPGRpdj4KICAgICAgICAgICAgICAgICAgICAgPGRpdiBzdHlsZT0nbWFyZ2luOjA7IGJhY2tncm91bmQtY29sb3I6IGZpcmVicmljazsgY29sb3I6IHdoaXRlOyc+PGg0IHN0eWxlPSd0ZXh0LWFsaWduOmNlbnRlcjsgZm9udC13ZWlnaHQ6IGJvbGQnPlNvdXRoIFN1ZGFuPC9oND48aHIgc3R5bGU9J21hcmdpbjoxMHB4OyBjb2xvcjogd2hpdGU7Jz48dWwgc3R5bGU9J2NvbG9yOiB3aGl0ZTs7bGlzdC1zdHlsZS10eXBlOiBjaXJjbGU7IGFsaWduLWl0ZW06IGxlZnQ7IHBhZGRpbmctbGVmdDogMjBweDsgcGFkZGluZy1yaWdodDoyMHB4Jz48bGk+VG90YWwgY2FzZXM6IDIyMzk8L2xpPjxsaT5EZWF0aHM6IDQ1PC9saT48bGk+RGVhdGggcmF0ZSA6IDIuMDElIDwvbGk+PC91bD48L2Rpdj4KICAgICAgICAgICAgICAgICA8L2Rpdj5gLAogICAgICAgICAgICAgICAgeyJzdGlja3kiOiB0cnVlfQogICAgICAgICAgICApOwogICAgICAgIAogICAgCiAgICAgICAgICAgIHZhciBjaXJjbGVfZTJmMmY0MDc5YjkxNGYzMzkyNDJmZTEwMzcyYjZjYWYgPSBMLmNpcmNsZSgKICAgICAgICAgICAgICAgIFsyNC4yMTU1LCAtMTIuODg1OF0sCiAgICAgICAgICAgICAgICB7ImJ1YmJsaW5nTW91c2VFdmVudHMiOiB0cnVlLCAiY29sb3IiOiAiY3JpbXNvbiIsICJkYXNoQXJyYXkiOiBudWxsLCAiZGFzaE9mZnNldCI6IG51bGwsICJmaWxsIjogdHJ1ZSwgImZpbGxDb2xvciI6ICJjcmltc29uIiwgImZpbGxPcGFjaXR5IjogMC4yLCAiZmlsbFJ1bGUiOiAiZXZlbm9kZCIsICJsaW5lQ2FwIjogInJvdW5kIiwgImxpbmVKb2luIjogInJvdW5kIiwgIm9wYWNpdHkiOiAxLjAsICJyYWRpdXMiOiAxMTAwMDAuMDAwMDAwMDAwMDEsICJzdHJva2UiOiB0cnVlLCAid2VpZ2h0IjogM30KICAgICAgICAgICAgKS5hZGRUbyhtYXBfNTc1ZmFmMTIxNmNmNGE0YThlZTJhMzI4OTgzMGE5ZjYpOwogICAgICAgIAogICAgCiAgICAgICAgICAgIGNpcmNsZV9lMmYyZjQwNzliOTE0ZjMzOTI0MmZlMTAzNzJiNmNhZi5iaW5kVG9vbHRpcCgKICAgICAgICAgICAgICAgIGA8ZGl2PgogICAgICAgICAgICAgICAgICAgICA8ZGl2IHN0eWxlPSdtYXJnaW46MDsgYmFja2dyb3VuZC1jb2xvcjogZmlyZWJyaWNrOyBjb2xvcjogd2hpdGU7Jz48aDQgc3R5bGU9J3RleHQtYWxpZ246Y2VudGVyOyBmb250LXdlaWdodDogYm9sZCc+V2VzdGVybiBTYWhhcmE8L2g0PjxociBzdHlsZT0nbWFyZ2luOjEwcHg7IGNvbG9yOiB3aGl0ZTsnPjx1bCBzdHlsZT0nY29sb3I6IHdoaXRlOztsaXN0LXN0eWxlLXR5cGU6IGNpcmNsZTsgYWxpZ24taXRlbTogbGVmdDsgcGFkZGluZy1sZWZ0OiAyMHB4OyBwYWRkaW5nLXJpZ2h0OjIwcHgnPjxsaT5Ub3RhbCBjYXNlczogMTA8L2xpPjxsaT5EZWF0aHM6IDE8L2xpPjxsaT5EZWF0aCByYXRlIDogOS4wOSUgPC9saT48L3VsPjwvZGl2PgogICAgICAgICAgICAgICAgIDwvZGl2PmAsCiAgICAgICAgICAgICAgICB7InN0aWNreSI6IHRydWV9CiAgICAgICAgICAgICk7CiAgICAgICAgCiAgICAKICAgICAgICAgICAgdmFyIGNpcmNsZV84NTU2MjY0NTBlZWE0M2Q4YjI2MDEwZjZmNWEyYjYzMiA9IEwuY2lyY2xlKAogICAgICAgICAgICAgICAgWzAuMTg2NCwgNi42MTMxXSwKICAgICAgICAgICAgICAgIHsiYnViYmxpbmdNb3VzZUV2ZW50cyI6IHRydWUsICJjb2xvciI6ICJjcmltc29uIiwgImRhc2hBcnJheSI6IG51bGwsICJkYXNoT2Zmc2V0IjogbnVsbCwgImZpbGwiOiB0cnVlLCAiZmlsbENvbG9yIjogImNyaW1zb24iLCAiZmlsbE9wYWNpdHkiOiAwLjIsICJmaWxsUnVsZSI6ICJldmVub2RkIiwgImxpbmVDYXAiOiAicm91bmQiLCAibGluZUpvaW4iOiAicm91bmQiLCAib3BhY2l0eSI6IDEuMCwgInJhZGl1cyI6IDMxMDAwMC4wLCAic3Ryb2tlIjogdHJ1ZSwgIndlaWdodCI6IDN9CiAgICAgICAgICAgICkuYWRkVG8obWFwXzU3NWZhZjEyMTZjZjRhNGE4ZWUyYTMyODk4MzBhOWY2KTsKICAgICAgICAKICAgIAogICAgICAgICAgICBjaXJjbGVfODU1NjI2NDUwZWVhNDNkOGIyNjAxMGY2ZjVhMmI2MzIuYmluZFRvb2x0aXAoCiAgICAgICAgICAgICAgICBgPGRpdj4KICAgICAgICAgICAgICAgICAgICAgPGRpdiBzdHlsZT0nbWFyZ2luOjA7IGJhY2tncm91bmQtY29sb3I6IGZpcmVicmljazsgY29sb3I6IHdoaXRlOyc+PGg0IHN0eWxlPSd0ZXh0LWFsaWduOmNlbnRlcjsgZm9udC13ZWlnaHQ6IGJvbGQnPlNhbyBUb21lIGFuZCBQcmluY2lwZTwvaDQ+PGhyIHN0eWxlPSdtYXJnaW46MTBweDsgY29sb3I6IHdoaXRlOyc+PHVsIHN0eWxlPSdjb2xvcjogd2hpdGU7O2xpc3Qtc3R5bGUtdHlwZTogY2lyY2xlOyBhbGlnbi1pdGVtOiBsZWZ0OyBwYWRkaW5nLWxlZnQ6IDIwcHg7IHBhZGRpbmctcmlnaHQ6MjBweCc+PGxpPlRvdGFsIGNhc2VzOiA3NDk8L2xpPjxsaT5EZWF0aHM6IDE0PC9saT48bGk+RGVhdGggcmF0ZSA6IDEuODclIDwvbGk+PC91bD48L2Rpdj4KICAgICAgICAgICAgICAgICA8L2Rpdj5gLAogICAgICAgICAgICAgICAgeyJzdGlja3kiOiB0cnVlfQogICAgICAgICAgICApOwogICAgICAgIAogICAgCiAgICAgICAgICAgIHZhciBjaXJjbGVfYjUwNDcyODI0Yjc1NDEwNmJmYmU0M2JlOTllMDk1ZmMgPSBMLmNpcmNsZSgKICAgICAgICAgICAgICAgIFsxNS41NTI3MjY5OTk5OTk5OTksIDQ4LjUxNjM4OF0sCiAgICAgICAgICAgICAgICB7ImJ1YmJsaW5nTW91c2VFdmVudHMiOiB0cnVlLCAiY29sb3IiOiAiY3JpbXNvbiIsICJkYXNoQXJyYXkiOiBudWxsLCAiZGFzaE9mZnNldCI6IG51bGwsICJmaWxsIjogdHJ1ZSwgImZpbGxDb2xvciI6ICJjcmltc29uIiwgImZpbGxPcGFjaXR5IjogMC4yLCAiZmlsbFJ1bGUiOiAiZXZlbm9kZCIsICJsaW5lQ2FwIjogInJvdW5kIiwgImxpbmVKb2luIjogInJvdW5kIiwgIm9wYWNpdHkiOiAxLjAsICJyYWRpdXMiOiAzNjAwMDAuMCwgInN0cm9rZSI6IHRydWUsICJ3ZWlnaHQiOiAzfQogICAgICAgICAgICApLmFkZFRvKG1hcF81NzVmYWYxMjE2Y2Y0YTRhOGVlMmEzMjg5ODMwYTlmNik7CiAgICAgICAgCiAgICAKICAgICAgICAgICAgY2lyY2xlX2I1MDQ3MjgyNGI3NTQxMDZiZmJlNDNiZTk5ZTA5NWZjLmJpbmRUb29sdGlwKAogICAgICAgICAgICAgICAgYDxkaXY+CiAgICAgICAgICAgICAgICAgICAgIDxkaXYgc3R5bGU9J21hcmdpbjowOyBiYWNrZ3JvdW5kLWNvbG9yOiBmaXJlYnJpY2s7IGNvbG9yOiB3aGl0ZTsnPjxoNCBzdHlsZT0ndGV4dC1hbGlnbjpjZW50ZXI7IGZvbnQtd2VpZ2h0OiBib2xkJz5ZZW1lbjwvaDQ+PGhyIHN0eWxlPSdtYXJnaW46MTBweDsgY29sb3I6IHdoaXRlOyc+PHVsIHN0eWxlPSdjb2xvcjogd2hpdGU7O2xpc3Qtc3R5bGUtdHlwZTogY2lyY2xlOyBhbGlnbi1pdGVtOiBsZWZ0OyBwYWRkaW5nLWxlZnQ6IDIwcHg7IHBhZGRpbmctcmlnaHQ6MjBweCc+PGxpPlRvdGFsIGNhc2VzOiAxNjU0PC9saT48bGk+RGVhdGhzOiA0NjE8L2xpPjxsaT5EZWF0aCByYXRlIDogMjcuODUlIDwvbGk+PC91bD48L2Rpdj4KICAgICAgICAgICAgICAgICA8L2Rpdj5gLAogICAgICAgICAgICAgICAgeyJzdGlja3kiOiB0cnVlfQogICAgICAgICAgICApOwogICAgICAgIAogICAgCiAgICAgICAgICAgIHZhciBjaXJjbGVfOWU4ZDJhNDllNGZkNDEwOTk0NjA2MGIwNjhjZGNjOTIgPSBMLmNpcmNsZSgKICAgICAgICAgICAgICAgIFstMTEuNjQ1NSwgNDMuMzMzM10sCiAgICAgICAgICAgICAgICB7ImJ1YmJsaW5nTW91c2VFdmVudHMiOiB0cnVlLCAiY29sb3IiOiAiY3JpbXNvbiIsICJkYXNoQXJyYXkiOiBudWxsLCAiZGFzaE9mZnNldCI6IG51bGwsICJmaWxsIjogdHJ1ZSwgImZpbGxDb2xvciI6ICJjcmltc29uIiwgImZpbGxPcGFjaXR5IjogMC4yLCAiZmlsbFJ1bGUiOiAiZXZlbm9kZCIsICJsaW5lQ2FwIjogInJvdW5kIiwgImxpbmVKb2luIjogInJvdW5kIiwgIm9wYWNpdHkiOiAxLjAsICJyYWRpdXMiOiAyNjAwMDAuMCwgInN0cm9rZSI6IHRydWUsICJ3ZWlnaHQiOiAzfQogICAgICAgICAgICApLmFkZFRvKG1hcF81NzVmYWYxMjE2Y2Y0YTRhOGVlMmEzMjg5ODMwYTlmNik7CiAgICAgICAgCiAgICAKICAgICAgICAgICAgY2lyY2xlXzllOGQyYTQ5ZTRmZDQxMDk5NDYwNjBiMDY4Y2RjYzkyLmJpbmRUb29sdGlwKAogICAgICAgICAgICAgICAgYDxkaXY+CiAgICAgICAgICAgICAgICAgICAgIDxkaXYgc3R5bGU9J21hcmdpbjowOyBiYWNrZ3JvdW5kLWNvbG9yOiBmaXJlYnJpY2s7IGNvbG9yOiB3aGl0ZTsnPjxoNCBzdHlsZT0ndGV4dC1hbGlnbjpjZW50ZXI7IGZvbnQtd2VpZ2h0OiBib2xkJz5Db21vcm9zPC9oND48aHIgc3R5bGU9J21hcmdpbjoxMHB4OyBjb2xvcjogd2hpdGU7Jz48dWwgc3R5bGU9J2NvbG9yOiB3aGl0ZTs7bGlzdC1zdHlsZS10eXBlOiBjaXJjbGU7IGFsaWduLWl0ZW06IGxlZnQ7IHBhZGRpbmctbGVmdDogMjBweDsgcGFkZGluZy1yaWdodDoyMHB4Jz48bGk+VG90YWwgY2FzZXM6IDM0MDwvbGk+PGxpPkRlYXRoczogNzwvbGk+PGxpPkRlYXRoIHJhdGUgOiAyLjA1JSA8L2xpPjwvdWw+PC9kaXY+CiAgICAgICAgICAgICAgICAgPC9kaXY+YCwKICAgICAgICAgICAgICAgIHsic3RpY2t5IjogdHJ1ZX0KICAgICAgICAgICAgKTsKICAgICAgICAKICAgIAogICAgICAgICAgICB2YXIgY2lyY2xlXzNjZjBkNWMxZDAxZDRlNGNiYzc0MTAyMmQ5ZGY5ZGY2ID0gTC5jaXJjbGUoCiAgICAgICAgICAgICAgICBbMzguODYxLCA3MS4yNzYxXSwKICAgICAgICAgICAgICAgIHsiYnViYmxpbmdNb3VzZUV2ZW50cyI6IHRydWUsICJjb2xvciI6ICJjcmltc29uIiwgImRhc2hBcnJheSI6IG51bGwsICJkYXNoT2Zmc2V0IjogbnVsbCwgImZpbGwiOiB0cnVlLCAiZmlsbENvbG9yIjogImNyaW1zb24iLCAiZmlsbE9wYWNpdHkiOiAwLjIsICJmaWxsUnVsZSI6ICJldmVub2RkIiwgImxpbmVDYXAiOiAicm91bmQiLCAibGluZUpvaW4iOiAicm91bmQiLCAib3BhY2l0eSI6IDEuMCwgInJhZGl1cyI6IDQwOTk5OS45OTk5OTk5OTk5NCwgInN0cm9rZSI6IHRydWUsICJ3ZWlnaHQiOiAzfQogICAgICAgICAgICApLmFkZFRvKG1hcF81NzVmYWYxMjE2Y2Y0YTRhOGVlMmEzMjg5ODMwYTlmNik7CiAgICAgICAgCiAgICAKICAgICAgICAgICAgY2lyY2xlXzNjZjBkNWMxZDAxZDRlNGNiYzc0MTAyMmQ5ZGY5ZGY2LmJpbmRUb29sdGlwKAogICAgICAgICAgICAgICAgYDxkaXY+CiAgICAgICAgICAgICAgICAgICAgIDxkaXYgc3R5bGU9J21hcmdpbjowOyBiYWNrZ3JvdW5kLWNvbG9yOiBmaXJlYnJpY2s7IGNvbG9yOiB3aGl0ZTsnPjxoNCBzdHlsZT0ndGV4dC1hbGlnbjpjZW50ZXI7IGZvbnQtd2VpZ2h0OiBib2xkJz5UYWppa2lzdGFuPC9oND48aHIgc3R5bGU9J21hcmdpbjoxMHB4OyBjb2xvcjogd2hpdGU7Jz48dWwgc3R5bGU9J2NvbG9yOiB3aGl0ZTs7bGlzdC1zdHlsZS10eXBlOiBjaXJjbGU7IGFsaWduLWl0ZW06IGxlZnQ7IHBhZGRpbmctbGVmdDogMjBweDsgcGFkZGluZy1yaWdodDoyMHB4Jz48bGk+VG90YWwgY2FzZXM6IDcwNjA8L2xpPjxsaT5EZWF0aHM6IDU4PC9saT48bGk+RGVhdGggcmF0ZSA6IDAuODIlIDwvbGk+PC91bD48L2Rpdj4KICAgICAgICAgICAgICAgICA8L2Rpdj5gLAogICAgICAgICAgICAgICAgeyJzdGlja3kiOiB0cnVlfQogICAgICAgICAgICApOwogICAgICAgIAogICAgCiAgICAgICAgICAgIHZhciBjaXJjbGVfZWQ2NTFhMzAxM2M0NDY1Njk3ODc0YzBmNTY5YmM5ZTAgPSBMLmNpcmNsZSgKICAgICAgICAgICAgICAgIFstMjkuNjEsIDI4LjIzMzZdLAogICAgICAgICAgICAgICAgeyJidWJibGluZ01vdXNlRXZlbnRzIjogdHJ1ZSwgImNvbG9yIjogImNyaW1zb24iLCAiZGFzaEFycmF5IjogbnVsbCwgImRhc2hPZmZzZXQiOiBudWxsLCAiZmlsbCI6IHRydWUsICJmaWxsQ29sb3IiOiAiY3JpbXNvbiIsICJmaWxsT3BhY2l0eSI6IDAuMiwgImZpbGxSdWxlIjogImV2ZW5vZGQiLCAibGluZUNhcCI6ICJyb3VuZCIsICJsaW5lSm9pbiI6ICJyb3VuZCIsICJvcGFjaXR5IjogMS4wLCAicmFkaXVzIjogMjYwMDAwLjAsICJzdHJva2UiOiB0cnVlLCAid2VpZ2h0IjogM30KICAgICAgICAgICAgKS5hZGRUbyhtYXBfNTc1ZmFmMTIxNmNmNGE0YThlZTJhMzI4OTgzMGE5ZjYpOwogICAgICAgIAogICAgCiAgICAgICAgICAgIGNpcmNsZV9lZDY1MWEzMDEzYzQ0NjU2OTc4NzRjMGY1NjliYzllMC5iaW5kVG9vbHRpcCgKICAgICAgICAgICAgICAgIGA8ZGl2PgogICAgICAgICAgICAgICAgICAgICA8ZGl2IHN0eWxlPSdtYXJnaW46MDsgYmFja2dyb3VuZC1jb2xvcjogZmlyZWJyaWNrOyBjb2xvcjogd2hpdGU7Jz48aDQgc3R5bGU9J3RleHQtYWxpZ246Y2VudGVyOyBmb250LXdlaWdodDogYm9sZCc+TGVzb3RobzwvaDQ+PGhyIHN0eWxlPSdtYXJnaW46MTBweDsgY29sb3I6IHdoaXRlOyc+PHVsIHN0eWxlPSdjb2xvcjogd2hpdGU7O2xpc3Qtc3R5bGUtdHlwZTogY2lyY2xlOyBhbGlnbi1pdGVtOiBsZWZ0OyBwYWRkaW5nLWxlZnQ6IDIwcHg7IHBhZGRpbmctcmlnaHQ6MjBweCc+PGxpPlRvdGFsIGNhc2VzOiAzNTk8L2xpPjxsaT5EZWF0aHM6IDY8L2xpPjxsaT5EZWF0aCByYXRlIDogMS42NyUgPC9saT48L3VsPjwvZGl2PgogICAgICAgICAgICAgICAgIDwvZGl2PmAsCiAgICAgICAgICAgICAgICB7InN0aWNreSI6IHRydWV9CiAgICAgICAgICAgICk7CiAgICAgICAgCjwvc2NyaXB0Pg== onload=\"this.contentDocument.open();this.contentDocument.write(atob(this.getAttribute('data-html')));this.contentDocument.close();\" allowfullscreen webkitallowfullscreen mozallowfullscreen></iframe></div></div>"
      ],
      "text/plain": [
       "<folium.folium.Map at 0x2a4bb2427f0>"
      ]
     },
     "execution_count": 19,
     "metadata": {},
     "output_type": "execute_result"
    }
   ],
   "source": [
    "world_map = folium.Map(location=[11,0], tiles='cartodbpositron', zoom_start=2, max_zoom=6, min_zoom=2)\n",
    "\n",
    "for i in range(len(df_cases)):\n",
    "    folium.Circle(location=[df_cases.iloc[i]['lat'], df_cases.iloc[i]['long']],\n",
    "    fill=True,\n",
    "    radius=(int((np.log(df_cases.iloc[i,-1]+1.00001)))+0.2)*50000,\n",
    "    fill_color='crimson',\n",
    "    color='crimson',\n",
    "    tooltip = \"<div style='margin:0; background-color: firebrick; color: white;'>\" +\n",
    "                  \"<h4 style='text-align:center; font-weight: bold'>\" + df_cases.iloc[i]['country'] + \"</h4>\"\n",
    "                  \"<hr style='margin:10px; color: white;'>\" +\n",
    "                  \"<ul style='color: white;;list-style-type: circle; align-item: left; padding-left: 20px; padding-right:20px'>\" +\n",
    "                      \"<li>Total cases: \" + str(df_cases.iloc[i,-1]) + \"</li>\" +\n",
    "                      \"<li>Deaths: \" + str(df_deaths.iloc[i,-1]) + \"</li>\" +\n",
    "                      \"<li>Death rate : \" + str(np.round(df_deaths.iloc[i,-1]/(df_cases.iloc[i,-1]+1.00001)*100,2)) + \"% </li>\" +\n",
    "                      \"</ul></div>\",\n",
    "    ).add_to(world_map)\n",
    "    \n",
    "world_map"
   ]
  },
  {
   "cell_type": "markdown",
   "metadata": {},
   "source": [
    "* *Some countries may appear in the map separated by regions or provinces*\n",
    "\n"
   ]
  },
  {
   "cell_type": "code",
   "execution_count": 20,
   "metadata": {},
   "outputs": [
    {
     "data": {
      "application/vnd.plotly.v1+json": {
       "config": {
        "plotlyServerURL": "https://plot.ly"
       },
       "data": [
        {
         "alignmentgroup": "True",
         "hoverlabel": {
          "namelength": 0
         },
         "hovertemplate": "country=Papua New Guinea<br>Country=%{x}<br>% increase=%{y}",
         "legendgroup": "Papua New Guinea",
         "marker": {
          "color": "#636efa"
         },
         "name": "Papua New Guinea",
         "offsetgroup": "Papua New Guinea",
         "orientation": "v",
         "showlegend": true,
         "textposition": "auto",
         "type": "bar",
         "x": [
          "Papua New Guinea"
         ],
         "xaxis": "x",
         "y": [
          172.73
         ],
         "yaxis": "y"
        },
        {
         "alignmentgroup": "True",
         "hoverlabel": {
          "namelength": 0
         },
         "hovertemplate": "country=Kyrgyzstan<br>Country=%{x}<br>% increase=%{y}",
         "legendgroup": "Kyrgyzstan",
         "marker": {
          "color": "#EF553B"
         },
         "name": "Kyrgyzstan",
         "offsetgroup": "Kyrgyzstan",
         "orientation": "v",
         "showlegend": true,
         "textposition": "auto",
         "type": "bar",
         "x": [
          "Kyrgyzstan"
         ],
         "xaxis": "x",
         "y": [
          135.96
         ],
         "yaxis": "y"
        },
        {
         "alignmentgroup": "True",
         "hoverlabel": {
          "namelength": 0
         },
         "hovertemplate": "country=Gambia<br>Country=%{x}<br>% increase=%{y}",
         "legendgroup": "Gambia",
         "marker": {
          "color": "#00cc96"
         },
         "name": "Gambia",
         "offsetgroup": "Gambia",
         "orientation": "v",
         "showlegend": true,
         "textposition": "auto",
         "type": "bar",
         "x": [
          "Gambia"
         ],
         "xaxis": "x",
         "y": [
          128.12
         ],
         "yaxis": "y"
        },
        {
         "alignmentgroup": "True",
         "hoverlabel": {
          "namelength": 0
         },
         "hovertemplate": "country=Montenegro<br>Country=%{x}<br>% increase=%{y}",
         "legendgroup": "Montenegro",
         "marker": {
          "color": "#ab63fa"
         },
         "name": "Montenegro",
         "offsetgroup": "Montenegro",
         "orientation": "v",
         "showlegend": true,
         "textposition": "auto",
         "type": "bar",
         "x": [
          "Montenegro"
         ],
         "xaxis": "x",
         "y": [
          92.07
         ],
         "yaxis": "y"
        },
        {
         "alignmentgroup": "True",
         "hoverlabel": {
          "namelength": 0
         },
         "hovertemplate": "country=Zambia<br>Country=%{x}<br>% increase=%{y}",
         "legendgroup": "Zambia",
         "marker": {
          "color": "#FFA15A"
         },
         "name": "Zambia",
         "offsetgroup": "Zambia",
         "orientation": "v",
         "showlegend": true,
         "textposition": "auto",
         "type": "bar",
         "x": [
          "Zambia"
         ],
         "xaxis": "x",
         "y": [
          89.08
         ],
         "yaxis": "y"
        },
        {
         "alignmentgroup": "True",
         "hoverlabel": {
          "namelength": 0
         },
         "hovertemplate": "country=Zimbabwe<br>Country=%{x}<br>% increase=%{y}",
         "legendgroup": "Zimbabwe",
         "marker": {
          "color": "#19d3f3"
         },
         "name": "Zimbabwe",
         "offsetgroup": "Zimbabwe",
         "orientation": "v",
         "showlegend": true,
         "textposition": "auto",
         "type": "bar",
         "x": [
          "Zimbabwe"
         ],
         "xaxis": "x",
         "y": [
          86.78
         ],
         "yaxis": "y"
        },
        {
         "alignmentgroup": "True",
         "hoverlabel": {
          "namelength": 0
         },
         "hovertemplate": "country=Bahamas<br>Country=%{x}<br>% increase=%{y}",
         "legendgroup": "Bahamas",
         "marker": {
          "color": "#FF6692"
         },
         "name": "Bahamas",
         "offsetgroup": "Bahamas",
         "orientation": "v",
         "showlegend": true,
         "textposition": "auto",
         "type": "bar",
         "x": [
          "Bahamas"
         ],
         "xaxis": "x",
         "y": [
          84.03
         ],
         "yaxis": "y"
        },
        {
         "alignmentgroup": "True",
         "hoverlabel": {
          "namelength": 0
         },
         "hovertemplate": "country=Saint Vincent and the Grenadines<br>Country=%{x}<br>% increase=%{y}",
         "legendgroup": "Saint Vincent and the Grenadines",
         "marker": {
          "color": "#B6E880"
         },
         "name": "Saint Vincent and the Grenadines",
         "offsetgroup": "Saint Vincent and the Grenadines",
         "orientation": "v",
         "showlegend": true,
         "textposition": "auto",
         "type": "bar",
         "x": [
          "Saint Vincent and the Grenadines"
         ],
         "xaxis": "x",
         "y": [
          48.57
         ],
         "yaxis": "y"
        },
        {
         "alignmentgroup": "True",
         "hoverlabel": {
          "namelength": 0
         },
         "hovertemplate": "country=Namibia<br>Country=%{x}<br>% increase=%{y}",
         "legendgroup": "Namibia",
         "marker": {
          "color": "#FF97FF"
         },
         "name": "Namibia",
         "offsetgroup": "Namibia",
         "orientation": "v",
         "showlegend": true,
         "textposition": "auto",
         "type": "bar",
         "x": [
          "Namibia"
         ],
         "xaxis": "x",
         "y": [
          46.04
         ],
         "yaxis": "y"
        },
        {
         "alignmentgroup": "True",
         "hoverlabel": {
          "namelength": 0
         },
         "hovertemplate": "country=Madagascar<br>Country=%{x}<br>% increase=%{y}",
         "legendgroup": "Madagascar",
         "marker": {
          "color": "#FECB52"
         },
         "name": "Madagascar",
         "offsetgroup": "Madagascar",
         "orientation": "v",
         "showlegend": true,
         "textposition": "auto",
         "type": "bar",
         "x": [
          "Madagascar"
         ],
         "xaxis": "x",
         "y": [
          45.62
         ],
         "yaxis": "y"
        },
        {
         "alignmentgroup": "True",
         "hoverlabel": {
          "namelength": 0
         },
         "hovertemplate": "country=Angola<br>Country=%{x}<br>% increase=%{y}",
         "legendgroup": "Angola",
         "marker": {
          "color": "#636efa"
         },
         "name": "Angola",
         "offsetgroup": "Angola",
         "orientation": "v",
         "showlegend": true,
         "textposition": "auto",
         "type": "bar",
         "x": [
          "Angola"
         ],
         "xaxis": "x",
         "y": [
          40.97
         ],
         "yaxis": "y"
        },
        {
         "alignmentgroup": "True",
         "hoverlabel": {
          "namelength": 0
         },
         "hovertemplate": "country=Ethiopia<br>Country=%{x}<br>% increase=%{y}",
         "legendgroup": "Ethiopia",
         "marker": {
          "color": "#EF553B"
         },
         "name": "Ethiopia",
         "offsetgroup": "Ethiopia",
         "orientation": "v",
         "showlegend": true,
         "textposition": "auto",
         "type": "bar",
         "x": [
          "Ethiopia"
         ],
         "xaxis": "x",
         "y": [
          40.86
         ],
         "yaxis": "y"
        },
        {
         "alignmentgroup": "True",
         "hoverlabel": {
          "namelength": 0
         },
         "hovertemplate": "country=Suriname<br>Country=%{x}<br>% increase=%{y}",
         "legendgroup": "Suriname",
         "marker": {
          "color": "#00cc96"
         },
         "name": "Suriname",
         "offsetgroup": "Suriname",
         "orientation": "v",
         "showlegend": true,
         "textposition": "auto",
         "type": "bar",
         "x": [
          "Suriname"
         ],
         "xaxis": "x",
         "y": [
          40.5
         ],
         "yaxis": "y"
        },
        {
         "alignmentgroup": "True",
         "hoverlabel": {
          "namelength": 0
         },
         "hovertemplate": "country=Lesotho<br>Country=%{x}<br>% increase=%{y}",
         "legendgroup": "Lesotho",
         "marker": {
          "color": "#ab63fa"
         },
         "name": "Lesotho",
         "offsetgroup": "Lesotho",
         "orientation": "v",
         "showlegend": true,
         "textposition": "auto",
         "type": "bar",
         "x": [
          "Lesotho"
         ],
         "xaxis": "x",
         "y": [
          40.23
         ],
         "yaxis": "y"
        },
        {
         "alignmentgroup": "True",
         "hoverlabel": {
          "namelength": 0
         },
         "hovertemplate": "country=Costa Rica<br>Country=%{x}<br>% increase=%{y}",
         "legendgroup": "Costa Rica",
         "marker": {
          "color": "#FFA15A"
         },
         "name": "Costa Rica",
         "offsetgroup": "Costa Rica",
         "orientation": "v",
         "showlegend": true,
         "textposition": "auto",
         "type": "bar",
         "x": [
          "Costa Rica"
         ],
         "xaxis": "x",
         "y": [
          37.56
         ],
         "yaxis": "y"
        }
       ],
       "layout": {
        "barmode": "relative",
        "legend": {
         "title": {
          "text": "country"
         },
         "tracegroupgap": 0
        },
        "template": {
         "data": {
          "bar": [
           {
            "error_x": {
             "color": "#2a3f5f"
            },
            "error_y": {
             "color": "#2a3f5f"
            },
            "marker": {
             "line": {
              "color": "#E5ECF6",
              "width": 0.5
             }
            },
            "type": "bar"
           }
          ],
          "barpolar": [
           {
            "marker": {
             "line": {
              "color": "#E5ECF6",
              "width": 0.5
             }
            },
            "type": "barpolar"
           }
          ],
          "carpet": [
           {
            "aaxis": {
             "endlinecolor": "#2a3f5f",
             "gridcolor": "white",
             "linecolor": "white",
             "minorgridcolor": "white",
             "startlinecolor": "#2a3f5f"
            },
            "baxis": {
             "endlinecolor": "#2a3f5f",
             "gridcolor": "white",
             "linecolor": "white",
             "minorgridcolor": "white",
             "startlinecolor": "#2a3f5f"
            },
            "type": "carpet"
           }
          ],
          "choropleth": [
           {
            "colorbar": {
             "outlinewidth": 0,
             "ticks": ""
            },
            "type": "choropleth"
           }
          ],
          "contour": [
           {
            "colorbar": {
             "outlinewidth": 0,
             "ticks": ""
            },
            "colorscale": [
             [
              0,
              "#0d0887"
             ],
             [
              0.1111111111111111,
              "#46039f"
             ],
             [
              0.2222222222222222,
              "#7201a8"
             ],
             [
              0.3333333333333333,
              "#9c179e"
             ],
             [
              0.4444444444444444,
              "#bd3786"
             ],
             [
              0.5555555555555556,
              "#d8576b"
             ],
             [
              0.6666666666666666,
              "#ed7953"
             ],
             [
              0.7777777777777778,
              "#fb9f3a"
             ],
             [
              0.8888888888888888,
              "#fdca26"
             ],
             [
              1,
              "#f0f921"
             ]
            ],
            "type": "contour"
           }
          ],
          "contourcarpet": [
           {
            "colorbar": {
             "outlinewidth": 0,
             "ticks": ""
            },
            "type": "contourcarpet"
           }
          ],
          "heatmap": [
           {
            "colorbar": {
             "outlinewidth": 0,
             "ticks": ""
            },
            "colorscale": [
             [
              0,
              "#0d0887"
             ],
             [
              0.1111111111111111,
              "#46039f"
             ],
             [
              0.2222222222222222,
              "#7201a8"
             ],
             [
              0.3333333333333333,
              "#9c179e"
             ],
             [
              0.4444444444444444,
              "#bd3786"
             ],
             [
              0.5555555555555556,
              "#d8576b"
             ],
             [
              0.6666666666666666,
              "#ed7953"
             ],
             [
              0.7777777777777778,
              "#fb9f3a"
             ],
             [
              0.8888888888888888,
              "#fdca26"
             ],
             [
              1,
              "#f0f921"
             ]
            ],
            "type": "heatmap"
           }
          ],
          "heatmapgl": [
           {
            "colorbar": {
             "outlinewidth": 0,
             "ticks": ""
            },
            "colorscale": [
             [
              0,
              "#0d0887"
             ],
             [
              0.1111111111111111,
              "#46039f"
             ],
             [
              0.2222222222222222,
              "#7201a8"
             ],
             [
              0.3333333333333333,
              "#9c179e"
             ],
             [
              0.4444444444444444,
              "#bd3786"
             ],
             [
              0.5555555555555556,
              "#d8576b"
             ],
             [
              0.6666666666666666,
              "#ed7953"
             ],
             [
              0.7777777777777778,
              "#fb9f3a"
             ],
             [
              0.8888888888888888,
              "#fdca26"
             ],
             [
              1,
              "#f0f921"
             ]
            ],
            "type": "heatmapgl"
           }
          ],
          "histogram": [
           {
            "marker": {
             "colorbar": {
              "outlinewidth": 0,
              "ticks": ""
             }
            },
            "type": "histogram"
           }
          ],
          "histogram2d": [
           {
            "colorbar": {
             "outlinewidth": 0,
             "ticks": ""
            },
            "colorscale": [
             [
              0,
              "#0d0887"
             ],
             [
              0.1111111111111111,
              "#46039f"
             ],
             [
              0.2222222222222222,
              "#7201a8"
             ],
             [
              0.3333333333333333,
              "#9c179e"
             ],
             [
              0.4444444444444444,
              "#bd3786"
             ],
             [
              0.5555555555555556,
              "#d8576b"
             ],
             [
              0.6666666666666666,
              "#ed7953"
             ],
             [
              0.7777777777777778,
              "#fb9f3a"
             ],
             [
              0.8888888888888888,
              "#fdca26"
             ],
             [
              1,
              "#f0f921"
             ]
            ],
            "type": "histogram2d"
           }
          ],
          "histogram2dcontour": [
           {
            "colorbar": {
             "outlinewidth": 0,
             "ticks": ""
            },
            "colorscale": [
             [
              0,
              "#0d0887"
             ],
             [
              0.1111111111111111,
              "#46039f"
             ],
             [
              0.2222222222222222,
              "#7201a8"
             ],
             [
              0.3333333333333333,
              "#9c179e"
             ],
             [
              0.4444444444444444,
              "#bd3786"
             ],
             [
              0.5555555555555556,
              "#d8576b"
             ],
             [
              0.6666666666666666,
              "#ed7953"
             ],
             [
              0.7777777777777778,
              "#fb9f3a"
             ],
             [
              0.8888888888888888,
              "#fdca26"
             ],
             [
              1,
              "#f0f921"
             ]
            ],
            "type": "histogram2dcontour"
           }
          ],
          "mesh3d": [
           {
            "colorbar": {
             "outlinewidth": 0,
             "ticks": ""
            },
            "type": "mesh3d"
           }
          ],
          "parcoords": [
           {
            "line": {
             "colorbar": {
              "outlinewidth": 0,
              "ticks": ""
             }
            },
            "type": "parcoords"
           }
          ],
          "pie": [
           {
            "automargin": true,
            "type": "pie"
           }
          ],
          "scatter": [
           {
            "marker": {
             "colorbar": {
              "outlinewidth": 0,
              "ticks": ""
             }
            },
            "type": "scatter"
           }
          ],
          "scatter3d": [
           {
            "line": {
             "colorbar": {
              "outlinewidth": 0,
              "ticks": ""
             }
            },
            "marker": {
             "colorbar": {
              "outlinewidth": 0,
              "ticks": ""
             }
            },
            "type": "scatter3d"
           }
          ],
          "scattercarpet": [
           {
            "marker": {
             "colorbar": {
              "outlinewidth": 0,
              "ticks": ""
             }
            },
            "type": "scattercarpet"
           }
          ],
          "scattergeo": [
           {
            "marker": {
             "colorbar": {
              "outlinewidth": 0,
              "ticks": ""
             }
            },
            "type": "scattergeo"
           }
          ],
          "scattergl": [
           {
            "marker": {
             "colorbar": {
              "outlinewidth": 0,
              "ticks": ""
             }
            },
            "type": "scattergl"
           }
          ],
          "scattermapbox": [
           {
            "marker": {
             "colorbar": {
              "outlinewidth": 0,
              "ticks": ""
             }
            },
            "type": "scattermapbox"
           }
          ],
          "scatterpolar": [
           {
            "marker": {
             "colorbar": {
              "outlinewidth": 0,
              "ticks": ""
             }
            },
            "type": "scatterpolar"
           }
          ],
          "scatterpolargl": [
           {
            "marker": {
             "colorbar": {
              "outlinewidth": 0,
              "ticks": ""
             }
            },
            "type": "scatterpolargl"
           }
          ],
          "scatterternary": [
           {
            "marker": {
             "colorbar": {
              "outlinewidth": 0,
              "ticks": ""
             }
            },
            "type": "scatterternary"
           }
          ],
          "surface": [
           {
            "colorbar": {
             "outlinewidth": 0,
             "ticks": ""
            },
            "colorscale": [
             [
              0,
              "#0d0887"
             ],
             [
              0.1111111111111111,
              "#46039f"
             ],
             [
              0.2222222222222222,
              "#7201a8"
             ],
             [
              0.3333333333333333,
              "#9c179e"
             ],
             [
              0.4444444444444444,
              "#bd3786"
             ],
             [
              0.5555555555555556,
              "#d8576b"
             ],
             [
              0.6666666666666666,
              "#ed7953"
             ],
             [
              0.7777777777777778,
              "#fb9f3a"
             ],
             [
              0.8888888888888888,
              "#fdca26"
             ],
             [
              1,
              "#f0f921"
             ]
            ],
            "type": "surface"
           }
          ],
          "table": [
           {
            "cells": {
             "fill": {
              "color": "#EBF0F8"
             },
             "line": {
              "color": "white"
             }
            },
            "header": {
             "fill": {
              "color": "#C8D4E3"
             },
             "line": {
              "color": "white"
             }
            },
            "type": "table"
           }
          ]
         },
         "layout": {
          "annotationdefaults": {
           "arrowcolor": "#2a3f5f",
           "arrowhead": 0,
           "arrowwidth": 1
          },
          "coloraxis": {
           "colorbar": {
            "outlinewidth": 0,
            "ticks": ""
           }
          },
          "colorscale": {
           "diverging": [
            [
             0,
             "#8e0152"
            ],
            [
             0.1,
             "#c51b7d"
            ],
            [
             0.2,
             "#de77ae"
            ],
            [
             0.3,
             "#f1b6da"
            ],
            [
             0.4,
             "#fde0ef"
            ],
            [
             0.5,
             "#f7f7f7"
            ],
            [
             0.6,
             "#e6f5d0"
            ],
            [
             0.7,
             "#b8e186"
            ],
            [
             0.8,
             "#7fbc41"
            ],
            [
             0.9,
             "#4d9221"
            ],
            [
             1,
             "#276419"
            ]
           ],
           "sequential": [
            [
             0,
             "#0d0887"
            ],
            [
             0.1111111111111111,
             "#46039f"
            ],
            [
             0.2222222222222222,
             "#7201a8"
            ],
            [
             0.3333333333333333,
             "#9c179e"
            ],
            [
             0.4444444444444444,
             "#bd3786"
            ],
            [
             0.5555555555555556,
             "#d8576b"
            ],
            [
             0.6666666666666666,
             "#ed7953"
            ],
            [
             0.7777777777777778,
             "#fb9f3a"
            ],
            [
             0.8888888888888888,
             "#fdca26"
            ],
            [
             1,
             "#f0f921"
            ]
           ],
           "sequentialminus": [
            [
             0,
             "#0d0887"
            ],
            [
             0.1111111111111111,
             "#46039f"
            ],
            [
             0.2222222222222222,
             "#7201a8"
            ],
            [
             0.3333333333333333,
             "#9c179e"
            ],
            [
             0.4444444444444444,
             "#bd3786"
            ],
            [
             0.5555555555555556,
             "#d8576b"
            ],
            [
             0.6666666666666666,
             "#ed7953"
            ],
            [
             0.7777777777777778,
             "#fb9f3a"
            ],
            [
             0.8888888888888888,
             "#fdca26"
            ],
            [
             1,
             "#f0f921"
            ]
           ]
          },
          "colorway": [
           "#636efa",
           "#EF553B",
           "#00cc96",
           "#ab63fa",
           "#FFA15A",
           "#19d3f3",
           "#FF6692",
           "#B6E880",
           "#FF97FF",
           "#FECB52"
          ],
          "font": {
           "color": "#2a3f5f"
          },
          "geo": {
           "bgcolor": "white",
           "lakecolor": "white",
           "landcolor": "#E5ECF6",
           "showlakes": true,
           "showland": true,
           "subunitcolor": "white"
          },
          "hoverlabel": {
           "align": "left"
          },
          "hovermode": "closest",
          "mapbox": {
           "style": "light"
          },
          "paper_bgcolor": "white",
          "plot_bgcolor": "#E5ECF6",
          "polar": {
           "angularaxis": {
            "gridcolor": "white",
            "linecolor": "white",
            "ticks": ""
           },
           "bgcolor": "#E5ECF6",
           "radialaxis": {
            "gridcolor": "white",
            "linecolor": "white",
            "ticks": ""
           }
          },
          "scene": {
           "xaxis": {
            "backgroundcolor": "#E5ECF6",
            "gridcolor": "white",
            "gridwidth": 2,
            "linecolor": "white",
            "showbackground": true,
            "ticks": "",
            "zerolinecolor": "white"
           },
           "yaxis": {
            "backgroundcolor": "#E5ECF6",
            "gridcolor": "white",
            "gridwidth": 2,
            "linecolor": "white",
            "showbackground": true,
            "ticks": "",
            "zerolinecolor": "white"
           },
           "zaxis": {
            "backgroundcolor": "#E5ECF6",
            "gridcolor": "white",
            "gridwidth": 2,
            "linecolor": "white",
            "showbackground": true,
            "ticks": "",
            "zerolinecolor": "white"
           }
          },
          "shapedefaults": {
           "line": {
            "color": "#2a3f5f"
           }
          },
          "ternary": {
           "aaxis": {
            "gridcolor": "white",
            "linecolor": "white",
            "ticks": ""
           },
           "baxis": {
            "gridcolor": "white",
            "linecolor": "white",
            "ticks": ""
           },
           "bgcolor": "#E5ECF6",
           "caxis": {
            "gridcolor": "white",
            "linecolor": "white",
            "ticks": ""
           }
          },
          "title": {
           "x": 0.05
          },
          "xaxis": {
           "automargin": true,
           "gridcolor": "white",
           "linecolor": "white",
           "ticks": "",
           "title": {
            "standoff": 15
           },
           "zerolinecolor": "white",
           "zerolinewidth": 2
          },
          "yaxis": {
           "automargin": true,
           "gridcolor": "white",
           "linecolor": "white",
           "ticks": "",
           "title": {
            "standoff": 15
           },
           "zerolinecolor": "white",
           "zerolinewidth": 2
          }
         }
        },
        "title": {
         "text": "Higher 1 week % increase"
        },
        "xaxis": {
         "anchor": "y",
         "domain": [
          0,
          1
         ],
         "title": {
          "text": "Country"
         }
        },
        "yaxis": {
         "anchor": "x",
         "domain": [
          0,
          1
         ],
         "title": {
          "text": "% increase"
         }
        }
       }
      },
      "text/html": [
       "<div>\n",
       "        \n",
       "        \n",
       "            <div id=\"74ba203f-01ca-46e7-9c01-10b48c6d0a91\" class=\"plotly-graph-div\" style=\"height:525px; width:100%;\"></div>\n",
       "            <script type=\"text/javascript\">\n",
       "                require([\"plotly\"], function(Plotly) {\n",
       "                    window.PLOTLYENV=window.PLOTLYENV || {};\n",
       "                    \n",
       "                if (document.getElementById(\"74ba203f-01ca-46e7-9c01-10b48c6d0a91\")) {\n",
       "                    Plotly.newPlot(\n",
       "                        '74ba203f-01ca-46e7-9c01-10b48c6d0a91',\n",
       "                        [{\"alignmentgroup\": \"True\", \"hoverlabel\": {\"namelength\": 0}, \"hovertemplate\": \"country=Papua New Guinea<br>Country=%{x}<br>% increase=%{y}\", \"legendgroup\": \"Papua New Guinea\", \"marker\": {\"color\": \"#636efa\"}, \"name\": \"Papua New Guinea\", \"offsetgroup\": \"Papua New Guinea\", \"orientation\": \"v\", \"showlegend\": true, \"textposition\": \"auto\", \"type\": \"bar\", \"x\": [\"Papua New Guinea\"], \"xaxis\": \"x\", \"y\": [172.73], \"yaxis\": \"y\"}, {\"alignmentgroup\": \"True\", \"hoverlabel\": {\"namelength\": 0}, \"hovertemplate\": \"country=Kyrgyzstan<br>Country=%{x}<br>% increase=%{y}\", \"legendgroup\": \"Kyrgyzstan\", \"marker\": {\"color\": \"#EF553B\"}, \"name\": \"Kyrgyzstan\", \"offsetgroup\": \"Kyrgyzstan\", \"orientation\": \"v\", \"showlegend\": true, \"textposition\": \"auto\", \"type\": \"bar\", \"x\": [\"Kyrgyzstan\"], \"xaxis\": \"x\", \"y\": [135.96], \"yaxis\": \"y\"}, {\"alignmentgroup\": \"True\", \"hoverlabel\": {\"namelength\": 0}, \"hovertemplate\": \"country=Gambia<br>Country=%{x}<br>% increase=%{y}\", \"legendgroup\": \"Gambia\", \"marker\": {\"color\": \"#00cc96\"}, \"name\": \"Gambia\", \"offsetgroup\": \"Gambia\", \"orientation\": \"v\", \"showlegend\": true, \"textposition\": \"auto\", \"type\": \"bar\", \"x\": [\"Gambia\"], \"xaxis\": \"x\", \"y\": [128.12], \"yaxis\": \"y\"}, {\"alignmentgroup\": \"True\", \"hoverlabel\": {\"namelength\": 0}, \"hovertemplate\": \"country=Montenegro<br>Country=%{x}<br>% increase=%{y}\", \"legendgroup\": \"Montenegro\", \"marker\": {\"color\": \"#ab63fa\"}, \"name\": \"Montenegro\", \"offsetgroup\": \"Montenegro\", \"orientation\": \"v\", \"showlegend\": true, \"textposition\": \"auto\", \"type\": \"bar\", \"x\": [\"Montenegro\"], \"xaxis\": \"x\", \"y\": [92.07], \"yaxis\": \"y\"}, {\"alignmentgroup\": \"True\", \"hoverlabel\": {\"namelength\": 0}, \"hovertemplate\": \"country=Zambia<br>Country=%{x}<br>% increase=%{y}\", \"legendgroup\": \"Zambia\", \"marker\": {\"color\": \"#FFA15A\"}, \"name\": \"Zambia\", \"offsetgroup\": \"Zambia\", \"orientation\": \"v\", \"showlegend\": true, \"textposition\": \"auto\", \"type\": \"bar\", \"x\": [\"Zambia\"], \"xaxis\": \"x\", \"y\": [89.08], \"yaxis\": \"y\"}, {\"alignmentgroup\": \"True\", \"hoverlabel\": {\"namelength\": 0}, \"hovertemplate\": \"country=Zimbabwe<br>Country=%{x}<br>% increase=%{y}\", \"legendgroup\": \"Zimbabwe\", \"marker\": {\"color\": \"#19d3f3\"}, \"name\": \"Zimbabwe\", \"offsetgroup\": \"Zimbabwe\", \"orientation\": \"v\", \"showlegend\": true, \"textposition\": \"auto\", \"type\": \"bar\", \"x\": [\"Zimbabwe\"], \"xaxis\": \"x\", \"y\": [86.78], \"yaxis\": \"y\"}, {\"alignmentgroup\": \"True\", \"hoverlabel\": {\"namelength\": 0}, \"hovertemplate\": \"country=Bahamas<br>Country=%{x}<br>% increase=%{y}\", \"legendgroup\": \"Bahamas\", \"marker\": {\"color\": \"#FF6692\"}, \"name\": \"Bahamas\", \"offsetgroup\": \"Bahamas\", \"orientation\": \"v\", \"showlegend\": true, \"textposition\": \"auto\", \"type\": \"bar\", \"x\": [\"Bahamas\"], \"xaxis\": \"x\", \"y\": [84.03], \"yaxis\": \"y\"}, {\"alignmentgroup\": \"True\", \"hoverlabel\": {\"namelength\": 0}, \"hovertemplate\": \"country=Saint Vincent and the Grenadines<br>Country=%{x}<br>% increase=%{y}\", \"legendgroup\": \"Saint Vincent and the Grenadines\", \"marker\": {\"color\": \"#B6E880\"}, \"name\": \"Saint Vincent and the Grenadines\", \"offsetgroup\": \"Saint Vincent and the Grenadines\", \"orientation\": \"v\", \"showlegend\": true, \"textposition\": \"auto\", \"type\": \"bar\", \"x\": [\"Saint Vincent and the Grenadines\"], \"xaxis\": \"x\", \"y\": [48.57], \"yaxis\": \"y\"}, {\"alignmentgroup\": \"True\", \"hoverlabel\": {\"namelength\": 0}, \"hovertemplate\": \"country=Namibia<br>Country=%{x}<br>% increase=%{y}\", \"legendgroup\": \"Namibia\", \"marker\": {\"color\": \"#FF97FF\"}, \"name\": \"Namibia\", \"offsetgroup\": \"Namibia\", \"orientation\": \"v\", \"showlegend\": true, \"textposition\": \"auto\", \"type\": \"bar\", \"x\": [\"Namibia\"], \"xaxis\": \"x\", \"y\": [46.04], \"yaxis\": \"y\"}, {\"alignmentgroup\": \"True\", \"hoverlabel\": {\"namelength\": 0}, \"hovertemplate\": \"country=Madagascar<br>Country=%{x}<br>% increase=%{y}\", \"legendgroup\": \"Madagascar\", \"marker\": {\"color\": \"#FECB52\"}, \"name\": \"Madagascar\", \"offsetgroup\": \"Madagascar\", \"orientation\": \"v\", \"showlegend\": true, \"textposition\": \"auto\", \"type\": \"bar\", \"x\": [\"Madagascar\"], \"xaxis\": \"x\", \"y\": [45.62], \"yaxis\": \"y\"}, {\"alignmentgroup\": \"True\", \"hoverlabel\": {\"namelength\": 0}, \"hovertemplate\": \"country=Angola<br>Country=%{x}<br>% increase=%{y}\", \"legendgroup\": \"Angola\", \"marker\": {\"color\": \"#636efa\"}, \"name\": \"Angola\", \"offsetgroup\": \"Angola\", \"orientation\": \"v\", \"showlegend\": true, \"textposition\": \"auto\", \"type\": \"bar\", \"x\": [\"Angola\"], \"xaxis\": \"x\", \"y\": [40.97], \"yaxis\": \"y\"}, {\"alignmentgroup\": \"True\", \"hoverlabel\": {\"namelength\": 0}, \"hovertemplate\": \"country=Ethiopia<br>Country=%{x}<br>% increase=%{y}\", \"legendgroup\": \"Ethiopia\", \"marker\": {\"color\": \"#EF553B\"}, \"name\": \"Ethiopia\", \"offsetgroup\": \"Ethiopia\", \"orientation\": \"v\", \"showlegend\": true, \"textposition\": \"auto\", \"type\": \"bar\", \"x\": [\"Ethiopia\"], \"xaxis\": \"x\", \"y\": [40.86], \"yaxis\": \"y\"}, {\"alignmentgroup\": \"True\", \"hoverlabel\": {\"namelength\": 0}, \"hovertemplate\": \"country=Suriname<br>Country=%{x}<br>% increase=%{y}\", \"legendgroup\": \"Suriname\", \"marker\": {\"color\": \"#00cc96\"}, \"name\": \"Suriname\", \"offsetgroup\": \"Suriname\", \"orientation\": \"v\", \"showlegend\": true, \"textposition\": \"auto\", \"type\": \"bar\", \"x\": [\"Suriname\"], \"xaxis\": \"x\", \"y\": [40.5], \"yaxis\": \"y\"}, {\"alignmentgroup\": \"True\", \"hoverlabel\": {\"namelength\": 0}, \"hovertemplate\": \"country=Lesotho<br>Country=%{x}<br>% increase=%{y}\", \"legendgroup\": \"Lesotho\", \"marker\": {\"color\": \"#ab63fa\"}, \"name\": \"Lesotho\", \"offsetgroup\": \"Lesotho\", \"orientation\": \"v\", \"showlegend\": true, \"textposition\": \"auto\", \"type\": \"bar\", \"x\": [\"Lesotho\"], \"xaxis\": \"x\", \"y\": [40.23], \"yaxis\": \"y\"}, {\"alignmentgroup\": \"True\", \"hoverlabel\": {\"namelength\": 0}, \"hovertemplate\": \"country=Costa Rica<br>Country=%{x}<br>% increase=%{y}\", \"legendgroup\": \"Costa Rica\", \"marker\": {\"color\": \"#FFA15A\"}, \"name\": \"Costa Rica\", \"offsetgroup\": \"Costa Rica\", \"orientation\": \"v\", \"showlegend\": true, \"textposition\": \"auto\", \"type\": \"bar\", \"x\": [\"Costa Rica\"], \"xaxis\": \"x\", \"y\": [37.56], \"yaxis\": \"y\"}],\n",
       "                        {\"barmode\": \"relative\", \"legend\": {\"title\": {\"text\": \"country\"}, \"tracegroupgap\": 0}, \"template\": {\"data\": {\"bar\": [{\"error_x\": {\"color\": \"#2a3f5f\"}, \"error_y\": {\"color\": \"#2a3f5f\"}, \"marker\": {\"line\": {\"color\": \"#E5ECF6\", \"width\": 0.5}}, \"type\": \"bar\"}], \"barpolar\": [{\"marker\": {\"line\": {\"color\": \"#E5ECF6\", \"width\": 0.5}}, \"type\": \"barpolar\"}], \"carpet\": [{\"aaxis\": {\"endlinecolor\": \"#2a3f5f\", \"gridcolor\": \"white\", \"linecolor\": \"white\", \"minorgridcolor\": \"white\", \"startlinecolor\": \"#2a3f5f\"}, \"baxis\": {\"endlinecolor\": \"#2a3f5f\", \"gridcolor\": \"white\", \"linecolor\": \"white\", \"minorgridcolor\": \"white\", \"startlinecolor\": \"#2a3f5f\"}, \"type\": \"carpet\"}], \"choropleth\": [{\"colorbar\": {\"outlinewidth\": 0, \"ticks\": \"\"}, \"type\": \"choropleth\"}], \"contour\": [{\"colorbar\": {\"outlinewidth\": 0, \"ticks\": \"\"}, \"colorscale\": [[0.0, \"#0d0887\"], [0.1111111111111111, \"#46039f\"], [0.2222222222222222, \"#7201a8\"], [0.3333333333333333, \"#9c179e\"], [0.4444444444444444, \"#bd3786\"], [0.5555555555555556, \"#d8576b\"], [0.6666666666666666, \"#ed7953\"], [0.7777777777777778, \"#fb9f3a\"], [0.8888888888888888, \"#fdca26\"], [1.0, \"#f0f921\"]], \"type\": \"contour\"}], \"contourcarpet\": [{\"colorbar\": {\"outlinewidth\": 0, \"ticks\": \"\"}, \"type\": \"contourcarpet\"}], \"heatmap\": [{\"colorbar\": {\"outlinewidth\": 0, \"ticks\": \"\"}, \"colorscale\": [[0.0, \"#0d0887\"], [0.1111111111111111, \"#46039f\"], [0.2222222222222222, \"#7201a8\"], [0.3333333333333333, \"#9c179e\"], [0.4444444444444444, \"#bd3786\"], [0.5555555555555556, \"#d8576b\"], [0.6666666666666666, \"#ed7953\"], [0.7777777777777778, \"#fb9f3a\"], [0.8888888888888888, \"#fdca26\"], [1.0, \"#f0f921\"]], \"type\": \"heatmap\"}], \"heatmapgl\": [{\"colorbar\": {\"outlinewidth\": 0, \"ticks\": \"\"}, \"colorscale\": [[0.0, \"#0d0887\"], [0.1111111111111111, \"#46039f\"], [0.2222222222222222, \"#7201a8\"], [0.3333333333333333, \"#9c179e\"], [0.4444444444444444, \"#bd3786\"], [0.5555555555555556, \"#d8576b\"], [0.6666666666666666, \"#ed7953\"], [0.7777777777777778, \"#fb9f3a\"], [0.8888888888888888, \"#fdca26\"], [1.0, \"#f0f921\"]], \"type\": \"heatmapgl\"}], \"histogram\": [{\"marker\": {\"colorbar\": {\"outlinewidth\": 0, \"ticks\": \"\"}}, \"type\": \"histogram\"}], \"histogram2d\": [{\"colorbar\": {\"outlinewidth\": 0, \"ticks\": \"\"}, \"colorscale\": [[0.0, \"#0d0887\"], [0.1111111111111111, \"#46039f\"], [0.2222222222222222, \"#7201a8\"], [0.3333333333333333, \"#9c179e\"], [0.4444444444444444, \"#bd3786\"], [0.5555555555555556, \"#d8576b\"], [0.6666666666666666, \"#ed7953\"], [0.7777777777777778, \"#fb9f3a\"], [0.8888888888888888, \"#fdca26\"], [1.0, \"#f0f921\"]], \"type\": \"histogram2d\"}], \"histogram2dcontour\": [{\"colorbar\": {\"outlinewidth\": 0, \"ticks\": \"\"}, \"colorscale\": [[0.0, \"#0d0887\"], [0.1111111111111111, \"#46039f\"], [0.2222222222222222, \"#7201a8\"], [0.3333333333333333, \"#9c179e\"], [0.4444444444444444, \"#bd3786\"], [0.5555555555555556, \"#d8576b\"], [0.6666666666666666, \"#ed7953\"], [0.7777777777777778, \"#fb9f3a\"], [0.8888888888888888, \"#fdca26\"], [1.0, \"#f0f921\"]], \"type\": \"histogram2dcontour\"}], \"mesh3d\": [{\"colorbar\": {\"outlinewidth\": 0, \"ticks\": \"\"}, \"type\": \"mesh3d\"}], \"parcoords\": [{\"line\": {\"colorbar\": {\"outlinewidth\": 0, \"ticks\": \"\"}}, \"type\": \"parcoords\"}], \"pie\": [{\"automargin\": true, \"type\": \"pie\"}], \"scatter\": [{\"marker\": {\"colorbar\": {\"outlinewidth\": 0, \"ticks\": \"\"}}, \"type\": \"scatter\"}], \"scatter3d\": [{\"line\": {\"colorbar\": {\"outlinewidth\": 0, \"ticks\": \"\"}}, \"marker\": {\"colorbar\": {\"outlinewidth\": 0, \"ticks\": \"\"}}, \"type\": \"scatter3d\"}], \"scattercarpet\": [{\"marker\": {\"colorbar\": {\"outlinewidth\": 0, \"ticks\": \"\"}}, \"type\": \"scattercarpet\"}], \"scattergeo\": [{\"marker\": {\"colorbar\": {\"outlinewidth\": 0, \"ticks\": \"\"}}, \"type\": \"scattergeo\"}], \"scattergl\": [{\"marker\": {\"colorbar\": {\"outlinewidth\": 0, \"ticks\": \"\"}}, \"type\": \"scattergl\"}], \"scattermapbox\": [{\"marker\": {\"colorbar\": {\"outlinewidth\": 0, \"ticks\": \"\"}}, \"type\": \"scattermapbox\"}], \"scatterpolar\": [{\"marker\": {\"colorbar\": {\"outlinewidth\": 0, \"ticks\": \"\"}}, \"type\": \"scatterpolar\"}], \"scatterpolargl\": [{\"marker\": {\"colorbar\": {\"outlinewidth\": 0, \"ticks\": \"\"}}, \"type\": \"scatterpolargl\"}], \"scatterternary\": [{\"marker\": {\"colorbar\": {\"outlinewidth\": 0, \"ticks\": \"\"}}, \"type\": \"scatterternary\"}], \"surface\": [{\"colorbar\": {\"outlinewidth\": 0, \"ticks\": \"\"}, \"colorscale\": [[0.0, \"#0d0887\"], [0.1111111111111111, \"#46039f\"], [0.2222222222222222, \"#7201a8\"], [0.3333333333333333, \"#9c179e\"], [0.4444444444444444, \"#bd3786\"], [0.5555555555555556, \"#d8576b\"], [0.6666666666666666, \"#ed7953\"], [0.7777777777777778, \"#fb9f3a\"], [0.8888888888888888, \"#fdca26\"], [1.0, \"#f0f921\"]], \"type\": \"surface\"}], \"table\": [{\"cells\": {\"fill\": {\"color\": \"#EBF0F8\"}, \"line\": {\"color\": \"white\"}}, \"header\": {\"fill\": {\"color\": \"#C8D4E3\"}, \"line\": {\"color\": \"white\"}}, \"type\": \"table\"}]}, \"layout\": {\"annotationdefaults\": {\"arrowcolor\": \"#2a3f5f\", \"arrowhead\": 0, \"arrowwidth\": 1}, \"coloraxis\": {\"colorbar\": {\"outlinewidth\": 0, \"ticks\": \"\"}}, \"colorscale\": {\"diverging\": [[0, \"#8e0152\"], [0.1, \"#c51b7d\"], [0.2, \"#de77ae\"], [0.3, \"#f1b6da\"], [0.4, \"#fde0ef\"], [0.5, \"#f7f7f7\"], [0.6, \"#e6f5d0\"], [0.7, \"#b8e186\"], [0.8, \"#7fbc41\"], [0.9, \"#4d9221\"], [1, \"#276419\"]], \"sequential\": [[0.0, \"#0d0887\"], [0.1111111111111111, \"#46039f\"], [0.2222222222222222, \"#7201a8\"], [0.3333333333333333, \"#9c179e\"], [0.4444444444444444, \"#bd3786\"], [0.5555555555555556, \"#d8576b\"], [0.6666666666666666, \"#ed7953\"], [0.7777777777777778, \"#fb9f3a\"], [0.8888888888888888, \"#fdca26\"], [1.0, \"#f0f921\"]], \"sequentialminus\": [[0.0, \"#0d0887\"], [0.1111111111111111, \"#46039f\"], [0.2222222222222222, \"#7201a8\"], [0.3333333333333333, \"#9c179e\"], [0.4444444444444444, \"#bd3786\"], [0.5555555555555556, \"#d8576b\"], [0.6666666666666666, \"#ed7953\"], [0.7777777777777778, \"#fb9f3a\"], [0.8888888888888888, \"#fdca26\"], [1.0, \"#f0f921\"]]}, \"colorway\": [\"#636efa\", \"#EF553B\", \"#00cc96\", \"#ab63fa\", \"#FFA15A\", \"#19d3f3\", \"#FF6692\", \"#B6E880\", \"#FF97FF\", \"#FECB52\"], \"font\": {\"color\": \"#2a3f5f\"}, \"geo\": {\"bgcolor\": \"white\", \"lakecolor\": \"white\", \"landcolor\": \"#E5ECF6\", \"showlakes\": true, \"showland\": true, \"subunitcolor\": \"white\"}, \"hoverlabel\": {\"align\": \"left\"}, \"hovermode\": \"closest\", \"mapbox\": {\"style\": \"light\"}, \"paper_bgcolor\": \"white\", \"plot_bgcolor\": \"#E5ECF6\", \"polar\": {\"angularaxis\": {\"gridcolor\": \"white\", \"linecolor\": \"white\", \"ticks\": \"\"}, \"bgcolor\": \"#E5ECF6\", \"radialaxis\": {\"gridcolor\": \"white\", \"linecolor\": \"white\", \"ticks\": \"\"}}, \"scene\": {\"xaxis\": {\"backgroundcolor\": \"#E5ECF6\", \"gridcolor\": \"white\", \"gridwidth\": 2, \"linecolor\": \"white\", \"showbackground\": true, \"ticks\": \"\", \"zerolinecolor\": \"white\"}, \"yaxis\": {\"backgroundcolor\": \"#E5ECF6\", \"gridcolor\": \"white\", \"gridwidth\": 2, \"linecolor\": \"white\", \"showbackground\": true, \"ticks\": \"\", \"zerolinecolor\": \"white\"}, \"zaxis\": {\"backgroundcolor\": \"#E5ECF6\", \"gridcolor\": \"white\", \"gridwidth\": 2, \"linecolor\": \"white\", \"showbackground\": true, \"ticks\": \"\", \"zerolinecolor\": \"white\"}}, \"shapedefaults\": {\"line\": {\"color\": \"#2a3f5f\"}}, \"ternary\": {\"aaxis\": {\"gridcolor\": \"white\", \"linecolor\": \"white\", \"ticks\": \"\"}, \"baxis\": {\"gridcolor\": \"white\", \"linecolor\": \"white\", \"ticks\": \"\"}, \"bgcolor\": \"#E5ECF6\", \"caxis\": {\"gridcolor\": \"white\", \"linecolor\": \"white\", \"ticks\": \"\"}}, \"title\": {\"x\": 0.05}, \"xaxis\": {\"automargin\": true, \"gridcolor\": \"white\", \"linecolor\": \"white\", \"ticks\": \"\", \"title\": {\"standoff\": 15}, \"zerolinecolor\": \"white\", \"zerolinewidth\": 2}, \"yaxis\": {\"automargin\": true, \"gridcolor\": \"white\", \"linecolor\": \"white\", \"ticks\": \"\", \"title\": {\"standoff\": 15}, \"zerolinecolor\": \"white\", \"zerolinewidth\": 2}}}, \"title\": {\"text\": \"Higher 1 week % increase\"}, \"xaxis\": {\"anchor\": \"y\", \"domain\": [0.0, 1.0], \"title\": {\"text\": \"Country\"}}, \"yaxis\": {\"anchor\": \"x\", \"domain\": [0.0, 1.0], \"title\": {\"text\": \"% increase\"}}},\n",
       "                        {\"responsive\": true}\n",
       "                    ).then(function(){\n",
       "                            \n",
       "var gd = document.getElementById('74ba203f-01ca-46e7-9c01-10b48c6d0a91');\n",
       "var x = new MutationObserver(function (mutations, observer) {{\n",
       "        var display = window.getComputedStyle(gd).display;\n",
       "        if (!display || display === 'none') {{\n",
       "            console.log([gd, 'removed!']);\n",
       "            Plotly.purge(gd);\n",
       "            observer.disconnect();\n",
       "        }}\n",
       "}});\n",
       "\n",
       "// Listen for the removal of the full notebook cells\n",
       "var notebookContainer = gd.closest('#notebook-container');\n",
       "if (notebookContainer) {{\n",
       "    x.observe(notebookContainer, {childList: true});\n",
       "}}\n",
       "\n",
       "// Listen for the clearing of the current output cell\n",
       "var outputEl = gd.closest('.output');\n",
       "if (outputEl) {{\n",
       "    x.observe(outputEl, {childList: true});\n",
       "}}\n",
       "\n",
       "                        })\n",
       "                };\n",
       "                });\n",
       "            </script>\n",
       "        </div>"
      ]
     },
     "metadata": {},
     "output_type": "display_data"
    }
   ],
   "source": [
    "df_general_sorted = df_general.sort_values('1 week % increase', ascending=False)\n",
    "\n",
    "fig = px.bar(df_general_sorted, x=df_general_sorted['country'][:15], y=df_general_sorted['1 week % increase'][:15], title='Higher 1 week % increase', color=df_general_sorted['country'][:15],\n",
    "             labels={'x': 'Country', 'y': '% increase', 'color': 'country'})\n",
    "fig.show()"
   ]
  },
  {
   "cell_type": "markdown",
   "metadata": {},
   "source": [
    "<h2><center>Protect yourself and others from COVID-19</center></h2>\n",
    "\n",
    "- Stay home as much as possible and avoid close contact with others.\n",
    "- Wear a cloth face covering that covers your nose and mouth in public settings.\n",
    "- Clean and disinfect frequently touched surfaces\n",
    "- Wash your hands often with soap and water for at least 20 seconds, or use an alcohol-based hand sanitizer that contains at least 60% alcohol."
   ]
  },
  {
   "cell_type": "markdown",
   "metadata": {},
   "source": [
    "![](https://i.insider.com/5ef254c02618b9277d20f904?width=700&format=jpeg)"
   ]
  },
  {
   "cell_type": "markdown",
   "metadata": {},
   "source": [
    "<h2><center>Know your risk for severe illness</center></h2>\n",
    "\n",
    "<p><center>Everyone is at risk ofgetting COVID-19. Older adults and people of any age who have serious underlying medical conditions may be at higher risk for more severe illness.</center></p>\n",
    "\n",
    "- Stay home always you can, except to get medical care.\n",
    "- Avoid public transportation, ride-sharing, or taxis.\n",
    "- If you need medical attention, call ahead."
   ]
  },
  {
   "cell_type": "markdown",
   "metadata": {},
   "source": [
    "### For more information:\n",
    "\n",
    "> Go to: [World Health Organization - Coronavirus disease (COVID-19) pandemic](https://www.who.int/emergencies/diseases/novel-coronavirus-2019)\n",
    "\n",
    "> LinkedIn: [Jose Henrique Roveda](https://www.linkedin.com/in/jhroveda/)"
   ]
  }
 ],
 "metadata": {
  "kernelspec": {
   "display_name": "Python 3",
   "language": "python",
   "name": "python3"
  },
  "language_info": {
   "codemirror_mode": {
    "name": "ipython",
    "version": 3
   },
   "file_extension": ".py",
   "mimetype": "text/x-python",
   "name": "python",
   "nbconvert_exporter": "python",
   "pygments_lexer": "ipython3",
   "version": "3.7.1"
  }
 },
 "nbformat": 4,
 "nbformat_minor": 4
}
